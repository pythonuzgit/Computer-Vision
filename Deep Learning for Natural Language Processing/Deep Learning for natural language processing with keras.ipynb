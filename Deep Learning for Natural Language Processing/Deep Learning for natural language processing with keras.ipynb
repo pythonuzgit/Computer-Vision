{
 "cells": [
  {
   "cell_type": "code",
   "execution_count": null,
   "metadata": {},
   "outputs": [],
   "source": []
  },
  {
   "cell_type": "markdown",
   "metadata": {},
   "source": [
    "Importing the required packages"
   ]
  },
  {
   "cell_type": "code",
   "execution_count": 2,
   "metadata": {},
   "outputs": [],
   "source": [
    "import numpy as np\n",
    "import pandas as pd"
   ]
  },
  {
   "cell_type": "markdown",
   "metadata": {},
   "source": [
    "Import the data"
   ]
  },
  {
   "cell_type": "code",
   "execution_count": 3,
   "metadata": {},
   "outputs": [
    {
     "data": {
      "text/html": [
       "<div>\n",
       "<style scoped>\n",
       "    .dataframe tbody tr th:only-of-type {\n",
       "        vertical-align: middle;\n",
       "    }\n",
       "\n",
       "    .dataframe tbody tr th {\n",
       "        vertical-align: top;\n",
       "    }\n",
       "\n",
       "    .dataframe thead th {\n",
       "        text-align: right;\n",
       "    }\n",
       "</style>\n",
       "<table border=\"1\" class=\"dataframe\">\n",
       "  <thead>\n",
       "    <tr style=\"text-align: right;\">\n",
       "      <th></th>\n",
       "      <th>id</th>\n",
       "      <th>dateAdded</th>\n",
       "      <th>dateUpdated</th>\n",
       "      <th>address</th>\n",
       "      <th>categories</th>\n",
       "      <th>primaryCategories</th>\n",
       "      <th>city</th>\n",
       "      <th>country</th>\n",
       "      <th>keys</th>\n",
       "      <th>latitude</th>\n",
       "      <th>...</th>\n",
       "      <th>reviews.dateSeen</th>\n",
       "      <th>reviews.rating</th>\n",
       "      <th>reviews.sourceURLs</th>\n",
       "      <th>reviews.text</th>\n",
       "      <th>reviews.title</th>\n",
       "      <th>reviews.userCity</th>\n",
       "      <th>reviews.userProvince</th>\n",
       "      <th>reviews.username</th>\n",
       "      <th>sourceURLs</th>\n",
       "      <th>websites</th>\n",
       "    </tr>\n",
       "  </thead>\n",
       "  <tbody>\n",
       "    <tr>\n",
       "      <th>0</th>\n",
       "      <td>AWE2FvX5RxPSIh2RscTK</td>\n",
       "      <td>2018-01-18T18:43:12Z</td>\n",
       "      <td>2019-05-20T23:55:47Z</td>\n",
       "      <td>5620 Calle Real</td>\n",
       "      <td>Hotels,Hotels and motels,Hotel and motel mgmt....</td>\n",
       "      <td>Accommodation &amp; Food Services</td>\n",
       "      <td>Goleta</td>\n",
       "      <td>US</td>\n",
       "      <td>us/ca/goleta/5620callereal/-1127060008</td>\n",
       "      <td>34.44178</td>\n",
       "      <td>...</td>\n",
       "      <td>2018-01-03T00:00:00Z</td>\n",
       "      <td>3</td>\n",
       "      <td>https://www.tripadvisor.com/Hotel_Review-g3243...</td>\n",
       "      <td>This hotel was nice and quiet. Did not know, t...</td>\n",
       "      <td>Best Western Plus Hotel</td>\n",
       "      <td>San Jose</td>\n",
       "      <td>UnitedStates</td>\n",
       "      <td>tatsurok2018</td>\n",
       "      <td>https://www.tripadvisor.com/Hotel_Review-g3243...</td>\n",
       "      <td>https://www.bestwestern.com/en_US/book/hotel-r...</td>\n",
       "    </tr>\n",
       "    <tr>\n",
       "      <th>1</th>\n",
       "      <td>AVwcj_OhkufWRAb5wi9T</td>\n",
       "      <td>2016-11-06T20:21:05Z</td>\n",
       "      <td>2019-05-20T23:31:56Z</td>\n",
       "      <td>5th And San Carlos PO Box 3574</td>\n",
       "      <td>Hotels,Lodging,Hotel</td>\n",
       "      <td>Accommodation &amp; Food Services</td>\n",
       "      <td>Carmel by the Sea</td>\n",
       "      <td>US</td>\n",
       "      <td>us/ca/carmelbythesea/5thandsancarlospobox3574/...</td>\n",
       "      <td>36.55722</td>\n",
       "      <td>...</td>\n",
       "      <td>2016-10-09T00:00:00Z</td>\n",
       "      <td>4</td>\n",
       "      <td>https://www.tripadvisor.com/Hotel_Review-g3217...</td>\n",
       "      <td>We stayed in the king suite with the separatio...</td>\n",
       "      <td>Clean rooms at solid rates in the heart of Carmel</td>\n",
       "      <td>San Francisco</td>\n",
       "      <td>CA</td>\n",
       "      <td>STEPHEN N</td>\n",
       "      <td>http://www.tripadvisor.com/Hotel_Review-g32172...</td>\n",
       "      <td>http://www.bestwestern.com</td>\n",
       "    </tr>\n",
       "    <tr>\n",
       "      <th>2</th>\n",
       "      <td>AVwcj_OhkufWRAb5wi9T</td>\n",
       "      <td>2016-11-06T20:21:05Z</td>\n",
       "      <td>2019-05-20T23:31:56Z</td>\n",
       "      <td>5th And San Carlos PO Box 3574</td>\n",
       "      <td>Hotels,Lodging,Hotel</td>\n",
       "      <td>Accommodation &amp; Food Services</td>\n",
       "      <td>Carmel by the Sea</td>\n",
       "      <td>US</td>\n",
       "      <td>us/ca/carmelbythesea/5thandsancarlospobox3574/...</td>\n",
       "      <td>36.55722</td>\n",
       "      <td>...</td>\n",
       "      <td>2016-10-09T00:00:00Z</td>\n",
       "      <td>3</td>\n",
       "      <td>https://www.tripadvisor.com/Hotel_Review-g3217...</td>\n",
       "      <td>Parking was horrible, somebody ran into my ren...</td>\n",
       "      <td>Business</td>\n",
       "      <td>Prescott Valley</td>\n",
       "      <td>AZ</td>\n",
       "      <td>15Deborah</td>\n",
       "      <td>http://www.tripadvisor.com/Hotel_Review-g32172...</td>\n",
       "      <td>http://www.bestwestern.com</td>\n",
       "    </tr>\n",
       "    <tr>\n",
       "      <th>3</th>\n",
       "      <td>AVwcj_OhkufWRAb5wi9T</td>\n",
       "      <td>2016-11-06T20:21:05Z</td>\n",
       "      <td>2019-05-20T23:31:56Z</td>\n",
       "      <td>5th And San Carlos PO Box 3574</td>\n",
       "      <td>Hotels,Lodging,Hotel</td>\n",
       "      <td>Accommodation &amp; Food Services</td>\n",
       "      <td>Carmel by the Sea</td>\n",
       "      <td>US</td>\n",
       "      <td>us/ca/carmelbythesea/5thandsancarlospobox3574/...</td>\n",
       "      <td>36.55722</td>\n",
       "      <td>...</td>\n",
       "      <td>2016-10-31T00:00:00Z</td>\n",
       "      <td>5</td>\n",
       "      <td>https://www.tripadvisor.com/Hotel_Review-g3217...</td>\n",
       "      <td>Not cheap but excellent location. Price is som...</td>\n",
       "      <td>Very good</td>\n",
       "      <td>Guaynabo</td>\n",
       "      <td>PR</td>\n",
       "      <td>Wilfredo M</td>\n",
       "      <td>http://www.tripadvisor.com/Hotel_Review-g32172...</td>\n",
       "      <td>http://www.bestwestern.com</td>\n",
       "    </tr>\n",
       "    <tr>\n",
       "      <th>4</th>\n",
       "      <td>AVwcj_OhkufWRAb5wi9T</td>\n",
       "      <td>2016-11-06T20:21:05Z</td>\n",
       "      <td>2019-05-20T23:31:56Z</td>\n",
       "      <td>5th And San Carlos PO Box 3574</td>\n",
       "      <td>Hotels,Lodging,Hotel</td>\n",
       "      <td>Accommodation &amp; Food Services</td>\n",
       "      <td>Carmel by the Sea</td>\n",
       "      <td>US</td>\n",
       "      <td>us/ca/carmelbythesea/5thandsancarlospobox3574/...</td>\n",
       "      <td>36.55722</td>\n",
       "      <td>...</td>\n",
       "      <td>2016-10-09T00:00:00Z,2016-03-27T00:00:00Z</td>\n",
       "      <td>2</td>\n",
       "      <td>https://www.tripadvisor.com/Hotel_Review-g3217...</td>\n",
       "      <td>If you get the room that they advertised on th...</td>\n",
       "      <td>Low chance to come back here</td>\n",
       "      <td>Reno</td>\n",
       "      <td>NV</td>\n",
       "      <td>Luc D</td>\n",
       "      <td>http://www.tripadvisor.com/Hotel_Review-g32172...</td>\n",
       "      <td>http://www.bestwestern.com</td>\n",
       "    </tr>\n",
       "  </tbody>\n",
       "</table>\n",
       "<p>5 rows × 26 columns</p>\n",
       "</div>"
      ],
      "text/plain": [
       "                     id             dateAdded           dateUpdated  \\\n",
       "0  AWE2FvX5RxPSIh2RscTK  2018-01-18T18:43:12Z  2019-05-20T23:55:47Z   \n",
       "1  AVwcj_OhkufWRAb5wi9T  2016-11-06T20:21:05Z  2019-05-20T23:31:56Z   \n",
       "2  AVwcj_OhkufWRAb5wi9T  2016-11-06T20:21:05Z  2019-05-20T23:31:56Z   \n",
       "3  AVwcj_OhkufWRAb5wi9T  2016-11-06T20:21:05Z  2019-05-20T23:31:56Z   \n",
       "4  AVwcj_OhkufWRAb5wi9T  2016-11-06T20:21:05Z  2019-05-20T23:31:56Z   \n",
       "\n",
       "                          address  \\\n",
       "0                 5620 Calle Real   \n",
       "1  5th And San Carlos PO Box 3574   \n",
       "2  5th And San Carlos PO Box 3574   \n",
       "3  5th And San Carlos PO Box 3574   \n",
       "4  5th And San Carlos PO Box 3574   \n",
       "\n",
       "                                          categories  \\\n",
       "0  Hotels,Hotels and motels,Hotel and motel mgmt....   \n",
       "1                               Hotels,Lodging,Hotel   \n",
       "2                               Hotels,Lodging,Hotel   \n",
       "3                               Hotels,Lodging,Hotel   \n",
       "4                               Hotels,Lodging,Hotel   \n",
       "\n",
       "               primaryCategories               city country  \\\n",
       "0  Accommodation & Food Services             Goleta      US   \n",
       "1  Accommodation & Food Services  Carmel by the Sea      US   \n",
       "2  Accommodation & Food Services  Carmel by the Sea      US   \n",
       "3  Accommodation & Food Services  Carmel by the Sea      US   \n",
       "4  Accommodation & Food Services  Carmel by the Sea      US   \n",
       "\n",
       "                                                keys  latitude  ...  \\\n",
       "0             us/ca/goleta/5620callereal/-1127060008  34.44178  ...   \n",
       "1  us/ca/carmelbythesea/5thandsancarlospobox3574/...  36.55722  ...   \n",
       "2  us/ca/carmelbythesea/5thandsancarlospobox3574/...  36.55722  ...   \n",
       "3  us/ca/carmelbythesea/5thandsancarlospobox3574/...  36.55722  ...   \n",
       "4  us/ca/carmelbythesea/5thandsancarlospobox3574/...  36.55722  ...   \n",
       "\n",
       "                            reviews.dateSeen reviews.rating  \\\n",
       "0                       2018-01-03T00:00:00Z              3   \n",
       "1                       2016-10-09T00:00:00Z              4   \n",
       "2                       2016-10-09T00:00:00Z              3   \n",
       "3                       2016-10-31T00:00:00Z              5   \n",
       "4  2016-10-09T00:00:00Z,2016-03-27T00:00:00Z              2   \n",
       "\n",
       "                                  reviews.sourceURLs  \\\n",
       "0  https://www.tripadvisor.com/Hotel_Review-g3243...   \n",
       "1  https://www.tripadvisor.com/Hotel_Review-g3217...   \n",
       "2  https://www.tripadvisor.com/Hotel_Review-g3217...   \n",
       "3  https://www.tripadvisor.com/Hotel_Review-g3217...   \n",
       "4  https://www.tripadvisor.com/Hotel_Review-g3217...   \n",
       "\n",
       "                                        reviews.text  \\\n",
       "0  This hotel was nice and quiet. Did not know, t...   \n",
       "1  We stayed in the king suite with the separatio...   \n",
       "2  Parking was horrible, somebody ran into my ren...   \n",
       "3  Not cheap but excellent location. Price is som...   \n",
       "4  If you get the room that they advertised on th...   \n",
       "\n",
       "                                       reviews.title  reviews.userCity  \\\n",
       "0                            Best Western Plus Hotel          San Jose   \n",
       "1  Clean rooms at solid rates in the heart of Carmel     San Francisco   \n",
       "2                                           Business   Prescott Valley   \n",
       "3                                          Very good          Guaynabo   \n",
       "4                       Low chance to come back here              Reno   \n",
       "\n",
       "  reviews.userProvince  reviews.username  \\\n",
       "0         UnitedStates      tatsurok2018   \n",
       "1                   CA         STEPHEN N   \n",
       "2                   AZ         15Deborah   \n",
       "3                   PR        Wilfredo M   \n",
       "4                   NV             Luc D   \n",
       "\n",
       "                                          sourceURLs  \\\n",
       "0  https://www.tripadvisor.com/Hotel_Review-g3243...   \n",
       "1  http://www.tripadvisor.com/Hotel_Review-g32172...   \n",
       "2  http://www.tripadvisor.com/Hotel_Review-g32172...   \n",
       "3  http://www.tripadvisor.com/Hotel_Review-g32172...   \n",
       "4  http://www.tripadvisor.com/Hotel_Review-g32172...   \n",
       "\n",
       "                                            websites  \n",
       "0  https://www.bestwestern.com/en_US/book/hotel-r...  \n",
       "1                         http://www.bestwestern.com  \n",
       "2                         http://www.bestwestern.com  \n",
       "3                         http://www.bestwestern.com  \n",
       "4                         http://www.bestwestern.com  \n",
       "\n",
       "[5 rows x 26 columns]"
      ]
     },
     "execution_count": 3,
     "metadata": {},
     "output_type": "execute_result"
    }
   ],
   "source": [
    "df_train = pd.read_csv('Datafiniti_Hotel_Reviews_Jun19.csv')\n",
    "df_train.head()"
   ]
  },
  {
   "cell_type": "code",
   "execution_count": 6,
   "metadata": {},
   "outputs": [
    {
     "data": {
      "text/html": [
       "<div>\n",
       "<style scoped>\n",
       "    .dataframe tbody tr th:only-of-type {\n",
       "        vertical-align: middle;\n",
       "    }\n",
       "\n",
       "    .dataframe tbody tr th {\n",
       "        vertical-align: top;\n",
       "    }\n",
       "\n",
       "    .dataframe thead th {\n",
       "        text-align: right;\n",
       "    }\n",
       "</style>\n",
       "<table border=\"1\" class=\"dataframe\">\n",
       "  <thead>\n",
       "    <tr style=\"text-align: right;\">\n",
       "      <th></th>\n",
       "      <th>reviews.rating</th>\n",
       "      <th>reviews.text</th>\n",
       "      <th>category_id</th>\n",
       "    </tr>\n",
       "  </thead>\n",
       "  <tbody>\n",
       "    <tr>\n",
       "      <th>0</th>\n",
       "      <td>3</td>\n",
       "      <td>This hotel was nice and quiet. Did not know, t...</td>\n",
       "      <td>0</td>\n",
       "    </tr>\n",
       "    <tr>\n",
       "      <th>1</th>\n",
       "      <td>4</td>\n",
       "      <td>We stayed in the king suite with the separatio...</td>\n",
       "      <td>1</td>\n",
       "    </tr>\n",
       "    <tr>\n",
       "      <th>2</th>\n",
       "      <td>3</td>\n",
       "      <td>Parking was horrible, somebody ran into my ren...</td>\n",
       "      <td>0</td>\n",
       "    </tr>\n",
       "    <tr>\n",
       "      <th>3</th>\n",
       "      <td>5</td>\n",
       "      <td>Not cheap but excellent location. Price is som...</td>\n",
       "      <td>2</td>\n",
       "    </tr>\n",
       "    <tr>\n",
       "      <th>4</th>\n",
       "      <td>2</td>\n",
       "      <td>If you get the room that they advertised on th...</td>\n",
       "      <td>3</td>\n",
       "    </tr>\n",
       "  </tbody>\n",
       "</table>\n",
       "</div>"
      ],
      "text/plain": [
       "   reviews.rating                                       reviews.text  \\\n",
       "0               3  This hotel was nice and quiet. Did not know, t...   \n",
       "1               4  We stayed in the king suite with the separatio...   \n",
       "2               3  Parking was horrible, somebody ran into my ren...   \n",
       "3               5  Not cheap but excellent location. Price is som...   \n",
       "4               2  If you get the room that they advertised on th...   \n",
       "\n",
       "   category_id  \n",
       "0            0  \n",
       "1            1  \n",
       "2            0  \n",
       "3            2  \n",
       "4            3  "
      ]
     },
     "execution_count": 6,
     "metadata": {},
     "output_type": "execute_result"
    }
   ],
   "source": [
    "from io import StringIO\n",
    "col = ['reviews.rating', 'reviews.text']\n",
    "df_train = df_train[col]\n",
    "df_train = df_train[pd.notnull(df_train['reviews.text'])]\n",
    "df_train.columns = ['reviews.rating', 'reviews.text']\n",
    "\n",
    "df_train['category_id'] = df_train['reviews.rating'].factorize()[0]\n",
    "\n",
    "category_id_df_train = df_train[['reviews.rating', 'category_id']].drop_duplicates().sort_values('category_id')\n",
    "\n",
    "category_to_id = dict(category_id_df_train.values)\n",
    "\n",
    "id_to_category = dict(category_id_df_train[['category_id', 'reviews.rating']].values)\n",
    "\n",
    "df_train.head()"
   ]
  },
  {
   "cell_type": "markdown",
   "metadata": {},
   "source": [
    "The data visualization"
   ]
  },
  {
   "cell_type": "code",
   "execution_count": 19,
   "metadata": {},
   "outputs": [],
   "source": [
    "import matplotlib.pyplot as plt\n",
    "import seaborn as sns\n",
    "%matplotlib inline"
   ]
  },
  {
   "cell_type": "code",
   "execution_count": 20,
   "metadata": {},
   "outputs": [
    {
     "data": {
      "text/plain": [
       "<matplotlib.axes._subplots.AxesSubplot at 0x7f16b82e13d0>"
      ]
     },
     "execution_count": 20,
     "metadata": {},
     "output_type": "execute_result"
    },
    {
     "data": {
      "image/png": "[encoded data removed]",
      "text/plain": [
       "<Figure size 432x288 with 1 Axes>"
      ]
     },
     "metadata": {
      "needs_background": "light"
     },
     "output_type": "display_data"
    }
   ],
   "source": [
    "sns.countplot(x='category_id',data=df_train, palette='rainbow')"
   ]
  },
  {
   "cell_type": "markdown",
   "metadata": {},
   "source": [
    "Train Test Split"
   ]
  },
  {
   "cell_type": "code",
   "execution_count": 8,
   "metadata": {},
   "outputs": [],
   "source": [
    "from sklearn.model_selection import train_test_split\n",
    "\n",
    "premise = df_train['reviews.text'].values\n",
    "y = df_train['category_id'].values\n",
    "\n",
    "sentences_train, sentences_test, y_train, y_test = train_test_split(premise, y, test_size = 0.25,\n",
    "                                                                   random_state = 1000)"
   ]
  },
  {
   "cell_type": "markdown",
   "metadata": {},
   "source": [
    "Import CountVectorizer"
   ]
  },
  {
   "cell_type": "code",
   "execution_count": 10,
   "metadata": {},
   "outputs": [
    {
     "data": {
      "text/plain": [
       "<7500x19230 sparse matrix of type '<class 'numpy.int64'>'\n",
       "\twith 569193 stored elements in Compressed Sparse Row format>"
      ]
     },
     "execution_count": 10,
     "metadata": {},
     "output_type": "execute_result"
    }
   ],
   "source": [
    "from sklearn.feature_extraction.text import CountVectorizer\n",
    "vectorizer = CountVectorizer()\n",
    "vectorizer.fit(sentences_train)\n",
    "X_train = vectorizer.transform(sentences_train)\n",
    "X_test = vectorizer.transform(sentences_test)\n",
    "\n",
    "X_train"
   ]
  },
  {
   "cell_type": "markdown",
   "metadata": {},
   "source": [
    "Import LogisticRegression model"
   ]
  },
  {
   "cell_type": "code",
   "execution_count": 11,
   "metadata": {},
   "outputs": [
    {
     "name": "stderr",
     "output_type": "stream",
     "text": [
      "/home/chi/anaconda3/envs/nltkEnv/lib/python3.7/site-packages/sklearn/linear_model/logistic.py:432: FutureWarning: Default solver will be changed to 'lbfgs' in 0.22. Specify a solver to silence this warning.\n",
      "  FutureWarning)\n",
      "/home/chi/anaconda3/envs/nltkEnv/lib/python3.7/site-packages/sklearn/linear_model/logistic.py:469: FutureWarning: Default multi_class will be changed to 'auto' in 0.22. Specify the multi_class option to silence this warning.\n",
      "  \"this warning.\", FutureWarning)\n"
     ]
    },
    {
     "name": "stdout",
     "output_type": "stream",
     "text": [
      "Accuracy: 0.6004\n"
     ]
    }
   ],
   "source": [
    "from sklearn.linear_model import LogisticRegression\n",
    "\n",
    "classifier = LogisticRegression()\n",
    "classifier.fit(X_train, y_train)\n",
    "score = classifier.score(X_test, y_test)\n",
    "\n",
    "print(\"Accuracy:\", score)"
   ]
  },
  {
   "cell_type": "markdown",
   "metadata": {},
   "source": [
    "Deep Neural Networks "
   ]
  },
  {
   "cell_type": "code",
   "execution_count": 12,
   "metadata": {},
   "outputs": [
    {
     "name": "stderr",
     "output_type": "stream",
     "text": [
      "Using TensorFlow backend.\n"
     ]
    }
   ],
   "source": [
    "from keras.models import Sequential\n",
    "from keras import layers\n",
    "\n",
    "input_dim = X_train.shape[1] #Number of features\n",
    "\n",
    "model = Sequential()\n",
    "model.add(layers.Dense(10, input_dim = input_dim, activation = 'relu'))\n",
    "model.add(layers.Dense(1, activation = 'sigmoid'))"
   ]
  },
  {
   "cell_type": "markdown",
   "metadata": {},
   "source": [
    "Before you can start with the training of the model, you need to configure the learning process. This is done with the .compile() method."
   ]
  },
  {
   "cell_type": "code",
   "execution_count": 13,
   "metadata": {},
   "outputs": [
    {
     "name": "stdout",
     "output_type": "stream",
     "text": [
      "Model: \"sequential_1\"\n",
      "_________________________________________________________________\n",
      "Layer (type)                 Output Shape              Param #   \n",
      "=================================================================\n",
      "dense_1 (Dense)              (None, 10)                192310    \n",
      "_________________________________________________________________\n",
      "dense_2 (Dense)              (None, 1)                 11        \n",
      "=================================================================\n",
      "Total params: 192,321\n",
      "Trainable params: 192,321\n",
      "Non-trainable params: 0\n",
      "_________________________________________________________________\n"
     ]
    }
   ],
   "source": [
    "model.compile(loss = 'binary_crossentropy', optimizer = 'adam', metrics = ['accuracy'])\n",
    "\n",
    "model.summary()"
   ]
  },
  {
   "cell_type": "markdown",
   "metadata": {},
   "source": [
    "Now it is time to start your training with the .fit() function"
   ]
  },
  {
   "cell_type": "markdown",
   "metadata": {},
   "source": [
    "Since the training in neural networks is an iterative process, the training won't just stop after its done. These complited iterations are commonly called epochs. Another parameteryou have to your selection is the batch size."
   ]
  },
  {
   "cell_type": "code",
   "execution_count": 14,
   "metadata": {},
   "outputs": [],
   "source": [
    "history = model.fit(X_train, y_train,\n",
    "                   epochs = 100,\n",
    "                   verbose = False,\n",
    "                   validation_data = (X_test, y_test),\n",
    "                   batch_size = 10)"
   ]
  },
  {
   "cell_type": "markdown",
   "metadata": {},
   "source": [
    "Now you can use the .evaluate() method to measure the accuracy of the model. You can do this both for the training data and testing data."
   ]
  },
  {
   "cell_type": "code",
   "execution_count": 15,
   "metadata": {},
   "outputs": [
    {
     "name": "stdout",
     "output_type": "stream",
     "text": [
      "Training Accuracy: 0.2796\n"
     ]
    }
   ],
   "source": [
    "loss, accuracy = model.evaluate(X_train, y_train, verbose = False)\n",
    "print(\"Training Accuracy: {:.4f}\".format(accuracy))"
   ]
  },
  {
   "cell_type": "code",
   "execution_count": 16,
   "metadata": {},
   "outputs": [
    {
     "name": "stdout",
     "output_type": "stream",
     "text": [
      "Testing Accuracy: 0.3008\n"
     ]
    }
   ],
   "source": [
    "loss, accuracy = model.evaluate(X_test, y_test, verbose = False)\n",
    "print(\"Testing Accuracy: {:.4f}\".format(accuracy))"
   ]
  },
  {
   "cell_type": "markdown",
   "metadata": {},
   "source": [
    "Visualize the loss and accuracy for the training and testing data based on the history call back"
   ]
  },
  {
   "cell_type": "code",
   "execution_count": 17,
   "metadata": {},
   "outputs": [],
   "source": [
    "import matplotlib.pyplot as plt\n",
    "plt.style.use('ggplot')\n",
    "\n",
    "def plot_history(history):\n",
    "    acc = history.history['accuracy']\n",
    "    val_acc = history.history['val_accuracy']\n",
    "    loss =history.history['loss']\n",
    "    val_loss = history.history['val_loss']\n",
    "    x = range(1, len(acc) + 1)\n",
    "    \n",
    "    plt.figure(figsize = (12, 5))\n",
    "    plt.subplot(1, 2, 1)\n",
    "    plt.plot(x, acc,  'b', label = 'Training acc')\n",
    "    plt.plot(x, val_acc, 'r', label = 'Validation acc')\n",
    "    plt.title('Training and validation accuracy')\n",
    "    plt.legend()\n",
    "    plt.subplot(1, 2, 2)\n",
    "    plt.plot(x, loss, 'b', label = 'Training loss')\n",
    "    plt.plot(x, val_loss, 'r', label = 'Validation loss')\n",
    "    plt.title('Training and validation loss')\n",
    "    \n",
    "    plt.legend()"
   ]
  },
  {
   "cell_type": "markdown",
   "metadata": {},
   "source": [
    "Call plot_history() with the collected accuracy and loss inside the history dictionary"
   ]
  },
  {
   "cell_type": "code",
   "execution_count": 18,
   "metadata": {},
   "outputs": [
    {
     "data": {
      "image/png": "[encoded data removed]",
      "text/plain": [
       "<Figure size 864x360 with 2 Axes>"
      ]
     },
     "metadata": {},
     "output_type": "display_data"
    }
   ],
   "source": [
    " plot_history(history)"
   ]
  },
  {
   "cell_type": "code",
   "execution_count": null,
   "metadata": {},
   "outputs": [],
   "source": []
  }
 ],
 "metadata": {
  "kernelspec": {
   "display_name": "Python 3",
   "language": "python",
   "name": "python3"
  },
  "language_info": {
   "codemirror_mode": {
    "name": "ipython",
    "version": 3
   },
   "file_extension": ".py",
   "mimetype": "text/x-python",
   "name": "python",
   "nbconvert_exporter": "python",
   "pygments_lexer": "ipython3",
   "version": "3.7.6"
  }
 },
 "nbformat": 4,
 "nbformat_minor": 4
}
