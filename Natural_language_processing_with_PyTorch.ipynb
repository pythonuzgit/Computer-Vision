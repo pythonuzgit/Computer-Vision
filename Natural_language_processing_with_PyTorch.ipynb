{
  "nbformat": 4,
  "nbformat_minor": 0,
  "metadata": {
    "colab": {
      "name": "Natural language processing with PyTorch.ipynb",
      "provenance": [],
      "collapsed_sections": [],
      "authorship_tag": "ABX9TyPIoNRcu1pPmpr1jYzDVzNc",
      "include_colab_link": true
    },
    "kernelspec": {
      "name": "python3",
      "display_name": "Python 3"
    },
    "language_info": {
      "name": "python"
    }
  },
  "cells": [
    {
      "cell_type": "markdown",
      "metadata": {
        "id": "view-in-github",
        "colab_type": "text"
      },
      "source": [
        "<a href=\"https://colab.research.google.com/github/pythonuzgit/elmurodov/blob/master/Natural_language_processing_with_PyTorch.ipynb\" target=\"_parent\"><img src=\"https://colab.research.google.com/assets/colab-badge.svg\" alt=\"Open In Colab\"/></a>"
      ]
    },
    {
      "cell_type": "code",
      "metadata": {
        "id": "NXmklMQ_w2VG"
      },
      "source": [
        ""
      ],
      "execution_count": null,
      "outputs": []
    },
    {
      "cell_type": "code",
      "metadata": {
        "colab": {
          "base_uri": "https://localhost:8080/"
        },
        "id": "TzSEUg6pw3Ci",
        "outputId": "684d25d6-c91c-467a-e4c3-13ce219c95ee"
      },
      "source": [
        "from zipfile import ZipFile\n",
        "file_name = \"/content/disaster-tweets.zip\"\n",
        "with ZipFile(file_name, 'r') as zip:\n",
        "  zip.extractall()\n",
        "  print('Done')"
      ],
      "execution_count": null,
      "outputs": [
        {
          "output_type": "stream",
          "name": "stdout",
          "text": [
            "Done\n"
          ]
        }
      ]
    },
    {
      "cell_type": "markdown",
      "metadata": {
        "id": "FY42mukON7bn"
      },
      "source": [
        "Import standard numerical packages"
      ]
    },
    {
      "cell_type": "code",
      "metadata": {
        "id": "0TiF_39lxdm9"
      },
      "source": [
        "import pandas as pd\n",
        "import numpy as np\n",
        "import matplotlib.pyplot as plt\n",
        "from sklearn.model_selection import train_test_split\n",
        "import time\n",
        "\n",
        "\n",
        "import torch\n",
        "import torch.nn as nn\n",
        "from torchtext import data\n",
        "import torch.nn as nn\n",
        "from torchtext.legacy import data"
      ],
      "execution_count": null,
      "outputs": []
    },
    {
      "cell_type": "markdown",
      "metadata": {
        "id": "SZOUI-sgODxN"
      },
      "source": [
        "read training data"
      ]
    },
    {
      "cell_type": "code",
      "metadata": {
        "colab": {
          "base_uri": "https://localhost:8080/",
          "height": 206
        },
        "id": "NOPSTwWIym69",
        "outputId": "611f671a-2fc9-4b54-9d88-3eb956097303"
      },
      "source": [
        "train = pd.read_csv('/content/tweets.csv')\n",
        "train.head()"
      ],
      "execution_count": null,
      "outputs": [
        {
          "output_type": "execute_result",
          "data": {
            "text/html": [
              "<div>\n",
              "<style scoped>\n",
              "    .dataframe tbody tr th:only-of-type {\n",
              "        vertical-align: middle;\n",
              "    }\n",
              "\n",
              "    .dataframe tbody tr th {\n",
              "        vertical-align: top;\n",
              "    }\n",
              "\n",
              "    .dataframe thead th {\n",
              "        text-align: right;\n",
              "    }\n",
              "</style>\n",
              "<table border=\"1\" class=\"dataframe\">\n",
              "  <thead>\n",
              "    <tr style=\"text-align: right;\">\n",
              "      <th></th>\n",
              "      <th>id</th>\n",
              "      <th>keyword</th>\n",
              "      <th>location</th>\n",
              "      <th>text</th>\n",
              "      <th>target</th>\n",
              "    </tr>\n",
              "  </thead>\n",
              "  <tbody>\n",
              "    <tr>\n",
              "      <th>0</th>\n",
              "      <td>0</td>\n",
              "      <td>ablaze</td>\n",
              "      <td>NaN</td>\n",
              "      <td>Communal violence in Bhainsa, Telangana. \"Ston...</td>\n",
              "      <td>1</td>\n",
              "    </tr>\n",
              "    <tr>\n",
              "      <th>1</th>\n",
              "      <td>1</td>\n",
              "      <td>ablaze</td>\n",
              "      <td>NaN</td>\n",
              "      <td>Telangana: Section 144 has been imposed in Bha...</td>\n",
              "      <td>1</td>\n",
              "    </tr>\n",
              "    <tr>\n",
              "      <th>2</th>\n",
              "      <td>2</td>\n",
              "      <td>ablaze</td>\n",
              "      <td>New York City</td>\n",
              "      <td>Arsonist sets cars ablaze at dealership https:...</td>\n",
              "      <td>1</td>\n",
              "    </tr>\n",
              "    <tr>\n",
              "      <th>3</th>\n",
              "      <td>3</td>\n",
              "      <td>ablaze</td>\n",
              "      <td>Morgantown, WV</td>\n",
              "      <td>Arsonist sets cars ablaze at dealership https:...</td>\n",
              "      <td>1</td>\n",
              "    </tr>\n",
              "    <tr>\n",
              "      <th>4</th>\n",
              "      <td>4</td>\n",
              "      <td>ablaze</td>\n",
              "      <td>NaN</td>\n",
              "      <td>\"Lord Jesus, your love brings freedom and pard...</td>\n",
              "      <td>0</td>\n",
              "    </tr>\n",
              "  </tbody>\n",
              "</table>\n",
              "</div>"
            ],
            "text/plain": [
              "   id keyword  ...                                               text target\n",
              "0   0  ablaze  ...  Communal violence in Bhainsa, Telangana. \"Ston...      1\n",
              "1   1  ablaze  ...  Telangana: Section 144 has been imposed in Bha...      1\n",
              "2   2  ablaze  ...  Arsonist sets cars ablaze at dealership https:...      1\n",
              "3   3  ablaze  ...  Arsonist sets cars ablaze at dealership https:...      1\n",
              "4   4  ablaze  ...  \"Lord Jesus, your love brings freedom and pard...      0\n",
              "\n",
              "[5 rows x 5 columns]"
            ]
          },
          "metadata": {},
          "execution_count": 9
        }
      ]
    },
    {
      "cell_type": "code",
      "metadata": {
        "colab": {
          "base_uri": "https://localhost:8080/"
        },
        "id": "cFDclxHiym5m",
        "outputId": "ba1804c8-8796-47b9-bf6e-f70c50767a62"
      },
      "source": [
        "train.shape"
      ],
      "execution_count": null,
      "outputs": [
        {
          "output_type": "execute_result",
          "data": {
            "text/plain": [
              "(11370, 5)"
            ]
          },
          "metadata": {},
          "execution_count": 10
        }
      ]
    },
    {
      "cell_type": "markdown",
      "metadata": {
        "id": "iaQmwL5p0quS"
      },
      "source": [
        "We are only interested in the text and target columns. So we drop the rest"
      ]
    },
    {
      "cell_type": "code",
      "metadata": {
        "id": "EFHCKcaGymyG"
      },
      "source": [
        "train.drop(columns = ['id', 'keyword', 'location'], inplace = True)"
      ],
      "execution_count": null,
      "outputs": []
    },
    {
      "cell_type": "markdown",
      "metadata": {
        "id": "aPa8ntdW1Qn9"
      },
      "source": [
        "Next we clean and modify the texts, so that the classification algorithm does not get confused with irrelevant information"
      ]
    },
    {
      "cell_type": "code",
      "metadata": {
        "id": "5u1Dp6apymuI"
      },
      "source": [
        "def normalise_text (text):\n",
        "    text = text.str.lower() # lowercase\n",
        "    text = text.str.replace(r\"\\#\",\"\") # replaces hashtags\n",
        "    text = text.str.replace(r\"http\\S+\",\"URL\")  # remove URL addresses\n",
        "    text = text.str.replace(r\"@\",\"\")\n",
        "    text = text.str.replace(r\"[^A-Za-z0-9()!?\\'\\`\\\"]\", \" \")\n",
        "    text = text.str.replace(\"\\s{2,}\", \" \")\n",
        "    return text\n",
        "\n"
      ],
      "execution_count": null,
      "outputs": []
    },
    {
      "cell_type": "code",
      "metadata": {
        "id": "7pz6Rm3Symp-"
      },
      "source": [
        "train['text'] = normalise_text(train['text'])"
      ],
      "execution_count": null,
      "outputs": []
    },
    {
      "cell_type": "markdown",
      "metadata": {
        "id": "GCH4JuhY2IwJ"
      },
      "source": [
        "Let us look at the cleaned text once"
      ]
    },
    {
      "cell_type": "code",
      "metadata": {
        "colab": {
          "base_uri": "https://localhost:8080/"
        },
        "id": "2zXHZnnL2DDn",
        "outputId": "aca0f68f-7e37-40c6-fa00-f17197592d5e"
      },
      "source": [
        "train['text'].head()"
      ],
      "execution_count": null,
      "outputs": [
        {
          "output_type": "execute_result",
          "data": {
            "text/plain": [
              "0    communal violence in bhainsa telangana \"stones...\n",
              "1    telangana section 144 has been imposed in bhai...\n",
              "2          arsonist sets cars ablaze at dealership URL\n",
              "3      arsonist sets cars ablaze at dealership URL URL\n",
              "4    \"lord jesus your love brings freedom and pardo...\n",
              "Name: text, dtype: object"
            ]
          },
          "metadata": {},
          "execution_count": 15
        }
      ]
    },
    {
      "cell_type": "markdown",
      "metadata": {
        "id": "HdWLWCtJ3LBo"
      },
      "source": [
        "Split the data into training and validation sets"
      ]
    },
    {
      "cell_type": "code",
      "metadata": {
        "colab": {
          "base_uri": "https://localhost:8080/",
          "height": 206
        },
        "id": "xnq-S4_82Tht",
        "outputId": "154d1fcb-06e6-4387-8733-89a582170a02"
      },
      "source": [
        "train_df, valid_df = train_test_split(train)\n",
        "train_df.head()"
      ],
      "execution_count": null,
      "outputs": [
        {
          "output_type": "execute_result",
          "data": {
            "text/html": [
              "<div>\n",
              "<style scoped>\n",
              "    .dataframe tbody tr th:only-of-type {\n",
              "        vertical-align: middle;\n",
              "    }\n",
              "\n",
              "    .dataframe tbody tr th {\n",
              "        vertical-align: top;\n",
              "    }\n",
              "\n",
              "    .dataframe thead th {\n",
              "        text-align: right;\n",
              "    }\n",
              "</style>\n",
              "<table border=\"1\" class=\"dataframe\">\n",
              "  <thead>\n",
              "    <tr style=\"text-align: right;\">\n",
              "      <th></th>\n",
              "      <th>text</th>\n",
              "      <th>target</th>\n",
              "    </tr>\n",
              "  </thead>\n",
              "  <tbody>\n",
              "    <tr>\n",
              "      <th>7103</th>\n",
              "      <td>only thing keeping me going is my 14 year old ...</td>\n",
              "      <td>0</td>\n",
              "    </tr>\n",
              "    <tr>\n",
              "      <th>7277</th>\n",
              "      <td>whereas once again many innocents have been k...</td>\n",
              "      <td>0</td>\n",
              "    </tr>\n",
              "    <tr>\n",
              "      <th>4253</th>\n",
              "      <td>what if boomers got to know that they can use ...</td>\n",
              "      <td>0</td>\n",
              "    </tr>\n",
              "    <tr>\n",
              "      <th>3028</th>\n",
              "      <td>the cameraman being a panic gay the moment tae...</td>\n",
              "      <td>0</td>\n",
              "    </tr>\n",
              "    <tr>\n",
              "      <th>9670</th>\n",
              "      <td>if there is one place deserving of a suicide b...</td>\n",
              "      <td>0</td>\n",
              "    </tr>\n",
              "  </tbody>\n",
              "</table>\n",
              "</div>"
            ],
            "text/plain": [
              "                                                   text  target\n",
              "7103  only thing keeping me going is my 14 year old ...       0\n",
              "7277   whereas once again many innocents have been k...       0\n",
              "4253  what if boomers got to know that they can use ...       0\n",
              "3028  the cameraman being a panic gay the moment tae...       0\n",
              "9670  if there is one place deserving of a suicide b...       0"
            ]
          },
          "metadata": {},
          "execution_count": 32
        }
      ]
    },
    {
      "cell_type": "code",
      "metadata": {
        "colab": {
          "base_uri": "https://localhost:8080/",
          "height": 206
        },
        "id": "K1py2Ach3Z_v",
        "outputId": "ffc863dc-8b4a-4a29-8e52-75c196d1c6f9"
      },
      "source": [
        "valid_df.head()"
      ],
      "execution_count": null,
      "outputs": [
        {
          "output_type": "execute_result",
          "data": {
            "text/html": [
              "<div>\n",
              "<style scoped>\n",
              "    .dataframe tbody tr th:only-of-type {\n",
              "        vertical-align: middle;\n",
              "    }\n",
              "\n",
              "    .dataframe tbody tr th {\n",
              "        vertical-align: top;\n",
              "    }\n",
              "\n",
              "    .dataframe thead th {\n",
              "        text-align: right;\n",
              "    }\n",
              "</style>\n",
              "<table border=\"1\" class=\"dataframe\">\n",
              "  <thead>\n",
              "    <tr style=\"text-align: right;\">\n",
              "      <th></th>\n",
              "      <th>text</th>\n",
              "      <th>target</th>\n",
              "    </tr>\n",
              "  </thead>\n",
              "  <tbody>\n",
              "    <tr>\n",
              "      <th>8490</th>\n",
              "      <td>my suggestion is continue your oxford and focu...</td>\n",
              "      <td>0</td>\n",
              "    </tr>\n",
              "    <tr>\n",
              "      <th>3297</th>\n",
              "      <td>we try our best each week it s a deluge of poe...</td>\n",
              "      <td>0</td>\n",
              "    </tr>\n",
              "    <tr>\n",
              "      <th>5910</th>\n",
              "      <td>venice runs dry gondolas stranded in mud just ...</td>\n",
              "      <td>1</td>\n",
              "    </tr>\n",
              "    <tr>\n",
              "      <th>72</th>\n",
              "      <td>tickets on sale!!!!!!!!!! aftershock URL nowpl...</td>\n",
              "      <td>0</td>\n",
              "    </tr>\n",
              "    <tr>\n",
              "      <th>3716</th>\n",
              "      <td>hi there i'm very sorry to hear this we are ru...</td>\n",
              "      <td>1</td>\n",
              "    </tr>\n",
              "  </tbody>\n",
              "</table>\n",
              "</div>"
            ],
            "text/plain": [
              "                                                   text  target\n",
              "8490  my suggestion is continue your oxford and focu...       0\n",
              "3297  we try our best each week it s a deluge of poe...       0\n",
              "5910  venice runs dry gondolas stranded in mud just ...       1\n",
              "72    tickets on sale!!!!!!!!!! aftershock URL nowpl...       0\n",
              "3716  hi there i'm very sorry to hear this we are ru...       1"
            ]
          },
          "metadata": {},
          "execution_count": 33
        }
      ]
    },
    {
      "cell_type": "markdown",
      "metadata": {
        "id": "m3F5FwQf3sY1"
      },
      "source": [
        "The following will help make the results reproducible later"
      ]
    },
    {
      "cell_type": "code",
      "metadata": {
        "id": "SH3CVq2V3lr8"
      },
      "source": [
        "SEED = 42\n",
        "\n",
        "torch.manual_seed(SEED)\n",
        "torch.backends.cudnn.deterministic = True\n",
        "torch.backends.cudnn.benchmark = False"
      ],
      "execution_count": null,
      "outputs": []
    },
    {
      "cell_type": "markdown",
      "metadata": {
        "id": "vPLPTGuH379K"
      },
      "source": [
        "Create Field and LabelField "
      ]
    },
    {
      "cell_type": "code",
      "metadata": {
        "id": "rh1_0fwz4E4E"
      },
      "source": [
        "TEXT = data.Field(tokenize = 'spacy', include_lengths = True)\n",
        "LABEL = data.LabelField(dtype = torch.float)\n"
      ],
      "execution_count": null,
      "outputs": []
    },
    {
      "cell_type": "markdown",
      "metadata": {
        "id": "FJyee7G34NoF"
      },
      "source": [
        "Next create a DataFrameDataset class"
      ]
    },
    {
      "cell_type": "code",
      "metadata": {
        "id": "uFN8CmAu4bsj"
      },
      "source": [
        "class DataFrameDataset(data.Dataset):\n",
        "\n",
        "  def __init__(self, df, fields, is_test=False, **kwargs):\n",
        "\n",
        "    examples = []\n",
        "    for i, row in df.iterrows():\n",
        "      label = row.target if not is_test else None\n",
        "      text = row.text\n",
        "      examples.append(data.Example.fromlist([text, label], fields))\n",
        "\n",
        "      super().__init__(examples, fields, **kwargs)\n",
        "\n",
        "\n",
        "  @staticmethod\n",
        "  def sort_key(ex):\n",
        "    return len(ex.text)\n",
        "\n",
        "\n",
        "\n",
        "\n",
        "  @classmethod\n",
        "  def splits(cls, fields, train_df, val_df=None,  **kwargs):\n",
        "    train_data, val_data = (None, None)\n",
        "    data_field = fields\n",
        "\n",
        "\n",
        "    if train_df is not None:\n",
        "      train_data = cls(train_df.copy(), data_field, **kwargs)\n",
        "    if val_df is not None:\n",
        "      val_data = cls(val_df.copy(), data_field, **kwargs)\n",
        "\n",
        "\n",
        "\n",
        "\n",
        "    return tuple(d for d in (train_data, val_data) if d is not None)"
      ],
      "execution_count": null,
      "outputs": []
    },
    {
      "cell_type": "markdown",
      "metadata": {
        "id": "O6qtrb9M8PHD"
      },
      "source": [
        "Use the split method of DataFrameDataset"
      ]
    },
    {
      "cell_type": "code",
      "metadata": {
        "id": "AIWlkvWg8WG-"
      },
      "source": [
        "fields = [('text', TEXT), ('label', LABEL)]\n",
        "train_ds, val_ds = DataFrameDataset.splits(fields, train_df = train_df, val_df = valid_df)"
      ],
      "execution_count": null,
      "outputs": []
    },
    {
      "cell_type": "markdown",
      "metadata": {
        "id": "cvI0fwuY9yfq"
      },
      "source": [
        "Lets look at a random example"
      ]
    },
    {
      "cell_type": "code",
      "metadata": {
        "colab": {
          "base_uri": "https://localhost:8080/"
        },
        "id": "LvhzhRYh928i",
        "outputId": "17e5c99e-322f-48b6-df71-a12a22d7c6ef"
      },
      "source": [
        "print(vars(train_ds[15]))"
      ],
      "execution_count": null,
      "outputs": [
        {
          "output_type": "stream",
          "name": "stdout",
          "text": [
            "{'text': ['that', \"'s\", 'pretty', 'much', 'what', 'my', 'ex', 'said', 'to', 'me', 'too', 'yelled', 'it', 'and', 'screamed', 'it', 'in', 'URL'], 'label': 0}\n"
          ]
        }
      ]
    },
    {
      "cell_type": "markdown",
      "metadata": {
        "id": "eZ6FJ4E899iI"
      },
      "source": [
        "Check the type"
      ]
    },
    {
      "cell_type": "code",
      "metadata": {
        "colab": {
          "base_uri": "https://localhost:8080/"
        },
        "id": "nLfMQ2RD97xK",
        "outputId": "477b02ad-c40e-42be-d14f-764d764d7aa3"
      },
      "source": [
        "print(type(train_ds[15]))"
      ],
      "execution_count": null,
      "outputs": [
        {
          "output_type": "stream",
          "name": "stdout",
          "text": [
            "<class 'torchtext.legacy.data.example.Example'>\n"
          ]
        }
      ]
    },
    {
      "cell_type": "markdown",
      "metadata": {
        "id": "_linobXl-Rim"
      },
      "source": [
        "We will now build the vocabulary using only the training dataset"
      ]
    },
    {
      "cell_type": "code",
      "metadata": {
        "id": "xVq2o4uY-FSJ"
      },
      "source": [
        "MAX_VOCAB_SIZE = 25000\n",
        "\n",
        "TEXT.build_vocab(train_ds, \n",
        "                 max_size = MAX_VOCAB_SIZE, \n",
        "                 vectors = 'glove.6B.200d',\n",
        "                 unk_init = torch.Tensor.zero_)"
      ],
      "execution_count": null,
      "outputs": []
    },
    {
      "cell_type": "code",
      "metadata": {
        "id": "ClZPwvDR_QpN"
      },
      "source": [
        "LABEL.build_vocab(train_ds)"
      ],
      "execution_count": null,
      "outputs": []
    },
    {
      "cell_type": "markdown",
      "metadata": {
        "id": "qMKVrvmT_dCr"
      },
      "source": [
        "Build the iterators"
      ]
    },
    {
      "cell_type": "code",
      "metadata": {
        "id": "JdetJkIf_QnP"
      },
      "source": [
        "BATCH_SIZE = 128\n",
        "\n",
        "device = torch.device('cuda' if torch.cuda.is_available() else 'cpu')\n",
        "\n",
        "train_iterator, valid_iterator = data.BucketIterator.splits(\n",
        "    (train_ds, val_ds),\n",
        "    batch_size = BATCH_SIZE,\n",
        "    sort_within_batch = True,\n",
        "    device = device)"
      ],
      "execution_count": null,
      "outputs": []
    },
    {
      "cell_type": "markdown",
      "metadata": {
        "id": "UsLMEIDwBHwo"
      },
      "source": [
        "LSTM architecture"
      ]
    },
    {
      "cell_type": "code",
      "metadata": {
        "id": "1gk1VnI3BML7"
      },
      "source": [
        "num_epochs = 25\n",
        "learning_rate = 0.001\n",
        "\n",
        "INPUT_DIM = len(TEXT.vocab)\n",
        "EMBEDDING_DIM = 200\n",
        "HIDDEN_DIM = 256\n",
        "OUTPUT_DIM = 1\n",
        "N_LAYERS = 2\n",
        "BIDIRECTIONAL = True\n",
        "DROPOUT = 0.2\n",
        "PAD_IDX = TEXT.vocab.stoi[TEXT.pad_token] # padding"
      ],
      "execution_count": null,
      "outputs": []
    },
    {
      "cell_type": "markdown",
      "metadata": {
        "id": "qDMm6uqRBVjF"
      },
      "source": [
        "Setting up the LSTM model"
      ]
    },
    {
      "cell_type": "code",
      "metadata": {
        "id": "BrWobLauBadP"
      },
      "source": [
        "class LSTM_net(nn.Module):\n",
        "  def __init__(self, vocab_size, embedding_dim, hidden_dim, output_dim,\n",
        "               n_layers, bidirectional, dropout, pad_idx):\n",
        "    super().__init__()\n",
        "    self.embedding = nn.Embedding(vocab_size, embedding_dim, padding_idx = pad_idx)\n",
        "\n",
        "    self.rnn = nn.LSTM(embedding_dim,\n",
        "                       hidden_dim, \n",
        "                       num_layers = n_layers,\n",
        "                       bidirectional = bidirectional,\n",
        "                       dropout = dropout)\n",
        "    self.fc1 = nn.Linear(hidden_dim*2, hidden_dim)\n",
        "    self.fc2 = nn.Linear(hidden_dim, 1)\n",
        "    self.dropout = nn.Dropout(dropout)\n",
        "\n",
        "\n",
        "  def forward(self, text, text_lengths):\n",
        "    embedded = self.embedding(text)\n",
        "\n",
        "    packed_embedded = nn.utils.rnn.pack_padded_sequence(embedded, text_lengths)\n",
        "\n",
        "    packed_output, (hidden, cell) = self.rnn(packed_embedded)\n",
        "\n",
        "    hidden = self.dropout(torch.cat((hidden[-2, :, :],\n",
        "                                     hidden[-1, :, :]), dim = 1))\n",
        "    \n",
        "    output = self.fc1(hidden)\n",
        "    output = self.dropout(self.fc2(output))\n",
        "\n",
        "\n",
        "\n",
        "    return output"
      ],
      "execution_count": null,
      "outputs": []
    },
    {
      "cell_type": "markdown",
      "metadata": {
        "id": "vXeYlzLXJaBf"
      },
      "source": [
        "Creating instance of our LSTM_net class\n",
        "\n"
      ]
    },
    {
      "cell_type": "code",
      "metadata": {
        "id": "TUcColHsJUTG"
      },
      "source": [
        "model = LSTM_net(INPUT_DIM,\n",
        "                 EMBEDDING_DIM,\n",
        "                 HIDDEN_DIM,\n",
        "                 OUTPUT_DIM,\n",
        "                 N_LAYERS,\n",
        "                 BIDIRECTIONAL,\n",
        "                 DROPOUT,\n",
        "                 PAD_IDX)"
      ],
      "execution_count": null,
      "outputs": []
    },
    {
      "cell_type": "markdown",
      "metadata": {
        "id": "ils_PT0gJ4-X"
      },
      "source": [
        "Loading the pretrained vectors into the embedding matrix"
      ]
    },
    {
      "cell_type": "code",
      "metadata": {
        "colab": {
          "base_uri": "https://localhost:8080/"
        },
        "id": "79bnK9BdJ_OI",
        "outputId": "01c46f30-4839-4d32-a4a2-f454aee65c36"
      },
      "source": [
        "pretrained_embeddings = TEXT.vocab.vectors\n",
        "\n",
        "print(pretrained_embeddings.shape)\n",
        "model.embedding.weight.data.copy_(pretrained_embeddings)"
      ],
      "execution_count": null,
      "outputs": [
        {
          "output_type": "stream",
          "name": "stdout",
          "text": [
            "torch.Size([18338, 200])\n"
          ]
        },
        {
          "output_type": "execute_result",
          "data": {
            "text/plain": [
              "tensor([[ 0.0000,  0.0000,  0.0000,  ...,  0.0000,  0.0000,  0.0000],\n",
              "        [ 0.0000,  0.0000,  0.0000,  ...,  0.0000,  0.0000,  0.0000],\n",
              "        [-0.0715,  0.0935,  0.0237,  ...,  0.3362,  0.0306,  0.2558],\n",
              "        ...,\n",
              "        [ 0.0934, -0.0589, -0.1489,  ..., -0.3619, -0.1673,  0.1019],\n",
              "        [ 0.0380,  0.2330, -0.0145,  ..., -0.0146,  0.3024, -0.1939],\n",
              "        [ 0.0000,  0.0000,  0.0000,  ...,  0.0000,  0.0000,  0.0000]])"
            ]
          },
          "metadata": {},
          "execution_count": 68
        }
      ]
    },
    {
      "cell_type": "code",
      "metadata": {
        "colab": {
          "base_uri": "https://localhost:8080/"
        },
        "id": "hVOLrlZ0KpXD",
        "outputId": "1726e32d-19d0-4a91-dc05-843bf044786f"
      },
      "source": [
        "#  to initiaise padded to zeros\n",
        "model.embedding.weight.data[PAD_IDX] = torch.zeros(EMBEDDING_DIM)\n",
        "\n",
        "print(model.embedding.weight.data)"
      ],
      "execution_count": null,
      "outputs": [
        {
          "output_type": "stream",
          "name": "stdout",
          "text": [
            "tensor([[ 0.0000,  0.0000,  0.0000,  ...,  0.0000,  0.0000,  0.0000],\n",
            "        [ 0.0000,  0.0000,  0.0000,  ...,  0.0000,  0.0000,  0.0000],\n",
            "        [-0.0715,  0.0935,  0.0237,  ...,  0.3362,  0.0306,  0.2558],\n",
            "        ...,\n",
            "        [ 0.0934, -0.0589, -0.1489,  ..., -0.3619, -0.1673,  0.1019],\n",
            "        [ 0.0380,  0.2330, -0.0145,  ..., -0.0146,  0.3024, -0.1939],\n",
            "        [ 0.0000,  0.0000,  0.0000,  ...,  0.0000,  0.0000,  0.0000]])\n"
          ]
        }
      ]
    },
    {
      "cell_type": "code",
      "metadata": {
        "id": "VhooECTuKzXH"
      },
      "source": [
        "model.to(device) #CNN to GPU\n",
        "\n",
        "\n",
        "# Loss and optimizer\n",
        "criterion = nn.BCEWithLogitsLoss()\n",
        "\n",
        "optimizer = torch.optim.Adam(model.parameters(), lr=learning_rate)"
      ],
      "execution_count": null,
      "outputs": []
    },
    {
      "cell_type": "code",
      "metadata": {
        "id": "6SoWSxqqKzVI"
      },
      "source": [
        "def binary_accuracy(preds, y):\n",
        "  rounded_preds = torch.round(torch.sigmoid(preds))\n",
        "  correct = (rounded_preds == y).float()\n",
        "  acc = correct.sum()/ len(correct)\n",
        "\n",
        "  return acc"
      ],
      "execution_count": null,
      "outputs": []
    },
    {
      "cell_type": "markdown",
      "metadata": {
        "id": "xasrBX-_NVBY"
      },
      "source": [
        "Training the Model"
      ]
    },
    {
      "cell_type": "code",
      "metadata": {
        "id": "IVvWepnVKzP1"
      },
      "source": [
        "def train(model, iterator):\n",
        "  epoch_loss = 0\n",
        "  epoch_acc = 0\n",
        "  model.train()\n",
        "\n",
        "  for batch in iterator:\n",
        "    text, text_lengths = batch.text\n",
        "    optimizer.zero_grad()\n",
        "    predictions = model(text, text_lengths).squeeze(1)\n",
        "    loss = criterion(predictions, batch.label)\n",
        "    acc = binary_accuracy(predictions, batch.label)\n",
        "\n",
        "    loss.backward()\n",
        "    optimizer.step()\n",
        "    epoch_loss += loss.item()\n",
        "    epoch_acc += acc.item()\n",
        "\n",
        "  return epoch_loss / len(iterator), epoch_acc / len(iterator)  \n",
        "\n"
      ],
      "execution_count": null,
      "outputs": []
    },
    {
      "cell_type": "code",
      "metadata": {
        "id": "4dg-wbNzKzFk"
      },
      "source": [
        "def evaluate(model, iterator):\n",
        "  epoch_acc = 0\n",
        "  model.eval()\n",
        "\n",
        "  with torch.no_grad():\n",
        "    for batch in iterator:\n",
        "      text, text_lengths = batch.text\n",
        "      predictions = model(text, text_lengths).squeeze(1)\n",
        "      acc = binary_accuracy(predictions, batch.label)\n",
        "\n",
        "      epoch_acc += acc.item()\n",
        "\n",
        "  return epoch_acc /len(iterator)  \n",
        "\n"
      ],
      "execution_count": null,
      "outputs": []
    },
    {
      "cell_type": "code",
      "metadata": {
        "colab": {
          "base_uri": "https://localhost:8080/"
        },
        "id": "vXPW46OHWDZR",
        "outputId": "842b8983-5131-4564-9592-2b98f9532102"
      },
      "source": [
        "t = time.time()\n",
        "\n",
        "loss = []\n",
        "acc = []\n",
        "val_acc = []\n",
        "\n",
        "for epoch in range(num_epochs):\n",
        "  train_loss, train_acc = train(model, train_iterator)\n",
        "  valid_acc = evaluate(model, valid_iterator)\n",
        "\n",
        "  print(f'\\tTrain Loss: {train_loss:.3f} | Train Acc: {train_acc*100:.2f}%')\n",
        "  print(f'\\t Val. Acc: {valid_acc*100:.2f}%')\n",
        "\n",
        "  loss.append(train_loss)\n",
        "  acc.append(train_acc)\n",
        "  val_acc.append(valid_acc)\n",
        "\n",
        "\n",
        "\n",
        "\n",
        "\n",
        "print(f'time:{time.time()-t:.3f}')  "
      ],
      "execution_count": null,
      "outputs": [
        {
          "output_type": "stream",
          "name": "stdout",
          "text": [
            "\tTrain Loss: 0.299 | Train Acc: 90.60%\n",
            "\t Val. Acc: 89.71%\n",
            "\tTrain Loss: 0.261 | Train Acc: 91.58%\n",
            "\t Val. Acc: 89.81%\n",
            "\tTrain Loss: 0.209 | Train Acc: 93.96%\n",
            "\t Val. Acc: 89.00%\n",
            "\tTrain Loss: 0.174 | Train Acc: 95.04%\n",
            "\t Val. Acc: 89.71%\n",
            "\tTrain Loss: 0.158 | Train Acc: 95.62%\n",
            "\t Val. Acc: 89.06%\n",
            "\tTrain Loss: 0.158 | Train Acc: 95.63%\n",
            "\t Val. Acc: 89.09%\n",
            "\tTrain Loss: 0.147 | Train Acc: 96.30%\n",
            "\t Val. Acc: 89.06%\n",
            "\tTrain Loss: 0.154 | Train Acc: 95.84%\n",
            "\t Val. Acc: 88.59%\n",
            "\tTrain Loss: 0.143 | Train Acc: 96.32%\n",
            "\t Val. Acc: 88.45%\n",
            "\tTrain Loss: 0.140 | Train Acc: 96.23%\n",
            "\t Val. Acc: 88.86%\n",
            "\tTrain Loss: 0.139 | Train Acc: 96.19%\n",
            "\t Val. Acc: 89.06%\n",
            "\tTrain Loss: 0.138 | Train Acc: 96.61%\n",
            "\t Val. Acc: 89.17%\n",
            "\tTrain Loss: 0.143 | Train Acc: 95.86%\n",
            "\t Val. Acc: 88.21%\n",
            "\tTrain Loss: 0.145 | Train Acc: 96.11%\n",
            "\t Val. Acc: 88.76%\n",
            "\tTrain Loss: 0.139 | Train Acc: 96.07%\n",
            "\t Val. Acc: 88.46%\n",
            "\tTrain Loss: 0.136 | Train Acc: 96.60%\n",
            "\t Val. Acc: 88.72%\n",
            "\tTrain Loss: 0.136 | Train Acc: 96.30%\n",
            "\t Val. Acc: 88.38%\n",
            "\tTrain Loss: 0.141 | Train Acc: 96.15%\n",
            "\t Val. Acc: 89.06%\n",
            "\tTrain Loss: 0.137 | Train Acc: 96.19%\n",
            "\t Val. Acc: 89.06%\n",
            "\tTrain Loss: 0.136 | Train Acc: 96.06%\n",
            "\t Val. Acc: 89.04%\n",
            "\tTrain Loss: 0.144 | Train Acc: 96.14%\n",
            "\t Val. Acc: 88.66%\n",
            "\tTrain Loss: 0.144 | Train Acc: 96.14%\n",
            "\t Val. Acc: 89.17%\n",
            "\tTrain Loss: 0.140 | Train Acc: 96.33%\n",
            "\t Val. Acc: 89.20%\n",
            "\tTrain Loss: 0.141 | Train Acc: 96.11%\n",
            "\t Val. Acc: 89.23%\n",
            "\tTrain Loss: 0.138 | Train Acc: 96.20%\n",
            "\t Val. Acc: 88.89%\n",
            "time:2142.798\n"
          ]
        }
      ]
    }
  ]
}