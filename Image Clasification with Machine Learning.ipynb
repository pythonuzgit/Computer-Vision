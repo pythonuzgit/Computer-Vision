{
  "nbformat": 4,
  "nbformat_minor": 0,
  "metadata": {
    "colab": {
      "name": "testpy.ipynb",
      "provenance": [],
      "authorship_tag": "ABX9TyMg+bmFyVucxziZDFG6fQvl",
      "include_colab_link": true
    },
    "kernelspec": {
      "name": "python3",
      "display_name": "Python 3"
    },
    "language_info": {
      "name": "python"
    }
  },
  "cells": [
    {
      "cell_type": "markdown",
      "metadata": {
        "id": "view-in-github",
        "colab_type": "text"
      },
      "source": [
        "<a href=\"https://colab.research.google.com/github/pythonuzgit/elmurodov/blob/master/Image%20Clasification%20with%20Machine%20Learning.ipynb\" target=\"_parent\"><img src=\"https://colab.research.google.com/assets/colab-badge.svg\" alt=\"Open In Colab\"/></a>"
      ]
    },
    {
      "cell_type": "code",
      "metadata": {
        "id": "ogvy3ajsy3xr"
      },
      "source": [
        "import numpy as np\n",
        "import pandas as pd\n",
        "import matplotlib.pyplot as plt\n",
        "import tensorflow as tf\n",
        "\n"
      ],
      "execution_count": 2,
      "outputs": []
    },
    {
      "cell_type": "code",
      "metadata": {
        "colab": {
          "base_uri": "https://localhost:8080/"
        },
        "id": "Wvd3O39WehDF",
        "outputId": "7b031df6-7764-4cdd-d921-9a93472e6367"
      },
      "source": [
        "pip install bing_image_downloader"
      ],
      "execution_count": 3,
      "outputs": [
        {
          "output_type": "stream",
          "text": [
            "Collecting bing_image_downloader\n",
            "  Downloading https://files.pythonhosted.org/packages/c2/04/1872a689a30036aa0b81ac9fca124a7413cad71fdab714f727cf1a34b671/bing_image_downloader-1.1.1-py3-none-any.whl\n",
            "Installing collected packages: bing-image-downloader\n",
            "Successfully installed bing-image-downloader-1.1.1\n"
          ],
          "name": "stdout"
        }
      ]
    },
    {
      "cell_type": "code",
      "metadata": {
        "colab": {
          "base_uri": "https://localhost:8080/"
        },
        "id": "8AXf0CrVfEtR",
        "outputId": "5d8dbd0a-65fc-40a2-a344-4acf7eb4aa56"
      },
      "source": [
        "from bing_image_downloader import downloader\n",
        "downloader.download(\"beautiful horses\", limit = 30, output_dir = 'images',\n",
        "                    adult_filter_off = True)"
      ],
      "execution_count": 6,
      "outputs": [
        {
          "output_type": "stream",
          "text": [
            "[%] Downloading Images to /content/images/beautiful horses\n",
            "\n",
            "\n",
            "[!!]Indexing page: 1\n",
            "\n",
            "[%] Indexed 30 Images on Page 1.\n",
            "\n",
            "===============================================\n",
            "\n",
            "[%] Downloading Image #1 from https://i.pinimg.com/originals/ff/b2/b4/ffb2b4e1d4235ceb24c40ddda490de14.jpg\n",
            "[%] File Downloaded !\n",
            "\n",
            "[%] Downloading Image #2 from https://i.pinimg.com/originals/21/16/ad/2116ad762ac18bda31946b754af69f77.jpg\n",
            "[%] File Downloaded !\n",
            "\n",
            "[%] Downloading Image #3 from https://i.pinimg.com/474x/5a/68/ad/5a68addcdc577526e678bfee3d4193b6--true-beauty-sweden.jpg\n",
            "[%] File Downloaded !\n",
            "\n",
            "[%] Downloading Image #4 from https://i.pinimg.com/originals/67/ae/23/67ae23a05ae2a63a0f66d2eec251decb.jpg\n",
            "[%] File Downloaded !\n",
            "\n",
            "[%] Downloading Image #5 from https://i.pinimg.com/originals/3d/bd/97/3dbd97ab0dc0b5521f353fb6e2e1f661.jpg\n",
            "[%] File Downloaded !\n",
            "\n",
            "[%] Downloading Image #6 from https://i.pinimg.com/originals/61/cc/1d/61cc1db7b200d2dcf3bb6984ec00a1fb.jpg\n",
            "[%] File Downloaded !\n",
            "\n",
            "[%] Downloading Image #7 from http://www.trendfrenzy.net/wp-content/uploads/2016/03/horse-breeds-6.jpg\n",
            "[%] File Downloaded !\n",
            "\n",
            "[%] Downloading Image #8 from https://i.pinimg.com/originals/64/6d/62/646d62917be51c09d178da01d255b61a.jpg\n",
            "[%] File Downloaded !\n",
            "\n",
            "[%] Downloading Image #9 from https://i.pinimg.com/originals/a9/ce/50/a9ce50d5c1af592c0d2470ab97d4e0c2.jpg\n",
            "[%] File Downloaded !\n",
            "\n",
            "[%] Downloading Image #10 from https://i.pinimg.com/originals/2a/05/0a/2a050a3f23091a1dc04ef17fc8fe3587.jpg\n",
            "[%] File Downloaded !\n",
            "\n",
            "[%] Downloading Image #11 from https://i.pinimg.com/originals/b2/5d/e4/b25de416103c460815fbec79fb7d6bc3.jpg\n",
            "[%] File Downloaded !\n",
            "\n",
            "[%] Downloading Image #12 from https://i.pinimg.com/736x/2c/6d/4c/2c6d4c3edd98fc08ba481f71b31d052d.jpg\n",
            "[%] File Downloaded !\n",
            "\n",
            "[%] Downloading Image #13 from https://i.pinimg.com/originals/7e/0b/8c/7e0b8cb894a02f596ab23d03b934976b.jpg\n",
            "[%] File Downloaded !\n",
            "\n",
            "[%] Downloading Image #14 from https://i.pinimg.com/originals/33/a5/80/33a580f47bdfb892d3232aa0e8807961.jpg\n",
            "[%] File Downloaded !\n",
            "\n",
            "[%] Downloading Image #15 from https://i.pinimg.com/originals/aa/53/29/aa532906c8bddd69d8728a80df4f3af7.jpg\n",
            "[%] File Downloaded !\n",
            "\n",
            "[%] Downloading Image #16 from https://i.pinimg.com/736x/56/05/d4/5605d43e0acd28a81b9d604b0b6e4560.jpg\n",
            "[%] File Downloaded !\n",
            "\n",
            "[%] Downloading Image #17 from https://i.pinimg.com/originals/8a/c6/16/8ac616f0679f4cb0a78632eb34e3bb65.jpg\n",
            "[%] File Downloaded !\n",
            "\n",
            "[%] Downloading Image #18 from https://i.pinimg.com/originals/20/17/e9/2017e952157f818507810ad7da3c85b8.jpg\n",
            "[%] File Downloaded !\n",
            "\n",
            "[%] Downloading Image #19 from https://i.pinimg.com/originals/62/90/3f/62903fc50d54cf019092c58e813d592d.jpg\n",
            "[%] File Downloaded !\n",
            "\n",
            "[%] Downloading Image #20 from https://i.pinimg.com/736x/13/0f/93/130f93e0f3c9737547f5fdc8aafb4b70.jpg\n",
            "[%] File Downloaded !\n",
            "\n",
            "[%] Downloading Image #21 from https://i.pinimg.com/originals/4a/38/f8/4a38f8f7670466ea5649a5f2312b9486.jpg\n",
            "[%] File Downloaded !\n",
            "\n",
            "[%] Downloading Image #22 from https://i.pinimg.com/originals/25/27/60/252760be6b818683f96223df87bae365.jpg\n",
            "[%] File Downloaded !\n",
            "\n",
            "[%] Downloading Image #23 from https://i.pinimg.com/originals/4c/cd/f0/4ccdf09d51447b4034cb188712c87a33.jpg\n",
            "[%] File Downloaded !\n",
            "\n",
            "[%] Downloading Image #24 from https://i.pinimg.com/originals/b4/9a/68/b49a68d0f48d7831314f9bde8e09b055.jpg\n",
            "[%] File Downloaded !\n",
            "\n",
            "[%] Downloading Image #25 from https://i.pinimg.com/736x/98/06/10/98061025cb0901962f6daafda4cb8758.jpg\n",
            "[%] File Downloaded !\n",
            "\n",
            "[%] Downloading Image #26 from https://i.pinimg.com/originals/3c/e1/43/3ce14372890bfb3062702af7d2759ec2.jpg\n",
            "[%] File Downloaded !\n",
            "\n",
            "[%] Downloading Image #27 from https://i.pinimg.com/originals/05/bc/c4/05bcc49f55c39c310aec6e8c8bec35b5.jpg\n",
            "[%] File Downloaded !\n",
            "\n",
            "[%] Downloading Image #28 from https://i.pinimg.com/originals/12/01/06/1201061696a914a91ab457513fceed66.jpg\n",
            "[%] File Downloaded !\n",
            "\n",
            "[%] Downloading Image #29 from https://i.pinimg.com/originals/36/3d/f2/363df2d660170c3b1a96770dda23d163.jpg\n",
            "[%] File Downloaded !\n",
            "\n",
            "[%] Downloading Image #30 from https://i.pinimg.com/originals/0b/e0/a9/0be0a9305a91acecfc4b78ff13874a11.png\n",
            "[%] File Downloaded !\n",
            "\n",
            "\n",
            "\n",
            "[%] Done. Downloaded 30 images.\n",
            "===============================================\n",
            "\n",
            "Please show your support here\n",
            "https://www.buymeacoffee.com/gurugaurav\n",
            "\n",
            "===============================================\n",
            "\n"
          ],
          "name": "stdout"
        }
      ]
    },
    {
      "cell_type": "code",
      "metadata": {
        "colab": {
          "base_uri": "https://localhost:8080/"
        },
        "id": "6pxD_dLwf6nq",
        "outputId": "154a6357-699a-4cb5-a31f-d2823f0f354b"
      },
      "source": [
        "downloader.download(\"car\", limit = 30, output_dir = 'images', adult_filter_off = True)"
      ],
      "execution_count": 7,
      "outputs": [
        {
          "output_type": "stream",
          "text": [
            "[%] Downloading Images to /content/images/car\n",
            "\n",
            "\n",
            "[!!]Indexing page: 1\n",
            "\n",
            "[%] Indexed 30 Images on Page 1.\n",
            "\n",
            "===============================================\n",
            "\n",
            "[%] Downloading Image #1 from http://www.carbodydesign.com/archive/2009/08/05-sv-9-competizione-images/SV-9-Competizione-4-lg.jpg\n",
            "[%] File Downloaded !\n",
            "\n",
            "[%] Downloading Image #2 from https://static.carthrottle.com/workspace/uploads/posts/2017/12/0fcad9c9368abebdbfb8aaf0211bf96b.jpg\n",
            "[%] File Downloaded !\n",
            "\n",
            "[%] Downloading Image #3 from http://jaikrishnaamaruti.com/uploads/truevalue_cars/0_27-01-2018_16-03-53.jpg\n",
            "[%] File Downloaded !\n",
            "\n",
            "[%] Downloading Image #4 from https://icdn-4.motor1.com/images/mgl/8gJ93/s1/amc-amx-the-first-true-sports-car-of-the-1960s.jpg\n",
            "[%] File Downloaded !\n",
            "\n",
            "[%] Downloading Image #5 from http://farm9.staticflickr.com/8012/7170866083_8504026441_o.jpg\n",
            "[%] File Downloaded !\n",
            "\n",
            "[%] Downloading Image #6 from http://dmi3w0goirzgw.cloudfront.net/gallery-images/1600/406000/600/406638.jpg\n",
            "[%] File Downloaded !\n",
            "\n",
            "[%] Downloading Image #7 from http://smclassiccars.com/uploads/postfotos/1970-pontiac-gto-matching-039s-400-m20-4-speed-posi-true-american-muscle-1.jpg\n",
            "[%] File Downloaded !\n",
            "\n",
            "[%] Downloading Image #8 from https://i.ytimg.com/vi/L4ASPTYAokQ/maxresdefault.jpg\n",
            "[%] File Downloaded !\n",
            "\n",
            "[%] Downloading Image #9 from https://2.bp.blogspot.com/-pFg1wU-N6AM/U1AKuZTk5TI/AAAAAAAAUbg/IUYFPGxrhEA/s1600/boss302-4lr.jpg\n",
            "[%] File Downloaded !\n",
            "\n",
            "[%] Downloading Image #10 from https://farm5.staticflickr.com/4110/5027971302_35ec2b05d5_z.jpg\n",
            "[%] File Downloaded !\n",
            "\n",
            "[%] Downloading Image #11 from https://musclecarwarehouse.com.au/wp-content/uploads/2018/12/IMG_7245-1024x768.jpg\n",
            "[%] File Downloaded !\n",
            "\n",
            "[%] Downloading Image #12 from https://static.bangkokpost.com/media/content/20200909/3743947.jpg\n",
            "[%] File Downloaded !\n",
            "\n",
            "[%] Downloading Image #13 from http://jaikrishnaamaruti.com/uploads/truevalue_cars/1_06-03-2018_11-36-40.jpg\n",
            "[%] File Downloaded !\n",
            "\n",
            "[%] Downloading Image #14 from https://media.whatcar.com/wc-image/2021-01/true_mpg_award_winner_-_toyota_yaris.jpg\n",
            "[%] File Downloaded !\n",
            "\n",
            "[%] Downloading Image #15 from https://i.kinja-img.com/gawker-media/image/upload/c_fill,f_auto,fl_progressive,g_center,h_675,pg_1,q_80,w_1200/cht5zan2fi2af6jifsvk.jpg\n",
            "[%] File Downloaded !\n",
            "\n",
            "[%] Downloading Image #16 from https://cdn.carbuzz.com/gallery-images/840x560/406000/600/406646.jpg\n",
            "[%] File Downloaded !\n",
            "\n",
            "[%] Downloading Image #17 from https://daxstreet.com/wp-content/uploads/2020/12/gtr-1024x576.jpg\n",
            "[%] File Downloaded !\n",
            "\n",
            "[%] Downloading Image #18 from http://jaikrishnaamaruti.com/uploads/truevalue_cars/0_13-08-2020_12-54-32.jpeg\n",
            "[%] File Downloaded !\n",
            "\n",
            "[%] Downloading Image #19 from https://i.pinimg.com/originals/b3/a6/47/b3a64770647364851c25139fc1d26c92.jpg\n",
            "[%] File Downloaded !\n",
            "\n",
            "[%] Downloading Image #20 from https://media.whatcar.com/migration/article_inline/31e233fabca887757aba0bb56028fce65792efc4.jpg\n",
            "[%] File Downloaded !\n",
            "\n",
            "[%] Downloading Image #21 from http://farm8.staticflickr.com/7411/10414280056_61c166f466_z.jpg\n",
            "[%] File Downloaded !\n",
            "\n",
            "[%] Downloading Image #22 from https://s.hdnux.com/photos/56/23/61/12139605/3/920x920.jpg\n",
            "[%] File Downloaded !\n",
            "\n",
            "[%] Downloading Image #23 from https://cdn-news.warriortrading.com/wp-content/uploads/2017/02/19182100/TRUE-Logo.jpg\n",
            "[%] File Downloaded !\n",
            "\n",
            "[%] Downloading Image #24 from http://st.lowrider.com/uploads/sites/7/2016/07/switch-car-club-2016-day-at-the-bay-true-life-1965-buick-riviera.jpg\n",
            "[%] File Downloaded !\n",
            "\n",
            "[%] Downloading Image #25 from https://i.pinimg.com/originals/fa/4c/23/fa4c2399643cda2f7495f234a7d59f77.png\n",
            "[%] File Downloaded !\n",
            "\n",
            "[%] Downloading Image #26 from https://automotiveimpressions.net/wp-content/uploads/2020/11/Hellcat20-F.jpg\n",
            "[%] File Downloaded !\n",
            "\n",
            "[%] Downloading Image #27 from https://musclecarwarehouse.com.au/wp-content/uploads/2018/12/IMG_7244-762x456.jpg\n",
            "[%] File Downloaded !\n",
            "\n",
            "[%] Downloading Image #28 from https://2.bp.blogspot.com/-o_GFAdQ5-PY/TaYDPjhUVCI/AAAAAAAAACA/IKN5XtQGUgc/s1600/1.jpg\n",
            "[%] File Downloaded !\n",
            "\n",
            "[%] Downloading Image #29 from http://jaikrishnaamaruti.com/uploads/truevalue_cars/0_06-03-2018_14-16-55.jpg\n",
            "[%] File Downloaded !\n",
            "\n",
            "[%] Downloading Image #30 from https://i.pinimg.com/originals/4b/cc/60/4bcc60ef5497f1ac8fddb4b88dc31b5f.jpg\n",
            "[%] File Downloaded !\n",
            "\n",
            "\n",
            "\n",
            "[%] Done. Downloaded 30 images.\n",
            "===============================================\n",
            "\n",
            "Please show your support here\n",
            "https://www.buymeacoffee.com/gurugaurav\n",
            "\n",
            "===============================================\n",
            "\n"
          ],
          "name": "stdout"
        }
      ]
    },
    {
      "cell_type": "code",
      "metadata": {
        "colab": {
          "base_uri": "https://localhost:8080/"
        },
        "id": "zpke7HHwhWr9",
        "outputId": "812446fe-7601-482e-92f9-b82730dff120"
      },
      "source": [
        "downloader.download(\"puma\", limit = 30, output_dir = 'images', adult_filter_off = True)"
      ],
      "execution_count": 8,
      "outputs": [
        {
          "output_type": "stream",
          "text": [
            "[%] Downloading Images to /content/images/puma\n",
            "\n",
            "\n",
            "[!!]Indexing page: 1\n",
            "\n",
            "[%] Indexed 30 Images on Page 1.\n",
            "\n",
            "===============================================\n",
            "\n",
            "[%] Downloading Image #1 from https://www.unilad.co.uk/wp-content/uploads/2018/01/puma-2903312_960_720.jpg\n",
            "[%] File Downloaded !\n",
            "\n",
            "[%] Downloading Image #2 from https://www.prodirectsoccer.com/productimages/V3_1_Gallery_1/141384.jpg\n",
            "[%] File Downloaded !\n",
            "\n",
            "[%] Downloading Image #3 from https://i.pinimg.com/originals/ce/ae/17/ceae17e6a20250cbab9d254ee28de4ca.jpg\n",
            "[%] File Downloaded !\n",
            "\n",
            "[%] Downloading Image #4 from https://www.prodirectsoccer.com/productimages/V3_1_Gallery_2/141384.jpg\n",
            "[%] File Downloaded !\n",
            "\n",
            "[%] Downloading Image #5 from http://www.80scasualclassics.co.uk/images/puma-easy-rider-trainers-white-true-blue-p8250-55033_image.jpg\n",
            "[%] File Downloaded !\n",
            "\n",
            "[%] Downloading Image #6 from https://media.endclothing.com/media/f_auto,q_auto:eco/prodmedia/media/catalog/product/2/4/24-02-2017_puma_easyrider_truebluepumawhite_363129-03_cj_7.jpg\n",
            "[%] File Downloaded !\n",
            "\n",
            "[%] Downloading Image #7 from https://footballshirtculture.com/images/stories/puma-evotouch-pro-fg-puma-white-true-blue/puma_evotouch_pro_fg_puma_white_true_blue_l.jpg\n",
            "[%] File Downloaded !\n",
            "\n",
            "[%] Downloading Image #8 from https://footballshirtculture.com/images/stories/puma-evospeed-17-sl-fg-true-blue-puma-white-puma-black/puma_evospeed_17_sl_fg_true_blue_puma_white_puma_black_k.jpg\n",
            "[%] File Downloaded !\n",
            "\n",
            "[%] Downloading Image #9 from https://www.80scasualclassics.co.uk/blog/wp-content/uploads/2017/09/Puma-Te-Ku-5.jpg\n",
            "[%] File Downloaded !\n",
            "\n",
            "[%] Downloading Image #10 from https://www.prodirectsoccer.com/productimages/V3_1_Main/141380.jpg\n",
            "[%] File Downloaded !\n",
            "\n",
            "[%] Downloading Image #11 from https://www.prodirectsoccer.com/productimages/V3_1_Main/141320_Main_Thumb_0446148.jpg\n",
            "[%] File Downloaded !\n",
            "\n",
            "[%] Downloading Image #12 from http://www.footballshirtculture.com/images/stories/puma-365-ignite-st-true-blue-puma-white-bright-plasma/puma_365_ignite_st_true_blue_puma_white_bright_plasma_b.jpg\n",
            "[%] File Downloaded !\n",
            "\n",
            "[%] Downloading Image #13 from http://www.80scasualclassics.co.uk/images/puma-easy-rider-trainers-white-true-blue-p8250-55034_image.jpg\n",
            "[%] File Downloaded !\n",
            "\n",
            "[%] Downloading Image #14 from http://dxn4q13eci7ra.cloudfront.net/media/catalog/product/LCI/Dw/4b/sfe5Zjmohcib-pKbEc08aDW5ChkkOD0IynaeoFd7ImRzIjoiaW1hZ2UiLCJmIjoiXC92XC8wXC92MDdhMTgwNV8xLmpwZyIsImZhIjoxLCJmcSI6OTAsImZ0IjoxLCJmdyI6IjExMDAifQ~~.jpg\n",
            "[%] File Downloaded !\n",
            "\n",
            "[%] Downloading Image #15 from http://www.prodirectsoccer.com/productimages/V3_1_Gallery_2/141381.jpg\n",
            "[%] File Downloaded !\n",
            "\n",
            "[%] Downloading Image #16 from https://www.80scasualclassics.co.uk/images/puma-easy-rider-trainers-true-blue-white-p8253-55030_image.jpg\n",
            "[%] File Downloaded !\n",
            "\n",
            "[%] Downloading Image #17 from https://www.footballshirtculture.com/images/stories/puma-evospeed-17-sl-s-fg-true-blue-puma-white-puma-black/puma_evospeed_17_sl_s_fg_true_blue_puma_white_puma_black_a.jpg\n",
            "[%] File Downloaded !\n",
            "\n",
            "[%] Downloading Image #18 from https://www.footballshirtculture.com/images/stories/puma-evospeed-17-sl-s-fg-true-blue-puma-white-puma-black/puma_evospeed_17_sl_s_fg_true_blue_puma_white_puma_black_l.jpg\n",
            "[%] File Downloaded !\n",
            "\n",
            "[%] Downloading Image #19 from https://www.return-games.de/wp-content/uploads/2017/11/puma-blau-herren-pacer-evo-knit-true-blue-true-blue.jpg\n",
            "[!] Issue getting: https://www.return-games.de/wp-content/uploads/2017/11/puma-blau-herren-pacer-evo-knit-true-blue-true-blue.jpg\n",
            "[!] Error:: HTTP Error 521: \n",
            "[%] Downloading Image #19 from https://www.prodirectsoccer.com/productimages/V3_1_Main/147892.jpg\n",
            "[%] File Downloaded !\n",
            "\n",
            "[%] Downloading Image #20 from https://media.endclothing.com/media/f_auto,q_auto:eco/prodmedia/media/catalog/product/2/4/24-02-2017_puma_easyrider_pumawhitetrueblue_363129-02_cj_6.jpg\n",
            "[%] File Downloaded !\n",
            "\n",
            "[%] Downloading Image #21 from https://footballshirtculture.com/images/stories/puma-evospeed-17-sl-fg-true-blue-puma-white-puma-black/puma_evospeed_17_sl_fg_true_blue_puma_white_puma_black_d.jpg\n",
            "[%] File Downloaded !\n",
            "\n",
            "[%] Downloading Image #22 from http://www.prodirectsoccer.com/productimages/V3_1_Gallery_1/141381.jpg\n",
            "[%] File Downloaded !\n",
            "\n",
            "[%] Downloading Image #23 from https://www.footballshirtculture.com/images/stories/puma-365-ignite-st-true-blue-puma-white-bright-plasma/puma_365_ignite_st_true_blue_puma_white_bright_plasma_e.jpg\n",
            "[%] File Downloaded !\n",
            "\n",
            "[%] Downloading Image #24 from https://www.prodirectrunning.com/productimages/V3_1_Gallery_1/147889.jpg\n",
            "[%] File Downloaded !\n",
            "\n",
            "[%] Downloading Image #25 from https://thumblr-7.uniid.it/product/156181/d7e0858aca71.jpg\n",
            "[%] File Downloaded !\n",
            "\n",
            "[%] Downloading Image #26 from https://www.prodirectrunning.com/productimages/V3_1_Main/147889.jpg\n",
            "[%] File Downloaded !\n",
            "\n",
            "[%] Downloading Image #27 from https://footballshirtculture.com/images/stories/puma-evospeed-17-sl-fg-true-blue-puma-white-puma-black/puma_evospeed_17_sl_fg_true_blue_puma_white_puma_black_g.jpg\n",
            "[%] File Downloaded !\n",
            "\n",
            "[%] Downloading Image #28 from https://n4.sdlcdn.com/imgs/a/x/7/Puma-Pluto-DP-Running-Shoes-SDL769814837-2-be12c.jpg\n",
            "[%] File Downloaded !\n",
            "\n",
            "[%] Downloading Image #29 from https://www.prodirectsoccer.com/productimages/V3_1_Main/141382.jpg\n",
            "[%] File Downloaded !\n",
            "\n",
            "\n",
            "\n",
            "[!!]Indexing page: 2\n",
            "\n",
            "[%] Indexed 35 Images on Page 2.\n",
            "\n",
            "===============================================\n",
            "\n",
            "[%] Downloading Image #30 from https://www.unilad.co.uk/wp-content/uploads/2018/01/puma-2903312_960_720.jpg\n",
            "[%] File Downloaded !\n",
            "\n",
            "\n",
            "\n",
            "[%] Done. Downloaded 30 images.\n",
            "===============================================\n",
            "\n",
            "Please show your support here\n",
            "https://www.buymeacoffee.com/gurugaurav\n",
            "\n",
            "===============================================\n",
            "\n"
          ],
          "name": "stdout"
        }
      ]
    },
    {
      "cell_type": "markdown",
      "metadata": {
        "id": "sUnUYN3_iCaj"
      },
      "source": [
        "Import Libraries and Preprocessing"
      ]
    },
    {
      "cell_type": "code",
      "metadata": {
        "id": "4WmQOAGKiK20"
      },
      "source": [
        "import os\n",
        "import matplotlib.pyplot as plt\n",
        "import numpy as np\n",
        "from skimage.io import imread\n",
        "from skimage.transform import resize\n"
      ],
      "execution_count": 9,
      "outputs": []
    },
    {
      "cell_type": "code",
      "metadata": {
        "id": "Wr0WO5xMiio_"
      },
      "source": [
        "target = []\n",
        "images = []\n",
        "flat_data = []"
      ],
      "execution_count": 10,
      "outputs": []
    },
    {
      "cell_type": "code",
      "metadata": {
        "id": "NPnf4znFiq7t"
      },
      "source": [
        "DATADIR = '/content/images'\n",
        "CATEGORIES = ['beautiful horses', 'car', 'puma']"
      ],
      "execution_count": 12,
      "outputs": []
    },
    {
      "cell_type": "code",
      "metadata": {
        "id": "ZyOICkhIjAju"
      },
      "source": [
        "for category in CATEGORIES:\n",
        "  #print(category)\n",
        "  class_num = CATEGORIES.index(category)\n",
        "  #print(class_num)\n",
        "  path = os.path.join(DATADIR, category)\n",
        "  #print(path)\n",
        "  for img in os.listdir(path):\n",
        "    img_array = imread(os.path.join(path, img))\n",
        "    #print(img_array.shape)\n",
        "    #plt.imshow(img_array)\n",
        "    #break\n",
        "    img_resized = resize(img_array, (150, 150, 3))\n",
        "    flat_data.append(img_resized.flatten())\n",
        "    images.append(img_resized)\n",
        "    target.append(class_num)\n",
        "\n",
        "\n",
        "\n",
        "flat_data = np.array(flat_data)\n",
        "target = np.array(target)\n",
        "images = np.array(images)    "
      ],
      "execution_count": 19,
      "outputs": []
    },
    {
      "cell_type": "code",
      "metadata": {
        "colab": {
          "base_uri": "https://localhost:8080/"
        },
        "id": "vTOv_T59mByF",
        "outputId": "47fd2d01-ea6c-497c-ee49-2f6288582942"
      },
      "source": [
        "flat_data[0]"
      ],
      "execution_count": 20,
      "outputs": [
        {
          "output_type": "execute_result",
          "data": {
            "text/plain": [
              "array([0.1372549 , 0.16078431, 0.22352941, ..., 0.14901961, 0.16078431,\n",
              "       0.22352941])"
            ]
          },
          "metadata": {
            "tags": []
          },
          "execution_count": 20
        }
      ]
    },
    {
      "cell_type": "code",
      "metadata": {
        "colab": {
          "base_uri": "https://localhost:8080/"
        },
        "id": "xOvlST7B7Vhz",
        "outputId": "63a0cb1b-afaa-4922-c8bf-1da9c17172d3"
      },
      "source": [
        "len(flat_data[0])"
      ],
      "execution_count": 21,
      "outputs": [
        {
          "output_type": "execute_result",
          "data": {
            "text/plain": [
              "67500"
            ]
          },
          "metadata": {
            "tags": []
          },
          "execution_count": 21
        }
      ]
    },
    {
      "cell_type": "code",
      "metadata": {
        "colab": {
          "base_uri": "https://localhost:8080/"
        },
        "id": "DAWyNSjh7Z2L",
        "outputId": "bc89529a-3334-4b35-e546-f2fefc3cb5a9"
      },
      "source": [
        "target"
      ],
      "execution_count": 22,
      "outputs": [
        {
          "output_type": "execute_result",
          "data": {
            "text/plain": [
              "array([0, 0, 0, 0, 0, 0, 0, 0, 0, 0, 0, 0, 0, 0, 0, 0, 0, 0, 0, 0, 0, 0,\n",
              "       0, 0, 0, 0, 0, 0, 0, 0, 1, 1, 1, 1, 1, 1, 1, 1, 1, 1, 1, 1, 1, 1,\n",
              "       1, 1, 1, 1, 1, 1, 1, 1, 1, 1, 1, 1, 1, 1, 1, 1, 2, 2, 2, 2, 2, 2,\n",
              "       2, 2, 2, 2, 2, 2, 2, 2, 2, 2, 2, 2, 2, 2, 2, 2, 2, 2, 2, 2, 2, 2,\n",
              "       2, 2])"
            ]
          },
          "metadata": {
            "tags": []
          },
          "execution_count": 22
        }
      ]
    },
    {
      "cell_type": "code",
      "metadata": {
        "colab": {
          "base_uri": "https://localhost:8080/",
          "height": 282
        },
        "id": "ydpSJaSg7dt3",
        "outputId": "c4de59aa-28fd-46db-879a-d45d1aa8070d"
      },
      "source": [
        "unique, count = np.unique(target, return_counts = True)\n",
        "plt.bar(CATEGORIES, count)"
      ],
      "execution_count": 23,
      "outputs": [
        {
          "output_type": "execute_result",
          "data": {
            "text/plain": [
              "<BarContainer object of 3 artists>"
            ]
          },
          "metadata": {
            "tags": []
          },
          "execution_count": 23
        },
        {
          "output_type": "display_data",
          "data": {
            "image/png": "[encoded data removed]",
            "text/plain": [
              "<Figure size 432x288 with 1 Axes>"
            ]
          },
          "metadata": {
            "tags": [],
            "needs_background": "light"
          }
        }
      ]
    },
    {
      "cell_type": "code",
      "metadata": {
        "id": "f7kmKOCq8M3D"
      },
      "source": [
        ""
      ],
      "execution_count": null,
      "outputs": []
    },
    {
      "cell_type": "markdown",
      "metadata": {
        "id": "LHxUmIzSCmlf"
      },
      "source": [
        "Split data into Training and testing"
      ]
    },
    {
      "cell_type": "code",
      "metadata": {
        "id": "6si1QWjgCsmA"
      },
      "source": [
        "from sklearn.model_selection import train_test_split\n",
        "\n",
        "X_train, X_test, y_train, y_test = train_test_split(flat_data, target, test_size = 0.3, random_state = 109)"
      ],
      "execution_count": 24,
      "outputs": []
    },
    {
      "cell_type": "code",
      "metadata": {
        "id": "4uHqWwhGDIq7"
      },
      "source": [
        "from sklearn.model_selection import GridSearchCV\n",
        "\n",
        "from sklearn import svm"
      ],
      "execution_count": 26,
      "outputs": []
    },
    {
      "cell_type": "code",
      "metadata": {
        "id": "vjD5PS3FDUAt"
      },
      "source": [
        "param_grid = [\n",
        "              {'C' : [1, 10, 100, 1000], 'kernel': ['linear']},\n",
        "              {'C' : [1, 10, 100, 1000], 'gamma' :[0.001, 0.0001], 'kernel' : ['rbf']},\n",
        "]"
      ],
      "execution_count": 27,
      "outputs": []
    },
    {
      "cell_type": "code",
      "metadata": {
        "colab": {
          "base_uri": "https://localhost:8080/"
        },
        "id": "Kl6yN_AsEdNh",
        "outputId": "1347b512-368c-43e9-f13d-4d361eff0da2"
      },
      "source": [
        "svc = svm.SVC(probability = True)\n",
        "clf = GridSearchCV(svc, param_grid)\n",
        "clf.fit(X_train, y_train)"
      ],
      "execution_count": 28,
      "outputs": [
        {
          "output_type": "execute_result",
          "data": {
            "text/plain": [
              "GridSearchCV(cv=None, error_score=nan,\n",
              "             estimator=SVC(C=1.0, break_ties=False, cache_size=200,\n",
              "                           class_weight=None, coef0=0.0,\n",
              "                           decision_function_shape='ovr', degree=3,\n",
              "                           gamma='scale', kernel='rbf', max_iter=-1,\n",
              "                           probability=True, random_state=None, shrinking=True,\n",
              "                           tol=0.001, verbose=False),\n",
              "             iid='deprecated', n_jobs=None,\n",
              "             param_grid=[{'C': [1, 10, 100, 1000], 'kernel': ['linear']},\n",
              "                         {'C': [1, 10, 100, 1000], 'gamma': [0.001, 0.0001],\n",
              "                          'kernel': ['rbf']}],\n",
              "             pre_dispatch='2*n_jobs', refit=True, return_train_score=False,\n",
              "             scoring=None, verbose=0)"
            ]
          },
          "metadata": {
            "tags": []
          },
          "execution_count": 28
        }
      ]
    },
    {
      "cell_type": "code",
      "metadata": {
        "id": "3ZBJzjuLE2F3"
      },
      "source": [
        "y_pred = clf.predict(X_test)"
      ],
      "execution_count": 29,
      "outputs": []
    },
    {
      "cell_type": "code",
      "metadata": {
        "colab": {
          "base_uri": "https://localhost:8080/"
        },
        "id": "2coEJfBTFc4x",
        "outputId": "a070f436-ca75-484f-d55d-5802554756ba"
      },
      "source": [
        "y_pred"
      ],
      "execution_count": 30,
      "outputs": [
        {
          "output_type": "execute_result",
          "data": {
            "text/plain": [
              "array([0, 0, 0, 2, 2, 0, 0, 0, 1, 0, 1, 1, 1, 2, 2, 0, 2, 2, 0, 2, 2, 1,\n",
              "       2, 0, 2, 1, 1])"
            ]
          },
          "metadata": {
            "tags": []
          },
          "execution_count": 30
        }
      ]
    },
    {
      "cell_type": "code",
      "metadata": {
        "colab": {
          "base_uri": "https://localhost:8080/"
        },
        "id": "XrYifgBZFePA",
        "outputId": "f701eb8c-b0c6-40d0-8661-2deffd1f0a12"
      },
      "source": [
        "y_test"
      ],
      "execution_count": 31,
      "outputs": [
        {
          "output_type": "execute_result",
          "data": {
            "text/plain": [
              "array([1, 0, 1, 2, 2, 1, 0, 1, 1, 0, 1, 0, 1, 2, 2, 1, 2, 1, 0, 1, 2, 2,\n",
              "       2, 0, 0, 0, 1])"
            ]
          },
          "metadata": {
            "tags": []
          },
          "execution_count": 31
        }
      ]
    },
    {
      "cell_type": "code",
      "metadata": {
        "colab": {
          "base_uri": "https://localhost:8080/"
        },
        "id": "Utgcf9nXFgg5",
        "outputId": "767286fa-ffda-48db-d2b0-cebff25343c4"
      },
      "source": [
        "from sklearn.metrics import accuracy_score, confusion_matrix\n",
        "\n",
        "accuracy_score(y_pred, y_test)"
      ],
      "execution_count": 32,
      "outputs": [
        {
          "output_type": "execute_result",
          "data": {
            "text/plain": [
              "0.5925925925925926"
            ]
          },
          "metadata": {
            "tags": []
          },
          "execution_count": 32
        }
      ]
    },
    {
      "cell_type": "code",
      "metadata": {
        "colab": {
          "base_uri": "https://localhost:8080/"
        },
        "id": "8CejghzFGFgP",
        "outputId": "36176762-15f8-430f-c99c-6b8efccabf03"
      },
      "source": [
        "confusion_matrix(y_pred, y_test)"
      ],
      "execution_count": 33,
      "outputs": [
        {
          "output_type": "execute_result",
          "data": {
            "text/plain": [
              "array([[5, 5, 0],\n",
              "       [2, 4, 1],\n",
              "       [1, 2, 7]])"
            ]
          },
          "metadata": {
            "tags": []
          },
          "execution_count": 33
        }
      ]
    },
    {
      "cell_type": "code",
      "metadata": {
        "id": "JaVQE0M1GORe"
      },
      "source": [
        ""
      ],
      "execution_count": null,
      "outputs": []
    }
  ]
}