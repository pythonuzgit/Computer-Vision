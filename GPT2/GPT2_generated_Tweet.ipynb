{
  "nbformat": 4,
  "nbformat_minor": 0,
  "metadata": {
    "colab": {
      "provenance": [],
      "authorship_tag": "ABX9TyME9Z2gsMCE4k36XhqebxCN",
      "include_colab_link": true
    },
    "kernelspec": {
      "name": "python3",
      "display_name": "Python 3"
    },
    "language_info": {
      "name": "python"
    },
    "accelerator": "GPU",
    "gpuClass": "standard",
    "widgets": {
      "application/vnd.jupyter.widget-state+json": {
        "0b056ec181ff468fba5a803862664913": {
          "model_module": "@jupyter-widgets/controls",
          "model_name": "HBoxModel",
          "model_module_version": "1.5.0",
          "state": {
            "_dom_classes": [],
            "_model_module": "@jupyter-widgets/controls",
            "_model_module_version": "1.5.0",
            "_model_name": "HBoxModel",
            "_view_count": null,
            "_view_module": "@jupyter-widgets/controls",
            "_view_module_version": "1.5.0",
            "_view_name": "HBoxView",
            "box_style": "",
            "children": [
              "IPY_MODEL_535e8c07d3fe4c0aacb6702fd1f6a642",
              "IPY_MODEL_eab112c855ba487b9ede6ab06874611b",
              "IPY_MODEL_88e8ba2325c142ff99223943870ac24d"
            ],
            "layout": "IPY_MODEL_9404bd93b37f4cacb43a6f43eecf7691"
          }
        },
        "535e8c07d3fe4c0aacb6702fd1f6a642": {
          "model_module": "@jupyter-widgets/controls",
          "model_name": "HTMLModel",
          "model_module_version": "1.5.0",
          "state": {
            "_dom_classes": [],
            "_model_module": "@jupyter-widgets/controls",
            "_model_module_version": "1.5.0",
            "_model_name": "HTMLModel",
            "_view_count": null,
            "_view_module": "@jupyter-widgets/controls",
            "_view_module_version": "1.5.0",
            "_view_name": "HTMLView",
            "description": "",
            "description_tooltip": null,
            "layout": "IPY_MODEL_4ac3e287540342229728963254a339e5",
            "placeholder": "​",
            "style": "IPY_MODEL_ad98cbd54cea44ffb88d89c826a415cb",
            "value": "100%"
          }
        },
        "eab112c855ba487b9ede6ab06874611b": {
          "model_module": "@jupyter-widgets/controls",
          "model_name": "FloatProgressModel",
          "model_module_version": "1.5.0",
          "state": {
            "_dom_classes": [],
            "_model_module": "@jupyter-widgets/controls",
            "_model_module_version": "1.5.0",
            "_model_name": "FloatProgressModel",
            "_view_count": null,
            "_view_module": "@jupyter-widgets/controls",
            "_view_module_version": "1.5.0",
            "_view_name": "ProgressView",
            "bar_style": "success",
            "description": "",
            "description_tooltip": null,
            "layout": "IPY_MODEL_e3ee1d52cc4d480384b91211dda414dd",
            "max": 109352,
            "min": 0,
            "orientation": "horizontal",
            "style": "IPY_MODEL_f0cc008945d14e559895edab9c7e99c5",
            "value": 109352
          }
        },
        "88e8ba2325c142ff99223943870ac24d": {
          "model_module": "@jupyter-widgets/controls",
          "model_name": "HTMLModel",
          "model_module_version": "1.5.0",
          "state": {
            "_dom_classes": [],
            "_model_module": "@jupyter-widgets/controls",
            "_model_module_version": "1.5.0",
            "_model_name": "HTMLModel",
            "_view_count": null,
            "_view_module": "@jupyter-widgets/controls",
            "_view_module_version": "1.5.0",
            "_view_name": "HTMLView",
            "description": "",
            "description_tooltip": null,
            "layout": "IPY_MODEL_3f55851a8ff443a7bf9064b913f20123",
            "placeholder": "​",
            "style": "IPY_MODEL_1b3e925d15f3488598c32ca5bbdaea58",
            "value": " 109352/109352 [00:13&lt;00:00, 8073.46it/s]"
          }
        },
        "9404bd93b37f4cacb43a6f43eecf7691": {
          "model_module": "@jupyter-widgets/base",
          "model_name": "LayoutModel",
          "model_module_version": "1.2.0",
          "state": {
            "_model_module": "@jupyter-widgets/base",
            "_model_module_version": "1.2.0",
            "_model_name": "LayoutModel",
            "_view_count": null,
            "_view_module": "@jupyter-widgets/base",
            "_view_module_version": "1.2.0",
            "_view_name": "LayoutView",
            "align_content": null,
            "align_items": null,
            "align_self": null,
            "border": null,
            "bottom": null,
            "display": "inline-flex",
            "flex": null,
            "flex_flow": "row wrap",
            "grid_area": null,
            "grid_auto_columns": null,
            "grid_auto_flow": null,
            "grid_auto_rows": null,
            "grid_column": null,
            "grid_gap": null,
            "grid_row": null,
            "grid_template_areas": null,
            "grid_template_columns": null,
            "grid_template_rows": null,
            "height": null,
            "justify_content": null,
            "justify_items": null,
            "left": null,
            "margin": null,
            "max_height": null,
            "max_width": null,
            "min_height": null,
            "min_width": null,
            "object_fit": null,
            "object_position": null,
            "order": null,
            "overflow": null,
            "overflow_x": null,
            "overflow_y": null,
            "padding": null,
            "right": null,
            "top": null,
            "visibility": null,
            "width": "100%"
          }
        },
        "4ac3e287540342229728963254a339e5": {
          "model_module": "@jupyter-widgets/base",
          "model_name": "LayoutModel",
          "model_module_version": "1.2.0",
          "state": {
            "_model_module": "@jupyter-widgets/base",
            "_model_module_version": "1.2.0",
            "_model_name": "LayoutModel",
            "_view_count": null,
            "_view_module": "@jupyter-widgets/base",
            "_view_module_version": "1.2.0",
            "_view_name": "LayoutView",
            "align_content": null,
            "align_items": null,
            "align_self": null,
            "border": null,
            "bottom": null,
            "display": null,
            "flex": null,
            "flex_flow": null,
            "grid_area": null,
            "grid_auto_columns": null,
            "grid_auto_flow": null,
            "grid_auto_rows": null,
            "grid_column": null,
            "grid_gap": null,
            "grid_row": null,
            "grid_template_areas": null,
            "grid_template_columns": null,
            "grid_template_rows": null,
            "height": null,
            "justify_content": null,
            "justify_items": null,
            "left": null,
            "margin": null,
            "max_height": null,
            "max_width": null,
            "min_height": null,
            "min_width": null,
            "object_fit": null,
            "object_position": null,
            "order": null,
            "overflow": null,
            "overflow_x": null,
            "overflow_y": null,
            "padding": null,
            "right": null,
            "top": null,
            "visibility": null,
            "width": null
          }
        },
        "ad98cbd54cea44ffb88d89c826a415cb": {
          "model_module": "@jupyter-widgets/controls",
          "model_name": "DescriptionStyleModel",
          "model_module_version": "1.5.0",
          "state": {
            "_model_module": "@jupyter-widgets/controls",
            "_model_module_version": "1.5.0",
            "_model_name": "DescriptionStyleModel",
            "_view_count": null,
            "_view_module": "@jupyter-widgets/base",
            "_view_module_version": "1.2.0",
            "_view_name": "StyleView",
            "description_width": ""
          }
        },
        "e3ee1d52cc4d480384b91211dda414dd": {
          "model_module": "@jupyter-widgets/base",
          "model_name": "LayoutModel",
          "model_module_version": "1.2.0",
          "state": {
            "_model_module": "@jupyter-widgets/base",
            "_model_module_version": "1.2.0",
            "_model_name": "LayoutModel",
            "_view_count": null,
            "_view_module": "@jupyter-widgets/base",
            "_view_module_version": "1.2.0",
            "_view_name": "LayoutView",
            "align_content": null,
            "align_items": null,
            "align_self": null,
            "border": null,
            "bottom": null,
            "display": null,
            "flex": "2",
            "flex_flow": null,
            "grid_area": null,
            "grid_auto_columns": null,
            "grid_auto_flow": null,
            "grid_auto_rows": null,
            "grid_column": null,
            "grid_gap": null,
            "grid_row": null,
            "grid_template_areas": null,
            "grid_template_columns": null,
            "grid_template_rows": null,
            "height": null,
            "justify_content": null,
            "justify_items": null,
            "left": null,
            "margin": null,
            "max_height": null,
            "max_width": null,
            "min_height": null,
            "min_width": null,
            "object_fit": null,
            "object_position": null,
            "order": null,
            "overflow": null,
            "overflow_x": null,
            "overflow_y": null,
            "padding": null,
            "right": null,
            "top": null,
            "visibility": null,
            "width": null
          }
        },
        "f0cc008945d14e559895edab9c7e99c5": {
          "model_module": "@jupyter-widgets/controls",
          "model_name": "ProgressStyleModel",
          "model_module_version": "1.5.0",
          "state": {
            "_model_module": "@jupyter-widgets/controls",
            "_model_module_version": "1.5.0",
            "_model_name": "ProgressStyleModel",
            "_view_count": null,
            "_view_module": "@jupyter-widgets/base",
            "_view_module_version": "1.2.0",
            "_view_name": "StyleView",
            "bar_color": null,
            "description_width": ""
          }
        },
        "3f55851a8ff443a7bf9064b913f20123": {
          "model_module": "@jupyter-widgets/base",
          "model_name": "LayoutModel",
          "model_module_version": "1.2.0",
          "state": {
            "_model_module": "@jupyter-widgets/base",
            "_model_module_version": "1.2.0",
            "_model_name": "LayoutModel",
            "_view_count": null,
            "_view_module": "@jupyter-widgets/base",
            "_view_module_version": "1.2.0",
            "_view_name": "LayoutView",
            "align_content": null,
            "align_items": null,
            "align_self": null,
            "border": null,
            "bottom": null,
            "display": null,
            "flex": null,
            "flex_flow": null,
            "grid_area": null,
            "grid_auto_columns": null,
            "grid_auto_flow": null,
            "grid_auto_rows": null,
            "grid_column": null,
            "grid_gap": null,
            "grid_row": null,
            "grid_template_areas": null,
            "grid_template_columns": null,
            "grid_template_rows": null,
            "height": null,
            "justify_content": null,
            "justify_items": null,
            "left": null,
            "margin": null,
            "max_height": null,
            "max_width": null,
            "min_height": null,
            "min_width": null,
            "object_fit": null,
            "object_position": null,
            "order": null,
            "overflow": null,
            "overflow_x": null,
            "overflow_y": null,
            "padding": null,
            "right": null,
            "top": null,
            "visibility": null,
            "width": null
          }
        },
        "1b3e925d15f3488598c32ca5bbdaea58": {
          "model_module": "@jupyter-widgets/controls",
          "model_name": "DescriptionStyleModel",
          "model_module_version": "1.5.0",
          "state": {
            "_model_module": "@jupyter-widgets/controls",
            "_model_module_version": "1.5.0",
            "_model_name": "DescriptionStyleModel",
            "_view_count": null,
            "_view_module": "@jupyter-widgets/base",
            "_view_module_version": "1.2.0",
            "_view_name": "StyleView",
            "description_width": ""
          }
        },
        "0676a956b9e3492ebe8bb707498af84a": {
          "model_module": "@jupyter-widgets/controls",
          "model_name": "HBoxModel",
          "model_module_version": "1.5.0",
          "state": {
            "_dom_classes": [],
            "_model_module": "@jupyter-widgets/controls",
            "_model_module_version": "1.5.0",
            "_model_name": "HBoxModel",
            "_view_count": null,
            "_view_module": "@jupyter-widgets/controls",
            "_view_module_version": "1.5.0",
            "_view_name": "HBoxView",
            "box_style": "",
            "children": [
              "IPY_MODEL_3dd8c7f224ed4a84a4c9aa04eb527d1d",
              "IPY_MODEL_7c0ed14964924c7e8aaadb8604c66c71",
              "IPY_MODEL_56e52a012d6642a0907b3757b7adc4c8"
            ],
            "layout": "IPY_MODEL_a3ec89e8c734465fadff67ce29a339bc"
          }
        },
        "3dd8c7f224ed4a84a4c9aa04eb527d1d": {
          "model_module": "@jupyter-widgets/controls",
          "model_name": "HTMLModel",
          "model_module_version": "1.5.0",
          "state": {
            "_dom_classes": [],
            "_model_module": "@jupyter-widgets/controls",
            "_model_module_version": "1.5.0",
            "_model_name": "HTMLModel",
            "_view_count": null,
            "_view_module": "@jupyter-widgets/controls",
            "_view_module_version": "1.5.0",
            "_view_name": "HTMLView",
            "description": "",
            "description_tooltip": null,
            "layout": "IPY_MODEL_6b61b7280db84e0583273de17df02951",
            "placeholder": "​",
            "style": "IPY_MODEL_010b2eb5b79d44bba0519283f583ea64",
            "value": "Loss: 3.530 — Avg: 3.939 — GPU Mem: 5994 MB: 100%"
          }
        },
        "7c0ed14964924c7e8aaadb8604c66c71": {
          "model_module": "@jupyter-widgets/controls",
          "model_name": "FloatProgressModel",
          "model_module_version": "1.5.0",
          "state": {
            "_dom_classes": [],
            "_model_module": "@jupyter-widgets/controls",
            "_model_module_version": "1.5.0",
            "_model_name": "FloatProgressModel",
            "_view_count": null,
            "_view_module": "@jupyter-widgets/controls",
            "_view_module_version": "1.5.0",
            "_view_name": "ProgressView",
            "bar_style": "success",
            "description": "",
            "description_tooltip": null,
            "layout": "IPY_MODEL_7a27a923c398433aa7bfa65b63941cfb",
            "max": 100,
            "min": 0,
            "orientation": "horizontal",
            "style": "IPY_MODEL_0852a2e291594658a2ee3816d191a155",
            "value": 100
          }
        },
        "56e52a012d6642a0907b3757b7adc4c8": {
          "model_module": "@jupyter-widgets/controls",
          "model_name": "HTMLModel",
          "model_module_version": "1.5.0",
          "state": {
            "_dom_classes": [],
            "_model_module": "@jupyter-widgets/controls",
            "_model_module_version": "1.5.0",
            "_model_name": "HTMLModel",
            "_view_count": null,
            "_view_module": "@jupyter-widgets/controls",
            "_view_module_version": "1.5.0",
            "_view_name": "HTMLView",
            "description": "",
            "description_tooltip": null,
            "layout": "IPY_MODEL_a0276632870d4463aa1fb8ffb50bee3c",
            "placeholder": "​",
            "style": "IPY_MODEL_5798538098a9449f87c9271d6348363b",
            "value": " 100/100 [00:56&lt;00:00,  1.76it/s]"
          }
        },
        "a3ec89e8c734465fadff67ce29a339bc": {
          "model_module": "@jupyter-widgets/base",
          "model_name": "LayoutModel",
          "model_module_version": "1.2.0",
          "state": {
            "_model_module": "@jupyter-widgets/base",
            "_model_module_version": "1.2.0",
            "_model_name": "LayoutModel",
            "_view_count": null,
            "_view_module": "@jupyter-widgets/base",
            "_view_module_version": "1.2.0",
            "_view_name": "LayoutView",
            "align_content": null,
            "align_items": null,
            "align_self": null,
            "border": null,
            "bottom": null,
            "display": "inline-flex",
            "flex": null,
            "flex_flow": "row wrap",
            "grid_area": null,
            "grid_auto_columns": null,
            "grid_auto_flow": null,
            "grid_auto_rows": null,
            "grid_column": null,
            "grid_gap": null,
            "grid_row": null,
            "grid_template_areas": null,
            "grid_template_columns": null,
            "grid_template_rows": null,
            "height": null,
            "justify_content": null,
            "justify_items": null,
            "left": null,
            "margin": null,
            "max_height": null,
            "max_width": null,
            "min_height": null,
            "min_width": null,
            "object_fit": null,
            "object_position": null,
            "order": null,
            "overflow": null,
            "overflow_x": null,
            "overflow_y": null,
            "padding": null,
            "right": null,
            "top": null,
            "visibility": null,
            "width": "100%"
          }
        },
        "6b61b7280db84e0583273de17df02951": {
          "model_module": "@jupyter-widgets/base",
          "model_name": "LayoutModel",
          "model_module_version": "1.2.0",
          "state": {
            "_model_module": "@jupyter-widgets/base",
            "_model_module_version": "1.2.0",
            "_model_name": "LayoutModel",
            "_view_count": null,
            "_view_module": "@jupyter-widgets/base",
            "_view_module_version": "1.2.0",
            "_view_name": "LayoutView",
            "align_content": null,
            "align_items": null,
            "align_self": null,
            "border": null,
            "bottom": null,
            "display": null,
            "flex": null,
            "flex_flow": null,
            "grid_area": null,
            "grid_auto_columns": null,
            "grid_auto_flow": null,
            "grid_auto_rows": null,
            "grid_column": null,
            "grid_gap": null,
            "grid_row": null,
            "grid_template_areas": null,
            "grid_template_columns": null,
            "grid_template_rows": null,
            "height": null,
            "justify_content": null,
            "justify_items": null,
            "left": null,
            "margin": null,
            "max_height": null,
            "max_width": null,
            "min_height": null,
            "min_width": null,
            "object_fit": null,
            "object_position": null,
            "order": null,
            "overflow": null,
            "overflow_x": null,
            "overflow_y": null,
            "padding": null,
            "right": null,
            "top": null,
            "visibility": null,
            "width": null
          }
        },
        "010b2eb5b79d44bba0519283f583ea64": {
          "model_module": "@jupyter-widgets/controls",
          "model_name": "DescriptionStyleModel",
          "model_module_version": "1.5.0",
          "state": {
            "_model_module": "@jupyter-widgets/controls",
            "_model_module_version": "1.5.0",
            "_model_name": "DescriptionStyleModel",
            "_view_count": null,
            "_view_module": "@jupyter-widgets/base",
            "_view_module_version": "1.2.0",
            "_view_name": "StyleView",
            "description_width": ""
          }
        },
        "7a27a923c398433aa7bfa65b63941cfb": {
          "model_module": "@jupyter-widgets/base",
          "model_name": "LayoutModel",
          "model_module_version": "1.2.0",
          "state": {
            "_model_module": "@jupyter-widgets/base",
            "_model_module_version": "1.2.0",
            "_model_name": "LayoutModel",
            "_view_count": null,
            "_view_module": "@jupyter-widgets/base",
            "_view_module_version": "1.2.0",
            "_view_name": "LayoutView",
            "align_content": null,
            "align_items": null,
            "align_self": null,
            "border": null,
            "bottom": null,
            "display": null,
            "flex": "2",
            "flex_flow": null,
            "grid_area": null,
            "grid_auto_columns": null,
            "grid_auto_flow": null,
            "grid_auto_rows": null,
            "grid_column": null,
            "grid_gap": null,
            "grid_row": null,
            "grid_template_areas": null,
            "grid_template_columns": null,
            "grid_template_rows": null,
            "height": null,
            "justify_content": null,
            "justify_items": null,
            "left": null,
            "margin": null,
            "max_height": null,
            "max_width": null,
            "min_height": null,
            "min_width": null,
            "object_fit": null,
            "object_position": null,
            "order": null,
            "overflow": null,
            "overflow_x": null,
            "overflow_y": null,
            "padding": null,
            "right": null,
            "top": null,
            "visibility": null,
            "width": null
          }
        },
        "0852a2e291594658a2ee3816d191a155": {
          "model_module": "@jupyter-widgets/controls",
          "model_name": "ProgressStyleModel",
          "model_module_version": "1.5.0",
          "state": {
            "_model_module": "@jupyter-widgets/controls",
            "_model_module_version": "1.5.0",
            "_model_name": "ProgressStyleModel",
            "_view_count": null,
            "_view_module": "@jupyter-widgets/base",
            "_view_module_version": "1.2.0",
            "_view_name": "StyleView",
            "bar_color": null,
            "description_width": ""
          }
        },
        "a0276632870d4463aa1fb8ffb50bee3c": {
          "model_module": "@jupyter-widgets/base",
          "model_name": "LayoutModel",
          "model_module_version": "1.2.0",
          "state": {
            "_model_module": "@jupyter-widgets/base",
            "_model_module_version": "1.2.0",
            "_model_name": "LayoutModel",
            "_view_count": null,
            "_view_module": "@jupyter-widgets/base",
            "_view_module_version": "1.2.0",
            "_view_name": "LayoutView",
            "align_content": null,
            "align_items": null,
            "align_self": null,
            "border": null,
            "bottom": null,
            "display": null,
            "flex": null,
            "flex_flow": null,
            "grid_area": null,
            "grid_auto_columns": null,
            "grid_auto_flow": null,
            "grid_auto_rows": null,
            "grid_column": null,
            "grid_gap": null,
            "grid_row": null,
            "grid_template_areas": null,
            "grid_template_columns": null,
            "grid_template_rows": null,
            "height": null,
            "justify_content": null,
            "justify_items": null,
            "left": null,
            "margin": null,
            "max_height": null,
            "max_width": null,
            "min_height": null,
            "min_width": null,
            "object_fit": null,
            "object_position": null,
            "order": null,
            "overflow": null,
            "overflow_x": null,
            "overflow_y": null,
            "padding": null,
            "right": null,
            "top": null,
            "visibility": null,
            "width": null
          }
        },
        "5798538098a9449f87c9271d6348363b": {
          "model_module": "@jupyter-widgets/controls",
          "model_name": "DescriptionStyleModel",
          "model_module_version": "1.5.0",
          "state": {
            "_model_module": "@jupyter-widgets/controls",
            "_model_module_version": "1.5.0",
            "_model_name": "DescriptionStyleModel",
            "_view_count": null,
            "_view_module": "@jupyter-widgets/base",
            "_view_module_version": "1.2.0",
            "_view_name": "StyleView",
            "description_width": ""
          }
        }
      }
    }
  },
  "cells": [
    {
      "cell_type": "markdown",
      "metadata": {
        "id": "view-in-github",
        "colab_type": "text"
      },
      "source": [
        "<a href=\"https://colab.research.google.com/github/pythonuzgit/elmurodov/blob/master/GPT2/GPT2_generated_Tweet.ipynb\" target=\"_parent\"><img src=\"https://colab.research.google.com/assets/colab-badge.svg\" alt=\"Open In Colab\"/></a>"
      ]
    },
    {
      "cell_type": "code",
      "execution_count": null,
      "metadata": {
        "id": "ow3UELZY28PO"
      },
      "outputs": [],
      "source": []
    },
    {
      "cell_type": "code",
      "source": [],
      "metadata": {
        "id": "ayNw4bbdrTfj"
      },
      "execution_count": null,
      "outputs": []
    },
    {
      "cell_type": "code",
      "source": [
        "!pip uninstall -qqy torch torchvision torchtext torchaudio fastai"
      ],
      "metadata": {
        "id": "X4m-APiirTbc"
      },
      "execution_count": null,
      "outputs": []
    },
    {
      "cell_type": "code",
      "source": [
        "!pip install -qq torch==1.11.0 pytorch-lightning==1.7.7 aitextgen==0.6.0"
      ],
      "metadata": {
        "colab": {
          "base_uri": "https://localhost:8080/"
        },
        "id": "6lYspVdGrTX8",
        "outputId": "4c5fd905-5dac-4b7f-ba8a-1a6fedd80c3c"
      },
      "execution_count": null,
      "outputs": [
        {
          "output_type": "stream",
          "name": "stdout",
          "text": [
            "\u001b[2K     \u001b[90m━━━━━━━━━━━━━━━━━━━━━━━━━━━━━━━━━━━━━━━\u001b[0m \u001b[32m750.6/750.6 MB\u001b[0m \u001b[31m2.2 MB/s\u001b[0m eta \u001b[36m0:00:00\u001b[0m\n",
            "\u001b[2K     \u001b[90m━━━━━━━━━━━━━━━━━━━━━━━━━━━━━━━━━━━━━━\u001b[0m \u001b[32m708.1/708.1 KB\u001b[0m \u001b[31m54.7 MB/s\u001b[0m eta \u001b[36m0:00:00\u001b[0m\n",
            "\u001b[2K     \u001b[90m━━━━━━━━━━━━━━━━━━━━━━━━━━━━━━━━━━━━━━\u001b[0m \u001b[32m572.2/572.2 KB\u001b[0m \u001b[31m59.8 MB/s\u001b[0m eta \u001b[36m0:00:00\u001b[0m\n",
            "\u001b[?25h  Preparing metadata (setup.py) ... \u001b[?25l\u001b[?25hdone\n",
            "\u001b[2K     \u001b[90m━━━━━━━━━━━━━━━━━━━━━━━━━━━━━━━━━━━━━━\u001b[0m \u001b[32m517.2/517.2 KB\u001b[0m \u001b[31m43.3 MB/s\u001b[0m eta \u001b[36m0:00:00\u001b[0m\n",
            "\u001b[2K     \u001b[90m━━━━━━━━━━━━━━━━━━━━━━━━━━━━━━━━━━━━━━━━\u001b[0m \u001b[32m6.3/6.3 MB\u001b[0m \u001b[31m77.6 MB/s\u001b[0m eta \u001b[36m0:00:00\u001b[0m\n",
            "\u001b[2K     \u001b[90m━━━━━━━━━━━━━━━━━━━━━━━━━━━━━━━━━━━━━━━━\u001b[0m \u001b[32m88.3/88.3 KB\u001b[0m \u001b[31m12.5 MB/s\u001b[0m eta \u001b[36m0:00:00\u001b[0m\n",
            "\u001b[?25h  Preparing metadata (setup.py) ... \u001b[?25l\u001b[?25hdone\n",
            "\u001b[2K     \u001b[90m━━━━━━━━━━━━━━━━━━━━━━━━━━━━━━━━━━━━━━\u001b[0m \u001b[32m190.3/190.3 KB\u001b[0m \u001b[31m25.9 MB/s\u001b[0m eta \u001b[36m0:00:00\u001b[0m\n",
            "\u001b[2K     \u001b[90m━━━━━━━━━━━━━━━━━━━━━━━━━━━━━━━━━━━━━━━━\u001b[0m \u001b[32m7.6/7.6 MB\u001b[0m \u001b[31m103.3 MB/s\u001b[0m eta \u001b[36m0:00:00\u001b[0m\n",
            "\u001b[?25h  Building wheel for aitextgen (setup.py) ... \u001b[?25l\u001b[?25hdone\n",
            "  Building wheel for fire (setup.py) ... \u001b[?25l\u001b[?25hdone\n"
          ]
        }
      ]
    },
    {
      "cell_type": "code",
      "source": [],
      "metadata": {
        "id": "BCoX0ZOr1jFk"
      },
      "execution_count": null,
      "outputs": []
    },
    {
      "cell_type": "code",
      "source": [
        "!pip3 install -q aitextgen==0.6.0"
      ],
      "metadata": {
        "id": "gNYrxkS4s6dP"
      },
      "execution_count": null,
      "outputs": []
    },
    {
      "cell_type": "code",
      "source": [
        "from aitextgen import aitextgen\n",
        "import pandas as pd"
      ],
      "metadata": {
        "id": "cCVwgOYxs6Yd"
      },
      "execution_count": null,
      "outputs": []
    },
    {
      "cell_type": "code",
      "source": [
        "df1 = pd.read_csv('/content/ChatGPT.csv')"
      ],
      "metadata": {
        "id": "TiAVAdZos6QO"
      },
      "execution_count": null,
      "outputs": []
    },
    {
      "cell_type": "code",
      "source": [
        "df1.head()"
      ],
      "metadata": {
        "colab": {
          "base_uri": "https://localhost:8080/",
          "height": 461
        },
        "id": "Z4_RAbe21nRk",
        "outputId": "9e2a8145-6ce7-49cf-ea27-be3bbcc0e62f"
      },
      "execution_count": null,
      "outputs": [
        {
          "output_type": "execute_result",
          "data": {
            "text/plain": [
              "                        Date  \\\n",
              "0  2023-01-29 15:08:03+00:00   \n",
              "1  2023-01-29 15:07:59+00:00   \n",
              "2  2023-01-29 15:07:38+00:00   \n",
              "3  2023-01-29 15:06:53+00:00   \n",
              "4  2023-01-29 15:06:18+00:00   \n",
              "\n",
              "                                               Tweet  \\\n",
              "0  My hubby keeps saying I should try #ChatGPT.\\n...   \n",
              "1  I've been waiting for  ChatGPT to open back up...   \n",
              "2        #ChatGPT thank u for my pitch deck bullets.   \n",
              "3  Tune in to our next Episode: Bans and regulati...   \n",
              "4  AI trainers = underpaid human annotators?!\\n#C...   \n",
              "\n",
              "                                                 Url            User  \\\n",
              "0  https://twitter.com/heyandriadaily/status/1619...  heyandriadaily   \n",
              "1  https://twitter.com/_doc_oc/status/16197139759...         _doc_oc   \n",
              "2  https://twitter.com/nikoonya/status/1619713889...        nikoonya   \n",
              "3  https://twitter.com/CSOonline/status/161971369...       CSOonline   \n",
              "4  https://twitter.com/OmaymaS_/status/1619713552...        OmaymaS_   \n",
              "\n",
              "                 UserCreated  UserVerified  UserFollowers  UserFriends  \\\n",
              "0  2021-11-18 00:15:55+00:00         False              1            0   \n",
              "1  2022-02-08 01:15:45+00:00         False             24          144   \n",
              "2  2011-01-10 16:24:18+00:00         False            311          167   \n",
              "3  2009-03-16 12:25:05+00:00          True          62409          816   \n",
              "4  2009-12-13 15:58:13+00:00         False           1199          786   \n",
              "\n",
              "   Retweets  Likes              Location  \\\n",
              "0         0      0                   USA   \n",
              "1         0      0  Texas Medical Center   \n",
              "2         0      0       Kansas City, MO   \n",
              "3         0      0           Boston area   \n",
              "4         0      0                   NaN   \n",
              "\n",
              "                                     UserDescription  \n",
              "0  Intentional living - occasional luxuries - hea...  \n",
              "1  ☢️ B.S. Nuclear Engineering  \\n🩺⚙️ Texas A&M E...  \n",
              "2  Cofounder @uvavault | Multi-collector of @veef...  \n",
              "3  From @FoundryIDG -- #CSO provides news, analys...  \n",
              "4  #datascience #machinelearning #rstats  #python...  "
            ],
            "text/html": [
              "\n",
              "  <div id=\"df-9711c62d-26c9-4790-9ca1-4604fd2f186e\">\n",
              "    <div class=\"colab-df-container\">\n",
              "      <div>\n",
              "<style scoped>\n",
              "    .dataframe tbody tr th:only-of-type {\n",
              "        vertical-align: middle;\n",
              "    }\n",
              "\n",
              "    .dataframe tbody tr th {\n",
              "        vertical-align: top;\n",
              "    }\n",
              "\n",
              "    .dataframe thead th {\n",
              "        text-align: right;\n",
              "    }\n",
              "</style>\n",
              "<table border=\"1\" class=\"dataframe\">\n",
              "  <thead>\n",
              "    <tr style=\"text-align: right;\">\n",
              "      <th></th>\n",
              "      <th>Date</th>\n",
              "      <th>Tweet</th>\n",
              "      <th>Url</th>\n",
              "      <th>User</th>\n",
              "      <th>UserCreated</th>\n",
              "      <th>UserVerified</th>\n",
              "      <th>UserFollowers</th>\n",
              "      <th>UserFriends</th>\n",
              "      <th>Retweets</th>\n",
              "      <th>Likes</th>\n",
              "      <th>Location</th>\n",
              "      <th>UserDescription</th>\n",
              "    </tr>\n",
              "  </thead>\n",
              "  <tbody>\n",
              "    <tr>\n",
              "      <th>0</th>\n",
              "      <td>2023-01-29 15:08:03+00:00</td>\n",
              "      <td>My hubby keeps saying I should try #ChatGPT.\\n...</td>\n",
              "      <td>https://twitter.com/heyandriadaily/status/1619...</td>\n",
              "      <td>heyandriadaily</td>\n",
              "      <td>2021-11-18 00:15:55+00:00</td>\n",
              "      <td>False</td>\n",
              "      <td>1</td>\n",
              "      <td>0</td>\n",
              "      <td>0</td>\n",
              "      <td>0</td>\n",
              "      <td>USA</td>\n",
              "      <td>Intentional living - occasional luxuries - hea...</td>\n",
              "    </tr>\n",
              "    <tr>\n",
              "      <th>1</th>\n",
              "      <td>2023-01-29 15:07:59+00:00</td>\n",
              "      <td>I've been waiting for  ChatGPT to open back up...</td>\n",
              "      <td>https://twitter.com/_doc_oc/status/16197139759...</td>\n",
              "      <td>_doc_oc</td>\n",
              "      <td>2022-02-08 01:15:45+00:00</td>\n",
              "      <td>False</td>\n",
              "      <td>24</td>\n",
              "      <td>144</td>\n",
              "      <td>0</td>\n",
              "      <td>0</td>\n",
              "      <td>Texas Medical Center</td>\n",
              "      <td>☢️ B.S. Nuclear Engineering  \\n🩺⚙️ Texas A&amp;M E...</td>\n",
              "    </tr>\n",
              "    <tr>\n",
              "      <th>2</th>\n",
              "      <td>2023-01-29 15:07:38+00:00</td>\n",
              "      <td>#ChatGPT thank u for my pitch deck bullets.</td>\n",
              "      <td>https://twitter.com/nikoonya/status/1619713889...</td>\n",
              "      <td>nikoonya</td>\n",
              "      <td>2011-01-10 16:24:18+00:00</td>\n",
              "      <td>False</td>\n",
              "      <td>311</td>\n",
              "      <td>167</td>\n",
              "      <td>0</td>\n",
              "      <td>0</td>\n",
              "      <td>Kansas City, MO</td>\n",
              "      <td>Cofounder @uvavault | Multi-collector of @veef...</td>\n",
              "    </tr>\n",
              "    <tr>\n",
              "      <th>3</th>\n",
              "      <td>2023-01-29 15:06:53+00:00</td>\n",
              "      <td>Tune in to our next Episode: Bans and regulati...</td>\n",
              "      <td>https://twitter.com/CSOonline/status/161971369...</td>\n",
              "      <td>CSOonline</td>\n",
              "      <td>2009-03-16 12:25:05+00:00</td>\n",
              "      <td>True</td>\n",
              "      <td>62409</td>\n",
              "      <td>816</td>\n",
              "      <td>0</td>\n",
              "      <td>0</td>\n",
              "      <td>Boston area</td>\n",
              "      <td>From @FoundryIDG -- #CSO provides news, analys...</td>\n",
              "    </tr>\n",
              "    <tr>\n",
              "      <th>4</th>\n",
              "      <td>2023-01-29 15:06:18+00:00</td>\n",
              "      <td>AI trainers = underpaid human annotators?!\\n#C...</td>\n",
              "      <td>https://twitter.com/OmaymaS_/status/1619713552...</td>\n",
              "      <td>OmaymaS_</td>\n",
              "      <td>2009-12-13 15:58:13+00:00</td>\n",
              "      <td>False</td>\n",
              "      <td>1199</td>\n",
              "      <td>786</td>\n",
              "      <td>0</td>\n",
              "      <td>0</td>\n",
              "      <td>NaN</td>\n",
              "      <td>#datascience #machinelearning #rstats  #python...</td>\n",
              "    </tr>\n",
              "  </tbody>\n",
              "</table>\n",
              "</div>\n",
              "      <button class=\"colab-df-convert\" onclick=\"convertToInteractive('df-9711c62d-26c9-4790-9ca1-4604fd2f186e')\"\n",
              "              title=\"Convert this dataframe to an interactive table.\"\n",
              "              style=\"display:none;\">\n",
              "        \n",
              "  <svg xmlns=\"http://www.w3.org/2000/svg\" height=\"24px\"viewBox=\"0 0 24 24\"\n",
              "       width=\"24px\">\n",
              "    <path d=\"M0 0h24v24H0V0z\" fill=\"none\"/>\n",
              "    <path d=\"M18.56 5.44l.94 2.06.94-2.06 2.06-.94-2.06-.94-.94-2.06-.94 2.06-2.06.94zm-11 1L8.5 8.5l.94-2.06 2.06-.94-2.06-.94L8.5 2.5l-.94 2.06-2.06.94zm10 10l.94 2.06.94-2.06 2.06-.94-2.06-.94-.94-2.06-.94 2.06-2.06.94z\"/><path d=\"M17.41 7.96l-1.37-1.37c-.4-.4-.92-.59-1.43-.59-.52 0-1.04.2-1.43.59L10.3 9.45l-7.72 7.72c-.78.78-.78 2.05 0 2.83L4 21.41c.39.39.9.59 1.41.59.51 0 1.02-.2 1.41-.59l7.78-7.78 2.81-2.81c.8-.78.8-2.07 0-2.86zM5.41 20L4 18.59l7.72-7.72 1.47 1.35L5.41 20z\"/>\n",
              "  </svg>\n",
              "      </button>\n",
              "      \n",
              "  <style>\n",
              "    .colab-df-container {\n",
              "      display:flex;\n",
              "      flex-wrap:wrap;\n",
              "      gap: 12px;\n",
              "    }\n",
              "\n",
              "    .colab-df-convert {\n",
              "      background-color: #E8F0FE;\n",
              "      border: none;\n",
              "      border-radius: 50%;\n",
              "      cursor: pointer;\n",
              "      display: none;\n",
              "      fill: #1967D2;\n",
              "      height: 32px;\n",
              "      padding: 0 0 0 0;\n",
              "      width: 32px;\n",
              "    }\n",
              "\n",
              "    .colab-df-convert:hover {\n",
              "      background-color: #E2EBFA;\n",
              "      box-shadow: 0px 1px 2px rgba(60, 64, 67, 0.3), 0px 1px 3px 1px rgba(60, 64, 67, 0.15);\n",
              "      fill: #174EA6;\n",
              "    }\n",
              "\n",
              "    [theme=dark] .colab-df-convert {\n",
              "      background-color: #3B4455;\n",
              "      fill: #D2E3FC;\n",
              "    }\n",
              "\n",
              "    [theme=dark] .colab-df-convert:hover {\n",
              "      background-color: #434B5C;\n",
              "      box-shadow: 0px 1px 3px 1px rgba(0, 0, 0, 0.15);\n",
              "      filter: drop-shadow(0px 1px 2px rgba(0, 0, 0, 0.3));\n",
              "      fill: #FFFFFF;\n",
              "    }\n",
              "  </style>\n",
              "\n",
              "      <script>\n",
              "        const buttonEl =\n",
              "          document.querySelector('#df-9711c62d-26c9-4790-9ca1-4604fd2f186e button.colab-df-convert');\n",
              "        buttonEl.style.display =\n",
              "          google.colab.kernel.accessAllowed ? 'block' : 'none';\n",
              "\n",
              "        async function convertToInteractive(key) {\n",
              "          const element = document.querySelector('#df-9711c62d-26c9-4790-9ca1-4604fd2f186e');\n",
              "          const dataTable =\n",
              "            await google.colab.kernel.invokeFunction('convertToInteractive',\n",
              "                                                     [key], {});\n",
              "          if (!dataTable) return;\n",
              "\n",
              "          const docLinkHtml = 'Like what you see? Visit the ' +\n",
              "            '<a target=\"_blank\" href=https://colab.research.google.com/notebooks/data_table.ipynb>data table notebook</a>'\n",
              "            + ' to learn more about interactive tables.';\n",
              "          element.innerHTML = '';\n",
              "          dataTable['output_type'] = 'display_data';\n",
              "          await google.colab.output.renderOutput(dataTable, element);\n",
              "          const docLink = document.createElement('div');\n",
              "          docLink.innerHTML = docLinkHtml;\n",
              "          element.appendChild(docLink);\n",
              "        }\n",
              "      </script>\n",
              "    </div>\n",
              "  </div>\n",
              "  "
            ]
          },
          "metadata": {},
          "execution_count": 10
        }
      ]
    },
    {
      "cell_type": "code",
      "source": [
        "twitter_message = []\n",
        "\n",
        "for i in range(len(df1)):\n",
        "  tweet = df1.Tweet[i]\n",
        "  if '@' in tweet:\n",
        "    tweet = \" \".join(filter(lambda x: x[0]!='@', tweet.split()))\n",
        "\n",
        "  if '#' in tweet:\n",
        "    tweet = \" \".join(filter(lambda x:x[0:2]!='#' , tweet.split()))\n",
        "\n",
        "\n",
        "  if 'https' in tweet:\n",
        "    tweet = \" \".join(filter(lambda x:x[0:6]!='https' , tweet.split()))\n",
        "\n",
        "\n",
        "    twitter_message.append(tweet)  "
      ],
      "metadata": {
        "id": "dXzzlZgH1nOQ"
      },
      "execution_count": null,
      "outputs": []
    },
    {
      "cell_type": "code",
      "source": [
        "from aitextgen.TokenDataset import TokenDataset\n",
        "training_data = TokenDataset(texts=twitter_message)"
      ],
      "metadata": {
        "colab": {
          "base_uri": "https://localhost:8080/",
          "height": 67,
          "referenced_widgets": [
            "0b056ec181ff468fba5a803862664913",
            "535e8c07d3fe4c0aacb6702fd1f6a642",
            "eab112c855ba487b9ede6ab06874611b",
            "88e8ba2325c142ff99223943870ac24d",
            "9404bd93b37f4cacb43a6f43eecf7691",
            "4ac3e287540342229728963254a339e5",
            "ad98cbd54cea44ffb88d89c826a415cb",
            "e3ee1d52cc4d480384b91211dda414dd",
            "f0cc008945d14e559895edab9c7e99c5",
            "3f55851a8ff443a7bf9064b913f20123",
            "1b3e925d15f3488598c32ca5bbdaea58"
          ]
        },
        "id": "M5yU4BVk1nEb",
        "outputId": "634fcad3-5ffe-4fb3-8431-15a536063636"
      },
      "execution_count": null,
      "outputs": [
        {
          "output_type": "stream",
          "name": "stderr",
          "text": [
            "INFO:aitextgen.TokenDataset:Encoding 109,352 texts.\n"
          ]
        },
        {
          "output_type": "display_data",
          "data": {
            "text/plain": [
              "  0%|          | 0/109352 [00:00<?, ?it/s]"
            ],
            "application/vnd.jupyter.widget-view+json": {
              "version_major": 2,
              "version_minor": 0,
              "model_id": "0b056ec181ff468fba5a803862664913"
            }
          },
          "metadata": {}
        }
      ]
    },
    {
      "cell_type": "code",
      "source": [
        "ai.train(training_data, \n",
        "        line_by_line=True,\n",
        "        from_cache=False,\n",
        "        num_steps=100,\n",
        "        generate_every=10,\n",
        "        learning_rate=1e-4,\n",
        "        fp16=False,\n",
        "        batch_size=1\n",
        "        )"
      ],
      "metadata": {
        "colab": {
          "base_uri": "https://localhost:8080/",
          "height": 1000,
          "referenced_widgets": [
            "0676a956b9e3492ebe8bb707498af84a",
            "3dd8c7f224ed4a84a4c9aa04eb527d1d",
            "7c0ed14964924c7e8aaadb8604c66c71",
            "56e52a012d6642a0907b3757b7adc4c8",
            "a3ec89e8c734465fadff67ce29a339bc",
            "6b61b7280db84e0583273de17df02951",
            "010b2eb5b79d44bba0519283f583ea64",
            "7a27a923c398433aa7bfa65b63941cfb",
            "0852a2e291594658a2ee3816d191a155",
            "a0276632870d4463aa1fb8ffb50bee3c",
            "5798538098a9449f87c9271d6348363b"
          ]
        },
        "id": "z-ZPSGTG9AdQ",
        "outputId": "4a397a03-822e-4538-9b54-bb209d535c2f"
      },
      "execution_count": null,
      "outputs": [
        {
          "output_type": "stream",
          "name": "stderr",
          "text": [
            "/usr/local/lib/python3.8/dist-packages/pytorch_lightning/trainer/connectors/accelerator_connector.py:447: LightningDeprecationWarning: Setting `Trainer(gpus=-1)` is deprecated in v1.7 and will be removed in v2.0. Please use `Trainer(accelerator='gpu', devices=-1)` instead.\n",
            "  rank_zero_deprecation(\n",
            "INFO:pytorch_lightning.utilities.rank_zero:GPU available: True (cuda), used: True\n",
            "INFO:pytorch_lightning.utilities.rank_zero:TPU available: False, using: 0 TPU cores\n",
            "INFO:pytorch_lightning.utilities.rank_zero:IPU available: False, using: 0 IPUs\n",
            "INFO:pytorch_lightning.utilities.rank_zero:HPU available: False, using: 0 HPUs\n",
            "/usr/local/lib/python3.8/dist-packages/pytorch_lightning/trainer/configuration_validator.py:258: LightningDeprecationWarning: The `Callback.on_batch_end` hook was deprecated in v1.6 and will be removed in v1.8. Please use `Callback.on_train_batch_end` instead.\n",
            "  rank_zero_deprecation(\n",
            "INFO:pytorch_lightning.accelerators.cuda:LOCAL_RANK: 0 - CUDA_VISIBLE_DEVICES: [0]\n"
          ]
        },
        {
          "output_type": "display_data",
          "data": {
            "text/plain": [
              "  0%|          | 0/100 [00:00<?, ?it/s]"
            ],
            "application/vnd.jupyter.widget-view+json": {
              "version_major": 2,
              "version_minor": 0,
              "model_id": "0676a956b9e3492ebe8bb707498af84a"
            }
          },
          "metadata": {}
        },
        {
          "output_type": "stream",
          "name": "stderr",
          "text": [
            "Generate config GenerationConfig {\n",
            "  \"bos_token_id\": 50256,\n",
            "  \"eos_token_id\": 50256,\n",
            "  \"transformers_version\": \"4.26.0\"\n",
            "}\n",
            "\n",
            "A decoder-only architecture is being used, but right-padding was detected! For correct generation results, please set `padding_side='left'` when initializing the tokenizer.\n"
          ]
        },
        {
          "output_type": "stream",
          "name": "stdout",
          "text": [
            "\u001b[1m10 steps reached: generating sample texts.\u001b[0m\n",
            "==========\n",
            "I was working with a friend in India who had a nice chat with me up on Twitter about this. He was talking about what he had heard about the new technology that was coming to India and he told me that it was not a good idea and that it would be better if it were only about the country. I asked him why he thought that was wrong. He said that it was because technology is so fast and it is not good at all. I asked him why he thought that was wrong. He said that it was because technology is not well understood. I asked him about it and he said that is not the case. He said he has heard some of the talk about the new technology and it is a good idea. I told him that it was not a good idea and that it is not the case. He said that it is not the case. He said that it is not the case. I asked him if it is a good idea for India then why did he go ahead and do this. He said that it is not the case. He said that it has not been done well and that is not the case. I asked him what I thought about this. He said that I thought it was a good idea but that is not the case.\n",
            "==========\n"
          ]
        },
        {
          "output_type": "stream",
          "name": "stderr",
          "text": [
            "Generate config GenerationConfig {\n",
            "  \"bos_token_id\": 50256,\n",
            "  \"eos_token_id\": 50256,\n",
            "  \"transformers_version\": \"4.26.0\"\n",
            "}\n",
            "\n",
            "A decoder-only architecture is being used, but right-padding was detected! For correct generation results, please set `padding_side='left'` when initializing the tokenizer.\n"
          ]
        },
        {
          "output_type": "stream",
          "name": "stdout",
          "text": [
            "\u001b[1m20 steps reached: generating sample texts.\u001b[0m\n",
            "==========\n",
            "This paper explains how to create a user for creating a client-server application. It is written in a C# language.\n",
            "==========\n"
          ]
        },
        {
          "output_type": "stream",
          "name": "stderr",
          "text": [
            "Generate config GenerationConfig {\n",
            "  \"bos_token_id\": 50256,\n",
            "  \"eos_token_id\": 50256,\n",
            "  \"transformers_version\": \"4.26.0\"\n",
            "}\n",
            "\n",
            "A decoder-only architecture is being used, but right-padding was detected! For correct generation results, please set `padding_side='left'` when initializing the tokenizer.\n"
          ]
        },
        {
          "output_type": "stream",
          "name": "stdout",
          "text": [
            "\u001b[1m30 steps reached: generating sample texts.\u001b[0m\n",
            "==========\n",
            "........................................... #DBA #GPT #NEO #NET #GPT #C# #Python #Python #C#GPT #Python #HTML #HTML #JavaScript #JavaScript #JavaScript #JavaScript #JavaScript #Python #JavaScript #HTML #HTML #CSS #HTML #JavaScript #CSS #HTML #CSS #CSS #JavaScript #JavaScript #JavaScript #Python #Python #Python #Python #Python #Python #Python #Java #Python #Python #JavaScript #Python #Python #Python #Python #Python #DBA #GPT #OpenSSH #GPT #OpenSSH #Python #Python #Python #Python #Python #Python #Java #Python #Python #Python #Python #Python #Python #Python #Python #DBA #GPT #Python #Python #Python #Python #Python #Python #Python #Python #DBA #OpenSSH #Python #Python #Python #Python #Python #Python #Python #Python #Python #Python #Python #\n",
            "==========\n"
          ]
        },
        {
          "output_type": "stream",
          "name": "stderr",
          "text": [
            "Generate config GenerationConfig {\n",
            "  \"bos_token_id\": 50256,\n",
            "  \"eos_token_id\": 50256,\n",
            "  \"transformers_version\": \"4.26.0\"\n",
            "}\n",
            "\n",
            "A decoder-only architecture is being used, but right-padding was detected! For correct generation results, please set `padding_side='left'` when initializing the tokenizer.\n"
          ]
        },
        {
          "output_type": "stream",
          "name": "stdout",
          "text": [
            "\u001b[1m40 steps reached: generating sample texts.\u001b[0m\n",
            "==========\n",
            "I have a little idea. Why are you using it? I tried it and it did not work out. Why did you use it?\n",
            "==========\n"
          ]
        },
        {
          "output_type": "stream",
          "name": "stderr",
          "text": [
            "Generate config GenerationConfig {\n",
            "  \"bos_token_id\": 50256,\n",
            "  \"eos_token_id\": 50256,\n",
            "  \"transformers_version\": \"4.26.0\"\n",
            "}\n",
            "\n",
            "A decoder-only architecture is being used, but right-padding was detected! For correct generation results, please set `padding_side='left'` when initializing the tokenizer.\n"
          ]
        },
        {
          "output_type": "stream",
          "name": "stdout",
          "text": [
            "\u001b[1m50 steps reached: generating sample texts.\u001b[0m\n",
            "==========\n",
            "#ChatGPT #ChatGPT #ChatGPT #ChatGPT https://t.co/vZwNhxE6M\n",
            "==========\n"
          ]
        },
        {
          "output_type": "stream",
          "name": "stderr",
          "text": [
            "Generate config GenerationConfig {\n",
            "  \"bos_token_id\": 50256,\n",
            "  \"eos_token_id\": 50256,\n",
            "  \"transformers_version\": \"4.26.0\"\n",
            "}\n",
            "\n",
            "A decoder-only architecture is being used, but right-padding was detected! For correct generation results, please set `padding_side='left'` when initializing the tokenizer.\n"
          ]
        },
        {
          "output_type": "stream",
          "name": "stdout",
          "text": [
            "\u001b[1m60 steps reached: generating sample texts.\u001b[0m\n",
            "==========\n",
            "#ChatGPT is now available for free, please sign up today! #ChatGPT on https://t.co/NgQ9rzL1mK\n",
            "==========\n"
          ]
        },
        {
          "output_type": "stream",
          "name": "stderr",
          "text": [
            "Generate config GenerationConfig {\n",
            "  \"bos_token_id\": 50256,\n",
            "  \"eos_token_id\": 50256,\n",
            "  \"transformers_version\": \"4.26.0\"\n",
            "}\n",
            "\n",
            "A decoder-only architecture is being used, but right-padding was detected! For correct generation results, please set `padding_side='left'` when initializing the tokenizer.\n"
          ]
        },
        {
          "output_type": "stream",
          "name": "stdout",
          "text": [
            "\u001b[1m70 steps reached: generating sample texts.\u001b[0m\n",
            "==========\n",
            "#ChatGPT #DataAnalysis #ChatGPT #DataAnalysis #Analytics #Data #Marketing #Analytics #Analytics #ChatGPT #DigitalArtificialIntelligence #OpenAI #OpenAI #AIMachineLearning #AIPro #DataAnalysis #DeepLearning #MachineLearning #MachineLearning #MachineLearning #MachineLearning #AIPro #MachineLearning #MachineLearning #OpenAI #OpenAI #OpenAI #OpenAI #MachineLearning #MachineLearning #OpenAI #MachineLearning #OpenAI #OpenAI #OpenAI #MachineLearning #MachineLearning #OpenAI #OpenAI #OpenAI #MachineLearning #OpenAI #MachineLearning #OpenAI #OpenAI #MachineLearning #OpenAI #OpenAI #MachineLearning #MachineLearning #OpenAI #OpenAI #OpenAI #MachineLearning #OpenAI #MachineLearning #MachineLearning #OpenAIPro #MachineLearning #MachineLearning #MachineLearning #OpenAI #MachineLearning #MachineLearning #OpenAI #MachineLearning #OpenAI #MachineLearning #OpenAI #MachineLearning #OpenAI #MachineLearning #OpenAI #MachineLearning #MachineLearning #OpenAI #MachineLearning #OpenAI #MachineLearning #OpenAI #MachineLearning #OpenAI #Machine\n",
            "==========\n"
          ]
        },
        {
          "output_type": "stream",
          "name": "stderr",
          "text": [
            "Generate config GenerationConfig {\n",
            "  \"bos_token_id\": 50256,\n",
            "  \"eos_token_id\": 50256,\n",
            "  \"transformers_version\": \"4.26.0\"\n",
            "}\n",
            "\n",
            "A decoder-only architecture is being used, but right-padding was detected! For correct generation results, please set `padding_side='left'` when initializing the tokenizer.\n"
          ]
        },
        {
          "output_type": "stream",
          "name": "stdout",
          "text": [
            "\u001b[1m80 steps reached: generating sample texts.\u001b[0m\n",
            "==========\n",
            " to make it easier to find the right language: https://t.co/6nCbvxwMz\n",
            "==========\n"
          ]
        },
        {
          "output_type": "stream",
          "name": "stderr",
          "text": [
            "Generate config GenerationConfig {\n",
            "  \"bos_token_id\": 50256,\n",
            "  \"eos_token_id\": 50256,\n",
            "  \"transformers_version\": \"4.26.0\"\n",
            "}\n",
            "\n",
            "A decoder-only architecture is being used, but right-padding was detected! For correct generation results, please set `padding_side='left'` when initializing the tokenizer.\n"
          ]
        },
        {
          "output_type": "stream",
          "name": "stdout",
          "text": [
            "\u001b[1m90 steps reached: generating sample texts.\u001b[0m\n",
            "==========\n",
            "I'm a smart guy. I try to write a lot of essays about the things that are important to me. I'm also a good speaker. And I was just asked to write a poem about the things that matter to my mind like a train accident, a storm, a nuclear accident, and a race to the finish. I asked myself \"Are you a rational person?\" and I'm sure that is what it came back with. But I'm just so grateful for that I'm able to write about the things that I'm not a rational person. But I'm also so interested in the world of intelligent people. I feel like I should write essays about things that are important to me, but I may not write it. It's not the same as writing as being intelligent. I can't think of a better way to write. And if I wasn't a rational person, I would write some essays about things that aren't important. So I guess I'm a smart guy. I try to write a lot of essays about things that are important to me. I'm also a good speaker. And I was just asked to write a poem about the things that matter to my mind like a train accident, a storm, a nuclear accident, and a nuclear accident\n",
            "==========\n"
          ]
        },
        {
          "output_type": "stream",
          "name": "stderr",
          "text": [
            "Generate config GenerationConfig {\n",
            "  \"bos_token_id\": 50256,\n",
            "  \"eos_token_id\": 50256,\n",
            "  \"transformers_version\": \"4.26.0\"\n",
            "}\n",
            "\n",
            "A decoder-only architecture is being used, but right-padding was detected! For correct generation results, please set `padding_side='left'` when initializing the tokenizer.\n"
          ]
        },
        {
          "output_type": "stream",
          "name": "stdout",
          "text": [
            "\u001b[1m100 steps reached: generating sample texts.\u001b[0m\n"
          ]
        },
        {
          "output_type": "stream",
          "name": "stderr",
          "text": [
            "INFO:pytorch_lightning.utilities.rank_zero:`Trainer.fit` stopped: `max_steps=100` reached.\n"
          ]
        },
        {
          "output_type": "stream",
          "name": "stdout",
          "text": [
            "==========\n",
            " the story of what happens when you make a rap song about your dog and then you hit the back of it and then it's not a good look! #chatgpt #rctt https://t.co/B1D6RXjYw\n",
            "==========\n"
          ]
        },
        {
          "output_type": "stream",
          "name": "stderr",
          "text": [
            "INFO:aitextgen:Saving trained model pytorch_model.bin to /trained_model\n",
            "Configuration saved in trained_model/generation_config.json\n"
          ]
        }
      ]
    },
    {
      "cell_type": "code",
      "source": [
        "ai.generate(n=5,prompt='ChatGPT change is', max_length=100)"
      ],
      "metadata": {
        "colab": {
          "base_uri": "https://localhost:8080/"
        },
        "id": "DNaaWrSXWCp6",
        "outputId": "c3513470-38b9-4bfa-c4b6-22b85fee4079"
      },
      "execution_count": null,
      "outputs": [
        {
          "output_type": "stream",
          "name": "stderr",
          "text": [
            "Generate config GenerationConfig {\n",
            "  \"bos_token_id\": 50256,\n",
            "  \"eos_token_id\": 50256,\n",
            "  \"transformers_version\": \"4.26.0\"\n",
            "}\n",
            "\n"
          ]
        },
        {
          "output_type": "stream",
          "name": "stdout",
          "text": [
            "\u001b[1mChatGPT change is\u001b[0m not taking advantage of the opportunity for new research. We need to be smart. You can always learn. #ChatGPT #AI #AI #AI #AIGPT3 #AI #ChatGPT3 #AI #ChatGPT #AI #AIGPT3 #AI #AIGPT3 #ChatGPT3 #AI #AIGPT3 #ChatGPT3 #AI #AIGPT3 #AIGPT3 #AIG\n",
            "==========\n",
            "\u001b[1mChatGPT change is\u001b[0m much more than just a single word. The use of the word \"chatgpt\" is also an #AI-driven development. #ChatGPT was created by #ChatGPT https://t.co/QQeWjr0\n",
            "==========\n",
            "\u001b[1mChatGPT change is\u001b[0m coming soon. https://t.co/mxBzYzDg1\n",
            "==========\n",
            "\u001b[1mChatGPT change is\u001b[0m not going well https://t.co/XV4xCq4Q\n",
            "==========\n",
            "\u001b[1mChatGPT change is\u001b[0m coming soon! #ChatGPT #ChatGPT #AI #Chatbot #AI #ChatGPT2 #AI #ChatGPT #chatgpt https://t.co/szQmYrJ6\n"
          ]
        }
      ]
    },
    {
      "cell_type": "code",
      "source": [
        "ai.generate(n=5,prompt='ChatGPT is', max_length=100)"
      ],
      "metadata": {
        "colab": {
          "base_uri": "https://localhost:8080/"
        },
        "id": "HGJeFbo4XJF7",
        "outputId": "c568a27f-de6a-4d9b-dec8-3d36d06086fd"
      },
      "execution_count": null,
      "outputs": [
        {
          "output_type": "stream",
          "name": "stderr",
          "text": [
            "Generate config GenerationConfig {\n",
            "  \"bos_token_id\": 50256,\n",
            "  \"eos_token_id\": 50256,\n",
            "  \"transformers_version\": \"4.26.0\"\n",
            "}\n",
            "\n"
          ]
        },
        {
          "output_type": "stream",
          "name": "stdout",
          "text": [
            "\u001b[1mChatGPT is\u001b[0m the best at using GPT. https://t.co/X3rZj1C5\n",
            "==========\n",
            "\u001b[1mChatGPT is\u001b[0m an open source project. It is a very good system, the best of the best. I could go on and on with this, but in case of a problem, I'd use GPT instead. https://t.co/fZJYF9eX\n",
            "==========\n",
            "\u001b[1mChatGPT is\u001b[0m a good example of this. It has been a long time since its founder, Adam, was first to be called a GPT and that is how I first became it. 😂 If you haven't already, you can get your hands on it via #ChatGPT here: https://t.co/nhRp0oWZH\n",
            "==========\n",
            "\u001b[1mChatGPT is\u001b[0m a really good example of a technology that can work well both in a practical way and as a developer. https://t.co/oCkMbPZH\n",
            "==========\n",
            "\u001b[1mChatGPT is\u001b[0m one of the top 10 most popular and efficient ways to learn about AI and other things. https://t.co/eXcK6BJl\n"
          ]
        }
      ]
    }
  ]
}