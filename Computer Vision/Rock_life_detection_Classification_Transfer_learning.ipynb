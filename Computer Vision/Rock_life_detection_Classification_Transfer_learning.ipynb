{
  "cells": [
    {
      "cell_type": "markdown",
      "metadata": {
        "id": "view-in-github",
        "colab_type": "text"
      },
      "source": [
        "<a href=\"https://colab.research.google.com/github/pythonuzgit/elmurodov/blob/master/Computer%20Vision/Rock_life_detection_Classification_Transfer_learning.ipynb\" target=\"_parent\"><img src=\"https://colab.research.google.com/assets/colab-badge.svg\" alt=\"Open In Colab\"/></a>"
      ]
    },
    {
      "cell_type": "code",
      "execution_count": null,
      "metadata": {
        "id": "KVtI_jqueLlq"
      },
      "outputs": [],
      "source": []
    },
    {
      "cell_type": "code",
      "execution_count": 5,
      "metadata": {
        "colab": {
          "base_uri": "https://localhost:8080/"
        },
        "id": "WN6YXbQngA2c",
        "outputId": "2e7ab4eb-f4e6-4bbc-96f8-b7debf736496"
      },
      "outputs": [
        {
          "output_type": "stream",
          "name": "stdout",
          "text": [
            "Requirement already satisfied: imutils in /usr/local/lib/python3.10/dist-packages (0.5.4)\n"
          ]
        },
        {
          "output_type": "execute_result",
          "data": {
            "text/plain": [
              "<function IPython.core.display.clear_output(wait=False)>"
            ]
          },
          "metadata": {},
          "execution_count": 5
        }
      ],
      "source": [
        "from IPython.display import clear_output\n",
        "!pip install imutils\n",
        "clear_output"
      ]
    },
    {
      "cell_type": "code",
      "execution_count": 6,
      "metadata": {
        "colab": {
          "base_uri": "https://localhost:8080/",
          "height": 35
        },
        "id": "9ukdxY5ZeNgU",
        "outputId": "1adb73b8-c76f-40c1-c3b9-b6f6f37be1f0"
      },
      "outputs": [
        {
          "output_type": "display_data",
          "data": {
            "text/html": [
              "        <script type=\"text/javascript\">\n",
              "        window.PlotlyConfig = {MathJaxConfig: 'local'};\n",
              "        if (window.MathJax && window.MathJax.Hub && window.MathJax.Hub.Config) {window.MathJax.Hub.Config({SVG: {font: \"STIX-Web\"}});}\n",
              "        if (typeof require !== 'undefined') {\n",
              "        require.undef(\"plotly\");\n",
              "        requirejs.config({\n",
              "            paths: {\n",
              "                'plotly': ['https://cdn.plot.ly/plotly-2.24.1.min']\n",
              "            }\n",
              "        });\n",
              "        require(['plotly'], function(Plotly) {\n",
              "            window._Plotly = Plotly;\n",
              "        });\n",
              "        }\n",
              "        </script>\n",
              "        "
            ]
          },
          "metadata": {}
        },
        {
          "output_type": "stream",
          "name": "stdout",
          "text": [
            "All modules have been imported\n"
          ]
        }
      ],
      "source": [
        "\n",
        "\n",
        "import numpy as np\n",
        "import pandas as pd\n",
        "import cv2\n",
        "from PIL import Image\n",
        "import scipy\n",
        "\n",
        "import tensorflow as tf\n",
        "from tensorflow.keras.applications import *\n",
        "from tensorflow.keras.optimizers import *\n",
        "from tensorflow.keras.losses import *\n",
        "from tensorflow.keras.layers import *\n",
        "from tensorflow.keras.models import *\n",
        "from tensorflow.keras.callbacks import *\n",
        "from tensorflow.keras.preprocessing.image import *\n",
        "from tensorflow.keras.utils import *\n",
        "# import pydot\n",
        "\n",
        "from sklearn.metrics import *\n",
        "from sklearn.model_selection import *\n",
        "import tensorflow.keras.backend as K\n",
        "\n",
        "from tqdm import tqdm, tqdm_notebook\n",
        "#from colorama import Fore\n",
        "import json\n",
        "import matplotlib.pyplot as plt\n",
        "import seaborn as sns\n",
        "from glob import glob\n",
        "from skimage.io import *\n",
        "%config Completer.use_jedi = False\n",
        "import time\n",
        "from sklearn.decomposition import PCA\n",
        "from sklearn.svm import LinearSVC\n",
        "from sklearn.linear_model import LogisticRegression\n",
        "from sklearn.metrics import accuracy_score\n",
        "import lightgbm as lgb\n",
        "import xgboost as xgb\n",
        "import numpy as np\n",
        "from tqdm import tqdm\n",
        "import cv2\n",
        "import os\n",
        "import shutil\n",
        "import itertools\n",
        "import imutils\n",
        "import matplotlib.pyplot as plt\n",
        "from sklearn.preprocessing import LabelBinarizer\n",
        "from sklearn.model_selection import train_test_split\n",
        "from sklearn.metrics import confusion_matrix\n",
        "\n",
        "import plotly.graph_objs as go\n",
        "from plotly.offline import init_notebook_mode, iplot\n",
        "from plotly import tools\n",
        "\n",
        "from keras.preprocessing.image import ImageDataGenerator\n",
        "from keras.applications.vgg16 import VGG16, preprocess_input\n",
        "from keras import layers\n",
        "from keras.models import Model, Sequential\n",
        "from keras.optimizers import Adam, RMSprop\n",
        "from keras.callbacks import EarlyStopping\n",
        "\n",
        "init_notebook_mode(connected=True)\n",
        "RANDOM_SEED = 123\n",
        "\n",
        "print(\"All modules have been imported\")\n"
      ]
    },
    {
      "cell_type": "code",
      "execution_count": 7,
      "metadata": {
        "id": "DAOrccdavkzN"
      },
      "outputs": [],
      "source": [
        "\n",
        "\n",
        "import os\n",
        "import shutil\n",
        "import numpy as np\n",
        "import pandas as pd\n",
        "\n",
        "from sklearn.metrics import classification_report, roc_auc_score\n",
        "import matplotlib.pyplot as plt\n",
        "\n",
        "import tensorflow as tf\n",
        "from tensorflow import keras\n",
        "\n"
      ]
    },
    {
      "cell_type": "code",
      "execution_count": 8,
      "metadata": {
        "id": "DVyuUmsFeNdz"
      },
      "outputs": [],
      "source": [
        "rock_dir = \"/content/DatasetRockLife\"\n",
        "\n",
        "seed = 42\n",
        "tf.random.set_seed(seed)\n",
        "np.random.seed(seed)\n",
        "\n",
        "batch_size = 16"
      ]
    },
    {
      "cell_type": "code",
      "execution_count": 9,
      "metadata": {
        "colab": {
          "base_uri": "https://localhost:8080/"
        },
        "id": "6HiOb5FveNbQ",
        "outputId": "f2ddd772-d83e-4e76-9a23-4750034f5166"
      },
      "outputs": [
        {
          "output_type": "stream",
          "name": "stdout",
          "text": [
            "Downloading data from https://storage.googleapis.com/tensorflow/keras-applications/resnet/resnet50_weights_tf_dim_ordering_tf_kernels_notop.h5\n",
            "94765736/94765736 [==============================] - 1s 0us/step\n",
            "Model: \"sequential\"\n",
            "_________________________________________________________________\n",
            " Layer (type)                Output Shape              Param #   \n",
            "=================================================================\n",
            " rescaling (Rescaling)       (None, 224, 224, 3)       0         \n",
            "                                                                 \n",
            " resnet50 (Functional)       (None, 7, 7, 2048)        23587712  \n",
            "                                                                 \n",
            " global_average_pooling2d (  (None, 2048)              0         \n",
            " GlobalAveragePooling2D)                                         \n",
            "                                                                 \n",
            " dense (Dense)               (None, 128)               262272    \n",
            "                                                                 \n",
            " batch_normalization (Batch  (None, 128)               512       \n",
            " Normalization)                                                  \n",
            "                                                                 \n",
            " dropout (Dropout)           (None, 128)               0         \n",
            "                                                                 \n",
            " dense_1 (Dense)             (None, 64)                8256      \n",
            "                                                                 \n",
            " batch_normalization_1 (Bat  (None, 64)                256       \n",
            " chNormalization)                                                \n",
            "                                                                 \n",
            " dropout_1 (Dropout)         (None, 64)                0         \n",
            "                                                                 \n",
            " dense_2 (Dense)             (None, 38)                2470      \n",
            "                                                                 \n",
            "=================================================================\n",
            "Total params: 23861478 (91.02 MB)\n",
            "Trainable params: 23807974 (90.82 MB)\n",
            "Non-trainable params: 53504 (209.00 KB)\n",
            "_________________________________________________________________\n"
          ]
        }
      ],
      "source": [
        "\n",
        "\n",
        "from tensorflow.keras.applications import ResNet50\n",
        "# Load pre-trained ResNet-50 model without the top (fully connected) layers\n",
        "resnet_base = ResNet50(weights='imagenet', include_top=False, input_shape=(224, 224, 3))\n",
        "\n",
        "# Freeze the weights of the pre-trained ResNet-50 layers\n",
        "for layer in resnet_base.layers:\n",
        "    layer.trainable = True\n",
        "\n",
        "# Create the rest of your model\n",
        "model = keras.Sequential([\n",
        "    keras.layers.Rescaling(scale=1/255, input_shape=(224, 224, 3)),\n",
        "\n",
        "    resnet_base,\n",
        "\n",
        "    keras.layers.GlobalAveragePooling2D(),\n",
        "\n",
        "    keras.layers.Dense(128, activation='relu'),\n",
        "    keras.layers.BatchNormalization(),\n",
        "    keras.layers.Dropout(0.5),\n",
        "\n",
        "    keras.layers.Dense(64, activation='relu'),\n",
        "    keras.layers.BatchNormalization(),\n",
        "    keras.layers.Dropout(0.5),\n",
        "\n",
        "    keras.layers.Dense(38, activation='sigmoid')\n",
        "])\n",
        "\n",
        "model.summary()\n",
        "\n"
      ]
    },
    {
      "cell_type": "code",
      "execution_count": 15,
      "metadata": {
        "id": "8FmHSwZ_eNYr"
      },
      "outputs": [],
      "source": [
        "initial_learning_rate = 0.001\n",
        "lr_schedule = tf.keras.optimizers.schedules.ExponentialDecay(\n",
        "    initial_learning_rate, decay_steps=1000, decay_rate=0.9\n",
        ")\n",
        "optimizer = tf.keras.optimizers.Adam(learning_rate=lr_schedule)\n",
        "model.compile(\n",
        "\n",
        "\n",
        "    optimizer=optimizer,\n",
        "    loss='sparse_categorical_crossentropy',\n",
        "    metrics=['accuracy'])\n",
        "\n"
      ]
    },
    {
      "cell_type": "code",
      "execution_count": 11,
      "metadata": {
        "id": "9fhfO58veNWF"
      },
      "outputs": [],
      "source": [
        "\n",
        "\n",
        "early_stopping = tf.keras.callbacks.EarlyStopping(\n",
        "    monitor='val_loss',  # You can use other metrics like 'val_accuracy'\n",
        "    patience=5,          # Number of epochs with no improvement to wait\n",
        "    restore_best_weights=True  # Restore the best model weights when early stopping\n",
        ")\n",
        "\n"
      ]
    },
    {
      "cell_type": "markdown",
      "metadata": {
        "id": "rG1ifuAz46Iu"
      },
      "source": [
        "Load the dataset¶"
      ]
    },
    {
      "cell_type": "code",
      "execution_count": 16,
      "metadata": {
        "colab": {
          "base_uri": "https://localhost:8080/"
        },
        "id": "_3z1Oi2qeNTS",
        "outputId": "5ad2e6d9-46a6-4c6e-a0a5-013a2174f6cb"
      },
      "outputs": [
        {
          "output_type": "stream",
          "name": "stdout",
          "text": [
            "Found 1792 files belonging to 9 classes.\n",
            "Using 1434 files for training.\n",
            "Using 358 files for validation.\n"
          ]
        }
      ],
      "source": [
        "\n",
        "\n",
        "train_ds, test_ds = keras.utils.image_dataset_from_directory(\n",
        "    rock_dir ,\n",
        "    image_size=(224,224),\n",
        "    batch_size=32,\n",
        "    seed = 123,\n",
        "    validation_split=.2,\n",
        "    subset='both'\n",
        ")\n",
        "\n"
      ]
    },
    {
      "cell_type": "markdown",
      "metadata": {
        "id": "-Pu_aaFq5Z3B"
      },
      "source": [
        "Train the model"
      ]
    },
    {
      "cell_type": "code",
      "execution_count": 17,
      "metadata": {
        "colab": {
          "base_uri": "https://localhost:8080/"
        },
        "id": "IS5I9C255ZEA",
        "outputId": "e94a5282-27fc-4aaf-eeba-6ac6e373ad41"
      },
      "outputs": [
        {
          "output_type": "stream",
          "name": "stdout",
          "text": [
            "Epoch 1/33\n",
            "45/45 [==============================] - 53s 425ms/step - loss: 2.3138 - accuracy: 0.3271 - val_loss: 5774.5361 - val_accuracy: 0.1006\n",
            "Epoch 2/33\n",
            "45/45 [==============================] - 17s 348ms/step - loss: 2.1430 - accuracy: 0.3515 - val_loss: 5.4647 - val_accuracy: 0.1034\n",
            "Epoch 3/33\n",
            "45/45 [==============================] - 18s 381ms/step - loss: 2.0734 - accuracy: 0.3368 - val_loss: 7.4646 - val_accuracy: 0.1034\n",
            "Epoch 4/33\n",
            "45/45 [==============================] - 17s 349ms/step - loss: 1.9235 - accuracy: 0.3682 - val_loss: 12.4532 - val_accuracy: 0.1034\n",
            "Epoch 5/33\n",
            "45/45 [==============================] - 16s 348ms/step - loss: 1.8318 - accuracy: 0.3863 - val_loss: 11.0232 - val_accuracy: 0.1034\n",
            "Epoch 6/33\n",
            "45/45 [==============================] - 19s 386ms/step - loss: 1.8925 - accuracy: 0.3780 - val_loss: 8.6109 - val_accuracy: 0.1034\n",
            "Epoch 7/33\n",
            "45/45 [==============================] - 17s 350ms/step - loss: 1.8550 - accuracy: 0.3801 - val_loss: 15.4630 - val_accuracy: 0.1034\n",
            "Epoch 8/33\n",
            "45/45 [==============================] - 17s 351ms/step - loss: 1.7245 - accuracy: 0.3996 - val_loss: 16.6024 - val_accuracy: 0.1034\n",
            "Epoch 9/33\n",
            "45/45 [==============================] - 17s 356ms/step - loss: 1.6426 - accuracy: 0.4393 - val_loss: 8.2961 - val_accuracy: 0.1034\n",
            "Epoch 10/33\n",
            "45/45 [==============================] - 18s 384ms/step - loss: 1.5724 - accuracy: 0.4568 - val_loss: 4.4431 - val_accuracy: 0.1229\n",
            "Epoch 11/33\n",
            "45/45 [==============================] - 17s 354ms/step - loss: 1.5014 - accuracy: 0.4881 - val_loss: 3.8959 - val_accuracy: 0.1425\n",
            "Epoch 12/33\n",
            "45/45 [==============================] - 17s 354ms/step - loss: 1.4527 - accuracy: 0.4881 - val_loss: 3.7790 - val_accuracy: 0.1061\n",
            "Epoch 13/33\n",
            "45/45 [==============================] - 18s 385ms/step - loss: 1.3966 - accuracy: 0.5153 - val_loss: 3.0620 - val_accuracy: 0.1285\n",
            "Epoch 14/33\n",
            "45/45 [==============================] - 17s 356ms/step - loss: 1.2600 - accuracy: 0.5460 - val_loss: 2.8356 - val_accuracy: 0.2011\n",
            "Epoch 15/33\n",
            "45/45 [==============================] - 17s 364ms/step - loss: 1.2319 - accuracy: 0.5781 - val_loss: 2.6108 - val_accuracy: 0.1788\n",
            "Epoch 16/33\n",
            "45/45 [==============================] - 17s 356ms/step - loss: 1.0821 - accuracy: 0.6220 - val_loss: 2.6357 - val_accuracy: 0.2374\n",
            "Epoch 17/33\n",
            "45/45 [==============================] - 18s 388ms/step - loss: 1.0309 - accuracy: 0.6653 - val_loss: 2.0917 - val_accuracy: 0.3547\n",
            "Epoch 18/33\n",
            "45/45 [==============================] - 17s 356ms/step - loss: 1.0237 - accuracy: 0.6499 - val_loss: 1.9892 - val_accuracy: 0.3520\n",
            "Epoch 19/33\n",
            "45/45 [==============================] - 17s 357ms/step - loss: 0.8974 - accuracy: 0.6980 - val_loss: 1.8839 - val_accuracy: 0.3966\n",
            "Epoch 20/33\n",
            "45/45 [==============================] - 17s 357ms/step - loss: 0.7404 - accuracy: 0.7587 - val_loss: 1.6916 - val_accuracy: 0.4302\n",
            "Epoch 21/33\n",
            "45/45 [==============================] - 18s 387ms/step - loss: 0.6358 - accuracy: 0.8040 - val_loss: 2.2873 - val_accuracy: 0.3743\n",
            "Epoch 22/33\n",
            "45/45 [==============================] - 17s 356ms/step - loss: 0.6371 - accuracy: 0.8040 - val_loss: 2.8133 - val_accuracy: 0.4469\n",
            "Epoch 23/33\n",
            "45/45 [==============================] - 17s 364ms/step - loss: 0.5392 - accuracy: 0.8354 - val_loss: 1.8061 - val_accuracy: 0.4553\n",
            "Epoch 24/33\n",
            "45/45 [==============================] - 17s 358ms/step - loss: 0.5432 - accuracy: 0.8368 - val_loss: 2.2429 - val_accuracy: 0.4022\n",
            "Epoch 25/33\n",
            "45/45 [==============================] - 17s 354ms/step - loss: 0.4523 - accuracy: 0.8654 - val_loss: 2.6192 - val_accuracy: 0.3184\n",
            "Epoch 26/33\n",
            "45/45 [==============================] - 17s 358ms/step - loss: 0.4394 - accuracy: 0.8668 - val_loss: 2.5715 - val_accuracy: 0.4022\n",
            "Epoch 27/33\n",
            "45/45 [==============================] - 17s 355ms/step - loss: 0.4210 - accuracy: 0.8898 - val_loss: 2.6013 - val_accuracy: 0.3603\n",
            "Epoch 28/33\n",
            "45/45 [==============================] - 17s 358ms/step - loss: 0.3189 - accuracy: 0.9114 - val_loss: 2.5270 - val_accuracy: 0.3883\n",
            "Epoch 29/33\n",
            "45/45 [==============================] - 17s 360ms/step - loss: 0.2340 - accuracy: 0.9400 - val_loss: 2.6264 - val_accuracy: 0.3659\n",
            "Epoch 30/33\n",
            "45/45 [==============================] - 17s 355ms/step - loss: 0.2109 - accuracy: 0.9414 - val_loss: 1.7297 - val_accuracy: 0.5251\n",
            "Epoch 31/33\n",
            "45/45 [==============================] - 17s 357ms/step - loss: 0.2328 - accuracy: 0.9400 - val_loss: 2.5064 - val_accuracy: 0.4274\n",
            "Epoch 32/33\n",
            "45/45 [==============================] - 17s 360ms/step - loss: 0.1600 - accuracy: 0.9603 - val_loss: 2.2380 - val_accuracy: 0.4385\n",
            "Epoch 33/33\n",
            "45/45 [==============================] - 18s 387ms/step - loss: 0.1890 - accuracy: 0.9519 - val_loss: 2.5519 - val_accuracy: 0.4274\n"
          ]
        }
      ],
      "source": [
        "history = model.fit(train_ds, epochs=33, validation_data=test_ds)  #, callbacks=[early_stopping])"
      ]
    },
    {
      "cell_type": "markdown",
      "source": [
        "Evaluation"
      ],
      "metadata": {
        "id": "KjYI-vGkSPBW"
      }
    },
    {
      "cell_type": "code",
      "execution_count": 18,
      "metadata": {
        "id": "bsyOZsZXeNQk",
        "colab": {
          "base_uri": "https://localhost:8080/"
        },
        "outputId": "da1f8c00-35af-401f-d120-0f7ed5da79a5"
      },
      "outputs": [
        {
          "output_type": "stream",
          "name": "stdout",
          "text": [
            "12/12 [==============================] - 3s 111ms/step\n",
            "              precision    recall  f1-score   support\n",
            "\n",
            "           0       0.63      0.32      0.43        37\n",
            "           1       0.38      0.56      0.45        34\n",
            "           2       0.74      0.30      0.43        56\n",
            "           3       0.56      0.41      0.47        37\n",
            "           4       0.32      0.49      0.38        39\n",
            "           5       0.58      0.55      0.57        38\n",
            "           6       0.19      0.51      0.28        41\n",
            "           7       0.80      0.20      0.32        40\n",
            "           8       0.91      0.58      0.71        36\n",
            "\n",
            "    accuracy                           0.43       358\n",
            "   macro avg       0.57      0.44      0.45       358\n",
            "weighted avg       0.57      0.43      0.44       358\n",
            "\n"
          ]
        }
      ],
      "source": [
        "predictions = model.predict(test_ds)\n",
        "predicted_labels = tf.argmax(predictions, axis=1)\n",
        "true_labels = [label for _, label in test_ds.unbatch()]\n",
        "print(classification_report(true_labels, predicted_labels))"
      ]
    },
    {
      "cell_type": "code",
      "execution_count": 19,
      "metadata": {
        "id": "GrqH_lp5eNNn",
        "colab": {
          "base_uri": "https://localhost:8080/",
          "height": 392
        },
        "outputId": "d726ffe8-4f5b-4840-eb92-895070014ec6"
      },
      "outputs": [
        {
          "output_type": "display_data",
          "data": {
            "text/plain": [
              "<Figure size 1200x400 with 2 Axes>"
            ],
            "image/png": "[encoded data removed]"
          },
          "metadata": {}
        }
      ],
      "source": [
        "plt.figure(figsize=(12, 4))\n",
        "plt.subplot(1, 2, 1)\n",
        "plt.plot(history.history['accuracy'], label='Training Accuracy')\n",
        "plt.plot(history.history['val_accuracy'], label='Validation Accuracy')\n",
        "plt.xlabel('Epochs')\n",
        "plt.ylabel('Accuracy')\n",
        "plt.legend()\n",
        "\n",
        "plt.subplot(1, 2, 2)\n",
        "plt.plot(history.history['loss'], label='Training Loss')\n",
        "plt.plot(history.history['val_loss'], label='Validation Loss')\n",
        "plt.xlabel('Epochs')\n",
        "plt.ylabel('Loss')\n",
        "plt.legend()\n",
        "\n",
        "plt.show()"
      ]
    },
    {
      "cell_type": "code",
      "execution_count": null,
      "metadata": {
        "id": "3UhuoKs8eMwx"
      },
      "outputs": [],
      "source": []
    }
  ],
  "metadata": {
    "colab": {
      "provenance": [],
      "gpuType": "T4",
      "authorship_tag": "ABX9TyPejtWdCX3A0YCnmSGBNIuy",
      "include_colab_link": true
    },
    "kernelspec": {
      "display_name": "Python 3",
      "name": "python3"
    },
    "language_info": {
      "name": "python"
    },
    "accelerator": "GPU"
  },
  "nbformat": 4,
  "nbformat_minor": 0
}