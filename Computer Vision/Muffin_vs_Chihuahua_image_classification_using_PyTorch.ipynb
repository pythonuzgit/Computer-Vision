{
  "nbformat": 4,
  "nbformat_minor": 0,
  "metadata": {
    "colab": {
      "provenance": [],
      "authorship_tag": "ABX9TyMFqNFne4apYSo/tkRv5Zjk",
      "include_colab_link": true
    },
    "kernelspec": {
      "name": "python3",
      "display_name": "Python 3"
    },
    "language_info": {
      "name": "python"
    },
    "accelerator": "GPU",
    "gpuClass": "standard",
    "widgets": {
      "application/vnd.jupyter.widget-state+json": {
        "b46c4f8c6188488e97a485dfd93f87a3": {
          "model_module": "@jupyter-widgets/controls",
          "model_name": "HBoxModel",
          "model_module_version": "1.5.0",
          "state": {
            "_dom_classes": [],
            "_model_module": "@jupyter-widgets/controls",
            "_model_module_version": "1.5.0",
            "_model_name": "HBoxModel",
            "_view_count": null,
            "_view_module": "@jupyter-widgets/controls",
            "_view_module_version": "1.5.0",
            "_view_name": "HBoxView",
            "box_style": "",
            "children": [
              "IPY_MODEL_712832f238d245a092979620726adc56",
              "IPY_MODEL_34e2fe4b186340efaea1d814fc5fe680",
              "IPY_MODEL_55da60f8962742c8be467a06fb5bbdd3"
            ],
            "layout": "IPY_MODEL_73e41b0991ea4405968eea9c7a9eae76"
          }
        },
        "712832f238d245a092979620726adc56": {
          "model_module": "@jupyter-widgets/controls",
          "model_name": "HTMLModel",
          "model_module_version": "1.5.0",
          "state": {
            "_dom_classes": [],
            "_model_module": "@jupyter-widgets/controls",
            "_model_module_version": "1.5.0",
            "_model_name": "HTMLModel",
            "_view_count": null,
            "_view_module": "@jupyter-widgets/controls",
            "_view_module_version": "1.5.0",
            "_view_name": "HTMLView",
            "description": "",
            "description_tooltip": null,
            "layout": "IPY_MODEL_cb5a99d002704860b17b47f1d8c5cb92",
            "placeholder": "​",
            "style": "IPY_MODEL_835fd7f3e3444a5bb05ff015f2e76e14",
            "value": "100%"
          }
        },
        "34e2fe4b186340efaea1d814fc5fe680": {
          "model_module": "@jupyter-widgets/controls",
          "model_name": "FloatProgressModel",
          "model_module_version": "1.5.0",
          "state": {
            "_dom_classes": [],
            "_model_module": "@jupyter-widgets/controls",
            "_model_module_version": "1.5.0",
            "_model_name": "FloatProgressModel",
            "_view_count": null,
            "_view_module": "@jupyter-widgets/controls",
            "_view_module_version": "1.5.0",
            "_view_name": "ProgressView",
            "bar_style": "success",
            "description": "",
            "description_tooltip": null,
            "layout": "IPY_MODEL_708a0942fc544922a6f3739eabc88eff",
            "max": 102530333,
            "min": 0,
            "orientation": "horizontal",
            "style": "IPY_MODEL_e8cfc6d0a22443bb98509d928c1fb8e0",
            "value": 102530333
          }
        },
        "55da60f8962742c8be467a06fb5bbdd3": {
          "model_module": "@jupyter-widgets/controls",
          "model_name": "HTMLModel",
          "model_module_version": "1.5.0",
          "state": {
            "_dom_classes": [],
            "_model_module": "@jupyter-widgets/controls",
            "_model_module_version": "1.5.0",
            "_model_name": "HTMLModel",
            "_view_count": null,
            "_view_module": "@jupyter-widgets/controls",
            "_view_module_version": "1.5.0",
            "_view_name": "HTMLView",
            "description": "",
            "description_tooltip": null,
            "layout": "IPY_MODEL_ac32529bb1364bf28685617a42685daf",
            "placeholder": "​",
            "style": "IPY_MODEL_d927187b028543d28ec792a39bf16dcc",
            "value": " 97.8M/97.8M [00:00&lt;00:00, 210MB/s]"
          }
        },
        "73e41b0991ea4405968eea9c7a9eae76": {
          "model_module": "@jupyter-widgets/base",
          "model_name": "LayoutModel",
          "model_module_version": "1.2.0",
          "state": {
            "_model_module": "@jupyter-widgets/base",
            "_model_module_version": "1.2.0",
            "_model_name": "LayoutModel",
            "_view_count": null,
            "_view_module": "@jupyter-widgets/base",
            "_view_module_version": "1.2.0",
            "_view_name": "LayoutView",
            "align_content": null,
            "align_items": null,
            "align_self": null,
            "border": null,
            "bottom": null,
            "display": null,
            "flex": null,
            "flex_flow": null,
            "grid_area": null,
            "grid_auto_columns": null,
            "grid_auto_flow": null,
            "grid_auto_rows": null,
            "grid_column": null,
            "grid_gap": null,
            "grid_row": null,
            "grid_template_areas": null,
            "grid_template_columns": null,
            "grid_template_rows": null,
            "height": null,
            "justify_content": null,
            "justify_items": null,
            "left": null,
            "margin": null,
            "max_height": null,
            "max_width": null,
            "min_height": null,
            "min_width": null,
            "object_fit": null,
            "object_position": null,
            "order": null,
            "overflow": null,
            "overflow_x": null,
            "overflow_y": null,
            "padding": null,
            "right": null,
            "top": null,
            "visibility": null,
            "width": null
          }
        },
        "cb5a99d002704860b17b47f1d8c5cb92": {
          "model_module": "@jupyter-widgets/base",
          "model_name": "LayoutModel",
          "model_module_version": "1.2.0",
          "state": {
            "_model_module": "@jupyter-widgets/base",
            "_model_module_version": "1.2.0",
            "_model_name": "LayoutModel",
            "_view_count": null,
            "_view_module": "@jupyter-widgets/base",
            "_view_module_version": "1.2.0",
            "_view_name": "LayoutView",
            "align_content": null,
            "align_items": null,
            "align_self": null,
            "border": null,
            "bottom": null,
            "display": null,
            "flex": null,
            "flex_flow": null,
            "grid_area": null,
            "grid_auto_columns": null,
            "grid_auto_flow": null,
            "grid_auto_rows": null,
            "grid_column": null,
            "grid_gap": null,
            "grid_row": null,
            "grid_template_areas": null,
            "grid_template_columns": null,
            "grid_template_rows": null,
            "height": null,
            "justify_content": null,
            "justify_items": null,
            "left": null,
            "margin": null,
            "max_height": null,
            "max_width": null,
            "min_height": null,
            "min_width": null,
            "object_fit": null,
            "object_position": null,
            "order": null,
            "overflow": null,
            "overflow_x": null,
            "overflow_y": null,
            "padding": null,
            "right": null,
            "top": null,
            "visibility": null,
            "width": null
          }
        },
        "835fd7f3e3444a5bb05ff015f2e76e14": {
          "model_module": "@jupyter-widgets/controls",
          "model_name": "DescriptionStyleModel",
          "model_module_version": "1.5.0",
          "state": {
            "_model_module": "@jupyter-widgets/controls",
            "_model_module_version": "1.5.0",
            "_model_name": "DescriptionStyleModel",
            "_view_count": null,
            "_view_module": "@jupyter-widgets/base",
            "_view_module_version": "1.2.0",
            "_view_name": "StyleView",
            "description_width": ""
          }
        },
        "708a0942fc544922a6f3739eabc88eff": {
          "model_module": "@jupyter-widgets/base",
          "model_name": "LayoutModel",
          "model_module_version": "1.2.0",
          "state": {
            "_model_module": "@jupyter-widgets/base",
            "_model_module_version": "1.2.0",
            "_model_name": "LayoutModel",
            "_view_count": null,
            "_view_module": "@jupyter-widgets/base",
            "_view_module_version": "1.2.0",
            "_view_name": "LayoutView",
            "align_content": null,
            "align_items": null,
            "align_self": null,
            "border": null,
            "bottom": null,
            "display": null,
            "flex": null,
            "flex_flow": null,
            "grid_area": null,
            "grid_auto_columns": null,
            "grid_auto_flow": null,
            "grid_auto_rows": null,
            "grid_column": null,
            "grid_gap": null,
            "grid_row": null,
            "grid_template_areas": null,
            "grid_template_columns": null,
            "grid_template_rows": null,
            "height": null,
            "justify_content": null,
            "justify_items": null,
            "left": null,
            "margin": null,
            "max_height": null,
            "max_width": null,
            "min_height": null,
            "min_width": null,
            "object_fit": null,
            "object_position": null,
            "order": null,
            "overflow": null,
            "overflow_x": null,
            "overflow_y": null,
            "padding": null,
            "right": null,
            "top": null,
            "visibility": null,
            "width": null
          }
        },
        "e8cfc6d0a22443bb98509d928c1fb8e0": {
          "model_module": "@jupyter-widgets/controls",
          "model_name": "ProgressStyleModel",
          "model_module_version": "1.5.0",
          "state": {
            "_model_module": "@jupyter-widgets/controls",
            "_model_module_version": "1.5.0",
            "_model_name": "ProgressStyleModel",
            "_view_count": null,
            "_view_module": "@jupyter-widgets/base",
            "_view_module_version": "1.2.0",
            "_view_name": "StyleView",
            "bar_color": null,
            "description_width": ""
          }
        },
        "ac32529bb1364bf28685617a42685daf": {
          "model_module": "@jupyter-widgets/base",
          "model_name": "LayoutModel",
          "model_module_version": "1.2.0",
          "state": {
            "_model_module": "@jupyter-widgets/base",
            "_model_module_version": "1.2.0",
            "_model_name": "LayoutModel",
            "_view_count": null,
            "_view_module": "@jupyter-widgets/base",
            "_view_module_version": "1.2.0",
            "_view_name": "LayoutView",
            "align_content": null,
            "align_items": null,
            "align_self": null,
            "border": null,
            "bottom": null,
            "display": null,
            "flex": null,
            "flex_flow": null,
            "grid_area": null,
            "grid_auto_columns": null,
            "grid_auto_flow": null,
            "grid_auto_rows": null,
            "grid_column": null,
            "grid_gap": null,
            "grid_row": null,
            "grid_template_areas": null,
            "grid_template_columns": null,
            "grid_template_rows": null,
            "height": null,
            "justify_content": null,
            "justify_items": null,
            "left": null,
            "margin": null,
            "max_height": null,
            "max_width": null,
            "min_height": null,
            "min_width": null,
            "object_fit": null,
            "object_position": null,
            "order": null,
            "overflow": null,
            "overflow_x": null,
            "overflow_y": null,
            "padding": null,
            "right": null,
            "top": null,
            "visibility": null,
            "width": null
          }
        },
        "d927187b028543d28ec792a39bf16dcc": {
          "model_module": "@jupyter-widgets/controls",
          "model_name": "DescriptionStyleModel",
          "model_module_version": "1.5.0",
          "state": {
            "_model_module": "@jupyter-widgets/controls",
            "_model_module_version": "1.5.0",
            "_model_name": "DescriptionStyleModel",
            "_view_count": null,
            "_view_module": "@jupyter-widgets/base",
            "_view_module_version": "1.2.0",
            "_view_name": "StyleView",
            "description_width": ""
          }
        }
      }
    }
  },
  "cells": [
    {
      "cell_type": "markdown",
      "metadata": {
        "id": "view-in-github",
        "colab_type": "text"
      },
      "source": [
        "<a href=\"https://colab.research.google.com/github/pythonuzgit/elmurodov/blob/master/Computer%20Vision/Muffin_vs_Chihuahua_image_classification_using_PyTorch.ipynb\" target=\"_parent\"><img src=\"https://colab.research.google.com/assets/colab-badge.svg\" alt=\"Open In Colab\"/></a>"
      ]
    },
    {
      "cell_type": "code",
      "execution_count": null,
      "metadata": {
        "id": "eQ7f1mPH3gYE"
      },
      "outputs": [],
      "source": []
    },
    {
      "cell_type": "code",
      "source": [
        "import numpy as np\n",
        "import pandas as pd\n",
        "import os\n",
        "import shutil\n",
        "import matplotlib.pyplot as plt\n",
        "from PIL import Image\n",
        "from PIL import ImageFilter\n",
        "from sklearn.preprocessing import LabelEncoder\n",
        "import timeit\n",
        "import cv2 as cv\n",
        "import argparse\n",
        "\n",
        "#Neural Network packages\n",
        "\n",
        "import torch\n",
        "import torch.nn as nn\n",
        "import torch.optim as optim\n",
        "import torchvision\n",
        "import torchvision.transforms as transforms\n",
        "from torch.utils.data.sampler import SubsetRandomSampler\n",
        "from torch.utils.data import Dataset\n",
        "from torchvision import models\n",
        "from torch.autograd import Variable"
      ],
      "metadata": {
        "id": "-89EYgaI322k"
      },
      "execution_count": null,
      "outputs": []
    },
    {
      "cell_type": "code",
      "source": [
        "import glob\n",
        "import numpy as np \n",
        "import pandas as pd \n",
        "\n",
        "from matplotlib import pyplot as plt\n",
        "import seaborn as sns\n",
        "import plotly.express as px\n",
        "\n",
        "\n",
        "\n",
        "import os\n",
        "#os.environ['TF_CPP_MIN_LOG_LEVEL'] = '2'"
      ],
      "metadata": {
        "id": "OR03KE3Z7mHL"
      },
      "execution_count": null,
      "outputs": []
    },
    {
      "cell_type": "code",
      "source": [
        "# Device selection(GPU or CPU)\n",
        "device= torch.device('cuda' if torch.cuda.is_available() else 'cpu')\n",
        "device"
      ],
      "metadata": {
        "colab": {
          "base_uri": "https://localhost:8080/"
        },
        "id": "YNC5kvk9NK14",
        "outputId": "8033b0af-dca1-47bd-85c3-5c3e49ecf73f"
      },
      "execution_count": null,
      "outputs": [
        {
          "output_type": "execute_result",
          "data": {
            "text/plain": [
              "device(type='cuda')"
            ]
          },
          "metadata": {},
          "execution_count": 8
        }
      ]
    },
    {
      "cell_type": "code",
      "source": [
        "#Check the size of input images\n",
        "im=Image.open('/content/train/chihuahua/img_0_0.jpg')\n",
        "width, height= im.size\n",
        "print(width,height)"
      ],
      "metadata": {
        "colab": {
          "base_uri": "https://localhost:8080/"
        },
        "id": "v2LPip2g9xi2",
        "outputId": "ddc90569-f98a-4e1d-c9c6-c3b7d091c8fc"
      },
      "execution_count": null,
      "outputs": [
        {
          "output_type": "stream",
          "name": "stdout",
          "text": [
            "612 612\n"
          ]
        }
      ]
    },
    {
      "cell_type": "code",
      "source": [
        "# set tranformations for images\n",
        "transform = transforms.Compose([transforms.Resize(256),\n",
        "                                transforms.RandomHorizontalFlip(),\n",
        "                                transforms.CenterCrop(224),\n",
        "                                transforms.ToTensor(),\n",
        "                                transforms.Normalize([0,0,0], \n",
        "                                                    [1,1,1])])"
      ],
      "metadata": {
        "id": "Uwhixf4E9xcR"
      },
      "execution_count": null,
      "outputs": []
    },
    {
      "cell_type": "code",
      "source": [
        "# Custom Dataset Class\n",
        "class INTELDataset(Dataset):\n",
        "    def __init__(self, img_data,img_path,transform=None):\n",
        "        self.img_path = img_path\n",
        "        self.transform = transform\n",
        "        self.img_data = img_data\n",
        "        \n",
        "   \n",
        "    \n",
        "    def __getitem__(self, index):\n",
        "        img_name = os.path.join(self.img_path,self.img_data.loc[index, 'labels'],\n",
        "                                self.img_data.loc[index, 'Images'])\n",
        "        image = Image.open(img_name)\n",
        "        image = image.convert('RGB')\n",
        "        #image = image.resize((300,300))\n",
        "        label = torch.tensor(self.img_data.loc[index, 'encoded_labels'])\n",
        "        if self.transform is not None:\n",
        "            image = self.transform(image)\n",
        "        return image, label\n",
        "\n",
        "\n",
        "    def __len__(self):\n",
        "      return len(self.img_data)\n",
        "           \n"
      ],
      "metadata": {
        "id": "eHXl20n49xX2"
      },
      "execution_count": null,
      "outputs": []
    },
    {
      "cell_type": "code",
      "source": [
        "base_path_train='/content'"
      ],
      "metadata": {
        "id": "xJGw6lln9xM4"
      },
      "execution_count": null,
      "outputs": []
    },
    {
      "cell_type": "code",
      "source": [
        "images_train=[]\n",
        "labels_train=[]\n",
        "\n",
        "\n",
        "for file in os.listdir(os.path.join(base_path_train,'train')):\n",
        "  if file=='chihuahua':\n",
        "    for img in os.listdir(os.path.join(base_path_train,'train', file)):\n",
        "      images_train.append(img)\n",
        "      labels_train.append('chihuahua')\n",
        "  if file=='muffin':\n",
        "    for img in os.listdir(os.path.join(base_path_train,'train', file)):\n",
        "      images_train.append(img)\n",
        "      labels_train.append('muffin')      \n",
        "   \n",
        "\n",
        "data_train= {'Images': images_train, 'labels':labels_train}     \n",
        "data_train=pd.DataFrame(data_train)\n",
        "print(data_train.head(10))"
      ],
      "metadata": {
        "colab": {
          "base_uri": "https://localhost:8080/"
        },
        "id": "uRS5Bdxs-nd2",
        "outputId": "3e22e6ef-a155-4e88-a452-8b1c7ece2653"
      },
      "execution_count": null,
      "outputs": [
        {
          "output_type": "stream",
          "name": "stdout",
          "text": [
            "           Images  labels\n",
            "0   img_0_393.jpg  muffin\n",
            "1   img_2_602.jpg  muffin\n",
            "2  img_3_1038.jpg  muffin\n",
            "3   img_1_915.jpg  muffin\n",
            "4   img_0_271.jpg  muffin\n",
            "5   img_4_928.jpg  muffin\n",
            "6   img_1_566.jpg  muffin\n",
            "7   img_1_489.jpg  muffin\n",
            "8   img_2_174.jpg  muffin\n",
            "9   img_3_921.jpg  muffin\n"
          ]
        }
      ]
    },
    {
      "cell_type": "code",
      "source": [
        "data_train.labels.value_counts()"
      ],
      "metadata": {
        "colab": {
          "base_uri": "https://localhost:8080/"
        },
        "id": "gCX02DBz-naA",
        "outputId": "9bc7d0b5-b073-416c-b216-5f1724315c4b"
      },
      "execution_count": null,
      "outputs": [
        {
          "output_type": "execute_result",
          "data": {
            "text/plain": [
              "chihuahua    2559\n",
              "muffin       2174\n",
              "Name: labels, dtype: int64"
            ]
          },
          "metadata": {},
          "execution_count": 14
        }
      ]
    },
    {
      "cell_type": "code",
      "source": [
        "# Encoding the string labels to digits\n",
        "encoder= LabelEncoder()\n",
        "data_train['encoded_labels']= encoder.fit_transform(data_train['labels'])\n",
        "data_train.head(10)\n",
        "data_train.encoded_labels.value_counts()"
      ],
      "metadata": {
        "colab": {
          "base_uri": "https://localhost:8080/"
        },
        "id": "2TSBLVo4-nW5",
        "outputId": "e8700181-e42d-4300-d7a0-cf8e06513f5f"
      },
      "execution_count": null,
      "outputs": [
        {
          "output_type": "execute_result",
          "data": {
            "text/plain": [
              "0    2559\n",
              "1    2174\n",
              "Name: encoded_labels, dtype: int64"
            ]
          },
          "metadata": {},
          "execution_count": 15
        }
      ]
    },
    {
      "cell_type": "code",
      "source": [
        "train_batch_size=32\n",
        "random_seed=50"
      ],
      "metadata": {
        "id": "f-HQBa7o-nTk"
      },
      "execution_count": null,
      "outputs": []
    },
    {
      "cell_type": "code",
      "source": [
        "# Create train sampler\n",
        "train_indices = list(range(len(data_train)))\n",
        "\n",
        "train_sampler = SubsetRandomSampler(train_indices)"
      ],
      "metadata": {
        "id": "mV0dFfks-nQg"
      },
      "execution_count": null,
      "outputs": []
    },
    {
      "cell_type": "code",
      "source": [
        "#training image path\n",
        "path_train=os.path.join(base_path_train,'train')\n",
        "print(path_train)"
      ],
      "metadata": {
        "colab": {
          "base_uri": "https://localhost:8080/"
        },
        "id": "8mYa0Bts-nNE",
        "outputId": "861ebbc8-5382-47c6-9cd0-dd07343b8ff0"
      },
      "execution_count": null,
      "outputs": [
        {
          "output_type": "stream",
          "name": "stdout",
          "text": [
            "/content/train\n"
          ]
        }
      ]
    },
    {
      "cell_type": "code",
      "source": [
        "dataset_train = INTELDataset(data_train, path_train, transform)\n",
        "\n",
        "\n",
        "\n",
        "train_loader = torch.utils.data.DataLoader(dataset_train, batch_size=train_batch_size, \n",
        "                                           sampler=train_sampler)"
      ],
      "metadata": {
        "id": "p2loJNfI-nJN"
      },
      "execution_count": null,
      "outputs": []
    },
    {
      "cell_type": "markdown",
      "source": [
        "Creating Test data labels"
      ],
      "metadata": {
        "id": "QaUPLdtOKG9Y"
      }
    },
    {
      "cell_type": "code",
      "source": [
        "#Check the size of a test images\n",
        "im=Image.open('/content/test/chihuahua/img_0_1071.jpg')\n",
        "width, height= im.size\n",
        "print(width,height)"
      ],
      "metadata": {
        "colab": {
          "base_uri": "https://localhost:8080/"
        },
        "id": "MgUc2BeR-nFH",
        "outputId": "e65307d9-f44c-46fa-cef1-8ae9ec1611ab"
      },
      "execution_count": null,
      "outputs": [
        {
          "output_type": "stream",
          "name": "stdout",
          "text": [
            "300 200\n"
          ]
        }
      ]
    },
    {
      "cell_type": "code",
      "source": [
        "base_path_test= '/content'"
      ],
      "metadata": {
        "id": "GfUH33hZ8ydI"
      },
      "execution_count": null,
      "outputs": []
    },
    {
      "cell_type": "code",
      "source": [
        "images_test=[]\n",
        "labels_test=[]\n",
        "\n",
        "\n",
        "for file in os.listdir(os.path.join(base_path_test,'test')):\n",
        "  if file=='chihuahua':\n",
        "    for img in os.listdir(os.path.join(base_path_test,'test', file)):\n",
        "      images_test.append(img)\n",
        "      labels_test.append('chihuahua')\n",
        "  if file=='muffin':\n",
        "    for img in os.listdir(os.path.join(base_path_test,'test', file)):\n",
        "      images_test.append(img)\n",
        "      labels_test.append('muffin')      \n",
        "     \n",
        "\n",
        "data_test= {'Images': images_test, 'labels':labels_test}     \n",
        "data_test=pd.DataFrame(data_test)\n",
        "print(data_test.head(10))\n"
      ],
      "metadata": {
        "colab": {
          "base_uri": "https://localhost:8080/"
        },
        "id": "98POdSy-KnMm",
        "outputId": "90a767af-eb4a-40dc-d532-f704c34cbd7e"
      },
      "execution_count": null,
      "outputs": [
        {
          "output_type": "stream",
          "name": "stdout",
          "text": [
            "          Images  labels\n",
            "0  img_1_738.jpg  muffin\n",
            "1  img_1_247.jpg  muffin\n",
            "2   img_3_28.jpg  muffin\n",
            "3  img_0_871.jpg  muffin\n",
            "4   img_2_22.jpg  muffin\n",
            "5  img_2_427.jpg  muffin\n",
            "6  img_2_535.jpg  muffin\n",
            "7   img_2_29.jpg  muffin\n",
            "8  img_4_748.jpg  muffin\n",
            "9  img_1_645.jpg  muffin\n"
          ]
        }
      ]
    },
    {
      "cell_type": "code",
      "source": [
        "# Encoding the string labels to digits\n",
        "encoder= LabelEncoder()\n",
        "data_test['encoded_labels']= encoder.fit_transform(data_test['labels'])\n",
        "data_test.head(10)\n",
        "data_test.encoded_labels.value_counts()"
      ],
      "metadata": {
        "colab": {
          "base_uri": "https://localhost:8080/"
        },
        "id": "DUYPFNySaoBB",
        "outputId": "ce998d39-cdcf-4770-b5bd-958dfe75a6a6"
      },
      "execution_count": null,
      "outputs": [
        {
          "output_type": "execute_result",
          "data": {
            "text/plain": [
              "0    640\n",
              "1    544\n",
              "Name: encoded_labels, dtype: int64"
            ]
          },
          "metadata": {},
          "execution_count": 23
        }
      ]
    },
    {
      "cell_type": "code",
      "source": [
        "path_test=os.path.join(base_path_test,'test')"
      ],
      "metadata": {
        "id": "HTg4EhPSLgo3"
      },
      "execution_count": null,
      "outputs": []
    },
    {
      "cell_type": "markdown",
      "source": [
        "Creating Test Sampler"
      ],
      "metadata": {
        "id": "hGChqCQG8c7E"
      }
    },
    {
      "cell_type": "code",
      "source": [
        "\n",
        "test_indices = list(range(len(data_test)))\n",
        "\n",
        "test_sampler = SubsetRandomSampler(test_indices)"
      ],
      "metadata": {
        "id": "Y5impSx8LglF"
      },
      "execution_count": null,
      "outputs": []
    },
    {
      "cell_type": "code",
      "source": [
        "test_batch_size=20"
      ],
      "metadata": {
        "id": "U5vLu8nFLghb"
      },
      "execution_count": null,
      "outputs": []
    },
    {
      "cell_type": "code",
      "source": [
        "dataset_test = INTELDataset(data_test, path_test,transform)\n",
        "\n",
        "\n",
        "\n",
        "test_loader = torch.utils.data.DataLoader(dataset_test, batch_size=test_batch_size, \n",
        "                                           sampler=test_sampler)"
      ],
      "metadata": {
        "id": "Nf27CFquLgUX"
      },
      "execution_count": null,
      "outputs": []
    },
    {
      "cell_type": "markdown",
      "source": [
        "Function for Training"
      ],
      "metadata": {
        "id": "7CfAA5ieM8J3"
      }
    },
    {
      "cell_type": "code",
      "source": [
        "def train(model, device, train_loader, criterion, optimizer, epoch):\n",
        "    model.cuda()\n",
        "    model.train()\n",
        "    train_losses=[]\n",
        "    for batch_idx, (data, target) in enumerate(train_loader):\n",
        "       \n",
        "        # send the image, target to the device\n",
        "        data, target = data.to(device), target.to(device)\n",
        "        # flush out the gradients stored in optimizer\n",
        "        optimizer.zero_grad()\n",
        "        # pass the image to the model and assign the output to variable named output\n",
        "        output = model(data)\n",
        "        # calculate the loss (use cross entropy in pytorch)\n",
        "        loss = criterion(output, target)\n",
        "        #appending train loss list\n",
        "        train_losses.append(loss.item())\n",
        "        # do a backward pass\n",
        "        loss.backward()\n",
        "        # update the weights\n",
        "        optimizer.step()\n",
        "     \n",
        "        if batch_idx % 32 == 0:\n",
        "            print('Train Epoch: {} [{}/{} ({:.0f}%)]\\tLoss: {:.6f}'.format(\n",
        "                epoch, batch_idx * len(data), len(train_loader.dataset),\n",
        "                100. * batch_idx / len(train_loader), loss.item()))\n",
        "            \n",
        "    return train_losses"
      ],
      "metadata": {
        "id": "f3TBn9dOM4tW"
      },
      "execution_count": null,
      "outputs": []
    },
    {
      "cell_type": "markdown",
      "source": [
        "Function for Testing"
      ],
      "metadata": {
        "id": "C7JiNFu8Nc2k"
      }
    },
    {
      "cell_type": "code",
      "source": [
        "def test(model, device, test_loader, criterion):\n",
        "    model.eval()\n",
        "    test_loss = 0\n",
        "    correct = 0\n",
        "    with torch.no_grad():\n",
        "        for data, target in test_loader:\n",
        "          \n",
        "            # send the image, target to the device\n",
        "            data, target = data.to(device), target.to(device)\n",
        "            # pass the image to the model and assign the output to variable named output\n",
        "            output = model(data)\n",
        "            #print(output)\n",
        "         \n",
        "            test_loss += criterion(output, target).item()  # sum up batch loss\n",
        "            pred = output.argmax(dim=1, keepdim=True)  # get the index of the max log-probability\n",
        "            correct += pred.eq(target.view_as(pred)).sum().item()\n",
        "    #print(output)\n",
        "    test_loss /= len(test_loader.dataset)\n",
        "\n",
        "    print('\\nTest set: Average loss: {:.4f}, Accuracy: {}/{} ({:.0f}%)\\n'.format(\n",
        "        test_loss, correct, len(test_loader.dataset),\n",
        "        100. * correct / len(test_loader.dataset)))\n",
        "\n"
      ],
      "metadata": {
        "id": "-Y8pnswXNcGU"
      },
      "execution_count": null,
      "outputs": []
    },
    {
      "cell_type": "markdown",
      "source": [
        "Training and Testing using pretrained Resnet50"
      ],
      "metadata": {
        "id": "HMo6lRCHNraS"
      }
    },
    {
      "cell_type": "code",
      "source": [
        "#from torchvision.models import resnet50, ResNet50_Weights"
      ],
      "metadata": {
        "id": "SefnuM3pRoIB"
      },
      "execution_count": null,
      "outputs": []
    },
    {
      "cell_type": "code",
      "source": [
        "from torchvision.models import resnet50\n",
        "\n",
        "# With weights:\n",
        "model = resnet50(pretrained=True)\n",
        "\n",
        "# Without weights:\n",
        "model = resnet50(pretrained=False)\n",
        "\n",
        "\n",
        "for param in model.parameters():\n",
        "    param.requires_grad = False\n",
        "num_features= model.fc.in_features\n",
        "model.fc = nn.Linear(num_features, 6)\n",
        "\n",
        "criterion = nn.CrossEntropyLoss().cuda()\n",
        "#Define Adam Optimiser with a learning rate of 0.01\n",
        "optimizer = optim.Adam(model.fc.parameters(), lr=0.01)\n",
        "\n",
        "start = timeit.default_timer()\n",
        "\n",
        "for epoch in range(1, 11):\n",
        "\n",
        "  train(model, device, train_loader, criterion, optimizer, epoch)\n",
        "  test(model, device, test_loader, criterion)\n",
        "\n",
        "stop = timeit.default_timer()\n",
        "print('Total time taken: {} seconds'.format(int(stop - start)) )  \n",
        "\n"
      ],
      "metadata": {
        "colab": {
          "base_uri": "https://localhost:8080/",
          "height": 1000,
          "referenced_widgets": [
            "b46c4f8c6188488e97a485dfd93f87a3",
            "712832f238d245a092979620726adc56",
            "34e2fe4b186340efaea1d814fc5fe680",
            "55da60f8962742c8be467a06fb5bbdd3",
            "73e41b0991ea4405968eea9c7a9eae76",
            "cb5a99d002704860b17b47f1d8c5cb92",
            "835fd7f3e3444a5bb05ff015f2e76e14",
            "708a0942fc544922a6f3739eabc88eff",
            "e8cfc6d0a22443bb98509d928c1fb8e0",
            "ac32529bb1364bf28685617a42685daf",
            "d927187b028543d28ec792a39bf16dcc"
          ]
        },
        "id": "ASbpqGgiUNYd",
        "outputId": "a84fc692-d956-4ea7-c10a-128558895e76"
      },
      "execution_count": null,
      "outputs": [
        {
          "output_type": "stream",
          "name": "stderr",
          "text": [
            "/usr/local/lib/python3.8/dist-packages/torchvision/models/_utils.py:208: UserWarning: The parameter 'pretrained' is deprecated since 0.13 and may be removed in the future, please use 'weights' instead.\n",
            "  warnings.warn(\n",
            "/usr/local/lib/python3.8/dist-packages/torchvision/models/_utils.py:223: UserWarning: Arguments other than a weight enum or `None` for 'weights' are deprecated since 0.13 and may be removed in the future. The current behavior is equivalent to passing `weights=ResNet50_Weights.IMAGENET1K_V1`. You can also use `weights=ResNet50_Weights.DEFAULT` to get the most up-to-date weights.\n",
            "  warnings.warn(msg)\n",
            "Downloading: \"https://download.pytorch.org/models/resnet50-0676ba61.pth\" to /root/.cache/torch/hub/checkpoints/resnet50-0676ba61.pth\n"
          ]
        },
        {
          "output_type": "display_data",
          "data": {
            "text/plain": [
              "  0%|          | 0.00/97.8M [00:00<?, ?B/s]"
            ],
            "application/vnd.jupyter.widget-view+json": {
              "version_major": 2,
              "version_minor": 0,
              "model_id": "b46c4f8c6188488e97a485dfd93f87a3"
            }
          },
          "metadata": {}
        },
        {
          "output_type": "stream",
          "name": "stderr",
          "text": [
            "/usr/local/lib/python3.8/dist-packages/torchvision/models/_utils.py:223: UserWarning: Arguments other than a weight enum or `None` for 'weights' are deprecated since 0.13 and may be removed in the future. The current behavior is equivalent to passing `weights=None`.\n",
            "  warnings.warn(msg)\n"
          ]
        },
        {
          "output_type": "stream",
          "name": "stdout",
          "text": [
            "Train Epoch: 1 [0/4733 (0%)]\tLoss: 1.758729\n",
            "Train Epoch: 1 [1024/4733 (22%)]\tLoss: 0.639026\n",
            "Train Epoch: 1 [2048/4733 (43%)]\tLoss: 0.736810\n",
            "Train Epoch: 1 [3072/4733 (65%)]\tLoss: 1.186335\n",
            "Train Epoch: 1 [4096/4733 (86%)]\tLoss: 0.525152\n",
            "\n",
            "Test set: Average loss: 0.0375, Accuracy: 740/1184 (62%)\n",
            "\n",
            "Train Epoch: 2 [0/4733 (0%)]\tLoss: 1.064155\n",
            "Train Epoch: 2 [1024/4733 (22%)]\tLoss: 2.165292\n",
            "Train Epoch: 2 [2048/4733 (43%)]\tLoss: 0.535488\n",
            "Train Epoch: 2 [3072/4733 (65%)]\tLoss: 0.701624\n",
            "Train Epoch: 2 [4096/4733 (86%)]\tLoss: 2.020882\n",
            "\n",
            "Test set: Average loss: 0.0334, Accuracy: 849/1184 (72%)\n",
            "\n",
            "Train Epoch: 3 [0/4733 (0%)]\tLoss: 0.508373\n",
            "Train Epoch: 3 [1024/4733 (22%)]\tLoss: 0.635161\n",
            "Train Epoch: 3 [2048/4733 (43%)]\tLoss: 0.886227\n",
            "Train Epoch: 3 [3072/4733 (65%)]\tLoss: 1.297276\n",
            "Train Epoch: 3 [4096/4733 (86%)]\tLoss: 0.780721\n",
            "\n",
            "Test set: Average loss: 0.0462, Accuracy: 789/1184 (67%)\n",
            "\n",
            "Train Epoch: 4 [0/4733 (0%)]\tLoss: 0.904711\n",
            "Train Epoch: 4 [1024/4733 (22%)]\tLoss: 0.426906\n",
            "Train Epoch: 4 [2048/4733 (43%)]\tLoss: 0.519253\n",
            "Train Epoch: 4 [3072/4733 (65%)]\tLoss: 1.135329\n",
            "Train Epoch: 4 [4096/4733 (86%)]\tLoss: 0.192220\n",
            "\n",
            "Test set: Average loss: 0.0254, Accuracy: 919/1184 (78%)\n",
            "\n",
            "Train Epoch: 5 [0/4733 (0%)]\tLoss: 0.601185\n",
            "Train Epoch: 5 [1024/4733 (22%)]\tLoss: 0.552864\n",
            "Train Epoch: 5 [2048/4733 (43%)]\tLoss: 3.130051\n",
            "Train Epoch: 5 [3072/4733 (65%)]\tLoss: 1.617920\n",
            "Train Epoch: 5 [4096/4733 (86%)]\tLoss: 0.745197\n",
            "\n",
            "Test set: Average loss: 0.0440, Accuracy: 783/1184 (66%)\n",
            "\n",
            "Train Epoch: 6 [0/4733 (0%)]\tLoss: 0.900262\n",
            "Train Epoch: 6 [1024/4733 (22%)]\tLoss: 0.981818\n",
            "Train Epoch: 6 [2048/4733 (43%)]\tLoss: 0.455857\n",
            "Train Epoch: 6 [3072/4733 (65%)]\tLoss: 0.490965\n",
            "Train Epoch: 6 [4096/4733 (86%)]\tLoss: 0.869500\n",
            "\n",
            "Test set: Average loss: 0.0306, Accuracy: 935/1184 (79%)\n",
            "\n",
            "Train Epoch: 7 [0/4733 (0%)]\tLoss: 0.558560\n",
            "Train Epoch: 7 [1024/4733 (22%)]\tLoss: 0.438344\n",
            "Train Epoch: 7 [2048/4733 (43%)]\tLoss: 0.547735\n",
            "Train Epoch: 7 [3072/4733 (65%)]\tLoss: 0.696745\n",
            "Train Epoch: 7 [4096/4733 (86%)]\tLoss: 1.600843\n",
            "\n",
            "Test set: Average loss: 0.0254, Accuracy: 942/1184 (80%)\n",
            "\n",
            "Train Epoch: 8 [0/4733 (0%)]\tLoss: 0.444911\n",
            "Train Epoch: 8 [1024/4733 (22%)]\tLoss: 0.415202\n",
            "Train Epoch: 8 [2048/4733 (43%)]\tLoss: 0.346152\n",
            "Train Epoch: 8 [3072/4733 (65%)]\tLoss: 0.400750\n",
            "Train Epoch: 8 [4096/4733 (86%)]\tLoss: 0.553898\n",
            "\n",
            "Test set: Average loss: 0.0304, Accuracy: 893/1184 (75%)\n",
            "\n",
            "Train Epoch: 9 [0/4733 (0%)]\tLoss: 0.649548\n",
            "Train Epoch: 9 [1024/4733 (22%)]\tLoss: 0.338210\n",
            "Train Epoch: 9 [2048/4733 (43%)]\tLoss: 1.506341\n",
            "Train Epoch: 9 [3072/4733 (65%)]\tLoss: 0.588639\n",
            "Train Epoch: 9 [4096/4733 (86%)]\tLoss: 0.696041\n",
            "\n",
            "Test set: Average loss: 0.0321, Accuracy: 860/1184 (73%)\n",
            "\n",
            "Train Epoch: 10 [0/4733 (0%)]\tLoss: 0.225466\n",
            "Train Epoch: 10 [1024/4733 (22%)]\tLoss: 0.873871\n",
            "Train Epoch: 10 [2048/4733 (43%)]\tLoss: 2.633200\n",
            "Train Epoch: 10 [3072/4733 (65%)]\tLoss: 0.572770\n",
            "Train Epoch: 10 [4096/4733 (86%)]\tLoss: 0.626671\n",
            "\n",
            "Test set: Average loss: 0.0466, Accuracy: 826/1184 (70%)\n",
            "\n",
            "Total time taken: 1122 seconds\n"
          ]
        }
      ]
    },
    {
      "cell_type": "markdown",
      "source": [
        "Validate the Model"
      ],
      "metadata": {
        "id": "gghrSMe8Z6Ch"
      }
    },
    {
      "cell_type": "code",
      "source": [
        "valid_transforms = transforms.Compose([transforms.Resize(224),\n",
        "                                      transforms.ToTensor(),\n",
        "                                     ])"
      ],
      "metadata": {
        "id": "-zPF6rKFZyc6"
      },
      "execution_count": null,
      "outputs": []
    },
    {
      "cell_type": "code",
      "source": [
        "def predict_image(image):\n",
        "    image_tensor = valid_transforms(image).float()\n",
        "    image_tensor = image_tensor.unsqueeze_(0)\n",
        "    input = Variable(image_tensor)\n",
        "    input = input.to(device)\n",
        "    output = model(input)\n",
        "    index = output.data.cpu().numpy().argmax()\n",
        "    vector={0:'chihuahua', 1:'muffin'}\n",
        "    obj=vector[index]\n",
        "    \n",
        "        \n",
        "    return obj"
      ],
      "metadata": {
        "id": "KaTVhdrDaEFl"
      },
      "execution_count": null,
      "outputs": []
    },
    {
      "cell_type": "code",
      "source": [
        "im = Image.open('/content/test/chihuahua/img_0_1071.jpg')\n",
        "im"
      ],
      "metadata": {
        "colab": {
          "base_uri": "https://localhost:8080/",
          "height": 217
        },
        "id": "ASw0QKLcaD9m",
        "outputId": "f5e92091-220f-40ff-e4ef-dd21188c1e47"
      },
      "execution_count": null,
      "outputs": [
        {
          "output_type": "execute_result",
          "data": {
            "text/plain": [
              "<PIL.JpegImagePlugin.JpegImageFile image mode=RGB size=300x200 at 0x7F2593D86BB0>"
            ],
            "image/png": "[encoded data removed]"
          },
          "metadata": {},
          "execution_count": 48
        }
      ]
    },
    {
      "cell_type": "code",
      "source": [
        "predict_image(im)"
      ],
      "metadata": {
        "colab": {
          "base_uri": "https://localhost:8080/",
          "height": 35
        },
        "id": "27zxdCBeaDyX",
        "outputId": "91c4e4f3-0fe2-49b0-b41a-06f4101673e4"
      },
      "execution_count": null,
      "outputs": [
        {
          "output_type": "execute_result",
          "data": {
            "text/plain": [
              "'chihuahua'"
            ],
            "application/vnd.google.colaboratory.intrinsic+json": {
              "type": "string"
            }
          },
          "metadata": {},
          "execution_count": 49
        }
      ]
    },
    {
      "cell_type": "code",
      "source": [
        "im2=Image.open('/content/test/muffin/img_0_1051.jpg')\n",
        "im2"
      ],
      "metadata": {
        "colab": {
          "base_uri": "https://localhost:8080/",
          "height": 242
        },
        "id": "kQLZGcvB7znM",
        "outputId": "23cb6eff-b27e-4fa1-e9fc-ae341f0813ff"
      },
      "execution_count": null,
      "outputs": [
        {
          "output_type": "execute_result",
          "data": {
            "text/plain": [
              "<PIL.JpegImagePlugin.JpegImageFile image mode=RGB size=225x225 at 0x7F259A604F70>"
            ],
            "image/png": "[encoded data removed]"
          },
          "metadata": {},
          "execution_count": 52
        }
      ]
    },
    {
      "cell_type": "code",
      "source": [
        "predict_image(im2)"
      ],
      "metadata": {
        "colab": {
          "base_uri": "https://localhost:8080/",
          "height": 35
        },
        "id": "uzRt_emY7zdk",
        "outputId": "77c24abb-5bf9-48f5-ed12-185a04f3cde7"
      },
      "execution_count": null,
      "outputs": [
        {
          "output_type": "execute_result",
          "data": {
            "text/plain": [
              "'muffin'"
            ],
            "application/vnd.google.colaboratory.intrinsic+json": {
              "type": "string"
            }
          },
          "metadata": {},
          "execution_count": 53
        }
      ]
    },
    {
      "cell_type": "code",
      "source": [],
      "metadata": {
        "id": "rUAP_Sab7zKn"
      },
      "execution_count": null,
      "outputs": []
    }
  ]
}