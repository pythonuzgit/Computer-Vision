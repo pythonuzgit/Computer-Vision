{
  "nbformat": 4,
  "nbformat_minor": 0,
  "metadata": {
    "colab": {
      "name": "Image classification using PyTorch with paddy-pests-dataset.ipynb",
      "provenance": [],
      "authorship_tag": "ABX9TyMAmELmk40B5H16zMaoqsoO",
      "include_colab_link": true
    },
    "kernelspec": {
      "name": "python3",
      "display_name": "Python 3"
    },
    "language_info": {
      "name": "python"
    },
    "accelerator": "GPU"
  },
  "cells": [
    {
      "cell_type": "markdown",
      "metadata": {
        "id": "view-in-github",
        "colab_type": "text"
      },
      "source": [
        "<a href=\"https://colab.research.google.com/github/pythonuzgit/elmurodov/blob/master/Image_classification_using_PyTorch_with_paddy_pests_dataset.ipynb\" target=\"_parent\"><img src=\"https://colab.research.google.com/assets/colab-badge.svg\" alt=\"Open In Colab\"/></a>"
      ]
    },
    {
      "cell_type": "code",
      "metadata": {
        "id": "cX44GEvI82n1"
      },
      "source": [
        ""
      ],
      "execution_count": null,
      "outputs": []
    },
    {
      "cell_type": "code",
      "metadata": {
        "id": "i015bBJE84GZ"
      },
      "source": [
        "kaggle datasets download -d zeeniye/paddy-pests-dataset"
      ],
      "execution_count": null,
      "outputs": []
    },
    {
      "cell_type": "code",
      "metadata": {
        "colab": {
          "base_uri": "https://localhost:8080/"
        },
        "id": "X_3y3yQK9we_",
        "outputId": "1e21a990-6022-4168-d7ed-721e538e49b0"
      },
      "source": [
        "from zipfile import ZipFile\n",
        "file_name = \"/content/paddy-pests-dataset.zip\"\n",
        "with ZipFile(file_name, 'r') as zip:\n",
        "  zip.extractall()\n",
        "  print('Done')"
      ],
      "execution_count": 5,
      "outputs": [
        {
          "output_type": "stream",
          "text": [
            "Done\n"
          ],
          "name": "stdout"
        }
      ]
    },
    {
      "cell_type": "markdown",
      "metadata": {
        "id": "HxZSEwPLZ57E"
      },
      "source": [
        "Import all libraries"
      ]
    },
    {
      "cell_type": "code",
      "metadata": {
        "id": "_y1wE2rGZ23C"
      },
      "source": [
        "import torch\n",
        "import torch.nn as nn\n",
        "import torch.nn.functional as F\n",
        "import torch.optim as optim\n",
        "from torchvision import datasets, transforms\n",
        "from torch.utils.data import DataLoader\n",
        "\n",
        "import os\n",
        "from PIL import Image\n"
      ],
      "execution_count": 6,
      "outputs": []
    },
    {
      "cell_type": "markdown",
      "metadata": {
        "id": "_Koo7fUZal-3"
      },
      "source": [
        "Clean data and remove non images files"
      ]
    },
    {
      "cell_type": "code",
      "metadata": {
        "id": "dxUdswh3Z214"
      },
      "source": [
        "path = '/content/paddy images'\n",
        "\n",
        "for folder in os.listdir(path):\n",
        "  for img_file in os.listdir(os.path.join(path, folder)):\n",
        "    img_file = os.path.join(path, folder, img_file)\n",
        "\n",
        "    try:\n",
        "      img = Image.open(img_file)\n",
        "      if img.mode != 'RGB':\n",
        "        os.remove(img_file)\n",
        "\n",
        "    except:\n",
        "      os.remove(img_file)    \n"
      ],
      "execution_count": 7,
      "outputs": []
    },
    {
      "cell_type": "markdown",
      "metadata": {
        "id": "fTddjj3LbxIv"
      },
      "source": [
        "Data preprocessing and convert to tensor format"
      ]
    },
    {
      "cell_type": "code",
      "metadata": {
        "id": "qVQBoBtwZ2ru"
      },
      "source": [
        ""
      ],
      "execution_count": null,
      "outputs": []
    },
    {
      "cell_type": "code",
      "metadata": {
        "id": "hLo2iAer--bC"
      },
      "source": [
        "import torchvision\n",
        "from torchvision import transforms\n",
        "\n",
        "transform = transforms.Compose([\n",
        "                                 transforms.Resize(255),\n",
        "                                 transforms.CenterCrop(224),\n",
        "                                 transforms.ToTensor(), \n",
        "                                 transforms.Normalize([0.5],\n",
        "                                                      [0.5])\n",
        "])\n",
        "\n",
        "dataset = datasets.ImageFolder('/content/paddy images', transform = transform)\n",
        "\n",
        "dataset_len = len(dataset)\n",
        "\n",
        "train_len, test_len = dataset_len - 450, 450\n",
        "\n",
        "train_set, test_set = torch.utils.data.random_split(dataset, [train_len, test_len])\n",
        "\n",
        "batch_size = 200\n",
        "\n",
        "# train and test DataLoader\n",
        "\n",
        "train_set = DataLoader(dataset = train_set, shuffle = True, batch_size=batch_size)\n",
        "test_set = DataLoader(dataset = test_set, shuffle = True, batch_size=batch_size)"
      ],
      "execution_count": 8,
      "outputs": []
    },
    {
      "cell_type": "markdown",
      "metadata": {
        "id": "pDpkPswthBov"
      },
      "source": [
        "Checking the device"
      ]
    },
    {
      "cell_type": "code",
      "metadata": {
        "id": "naYxSVPchFbQ"
      },
      "source": [
        "dev = torch.device('cuda' if torch.cuda.is_available() else 'cpu')"
      ],
      "execution_count": 9,
      "outputs": []
    },
    {
      "cell_type": "code",
      "metadata": {
        "colab": {
          "base_uri": "https://localhost:8080/"
        },
        "id": "zBAV5oYEhY8s",
        "outputId": "af337825-967e-4bbe-8e5d-c042e08bf421"
      },
      "source": [
        "print(dev)"
      ],
      "execution_count": 10,
      "outputs": [
        {
          "output_type": "stream",
          "text": [
            "cuda\n"
          ],
          "name": "stdout"
        }
      ]
    },
    {
      "cell_type": "markdown",
      "metadata": {
        "id": "276oRUr0i54U"
      },
      "source": [
        "Build Model"
      ]
    },
    {
      "cell_type": "code",
      "metadata": {
        "colab": {
          "base_uri": "https://localhost:8080/"
        },
        "id": "-sERjSQBhaVg",
        "outputId": "612a77d4-8a77-49a1-999f-b2c92b553990"
      },
      "source": [
        "class Model(torch.nn.Module):\n",
        "  def __init__(self):\n",
        "    super(Model, self).__init__()\n",
        "\n",
        "    self.pool = nn.MaxPool2d(2,2)\n",
        "    self.dropout = nn.Dropout(p = 0.2)\n",
        "\n",
        "    self.conv1 = nn.Conv2d(in_channels = 3, out_channels = 6, kernel_size = 4)\n",
        "    self.conv2 = nn.Conv2d(in_channels = 6, out_channels = 12, kernel_size = 4)\n",
        "    self.conv3 = nn.Conv2d(in_channels = 12, out_channels = 14, kernel_size = 4)\n",
        "    self.conv4 = nn.Conv2d(in_channels = 14, out_channels = 16, kernel_size = 4)\n",
        "    self.conv5 = nn.Conv2d(in_channels = 16, out_channels = 20, kernel_size = 4)\n",
        "\n",
        "    \n",
        "    self.fc1 = nn.Linear(in_features = 20 * 4 * 4, out_features = 250)\n",
        "    self.fc2 = nn.Linear(in_features = 250, out_features = 200)\n",
        "    self.fc3 = nn.Linear(in_features = 200, out_features = 50)\n",
        "    self.fc4 = nn.Linear(in_features = 50, out_features = 10)\n",
        "    self.fc5 = nn.Linear(in_features = 10, out_features = 2)\n",
        "\n",
        "\n",
        "\n",
        "  def forward(self, x):\n",
        "    x = self.pool(F.relu(self.conv1(x)))\n",
        "    x = self.pool(F.relu(self.conv2(x)))\n",
        "    x = self.pool(F.relu(self.conv3(x)))\n",
        "    x = self.pool(F.relu(self.conv4(x)))\n",
        "    x = self.pool(F.relu(self.conv5(x)))\n",
        "\n",
        "\n",
        "\n",
        "    x = x.reshape(-1, 20 * 4 * 4)\n",
        "    x = self.dropout(F.relu(self.fc1(x)))\n",
        "    x = self.dropout(F.relu(self.fc2(x)))\n",
        "    x = self.dropout(F.relu(self.fc3(x)))\n",
        "    x = self.dropout(F.relu(self.fc4(x)))\n",
        "    x = self.fc5(x)\n",
        "\n",
        "    return x\n",
        "\n",
        "\n",
        "\n",
        "\n",
        "\n",
        "\n",
        "\n",
        "net = Model().to(dev)\n",
        "\n",
        "print(net)\n",
        "   "
      ],
      "execution_count": 12,
      "outputs": [
        {
          "output_type": "stream",
          "text": [
            "Model(\n",
            "  (pool): MaxPool2d(kernel_size=2, stride=2, padding=0, dilation=1, ceil_mode=False)\n",
            "  (dropout): Dropout(p=0.2, inplace=False)\n",
            "  (conv1): Conv2d(3, 6, kernel_size=(4, 4), stride=(1, 1))\n",
            "  (conv2): Conv2d(6, 12, kernel_size=(4, 4), stride=(1, 1))\n",
            "  (conv3): Conv2d(12, 14, kernel_size=(4, 4), stride=(1, 1))\n",
            "  (conv4): Conv2d(14, 16, kernel_size=(4, 4), stride=(1, 1))\n",
            "  (conv5): Conv2d(16, 20, kernel_size=(4, 4), stride=(1, 1))\n",
            "  (fc1): Linear(in_features=320, out_features=250, bias=True)\n",
            "  (fc2): Linear(in_features=250, out_features=200, bias=True)\n",
            "  (fc3): Linear(in_features=200, out_features=50, bias=True)\n",
            "  (fc4): Linear(in_features=50, out_features=10, bias=True)\n",
            "  (fc5): Linear(in_features=10, out_features=2, bias=True)\n",
            ")\n"
          ],
          "name": "stdout"
        }
      ]
    },
    {
      "cell_type": "markdown",
      "metadata": {
        "id": "P6rMgx0f8gyJ"
      },
      "source": [
        "Define Loss and Optimizer functions"
      ]
    },
    {
      "cell_type": "code",
      "metadata": {
        "id": "j3Rm7xuB8UcG"
      },
      "source": [
        "creterion = nn.CrossEntropyLoss()\n",
        "optimizer = optim.Adam(net.parameters(), lr = 0.001, weight_decay = 1e-5)"
      ],
      "execution_count": 13,
      "outputs": []
    },
    {
      "cell_type": "markdown",
      "metadata": {
        "id": "LiKK2Fw0-W8t"
      },
      "source": [
        "Train Data"
      ]
    },
    {
      "cell_type": "code",
      "metadata": {
        "colab": {
          "base_uri": "https://localhost:8080/"
        },
        "id": "QP6QlaeD-U0_",
        "outputId": "2db2de8f-08ed-4b19-8289-90a7f2e7ecfc"
      },
      "source": [
        "net.train()\n",
        "\n",
        "for epoch in range(15):\n",
        "  total_correct = 0.0\n",
        "  running_loss = 0.0\n",
        "  for i, (inputs, labels) in enumerate(train_set):\n",
        "    inputs, labels = inputs.to(dev), labels.to(dev)\n",
        "    output = net(inputs)\n",
        "    output_idx = torch.argmax(output, dim = 1)\n",
        "    total_correct += (labels == output_idx).sum().item()\n",
        "    optimizer.zero_grad()\n",
        "    loss = creterion(output, labels)\n",
        "    running_loss += loss.item() * inputs.size(0)\n",
        "\n",
        "    loss.backward()\n",
        "    optimizer.step()\n",
        "\n",
        "\n",
        "\n",
        "  print(f'Epoch: {epoch}  Loss: {running_loss/train_len}  Accuracy: {(total_correct/train_len) * 100}%') \n",
        "\n",
        "\n",
        "\n",
        "\n",
        "print('Finishing training')   "
      ],
      "execution_count": 17,
      "outputs": [
        {
          "output_type": "stream",
          "text": [
            "Epoch: 0  Loss: 0.6933500170707703  Accuracy: 46.24277456647399%\n",
            "Epoch: 1  Loss: 0.6919451355934143  Accuracy: 73.98843930635837%\n",
            "Epoch: 2  Loss: 0.6905965805053711  Accuracy: 76.878612716763%\n",
            "Epoch: 3  Loss: 0.6892802715301514  Accuracy: 76.878612716763%\n",
            "Epoch: 4  Loss: 0.6879176497459412  Accuracy: 76.878612716763%\n",
            "Epoch: 5  Loss: 0.6873537302017212  Accuracy: 76.878612716763%\n",
            "Epoch: 6  Loss: 0.6853795647621155  Accuracy: 76.878612716763%\n",
            "Epoch: 7  Loss: 0.6825306415557861  Accuracy: 76.878612716763%\n",
            "Epoch: 8  Loss: 0.674010694026947  Accuracy: 76.878612716763%\n",
            "Epoch: 9  Loss: 0.6657476425170898  Accuracy: 76.878612716763%\n",
            "Epoch: 10  Loss: 0.6405899524688721  Accuracy: 76.878612716763%\n",
            "Epoch: 11  Loss: 0.6095064878463745  Accuracy: 75.72254335260115%\n",
            "Epoch: 12  Loss: 0.5596941113471985  Accuracy: 76.878612716763%\n",
            "Epoch: 13  Loss: 0.5148711204528809  Accuracy: 76.878612716763%\n",
            "Epoch: 14  Loss: 0.555019736289978  Accuracy: 76.878612716763%\n",
            "Finishing training\n"
          ],
          "name": "stdout"
        }
      ]
    },
    {
      "cell_type": "markdown",
      "metadata": {
        "id": "CsN4-TGlDpXW"
      },
      "source": [
        "Test Data"
      ]
    },
    {
      "cell_type": "code",
      "metadata": {
        "colab": {
          "base_uri": "https://localhost:8080/"
        },
        "id": "P1-kGSZJDo6u",
        "outputId": "098b37da-4f4b-4544-a80e-4a2c01efb0ab"
      },
      "source": [
        "with torch.no_grad():\n",
        "  net.eval()\n",
        "  total_loss = 0.0\n",
        "  total_correct = 0.0\n",
        "  for inputs, labels in test_set:\n",
        "    labels = labels.to(dev)\n",
        "    outputs = net(inputs.to(dev))\n",
        "    loss = creterion(outputs, labels)\n",
        "    total_loss += loss.item() * inputs.size(0)\n",
        "    output_idx = torch.argmax(outputs, dim = 1)\n",
        "    total_correct += sum(labels == output_idx)\n",
        "\n",
        "  print(f'Accuracy: {(total_correct / test_len) * 100}%  Loss: {total_loss / test_len}')  "
      ],
      "execution_count": 19,
      "outputs": [
        {
          "output_type": "stream",
          "text": [
            "Accuracy: 79.77777862548828%  Loss: 0.48406195309427047\n"
          ],
          "name": "stdout"
        }
      ]
    },
    {
      "cell_type": "markdown",
      "metadata": {
        "id": "gn3d4ZwOFqV5"
      },
      "source": [
        "Save Training Model"
      ]
    },
    {
      "cell_type": "code",
      "metadata": {
        "id": "AV7GSBMQFqCA"
      },
      "source": [
        "torch.save(net.state_dict(), 'with_pests_vs_without_pits.pt')"
      ],
      "execution_count": 20,
      "outputs": []
    },
    {
      "cell_type": "markdown",
      "metadata": {
        "id": "TKgZT7LqGLt5"
      },
      "source": [
        "Load saved model and test it on Test data"
      ]
    },
    {
      "cell_type": "code",
      "metadata": {
        "colab": {
          "base_uri": "https://localhost:8080/"
        },
        "id": "6ZnLmMFEGS_J",
        "outputId": "451ec098-c527-441d-f1c2-1a4d341f9ec6"
      },
      "source": [
        "with torch.no_grad():\n",
        "  model = Model().to(dev)\n",
        "  model.load_state_dict(torch.load('/content/with_pests_vs_without_pits.pt'))\n",
        "\n",
        "  net.eval()\n",
        "\n",
        "  total_correct = 0.0\n",
        "\n",
        "  for inputs, labels in test_set:\n",
        "    labels = labels.to(dev)\n",
        "    outputs = model(inputs.to(dev))\n",
        "    output_idx = torch.argmax(outputs, dim =1)\n",
        "\n",
        "    total_correct += sum(labels == output_idx)\n",
        "\n",
        "  print(f'Accuracy: {(total_correct / test_len) * 100}%')  "
      ],
      "execution_count": 21,
      "outputs": [
        {
          "output_type": "stream",
          "text": [
            "Accuracy: 79.77777862548828%\n"
          ],
          "name": "stdout"
        }
      ]
    },
    {
      "cell_type": "code",
      "metadata": {
        "colab": {
          "base_uri": "https://localhost:8080/"
        },
        "id": "wev2uYgZIJa6",
        "outputId": "28389666-8ccd-4d13-aec4-db47de74bad3"
      },
      "source": [
        "img = Image.open('./00000012.JPG')\n",
        "\n",
        "img = transform(img).unsqueeze(dim = 0).to(dev)\n",
        "prediction = net(img)\n",
        "print(torch.argmax(prediction))"
      ],
      "execution_count": 23,
      "outputs": [
        {
          "output_type": "stream",
          "text": [
            "tensor(1, device='cuda:0')\n"
          ],
          "name": "stdout"
        }
      ]
    }
  ]
}