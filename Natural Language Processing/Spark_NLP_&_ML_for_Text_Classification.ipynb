{
  "nbformat": 4,
  "nbformat_minor": 0,
  "metadata": {
    "colab": {
      "provenance": [],
      "authorship_tag": "ABX9TyPZimw834TNNQ1pA8uwPAoQ",
      "include_colab_link": true
    },
    "kernelspec": {
      "name": "python3",
      "display_name": "Python 3"
    },
    "language_info": {
      "name": "python"
    }
  },
  "cells": [
    {
      "cell_type": "markdown",
      "metadata": {
        "id": "view-in-github",
        "colab_type": "text"
      },
      "source": [
        "<a href=\"https://colab.research.google.com/github/pythonuzgit/elmurodov/blob/master/Natural%20Language%20Processing/Spark_NLP_%26_ML_for_Text_Classification.ipynb\" target=\"_parent\"><img src=\"https://colab.research.google.com/assets/colab-badge.svg\" alt=\"Open In Colab\"/></a>"
      ]
    },
    {
      "cell_type": "markdown",
      "source": [
        "Install library"
      ],
      "metadata": {
        "id": "6WhRo867iP6U"
      }
    },
    {
      "cell_type": "code",
      "source": [
        "# Install pyspark\n",
        "! pip install pyspark --quiet\n",
        "\n",
        "# Install Spark NLP\n",
        "! pip install spark-nlp --quiet\n"
      ],
      "metadata": {
        "colab": {
          "base_uri": "https://localhost:8080/"
        },
        "id": "7XN-NugG_KfB",
        "outputId": "6f6c1342-cf43-445b-b85a-595a55b0fb4b"
      },
      "execution_count": null,
      "outputs": [
        {
          "output_type": "stream",
          "name": "stdout",
          "text": [
            "\u001b[2K     \u001b[90m━━━━━━━━━━━━━━━━━━━━━━━━━━━━━━━━━━━━━━━━\u001b[0m \u001b[32m317.0/317.0 MB\u001b[0m \u001b[31m3.2 MB/s\u001b[0m eta \u001b[36m0:00:00\u001b[0m\n",
            "\u001b[?25h  Preparing metadata (setup.py) ... \u001b[?25l\u001b[?25hdone\n",
            "  Building wheel for pyspark (setup.py) ... \u001b[?25l\u001b[?25hdone\n"
          ]
        }
      ]
    },
    {
      "cell_type": "markdown",
      "source": [
        "Import modules"
      ],
      "metadata": {
        "id": "sZJU5VpQByv9"
      }
    },
    {
      "cell_type": "code",
      "source": [
        "\n",
        "import os\n",
        "import re\n",
        "import matplotlib.pyplot as plt\n",
        "import numpy as np\n",
        "import pandas as pd\n",
        "from pyspark.sql.types import *\n",
        "from pyspark.sql.functions import expr\n",
        "from pyspark.sql import functions as fun\n",
        "from pyspark.sql import Row\n",
        "from pyspark.ml import Pipeline\n",
        "from pyspark.ml.feature import *\n",
        "import sparknlp\n",
        "from sparknlp import DocumentAssembler, Finisher\n",
        "from sparknlp.annotator import *\n",
        "from pyspark.ml.classification import *\n",
        "from pyspark.ml.tuning import *\n",
        "from pyspark.ml.evaluation import *"
      ],
      "metadata": {
        "id": "L4eatXYY_J_r"
      },
      "execution_count": null,
      "outputs": []
    },
    {
      "cell_type": "code",
      "source": [
        "# Start the Spark NLP session\n",
        "spark = sparknlp.start()"
      ],
      "metadata": {
        "id": "COugAXhiC268"
      },
      "execution_count": null,
      "outputs": []
    },
    {
      "cell_type": "markdown",
      "source": [
        "Comprehensive News Articles Dataset\n",
        "\n"
      ],
      "metadata": {
        "id": "UTVWudUyB7B7"
      }
    },
    {
      "cell_type": "code",
      "source": [
        "news_data = spark.read.csv('/content/News Dataset.csv', header = 'True',inferSchema='True')"
      ],
      "metadata": {
        "id": "6zWhpknG_J8P"
      },
      "execution_count": null,
      "outputs": []
    },
    {
      "cell_type": "code",
      "source": [
        "news_data.show()"
      ],
      "metadata": {
        "id": "xFnaCg-H_J46",
        "colab": {
          "base_uri": "https://localhost:8080/"
        },
        "outputId": "66f021a4-41f1-425f-e839-16f27c196615"
      },
      "execution_count": null,
      "outputs": [
        {
          "output_type": "stream",
          "name": "stdout",
          "text": [
            "+--------------------+--------------------+--------------------+--------------------+--------------------+--------------------+--------------------+--------------------+----------+\n",
            "|              source|              author|               title|         description|                 url|          urlToImage|         publishedAt|             content|  category|\n",
            "+--------------------+--------------------+--------------------+--------------------+--------------------+--------------------+--------------------+--------------------+----------+\n",
            "|{'id': None, 'nam...|         Test Yessis|        test-setcion|test-setcionThis ...|https://consent.y...|                NULL|2024-05-14T06:19:29Z|click accept part...|technology|\n",
            "|{'id': 'wired', '...|         Steven Levy|Don’t Let Mistrus...|It’s OK to be dou...|https://www.wired...|https://media.wir...|2024-06-07T13:00:00Z|seems evident alm...|technology|\n",
            "|{'id': 'wired', '...|         Will Knight|OpenAI Offers a P...|Days after former...|https://www.wired...|https://media.wir...|2024-06-06T17:45:55Z|chatgpt developer...|technology|\n",
            "|{'id': 'wired', '...|        Jason Parham|The Rebirth of Qu...|Looking for casua...|https://www.wired...|https://media.wir...|2024-05-27T12:00:00Z|one night past fe...|technology|\n",
            "|{'id': None, 'nam...|                NULL|           [Removed]|           [Removed]| https://removed.com|                NULL|1970-01-01T00:00:00Z|             removed|technology|\n",
            "|{'id': 'wired', '...|         Georgia Gee|Internal Emails S...|NYC mayor Eric Ad...|https://www.wired...|https://media.wir...|2024-05-13T16:59:51Z|lot overlap forme...|technology|\n",
            "|{'id': None, 'nam...|       Lawrence Bonk|Nokia just made t...|Nokia just announ...|                NULL|                NULL|                NULL|                NULL|      NULL|\n",
            "|. This is actuall...| as all phone cal...| so there’s no po...|                NULL|                NULL|                NULL|                NULL|                NULL|      NULL|\n",
            "|           This call|                  …\"|https://consent.y...|                NULL|2024-06-10T16:50:43Z|click accept part...|          technology|                NULL|      NULL|\n",
            "|{'id': None, 'nam...|        Maxwell Zeff|OpenAI Unveils GP...|OpenAI unveiled G...|https://gizmodo.c...|https://i.kinja-i...|2024-05-13T18:24:00Z|openai unveiled g...|technology|\n",
            "|{'id': None, 'nam...|           Kyle Barr|Windows Is Gettin...|Microsoft is gett...|https://gizmodo.c...|https://i.kinja-i...|2024-06-07T14:40:00Z|microsoft getting...|technology|\n",
            "|{'id': None, 'nam...|        Maxwell Zeff|Alexa Will Get an...|Amazon is reporte...|https://gizmodo.c...|https://i.kinja-i...|2024-05-22T14:40:00Z|amazon reportedly...|technology|\n",
            "|{'id': None, 'nam...|                NULL|           [Removed]|           [Removed]| https://removed.com|                NULL|1970-01-01T00:00:00Z|             removed|technology|\n",
            "|{'id': None, 'nam...|                NULL|           [Removed]|           [Removed]| https://removed.com|                NULL|1970-01-01T00:00:00Z|             removed|technology|\n",
            "|{'id': 'ars-techn...|     Scharon Harding|Micro LED monitor...|\"Concept \"\"can be...|https://arstechni...|https://cdn.arste...|2024-05-31T20:32:01Z|enlarge better wa...|technology|\n",
            "|{'id': None, 'nam...|Vinod Khosla, con...|12 predictions fo...|\"Techno-optimist ...|https://www.ted.c...|https://pi.tedcdn...|2024-05-31T14:57:36Z|ted supported ads...|technology|\n",
            "|{'id': None, 'nam...|        Pranav Dixit|AI workers demand...|A group of curren...|https://consent.y...|                NULL|2024-06-04T17:59:16Z|click accept part...|technology|\n",
            "|{'id': None, 'nam...|     Sophie Atkinson|Apple expected to...|A Bloomberg repor...|                NULL|                NULL|                NULL|                NULL|      NULL|\n",
            "|The post Apple ex...|https://readwrite...|https://readwrite...|2024-05-31T13:50:02Z|bloomberg report ...|          technology|                NULL|                NULL|      NULL|\n",
            "|{'id': None, 'nam...|         Evan Zimmer|Is This the End o...|New AI advances c...|https://www.cnet....|https://www.cnet....|2024-05-17T21:00:00Z|cnet money missio...|technology|\n",
            "+--------------------+--------------------+--------------------+--------------------+--------------------+--------------------+--------------------+--------------------+----------+\n",
            "only showing top 20 rows\n",
            "\n"
          ]
        }
      ]
    },
    {
      "cell_type": "code",
      "source": [
        "news_data.count()"
      ],
      "metadata": {
        "colab": {
          "base_uri": "https://localhost:8080/"
        },
        "id": "V3L4ahPJ4zIQ",
        "outputId": "ac5fa936-591b-46e8-e392-85b9ebb4cfe7"
      },
      "execution_count": null,
      "outputs": [
        {
          "output_type": "execute_result",
          "data": {
            "text/plain": [
              "799"
            ]
          },
          "metadata": {},
          "execution_count": 11
        }
      ]
    },
    {
      "cell_type": "markdown",
      "source": [
        "Select the columns needed for analysis"
      ],
      "metadata": {
        "id": "uPWi5ZIb6XPb"
      }
    },
    {
      "cell_type": "code",
      "source": [
        "title_category = news_data.select(\"content\",\"category\")"
      ],
      "metadata": {
        "id": "gOljgnzJ6T2T"
      },
      "execution_count": null,
      "outputs": []
    },
    {
      "cell_type": "code",
      "source": [
        "title_category.show()"
      ],
      "metadata": {
        "colab": {
          "base_uri": "https://localhost:8080/"
        },
        "id": "dmc3j5gk6j4s",
        "outputId": "9d4e235f-9bb9-4399-f0ed-e969af0d6d29"
      },
      "execution_count": null,
      "outputs": [
        {
          "output_type": "stream",
          "name": "stdout",
          "text": [
            "+--------------------+----------+\n",
            "|             content|  category|\n",
            "+--------------------+----------+\n",
            "|click accept part...|technology|\n",
            "|seems evident alm...|technology|\n",
            "|chatgpt developer...|technology|\n",
            "|one night past fe...|technology|\n",
            "|             removed|technology|\n",
            "|lot overlap forme...|technology|\n",
            "|                NULL|      NULL|\n",
            "|                NULL|      NULL|\n",
            "|                NULL|      NULL|\n",
            "|openai unveiled g...|technology|\n",
            "|microsoft getting...|technology|\n",
            "|amazon reportedly...|technology|\n",
            "|             removed|technology|\n",
            "|             removed|technology|\n",
            "|enlarge better wa...|technology|\n",
            "|ted supported ads...|technology|\n",
            "|click accept part...|technology|\n",
            "|                NULL|      NULL|\n",
            "|                NULL|      NULL|\n",
            "|cnet money missio...|technology|\n",
            "+--------------------+----------+\n",
            "only showing top 20 rows\n",
            "\n"
          ]
        }
      ]
    },
    {
      "cell_type": "markdown",
      "source": [
        "Let's check null values in TITLE and CATEGORY columns"
      ],
      "metadata": {
        "id": "JUS8fud36pg5"
      }
    },
    {
      "cell_type": "code",
      "source": [
        "from pyspark.sql.functions import col,isnull\n",
        "def null_value_count(df):\n",
        "  null_columns_counts = []\n",
        "  numRows = df.count()\n",
        "  for k in df.columns:\n",
        "    nullRows = df.where(col(k).isNull()).count()\n",
        "    if(nullRows > 0):\n",
        "      temp = k,nullRows\n",
        "      null_columns_counts.append(temp)\n",
        "  return(null_columns_counts)"
      ],
      "metadata": {
        "id": "ZQC13LZC6j1I"
      },
      "execution_count": null,
      "outputs": []
    },
    {
      "cell_type": "code",
      "source": [
        "null_columns_count_list = null_value_count(title_category)"
      ],
      "metadata": {
        "id": "nclTG_ra6jx9"
      },
      "execution_count": null,
      "outputs": []
    },
    {
      "cell_type": "code",
      "source": [
        "spark.createDataFrame(null_columns_count_list, ['Column_With_Null_Value', 'Null_Values_Count']).show()"
      ],
      "metadata": {
        "colab": {
          "base_uri": "https://localhost:8080/"
        },
        "id": "rPXCIevt6jvJ",
        "outputId": "86fae236-6580-4cd3-9498-8e859c11aa78"
      },
      "execution_count": null,
      "outputs": [
        {
          "output_type": "stream",
          "name": "stdout",
          "text": [
            "+----------------------+-----------------+\n",
            "|Column_With_Null_Value|Null_Values_Count|\n",
            "+----------------------+-----------------+\n",
            "|               content|              175|\n",
            "|              category|              179|\n",
            "+----------------------+-----------------+\n",
            "\n"
          ]
        }
      ]
    },
    {
      "cell_type": "markdown",
      "source": [
        "Drop the null values"
      ],
      "metadata": {
        "id": "P9ChH0xM69cM"
      }
    },
    {
      "cell_type": "code",
      "source": [
        "title_category = title_category.dropna()"
      ],
      "metadata": {
        "id": "4lQHIzp26jsG"
      },
      "execution_count": null,
      "outputs": []
    },
    {
      "cell_type": "code",
      "source": [
        "title_category.count()"
      ],
      "metadata": {
        "colab": {
          "base_uri": "https://localhost:8080/"
        },
        "id": "1TKfBQYW6jpM",
        "outputId": "d0c766dc-5248-42c2-8bba-b0aa3af96e17"
      },
      "execution_count": null,
      "outputs": [
        {
          "output_type": "execute_result",
          "data": {
            "text/plain": [
              "620"
            ]
          },
          "metadata": {},
          "execution_count": 18
        }
      ]
    },
    {
      "cell_type": "code",
      "source": [
        "title_category.show(truncate=False)"
      ],
      "metadata": {
        "colab": {
          "base_uri": "https://localhost:8080/"
        },
        "id": "O54sI2fN6jmC",
        "outputId": "65b45e84-b93a-4c0e-9b7e-eccd28b3e1e2"
      },
      "execution_count": null,
      "outputs": [
        {
          "output_type": "stream",
          "name": "stdout",
          "text": [
            "+------------------------------------------------------------------------------------------------------------------------------------------------------------------------------+----------+\n",
            "|content                                                                                                                                                                       |category  |\n",
            "+------------------------------------------------------------------------------------------------------------------------------------------------------------------------------+----------+\n",
            "|click accept partners including part iab transparency amp consent framework also store access information device words use chars                                              |technology|\n",
            "|seems evident almost years first conference artificial intelligencewhere nascent fields leaders suggested task would completed within decadethe field chars                   |technology|\n",
            "|chatgpt developer openais approach building artificial intelligence came fire week former employees accuse company taking unnecessary risks technology could chars            |technology|\n",
            "|one night past february drinks moody bar lighting brooklyn eric green friends swapping stories recent hookups one mentioned theyd used app sniffies chars                     |technology|\n",
            "|removed                                                                                                                                                                       |technology|\n",
            "|lot overlap former members nypd adams banks came together police officersas account executive evolv also name dropped chitkara email chars                                    |technology|\n",
            "|openai unveiled gpt omni gpt spring update monday morning san francisco chief technology officer mira murati openai staff showcased newest flagship model capable chars       |technology|\n",
            "|microsoft getting ai upscaling technology baked straight windows appear latest copilot pcs called automatic super resolution auto sr work chars                               |technology|\n",
            "|amazon reportedly releasing generative ai version alexa later year plans charge monthly subscription fee separate amazon prime technology according cnbc wedn chars           |technology|\n",
            "|removed                                                                                                                                                                       |technology|\n",
            "|removed                                                                                                                                                                       |technology|\n",
            "|enlarge better way tri monitor setup technical disclosure published month hp explored micro led monitor concept would enable consumers easily use vari chars                  |technology|\n",
            "|ted supported ads partners                                                                                                                                                    |technology|\n",
            "|click accept partners including part iab transparency amp consent framework also store access information device words use chars                                              |technology|\n",
            "|cnet money mission help maximize financial potential recommendations based editors independent research analysis continuously update content refle chars                      |technology|\n",
            "|week algorithms advised people eat rocks put glue pizza google admitted thursday needed make adjustments bold new generative ai search feature episode hi chars               |technology|\n",
            "|washington air traffic controllers mistake led near collision two jets foggy runway austin texas last year national transportation safety board said thursday investig chars  |technology|\n",
            "|glenn harvey insider digital transformations made appreciable impact society whether conspicuous guidance subtle suggestion technology influences everyday decisions thi chars|technology|\n",
            "|himars launches rocket russian position december ukraine serhii mykhalchuk global images ukraine via getty images ul li russian jamming rendered us supplied himars roc chars |technology|\n",
            "|man holds portable electronic warfare system event ukraine earlier year global images ukraine via getty ul li former us officials said us falling behind electronic chars     |technology|\n",
            "+------------------------------------------------------------------------------------------------------------------------------------------------------------------------------+----------+\n",
            "only showing top 20 rows\n",
            "\n"
          ]
        }
      ]
    },
    {
      "cell_type": "markdown",
      "source": [
        "Top 20 news categories"
      ],
      "metadata": {
        "id": "9FlMqHpe8BOY"
      }
    },
    {
      "cell_type": "code",
      "source": [
        "title_category.groupBy(\"category\").count().orderBy(col(\"count\").desc()).show(truncate=False)"
      ],
      "metadata": {
        "colab": {
          "base_uri": "https://localhost:8080/"
        },
        "id": "cDl7HGWc787Q",
        "outputId": "469b5ad3-fd78-45d9-f954-fc7c4a2c9293"
      },
      "execution_count": null,
      "outputs": [
        {
          "output_type": "stream",
          "name": "stdout",
          "text": [
            "+-------------------------------------------------------------------------------------------------------------------------------------------------------------------+-----+\n",
            "|category                                                                                                                                                           |count|\n",
            "+-------------------------------------------------------------------------------------------------------------------------------------------------------------------+-----+\n",
            "|health                                                                                                                                                             |95   |\n",
            "|politics                                                                                                                                                           |90   |\n",
            "|education                                                                                                                                                          |87   |\n",
            "|technology                                                                                                                                                         |87   |\n",
            "|finance                                                                                                                                                            |81   |\n",
            "|entertainment                                                                                                                                                      |80   |\n",
            "|sports                                                                                                                                                             |78   |\n",
            "|2024-05-17T19:53:33Z                                                                                                                                               |1    |\n",
            "|peshkov getty images ul li economy flashing fresh warning signs recession way according societe generale li li french bank pointed three worrying data points chars|1    |\n",
            "|global labor shortage million workers end going send technology stocks soaring according fundstrat tom lee lee said video wednesday expects chars                  |1    |\n",
            "|bill gates may sean gallup getty images ul li bill gates unveiled annual summer read watch list li li gates said four books one tv show touch idea service chars   |1    |\n",
            "|2024-05-19T14:34:00Z                                                                                                                                               |1    |\n",
            "|rimas sports agency founded recording artist bad bunny accused major league baseball players association placing death penalty agency discriminatory biased chars  |1    |\n",
            "|years resisting shift live sports netflix finally punted stream two nfl games christmas day beginning year major coup netflix even ga chars                        |1    |\n",
            "|2024-06-03T14:49:07Z                                                                                                                                               |1    |\n",
            "|2024-05-15T22:58:23Z                                                                                                                                               |1    |\n",
            "|nahmias ensures los angeles heritage prominent collections label spring summer presentation may california coded yet authentically west coast chars                |1    |\n",
            "|faq sony official site stated ps compatible k displays launch future system software update able output resolutions k content chars                                |1    |\n",
            "|dylan cope gp referred hospital suspected appendicitis doctors nurses discharged flu missing note nine year old boy died sepsis days chars                         |1    |\n",
            "|click accept partners including part iab transparency amp consent framework also store access information device words use chars                                   |1    |\n",
            "+-------------------------------------------------------------------------------------------------------------------------------------------------------------------+-----+\n",
            "only showing top 20 rows\n",
            "\n"
          ]
        }
      ]
    },
    {
      "cell_type": "markdown",
      "source": [
        "Top 20 news title"
      ],
      "metadata": {
        "id": "ECMi-goD8V86"
      }
    },
    {
      "cell_type": "code",
      "source": [
        "title_category.groupBy(\"content\").count().orderBy(col(\"count\").desc()).show(truncate=False)"
      ],
      "metadata": {
        "colab": {
          "base_uri": "https://localhost:8080/"
        },
        "id": "8uGl-7ZG784G",
        "outputId": "e2597900-6691-4c70-c00a-0edcd33ffe58"
      },
      "execution_count": null,
      "outputs": [
        {
          "output_type": "stream",
          "name": "stdout",
          "text": [
            "+--------------------------------------------------------------------------------------------------------------------------------------------------------------------------------+-----+\n",
            "|content                                                                                                                                                                         |count|\n",
            "+--------------------------------------------------------------------------------------------------------------------------------------------------------------------------------+-----+\n",
            "|click accept partners including part iab transparency amp consent framework also store access information device words use chars                                                |32   |\n",
            "|removed                                                                                                                                                                         |23   |\n",
            "|edition atlantic daily newsletter guides biggest stories day helps discover new ideas recommends best culture sign chars                                                        |3    |\n",
            "|john swinney snp leader anas sarwar scottish labour leader answering questions alongside three party leaders bbc scotland debate scottish politicians currently chars           |3    |\n",
            "|asanas new ai teammate tell people work asanas new ai teammate tell people work instead showing assigned task asana says ai chars                                               |2    |\n",
            "|six months ago nobody would predicted hearn warren would playing friendly bizarrely captivating game jenga april news conference relationship far less f chars                  |2    |\n",
            "|apple wants know youre hearing things tinnitus apple wants know youre hearing things tinnitus apple funds study tinnitus often described ringing chars                          |2    |\n",
            "|welcome sunak starmer show welcome next four five six seven months life even pay fleeting attention goings uk politics probably chars                                           |2    |\n",
            "|raleigh n c ralph kennedy frasier final surviving member trio african american youths first desegregate undergraduate student body north carolina flagship pu chars             |2    |\n",
            "|sony pulls interview neil druckmann citing significant errors inaccuracies sony pulls interview neil druckmann citing significant errors inaccuracies retraction comes aft chars|2    |\n",
            "|perplexity research write reports perplexity research write reports new feature called pages searching writing laying report prompt chars                                       |2    |\n",
            "|steve ballmer miriam adelson two wealthiest owners sports getty images ul li wealthiest sports owners collectively major sports teams li li owners include chars                |2    |\n",
            "|article reviewed according science x editorial process policies editors highlighted following attributes ensuring content credibility fact checked chars                        |2    |\n",
            "|time almost one week left request invite ai impact tour june th miss incredible opportunity explore various methods auditing ai models fi chars                                 |2    |\n",
            "|tyra packer anxiety completely disappeared since quit teaching number empty teaching posts england doubled past three years latest official figures chars                       |2    |\n",
            "|custom gpts open free chatgpt users custom gpts open free chatgpt users chatbot features like data analytics vision memory also available free byemilia david chars             |2    |\n",
            "|sam francis political reporter liberal democrats pledged recruit gps elected putting policy heart general election campaign offer sir ed davey th chars                         |2    |\n",
            "|google acquires cameyo integrate windows app virtualization chromeos google acquires cameyo integrate windows app virtualization chromeos google wants make chromebooks ap chars|2    |\n",
            "|keith gill known roaring kitty online testifies virtual hearing gamestop house financial services committee feb monday gill made first online posti chars                       |2    |\n",
            "|james cook scotland editor bbc news sir keir starmer makes first visit scotland since election called path downing street run scotland labour leader sir chars                  |2    |\n",
            "+--------------------------------------------------------------------------------------------------------------------------------------------------------------------------------+-----+\n",
            "only showing top 20 rows\n",
            "\n"
          ]
        }
      ]
    },
    {
      "cell_type": "code",
      "source": [
        "# Take a look at the schema of the Spark NLP dataframe\n",
        "title_category.printSchema()"
      ],
      "metadata": {
        "colab": {
          "base_uri": "https://localhost:8080/"
        },
        "id": "f1ioQVdQ781F",
        "outputId": "3060936f-b6b2-4b91-c085-57f3e3c7f8c4"
      },
      "execution_count": null,
      "outputs": [
        {
          "output_type": "stream",
          "name": "stdout",
          "text": [
            "root\n",
            " |-- content: string (nullable = true)\n",
            " |-- category: string (nullable = true)\n",
            "\n"
          ]
        }
      ]
    },
    {
      "cell_type": "markdown",
      "source": [
        "Randomly split the Spark NLP dataframe into train and test sets"
      ],
      "metadata": {
        "id": "ROFunxZ4-FyA"
      }
    },
    {
      "cell_type": "code",
      "source": [
        "train, test = title_category.randomSplit([0.8, 0.2], seed = 123)"
      ],
      "metadata": {
        "id": "494fdVRI78xb"
      },
      "execution_count": null,
      "outputs": []
    },
    {
      "cell_type": "markdown",
      "source": [
        "Define the assembler"
      ],
      "metadata": {
        "id": "PhQ7eNgC-Quu"
      }
    },
    {
      "cell_type": "code",
      "source": [
        "assembler = DocumentAssembler()\\\n",
        "  .setInputCol('content')\\\n",
        "  .setOutputCol('document')\n",
        "docs = assembler.transform(title_category)\n",
        "docs.limit(5).toPandas()"
      ],
      "metadata": {
        "colab": {
          "base_uri": "https://localhost:8080/",
          "height": 206
        },
        "id": "xm6CXwRv78oN",
        "outputId": "3b1838a8-a7bb-47a5-849d-403127e65a94"
      },
      "execution_count": null,
      "outputs": [
        {
          "output_type": "execute_result",
          "data": {
            "text/plain": [
              "                                             content    category  \\\n",
              "0  click accept partners including part iab trans...  technology   \n",
              "1  seems evident almost years first conference ar...  technology   \n",
              "2  chatgpt developer openais approach building ar...  technology   \n",
              "3  one night past february drinks moody bar light...  technology   \n",
              "4                                            removed  technology   \n",
              "\n",
              "                                            document  \n",
              "0  [(document, 0, 127, click accept partners incl...  \n",
              "1  [(document, 0, 154, seems evident almost years...  \n",
              "2  [(document, 0, 161, chatgpt developer openais ...  \n",
              "3  [(document, 0, 152, one night past february dr...  \n",
              "4  [(document, 0, 6, removed, {'sentence': '0'}, ...  "
            ],
            "text/html": [
              "\n",
              "  <div id=\"df-49396cea-6a0e-432b-9360-6dd4dfe0ed30\" class=\"colab-df-container\">\n",
              "    <div>\n",
              "<style scoped>\n",
              "    .dataframe tbody tr th:only-of-type {\n",
              "        vertical-align: middle;\n",
              "    }\n",
              "\n",
              "    .dataframe tbody tr th {\n",
              "        vertical-align: top;\n",
              "    }\n",
              "\n",
              "    .dataframe thead th {\n",
              "        text-align: right;\n",
              "    }\n",
              "</style>\n",
              "<table border=\"1\" class=\"dataframe\">\n",
              "  <thead>\n",
              "    <tr style=\"text-align: right;\">\n",
              "      <th></th>\n",
              "      <th>content</th>\n",
              "      <th>category</th>\n",
              "      <th>document</th>\n",
              "    </tr>\n",
              "  </thead>\n",
              "  <tbody>\n",
              "    <tr>\n",
              "      <th>0</th>\n",
              "      <td>click accept partners including part iab trans...</td>\n",
              "      <td>technology</td>\n",
              "      <td>[(document, 0, 127, click accept partners incl...</td>\n",
              "    </tr>\n",
              "    <tr>\n",
              "      <th>1</th>\n",
              "      <td>seems evident almost years first conference ar...</td>\n",
              "      <td>technology</td>\n",
              "      <td>[(document, 0, 154, seems evident almost years...</td>\n",
              "    </tr>\n",
              "    <tr>\n",
              "      <th>2</th>\n",
              "      <td>chatgpt developer openais approach building ar...</td>\n",
              "      <td>technology</td>\n",
              "      <td>[(document, 0, 161, chatgpt developer openais ...</td>\n",
              "    </tr>\n",
              "    <tr>\n",
              "      <th>3</th>\n",
              "      <td>one night past february drinks moody bar light...</td>\n",
              "      <td>technology</td>\n",
              "      <td>[(document, 0, 152, one night past february dr...</td>\n",
              "    </tr>\n",
              "    <tr>\n",
              "      <th>4</th>\n",
              "      <td>removed</td>\n",
              "      <td>technology</td>\n",
              "      <td>[(document, 0, 6, removed, {'sentence': '0'}, ...</td>\n",
              "    </tr>\n",
              "  </tbody>\n",
              "</table>\n",
              "</div>\n",
              "    <div class=\"colab-df-buttons\">\n",
              "\n",
              "  <div class=\"colab-df-container\">\n",
              "    <button class=\"colab-df-convert\" onclick=\"convertToInteractive('df-49396cea-6a0e-432b-9360-6dd4dfe0ed30')\"\n",
              "            title=\"Convert this dataframe to an interactive table.\"\n",
              "            style=\"display:none;\">\n",
              "\n",
              "  <svg xmlns=\"http://www.w3.org/2000/svg\" height=\"24px\" viewBox=\"0 -960 960 960\">\n",
              "    <path d=\"M120-120v-720h720v720H120Zm60-500h600v-160H180v160Zm220 220h160v-160H400v160Zm0 220h160v-160H400v160ZM180-400h160v-160H180v160Zm440 0h160v-160H620v160ZM180-180h160v-160H180v160Zm440 0h160v-160H620v160Z\"/>\n",
              "  </svg>\n",
              "    </button>\n",
              "\n",
              "  <style>\n",
              "    .colab-df-container {\n",
              "      display:flex;\n",
              "      gap: 12px;\n",
              "    }\n",
              "\n",
              "    .colab-df-convert {\n",
              "      background-color: #E8F0FE;\n",
              "      border: none;\n",
              "      border-radius: 50%;\n",
              "      cursor: pointer;\n",
              "      display: none;\n",
              "      fill: #1967D2;\n",
              "      height: 32px;\n",
              "      padding: 0 0 0 0;\n",
              "      width: 32px;\n",
              "    }\n",
              "\n",
              "    .colab-df-convert:hover {\n",
              "      background-color: #E2EBFA;\n",
              "      box-shadow: 0px 1px 2px rgba(60, 64, 67, 0.3), 0px 1px 3px 1px rgba(60, 64, 67, 0.15);\n",
              "      fill: #174EA6;\n",
              "    }\n",
              "\n",
              "    .colab-df-buttons div {\n",
              "      margin-bottom: 4px;\n",
              "    }\n",
              "\n",
              "    [theme=dark] .colab-df-convert {\n",
              "      background-color: #3B4455;\n",
              "      fill: #D2E3FC;\n",
              "    }\n",
              "\n",
              "    [theme=dark] .colab-df-convert:hover {\n",
              "      background-color: #434B5C;\n",
              "      box-shadow: 0px 1px 3px 1px rgba(0, 0, 0, 0.15);\n",
              "      filter: drop-shadow(0px 1px 2px rgba(0, 0, 0, 0.3));\n",
              "      fill: #FFFFFF;\n",
              "    }\n",
              "  </style>\n",
              "\n",
              "    <script>\n",
              "      const buttonEl =\n",
              "        document.querySelector('#df-49396cea-6a0e-432b-9360-6dd4dfe0ed30 button.colab-df-convert');\n",
              "      buttonEl.style.display =\n",
              "        google.colab.kernel.accessAllowed ? 'block' : 'none';\n",
              "\n",
              "      async function convertToInteractive(key) {\n",
              "        const element = document.querySelector('#df-49396cea-6a0e-432b-9360-6dd4dfe0ed30');\n",
              "        const dataTable =\n",
              "          await google.colab.kernel.invokeFunction('convertToInteractive',\n",
              "                                                    [key], {});\n",
              "        if (!dataTable) return;\n",
              "\n",
              "        const docLinkHtml = 'Like what you see? Visit the ' +\n",
              "          '<a target=\"_blank\" href=https://colab.research.google.com/notebooks/data_table.ipynb>data table notebook</a>'\n",
              "          + ' to learn more about interactive tables.';\n",
              "        element.innerHTML = '';\n",
              "        dataTable['output_type'] = 'display_data';\n",
              "        await google.colab.output.renderOutput(dataTable, element);\n",
              "        const docLink = document.createElement('div');\n",
              "        docLink.innerHTML = docLinkHtml;\n",
              "        element.appendChild(docLink);\n",
              "      }\n",
              "    </script>\n",
              "  </div>\n",
              "\n",
              "\n",
              "<div id=\"df-78c76933-0006-4a25-b088-77fe63e463d5\">\n",
              "  <button class=\"colab-df-quickchart\" onclick=\"quickchart('df-78c76933-0006-4a25-b088-77fe63e463d5')\"\n",
              "            title=\"Suggest charts\"\n",
              "            style=\"display:none;\">\n",
              "\n",
              "<svg xmlns=\"http://www.w3.org/2000/svg\" height=\"24px\"viewBox=\"0 0 24 24\"\n",
              "     width=\"24px\">\n",
              "    <g>\n",
              "        <path d=\"M19 3H5c-1.1 0-2 .9-2 2v14c0 1.1.9 2 2 2h14c1.1 0 2-.9 2-2V5c0-1.1-.9-2-2-2zM9 17H7v-7h2v7zm4 0h-2V7h2v10zm4 0h-2v-4h2v4z\"/>\n",
              "    </g>\n",
              "</svg>\n",
              "  </button>\n",
              "\n",
              "<style>\n",
              "  .colab-df-quickchart {\n",
              "      --bg-color: #E8F0FE;\n",
              "      --fill-color: #1967D2;\n",
              "      --hover-bg-color: #E2EBFA;\n",
              "      --hover-fill-color: #174EA6;\n",
              "      --disabled-fill-color: #AAA;\n",
              "      --disabled-bg-color: #DDD;\n",
              "  }\n",
              "\n",
              "  [theme=dark] .colab-df-quickchart {\n",
              "      --bg-color: #3B4455;\n",
              "      --fill-color: #D2E3FC;\n",
              "      --hover-bg-color: #434B5C;\n",
              "      --hover-fill-color: #FFFFFF;\n",
              "      --disabled-bg-color: #3B4455;\n",
              "      --disabled-fill-color: #666;\n",
              "  }\n",
              "\n",
              "  .colab-df-quickchart {\n",
              "    background-color: var(--bg-color);\n",
              "    border: none;\n",
              "    border-radius: 50%;\n",
              "    cursor: pointer;\n",
              "    display: none;\n",
              "    fill: var(--fill-color);\n",
              "    height: 32px;\n",
              "    padding: 0;\n",
              "    width: 32px;\n",
              "  }\n",
              "\n",
              "  .colab-df-quickchart:hover {\n",
              "    background-color: var(--hover-bg-color);\n",
              "    box-shadow: 0 1px 2px rgba(60, 64, 67, 0.3), 0 1px 3px 1px rgba(60, 64, 67, 0.15);\n",
              "    fill: var(--button-hover-fill-color);\n",
              "  }\n",
              "\n",
              "  .colab-df-quickchart-complete:disabled,\n",
              "  .colab-df-quickchart-complete:disabled:hover {\n",
              "    background-color: var(--disabled-bg-color);\n",
              "    fill: var(--disabled-fill-color);\n",
              "    box-shadow: none;\n",
              "  }\n",
              "\n",
              "  .colab-df-spinner {\n",
              "    border: 2px solid var(--fill-color);\n",
              "    border-color: transparent;\n",
              "    border-bottom-color: var(--fill-color);\n",
              "    animation:\n",
              "      spin 1s steps(1) infinite;\n",
              "  }\n",
              "\n",
              "  @keyframes spin {\n",
              "    0% {\n",
              "      border-color: transparent;\n",
              "      border-bottom-color: var(--fill-color);\n",
              "      border-left-color: var(--fill-color);\n",
              "    }\n",
              "    20% {\n",
              "      border-color: transparent;\n",
              "      border-left-color: var(--fill-color);\n",
              "      border-top-color: var(--fill-color);\n",
              "    }\n",
              "    30% {\n",
              "      border-color: transparent;\n",
              "      border-left-color: var(--fill-color);\n",
              "      border-top-color: var(--fill-color);\n",
              "      border-right-color: var(--fill-color);\n",
              "    }\n",
              "    40% {\n",
              "      border-color: transparent;\n",
              "      border-right-color: var(--fill-color);\n",
              "      border-top-color: var(--fill-color);\n",
              "    }\n",
              "    60% {\n",
              "      border-color: transparent;\n",
              "      border-right-color: var(--fill-color);\n",
              "    }\n",
              "    80% {\n",
              "      border-color: transparent;\n",
              "      border-right-color: var(--fill-color);\n",
              "      border-bottom-color: var(--fill-color);\n",
              "    }\n",
              "    90% {\n",
              "      border-color: transparent;\n",
              "      border-bottom-color: var(--fill-color);\n",
              "    }\n",
              "  }\n",
              "</style>\n",
              "\n",
              "  <script>\n",
              "    async function quickchart(key) {\n",
              "      const quickchartButtonEl =\n",
              "        document.querySelector('#' + key + ' button');\n",
              "      quickchartButtonEl.disabled = true;  // To prevent multiple clicks.\n",
              "      quickchartButtonEl.classList.add('colab-df-spinner');\n",
              "      try {\n",
              "        const charts = await google.colab.kernel.invokeFunction(\n",
              "            'suggestCharts', [key], {});\n",
              "      } catch (error) {\n",
              "        console.error('Error during call to suggestCharts:', error);\n",
              "      }\n",
              "      quickchartButtonEl.classList.remove('colab-df-spinner');\n",
              "      quickchartButtonEl.classList.add('colab-df-quickchart-complete');\n",
              "    }\n",
              "    (() => {\n",
              "      let quickchartButtonEl =\n",
              "        document.querySelector('#df-78c76933-0006-4a25-b088-77fe63e463d5 button');\n",
              "      quickchartButtonEl.style.display =\n",
              "        google.colab.kernel.accessAllowed ? 'block' : 'none';\n",
              "    })();\n",
              "  </script>\n",
              "</div>\n",
              "    </div>\n",
              "  </div>\n"
            ],
            "application/vnd.google.colaboratory.intrinsic+json": {
              "type": "dataframe",
              "summary": "{\n  \"name\": \"docs\",\n  \"rows\": 5,\n  \"fields\": [\n    {\n      \"column\": \"content\",\n      \"properties\": {\n        \"dtype\": \"string\",\n        \"num_unique_values\": 5,\n        \"samples\": [\n          \"seems evident almost years first conference artificial intelligencewhere nascent fields leaders suggested task would completed within decadethe field chars\",\n          \"removed\",\n          \"chatgpt developer openais approach building artificial intelligence came fire week former employees accuse company taking unnecessary risks technology could chars\"\n        ],\n        \"semantic_type\": \"\",\n        \"description\": \"\"\n      }\n    },\n    {\n      \"column\": \"category\",\n      \"properties\": {\n        \"dtype\": \"category\",\n        \"num_unique_values\": 1,\n        \"samples\": [\n          \"technology\"\n        ],\n        \"semantic_type\": \"\",\n        \"description\": \"\"\n      }\n    },\n    {\n      \"column\": \"document\",\n      \"properties\": {\n        \"dtype\": \"object\",\n        \"semantic_type\": \"\",\n        \"description\": \"\"\n      }\n    }\n  ]\n}"
            }
          },
          "metadata": {},
          "execution_count": 26
        }
      ]
    },
    {
      "cell_type": "markdown",
      "source": [
        "# Define the sentence detector"
      ],
      "metadata": {
        "id": "bFsU6w2r_rXJ"
      }
    },
    {
      "cell_type": "code",
      "source": [
        "sentence = SentenceDetector()\\\n",
        "  .setInputCols([\"document\"])\\\n",
        "  .setOutputCol(\"sentences\")\n",
        "docs = sentence.transform(docs)\n",
        "docs.limit(5).toPandas()"
      ],
      "metadata": {
        "colab": {
          "base_uri": "https://localhost:8080/",
          "height": 293
        },
        "id": "IoJOzwf-78kv",
        "outputId": "5d115f3c-abe7-4b69-cce6-c06f8b5605a6"
      },
      "execution_count": null,
      "outputs": [
        {
          "output_type": "execute_result",
          "data": {
            "text/plain": [
              "                                             content    category  \\\n",
              "0  click accept partners including part iab trans...  technology   \n",
              "1  seems evident almost years first conference ar...  technology   \n",
              "2  chatgpt developer openais approach building ar...  technology   \n",
              "3  one night past february drinks moody bar light...  technology   \n",
              "4                                            removed  technology   \n",
              "\n",
              "                                            document  \\\n",
              "0  [(document, 0, 127, click accept partners incl...   \n",
              "1  [(document, 0, 154, seems evident almost years...   \n",
              "2  [(document, 0, 161, chatgpt developer openais ...   \n",
              "3  [(document, 0, 152, one night past february dr...   \n",
              "4  [(document, 0, 6, removed, {'sentence': '0'}, ...   \n",
              "\n",
              "                                           sentences  \n",
              "0  [(document, 0, 127, click accept partners incl...  \n",
              "1  [(document, 0, 154, seems evident almost years...  \n",
              "2  [(document, 0, 161, chatgpt developer openais ...  \n",
              "3  [(document, 0, 152, one night past february dr...  \n",
              "4  [(document, 0, 6, removed, {'sentence': '0'}, ...  "
            ],
            "text/html": [
              "\n",
              "  <div id=\"df-83f4aded-02c6-45a7-ad23-c2a207a9066b\" class=\"colab-df-container\">\n",
              "    <div>\n",
              "<style scoped>\n",
              "    .dataframe tbody tr th:only-of-type {\n",
              "        vertical-align: middle;\n",
              "    }\n",
              "\n",
              "    .dataframe tbody tr th {\n",
              "        vertical-align: top;\n",
              "    }\n",
              "\n",
              "    .dataframe thead th {\n",
              "        text-align: right;\n",
              "    }\n",
              "</style>\n",
              "<table border=\"1\" class=\"dataframe\">\n",
              "  <thead>\n",
              "    <tr style=\"text-align: right;\">\n",
              "      <th></th>\n",
              "      <th>content</th>\n",
              "      <th>category</th>\n",
              "      <th>document</th>\n",
              "      <th>sentences</th>\n",
              "    </tr>\n",
              "  </thead>\n",
              "  <tbody>\n",
              "    <tr>\n",
              "      <th>0</th>\n",
              "      <td>click accept partners including part iab trans...</td>\n",
              "      <td>technology</td>\n",
              "      <td>[(document, 0, 127, click accept partners incl...</td>\n",
              "      <td>[(document, 0, 127, click accept partners incl...</td>\n",
              "    </tr>\n",
              "    <tr>\n",
              "      <th>1</th>\n",
              "      <td>seems evident almost years first conference ar...</td>\n",
              "      <td>technology</td>\n",
              "      <td>[(document, 0, 154, seems evident almost years...</td>\n",
              "      <td>[(document, 0, 154, seems evident almost years...</td>\n",
              "    </tr>\n",
              "    <tr>\n",
              "      <th>2</th>\n",
              "      <td>chatgpt developer openais approach building ar...</td>\n",
              "      <td>technology</td>\n",
              "      <td>[(document, 0, 161, chatgpt developer openais ...</td>\n",
              "      <td>[(document, 0, 161, chatgpt developer openais ...</td>\n",
              "    </tr>\n",
              "    <tr>\n",
              "      <th>3</th>\n",
              "      <td>one night past february drinks moody bar light...</td>\n",
              "      <td>technology</td>\n",
              "      <td>[(document, 0, 152, one night past february dr...</td>\n",
              "      <td>[(document, 0, 152, one night past february dr...</td>\n",
              "    </tr>\n",
              "    <tr>\n",
              "      <th>4</th>\n",
              "      <td>removed</td>\n",
              "      <td>technology</td>\n",
              "      <td>[(document, 0, 6, removed, {'sentence': '0'}, ...</td>\n",
              "      <td>[(document, 0, 6, removed, {'sentence': '0'}, ...</td>\n",
              "    </tr>\n",
              "  </tbody>\n",
              "</table>\n",
              "</div>\n",
              "    <div class=\"colab-df-buttons\">\n",
              "\n",
              "  <div class=\"colab-df-container\">\n",
              "    <button class=\"colab-df-convert\" onclick=\"convertToInteractive('df-83f4aded-02c6-45a7-ad23-c2a207a9066b')\"\n",
              "            title=\"Convert this dataframe to an interactive table.\"\n",
              "            style=\"display:none;\">\n",
              "\n",
              "  <svg xmlns=\"http://www.w3.org/2000/svg\" height=\"24px\" viewBox=\"0 -960 960 960\">\n",
              "    <path d=\"M120-120v-720h720v720H120Zm60-500h600v-160H180v160Zm220 220h160v-160H400v160Zm0 220h160v-160H400v160ZM180-400h160v-160H180v160Zm440 0h160v-160H620v160ZM180-180h160v-160H180v160Zm440 0h160v-160H620v160Z\"/>\n",
              "  </svg>\n",
              "    </button>\n",
              "\n",
              "  <style>\n",
              "    .colab-df-container {\n",
              "      display:flex;\n",
              "      gap: 12px;\n",
              "    }\n",
              "\n",
              "    .colab-df-convert {\n",
              "      background-color: #E8F0FE;\n",
              "      border: none;\n",
              "      border-radius: 50%;\n",
              "      cursor: pointer;\n",
              "      display: none;\n",
              "      fill: #1967D2;\n",
              "      height: 32px;\n",
              "      padding: 0 0 0 0;\n",
              "      width: 32px;\n",
              "    }\n",
              "\n",
              "    .colab-df-convert:hover {\n",
              "      background-color: #E2EBFA;\n",
              "      box-shadow: 0px 1px 2px rgba(60, 64, 67, 0.3), 0px 1px 3px 1px rgba(60, 64, 67, 0.15);\n",
              "      fill: #174EA6;\n",
              "    }\n",
              "\n",
              "    .colab-df-buttons div {\n",
              "      margin-bottom: 4px;\n",
              "    }\n",
              "\n",
              "    [theme=dark] .colab-df-convert {\n",
              "      background-color: #3B4455;\n",
              "      fill: #D2E3FC;\n",
              "    }\n",
              "\n",
              "    [theme=dark] .colab-df-convert:hover {\n",
              "      background-color: #434B5C;\n",
              "      box-shadow: 0px 1px 3px 1px rgba(0, 0, 0, 0.15);\n",
              "      filter: drop-shadow(0px 1px 2px rgba(0, 0, 0, 0.3));\n",
              "      fill: #FFFFFF;\n",
              "    }\n",
              "  </style>\n",
              "\n",
              "    <script>\n",
              "      const buttonEl =\n",
              "        document.querySelector('#df-83f4aded-02c6-45a7-ad23-c2a207a9066b button.colab-df-convert');\n",
              "      buttonEl.style.display =\n",
              "        google.colab.kernel.accessAllowed ? 'block' : 'none';\n",
              "\n",
              "      async function convertToInteractive(key) {\n",
              "        const element = document.querySelector('#df-83f4aded-02c6-45a7-ad23-c2a207a9066b');\n",
              "        const dataTable =\n",
              "          await google.colab.kernel.invokeFunction('convertToInteractive',\n",
              "                                                    [key], {});\n",
              "        if (!dataTable) return;\n",
              "\n",
              "        const docLinkHtml = 'Like what you see? Visit the ' +\n",
              "          '<a target=\"_blank\" href=https://colab.research.google.com/notebooks/data_table.ipynb>data table notebook</a>'\n",
              "          + ' to learn more about interactive tables.';\n",
              "        element.innerHTML = '';\n",
              "        dataTable['output_type'] = 'display_data';\n",
              "        await google.colab.output.renderOutput(dataTable, element);\n",
              "        const docLink = document.createElement('div');\n",
              "        docLink.innerHTML = docLinkHtml;\n",
              "        element.appendChild(docLink);\n",
              "      }\n",
              "    </script>\n",
              "  </div>\n",
              "\n",
              "\n",
              "<div id=\"df-6acd9b8d-60c1-4ab3-b046-ba1b9d17b55b\">\n",
              "  <button class=\"colab-df-quickchart\" onclick=\"quickchart('df-6acd9b8d-60c1-4ab3-b046-ba1b9d17b55b')\"\n",
              "            title=\"Suggest charts\"\n",
              "            style=\"display:none;\">\n",
              "\n",
              "<svg xmlns=\"http://www.w3.org/2000/svg\" height=\"24px\"viewBox=\"0 0 24 24\"\n",
              "     width=\"24px\">\n",
              "    <g>\n",
              "        <path d=\"M19 3H5c-1.1 0-2 .9-2 2v14c0 1.1.9 2 2 2h14c1.1 0 2-.9 2-2V5c0-1.1-.9-2-2-2zM9 17H7v-7h2v7zm4 0h-2V7h2v10zm4 0h-2v-4h2v4z\"/>\n",
              "    </g>\n",
              "</svg>\n",
              "  </button>\n",
              "\n",
              "<style>\n",
              "  .colab-df-quickchart {\n",
              "      --bg-color: #E8F0FE;\n",
              "      --fill-color: #1967D2;\n",
              "      --hover-bg-color: #E2EBFA;\n",
              "      --hover-fill-color: #174EA6;\n",
              "      --disabled-fill-color: #AAA;\n",
              "      --disabled-bg-color: #DDD;\n",
              "  }\n",
              "\n",
              "  [theme=dark] .colab-df-quickchart {\n",
              "      --bg-color: #3B4455;\n",
              "      --fill-color: #D2E3FC;\n",
              "      --hover-bg-color: #434B5C;\n",
              "      --hover-fill-color: #FFFFFF;\n",
              "      --disabled-bg-color: #3B4455;\n",
              "      --disabled-fill-color: #666;\n",
              "  }\n",
              "\n",
              "  .colab-df-quickchart {\n",
              "    background-color: var(--bg-color);\n",
              "    border: none;\n",
              "    border-radius: 50%;\n",
              "    cursor: pointer;\n",
              "    display: none;\n",
              "    fill: var(--fill-color);\n",
              "    height: 32px;\n",
              "    padding: 0;\n",
              "    width: 32px;\n",
              "  }\n",
              "\n",
              "  .colab-df-quickchart:hover {\n",
              "    background-color: var(--hover-bg-color);\n",
              "    box-shadow: 0 1px 2px rgba(60, 64, 67, 0.3), 0 1px 3px 1px rgba(60, 64, 67, 0.15);\n",
              "    fill: var(--button-hover-fill-color);\n",
              "  }\n",
              "\n",
              "  .colab-df-quickchart-complete:disabled,\n",
              "  .colab-df-quickchart-complete:disabled:hover {\n",
              "    background-color: var(--disabled-bg-color);\n",
              "    fill: var(--disabled-fill-color);\n",
              "    box-shadow: none;\n",
              "  }\n",
              "\n",
              "  .colab-df-spinner {\n",
              "    border: 2px solid var(--fill-color);\n",
              "    border-color: transparent;\n",
              "    border-bottom-color: var(--fill-color);\n",
              "    animation:\n",
              "      spin 1s steps(1) infinite;\n",
              "  }\n",
              "\n",
              "  @keyframes spin {\n",
              "    0% {\n",
              "      border-color: transparent;\n",
              "      border-bottom-color: var(--fill-color);\n",
              "      border-left-color: var(--fill-color);\n",
              "    }\n",
              "    20% {\n",
              "      border-color: transparent;\n",
              "      border-left-color: var(--fill-color);\n",
              "      border-top-color: var(--fill-color);\n",
              "    }\n",
              "    30% {\n",
              "      border-color: transparent;\n",
              "      border-left-color: var(--fill-color);\n",
              "      border-top-color: var(--fill-color);\n",
              "      border-right-color: var(--fill-color);\n",
              "    }\n",
              "    40% {\n",
              "      border-color: transparent;\n",
              "      border-right-color: var(--fill-color);\n",
              "      border-top-color: var(--fill-color);\n",
              "    }\n",
              "    60% {\n",
              "      border-color: transparent;\n",
              "      border-right-color: var(--fill-color);\n",
              "    }\n",
              "    80% {\n",
              "      border-color: transparent;\n",
              "      border-right-color: var(--fill-color);\n",
              "      border-bottom-color: var(--fill-color);\n",
              "    }\n",
              "    90% {\n",
              "      border-color: transparent;\n",
              "      border-bottom-color: var(--fill-color);\n",
              "    }\n",
              "  }\n",
              "</style>\n",
              "\n",
              "  <script>\n",
              "    async function quickchart(key) {\n",
              "      const quickchartButtonEl =\n",
              "        document.querySelector('#' + key + ' button');\n",
              "      quickchartButtonEl.disabled = true;  // To prevent multiple clicks.\n",
              "      quickchartButtonEl.classList.add('colab-df-spinner');\n",
              "      try {\n",
              "        const charts = await google.colab.kernel.invokeFunction(\n",
              "            'suggestCharts', [key], {});\n",
              "      } catch (error) {\n",
              "        console.error('Error during call to suggestCharts:', error);\n",
              "      }\n",
              "      quickchartButtonEl.classList.remove('colab-df-spinner');\n",
              "      quickchartButtonEl.classList.add('colab-df-quickchart-complete');\n",
              "    }\n",
              "    (() => {\n",
              "      let quickchartButtonEl =\n",
              "        document.querySelector('#df-6acd9b8d-60c1-4ab3-b046-ba1b9d17b55b button');\n",
              "      quickchartButtonEl.style.display =\n",
              "        google.colab.kernel.accessAllowed ? 'block' : 'none';\n",
              "    })();\n",
              "  </script>\n",
              "</div>\n",
              "    </div>\n",
              "  </div>\n"
            ],
            "application/vnd.google.colaboratory.intrinsic+json": {
              "type": "dataframe",
              "summary": "{\n  \"name\": \"docs\",\n  \"rows\": 5,\n  \"fields\": [\n    {\n      \"column\": \"content\",\n      \"properties\": {\n        \"dtype\": \"string\",\n        \"num_unique_values\": 5,\n        \"samples\": [\n          \"seems evident almost years first conference artificial intelligencewhere nascent fields leaders suggested task would completed within decadethe field chars\",\n          \"removed\",\n          \"chatgpt developer openais approach building artificial intelligence came fire week former employees accuse company taking unnecessary risks technology could chars\"\n        ],\n        \"semantic_type\": \"\",\n        \"description\": \"\"\n      }\n    },\n    {\n      \"column\": \"category\",\n      \"properties\": {\n        \"dtype\": \"category\",\n        \"num_unique_values\": 1,\n        \"samples\": [\n          \"technology\"\n        ],\n        \"semantic_type\": \"\",\n        \"description\": \"\"\n      }\n    },\n    {\n      \"column\": \"document\",\n      \"properties\": {\n        \"dtype\": \"object\",\n        \"semantic_type\": \"\",\n        \"description\": \"\"\n      }\n    },\n    {\n      \"column\": \"sentences\",\n      \"properties\": {\n        \"dtype\": \"object\",\n        \"semantic_type\": \"\",\n        \"description\": \"\"\n      }\n    }\n  ]\n}"
            }
          },
          "metadata": {},
          "execution_count": 27
        }
      ]
    },
    {
      "cell_type": "markdown",
      "source": [
        "\n",
        "# Define the word tokenizer"
      ],
      "metadata": {
        "id": "XcsWWy-c_2Ey"
      }
    },
    {
      "cell_type": "code",
      "source": [
        "tokenizer = Tokenizer()\\\n",
        "  .setInputCols(['sentences'])\\\n",
        "  .setOutputCol('tokens')"
      ],
      "metadata": {
        "id": "IF66kdNE_yh5"
      },
      "execution_count": null,
      "outputs": []
    },
    {
      "cell_type": "markdown",
      "source": [
        "# Define the lemmetizer"
      ],
      "metadata": {
        "id": "IqONy22E__h3"
      }
    },
    {
      "cell_type": "code",
      "source": [
        "lemmatizer = LemmatizerModel.pretrained()\\\n",
        "  .setInputCols(['tokens'])\\\n",
        "  .setOutputCol('lemma')"
      ],
      "metadata": {
        "colab": {
          "base_uri": "https://localhost:8080/"
        },
        "id": "FDDP1ASe_5hp",
        "outputId": "160121ab-83b2-45c3-f7a7-6b0db67d4006"
      },
      "execution_count": null,
      "outputs": [
        {
          "output_type": "stream",
          "name": "stdout",
          "text": [
            "lemma_antbnc download started this may take some time.\n",
            "Approximate size to download 907.6 KB\n",
            "[OK!]\n"
          ]
        }
      ]
    },
    {
      "cell_type": "markdown",
      "source": [
        "# Define the normalizer"
      ],
      "metadata": {
        "id": "9Y6KQG6rAOIN"
      }
    },
    {
      "cell_type": "code",
      "source": [
        "normalizer = Normalizer()\\\n",
        "  .setInputCols(['lemma'])\\\n",
        "  .setOutputCol('normalized')\\\n",
        "  .setLowercase(True)"
      ],
      "metadata": {
        "id": "VckyOfmL_5dk"
      },
      "execution_count": null,
      "outputs": []
    },
    {
      "cell_type": "markdown",
      "source": [
        "# Define the finisher"
      ],
      "metadata": {
        "id": "raVi_ovfAUlW"
      }
    },
    {
      "cell_type": "code",
      "source": [
        "finisher = Finisher()\\\n",
        "  .setInputCols(['normalized'])\\\n",
        "  .setOutputCols(['normalized'])\\\n",
        "  .setOutputAsArray(True)"
      ],
      "metadata": {
        "id": "cY9zZj-p_5Zx"
      },
      "execution_count": null,
      "outputs": []
    },
    {
      "cell_type": "markdown",
      "source": [
        "# Define the stop words"
      ],
      "metadata": {
        "id": "_LEvcVqaAbAU"
      }
    },
    {
      "cell_type": "code",
      "source": [
        "stopwords = set(StopWordsRemover.loadDefaultStopWords('english'))\n",
        "print(stopwords)\n",
        "\n",
        "# Define the stopword remover\n",
        "sw_remover = StopWordsRemover()\\\n",
        "  .setInputCol('normalized')\\\n",
        "  .setOutputCol('filtered')\\\n",
        "  .setStopWords(list(stopwords))"
      ],
      "metadata": {
        "colab": {
          "base_uri": "https://localhost:8080/"
        },
        "id": "bYhJhph2_5TV",
        "outputId": "746fc82d-d049-49b5-a2f2-a4f9a34ed4ef"
      },
      "execution_count": null,
      "outputs": [
        {
          "output_type": "stream",
          "name": "stdout",
          "text": [
            "{\"he's\", \"there's\", 'off', 'your', 'is', 'an', 'through', 'of', 'under', \"she'll\", \"weren't\", \"i've\", 'could', 'again', \"hasn't\", \"they'll\", \"shan't\", 'a', 'my', 'how', 'i', 'in', 'the', 'as', 'about', 'nor', \"you've\", \"won't\", \"hadn't\", 'here', 'our', 'they', 'these', \"they'd\", 'are', 'yourself', 'then', 'than', 'has', \"wouldn't\", 'any', 'while', \"can't\", 'will', \"wasn't\", 'same', \"couldn't\", \"mustn't\", 'would', \"didn't\", 'up', 'after', 'his', 'ours', \"aren't\", 'hers', 'and', 'into', 'each', 'by', 'be', 'down', 'am', 't', \"you'd\", 'ourselves', 'above', 'there', \"i'd\", 'too', 'their', 'should', 'she', 'out', 'being', 'during', 'few', \"it's\", 'at', \"don't\", \"you're\", 'to', \"why's\", 'do', 'himself', \"doesn't\", 'him', \"that's\", 'other', \"he'll\", 'or', 'further', \"where's\", \"let's\", \"isn't\", \"who's\", 'those', 'we', 'yours', 'that', 'theirs', 'had', 'with', \"she's\", 'why', 'doing', 'from', \"when's\", 'more', 'did', 'but', 'such', 'not', \"they're\", 'once', \"we'll\", 'was', 'it', 'only', 'have', 'over', 'before', 'herself', \"what's\", 'you', \"she'd\", 'cannot', 'itself', 'which', 's', 'very', \"i'll\", 'now', 'them', 'just', 'both', 'no', \"we'd\", 'been', \"he'd\", 'themselves', 'on', 'because', 'myself', 'all', 'its', \"we've\", \"haven't\", \"how's\", \"here's\", 'yourselves', 'if', 'ought', 'whom', 'own', \"shouldn't\", 'her', 'until', 'below', 'does', 'were', 'having', \"you'll\", 'can', 'don', 'this', 'he', 'when', \"they've\", 'some', 'against', 'where', 'me', 'what', \"i'm\", 'most', \"we're\", 'who', 'so', 'for', 'between'}\n"
          ]
        }
      ]
    },
    {
      "cell_type": "markdown",
      "source": [
        "# Define count vectorizer"
      ],
      "metadata": {
        "id": "VUpjrUhFAocq"
      }
    },
    {
      "cell_type": "code",
      "source": [
        "count_vectorizer = CountVectorizer(\n",
        "  inputCol = 'filtered',\n",
        "  outputCol = 'tf', minDF = 10\n",
        "  )"
      ],
      "metadata": {
        "id": "k2CrOcgK_5Gr"
      },
      "execution_count": null,
      "outputs": []
    },
    {
      "cell_type": "markdown",
      "source": [
        "# Define TF-IDF"
      ],
      "metadata": {
        "id": "28lSWJFfAw5Q"
      }
    },
    {
      "cell_type": "code",
      "source": [
        "tfidf = IDF(\n",
        "  inputCol = 'tf',\n",
        "  outputCol = 'tfidf',\n",
        "  minDocFreq = 10\n",
        "  )"
      ],
      "metadata": {
        "id": "7NVsDFYzAuTo"
      },
      "execution_count": null,
      "outputs": []
    },
    {
      "cell_type": "markdown",
      "source": [
        "# Define the pipeline"
      ],
      "metadata": {
        "id": "hmt-sNboA26p"
      }
    },
    {
      "cell_type": "code",
      "source": [
        "text_processing_pipeline = Pipeline(\n",
        "  stages = [\n",
        "    assembler,\n",
        "    sentence,\n",
        "    tokenizer,\n",
        "    lemmatizer,\n",
        "    normalizer,\n",
        "    finisher,\n",
        "    sw_remover,\n",
        "    count_vectorizer,\n",
        "    tfidf\n",
        "   ])"
      ],
      "metadata": {
        "id": "HsLW8PJlAuP1"
      },
      "execution_count": null,
      "outputs": []
    },
    {
      "cell_type": "markdown",
      "source": [
        "# Define a function to convert labels to indices and use it to fit the data"
      ],
      "metadata": {
        "id": "2V8aVybCA-lb"
      }
    },
    {
      "cell_type": "code",
      "source": [
        "label_indexer = StringIndexer(\n",
        "  inputCol = 'category',\n",
        "  outputCol = 'label').fit(title_category)"
      ],
      "metadata": {
        "id": "NHtIxf_rAuMn"
      },
      "execution_count": null,
      "outputs": []
    },
    {
      "cell_type": "markdown",
      "source": [
        "# Take a look at the indexed labels"
      ],
      "metadata": {
        "id": "z4Z3fpvFBW5r"
      }
    },
    {
      "cell_type": "code",
      "source": [
        "label_indexer.labels"
      ],
      "metadata": {
        "colab": {
          "base_uri": "https://localhost:8080/"
        },
        "id": "zYssMggCAuES",
        "outputId": "200a540a-0602-4bde-864a-2f1fc62b07f5"
      },
      "execution_count": null,
      "outputs": [
        {
          "output_type": "execute_result",
          "data": {
            "text/plain": [
              "['health',\n",
              " 'politics',\n",
              " 'education',\n",
              " 'technology',\n",
              " 'finance',\n",
              " 'entertainment',\n",
              " 'sports',\n",
              " '2024-05-15T22:58:23Z',\n",
              " '2024-05-17T19:53:33Z',\n",
              " '2024-05-19T14:34:00Z',\n",
              " '2024-05-26T03:34:00Z',\n",
              " '2024-05-28T17:01:14Z',\n",
              " '2024-06-03T14:49:07Z',\n",
              " 'apple set release new immersive video vision pro friday parkour labeled episode two adventure series episode one highlining video shows highliner chars',\n",
              " 'bill gates may sean gallup getty images ul li bill gates unveiled annual summer read watch list li li gates said four books one tv show touch idea service chars',\n",
              " 'citadel ceo ken griffin apu gomes via getty images ul li anti israel protesters engaging form performance art says citadel ceo ken griffin li li freedom speech gi chars',\n",
              " 'click accept partners including part iab transparency amp consent framework also store access information device words use chars',\n",
              " 'dylan cope gp referred hospital suspected appendicitis doctors nurses discharged flu missing note nine year old boy died sepsis days chars',\n",
              " 'faq sony official site stated ps compatible k displays launch future system software update able output resolutions k content chars',\n",
              " 'global labor shortage million workers end going send technology stocks soaring according fundstrat tom lee lee said video wednesday expects chars',\n",
              " 'guy lambert entertainment reporter guybertie jennifer lopez said devastated cancelling us leg live tour ticketing company live nation announced fri chars',\n",
              " 'https://i.insider.com/665d49c01cd3b1779042636f?width=1200&format=jpeg',\n",
              " 'michael cohen former president donald trump fixer leaves apartment building new york morning seth wenig ap lawyer michael cohen back stand second day witness tes chars',\n",
              " 'nahmias ensures los angeles heritage prominent collections label spring summer presentation may california coded yet authentically west coast chars',\n",
              " 'new yellowknife based private college promising transformational learning northerners run roadblocks accreditation critics say clear kind program chars',\n",
              " 'peshkov getty images ul li economy flashing fresh warning signs recession way according societe generale li li french bank pointed three worrying data points chars',\n",
              " 'rimas sports agency founded recording artist bad bunny accused major league baseball players association placing death penalty agency discriminatory biased chars',\n",
              " 'taxes thats key concept retirement savers specifically iras k tax deferred tax free funds yet taxed need pla chars',\n",
              " 'years resisting shift live sports netflix finally punted stream two nfl games christmas day beginning year major coup netflix even ga chars']"
            ]
          },
          "metadata": {},
          "execution_count": 37
        }
      ]
    },
    {
      "cell_type": "markdown",
      "source": [
        "# Define a function to convert predicted indices to labels"
      ],
      "metadata": {
        "id": "E2LZpIiiBf_P"
      }
    },
    {
      "cell_type": "code",
      "source": [
        "prediction_deindexer = IndexToString(\n",
        "  inputCol = 'prediction',\n",
        "  outputCol = 'pred_label',\n",
        "  labels = label_indexer.labels)"
      ],
      "metadata": {
        "id": "9wisrwySAuB6"
      },
      "execution_count": null,
      "outputs": []
    },
    {
      "cell_type": "markdown",
      "source": [
        "# Define a model"
      ],
      "metadata": {
        "id": "MnwjUS0bBwld"
      }
    },
    {
      "cell_type": "code",
      "source": [
        "naive_bayes = NaiveBayes(featuresCol = 'tfidf')"
      ],
      "metadata": {
        "id": "TZ_oFt1zAt-2"
      },
      "execution_count": null,
      "outputs": []
    },
    {
      "cell_type": "markdown",
      "source": [
        "# Define the overall pipeline"
      ],
      "metadata": {
        "id": "zceXpKiUB4Bm"
      }
    },
    {
      "cell_type": "code",
      "source": [
        "pipeline = Pipeline(\n",
        "  stages = [\n",
        "    text_processing_pipeline,\n",
        "    label_indexer,\n",
        "    naive_bayes,\n",
        "    prediction_deindexer\n",
        "  ])"
      ],
      "metadata": {
        "id": "vR2BGe5PB1I6"
      },
      "execution_count": null,
      "outputs": []
    },
    {
      "cell_type": "markdown",
      "source": [
        "# Train the model"
      ],
      "metadata": {
        "id": "QQGyHlboCG3T"
      }
    },
    {
      "cell_type": "code",
      "source": [
        "model = pipeline.fit(train)"
      ],
      "metadata": {
        "id": "xQ_zY7VfB1B8"
      },
      "execution_count": null,
      "outputs": []
    },
    {
      "cell_type": "markdown",
      "source": [
        "# Make predictions on the train and test sets"
      ],
      "metadata": {
        "id": "2Ewbhy1qCOok"
      }
    },
    {
      "cell_type": "code",
      "source": [
        "train_predicted = model.transform(train)\n",
        "test_predicted = model.transform(test)"
      ],
      "metadata": {
        "id": "jAei0YzmB095"
      },
      "execution_count": null,
      "outputs": []
    },
    {
      "cell_type": "markdown",
      "source": [
        "# Innitiate the F1 score"
      ],
      "metadata": {
        "id": "UBGk899nCXti"
      }
    },
    {
      "cell_type": "code",
      "source": [
        "evaluator = MulticlassClassificationEvaluator(metricName = 'f1')"
      ],
      "metadata": {
        "id": "0LMwlQ16B027"
      },
      "execution_count": null,
      "outputs": []
    },
    {
      "cell_type": "markdown",
      "source": [
        "# Report the F1 score on the train set"
      ],
      "metadata": {
        "id": "nokVFBLJCgcP"
      }
    },
    {
      "cell_type": "code",
      "source": [
        "print('f1 on train set', evaluator.evaluate(train_predicted))"
      ],
      "metadata": {
        "colab": {
          "base_uri": "https://localhost:8080/"
        },
        "id": "dieRlphECdDR",
        "outputId": "aca6713b-7dfa-47fc-f840-05332df02b6c"
      },
      "execution_count": null,
      "outputs": [
        {
          "output_type": "stream",
          "name": "stdout",
          "text": [
            "f1 on train set 0.59974129823327\n"
          ]
        }
      ]
    },
    {
      "cell_type": "markdown",
      "source": [
        "# Report the F1 score on the test set"
      ],
      "metadata": {
        "id": "Z763ejQdCo5f"
      }
    },
    {
      "cell_type": "code",
      "source": [
        "print('f1 on test set', evaluator.evaluate(test_predicted))"
      ],
      "metadata": {
        "colab": {
          "base_uri": "https://localhost:8080/"
        },
        "id": "N5S7immwCc_w",
        "outputId": "52595873-fb03-49de-e3f1-f874e470d7bf"
      },
      "execution_count": null,
      "outputs": [
        {
          "output_type": "stream",
          "name": "stdout",
          "text": [
            "f1 on test set 0.4213841150774357\n"
          ]
        }
      ]
    },
    {
      "cell_type": "markdown",
      "source": [
        "# Define a function to try out different ML models"
      ],
      "metadata": {
        "id": "qixCuyi2C11G"
      }
    },
    {
      "cell_type": "code",
      "source": [
        "def fit_model(model):\n",
        "\n",
        "  # Define the type of model\n",
        "  model_type = model(featuresCol = 'tfidf')\n",
        "\n",
        "  # Construct the overall pipeline\n",
        "  pipeline = Pipeline(\n",
        "  stages = [\n",
        "    text_processing_pipeline,\n",
        "    label_indexer,\n",
        "    model_type,\n",
        "    prediction_deindexer\n",
        "  ])\n",
        "\n",
        "  # Train the model\n",
        "  model = pipeline.fit(train)\n",
        "\n",
        "  # Make predictions on the train and test sets\n",
        "  train_predicted = model.transform(train)\n",
        "  test_predicted = model.transform(test)\n",
        "\n",
        "  # Innitiate the F1 score\n",
        "  evaluator = MulticlassClassificationEvaluator(metricName = 'f1')\n",
        "\n",
        "  # Report the F1 score on the train set\n",
        "  print(f'{str(model)}: f1 on train set', evaluator.evaluate(train_predicted))\n",
        "\n",
        "  # Report the F1 score on the test set\n",
        "  print(f'{str(model)}: f1 on test set', evaluator.evaluate(test_predicted))\n"
      ],
      "metadata": {
        "id": "3phRIhfCCc7X"
      },
      "execution_count": null,
      "outputs": []
    },
    {
      "cell_type": "code",
      "source": [
        "# Fit a logistic regression\n",
        "fit_model(LogisticRegression)"
      ],
      "metadata": {
        "colab": {
          "base_uri": "https://localhost:8080/"
        },
        "id": "JwTmyqiyCc2b",
        "outputId": "4066a16e-4fc4-4dbb-c1dd-617bed242e8b"
      },
      "execution_count": null,
      "outputs": [
        {
          "output_type": "stream",
          "name": "stdout",
          "text": [
            "PipelineModel_d600b5790224: f1 on train set 0.8540545747080798\n",
            "PipelineModel_d600b5790224: f1 on test set 0.3409348230424027\n"
          ]
        }
      ]
    },
    {
      "cell_type": "code",
      "source": [
        "# Fit a random forest classifier\n",
        "fit_model(RandomForestClassifier)"
      ],
      "metadata": {
        "colab": {
          "base_uri": "https://localhost:8080/"
        },
        "id": "E2qawDHGCcyh",
        "outputId": "6b0f54c2-fd84-42f2-9cd3-58b49c1e4354"
      },
      "execution_count": null,
      "outputs": [
        {
          "output_type": "stream",
          "name": "stdout",
          "text": [
            "PipelineModel_bb5a748961df: f1 on train set 0.5188905644433935\n",
            "PipelineModel_bb5a748961df: f1 on test set 0.3542693021152274\n"
          ]
        }
      ]
    }
  ]
}