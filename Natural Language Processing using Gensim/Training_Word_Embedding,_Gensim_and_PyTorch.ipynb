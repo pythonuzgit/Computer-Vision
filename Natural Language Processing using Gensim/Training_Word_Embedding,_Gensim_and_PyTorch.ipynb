{
  "nbformat": 4,
  "nbformat_minor": 0,
  "metadata": {
    "colab": {
      "name": "Training Word Embedding, Gensim and PyTorch.ipynb",
      "provenance": [],
      "authorship_tag": "ABX9TyOFt9AMknAldmmxGhXFxjAm",
      "include_colab_link": true
    },
    "kernelspec": {
      "name": "python3",
      "display_name": "Python 3"
    },
    "language_info": {
      "name": "python"
    }
  },
  "cells": [
    {
      "cell_type": "markdown",
      "metadata": {
        "id": "view-in-github",
        "colab_type": "text"
      },
      "source": [
        "<a href=\"https://colab.research.google.com/github/pythonuzgit/elmurodov/blob/master/Natural%20Language%20Processing%20using%20Gensim/Training_Word_Embedding%2C_Gensim_and_PyTorch.ipynb\" target=\"_parent\"><img src=\"https://colab.research.google.com/assets/colab-badge.svg\" alt=\"Open In Colab\"/></a>"
      ]
    },
    {
      "cell_type": "code",
      "source": [
        ""
      ],
      "metadata": {
        "id": "_G0WX0LD_QGU"
      },
      "execution_count": null,
      "outputs": []
    },
    {
      "cell_type": "code",
      "source": [
        "import numpy as np\n",
        "import pandas as pd\n",
        "import re\n",
        "import string\n",
        "\n",
        "from nltk.corpus import stopwords\n",
        "from nltk.stem import PorterStemmer\n",
        "from nltk.tokenize import TweetTokenizer"
      ],
      "metadata": {
        "id": "_ThMI4T7_P1N"
      },
      "execution_count": null,
      "outputs": []
    },
    {
      "cell_type": "code",
      "execution_count": null,
      "metadata": {
        "colab": {
          "base_uri": "https://localhost:8080/",
          "height": 206
        },
        "id": "dm_Wla_w_O0w",
        "outputId": "df1947b1-e617-4535-e5f6-633445264a3b"
      },
      "outputs": [
        {
          "output_type": "execute_result",
          "data": {
            "text/html": [
              "\n",
              "  <div id=\"df-e14ae990-2b92-4146-9146-901c5c03a0fe\">\n",
              "    <div class=\"colab-df-container\">\n",
              "      <div>\n",
              "<style scoped>\n",
              "    .dataframe tbody tr th:only-of-type {\n",
              "        vertical-align: middle;\n",
              "    }\n",
              "\n",
              "    .dataframe tbody tr th {\n",
              "        vertical-align: top;\n",
              "    }\n",
              "\n",
              "    .dataframe thead th {\n",
              "        text-align: right;\n",
              "    }\n",
              "</style>\n",
              "<table border=\"1\" class=\"dataframe\">\n",
              "  <thead>\n",
              "    <tr style=\"text-align: right;\">\n",
              "      <th></th>\n",
              "      <th>Unnamed: 0</th>\n",
              "      <th>title_txt</th>\n",
              "      <th>label</th>\n",
              "    </tr>\n",
              "  </thead>\n",
              "  <tbody>\n",
              "    <tr>\n",
              "      <th>0</th>\n",
              "      <td>0</td>\n",
              "      <td>hous dem aid didnt even see comey letter jason...</td>\n",
              "      <td>1</td>\n",
              "    </tr>\n",
              "    <tr>\n",
              "      <th>1</th>\n",
              "      <td>1</td>\n",
              "      <td>flynn hillari clinton big woman campu  breitba...</td>\n",
              "      <td>0</td>\n",
              "    </tr>\n",
              "    <tr>\n",
              "      <th>2</th>\n",
              "      <td>2</td>\n",
              "      <td>truth might get fire truth might get fire octo...</td>\n",
              "      <td>1</td>\n",
              "    </tr>\n",
              "    <tr>\n",
              "      <th>3</th>\n",
              "      <td>3</td>\n",
              "      <td>15 civilian kill singl us airstrik identifi vi...</td>\n",
              "      <td>1</td>\n",
              "    </tr>\n",
              "    <tr>\n",
              "      <th>4</th>\n",
              "      <td>4</td>\n",
              "      <td>iranian woman jail fiction unpublish stori wom...</td>\n",
              "      <td>1</td>\n",
              "    </tr>\n",
              "  </tbody>\n",
              "</table>\n",
              "</div>\n",
              "      <button class=\"colab-df-convert\" onclick=\"convertToInteractive('df-e14ae990-2b92-4146-9146-901c5c03a0fe')\"\n",
              "              title=\"Convert this dataframe to an interactive table.\"\n",
              "              style=\"display:none;\">\n",
              "        \n",
              "  <svg xmlns=\"http://www.w3.org/2000/svg\" height=\"24px\"viewBox=\"0 0 24 24\"\n",
              "       width=\"24px\">\n",
              "    <path d=\"M0 0h24v24H0V0z\" fill=\"none\"/>\n",
              "    <path d=\"M18.56 5.44l.94 2.06.94-2.06 2.06-.94-2.06-.94-.94-2.06-.94 2.06-2.06.94zm-11 1L8.5 8.5l.94-2.06 2.06-.94-2.06-.94L8.5 2.5l-.94 2.06-2.06.94zm10 10l.94 2.06.94-2.06 2.06-.94-2.06-.94-.94-2.06-.94 2.06-2.06.94z\"/><path d=\"M17.41 7.96l-1.37-1.37c-.4-.4-.92-.59-1.43-.59-.52 0-1.04.2-1.43.59L10.3 9.45l-7.72 7.72c-.78.78-.78 2.05 0 2.83L4 21.41c.39.39.9.59 1.41.59.51 0 1.02-.2 1.41-.59l7.78-7.78 2.81-2.81c.8-.78.8-2.07 0-2.86zM5.41 20L4 18.59l7.72-7.72 1.47 1.35L5.41 20z\"/>\n",
              "  </svg>\n",
              "      </button>\n",
              "      \n",
              "  <style>\n",
              "    .colab-df-container {\n",
              "      display:flex;\n",
              "      flex-wrap:wrap;\n",
              "      gap: 12px;\n",
              "    }\n",
              "\n",
              "    .colab-df-convert {\n",
              "      background-color: #E8F0FE;\n",
              "      border: none;\n",
              "      border-radius: 50%;\n",
              "      cursor: pointer;\n",
              "      display: none;\n",
              "      fill: #1967D2;\n",
              "      height: 32px;\n",
              "      padding: 0 0 0 0;\n",
              "      width: 32px;\n",
              "    }\n",
              "\n",
              "    .colab-df-convert:hover {\n",
              "      background-color: #E2EBFA;\n",
              "      box-shadow: 0px 1px 2px rgba(60, 64, 67, 0.3), 0px 1px 3px 1px rgba(60, 64, 67, 0.15);\n",
              "      fill: #174EA6;\n",
              "    }\n",
              "\n",
              "    [theme=dark] .colab-df-convert {\n",
              "      background-color: #3B4455;\n",
              "      fill: #D2E3FC;\n",
              "    }\n",
              "\n",
              "    [theme=dark] .colab-df-convert:hover {\n",
              "      background-color: #434B5C;\n",
              "      box-shadow: 0px 1px 3px 1px rgba(0, 0, 0, 0.15);\n",
              "      filter: drop-shadow(0px 1px 2px rgba(0, 0, 0, 0.3));\n",
              "      fill: #FFFFFF;\n",
              "    }\n",
              "  </style>\n",
              "\n",
              "      <script>\n",
              "        const buttonEl =\n",
              "          document.querySelector('#df-e14ae990-2b92-4146-9146-901c5c03a0fe button.colab-df-convert');\n",
              "        buttonEl.style.display =\n",
              "          google.colab.kernel.accessAllowed ? 'block' : 'none';\n",
              "\n",
              "        async function convertToInteractive(key) {\n",
              "          const element = document.querySelector('#df-e14ae990-2b92-4146-9146-901c5c03a0fe');\n",
              "          const dataTable =\n",
              "            await google.colab.kernel.invokeFunction('convertToInteractive',\n",
              "                                                     [key], {});\n",
              "          if (!dataTable) return;\n",
              "\n",
              "          const docLinkHtml = 'Like what you see? Visit the ' +\n",
              "            '<a target=\"_blank\" href=https://colab.research.google.com/notebooks/data_table.ipynb>data table notebook</a>'\n",
              "            + ' to learn more about interactive tables.';\n",
              "          element.innerHTML = '';\n",
              "          dataTable['output_type'] = 'display_data';\n",
              "          await google.colab.output.renderOutput(dataTable, element);\n",
              "          const docLink = document.createElement('div');\n",
              "          docLink.innerHTML = docLinkHtml;\n",
              "          element.appendChild(docLink);\n",
              "        }\n",
              "      </script>\n",
              "    </div>\n",
              "  </div>\n",
              "  "
            ],
            "text/plain": [
              "   Unnamed: 0                                          title_txt  label\n",
              "0           0  hous dem aid didnt even see comey letter jason...      1\n",
              "1           1  flynn hillari clinton big woman campu  breitba...      0\n",
              "2           2  truth might get fire truth might get fire octo...      1\n",
              "3           3  15 civilian kill singl us airstrik identifi vi...      1\n",
              "4           4  iranian woman jail fiction unpublish stori wom...      1"
            ]
          },
          "metadata": {},
          "execution_count": 6
        }
      ],
      "source": [
        "training_data = pd.read_csv('/content/fake_news_train_clean.csv')\n",
        "training_data.head()"
      ]
    },
    {
      "cell_type": "code",
      "source": [
        "import gensim"
      ],
      "metadata": {
        "id": "DhtAfsDD_5yA"
      },
      "execution_count": null,
      "outputs": []
    },
    {
      "cell_type": "code",
      "source": [
        "(\n",
        "    training_data\n",
        "    .title_txt\n",
        "    .apply(lambda x: x.split(\" \"))\n",
        "    .head()\n",
        "    .values\n",
        " )"
      ],
      "metadata": {
        "colab": {
          "base_uri": "https://localhost:8080/"
        },
        "id": "KagqPFb6_5r1",
        "outputId": "12af077e-0032-494e-fd8f-2007ca23c068"
      },
      "execution_count": null,
      "outputs": [
        {
          "output_type": "execute_result",
          "data": {
            "text/plain": [
              "array([list(['hous', 'dem', 'aid', 'didnt', 'even', 'see', 'comey', 'letter', 'jason', 'chaffetz', 'tweet', 'hous', 'dem', 'aid', 'didnt', 'even', 'see', 'comey', 'letter', 'jason', 'chaffetz', 'tweet', 'darrel', 'lucu', 'octob', '30', '2016', 'subscrib', 'jason', 'chaffetz', 'stump', 'american', 'fork', 'utah', '', 'imag', 'courtesi', 'michael', 'jolley', 'avail', 'creativ', 'commonsbi', 'licens', 'apolog', 'keith', 'olbermann', 'doubt', 'worst', 'person', 'world', 'week–fbi', 'director', 'jame', 'comey', 'accord', 'hous', 'democrat', 'aid', 'look', 'like', 'also', 'know', 'secondworst', 'person', 'well', 'turn', 'comey', 'sent', 'nowinfam', 'letter', 'announc', 'fbi', 'look', 'email', 'may', 'relat', 'hillari', 'clinton', 'email', 'server', 'rank', 'democrat', 'relev', 'committe', 'didnt', 'hear', 'comey', 'found', 'via', 'tweet', 'one', 'republican', 'committe', 'chairmen', 'know', 'comey', 'notifi', 'republican', 'chairmen', 'democrat', 'rank', 'member', 'hous', 'intellig', 'judiciari', 'oversight', 'committe', 'agenc', 'review', 'email', 'recent', 'discov', 'order', 'see', 'contain', 'classifi', 'inform', 'long', 'letter', 'went', 'oversight', 'committe', 'chairman', 'jason', 'chaffetz', 'set', 'polit', 'world', 'ablaz', 'tweet', 'fbi', 'dir', 'inform', 'fbi', 'learn', 'exist', 'email', 'appear', 'pertin', 'investig', 'case', 'reopen', '—', 'jason', 'chaffetz', 'jasoninthehous', 'octob', '28', '2016', 'cours', 'know', 'case', '', 'comey', 'actual', 'say', 'review', 'email', 'light', 'unrel', 'case–which', 'know', 'anthoni', 'weiner', 'sext', 'teenag', 'appar', 'littl', 'thing', 'fact', 'didnt', 'matter', 'chaffetz', 'utah', 'republican', 'alreadi', 'vow', 'initi', 'raft', 'investig', 'hillari', 'wins–at', 'least', 'two', 'year', 'worth', 'possibl', 'entir', 'term', 'worth', 'appar', 'chaffetz', 'thought', 'fbi', 'alreadi', 'work', 'him–result', 'tweet', 'briefli', 'roil', 'nation', 'cooler', 'head', 'realiz', 'dud', 'accord', 'senior', 'hous', 'democrat', 'aid', 'misread', 'letter', 'may', 'least', 'chaffetz', 'sin', 'aid', 'told', 'shareblu', 'boss', 'democrat', 'didnt', 'even', 'know', 'comey', 'letter', 'time–and', 'found', 'check', 'twitter', 'democrat', 'rank', 'member', 'relev', 'committe', 'didnt', 'receiv', 'comey', 'letter', 'republican', 'chairmen', 'fact', 'democrat', 'rank', 'member', 'receiv', 'chairman', 'oversight', 'govern', 'reform', 'committe', 'jason', 'chaffetz', 'tweet', 'made', 'public', 'let', 'see', 'weve', 'got', 'right', 'fbi', 'director', 'tell', 'chaffetz', 'gop', 'committe', 'chairmen', 'major', 'develop', 'potenti', 'polit', 'explos', 'investig', 'neither', 'chaffetz', 'colleagu', 'courtesi', 'let', 'democrat', 'counterpart', 'know', 'instead', 'accord', 'aid', 'made', 'find', 'twitter', 'alreadi', 'talk', 'daili', 'ko', 'comey', 'provid', 'advanc', 'notic', 'letter', 'chaffetz', 'republican', 'give', 'time', 'turn', 'spin', 'machin', 'may', 'make', 'good', 'theater', 'noth', 'far', 'even', 'suggest', 'case', 'noth', 'far', 'suggest', 'comey', 'anyth', 'grossli', 'incompet', 'tonedeaf', 'suggest', 'howev', 'chaffetz', 'act', 'way', 'make', 'dan', 'burton', 'darrel', 'issa', 'look', 'like', 'model', 'respons', 'bipartisanship', 'didnt', 'even', 'decenc', 'notifi', 'rank', 'member', 'elijah', 'cum', 'someth', 'explos', 'doesnt', 'trampl', 'basic', 'standard', 'fair', 'dont', 'know', 'grant', 'like', 'chaffetz', 'answer', 'sit', 'ridicul', 'republican', 'district', 'anchor', 'provo', 'orem', 'cook', 'partisan', 'vote', 'index', 'r25', 'gave', 'mitt', 'romney', 'punish', '78', 'percent', 'vote', '2012', 'moreov', 'republican', 'hous', 'leadership', 'given', 'full', 'support', 'chaffetz', 'plan', 'fish', 'expedit', 'doesnt', 'mean', 'cant', 'turn', 'hot', 'light', 'textbook', 'exampl', 'hous', 'becom', 'republican', 'control', 'also', 'second', 'worst', 'person', 'world', 'darrel', 'lucu', 'darrel', '30someth', 'graduat', 'univers', 'north', 'carolina', 'consid', 'journalist', 'old', 'school', 'attempt', 'turn', 'member', 'religi', 'right', 'colleg', 'succeed', 'turn', 'religi', 'right', 'worst', 'nightmarea', 'charismat', 'christian', 'unapologet', 'liber', 'desir', 'stand', 'scare', 'silenc', 'increas', 'surviv', 'abus', 'threeyear', 'marriag', 'may', 'know', 'daili', 'ko', 'christian', 'dem', 'nc', '', 'follow', 'twitter', 'darrelllucu', 'connect', 'facebook', '', 'click', 'buy', 'darrel', 'mello', 'yello', 'connect']),\n",
              "       list(['flynn', 'hillari', 'clinton', 'big', 'woman', 'campu', '', 'breitbart', 'ever', 'get', 'feel', 'life', 'circl', 'roundabout', 'rather', 'head', 'straight', 'line', 'toward', 'intend', 'destin', 'hillari', 'clinton', 'remain', 'big', 'woman', 'campu', 'leafi', 'liber', 'wellesley', 'massachusett', 'everywher', 'els', 'vote', 'like', 'inaugur', 'dress', 'remaind', 'day', 'way', 'miss', 'havisham', 'forev', 'wore', 'wed', 'dress', '', 'speak', 'great', 'expect', 'hillari', 'rodham', 'overflow', '48', 'year', 'ago', 'first', 'address', 'wellesley', 'graduat', 'class', 'presid', 'colleg', 'inform', 'gather', '1969', 'student', 'need', 'debat', 'far', 'could', 'ascertain', 'spokesman', 'kind', 'like', 'democrat', 'primari', '2016', 'minu', '', '', 'term', 'unknown', 'even', 'seven', 'sister', 'school', 'glad', 'miss', 'adam', 'made', 'clear', 'speak', 'today', 'us', '—', '', '400', 'us', 'miss', 'rodham', 'told', 'classmat', 'appoint', 'edger', 'bergen', 'charli', 'mccarthi', 'mortim', 'snerd', 'attend', '', '', '', 'bespectacl', 'granni', 'glass', 'award', 'matronli', 'wisdom', '—', '', 'least', 'john', 'lennon', 'wisdom', 'took', 'issu', 'previou', 'speaker', 'despit', 'becom', 'first', '', '', 'win', 'elect', 'seat', 'u', 'senat', 'sinc', 'reconstruct', 'edward', 'brook', 'came', 'critic', 'call', 'empathi', 'goal', 'protestor', 'critic', 'tactic', 'though', 'clinton', 'senior', 'thesi', 'saul', 'alinski', 'lament', 'black', 'power', 'demagogu', 'elitist', 'arrog', 'repress', 'intoler', 'within', 'new', 'left', 'similar', 'word', 'come', 'republican', 'necessit', 'brief', 'rebutt', 'trust', 'rodham', 'iron', 'observ', '1969', 'one', 'word', 'ask', 'class', 'rehears', 'want', 'say', 'everyon', 'came', 'said', '‘talk', 'trust', 'talk', 'lack', 'trust', 'us', 'way', 'feel', 'other', 'talk', 'trust', 'bust', 'say', 'say', 'feel', 'permeat', 'gener', 'perhap', 'even', 'understood', 'distrust', 'trust', 'bust', 'certainli', 'bust', 'clinton', '2016', 'plan', 'certainli', 'even', 'understand', 'peopl', 'distrust', 'whitewat', 'travelg', 'vast', '', '', 'conspiraci', 'benghazi', 'miss', 'email', 'clinton', 'found', 'distrust', 'voic', 'friday', 'load', 'compromis', 'road', 'broaden', 'polit', 'horizon', 'distrust', 'american', 'peopl', '—', '', 'trump', 'edg', '48', 'percent', '38', 'percent', 'question', 'immedi', 'prior', 'novemb', 'elect', '—', '', 'stood', 'major', 'reason', 'close', 'horizon', 'clinton', 'describ', 'vanquish', 'support', 'embrac', 'lie', 'con', 'altern', 'fact', '', '', 'assault', 'truth', 'reason', '', 'fail', 'explain', 'american', 'peopl', 'chose', 'lie', 'truth', 'histori', 'major', 'among', 'today', 'know', 'well', 'peopl', 'power', 'invent', 'fact', 'attack', 'question', 'mark', 'begin', 'end', 'free', 'societi', 'offer', 'hyperbol', '', 'like', 'mani', 'peopl', 'emerg', '1960', 'hillari', 'clinton', 'embark', 'upon', 'long', 'strang', 'trip', 'high', 'school', 'goldwat', 'girl', 'wellesley', 'colleg', 'republican', 'presid', 'democrat', 'politician', 'clinton', 'drank', 'time', 'place', 'gave', 'degre', 'significantli', 'went', 'idealist', 'cynic', 'comparison', 'two', 'wellesley', 'commenc', 'address', 'show', 'way', 'back', 'lament', 'long', 'leader', 'view', 'polit', 'art', 'possibl', 'challeng', 'practic', 'polit', 'art', 'make', 'appear', 'imposs', 'possibl', '', 'big', 'woman', 'campu', 'odd', 'woman', 'white', 'hous', 'wonder', 'current', 'station', 'even', 'possibl', 'arent', '50', 'point', 'ahead', 'ask', 'septemb', 'may', 'ask', 'isnt', 'presid', 'woman', 'famous', 'dub', 'congenit', 'liar', 'bill', 'safir', 'conclud', 'lie', '—', '', 'mind', 'get', 'stood', 'elect', 'day', 'like', 'find', 'jilt', 'bride', 'wed', 'day', 'inspir', 'danger', 'delus']),\n",
              "       list(['truth', 'might', 'get', 'fire', 'truth', 'might', 'get', 'fire', 'octob', '29', '2016', 'tension', 'intellig', 'analyst', 'polit', 'policymak', 'alway', 'honest', 'assess', 'desir', 'result', 'latter', 'often', 'overwhelm', 'former', 'iraq', 'war', 'write', 'lawrenc', 'davidson', 'lawrenc', 'davidson', 'might', 'wonder', 'foreign', 'polici', 'maker', 'repeatedli', 'make', 'bad', 'choic', 'insight', 'might', 'drawn', 'follow', 'analysi', 'action', 'play', 'unit', 'state', 'lesson', 'probabl', 'univers', 'back', 'earli', 'spring', '2003', 'georg', 'w', 'bush', 'initi', 'invas', 'iraq', 'one', 'key', 'public', 'reason', 'claim', 'countri', 'dictat', 'saddam', 'hussein', 'verg', 'develop', 'nuclear', 'weapon', 'hide', 'weapon', 'mass', 'destruct', 'real', 'reason', 'went', 'beyond', 'charg', 'includ', 'longrang', 'plan', 'regim', 'chang', 'middl', 'east', 'presid', 'georg', 'w', 'bush', 'vice', 'presid', 'dick', 'cheney', 'receiv', 'oval', 'offic', 'brief', 'cia', 'director', 'georg', 'tenet', 'also', 'present', 'chief', 'staff', 'andi', 'card', 'right', 'white', 'hous', 'photo', 'purpos', 'concentr', 'belief', 'iraq', 'becom', 'hostil', 'nuclear', 'power', 'presid', 'bush', 'close', 'associ', 'accept', 'scenario', 'readili', 'short', 'answer', 'bush', 'want', 'inde', 'need', 'believ', 'rational', 'invad', 'iraq', 'first', 'tri', 'connect', 'saddam', 'hussein', '911', 'attack', 'us', 'though', 'never', 'gave', 'stratagem', 'lack', 'evid', 'made', 'difficult', 'ralli', 'american', 'peopl', 'alreadi', 'fixat', 'afghanistan', 'support', 'war', 'baghdad', 'nuclear', 'weapon', 'gambit', 'prove', 'fruit', 'hard', 'evid', 'charg', 'supposedli', 'reliabl', 'wit', 'person', 'exil', 'antisaddam', 'iraqi', 'mani', 'us', 'govern', 'payrol', '', 'kept', 'tell', 'bush', 'advis', 'nuclear', 'stori', 'true', 'us', 'leadership', 'cadr', 'whose', 'worldview', 'liter', 'demand', 'mortal', 'danger', 'iraq', 'inform', 'order', 'precipit', 'overthrow', 'saddam', 'will', 'tell', 'tale', 'pend', 'atom', 'weapon', 'strong', 'desir', 'believ', 'tale', 'nuclear', 'iraq', 'lower', 'threshold', 'proof', '', 'likewis', 'repeat', 'assert', 'assum', 'depend', 'iraqi', 'sourc', 'underpin', 'nationwid', 'us', 'campaign', 'gener', 'fear', 'war', 'fever', 'us', 'alli', 'insist', 'unit', 'nation', 'send', 'weapon', 'inspector', 'scour', 'iraq', 'evid', 'nuclear', 'weapon', 'program', 'well', 'chemic', 'biolog', 'weapon', 'inspector', 'could', 'find', 'convinc', 'evid', 'frustrat', 'bush', 'administr', 'soon', 'forc', 'hand', 'march', '19', '2003', 'bush', 'launch', 'invas', 'iraq', 'expect', 'occup', 'countri', 'us', 'inspector', 'would', 'sure', 'find', 'evid', 'nuke', 'least', 'stockpil', 'chemic', 'biolog', 'weapon', 'iraqi', 'inform', 'systemat', 'lie', 'social', 'behavior', 'scienc', 'rescu', 'variou', 'us', 'intellig', 'agenc', 'thoroughli', 'shaken', 'affair', 'today', '13', 'year', 'later', 'director', 'manag', 'still', 'tri', 'sort', '–', 'specif', 'tell', 'get', 'true', 'intellig', 'lie', 'one', 'intellig', 'worker', 'put', 'need', '', 'help', 'protect', 'us', 'armi', 'snake', 'oil', 'salesmen', '', 'end', 'cia', 'et', 'al', 'market', 'academ', 'assist', 'ahm', 'chalabi', 'head', 'iraqi', 'nation', 'congress', 'key', 'supplier', 'iraqi', 'defector', 'bogu', 'stori', 'hidden', 'wmd', 'partnership', 'forg', 'offic', 'director', 'nation', 'intellig', 'odni', 'serv', 'coordin', 'center', 'sixteen', 'independ', 'us', 'intellig', 'agenc', 'nation', 'academi', 'scienc', 'engin', 'medicin', '', 'result', 'collabor', '', 'perman', 'intellig', 'commun', 'studi', 'board', 'coordin', 'program', 'social', 'behavior', 'scienc', 'research', 'might', 'strengthen', 'nation', 'secur', '', 'despit', 'effort', 'almost', 'certain', 'social', 'behavior', 'scienc', 'cannot', 'give', 'spi', 'agenc', 'want', '–', 'way', 'detect', 'lie', 'better', 'present', 'standard', 'procedur', 'polygraph', 'test', 'interrog', 'even', 'could', 'might', 'well', 'make', 'differ', 'real', 'problem', 'found', 'liar', 'found', 'believ', 'believ', 'simpli', 'true', 'odni', 'leader', 'seem', 'assert', 'us', 'intellig', 'agenc', 'personnel', 'cannot', 'tell', 'often', 'lie', 'case', 'thousand', 'middleechelon', 'intellig', 'worker', 'desk', 'offic', 'specialist', 'know', 'someth', 'close', 'approach', 'truth', '–', 'know', 'pretti', 'well', 'go', 'place', 'like', 'afghanistan', 'iraq', 'syria', 'libya', 'israel', 'palestin', 'elsewher', 'director', 'nation', 'intellig', 'jame', 'clapper', 'right', 'talk', 'presid', 'barack', 'obama', 'oval', 'offic', 'john', 'brennan', 'nation', 'secur', 'aid', 'present', 'photo', 'credit', 'offic', 'director', 'nation', 'intellig', 'therefor', 'someon', 'feed', 'snake', 'oil', 'usual', 'know', 'howev', 'accur', 'grasp', 'thing', 'often', 'avail', 'superior', '–', 'got', 'appoint', 'accept', 'prestructur', 'worldview', '–', 'differ', 'criterion', 'true', 'analyst', 'listen', 'charl', 'gaukel', 'nation', 'intellig', 'council', '–', 'yet', 'anoth', 'organ', 'act', 'meet', 'ground', '16', 'intellig', 'agenc', 'refer', 'search', 'way', 'avoid', 'get', 'taken', 'lie', 'gaukel', 'declar', '', 'look', 'truth', 'particularli', 'look', 'truth', 'work', '', 'might', 'mean', 'certainli', 'tell', 'mean', 'histor', 'mean', 'power', 'broker', 'truth', 'must', 'match', 'fit', 'worldview', '–', 'polit', 'ideolog', 'precept', 'fit', 'work', 'intellig', 'specialist', 'send', 'usual', 'accur', 'assess', 'line', 'polici', 'maker', 'often', 'hit', 'roadblock', 'caus', 'group', 'think', 'ideolog', 'blinker', 'know', 'better', 'attitud', 'hand', 'long', 'your', 'sell', 'leadership', 'match', 'want', 'believ', 'peddl', 'anyth', 'imaginari', 'iraqi', 'nuke', 'israel', 'westernstyl', 'democraci', 'saudi', 'arabia', 'indispens', 'alli', 'libya', 'liber', 'countri', 'bashar', 'alassad', 'real', 'roadblock', 'peac', 'syria', 'strateg', 'defens', 'initi', 'sdi', 'aka', 'star', 'war', 'world', 'get', 'colder', 'warmer', 'american', 'exception', 'glori', '–', 'list', 'almost', 'endless', 'sad', 'tale', 'tell', 'us', 'want', 'spend', 'million', 'dollar', 'social', 'behavior', 'scienc', 'research', 'improv', 'assess', 'use', 'intellig', 'forget', 'liar', 'want', 'look', 'antidot', 'narrowminded', 'believ', '–', 'policymak', 'seem', 'abl', 'rise', 'ideolog', 'presumpt', 'class', '–', 'presumpt', 'underpin', 'selfconfid', 'lead', 'us', 'slipperi', 'slope', 'happen', 'way', 'often', 'mani', 'place', 'sourc', 'shakespear', 'determin', 'past', 'prelud', 'elit', 'play', 'destini', 'free', '–', 'capac', 'break', 'structur', 'way', 'see', 'yet', 'middleechelon', 'specialist', 'keep', 'send', 'rel', 'accur', 'assess', 'ladder', 'power', 'hope', 'spring', 'etern']),\n",
              "       list(['15', 'civilian', 'kill', 'singl', 'us', 'airstrik', 'identifi', 'video', '15', 'civilian', 'kill', 'singl', 'us', 'airstrik', 'identifi', 'rate', 'civilian', 'kill', 'american', 'airstrik', 'afghanistan', 'higher', '2014', 'us', 'engag', 'activ', 'combat', 'oper', '', '', 'photo', 'hellfir', 'missil', 'load', 'onto', 'us', 'militari', 'reaper', 'drone', 'afghanistan', 'staff', 'sgt', 'brian', 'fergusonu', 'air', 'forc', 'bureau', 'abl', 'identifi', '15', 'civilian', 'kill', 'singl', 'us', 'drone', 'strike', 'afghanistan', 'last', 'month', '–', 'biggest', 'loss', 'civilian', 'life', 'one', 'strike', 'sinc', 'attack', 'medecin', 'san', 'frontier', 'hospit', 'msf', 'last', 'octob', 'us', 'claim', 'conduct', 'counterterror', 'strike', 'islam', 'state', 'fighter', 'hit', 'nangarhar', 'provinc', 'missil', 'septemb', '28', 'next', 'day', 'unit', 'nation', 'issu', 'unusu', 'rapid', 'strong', 'statement', 'say', 'strike', 'kill', '15', 'civilian', 'injur', '13', 'other', 'gather', 'hous', 'celebr', 'tribal', 'elder', 'return', 'pilgrimag', 'mecca', 'bureau', 'spoke', 'man', 'name', 'haji', 'rai', 'said', 'owner', 'hous', 'target', 'said', '15', 'peopl', 'kill', '19', 'other', 'injur', 'provid', 'name', 'list', 'bureau', 'abl', 'independ', 'verifi', 'ident', 'die', 'rai', 'son', 'headmast', 'local', 'school', 'among', 'anoth', 'man', 'abdul', 'hakim', 'lost', 'three', 'son', 'attack', 'rai', 'said', 'involv', 'deni', 'us', 'claim', 'member', 'visit', 'hous', 'strike', 'said', 'even', 'speak', 'sort', 'peopl', 'phone', 'let', 'alon', 'receiv', 'hous', 'death', 'amount', 'biggest', 'confirm', 'loss', 'civilian', 'life', 'singl', 'american', 'strike', 'afghanistan', 'sinc', 'attack', 'msf', 'hospit', 'kunduz', 'last', 'octob', 'kill', 'least', '42', 'peopl', 'nangarhar', 'strike', 'us', 'attack', 'kill', 'civilian', 'septemb', 'bureau', 'data', 'indic', 'mani', '45', 'civilian', 'alli', 'soldier', 'kill', 'four', 'american', 'strike', 'afghanistan', 'somalia', 'month', 'septemb', '18', 'pair', 'strike', 'kill', 'eight', 'afghan', 'policemen', 'tarinkot', 'capit', 'urozgan', 'provic', 'us', 'jet', 'reportedli', 'hit', 'polic', 'checkpoint', 'kill', 'one', 'offic', 'return', 'target', 'first', 'respond', 'use', 'tactic', '–', 'known', 'doubletap', 'strike', '–', 'controversi', 'often', 'hit', 'civilian', 'rescuer', 'us', 'told', 'bureau', 'conduct', 'strike', 'individu', 'fire', 'pose', 'threat', 'afghan', 'forc', 'email', 'directli', 'address', 'alleg', 'afghan', 'policemen', 'kill', 'end', 'month', 'somalia', 'citizen', 'burnt', 'us', 'flag', 'street', 'northcentr', 'citi', 'galcayo', 'emerg', 'drone', 'attack', 'may', 'unintent', 'kill', '22', 'somali', 'soldier', 'civilian', 'strike', 'occur', 'day', 'one', 'nangarhar', 'somali', 'afghan', 'incid', 'us', 'first', 'deni', 'noncombat', 'kill', 'investig', 'strike', 'nangarhar', 'galcayo', 'rate', 'civilian', 'kill', 'american', 'airstrik', 'afghanistan', 'higher', '2014', 'us', 'engag', 'activ', 'combat', 'oper', 'name']),\n",
              "       list(['iranian', 'woman', 'jail', 'fiction', 'unpublish', 'stori', 'woman', 'stone', 'death', 'adulteri', 'print', 'iranian', 'woman', 'sentenc', 'six', 'year', 'prison', 'iran', 'revolutionari', 'guard', 'search', 'home', 'found', 'notebook', 'contain', 'fiction', 'stori', 'shed', 'written', 'woman', 'stone', 'death', 'accord', 'eurasia', 'review', '', 'golrokh', 'ebrahimi', 'irae', '35', 'wife', 'polit', 'prison', 'arash', 'sadeghi', '36', 'serv', '19year', 'prison', 'sentenc', 'human', 'right', 'activist', 'public', 'report', 'intellig', 'unit', 'revolutionari', 'guard', 'came', 'arrest', 'husband', 'raid', 'apart', '–', 'without', 'warrant', '–', 'found', 'draft', 'stori', 'ebrahimi', 'irae', 'written', 'articl', 'state', 'one', 'confisc', 'draft', 'stori', 'stone', 'women', 'death', 'adulteri', '–', 'never', 'publish', 'never', 'present', 'anyon', 'articl', 'state', 'narr', 'follow', 'stori', 'protagonist', 'watch', 'movi', 'stone', 'women', 'islam', 'law', 'adulteri'])],\n",
              "      dtype=object)"
            ]
          },
          "metadata": {},
          "execution_count": 8
        }
      ]
    },
    {
      "cell_type": "code",
      "source": [
        "training_corpus = training_data.title_txt.apply(lambda x: x.split(\" \"))\n",
        "\n",
        "model = gensim.models.Word2Vec(sentences = training_corpus)"
      ],
      "metadata": {
        "id": "RCGhYAqK_5oJ"
      },
      "execution_count": null,
      "outputs": []
    },
    {
      "cell_type": "markdown",
      "source": [
        "Use wordvectors from the model object \"model.wv"
      ],
      "metadata": {
        "id": "5SYYjhAkBYAQ"
      }
    },
    {
      "cell_type": "code",
      "source": [
        "model.wv.vocab"
      ],
      "metadata": {
        "colab": {
          "base_uri": "https://localhost:8080/"
        },
        "id": "_BOwoU6B_5g_",
        "outputId": "2799d10b-8193-4a6b-ad22-6c7696228674"
      },
      "execution_count": null,
      "outputs": [
        {
          "output_type": "execute_result",
          "data": {
            "text/plain": [
              "{'hous': <gensim.models.keyedvectors.Vocab at 0x7f7b29818e90>,\n",
              " 'dem': <gensim.models.keyedvectors.Vocab at 0x7f7b24075650>,\n",
              " 'aid': <gensim.models.keyedvectors.Vocab at 0x7f7b24075690>,\n",
              " 'didnt': <gensim.models.keyedvectors.Vocab at 0x7f7b240759d0>,\n",
              " 'even': <gensim.models.keyedvectors.Vocab at 0x7f7b24075750>,\n",
              " 'see': <gensim.models.keyedvectors.Vocab at 0x7f7b24075bd0>,\n",
              " 'comey': <gensim.models.keyedvectors.Vocab at 0x7f7b24075b90>,\n",
              " 'letter': <gensim.models.keyedvectors.Vocab at 0x7f7b24075dd0>,\n",
              " 'jason': <gensim.models.keyedvectors.Vocab at 0x7f7b24075b10>,\n",
              " 'chaffetz': <gensim.models.keyedvectors.Vocab at 0x7f7b24075c90>,\n",
              " 'tweet': <gensim.models.keyedvectors.Vocab at 0x7f7b24075e90>,\n",
              " 'darrel': <gensim.models.keyedvectors.Vocab at 0x7f7b24075d50>,\n",
              " 'lucu': <gensim.models.keyedvectors.Vocab at 0x7f7b24075ed0>,\n",
              " 'octob': <gensim.models.keyedvectors.Vocab at 0x7f7b24075e50>,\n",
              " '30': <gensim.models.keyedvectors.Vocab at 0x7f7b24075f10>,\n",
              " '2016': <gensim.models.keyedvectors.Vocab at 0x7f7b24075f90>,\n",
              " 'subscrib': <gensim.models.keyedvectors.Vocab at 0x7f7b24075ad0>,\n",
              " 'stump': <gensim.models.keyedvectors.Vocab at 0x7f7b24075fd0>,\n",
              " 'american': <gensim.models.keyedvectors.Vocab at 0x7f7b24075890>,\n",
              " 'fork': <gensim.models.keyedvectors.Vocab at 0x7f7b24075a10>,\n",
              " 'utah': <gensim.models.keyedvectors.Vocab at 0x7f7b24075990>,\n",
              " '': <gensim.models.keyedvectors.Vocab at 0x7f7b24075d10>,\n",
              " 'imag': <gensim.models.keyedvectors.Vocab at 0x7f7b24075a90>,\n",
              " 'courtesi': <gensim.models.keyedvectors.Vocab at 0x7f7b24075710>,\n",
              " 'michael': <gensim.models.keyedvectors.Vocab at 0x7f7b240757d0>,\n",
              " 'avail': <gensim.models.keyedvectors.Vocab at 0x7f7b24075c10>,\n",
              " 'creativ': <gensim.models.keyedvectors.Vocab at 0x7f7b24075a50>,\n",
              " 'licens': <gensim.models.keyedvectors.Vocab at 0x7f7b240756d0>,\n",
              " 'apolog': <gensim.models.keyedvectors.Vocab at 0x7f7b24075e10>,\n",
              " 'keith': <gensim.models.keyedvectors.Vocab at 0x7f7b24075d90>,\n",
              " 'olbermann': <gensim.models.keyedvectors.Vocab at 0x7f7b24075790>,\n",
              " 'doubt': <gensim.models.keyedvectors.Vocab at 0x7f7b24075810>,\n",
              " 'worst': <gensim.models.keyedvectors.Vocab at 0x7f7b24075f50>,\n",
              " 'person': <gensim.models.keyedvectors.Vocab at 0x7f7b24075cd0>,\n",
              " 'world': <gensim.models.keyedvectors.Vocab at 0x7f7b24075b50>,\n",
              " 'director': <gensim.models.keyedvectors.Vocab at 0x7f7b24075c50>,\n",
              " 'jame': <gensim.models.keyedvectors.Vocab at 0x7f7b2409b050>,\n",
              " 'accord': <gensim.models.keyedvectors.Vocab at 0x7f7b2409b090>,\n",
              " 'democrat': <gensim.models.keyedvectors.Vocab at 0x7f7b2409b0d0>,\n",
              " 'look': <gensim.models.keyedvectors.Vocab at 0x7f7b2409b110>,\n",
              " 'like': <gensim.models.keyedvectors.Vocab at 0x7f7b2409b150>,\n",
              " 'also': <gensim.models.keyedvectors.Vocab at 0x7f7b2409b190>,\n",
              " 'know': <gensim.models.keyedvectors.Vocab at 0x7f7b2409b1d0>,\n",
              " 'well': <gensim.models.keyedvectors.Vocab at 0x7f7b2409b210>,\n",
              " 'turn': <gensim.models.keyedvectors.Vocab at 0x7f7b2409b250>,\n",
              " 'sent': <gensim.models.keyedvectors.Vocab at 0x7f7b2409b290>,\n",
              " 'nowinfam': <gensim.models.keyedvectors.Vocab at 0x7f7b2409b2d0>,\n",
              " 'announc': <gensim.models.keyedvectors.Vocab at 0x7f7b2409b310>,\n",
              " 'fbi': <gensim.models.keyedvectors.Vocab at 0x7f7b2409b350>,\n",
              " 'email': <gensim.models.keyedvectors.Vocab at 0x7f7b2409b390>,\n",
              " 'may': <gensim.models.keyedvectors.Vocab at 0x7f7b2409b3d0>,\n",
              " 'relat': <gensim.models.keyedvectors.Vocab at 0x7f7b2409b410>,\n",
              " 'hillari': <gensim.models.keyedvectors.Vocab at 0x7f7b2409b450>,\n",
              " 'clinton': <gensim.models.keyedvectors.Vocab at 0x7f7b2409b490>,\n",
              " 'server': <gensim.models.keyedvectors.Vocab at 0x7f7b2409b4d0>,\n",
              " 'rank': <gensim.models.keyedvectors.Vocab at 0x7f7b2409b510>,\n",
              " 'relev': <gensim.models.keyedvectors.Vocab at 0x7f7b2409b550>,\n",
              " 'committe': <gensim.models.keyedvectors.Vocab at 0x7f7b2409b590>,\n",
              " 'hear': <gensim.models.keyedvectors.Vocab at 0x7f7b2409b5d0>,\n",
              " 'found': <gensim.models.keyedvectors.Vocab at 0x7f7b2409b610>,\n",
              " 'via': <gensim.models.keyedvectors.Vocab at 0x7f7b2409b650>,\n",
              " 'one': <gensim.models.keyedvectors.Vocab at 0x7f7b2409b690>,\n",
              " 'republican': <gensim.models.keyedvectors.Vocab at 0x7f7b2409b6d0>,\n",
              " 'chairmen': <gensim.models.keyedvectors.Vocab at 0x7f7b2409b710>,\n",
              " 'notifi': <gensim.models.keyedvectors.Vocab at 0x7f7b2409b750>,\n",
              " 'member': <gensim.models.keyedvectors.Vocab at 0x7f7b2409b790>,\n",
              " 'intellig': <gensim.models.keyedvectors.Vocab at 0x7f7b2409b7d0>,\n",
              " 'judiciari': <gensim.models.keyedvectors.Vocab at 0x7f7b2409b810>,\n",
              " 'oversight': <gensim.models.keyedvectors.Vocab at 0x7f7b2409b850>,\n",
              " 'agenc': <gensim.models.keyedvectors.Vocab at 0x7f7b2409b890>,\n",
              " 'review': <gensim.models.keyedvectors.Vocab at 0x7f7b2409b8d0>,\n",
              " 'recent': <gensim.models.keyedvectors.Vocab at 0x7f7b2409b910>,\n",
              " 'discov': <gensim.models.keyedvectors.Vocab at 0x7f7b2409b950>,\n",
              " 'order': <gensim.models.keyedvectors.Vocab at 0x7f7b2409b990>,\n",
              " 'contain': <gensim.models.keyedvectors.Vocab at 0x7f7b2409b9d0>,\n",
              " 'classifi': <gensim.models.keyedvectors.Vocab at 0x7f7b2409ba10>,\n",
              " 'inform': <gensim.models.keyedvectors.Vocab at 0x7f7b2409ba50>,\n",
              " 'long': <gensim.models.keyedvectors.Vocab at 0x7f7b2409ba90>,\n",
              " 'went': <gensim.models.keyedvectors.Vocab at 0x7f7b2409bad0>,\n",
              " 'chairman': <gensim.models.keyedvectors.Vocab at 0x7f7b2409bb10>,\n",
              " 'set': <gensim.models.keyedvectors.Vocab at 0x7f7b2409bb50>,\n",
              " 'polit': <gensim.models.keyedvectors.Vocab at 0x7f7b2409bb90>,\n",
              " 'ablaz': <gensim.models.keyedvectors.Vocab at 0x7f7b2409bbd0>,\n",
              " 'dir': <gensim.models.keyedvectors.Vocab at 0x7f7b2409bc10>,\n",
              " 'learn': <gensim.models.keyedvectors.Vocab at 0x7f7b2409bc50>,\n",
              " 'exist': <gensim.models.keyedvectors.Vocab at 0x7f7b2409bc90>,\n",
              " 'appear': <gensim.models.keyedvectors.Vocab at 0x7f7b2409bcd0>,\n",
              " 'pertin': <gensim.models.keyedvectors.Vocab at 0x7f7b2409bd10>,\n",
              " 'investig': <gensim.models.keyedvectors.Vocab at 0x7f7b2409bd50>,\n",
              " 'case': <gensim.models.keyedvectors.Vocab at 0x7f7b2409bd90>,\n",
              " 'reopen': <gensim.models.keyedvectors.Vocab at 0x7f7b2409bdd0>,\n",
              " '—': <gensim.models.keyedvectors.Vocab at 0x7f7b2409be10>,\n",
              " 'jasoninthehous': <gensim.models.keyedvectors.Vocab at 0x7f7b2409be50>,\n",
              " '28': <gensim.models.keyedvectors.Vocab at 0x7f7b2409be90>,\n",
              " 'cours': <gensim.models.keyedvectors.Vocab at 0x7f7b2409bed0>,\n",
              " 'actual': <gensim.models.keyedvectors.Vocab at 0x7f7b2409bf10>,\n",
              " 'say': <gensim.models.keyedvectors.Vocab at 0x7f7b2409bf50>,\n",
              " 'light': <gensim.models.keyedvectors.Vocab at 0x7f7b2409bf90>,\n",
              " 'unrel': <gensim.models.keyedvectors.Vocab at 0x7f7b2409bfd0>,\n",
              " 'anthoni': <gensim.models.keyedvectors.Vocab at 0x7f7b2409a050>,\n",
              " 'weiner': <gensim.models.keyedvectors.Vocab at 0x7f7b2409a090>,\n",
              " 'sext': <gensim.models.keyedvectors.Vocab at 0x7f7b2409a0d0>,\n",
              " 'teenag': <gensim.models.keyedvectors.Vocab at 0x7f7b2409a110>,\n",
              " 'appar': <gensim.models.keyedvectors.Vocab at 0x7f7b2409a150>,\n",
              " 'littl': <gensim.models.keyedvectors.Vocab at 0x7f7b2409a190>,\n",
              " 'thing': <gensim.models.keyedvectors.Vocab at 0x7f7b2409a1d0>,\n",
              " 'fact': <gensim.models.keyedvectors.Vocab at 0x7f7b2409a210>,\n",
              " 'matter': <gensim.models.keyedvectors.Vocab at 0x7f7b2409a250>,\n",
              " 'alreadi': <gensim.models.keyedvectors.Vocab at 0x7f7b2409a290>,\n",
              " 'vow': <gensim.models.keyedvectors.Vocab at 0x7f7b2409a2d0>,\n",
              " 'initi': <gensim.models.keyedvectors.Vocab at 0x7f7b2409a310>,\n",
              " 'raft': <gensim.models.keyedvectors.Vocab at 0x7f7b2409a350>,\n",
              " 'least': <gensim.models.keyedvectors.Vocab at 0x7f7b2409a390>,\n",
              " 'two': <gensim.models.keyedvectors.Vocab at 0x7f7b2409a3d0>,\n",
              " 'year': <gensim.models.keyedvectors.Vocab at 0x7f7b2409a410>,\n",
              " 'worth': <gensim.models.keyedvectors.Vocab at 0x7f7b2409a450>,\n",
              " 'possibl': <gensim.models.keyedvectors.Vocab at 0x7f7b2409a490>,\n",
              " 'entir': <gensim.models.keyedvectors.Vocab at 0x7f7b2409a4d0>,\n",
              " 'term': <gensim.models.keyedvectors.Vocab at 0x7f7b2409a510>,\n",
              " 'thought': <gensim.models.keyedvectors.Vocab at 0x7f7b2409a550>,\n",
              " 'work': <gensim.models.keyedvectors.Vocab at 0x7f7b2409a590>,\n",
              " 'briefli': <gensim.models.keyedvectors.Vocab at 0x7f7b2409a5d0>,\n",
              " 'roil': <gensim.models.keyedvectors.Vocab at 0x7f7b2409a610>,\n",
              " 'nation': <gensim.models.keyedvectors.Vocab at 0x7f7b2409a650>,\n",
              " 'cooler': <gensim.models.keyedvectors.Vocab at 0x7f7b2409a690>,\n",
              " 'head': <gensim.models.keyedvectors.Vocab at 0x7f7b2409a6d0>,\n",
              " 'realiz': <gensim.models.keyedvectors.Vocab at 0x7f7b2409a710>,\n",
              " 'dud': <gensim.models.keyedvectors.Vocab at 0x7f7b2409a750>,\n",
              " 'senior': <gensim.models.keyedvectors.Vocab at 0x7f7b2409a790>,\n",
              " 'misread': <gensim.models.keyedvectors.Vocab at 0x7f7b2409a7d0>,\n",
              " 'sin': <gensim.models.keyedvectors.Vocab at 0x7f7b2409a810>,\n",
              " 'told': <gensim.models.keyedvectors.Vocab at 0x7f7b2409a850>,\n",
              " 'shareblu': <gensim.models.keyedvectors.Vocab at 0x7f7b2409a890>,\n",
              " 'boss': <gensim.models.keyedvectors.Vocab at 0x7f7b2409a8d0>,\n",
              " 'check': <gensim.models.keyedvectors.Vocab at 0x7f7b2409a910>,\n",
              " 'twitter': <gensim.models.keyedvectors.Vocab at 0x7f7b2409a950>,\n",
              " 'receiv': <gensim.models.keyedvectors.Vocab at 0x7f7b2409a990>,\n",
              " 'govern': <gensim.models.keyedvectors.Vocab at 0x7f7b2409a9d0>,\n",
              " 'reform': <gensim.models.keyedvectors.Vocab at 0x7f7b2409aa10>,\n",
              " 'made': <gensim.models.keyedvectors.Vocab at 0x7f7b2409aa50>,\n",
              " 'public': <gensim.models.keyedvectors.Vocab at 0x7f7b2409aa90>,\n",
              " 'let': <gensim.models.keyedvectors.Vocab at 0x7f7b2409aad0>,\n",
              " 'weve': <gensim.models.keyedvectors.Vocab at 0x7f7b2409ab10>,\n",
              " 'got': <gensim.models.keyedvectors.Vocab at 0x7f7b2409ab50>,\n",
              " 'right': <gensim.models.keyedvectors.Vocab at 0x7f7b2409ab90>,\n",
              " 'tell': <gensim.models.keyedvectors.Vocab at 0x7f7b2409abd0>,\n",
              " 'gop': <gensim.models.keyedvectors.Vocab at 0x7f7b2409ac10>,\n",
              " 'major': <gensim.models.keyedvectors.Vocab at 0x7f7b2409ac50>,\n",
              " 'develop': <gensim.models.keyedvectors.Vocab at 0x7f7b2409ac90>,\n",
              " 'potenti': <gensim.models.keyedvectors.Vocab at 0x7f7b2409acd0>,\n",
              " 'explos': <gensim.models.keyedvectors.Vocab at 0x7f7b2409ad10>,\n",
              " 'neither': <gensim.models.keyedvectors.Vocab at 0x7f7b2409ad50>,\n",
              " 'colleagu': <gensim.models.keyedvectors.Vocab at 0x7f7b2409ad90>,\n",
              " 'counterpart': <gensim.models.keyedvectors.Vocab at 0x7f7b2409add0>,\n",
              " 'instead': <gensim.models.keyedvectors.Vocab at 0x7f7b2409ae10>,\n",
              " 'find': <gensim.models.keyedvectors.Vocab at 0x7f7b2409ae50>,\n",
              " 'talk': <gensim.models.keyedvectors.Vocab at 0x7f7b2409ae90>,\n",
              " 'daili': <gensim.models.keyedvectors.Vocab at 0x7f7b2409aed0>,\n",
              " 'ko': <gensim.models.keyedvectors.Vocab at 0x7f7b2409af10>,\n",
              " 'provid': <gensim.models.keyedvectors.Vocab at 0x7f7b2409af50>,\n",
              " 'advanc': <gensim.models.keyedvectors.Vocab at 0x7f7b2409af90>,\n",
              " 'notic': <gensim.models.keyedvectors.Vocab at 0x7f7b2409afd0>,\n",
              " 'give': <gensim.models.keyedvectors.Vocab at 0x7f7b2409e050>,\n",
              " 'time': <gensim.models.keyedvectors.Vocab at 0x7f7b2409e090>,\n",
              " 'spin': <gensim.models.keyedvectors.Vocab at 0x7f7b2409e0d0>,\n",
              " 'machin': <gensim.models.keyedvectors.Vocab at 0x7f7b2409e110>,\n",
              " 'make': <gensim.models.keyedvectors.Vocab at 0x7f7b2409e150>,\n",
              " 'good': <gensim.models.keyedvectors.Vocab at 0x7f7b2409e1d0>,\n",
              " 'theater': <gensim.models.keyedvectors.Vocab at 0x7f7b2409e210>,\n",
              " 'noth': <gensim.models.keyedvectors.Vocab at 0x7f7b2409e190>,\n",
              " 'far': <gensim.models.keyedvectors.Vocab at 0x7f7b2409e250>,\n",
              " 'suggest': <gensim.models.keyedvectors.Vocab at 0x7f7b2409e290>,\n",
              " 'anyth': <gensim.models.keyedvectors.Vocab at 0x7f7b2409e2d0>,\n",
              " 'grossli': <gensim.models.keyedvectors.Vocab at 0x7f7b2409e310>,\n",
              " 'incompet': <gensim.models.keyedvectors.Vocab at 0x7f7b2409e350>,\n",
              " 'tonedeaf': <gensim.models.keyedvectors.Vocab at 0x7f7b2409e390>,\n",
              " 'howev': <gensim.models.keyedvectors.Vocab at 0x7f7b2409e3d0>,\n",
              " 'act': <gensim.models.keyedvectors.Vocab at 0x7f7b2409e410>,\n",
              " 'way': <gensim.models.keyedvectors.Vocab at 0x7f7b2409e450>,\n",
              " 'dan': <gensim.models.keyedvectors.Vocab at 0x7f7b2409e4d0>,\n",
              " 'burton': <gensim.models.keyedvectors.Vocab at 0x7f7b2409e510>,\n",
              " 'issa': <gensim.models.keyedvectors.Vocab at 0x7f7b2409e490>,\n",
              " 'model': <gensim.models.keyedvectors.Vocab at 0x7f7b2409e550>,\n",
              " 'respons': <gensim.models.keyedvectors.Vocab at 0x7f7b2409e590>,\n",
              " 'bipartisanship': <gensim.models.keyedvectors.Vocab at 0x7f7b2409e5d0>,\n",
              " 'decenc': <gensim.models.keyedvectors.Vocab at 0x7f7b2409e610>,\n",
              " 'elijah': <gensim.models.keyedvectors.Vocab at 0x7f7b2409e650>,\n",
              " 'cum': <gensim.models.keyedvectors.Vocab at 0x7f7b2409e690>,\n",
              " 'someth': <gensim.models.keyedvectors.Vocab at 0x7f7b2409e6d0>,\n",
              " 'doesnt': <gensim.models.keyedvectors.Vocab at 0x7f7b2409e710>,\n",
              " 'trampl': <gensim.models.keyedvectors.Vocab at 0x7f7b2409e750>,\n",
              " 'basic': <gensim.models.keyedvectors.Vocab at 0x7f7b2409e7d0>,\n",
              " 'standard': <gensim.models.keyedvectors.Vocab at 0x7f7b2409e810>,\n",
              " 'fair': <gensim.models.keyedvectors.Vocab at 0x7f7b2409e790>,\n",
              " 'dont': <gensim.models.keyedvectors.Vocab at 0x7f7b2409e850>,\n",
              " 'grant': <gensim.models.keyedvectors.Vocab at 0x7f7b2409e890>,\n",
              " 'answer': <gensim.models.keyedvectors.Vocab at 0x7f7b2409e8d0>,\n",
              " 'sit': <gensim.models.keyedvectors.Vocab at 0x7f7b2409e910>,\n",
              " 'ridicul': <gensim.models.keyedvectors.Vocab at 0x7f7b2409e950>,\n",
              " 'district': <gensim.models.keyedvectors.Vocab at 0x7f7b2409e990>,\n",
              " 'anchor': <gensim.models.keyedvectors.Vocab at 0x7f7b2409e9d0>,\n",
              " 'provo': <gensim.models.keyedvectors.Vocab at 0x7f7b2409ea10>,\n",
              " 'cook': <gensim.models.keyedvectors.Vocab at 0x7f7b2409ea50>,\n",
              " 'partisan': <gensim.models.keyedvectors.Vocab at 0x7f7b2409ead0>,\n",
              " 'vote': <gensim.models.keyedvectors.Vocab at 0x7f7b2409eb10>,\n",
              " 'index': <gensim.models.keyedvectors.Vocab at 0x7f7b2409ea90>,\n",
              " 'gave': <gensim.models.keyedvectors.Vocab at 0x7f7b2409eb50>,\n",
              " 'mitt': <gensim.models.keyedvectors.Vocab at 0x7f7b2409eb90>,\n",
              " 'romney': <gensim.models.keyedvectors.Vocab at 0x7f7b2409ebd0>,\n",
              " 'punish': <gensim.models.keyedvectors.Vocab at 0x7f7b2409ec10>,\n",
              " '78': <gensim.models.keyedvectors.Vocab at 0x7f7b2409ec50>,\n",
              " 'percent': <gensim.models.keyedvectors.Vocab at 0x7f7b2409ec90>,\n",
              " '2012': <gensim.models.keyedvectors.Vocab at 0x7f7b2409ecd0>,\n",
              " 'moreov': <gensim.models.keyedvectors.Vocab at 0x7f7b2409ed10>,\n",
              " 'leadership': <gensim.models.keyedvectors.Vocab at 0x7f7b2409ed50>,\n",
              " 'given': <gensim.models.keyedvectors.Vocab at 0x7f7b2409edd0>,\n",
              " 'full': <gensim.models.keyedvectors.Vocab at 0x7f7b2409ee10>,\n",
              " 'support': <gensim.models.keyedvectors.Vocab at 0x7f7b2409ed90>,\n",
              " 'plan': <gensim.models.keyedvectors.Vocab at 0x7f7b2409ee50>,\n",
              " 'fish': <gensim.models.keyedvectors.Vocab at 0x7f7b2409ee90>,\n",
              " 'expedit': <gensim.models.keyedvectors.Vocab at 0x7f7b2409eed0>,\n",
              " 'mean': <gensim.models.keyedvectors.Vocab at 0x7f7b2409ef10>,\n",
              " 'cant': <gensim.models.keyedvectors.Vocab at 0x7f7b2409ef50>,\n",
              " 'hot': <gensim.models.keyedvectors.Vocab at 0x7f7b2409ef90>,\n",
              " 'textbook': <gensim.models.keyedvectors.Vocab at 0x7f7b2409efd0>,\n",
              " 'exampl': <gensim.models.keyedvectors.Vocab at 0x7f7b24020050>,\n",
              " 'becom': <gensim.models.keyedvectors.Vocab at 0x7f7b24020090>,\n",
              " 'control': <gensim.models.keyedvectors.Vocab at 0x7f7b240200d0>,\n",
              " 'second': <gensim.models.keyedvectors.Vocab at 0x7f7b24020110>,\n",
              " '30someth': <gensim.models.keyedvectors.Vocab at 0x7f7b24020150>,\n",
              " 'graduat': <gensim.models.keyedvectors.Vocab at 0x7f7b24020190>,\n",
              " 'univers': <gensim.models.keyedvectors.Vocab at 0x7f7b240201d0>,\n",
              " 'north': <gensim.models.keyedvectors.Vocab at 0x7f7b24020210>,\n",
              " 'carolina': <gensim.models.keyedvectors.Vocab at 0x7f7b24020250>,\n",
              " 'consid': <gensim.models.keyedvectors.Vocab at 0x7f7b24020290>,\n",
              " 'journalist': <gensim.models.keyedvectors.Vocab at 0x7f7b240202d0>,\n",
              " 'old': <gensim.models.keyedvectors.Vocab at 0x7f7b24020310>,\n",
              " 'school': <gensim.models.keyedvectors.Vocab at 0x7f7b24020350>,\n",
              " 'attempt': <gensim.models.keyedvectors.Vocab at 0x7f7b24020390>,\n",
              " 'religi': <gensim.models.keyedvectors.Vocab at 0x7f7b240203d0>,\n",
              " 'colleg': <gensim.models.keyedvectors.Vocab at 0x7f7b24020410>,\n",
              " 'succeed': <gensim.models.keyedvectors.Vocab at 0x7f7b24020450>,\n",
              " 'nightmarea': <gensim.models.keyedvectors.Vocab at 0x7f7b24020490>,\n",
              " 'charismat': <gensim.models.keyedvectors.Vocab at 0x7f7b240204d0>,\n",
              " 'christian': <gensim.models.keyedvectors.Vocab at 0x7f7b24020510>,\n",
              " 'unapologet': <gensim.models.keyedvectors.Vocab at 0x7f7b24020550>,\n",
              " 'liber': <gensim.models.keyedvectors.Vocab at 0x7f7b24020590>,\n",
              " 'desir': <gensim.models.keyedvectors.Vocab at 0x7f7b240205d0>,\n",
              " 'stand': <gensim.models.keyedvectors.Vocab at 0x7f7b24020610>,\n",
              " 'scare': <gensim.models.keyedvectors.Vocab at 0x7f7b24020650>,\n",
              " 'silenc': <gensim.models.keyedvectors.Vocab at 0x7f7b24020690>,\n",
              " 'increas': <gensim.models.keyedvectors.Vocab at 0x7f7b240206d0>,\n",
              " 'surviv': <gensim.models.keyedvectors.Vocab at 0x7f7b24020710>,\n",
              " 'abus': <gensim.models.keyedvectors.Vocab at 0x7f7b24020750>,\n",
              " 'threeyear': <gensim.models.keyedvectors.Vocab at 0x7f7b24020790>,\n",
              " 'marriag': <gensim.models.keyedvectors.Vocab at 0x7f7b240207d0>,\n",
              " 'nc': <gensim.models.keyedvectors.Vocab at 0x7f7b24020810>,\n",
              " 'follow': <gensim.models.keyedvectors.Vocab at 0x7f7b24020850>,\n",
              " 'darrelllucu': <gensim.models.keyedvectors.Vocab at 0x7f7b24020890>,\n",
              " 'connect': <gensim.models.keyedvectors.Vocab at 0x7f7b240208d0>,\n",
              " 'facebook': <gensim.models.keyedvectors.Vocab at 0x7f7b24020910>,\n",
              " 'click': <gensim.models.keyedvectors.Vocab at 0x7f7b24020950>,\n",
              " 'buy': <gensim.models.keyedvectors.Vocab at 0x7f7b24020990>,\n",
              " 'mello': <gensim.models.keyedvectors.Vocab at 0x7f7b240209d0>,\n",
              " 'yello': <gensim.models.keyedvectors.Vocab at 0x7f7b24020a10>,\n",
              " 'flynn': <gensim.models.keyedvectors.Vocab at 0x7f7b24020a50>,\n",
              " 'big': <gensim.models.keyedvectors.Vocab at 0x7f7b24020a90>,\n",
              " 'woman': <gensim.models.keyedvectors.Vocab at 0x7f7b24020ad0>,\n",
              " 'campu': <gensim.models.keyedvectors.Vocab at 0x7f7b24020b10>,\n",
              " 'breitbart': <gensim.models.keyedvectors.Vocab at 0x7f7b24020b50>,\n",
              " 'ever': <gensim.models.keyedvectors.Vocab at 0x7f7b24020b90>,\n",
              " 'get': <gensim.models.keyedvectors.Vocab at 0x7f7b24020bd0>,\n",
              " 'feel': <gensim.models.keyedvectors.Vocab at 0x7f7b24020c10>,\n",
              " 'life': <gensim.models.keyedvectors.Vocab at 0x7f7b24020c50>,\n",
              " 'circl': <gensim.models.keyedvectors.Vocab at 0x7f7b24020c90>,\n",
              " 'roundabout': <gensim.models.keyedvectors.Vocab at 0x7f7b24020cd0>,\n",
              " 'rather': <gensim.models.keyedvectors.Vocab at 0x7f7b24020d10>,\n",
              " 'straight': <gensim.models.keyedvectors.Vocab at 0x7f7b24020d50>,\n",
              " 'line': <gensim.models.keyedvectors.Vocab at 0x7f7b24020d90>,\n",
              " 'toward': <gensim.models.keyedvectors.Vocab at 0x7f7b24020dd0>,\n",
              " 'intend': <gensim.models.keyedvectors.Vocab at 0x7f7b24020e10>,\n",
              " 'destin': <gensim.models.keyedvectors.Vocab at 0x7f7b24020e50>,\n",
              " 'remain': <gensim.models.keyedvectors.Vocab at 0x7f7b24020e90>,\n",
              " 'leafi': <gensim.models.keyedvectors.Vocab at 0x7f7b24020ed0>,\n",
              " 'wellesley': <gensim.models.keyedvectors.Vocab at 0x7f7b24020f10>,\n",
              " 'massachusett': <gensim.models.keyedvectors.Vocab at 0x7f7b24020f50>,\n",
              " 'everywher': <gensim.models.keyedvectors.Vocab at 0x7f7b24020f90>,\n",
              " 'els': <gensim.models.keyedvectors.Vocab at 0x7f7b24020fd0>,\n",
              " 'inaugur': <gensim.models.keyedvectors.Vocab at 0x7f7b24024050>,\n",
              " 'dress': <gensim.models.keyedvectors.Vocab at 0x7f7b24024090>,\n",
              " 'remaind': <gensim.models.keyedvectors.Vocab at 0x7f7b240240d0>,\n",
              " 'day': <gensim.models.keyedvectors.Vocab at 0x7f7b24024110>,\n",
              " 'miss': <gensim.models.keyedvectors.Vocab at 0x7f7b24024150>,\n",
              " 'forev': <gensim.models.keyedvectors.Vocab at 0x7f7b24024190>,\n",
              " 'wore': <gensim.models.keyedvectors.Vocab at 0x7f7b240241d0>,\n",
              " 'wed': <gensim.models.keyedvectors.Vocab at 0x7f7b24024210>,\n",
              " 'speak': <gensim.models.keyedvectors.Vocab at 0x7f7b24024250>,\n",
              " 'great': <gensim.models.keyedvectors.Vocab at 0x7f7b24024290>,\n",
              " 'expect': <gensim.models.keyedvectors.Vocab at 0x7f7b240242d0>,\n",
              " 'rodham': <gensim.models.keyedvectors.Vocab at 0x7f7b24024310>,\n",
              " 'overflow': <gensim.models.keyedvectors.Vocab at 0x7f7b24024350>,\n",
              " '48': <gensim.models.keyedvectors.Vocab at 0x7f7b24024390>,\n",
              " 'ago': <gensim.models.keyedvectors.Vocab at 0x7f7b240243d0>,\n",
              " 'first': <gensim.models.keyedvectors.Vocab at 0x7f7b24024410>,\n",
              " 'address': <gensim.models.keyedvectors.Vocab at 0x7f7b24024450>,\n",
              " 'class': <gensim.models.keyedvectors.Vocab at 0x7f7b24024490>,\n",
              " 'presid': <gensim.models.keyedvectors.Vocab at 0x7f7b240244d0>,\n",
              " 'gather': <gensim.models.keyedvectors.Vocab at 0x7f7b24024510>,\n",
              " '1969': <gensim.models.keyedvectors.Vocab at 0x7f7b24024550>,\n",
              " 'student': <gensim.models.keyedvectors.Vocab at 0x7f7b24024590>,\n",
              " 'need': <gensim.models.keyedvectors.Vocab at 0x7f7b240245d0>,\n",
              " 'debat': <gensim.models.keyedvectors.Vocab at 0x7f7b24024610>,\n",
              " 'could': <gensim.models.keyedvectors.Vocab at 0x7f7b24024650>,\n",
              " 'ascertain': <gensim.models.keyedvectors.Vocab at 0x7f7b24024690>,\n",
              " 'spokesman': <gensim.models.keyedvectors.Vocab at 0x7f7b240246d0>,\n",
              " 'kind': <gensim.models.keyedvectors.Vocab at 0x7f7b24024710>,\n",
              " 'primari': <gensim.models.keyedvectors.Vocab at 0x7f7b24024750>,\n",
              " 'minu': <gensim.models.keyedvectors.Vocab at 0x7f7b24024790>,\n",
              " 'unknown': <gensim.models.keyedvectors.Vocab at 0x7f7b240247d0>,\n",
              " 'seven': <gensim.models.keyedvectors.Vocab at 0x7f7b24024810>,\n",
              " 'sister': <gensim.models.keyedvectors.Vocab at 0x7f7b24024850>,\n",
              " 'glad': <gensim.models.keyedvectors.Vocab at 0x7f7b24024890>,\n",
              " 'adam': <gensim.models.keyedvectors.Vocab at 0x7f7b240248d0>,\n",
              " 'clear': <gensim.models.keyedvectors.Vocab at 0x7f7b24024910>,\n",
              " 'today': <gensim.models.keyedvectors.Vocab at 0x7f7b24024950>,\n",
              " 'us': <gensim.models.keyedvectors.Vocab at 0x7f7b24024990>,\n",
              " '400': <gensim.models.keyedvectors.Vocab at 0x7f7b240249d0>,\n",
              " 'classmat': <gensim.models.keyedvectors.Vocab at 0x7f7b24024a10>,\n",
              " 'appoint': <gensim.models.keyedvectors.Vocab at 0x7f7b24024a50>,\n",
              " 'bergen': <gensim.models.keyedvectors.Vocab at 0x7f7b24024a90>,\n",
              " 'charli': <gensim.models.keyedvectors.Vocab at 0x7f7b24024ad0>,\n",
              " 'mccarthi': <gensim.models.keyedvectors.Vocab at 0x7f7b24024b10>,\n",
              " 'attend': <gensim.models.keyedvectors.Vocab at 0x7f7b24024b50>,\n",
              " 'bespectacl': <gensim.models.keyedvectors.Vocab at 0x7f7b24024b90>,\n",
              " 'granni': <gensim.models.keyedvectors.Vocab at 0x7f7b24024bd0>,\n",
              " 'glass': <gensim.models.keyedvectors.Vocab at 0x7f7b24024c10>,\n",
              " 'award': <gensim.models.keyedvectors.Vocab at 0x7f7b24024c50>,\n",
              " 'wisdom': <gensim.models.keyedvectors.Vocab at 0x7f7b24024c90>,\n",
              " 'john': <gensim.models.keyedvectors.Vocab at 0x7f7b24024cd0>,\n",
              " 'lennon': <gensim.models.keyedvectors.Vocab at 0x7f7b24024d10>,\n",
              " 'took': <gensim.models.keyedvectors.Vocab at 0x7f7b24024d50>,\n",
              " 'issu': <gensim.models.keyedvectors.Vocab at 0x7f7b24024d90>,\n",
              " 'previou': <gensim.models.keyedvectors.Vocab at 0x7f7b24024dd0>,\n",
              " 'speaker': <gensim.models.keyedvectors.Vocab at 0x7f7b24024e10>,\n",
              " 'despit': <gensim.models.keyedvectors.Vocab at 0x7f7b24024e50>,\n",
              " 'win': <gensim.models.keyedvectors.Vocab at 0x7f7b24024e90>,\n",
              " 'elect': <gensim.models.keyedvectors.Vocab at 0x7f7b24024ed0>,\n",
              " 'seat': <gensim.models.keyedvectors.Vocab at 0x7f7b24024f10>,\n",
              " 'u': <gensim.models.keyedvectors.Vocab at 0x7f7b24024f50>,\n",
              " 'senat': <gensim.models.keyedvectors.Vocab at 0x7f7b24024f90>,\n",
              " 'sinc': <gensim.models.keyedvectors.Vocab at 0x7f7b24024fd0>,\n",
              " 'reconstruct': <gensim.models.keyedvectors.Vocab at 0x7f7b24027050>,\n",
              " 'edward': <gensim.models.keyedvectors.Vocab at 0x7f7b24027090>,\n",
              " 'brook': <gensim.models.keyedvectors.Vocab at 0x7f7b240270d0>,\n",
              " 'came': <gensim.models.keyedvectors.Vocab at 0x7f7b24027110>,\n",
              " 'critic': <gensim.models.keyedvectors.Vocab at 0x7f7b24027150>,\n",
              " 'call': <gensim.models.keyedvectors.Vocab at 0x7f7b24027190>,\n",
              " 'empathi': <gensim.models.keyedvectors.Vocab at 0x7f7b240271d0>,\n",
              " 'goal': <gensim.models.keyedvectors.Vocab at 0x7f7b24027210>,\n",
              " 'protestor': <gensim.models.keyedvectors.Vocab at 0x7f7b24027250>,\n",
              " 'tactic': <gensim.models.keyedvectors.Vocab at 0x7f7b24027290>,\n",
              " 'though': <gensim.models.keyedvectors.Vocab at 0x7f7b240272d0>,\n",
              " 'thesi': <gensim.models.keyedvectors.Vocab at 0x7f7b24027310>,\n",
              " 'saul': <gensim.models.keyedvectors.Vocab at 0x7f7b24027350>,\n",
              " 'alinski': <gensim.models.keyedvectors.Vocab at 0x7f7b24027390>,\n",
              " 'lament': <gensim.models.keyedvectors.Vocab at 0x7f7b240273d0>,\n",
              " 'black': <gensim.models.keyedvectors.Vocab at 0x7f7b24027410>,\n",
              " 'power': <gensim.models.keyedvectors.Vocab at 0x7f7b24027450>,\n",
              " 'demagogu': <gensim.models.keyedvectors.Vocab at 0x7f7b24027490>,\n",
              " 'elitist': <gensim.models.keyedvectors.Vocab at 0x7f7b240274d0>,\n",
              " 'arrog': <gensim.models.keyedvectors.Vocab at 0x7f7b24027510>,\n",
              " 'repress': <gensim.models.keyedvectors.Vocab at 0x7f7b24027550>,\n",
              " 'intoler': <gensim.models.keyedvectors.Vocab at 0x7f7b24027590>,\n",
              " 'within': <gensim.models.keyedvectors.Vocab at 0x7f7b240275d0>,\n",
              " 'new': <gensim.models.keyedvectors.Vocab at 0x7f7b24027610>,\n",
              " 'left': <gensim.models.keyedvectors.Vocab at 0x7f7b24027650>,\n",
              " 'similar': <gensim.models.keyedvectors.Vocab at 0x7f7b24027690>,\n",
              " 'word': <gensim.models.keyedvectors.Vocab at 0x7f7b240276d0>,\n",
              " 'come': <gensim.models.keyedvectors.Vocab at 0x7f7b24027710>,\n",
              " 'necessit': <gensim.models.keyedvectors.Vocab at 0x7f7b24027750>,\n",
              " 'brief': <gensim.models.keyedvectors.Vocab at 0x7f7b24027790>,\n",
              " 'rebutt': <gensim.models.keyedvectors.Vocab at 0x7f7b240277d0>,\n",
              " 'trust': <gensim.models.keyedvectors.Vocab at 0x7f7b24027810>,\n",
              " 'iron': <gensim.models.keyedvectors.Vocab at 0x7f7b24027850>,\n",
              " 'observ': <gensim.models.keyedvectors.Vocab at 0x7f7b24027890>,\n",
              " 'ask': <gensim.models.keyedvectors.Vocab at 0x7f7b240278d0>,\n",
              " 'rehears': <gensim.models.keyedvectors.Vocab at 0x7f7b24027910>,\n",
              " 'want': <gensim.models.keyedvectors.Vocab at 0x7f7b24027950>,\n",
              " 'everyon': <gensim.models.keyedvectors.Vocab at 0x7f7b24027990>,\n",
              " 'said': <gensim.models.keyedvectors.Vocab at 0x7f7b240279d0>,\n",
              " 'lack': <gensim.models.keyedvectors.Vocab at 0x7f7b24027a10>,\n",
              " 'other': <gensim.models.keyedvectors.Vocab at 0x7f7b24027a50>,\n",
              " 'bust': <gensim.models.keyedvectors.Vocab at 0x7f7b24027a90>,\n",
              " 'permeat': <gensim.models.keyedvectors.Vocab at 0x7f7b24027ad0>,\n",
              " 'gener': <gensim.models.keyedvectors.Vocab at 0x7f7b24027b10>,\n",
              " 'perhap': <gensim.models.keyedvectors.Vocab at 0x7f7b24027b50>,\n",
              " 'understood': <gensim.models.keyedvectors.Vocab at 0x7f7b24027b90>,\n",
              " 'distrust': <gensim.models.keyedvectors.Vocab at 0x7f7b24027bd0>,\n",
              " 'certainli': <gensim.models.keyedvectors.Vocab at 0x7f7b24027c10>,\n",
              " 'understand': <gensim.models.keyedvectors.Vocab at 0x7f7b24027c50>,\n",
              " 'peopl': <gensim.models.keyedvectors.Vocab at 0x7f7b24027c90>,\n",
              " 'whitewat': <gensim.models.keyedvectors.Vocab at 0x7f7b24027cd0>,\n",
              " 'travelg': <gensim.models.keyedvectors.Vocab at 0x7f7b24027d10>,\n",
              " 'vast': <gensim.models.keyedvectors.Vocab at 0x7f7b24027d50>,\n",
              " 'conspiraci': <gensim.models.keyedvectors.Vocab at 0x7f7b24027d90>,\n",
              " 'benghazi': <gensim.models.keyedvectors.Vocab at 0x7f7b24027dd0>,\n",
              " 'voic': <gensim.models.keyedvectors.Vocab at 0x7f7b24027e10>,\n",
              " 'friday': <gensim.models.keyedvectors.Vocab at 0x7f7b24027e50>,\n",
              " 'load': <gensim.models.keyedvectors.Vocab at 0x7f7b24027e90>,\n",
              " 'compromis': <gensim.models.keyedvectors.Vocab at 0x7f7b24027ed0>,\n",
              " 'road': <gensim.models.keyedvectors.Vocab at 0x7f7b24027f10>,\n",
              " 'broaden': <gensim.models.keyedvectors.Vocab at 0x7f7b24027f50>,\n",
              " 'horizon': <gensim.models.keyedvectors.Vocab at 0x7f7b24027f90>,\n",
              " 'trump': <gensim.models.keyedvectors.Vocab at 0x7f7b24027fd0>,\n",
              " 'edg': <gensim.models.keyedvectors.Vocab at 0x7f7b2402b050>,\n",
              " '38': <gensim.models.keyedvectors.Vocab at 0x7f7b2402b090>,\n",
              " 'question': <gensim.models.keyedvectors.Vocab at 0x7f7b2402b0d0>,\n",
              " 'immedi': <gensim.models.keyedvectors.Vocab at 0x7f7b2402b110>,\n",
              " 'prior': <gensim.models.keyedvectors.Vocab at 0x7f7b2402b150>,\n",
              " 'novemb': <gensim.models.keyedvectors.Vocab at 0x7f7b2402b190>,\n",
              " 'stood': <gensim.models.keyedvectors.Vocab at 0x7f7b2402b1d0>,\n",
              " 'reason': <gensim.models.keyedvectors.Vocab at 0x7f7b2402b210>,\n",
              " 'close': <gensim.models.keyedvectors.Vocab at 0x7f7b2402b250>,\n",
              " 'describ': <gensim.models.keyedvectors.Vocab at 0x7f7b2402b290>,\n",
              " 'vanquish': <gensim.models.keyedvectors.Vocab at 0x7f7b2402b2d0>,\n",
              " 'embrac': <gensim.models.keyedvectors.Vocab at 0x7f7b2402b310>,\n",
              " 'lie': <gensim.models.keyedvectors.Vocab at 0x7f7b2402b350>,\n",
              " 'con': <gensim.models.keyedvectors.Vocab at 0x7f7b2402b390>,\n",
              " 'altern': <gensim.models.keyedvectors.Vocab at 0x7f7b2402b3d0>,\n",
              " 'assault': <gensim.models.keyedvectors.Vocab at 0x7f7b2402b410>,\n",
              " 'truth': <gensim.models.keyedvectors.Vocab at 0x7f7b2402b450>,\n",
              " 'fail': <gensim.models.keyedvectors.Vocab at 0x7f7b2402b490>,\n",
              " 'explain': <gensim.models.keyedvectors.Vocab at 0x7f7b2402b4d0>,\n",
              " 'chose': <gensim.models.keyedvectors.Vocab at 0x7f7b2402b510>,\n",
              " 'histori': <gensim.models.keyedvectors.Vocab at 0x7f7b2402b550>,\n",
              " 'among': <gensim.models.keyedvectors.Vocab at 0x7f7b2402b590>,\n",
              " 'invent': <gensim.models.keyedvectors.Vocab at 0x7f7b2402b5d0>,\n",
              " 'attack': <gensim.models.keyedvectors.Vocab at 0x7f7b2402b610>,\n",
              " 'mark': <gensim.models.keyedvectors.Vocab at 0x7f7b2402b650>,\n",
              " 'begin': <gensim.models.keyedvectors.Vocab at 0x7f7b2402b690>,\n",
              " 'end': <gensim.models.keyedvectors.Vocab at 0x7f7b2402b6d0>,\n",
              " 'free': <gensim.models.keyedvectors.Vocab at 0x7f7b2402b710>,\n",
              " 'societi': <gensim.models.keyedvectors.Vocab at 0x7f7b2402b750>,\n",
              " 'offer': <gensim.models.keyedvectors.Vocab at 0x7f7b2402b790>,\n",
              " 'hyperbol': <gensim.models.keyedvectors.Vocab at 0x7f7b2402b7d0>,\n",
              " 'mani': <gensim.models.keyedvectors.Vocab at 0x7f7b2402b810>,\n",
              " 'emerg': <gensim.models.keyedvectors.Vocab at 0x7f7b2402b850>,\n",
              " '1960': <gensim.models.keyedvectors.Vocab at 0x7f7b2402b890>,\n",
              " 'embark': <gensim.models.keyedvectors.Vocab at 0x7f7b2402b8d0>,\n",
              " 'upon': <gensim.models.keyedvectors.Vocab at 0x7f7b2402b910>,\n",
              " 'strang': <gensim.models.keyedvectors.Vocab at 0x7f7b2402b950>,\n",
              " 'trip': <gensim.models.keyedvectors.Vocab at 0x7f7b2402b990>,\n",
              " 'high': <gensim.models.keyedvectors.Vocab at 0x7f7b2402b9d0>,\n",
              " 'goldwat': <gensim.models.keyedvectors.Vocab at 0x7f7b2402ba10>,\n",
              " 'girl': <gensim.models.keyedvectors.Vocab at 0x7f7b2402ba50>,\n",
              " 'politician': <gensim.models.keyedvectors.Vocab at 0x7f7b2402ba90>,\n",
              " 'drank': <gensim.models.keyedvectors.Vocab at 0x7f7b2402bad0>,\n",
              " 'place': <gensim.models.keyedvectors.Vocab at 0x7f7b2402bb10>,\n",
              " 'degre': <gensim.models.keyedvectors.Vocab at 0x7f7b2402bb50>,\n",
              " 'significantli': <gensim.models.keyedvectors.Vocab at 0x7f7b2402bb90>,\n",
              " 'idealist': <gensim.models.keyedvectors.Vocab at 0x7f7b2402bbd0>,\n",
              " 'cynic': <gensim.models.keyedvectors.Vocab at 0x7f7b2402bc10>,\n",
              " 'comparison': <gensim.models.keyedvectors.Vocab at 0x7f7b2402bc50>,\n",
              " 'commenc': <gensim.models.keyedvectors.Vocab at 0x7f7b2402bc90>,\n",
              " 'show': <gensim.models.keyedvectors.Vocab at 0x7f7b2402bcd0>,\n",
              " 'back': <gensim.models.keyedvectors.Vocab at 0x7f7b2402bd10>,\n",
              " 'leader': <gensim.models.keyedvectors.Vocab at 0x7f7b2402bd50>,\n",
              " 'view': <gensim.models.keyedvectors.Vocab at 0x7f7b2402bd90>,\n",
              " 'art': <gensim.models.keyedvectors.Vocab at 0x7f7b2402bdd0>,\n",
              " 'challeng': <gensim.models.keyedvectors.Vocab at 0x7f7b2402be10>,\n",
              " 'practic': <gensim.models.keyedvectors.Vocab at 0x7f7b2402be50>,\n",
              " 'imposs': <gensim.models.keyedvectors.Vocab at 0x7f7b2402be90>,\n",
              " 'odd': <gensim.models.keyedvectors.Vocab at 0x7f7b2402bed0>,\n",
              " 'white': <gensim.models.keyedvectors.Vocab at 0x7f7b2402bf10>,\n",
              " 'wonder': <gensim.models.keyedvectors.Vocab at 0x7f7b2402bf50>,\n",
              " 'current': <gensim.models.keyedvectors.Vocab at 0x7f7b2402bf90>,\n",
              " 'station': <gensim.models.keyedvectors.Vocab at 0x7f7b2402bfd0>,\n",
              " 'arent': <gensim.models.keyedvectors.Vocab at 0x7f7b2402e050>,\n",
              " '50': <gensim.models.keyedvectors.Vocab at 0x7f7b2402e090>,\n",
              " 'point': <gensim.models.keyedvectors.Vocab at 0x7f7b2402e0d0>,\n",
              " 'ahead': <gensim.models.keyedvectors.Vocab at 0x7f7b2402e110>,\n",
              " 'septemb': <gensim.models.keyedvectors.Vocab at 0x7f7b2402e150>,\n",
              " 'isnt': <gensim.models.keyedvectors.Vocab at 0x7f7b2402e190>,\n",
              " 'famous': <gensim.models.keyedvectors.Vocab at 0x7f7b2402e1d0>,\n",
              " 'dub': <gensim.models.keyedvectors.Vocab at 0x7f7b2402e210>,\n",
              " 'congenit': <gensim.models.keyedvectors.Vocab at 0x7f7b2402e250>,\n",
              " 'liar': <gensim.models.keyedvectors.Vocab at 0x7f7b2402e290>,\n",
              " 'bill': <gensim.models.keyedvectors.Vocab at 0x7f7b2402e2d0>,\n",
              " 'safir': <gensim.models.keyedvectors.Vocab at 0x7f7b2402e310>,\n",
              " 'conclud': <gensim.models.keyedvectors.Vocab at 0x7f7b2402e350>,\n",
              " 'mind': <gensim.models.keyedvectors.Vocab at 0x7f7b2402e390>,\n",
              " 'jilt': <gensim.models.keyedvectors.Vocab at 0x7f7b2402e3d0>,\n",
              " 'bride': <gensim.models.keyedvectors.Vocab at 0x7f7b2402e410>,\n",
              " 'inspir': <gensim.models.keyedvectors.Vocab at 0x7f7b2402e450>,\n",
              " 'danger': <gensim.models.keyedvectors.Vocab at 0x7f7b2402e490>,\n",
              " 'delus': <gensim.models.keyedvectors.Vocab at 0x7f7b2402e4d0>,\n",
              " 'might': <gensim.models.keyedvectors.Vocab at 0x7f7b2402e510>,\n",
              " 'fire': <gensim.models.keyedvectors.Vocab at 0x7f7b2402e550>,\n",
              " '29': <gensim.models.keyedvectors.Vocab at 0x7f7b2402e590>,\n",
              " 'tension': <gensim.models.keyedvectors.Vocab at 0x7f7b2402e5d0>,\n",
              " 'analyst': <gensim.models.keyedvectors.Vocab at 0x7f7b2402e610>,\n",
              " 'policymak': <gensim.models.keyedvectors.Vocab at 0x7f7b2402e650>,\n",
              " 'alway': <gensim.models.keyedvectors.Vocab at 0x7f7b2402e690>,\n",
              " 'honest': <gensim.models.keyedvectors.Vocab at 0x7f7b2402e6d0>,\n",
              " 'assess': <gensim.models.keyedvectors.Vocab at 0x7f7b2402e710>,\n",
              " 'result': <gensim.models.keyedvectors.Vocab at 0x7f7b2402e750>,\n",
              " 'latter': <gensim.models.keyedvectors.Vocab at 0x7f7b2402e790>,\n",
              " 'often': <gensim.models.keyedvectors.Vocab at 0x7f7b2402e7d0>,\n",
              " 'overwhelm': <gensim.models.keyedvectors.Vocab at 0x7f7b2402e810>,\n",
              " 'former': <gensim.models.keyedvectors.Vocab at 0x7f7b2402e850>,\n",
              " 'iraq': <gensim.models.keyedvectors.Vocab at 0x7f7b2402e890>,\n",
              " 'war': <gensim.models.keyedvectors.Vocab at 0x7f7b2402e8d0>,\n",
              " 'write': <gensim.models.keyedvectors.Vocab at 0x7f7b2402e910>,\n",
              " 'lawrenc': <gensim.models.keyedvectors.Vocab at 0x7f7b2402e950>,\n",
              " 'davidson': <gensim.models.keyedvectors.Vocab at 0x7f7b2402e990>,\n",
              " 'foreign': <gensim.models.keyedvectors.Vocab at 0x7f7b2402e9d0>,\n",
              " 'polici': <gensim.models.keyedvectors.Vocab at 0x7f7b2402ea10>,\n",
              " 'maker': <gensim.models.keyedvectors.Vocab at 0x7f7b2402ea50>,\n",
              " 'repeatedli': <gensim.models.keyedvectors.Vocab at 0x7f7b2402ea90>,\n",
              " 'bad': <gensim.models.keyedvectors.Vocab at 0x7f7b2402ead0>,\n",
              " 'choic': <gensim.models.keyedvectors.Vocab at 0x7f7b2402eb10>,\n",
              " 'insight': <gensim.models.keyedvectors.Vocab at 0x7f7b2402eb50>,\n",
              " 'drawn': <gensim.models.keyedvectors.Vocab at 0x7f7b2402eb90>,\n",
              " 'analysi': <gensim.models.keyedvectors.Vocab at 0x7f7b2402ebd0>,\n",
              " 'action': <gensim.models.keyedvectors.Vocab at 0x7f7b2402ec10>,\n",
              " 'play': <gensim.models.keyedvectors.Vocab at 0x7f7b2402ec50>,\n",
              " 'unit': <gensim.models.keyedvectors.Vocab at 0x7f7b2402ec90>,\n",
              " 'state': <gensim.models.keyedvectors.Vocab at 0x7f7b2402ecd0>,\n",
              " 'lesson': <gensim.models.keyedvectors.Vocab at 0x7f7b2402ed10>,\n",
              " 'probabl': <gensim.models.keyedvectors.Vocab at 0x7f7b2402ed50>,\n",
              " 'earli': <gensim.models.keyedvectors.Vocab at 0x7f7b2402ed90>,\n",
              " 'spring': <gensim.models.keyedvectors.Vocab at 0x7f7b2402edd0>,\n",
              " '2003': <gensim.models.keyedvectors.Vocab at 0x7f7b2402ee10>,\n",
              " 'georg': <gensim.models.keyedvectors.Vocab at 0x7f7b2402ee50>,\n",
              " 'w': <gensim.models.keyedvectors.Vocab at 0x7f7b2402ee90>,\n",
              " 'bush': <gensim.models.keyedvectors.Vocab at 0x7f7b2402eed0>,\n",
              " 'invas': <gensim.models.keyedvectors.Vocab at 0x7f7b2402ef10>,\n",
              " 'key': <gensim.models.keyedvectors.Vocab at 0x7f7b2402ef50>,\n",
              " 'claim': <gensim.models.keyedvectors.Vocab at 0x7f7b2402ef90>,\n",
              " 'countri': <gensim.models.keyedvectors.Vocab at 0x7f7b2402efd0>,\n",
              " 'dictat': <gensim.models.keyedvectors.Vocab at 0x7f7b24032050>,\n",
              " 'saddam': <gensim.models.keyedvectors.Vocab at 0x7f7b24032090>,\n",
              " 'hussein': <gensim.models.keyedvectors.Vocab at 0x7f7b240320d0>,\n",
              " 'verg': <gensim.models.keyedvectors.Vocab at 0x7f7b24032110>,\n",
              " 'nuclear': <gensim.models.keyedvectors.Vocab at 0x7f7b24032150>,\n",
              " 'weapon': <gensim.models.keyedvectors.Vocab at 0x7f7b24032190>,\n",
              " 'hide': <gensim.models.keyedvectors.Vocab at 0x7f7b240321d0>,\n",
              " 'mass': <gensim.models.keyedvectors.Vocab at 0x7f7b24032210>,\n",
              " 'destruct': <gensim.models.keyedvectors.Vocab at 0x7f7b24032250>,\n",
              " 'real': <gensim.models.keyedvectors.Vocab at 0x7f7b24032290>,\n",
              " 'beyond': <gensim.models.keyedvectors.Vocab at 0x7f7b240322d0>,\n",
              " 'charg': <gensim.models.keyedvectors.Vocab at 0x7f7b24032310>,\n",
              " 'includ': <gensim.models.keyedvectors.Vocab at 0x7f7b24032350>,\n",
              " 'longrang': <gensim.models.keyedvectors.Vocab at 0x7f7b24032390>,\n",
              " 'regim': <gensim.models.keyedvectors.Vocab at 0x7f7b240323d0>,\n",
              " 'chang': <gensim.models.keyedvectors.Vocab at 0x7f7b24032410>,\n",
              " 'middl': <gensim.models.keyedvectors.Vocab at 0x7f7b24032450>,\n",
              " 'east': <gensim.models.keyedvectors.Vocab at 0x7f7b24032490>,\n",
              " 'vice': <gensim.models.keyedvectors.Vocab at 0x7f7b240324d0>,\n",
              " 'dick': <gensim.models.keyedvectors.Vocab at 0x7f7b24032510>,\n",
              " 'cheney': <gensim.models.keyedvectors.Vocab at 0x7f7b24032550>,\n",
              " 'oval': <gensim.models.keyedvectors.Vocab at 0x7f7b24032590>,\n",
              " 'offic': <gensim.models.keyedvectors.Vocab at 0x7f7b240325d0>,\n",
              " 'cia': <gensim.models.keyedvectors.Vocab at 0x7f7b24032610>,\n",
              " 'tenet': <gensim.models.keyedvectors.Vocab at 0x7f7b24032650>,\n",
              " 'present': <gensim.models.keyedvectors.Vocab at 0x7f7b24032690>,\n",
              " 'chief': <gensim.models.keyedvectors.Vocab at 0x7f7b240326d0>,\n",
              " 'staff': <gensim.models.keyedvectors.Vocab at 0x7f7b24032710>,\n",
              " 'andi': <gensim.models.keyedvectors.Vocab at 0x7f7b24032750>,\n",
              " 'card': <gensim.models.keyedvectors.Vocab at 0x7f7b24032790>,\n",
              " 'photo': <gensim.models.keyedvectors.Vocab at 0x7f7b240327d0>,\n",
              " 'purpos': <gensim.models.keyedvectors.Vocab at 0x7f7b24032810>,\n",
              " 'concentr': <gensim.models.keyedvectors.Vocab at 0x7f7b24032850>,\n",
              " 'belief': <gensim.models.keyedvectors.Vocab at 0x7f7b24032890>,\n",
              " 'hostil': <gensim.models.keyedvectors.Vocab at 0x7f7b240328d0>,\n",
              " 'associ': <gensim.models.keyedvectors.Vocab at 0x7f7b24032910>,\n",
              " 'accept': <gensim.models.keyedvectors.Vocab at 0x7f7b24032950>,\n",
              " 'scenario': <gensim.models.keyedvectors.Vocab at 0x7f7b24032990>,\n",
              " 'readili': <gensim.models.keyedvectors.Vocab at 0x7f7b240329d0>,\n",
              " 'short': <gensim.models.keyedvectors.Vocab at 0x7f7b24032a10>,\n",
              " 'inde': <gensim.models.keyedvectors.Vocab at 0x7f7b24032a50>,\n",
              " 'believ': <gensim.models.keyedvectors.Vocab at 0x7f7b24032a90>,\n",
              " 'rational': <gensim.models.keyedvectors.Vocab at 0x7f7b24032ad0>,\n",
              " 'invad': <gensim.models.keyedvectors.Vocab at 0x7f7b24032b10>,\n",
              " 'tri': <gensim.models.keyedvectors.Vocab at 0x7f7b24032b50>,\n",
              " '911': <gensim.models.keyedvectors.Vocab at 0x7f7b24032b90>,\n",
              " 'never': <gensim.models.keyedvectors.Vocab at 0x7f7b24032bd0>,\n",
              " 'stratagem': <gensim.models.keyedvectors.Vocab at 0x7f7b24032c10>,\n",
              " 'evid': <gensim.models.keyedvectors.Vocab at 0x7f7b24032c50>,\n",
              " 'difficult': <gensim.models.keyedvectors.Vocab at 0x7f7b24032c90>,\n",
              " 'ralli': <gensim.models.keyedvectors.Vocab at 0x7f7b24032cd0>,\n",
              " 'fixat': <gensim.models.keyedvectors.Vocab at 0x7f7b24032d10>,\n",
              " 'afghanistan': <gensim.models.keyedvectors.Vocab at 0x7f7b24032d50>,\n",
              " 'baghdad': <gensim.models.keyedvectors.Vocab at 0x7f7b24032d90>,\n",
              " 'gambit': <gensim.models.keyedvectors.Vocab at 0x7f7b24032dd0>,\n",
              " 'prove': <gensim.models.keyedvectors.Vocab at 0x7f7b24032e10>,\n",
              " 'fruit': <gensim.models.keyedvectors.Vocab at 0x7f7b24032e50>,\n",
              " 'hard': <gensim.models.keyedvectors.Vocab at 0x7f7b24032e90>,\n",
              " 'supposedli': <gensim.models.keyedvectors.Vocab at 0x7f7b24032ed0>,\n",
              " 'reliabl': <gensim.models.keyedvectors.Vocab at 0x7f7b24032f10>,\n",
              " 'wit': <gensim.models.keyedvectors.Vocab at 0x7f7b24032f50>,\n",
              " 'exil': <gensim.models.keyedvectors.Vocab at 0x7f7b24032f90>,\n",
              " 'iraqi': <gensim.models.keyedvectors.Vocab at 0x7f7b24032fd0>,\n",
              " 'payrol': <gensim.models.keyedvectors.Vocab at 0x7f7b24035050>,\n",
              " 'kept': <gensim.models.keyedvectors.Vocab at 0x7f7b24035090>,\n",
              " 'advis': <gensim.models.keyedvectors.Vocab at 0x7f7b240350d0>,\n",
              " 'stori': <gensim.models.keyedvectors.Vocab at 0x7f7b24035110>,\n",
              " 'true': <gensim.models.keyedvectors.Vocab at 0x7f7b24035150>,\n",
              " 'cadr': <gensim.models.keyedvectors.Vocab at 0x7f7b24035190>,\n",
              " 'whose': <gensim.models.keyedvectors.Vocab at 0x7f7b240351d0>,\n",
              " 'worldview': <gensim.models.keyedvectors.Vocab at 0x7f7b24035210>,\n",
              " 'liter': <gensim.models.keyedvectors.Vocab at 0x7f7b24035250>,\n",
              " 'demand': <gensim.models.keyedvectors.Vocab at 0x7f7b24035290>,\n",
              " 'mortal': <gensim.models.keyedvectors.Vocab at 0x7f7b240352d0>,\n",
              " 'precipit': <gensim.models.keyedvectors.Vocab at 0x7f7b24035310>,\n",
              " 'overthrow': <gensim.models.keyedvectors.Vocab at 0x7f7b24035350>,\n",
              " 'will': <gensim.models.keyedvectors.Vocab at 0x7f7b24035390>,\n",
              " 'tale': <gensim.models.keyedvectors.Vocab at 0x7f7b240353d0>,\n",
              " 'pend': <gensim.models.keyedvectors.Vocab at 0x7f7b24035410>,\n",
              " 'atom': <gensim.models.keyedvectors.Vocab at 0x7f7b24035450>,\n",
              " 'strong': <gensim.models.keyedvectors.Vocab at 0x7f7b24035490>,\n",
              " 'lower': <gensim.models.keyedvectors.Vocab at 0x7f7b240354d0>,\n",
              " 'threshold': <gensim.models.keyedvectors.Vocab at 0x7f7b24035510>,\n",
              " 'proof': <gensim.models.keyedvectors.Vocab at 0x7f7b24035550>,\n",
              " 'likewis': <gensim.models.keyedvectors.Vocab at 0x7f7b24035590>,\n",
              " 'repeat': <gensim.models.keyedvectors.Vocab at 0x7f7b240355d0>,\n",
              " 'assert': <gensim.models.keyedvectors.Vocab at 0x7f7b24035610>,\n",
              " 'assum': <gensim.models.keyedvectors.Vocab at 0x7f7b24035650>,\n",
              " 'depend': <gensim.models.keyedvectors.Vocab at 0x7f7b24035690>,\n",
              " 'sourc': <gensim.models.keyedvectors.Vocab at 0x7f7b240356d0>,\n",
              " 'underpin': <gensim.models.keyedvectors.Vocab at 0x7f7b24035710>,\n",
              " 'nationwid': <gensim.models.keyedvectors.Vocab at 0x7f7b24035750>,\n",
              " 'campaign': <gensim.models.keyedvectors.Vocab at 0x7f7b24035790>,\n",
              " 'fear': <gensim.models.keyedvectors.Vocab at 0x7f7b240357d0>,\n",
              " 'fever': <gensim.models.keyedvectors.Vocab at 0x7f7b24035810>,\n",
              " 'alli': <gensim.models.keyedvectors.Vocab at 0x7f7b24035850>,\n",
              " 'insist': <gensim.models.keyedvectors.Vocab at 0x7f7b24035890>,\n",
              " 'send': <gensim.models.keyedvectors.Vocab at 0x7f7b240358d0>,\n",
              " 'inspector': <gensim.models.keyedvectors.Vocab at 0x7f7b24035910>,\n",
              " 'scour': <gensim.models.keyedvectors.Vocab at 0x7f7b24035950>,\n",
              " 'program': <gensim.models.keyedvectors.Vocab at 0x7f7b24035990>,\n",
              " 'chemic': <gensim.models.keyedvectors.Vocab at 0x7f7b240359d0>,\n",
              " 'biolog': <gensim.models.keyedvectors.Vocab at 0x7f7b24035a10>,\n",
              " 'convinc': <gensim.models.keyedvectors.Vocab at 0x7f7b24035a50>,\n",
              " 'frustrat': <gensim.models.keyedvectors.Vocab at 0x7f7b24035a90>,\n",
              " 'administr': <gensim.models.keyedvectors.Vocab at 0x7f7b24035ad0>,\n",
              " 'soon': <gensim.models.keyedvectors.Vocab at 0x7f7b24035b10>,\n",
              " 'forc': <gensim.models.keyedvectors.Vocab at 0x7f7b24035b50>,\n",
              " 'hand': <gensim.models.keyedvectors.Vocab at 0x7f7b24035b90>,\n",
              " 'march': <gensim.models.keyedvectors.Vocab at 0x7f7b24035bd0>,\n",
              " '19': <gensim.models.keyedvectors.Vocab at 0x7f7b24035c10>,\n",
              " 'launch': <gensim.models.keyedvectors.Vocab at 0x7f7b24035c50>,\n",
              " 'occup': <gensim.models.keyedvectors.Vocab at 0x7f7b24035c90>,\n",
              " 'would': <gensim.models.keyedvectors.Vocab at 0x7f7b24035cd0>,\n",
              " 'sure': <gensim.models.keyedvectors.Vocab at 0x7f7b24035d10>,\n",
              " 'nuke': <gensim.models.keyedvectors.Vocab at 0x7f7b24035d50>,\n",
              " 'stockpil': <gensim.models.keyedvectors.Vocab at 0x7f7b24035d90>,\n",
              " 'systemat': <gensim.models.keyedvectors.Vocab at 0x7f7b24035dd0>,\n",
              " 'social': <gensim.models.keyedvectors.Vocab at 0x7f7b24035e10>,\n",
              " 'behavior': <gensim.models.keyedvectors.Vocab at 0x7f7b24035e50>,\n",
              " 'scienc': <gensim.models.keyedvectors.Vocab at 0x7f7b24035e90>,\n",
              " 'rescu': <gensim.models.keyedvectors.Vocab at 0x7f7b24035ed0>,\n",
              " 'variou': <gensim.models.keyedvectors.Vocab at 0x7f7b24035f10>,\n",
              " 'thoroughli': <gensim.models.keyedvectors.Vocab at 0x7f7b24035f50>,\n",
              " 'shaken': <gensim.models.keyedvectors.Vocab at 0x7f7b24035f90>,\n",
              " 'affair': <gensim.models.keyedvectors.Vocab at 0x7f7b24035fd0>,\n",
              " '13': <gensim.models.keyedvectors.Vocab at 0x7f7b24039050>,\n",
              " 'later': <gensim.models.keyedvectors.Vocab at 0x7f7b24039090>,\n",
              " 'manag': <gensim.models.keyedvectors.Vocab at 0x7f7b240390d0>,\n",
              " 'still': <gensim.models.keyedvectors.Vocab at 0x7f7b24039110>,\n",
              " 'sort': <gensim.models.keyedvectors.Vocab at 0x7f7b24039150>,\n",
              " '–': <gensim.models.keyedvectors.Vocab at 0x7f7b24039190>,\n",
              " 'specif': <gensim.models.keyedvectors.Vocab at 0x7f7b240391d0>,\n",
              " 'worker': <gensim.models.keyedvectors.Vocab at 0x7f7b24039210>,\n",
              " 'put': <gensim.models.keyedvectors.Vocab at 0x7f7b24039250>,\n",
              " 'help': <gensim.models.keyedvectors.Vocab at 0x7f7b24039290>,\n",
              " 'protect': <gensim.models.keyedvectors.Vocab at 0x7f7b240392d0>,\n",
              " 'armi': <gensim.models.keyedvectors.Vocab at 0x7f7b24039310>,\n",
              " 'snake': <gensim.models.keyedvectors.Vocab at 0x7f7b24039350>,\n",
              " 'oil': <gensim.models.keyedvectors.Vocab at 0x7f7b24039390>,\n",
              " 'salesmen': <gensim.models.keyedvectors.Vocab at 0x7f7b240393d0>,\n",
              " 'et': <gensim.models.keyedvectors.Vocab at 0x7f7b24039410>,\n",
              " 'al': <gensim.models.keyedvectors.Vocab at 0x7f7b24039450>,\n",
              " 'market': <gensim.models.keyedvectors.Vocab at 0x7f7b24039490>,\n",
              " 'academ': <gensim.models.keyedvectors.Vocab at 0x7f7b240394d0>,\n",
              " 'assist': <gensim.models.keyedvectors.Vocab at 0x7f7b24039510>,\n",
              " 'ahm': <gensim.models.keyedvectors.Vocab at 0x7f7b24039550>,\n",
              " 'chalabi': <gensim.models.keyedvectors.Vocab at 0x7f7b24039590>,\n",
              " 'congress': <gensim.models.keyedvectors.Vocab at 0x7f7b240395d0>,\n",
              " 'supplier': <gensim.models.keyedvectors.Vocab at 0x7f7b24039610>,\n",
              " 'defector': <gensim.models.keyedvectors.Vocab at 0x7f7b24039650>,\n",
              " 'bogu': <gensim.models.keyedvectors.Vocab at 0x7f7b24039690>,\n",
              " 'hidden': <gensim.models.keyedvectors.Vocab at 0x7f7b240396d0>,\n",
              " 'wmd': <gensim.models.keyedvectors.Vocab at 0x7f7b24039710>,\n",
              " 'partnership': <gensim.models.keyedvectors.Vocab at 0x7f7b24039750>,\n",
              " 'forg': <gensim.models.keyedvectors.Vocab at 0x7f7b24039790>,\n",
              " 'odni': <gensim.models.keyedvectors.Vocab at 0x7f7b240397d0>,\n",
              " 'serv': <gensim.models.keyedvectors.Vocab at 0x7f7b24039810>,\n",
              " 'coordin': <gensim.models.keyedvectors.Vocab at 0x7f7b24039850>,\n",
              " 'center': <gensim.models.keyedvectors.Vocab at 0x7f7b24039890>,\n",
              " 'sixteen': <gensim.models.keyedvectors.Vocab at 0x7f7b240398d0>,\n",
              " 'independ': <gensim.models.keyedvectors.Vocab at 0x7f7b24039910>,\n",
              " 'academi': <gensim.models.keyedvectors.Vocab at 0x7f7b24039950>,\n",
              " 'engin': <gensim.models.keyedvectors.Vocab at 0x7f7b24039990>,\n",
              " 'medicin': <gensim.models.keyedvectors.Vocab at 0x7f7b240399d0>,\n",
              " 'collabor': <gensim.models.keyedvectors.Vocab at 0x7f7b24039a10>,\n",
              " 'perman': <gensim.models.keyedvectors.Vocab at 0x7f7b24039a50>,\n",
              " 'commun': <gensim.models.keyedvectors.Vocab at 0x7f7b24039a90>,\n",
              " 'studi': <gensim.models.keyedvectors.Vocab at 0x7f7b24039ad0>,\n",
              " 'board': <gensim.models.keyedvectors.Vocab at 0x7f7b24039b10>,\n",
              " 'research': <gensim.models.keyedvectors.Vocab at 0x7f7b24039b50>,\n",
              " 'strengthen': <gensim.models.keyedvectors.Vocab at 0x7f7b24039b90>,\n",
              " 'secur': <gensim.models.keyedvectors.Vocab at 0x7f7b24039bd0>,\n",
              " 'effort': <gensim.models.keyedvectors.Vocab at 0x7f7b24039c10>,\n",
              " 'almost': <gensim.models.keyedvectors.Vocab at 0x7f7b24039c50>,\n",
              " 'certain': <gensim.models.keyedvectors.Vocab at 0x7f7b24039c90>,\n",
              " 'cannot': <gensim.models.keyedvectors.Vocab at 0x7f7b24039cd0>,\n",
              " 'spi': <gensim.models.keyedvectors.Vocab at 0x7f7b24039d10>,\n",
              " 'detect': <gensim.models.keyedvectors.Vocab at 0x7f7b24039d50>,\n",
              " 'better': <gensim.models.keyedvectors.Vocab at 0x7f7b24039d90>,\n",
              " 'procedur': <gensim.models.keyedvectors.Vocab at 0x7f7b24039dd0>,\n",
              " 'polygraph': <gensim.models.keyedvectors.Vocab at 0x7f7b24039e10>,\n",
              " 'test': <gensim.models.keyedvectors.Vocab at 0x7f7b24039e50>,\n",
              " 'interrog': <gensim.models.keyedvectors.Vocab at 0x7f7b24039e90>,\n",
              " 'differ': <gensim.models.keyedvectors.Vocab at 0x7f7b24039ed0>,\n",
              " 'problem': <gensim.models.keyedvectors.Vocab at 0x7f7b24039f10>,\n",
              " 'simpli': <gensim.models.keyedvectors.Vocab at 0x7f7b24039f50>,\n",
              " 'seem': <gensim.models.keyedvectors.Vocab at 0x7f7b24039f90>,\n",
              " 'personnel': <gensim.models.keyedvectors.Vocab at 0x7f7b24039fd0>,\n",
              " 'thousand': <gensim.models.keyedvectors.Vocab at 0x7f7b2403c050>,\n",
              " 'desk': <gensim.models.keyedvectors.Vocab at 0x7f7b2403c090>,\n",
              " 'specialist': <gensim.models.keyedvectors.Vocab at 0x7f7b2403c0d0>,\n",
              " 'approach': <gensim.models.keyedvectors.Vocab at 0x7f7b2403c110>,\n",
              " 'pretti': <gensim.models.keyedvectors.Vocab at 0x7f7b2403c150>,\n",
              " 'go': <gensim.models.keyedvectors.Vocab at 0x7f7b2403c190>,\n",
              " 'syria': <gensim.models.keyedvectors.Vocab at 0x7f7b2403c1d0>,\n",
              " 'libya': <gensim.models.keyedvectors.Vocab at 0x7f7b2403c210>,\n",
              " 'israel': <gensim.models.keyedvectors.Vocab at 0x7f7b2403c250>,\n",
              " 'palestin': <gensim.models.keyedvectors.Vocab at 0x7f7b2403c290>,\n",
              " 'elsewher': <gensim.models.keyedvectors.Vocab at 0x7f7b2403c2d0>,\n",
              " 'clapper': <gensim.models.keyedvectors.Vocab at 0x7f7b2403c310>,\n",
              " 'barack': <gensim.models.keyedvectors.Vocab at 0x7f7b2403c350>,\n",
              " 'obama': <gensim.models.keyedvectors.Vocab at 0x7f7b2403c390>,\n",
              " 'brennan': <gensim.models.keyedvectors.Vocab at 0x7f7b2403c3d0>,\n",
              " 'credit': <gensim.models.keyedvectors.Vocab at 0x7f7b2403c410>,\n",
              " 'therefor': <gensim.models.keyedvectors.Vocab at 0x7f7b2403c450>,\n",
              " 'someon': <gensim.models.keyedvectors.Vocab at 0x7f7b2403c490>,\n",
              " 'feed': <gensim.models.keyedvectors.Vocab at 0x7f7b2403c4d0>,\n",
              " 'usual': <gensim.models.keyedvectors.Vocab at 0x7f7b2403c510>,\n",
              " 'accur': <gensim.models.keyedvectors.Vocab at 0x7f7b2403c550>,\n",
              " 'grasp': <gensim.models.keyedvectors.Vocab at 0x7f7b2403c590>,\n",
              " 'superior': <gensim.models.keyedvectors.Vocab at 0x7f7b2403c5d0>,\n",
              " 'criterion': <gensim.models.keyedvectors.Vocab at 0x7f7b2403c610>,\n",
              " 'listen': <gensim.models.keyedvectors.Vocab at 0x7f7b2403c650>,\n",
              " 'charl': <gensim.models.keyedvectors.Vocab at 0x7f7b2403c690>,\n",
              " 'council': <gensim.models.keyedvectors.Vocab at 0x7f7b2403c6d0>,\n",
              " 'yet': <gensim.models.keyedvectors.Vocab at 0x7f7b2403c710>,\n",
              " 'anoth': <gensim.models.keyedvectors.Vocab at 0x7f7b2403c750>,\n",
              " 'organ': <gensim.models.keyedvectors.Vocab at 0x7f7b2403c790>,\n",
              " 'meet': <gensim.models.keyedvectors.Vocab at 0x7f7b2403c7d0>,\n",
              " 'ground': <gensim.models.keyedvectors.Vocab at 0x7f7b2403c810>,\n",
              " '16': <gensim.models.keyedvectors.Vocab at 0x7f7b2403c850>,\n",
              " 'refer': <gensim.models.keyedvectors.Vocab at 0x7f7b2403c890>,\n",
              " 'search': <gensim.models.keyedvectors.Vocab at 0x7f7b2403c8d0>,\n",
              " 'avoid': <gensim.models.keyedvectors.Vocab at 0x7f7b2403c910>,\n",
              " 'taken': <gensim.models.keyedvectors.Vocab at 0x7f7b2403c950>,\n",
              " 'declar': <gensim.models.keyedvectors.Vocab at 0x7f7b2403c990>,\n",
              " 'particularli': <gensim.models.keyedvectors.Vocab at 0x7f7b2403c9d0>,\n",
              " 'histor': <gensim.models.keyedvectors.Vocab at 0x7f7b2403ca10>,\n",
              " 'broker': <gensim.models.keyedvectors.Vocab at 0x7f7b2403ca50>,\n",
              " 'must': <gensim.models.keyedvectors.Vocab at 0x7f7b2403ca90>,\n",
              " 'match': <gensim.models.keyedvectors.Vocab at 0x7f7b2403cad0>,\n",
              " 'fit': <gensim.models.keyedvectors.Vocab at 0x7f7b2403cb10>,\n",
              " 'ideolog': <gensim.models.keyedvectors.Vocab at 0x7f7b2403cb50>,\n",
              " 'precept': <gensim.models.keyedvectors.Vocab at 0x7f7b2403cb90>,\n",
              " 'hit': <gensim.models.keyedvectors.Vocab at 0x7f7b2403cbd0>,\n",
              " 'roadblock': <gensim.models.keyedvectors.Vocab at 0x7f7b2403cc10>,\n",
              " 'caus': <gensim.models.keyedvectors.Vocab at 0x7f7b2403cc50>,\n",
              " 'group': <gensim.models.keyedvectors.Vocab at 0x7f7b2403cc90>,\n",
              " 'think': <gensim.models.keyedvectors.Vocab at 0x7f7b2403ccd0>,\n",
              " 'blinker': <gensim.models.keyedvectors.Vocab at 0x7f7b2403cd10>,\n",
              " 'attitud': <gensim.models.keyedvectors.Vocab at 0x7f7b2403cd50>,\n",
              " 'your': <gensim.models.keyedvectors.Vocab at 0x7f7b2403cd90>,\n",
              " 'sell': <gensim.models.keyedvectors.Vocab at 0x7f7b2403cdd0>,\n",
              " 'peddl': <gensim.models.keyedvectors.Vocab at 0x7f7b2403ce10>,\n",
              " 'imaginari': <gensim.models.keyedvectors.Vocab at 0x7f7b2403ce50>,\n",
              " 'westernstyl': <gensim.models.keyedvectors.Vocab at 0x7f7b2403ce90>,\n",
              " 'democraci': <gensim.models.keyedvectors.Vocab at 0x7f7b2403ced0>,\n",
              " 'saudi': <gensim.models.keyedvectors.Vocab at 0x7f7b2403cf10>,\n",
              " 'arabia': <gensim.models.keyedvectors.Vocab at 0x7f7b2403cf50>,\n",
              " 'indispens': <gensim.models.keyedvectors.Vocab at 0x7f7b2403cf90>,\n",
              " 'bashar': <gensim.models.keyedvectors.Vocab at 0x7f7b2403cfd0>,\n",
              " 'alassad': <gensim.models.keyedvectors.Vocab at 0x7f7b24040050>,\n",
              " 'peac': <gensim.models.keyedvectors.Vocab at 0x7f7b24040090>,\n",
              " 'strateg': <gensim.models.keyedvectors.Vocab at 0x7f7b240400d0>,\n",
              " 'defens': <gensim.models.keyedvectors.Vocab at 0x7f7b24040110>,\n",
              " 'sdi': <gensim.models.keyedvectors.Vocab at 0x7f7b24040150>,\n",
              " 'aka': <gensim.models.keyedvectors.Vocab at 0x7f7b24040190>,\n",
              " 'star': <gensim.models.keyedvectors.Vocab at 0x7f7b240401d0>,\n",
              " 'colder': <gensim.models.keyedvectors.Vocab at 0x7f7b24040210>,\n",
              " 'warmer': <gensim.models.keyedvectors.Vocab at 0x7f7b24040250>,\n",
              " 'exception': <gensim.models.keyedvectors.Vocab at 0x7f7b24040290>,\n",
              " 'glori': <gensim.models.keyedvectors.Vocab at 0x7f7b240402d0>,\n",
              " 'list': <gensim.models.keyedvectors.Vocab at 0x7f7b24040310>,\n",
              " 'endless': <gensim.models.keyedvectors.Vocab at 0x7f7b24040350>,\n",
              " 'sad': <gensim.models.keyedvectors.Vocab at 0x7f7b24040390>,\n",
              " 'spend': <gensim.models.keyedvectors.Vocab at 0x7f7b240403d0>,\n",
              " 'million': <gensim.models.keyedvectors.Vocab at 0x7f7b24040410>,\n",
              " 'dollar': <gensim.models.keyedvectors.Vocab at 0x7f7b24040450>,\n",
              " 'improv': <gensim.models.keyedvectors.Vocab at 0x7f7b24040490>,\n",
              " 'use': <gensim.models.keyedvectors.Vocab at 0x7f7b240404d0>,\n",
              " 'forget': <gensim.models.keyedvectors.Vocab at 0x7f7b24040510>,\n",
              " 'antidot': <gensim.models.keyedvectors.Vocab at 0x7f7b24040550>,\n",
              " 'abl': <gensim.models.keyedvectors.Vocab at 0x7f7b24040590>,\n",
              " 'rise': <gensim.models.keyedvectors.Vocab at 0x7f7b240405d0>,\n",
              " 'presumpt': <gensim.models.keyedvectors.Vocab at 0x7f7b24040610>,\n",
              " 'selfconfid': <gensim.models.keyedvectors.Vocab at 0x7f7b24040650>,\n",
              " 'lead': <gensim.models.keyedvectors.Vocab at 0x7f7b24040690>,\n",
              " 'slipperi': <gensim.models.keyedvectors.Vocab at 0x7f7b240406d0>,\n",
              " 'slope': <gensim.models.keyedvectors.Vocab at 0x7f7b24040710>,\n",
              " 'happen': <gensim.models.keyedvectors.Vocab at 0x7f7b24040750>,\n",
              " 'shakespear': <gensim.models.keyedvectors.Vocab at 0x7f7b24040790>,\n",
              " 'determin': <gensim.models.keyedvectors.Vocab at 0x7f7b240407d0>,\n",
              " 'past': <gensim.models.keyedvectors.Vocab at 0x7f7b24040810>,\n",
              " 'prelud': <gensim.models.keyedvectors.Vocab at 0x7f7b24040850>,\n",
              " 'elit': <gensim.models.keyedvectors.Vocab at 0x7f7b24040890>,\n",
              " 'destini': <gensim.models.keyedvectors.Vocab at 0x7f7b240408d0>,\n",
              " 'capac': <gensim.models.keyedvectors.Vocab at 0x7f7b24040910>,\n",
              " 'break': <gensim.models.keyedvectors.Vocab at 0x7f7b24040950>,\n",
              " 'structur': <gensim.models.keyedvectors.Vocab at 0x7f7b24040990>,\n",
              " 'keep': <gensim.models.keyedvectors.Vocab at 0x7f7b240409d0>,\n",
              " 'rel': <gensim.models.keyedvectors.Vocab at 0x7f7b24040a10>,\n",
              " 'ladder': <gensim.models.keyedvectors.Vocab at 0x7f7b24040a50>,\n",
              " 'hope': <gensim.models.keyedvectors.Vocab at 0x7f7b24040a90>,\n",
              " 'etern': <gensim.models.keyedvectors.Vocab at 0x7f7b24040ad0>,\n",
              " '15': <gensim.models.keyedvectors.Vocab at 0x7f7b24040b10>,\n",
              " 'civilian': <gensim.models.keyedvectors.Vocab at 0x7f7b24040b50>,\n",
              " 'kill': <gensim.models.keyedvectors.Vocab at 0x7f7b24040b90>,\n",
              " 'singl': <gensim.models.keyedvectors.Vocab at 0x7f7b24040bd0>,\n",
              " 'airstrik': <gensim.models.keyedvectors.Vocab at 0x7f7b24040c10>,\n",
              " 'identifi': <gensim.models.keyedvectors.Vocab at 0x7f7b24040c50>,\n",
              " 'video': <gensim.models.keyedvectors.Vocab at 0x7f7b24040c90>,\n",
              " 'rate': <gensim.models.keyedvectors.Vocab at 0x7f7b24040cd0>,\n",
              " 'higher': <gensim.models.keyedvectors.Vocab at 0x7f7b24040d10>,\n",
              " '2014': <gensim.models.keyedvectors.Vocab at 0x7f7b24040d50>,\n",
              " 'engag': <gensim.models.keyedvectors.Vocab at 0x7f7b24040d90>,\n",
              " 'activ': <gensim.models.keyedvectors.Vocab at 0x7f7b24040dd0>,\n",
              " 'combat': <gensim.models.keyedvectors.Vocab at 0x7f7b24040e10>,\n",
              " 'oper': <gensim.models.keyedvectors.Vocab at 0x7f7b24040e50>,\n",
              " 'hellfir': <gensim.models.keyedvectors.Vocab at 0x7f7b24040e90>,\n",
              " 'missil': <gensim.models.keyedvectors.Vocab at 0x7f7b24040ed0>,\n",
              " 'onto': <gensim.models.keyedvectors.Vocab at 0x7f7b24040f10>,\n",
              " 'militari': <gensim.models.keyedvectors.Vocab at 0x7f7b24040f50>,\n",
              " 'reaper': <gensim.models.keyedvectors.Vocab at 0x7f7b24040f90>,\n",
              " 'drone': <gensim.models.keyedvectors.Vocab at 0x7f7b24040fd0>,\n",
              " 'sgt': <gensim.models.keyedvectors.Vocab at 0x7f7b24043050>,\n",
              " 'brian': <gensim.models.keyedvectors.Vocab at 0x7f7b24043090>,\n",
              " 'air': <gensim.models.keyedvectors.Vocab at 0x7f7b240430d0>,\n",
              " 'bureau': <gensim.models.keyedvectors.Vocab at 0x7f7b24043110>,\n",
              " 'strike': <gensim.models.keyedvectors.Vocab at 0x7f7b24043150>,\n",
              " 'last': <gensim.models.keyedvectors.Vocab at 0x7f7b24043190>,\n",
              " 'month': <gensim.models.keyedvectors.Vocab at 0x7f7b240431d0>,\n",
              " 'biggest': <gensim.models.keyedvectors.Vocab at 0x7f7b24043210>,\n",
              " 'loss': <gensim.models.keyedvectors.Vocab at 0x7f7b24043250>,\n",
              " 'san': <gensim.models.keyedvectors.Vocab at 0x7f7b24043290>,\n",
              " 'frontier': <gensim.models.keyedvectors.Vocab at 0x7f7b240432d0>,\n",
              " 'hospit': <gensim.models.keyedvectors.Vocab at 0x7f7b24043310>,\n",
              " 'msf': <gensim.models.keyedvectors.Vocab at 0x7f7b24043350>,\n",
              " 'conduct': <gensim.models.keyedvectors.Vocab at 0x7f7b24043390>,\n",
              " 'counterterror': <gensim.models.keyedvectors.Vocab at 0x7f7b240433d0>,\n",
              " 'islam': <gensim.models.keyedvectors.Vocab at 0x7f7b24043410>,\n",
              " 'fighter': <gensim.models.keyedvectors.Vocab at 0x7f7b24043450>,\n",
              " 'nangarhar': <gensim.models.keyedvectors.Vocab at 0x7f7b24043490>,\n",
              " 'provinc': <gensim.models.keyedvectors.Vocab at 0x7f7b240434d0>,\n",
              " 'next': <gensim.models.keyedvectors.Vocab at 0x7f7b24043510>,\n",
              " 'unusu': <gensim.models.keyedvectors.Vocab at 0x7f7b24043550>,\n",
              " 'rapid': <gensim.models.keyedvectors.Vocab at 0x7f7b24043590>,\n",
              " 'statement': <gensim.models.keyedvectors.Vocab at 0x7f7b240435d0>,\n",
              " 'injur': <gensim.models.keyedvectors.Vocab at 0x7f7b24043610>,\n",
              " 'celebr': <gensim.models.keyedvectors.Vocab at 0x7f7b24043650>,\n",
              " 'tribal': <gensim.models.keyedvectors.Vocab at 0x7f7b24043690>,\n",
              " 'elder': <gensim.models.keyedvectors.Vocab at 0x7f7b240436d0>,\n",
              " 'return': <gensim.models.keyedvectors.Vocab at 0x7f7b24043710>,\n",
              " 'pilgrimag': <gensim.models.keyedvectors.Vocab at 0x7f7b24043750>,\n",
              " 'mecca': <gensim.models.keyedvectors.Vocab at 0x7f7b24043790>,\n",
              " 'spoke': <gensim.models.keyedvectors.Vocab at 0x7f7b240437d0>,\n",
              " 'man': <gensim.models.keyedvectors.Vocab at 0x7f7b24043810>,\n",
              " 'name': <gensim.models.keyedvectors.Vocab at 0x7f7b24043850>,\n",
              " 'haji': <gensim.models.keyedvectors.Vocab at 0x7f7b24043890>,\n",
              " 'rai': <gensim.models.keyedvectors.Vocab at 0x7f7b240438d0>,\n",
              " 'owner': <gensim.models.keyedvectors.Vocab at 0x7f7b24043910>,\n",
              " 'target': <gensim.models.keyedvectors.Vocab at 0x7f7b24043950>,\n",
              " 'verifi': <gensim.models.keyedvectors.Vocab at 0x7f7b24043990>,\n",
              " 'ident': <gensim.models.keyedvectors.Vocab at 0x7f7b240439d0>,\n",
              " 'die': <gensim.models.keyedvectors.Vocab at 0x7f7b24043a10>,\n",
              " 'son': <gensim.models.keyedvectors.Vocab at 0x7f7b24043a50>,\n",
              " 'headmast': <gensim.models.keyedvectors.Vocab at 0x7f7b24043a90>,\n",
              " 'local': <gensim.models.keyedvectors.Vocab at 0x7f7b24043ad0>,\n",
              " 'abdul': <gensim.models.keyedvectors.Vocab at 0x7f7b24043b10>,\n",
              " 'hakim': <gensim.models.keyedvectors.Vocab at 0x7f7b24043b50>,\n",
              " 'lost': <gensim.models.keyedvectors.Vocab at 0x7f7b24043b90>,\n",
              " 'three': <gensim.models.keyedvectors.Vocab at 0x7f7b24043bd0>,\n",
              " 'involv': <gensim.models.keyedvectors.Vocab at 0x7f7b24043c10>,\n",
              " 'deni': <gensim.models.keyedvectors.Vocab at 0x7f7b24043c50>,\n",
              " 'visit': <gensim.models.keyedvectors.Vocab at 0x7f7b24043c90>,\n",
              " 'phone': <gensim.models.keyedvectors.Vocab at 0x7f7b24043cd0>,\n",
              " 'alon': <gensim.models.keyedvectors.Vocab at 0x7f7b24043d10>,\n",
              " 'death': <gensim.models.keyedvectors.Vocab at 0x7f7b24043d50>,\n",
              " 'amount': <gensim.models.keyedvectors.Vocab at 0x7f7b24043d90>,\n",
              " 'confirm': <gensim.models.keyedvectors.Vocab at 0x7f7b24043dd0>,\n",
              " 'kunduz': <gensim.models.keyedvectors.Vocab at 0x7f7b24043e10>,\n",
              " '42': <gensim.models.keyedvectors.Vocab at 0x7f7b24043e50>,\n",
              " 'data': <gensim.models.keyedvectors.Vocab at 0x7f7b24043e90>,\n",
              " 'indic': <gensim.models.keyedvectors.Vocab at 0x7f7b24043ed0>,\n",
              " '45': <gensim.models.keyedvectors.Vocab at 0x7f7b24043f10>,\n",
              " 'soldier': <gensim.models.keyedvectors.Vocab at 0x7f7b24043f50>,\n",
              " 'four': <gensim.models.keyedvectors.Vocab at 0x7f7b24043f90>,\n",
              " 'somalia': <gensim.models.keyedvectors.Vocab at 0x7f7b24043fd0>,\n",
              " '18': <gensim.models.keyedvectors.Vocab at 0x7f7b24047050>,\n",
              " 'pair': <gensim.models.keyedvectors.Vocab at 0x7f7b24047090>,\n",
              " 'eight': <gensim.models.keyedvectors.Vocab at 0x7f7b240470d0>,\n",
              " 'afghan': <gensim.models.keyedvectors.Vocab at 0x7f7b24047110>,\n",
              " 'policemen': <gensim.models.keyedvectors.Vocab at 0x7f7b24047150>,\n",
              " 'capit': <gensim.models.keyedvectors.Vocab at 0x7f7b24047190>,\n",
              " 'jet': <gensim.models.keyedvectors.Vocab at 0x7f7b240471d0>,\n",
              " 'reportedli': <gensim.models.keyedvectors.Vocab at 0x7f7b24047210>,\n",
              " 'polic': <gensim.models.keyedvectors.Vocab at 0x7f7b24047250>,\n",
              " 'checkpoint': <gensim.models.keyedvectors.Vocab at 0x7f7b24047290>,\n",
              " 'respond': <gensim.models.keyedvectors.Vocab at 0x7f7b240472d0>,\n",
              " 'known': <gensim.models.keyedvectors.Vocab at 0x7f7b24047310>,\n",
              " 'controversi': <gensim.models.keyedvectors.Vocab at 0x7f7b24047350>,\n",
              " 'rescuer': <gensim.models.keyedvectors.Vocab at 0x7f7b24047390>,\n",
              " 'individu': <gensim.models.keyedvectors.Vocab at 0x7f7b240473d0>,\n",
              " 'pose': <gensim.models.keyedvectors.Vocab at 0x7f7b24047410>,\n",
              " 'threat': <gensim.models.keyedvectors.Vocab at 0x7f7b24047450>,\n",
              " 'directli': <gensim.models.keyedvectors.Vocab at 0x7f7b24047490>,\n",
              " 'alleg': <gensim.models.keyedvectors.Vocab at 0x7f7b240474d0>,\n",
              " 'citizen': <gensim.models.keyedvectors.Vocab at 0x7f7b24047510>,\n",
              " 'burnt': <gensim.models.keyedvectors.Vocab at 0x7f7b24047550>,\n",
              " 'flag': <gensim.models.keyedvectors.Vocab at 0x7f7b24047590>,\n",
              " 'street': <gensim.models.keyedvectors.Vocab at 0x7f7b240475d0>,\n",
              " 'citi': <gensim.models.keyedvectors.Vocab at 0x7f7b24047610>,\n",
              " 'unintent': <gensim.models.keyedvectors.Vocab at 0x7f7b24047650>,\n",
              " '22': <gensim.models.keyedvectors.Vocab at 0x7f7b24047690>,\n",
              " 'somali': <gensim.models.keyedvectors.Vocab at 0x7f7b240476d0>,\n",
              " 'occur': <gensim.models.keyedvectors.Vocab at 0x7f7b24047710>,\n",
              " 'incid': <gensim.models.keyedvectors.Vocab at 0x7f7b24047750>,\n",
              " 'noncombat': <gensim.models.keyedvectors.Vocab at 0x7f7b24047790>,\n",
              " 'iranian': <gensim.models.keyedvectors.Vocab at 0x7f7b240477d0>,\n",
              " 'jail': <gensim.models.keyedvectors.Vocab at 0x7f7b24047810>,\n",
              " 'fiction': <gensim.models.keyedvectors.Vocab at 0x7f7b24047850>,\n",
              " 'unpublish': <gensim.models.keyedvectors.Vocab at 0x7f7b24047890>,\n",
              " 'stone': <gensim.models.keyedvectors.Vocab at 0x7f7b240478d0>,\n",
              " 'adulteri': <gensim.models.keyedvectors.Vocab at 0x7f7b24047910>,\n",
              " 'print': <gensim.models.keyedvectors.Vocab at 0x7f7b24047950>,\n",
              " 'sentenc': <gensim.models.keyedvectors.Vocab at 0x7f7b24047990>,\n",
              " 'six': <gensim.models.keyedvectors.Vocab at 0x7f7b240479d0>,\n",
              " 'prison': <gensim.models.keyedvectors.Vocab at 0x7f7b24047a10>,\n",
              " 'iran': <gensim.models.keyedvectors.Vocab at 0x7f7b24047a50>,\n",
              " 'revolutionari': <gensim.models.keyedvectors.Vocab at 0x7f7b24047a90>,\n",
              " 'guard': <gensim.models.keyedvectors.Vocab at 0x7f7b24047ad0>,\n",
              " 'home': <gensim.models.keyedvectors.Vocab at 0x7f7b24047b10>,\n",
              " 'notebook': <gensim.models.keyedvectors.Vocab at 0x7f7b24047b50>,\n",
              " 'shed': <gensim.models.keyedvectors.Vocab at 0x7f7b24047b90>,\n",
              " 'written': <gensim.models.keyedvectors.Vocab at 0x7f7b24047bd0>,\n",
              " 'eurasia': <gensim.models.keyedvectors.Vocab at 0x7f7b24047c10>,\n",
              " '35': <gensim.models.keyedvectors.Vocab at 0x7f7b24047c50>,\n",
              " 'wife': <gensim.models.keyedvectors.Vocab at 0x7f7b24047c90>,\n",
              " 'sadeghi': <gensim.models.keyedvectors.Vocab at 0x7f7b24047cd0>,\n",
              " '36': <gensim.models.keyedvectors.Vocab at 0x7f7b24047d10>,\n",
              " 'human': <gensim.models.keyedvectors.Vocab at 0x7f7b24047d50>,\n",
              " 'activist': <gensim.models.keyedvectors.Vocab at 0x7f7b24047d90>,\n",
              " 'report': <gensim.models.keyedvectors.Vocab at 0x7f7b24047dd0>,\n",
              " 'arrest': <gensim.models.keyedvectors.Vocab at 0x7f7b24047e10>,\n",
              " 'husband': <gensim.models.keyedvectors.Vocab at 0x7f7b24047e50>,\n",
              " 'raid': <gensim.models.keyedvectors.Vocab at 0x7f7b24047e90>,\n",
              " 'apart': <gensim.models.keyedvectors.Vocab at 0x7f7b24047ed0>,\n",
              " 'without': <gensim.models.keyedvectors.Vocab at 0x7f7b24047f10>,\n",
              " 'warrant': <gensim.models.keyedvectors.Vocab at 0x7f7b24047f50>,\n",
              " 'draft': <gensim.models.keyedvectors.Vocab at 0x7f7b24047f90>,\n",
              " 'articl': <gensim.models.keyedvectors.Vocab at 0x7f7b24047fd0>,\n",
              " 'confisc': <gensim.models.keyedvectors.Vocab at 0x7f7b2404a050>,\n",
              " 'women': <gensim.models.keyedvectors.Vocab at 0x7f7b2404a090>,\n",
              " 'publish': <gensim.models.keyedvectors.Vocab at 0x7f7b2404a0d0>,\n",
              " 'anyon': <gensim.models.keyedvectors.Vocab at 0x7f7b2404a110>,\n",
              " 'narr': <gensim.models.keyedvectors.Vocab at 0x7f7b2404a150>,\n",
              " 'protagonist': <gensim.models.keyedvectors.Vocab at 0x7f7b2404a190>,\n",
              " 'watch': <gensim.models.keyedvectors.Vocab at 0x7f7b2404a1d0>,\n",
              " 'movi': <gensim.models.keyedvectors.Vocab at 0x7f7b2404a210>,\n",
              " 'law': <gensim.models.keyedvectors.Vocab at 0x7f7b2404a250>,\n",
              " 'jacki': <gensim.models.keyedvectors.Vocab at 0x7f7b2404a290>,\n",
              " 'mason': <gensim.models.keyedvectors.Vocab at 0x7f7b2404a2d0>,\n",
              " 'hollywood': <gensim.models.keyedvectors.Vocab at 0x7f7b2404a310>,\n",
              " 'love': <gensim.models.keyedvectors.Vocab at 0x7f7b2404a350>,\n",
              " 'bomb': <gensim.models.keyedvectors.Vocab at 0x7f7b2404a390>,\n",
              " 'korea': <gensim.models.keyedvectors.Vocab at 0x7f7b2404a3d0>,\n",
              " 'tran': <gensim.models.keyedvectors.Vocab at 0x7f7b2404a410>,\n",
              " 'bathroom': <gensim.models.keyedvectors.Vocab at 0x7f7b2404a450>,\n",
              " 'exclus': <gensim.models.keyedvectors.Vocab at 0x7f7b2404a490>,\n",
              " 'week': <gensim.models.keyedvectors.Vocab at 0x7f7b2404a4d0>,\n",
              " ...}"
            ]
          },
          "metadata": {},
          "execution_count": 10
        }
      ]
    },
    {
      "cell_type": "code",
      "source": [
        "model.wv.most_similar(\"democrat\")"
      ],
      "metadata": {
        "colab": {
          "base_uri": "https://localhost:8080/"
        },
        "id": "VZxFoJyEBg54",
        "outputId": "db6301bd-c265-4df3-b5f1-d6ae1ddb2009"
      },
      "execution_count": null,
      "outputs": [
        {
          "output_type": "execute_result",
          "data": {
            "text/plain": [
              "[('republican', 0.855959415435791),\n",
              " ('gop', 0.7109729647636414),\n",
              " ('incumb', 0.6944029927253723),\n",
              " ('superdeleg', 0.6415075063705444),\n",
              " ('bipartisan', 0.6388217210769653),\n",
              " ('constitu', 0.6322923302650452),\n",
              " ('conserv', 0.6103998422622681),\n",
              " ('senat', 0.6072127819061279),\n",
              " ('congressmen', 0.5920042991638184),\n",
              " ('filibust', 0.587761402130127)]"
            ]
          },
          "metadata": {},
          "execution_count": 11
        }
      ]
    },
    {
      "cell_type": "code",
      "source": [
        "model.wv.vectors"
      ],
      "metadata": {
        "colab": {
          "base_uri": "https://localhost:8080/"
        },
        "id": "nfxVjfYZCLmq",
        "outputId": "61c2c95e-38b6-4c9c-c62f-928611186173"
      },
      "execution_count": null,
      "outputs": [
        {
          "output_type": "execute_result",
          "data": {
            "text/plain": [
              "array([[ 0.6103215 , -2.5148368 ,  0.60511196, ..., -0.09141511,\n",
              "        -1.5074288 ,  2.532957  ],\n",
              "       [-0.38420817,  0.4463487 , -1.1149518 , ...,  1.5803078 ,\n",
              "        -0.28642476, -0.9606708 ],\n",
              "       [-1.6360127 , -0.9121378 , -0.73103625, ..., -1.1250101 ,\n",
              "         2.0896308 ,  0.03086756],\n",
              "       ...,\n",
              "       [-0.02727876,  0.00461281, -0.03647577, ..., -0.10297391,\n",
              "        -0.03992091,  0.07253943],\n",
              "       [ 0.04656462, -0.02098807, -0.01985152, ..., -0.07737929,\n",
              "        -0.06716258,  0.07350485],\n",
              "       [ 0.05158159,  0.0436484 , -0.07358016, ..., -0.08161225,\n",
              "        -0.10841641, -0.00650284]], dtype=float32)"
            ]
          },
          "metadata": {},
          "execution_count": 12
        }
      ]
    },
    {
      "cell_type": "markdown",
      "source": [
        "Pytorch"
      ],
      "metadata": {
        "id": "U1d1zBfNCVyt"
      }
    },
    {
      "cell_type": "code",
      "source": [
        "class MyBackpack():\n",
        "  pass"
      ],
      "metadata": {
        "id": "AprJ8JQ1CTaa"
      },
      "execution_count": null,
      "outputs": []
    },
    {
      "cell_type": "code",
      "source": [
        "class MyBackPack():\n",
        "  def __init__(self):\n",
        "    self.container = []\n",
        "\n",
        "  def hold(self, obj):\n",
        "    self.container.append(obj)  "
      ],
      "metadata": {
        "id": "ykkBaw2BCoGW"
      },
      "execution_count": null,
      "outputs": []
    },
    {
      "cell_type": "code",
      "source": [
        "backpack = MyBackPack()\n",
        "backpack.hold(\"candy\")\n"
      ],
      "metadata": {
        "id": "tMNAEkbEC-Oh"
      },
      "execution_count": null,
      "outputs": []
    },
    {
      "cell_type": "code",
      "source": [
        "print(backpack.container)"
      ],
      "metadata": {
        "colab": {
          "base_uri": "https://localhost:8080/"
        },
        "id": "pK7WUpYzDKtl",
        "outputId": "ca3e464f-f463-4018-d6c0-5052d57403bf"
      },
      "execution_count": null,
      "outputs": [
        {
          "output_type": "stream",
          "name": "stdout",
          "text": [
            "['candy']\n"
          ]
        }
      ]
    },
    {
      "cell_type": "code",
      "source": [
        "class Container():\n",
        "  def __init__(self):\n",
        "    self.message = 'I am a container whoo'"
      ],
      "metadata": {
        "id": "2pUpLOdFDQtm"
      },
      "execution_count": null,
      "outputs": []
    },
    {
      "cell_type": "code",
      "source": [
        "class MyBackPack(Container):\n",
        "  def __init__(self):\n",
        "    super().__init__()\n",
        "    self.container = []\n",
        "\n",
        "  def hold(self, obj):\n",
        "    self.container.append(obj)  "
      ],
      "metadata": {
        "id": "z01zCxXHDqZN"
      },
      "execution_count": null,
      "outputs": []
    },
    {
      "cell_type": "code",
      "source": [
        "backpack = MyBackPack()\n",
        "backpack.hold(\"candy\")"
      ],
      "metadata": {
        "id": "xMPHdfqWDqVy"
      },
      "execution_count": null,
      "outputs": []
    },
    {
      "cell_type": "code",
      "source": [
        "print(backpack.message)"
      ],
      "metadata": {
        "colab": {
          "base_uri": "https://localhost:8080/"
        },
        "id": "VpCqGEwPDqSV",
        "outputId": "67a48fec-e29f-4565-a2bd-7ce8e5c6e11b"
      },
      "execution_count": null,
      "outputs": [
        {
          "output_type": "stream",
          "name": "stdout",
          "text": [
            "I am a container whoo\n"
          ]
        }
      ]
    },
    {
      "cell_type": "markdown",
      "source": [
        "Import the torch package"
      ],
      "metadata": {
        "id": "sOVmrh0FEcSa"
      }
    },
    {
      "cell_type": "code",
      "source": [
        "import torch\n",
        "import torch.nn as nn"
      ],
      "metadata": {
        "id": "jKdvWMdHDqOC"
      },
      "execution_count": null,
      "outputs": []
    },
    {
      "cell_type": "markdown",
      "source": [
        "Create neural network. This network is a simple two layer neural network that takes features in the first layer and outputs predictions within the second layer"
      ],
      "metadata": {
        "id": "SKeMt27gEmqP"
      }
    },
    {
      "cell_type": "code",
      "source": [
        "class FirstNeuralNetwork(nn.Module):\n",
        "  def __init__(self, input_size, hidden_size, num_classes):\n",
        "    super().__init__()\n",
        "    self.layer1 = nn.Linear(input_size, hidden_size)\n",
        "    self.relu = nn.ReLU()\n",
        "    self.layer2 = nn.Linear(hidden_size, num_classes)\n",
        "\n",
        "  def forward(self, x):\n",
        "    pass  "
      ],
      "metadata": {
        "id": "0HYVConaEjzr"
      },
      "execution_count": null,
      "outputs": []
    },
    {
      "cell_type": "markdown",
      "source": [
        "Every model created using pytorch must define a function called forward, which takes in the data you want to pass into your network and spits out the outut of the network"
      ],
      "metadata": {
        "id": "wkghtbwFMeg-"
      }
    },
    {
      "cell_type": "code",
      "source": [
        "class FirstNeuralNetwork(nn.Module):\n",
        "  def __init__(self, input_size, hidden_size, num_classes):\n",
        "    super().__init__()\n",
        "    self.layer1 = nn.Linear(input_size, hidden_size)\n",
        "    self.relu = nn.ReLU()\n",
        "    self.layer2 = nn.Linear(hidden_size, num_classes)\n",
        "\n",
        "  def forward(self, data_input):\n",
        "    output_layer1 = self.layer1(data_input)\n",
        "    output_layer1 = self.relu(output_layer1)\n",
        "    output_layer2 = self.layer2(output_layer1)\n",
        "\n",
        "    return output_layer2\n"
      ],
      "metadata": {
        "id": "7k6jcdXqF7Ja"
      },
      "execution_count": null,
      "outputs": []
    },
    {
      "cell_type": "markdown",
      "source": [
        "the model"
      ],
      "metadata": {
        "id": "sizPKMy3PhG2"
      }
    },
    {
      "cell_type": "code",
      "source": [
        "first_neural_network = FirstNeuralNetwork(300, 100, 2)\n",
        "print(first_neural_network)"
      ],
      "metadata": {
        "colab": {
          "base_uri": "https://localhost:8080/"
        },
        "id": "H81nPpGvPC1O",
        "outputId": "3a61befa-8469-4120-90f6-64ea5c35b131"
      },
      "execution_count": null,
      "outputs": [
        {
          "output_type": "stream",
          "name": "stdout",
          "text": [
            "FirstNeuralNetwork(\n",
            "  (layer1): Linear(in_features=300, out_features=100, bias=True)\n",
            "  (relu): ReLU()\n",
            "  (layer2): Linear(in_features=100, out_features=2, bias=True)\n",
            ")\n"
          ]
        }
      ]
    },
    {
      "cell_type": "markdown",
      "source": [
        "Train a model"
      ],
      "metadata": {
        "id": "aSb-G9QDP_ZO"
      }
    },
    {
      "cell_type": "code",
      "source": [
        "sentence_length = training_data.title_txt.apply(lambda x: x.split(\" \")).apply(len).max()\n",
        "sentence_length"
      ],
      "metadata": {
        "colab": {
          "base_uri": "https://localhost:8080/"
        },
        "id": "UekyldX0P872",
        "outputId": "4150144b-1f3d-4a15-f15d-7075263167e0"
      },
      "execution_count": null,
      "outputs": [
        {
          "output_type": "execute_result",
          "data": {
            "text/plain": [
              "20480"
            ]
          },
          "metadata": {},
          "execution_count": 25
        }
      ]
    },
    {
      "cell_type": "code",
      "source": [
        ""
      ],
      "metadata": {
        "id": "pUSM9PuuUyxL"
      },
      "execution_count": null,
      "outputs": []
    },
    {
      "cell_type": "markdown",
      "source": [
        "Get a dictionary mapping of the vocab"
      ],
      "metadata": {
        "id": "e87dZj3EQqhl"
      }
    },
    {
      "cell_type": "code",
      "source": [
        "word_map = {\n",
        "    word:idx\n",
        "    for idx,word in enumerate(model.wv.vocab, start=2)\n",
        "}\n",
        "word_map"
      ],
      "metadata": {
        "colab": {
          "base_uri": "https://localhost:8080/"
        },
        "id": "3UfPEpu_Uz-7",
        "outputId": "4bb0bbc5-ba3c-4a57-8715-3b6e41cf2972"
      },
      "execution_count": null,
      "outputs": [
        {
          "output_type": "execute_result",
          "data": {
            "text/plain": [
              "{'hous': 2,\n",
              " 'dem': 3,\n",
              " 'aid': 4,\n",
              " 'didnt': 5,\n",
              " 'even': 6,\n",
              " 'see': 7,\n",
              " 'comey': 8,\n",
              " 'letter': 9,\n",
              " 'jason': 10,\n",
              " 'chaffetz': 11,\n",
              " 'tweet': 12,\n",
              " 'darrel': 13,\n",
              " 'lucu': 14,\n",
              " 'octob': 15,\n",
              " '30': 16,\n",
              " '2016': 17,\n",
              " 'subscrib': 18,\n",
              " 'stump': 19,\n",
              " 'american': 20,\n",
              " 'fork': 21,\n",
              " 'utah': 22,\n",
              " '': 23,\n",
              " 'imag': 24,\n",
              " 'courtesi': 25,\n",
              " 'michael': 26,\n",
              " 'avail': 27,\n",
              " 'creativ': 28,\n",
              " 'licens': 29,\n",
              " 'apolog': 30,\n",
              " 'keith': 31,\n",
              " 'olbermann': 32,\n",
              " 'doubt': 33,\n",
              " 'worst': 34,\n",
              " 'person': 35,\n",
              " 'world': 36,\n",
              " 'director': 37,\n",
              " 'jame': 38,\n",
              " 'accord': 39,\n",
              " 'democrat': 40,\n",
              " 'look': 41,\n",
              " 'like': 42,\n",
              " 'also': 43,\n",
              " 'know': 44,\n",
              " 'well': 45,\n",
              " 'turn': 46,\n",
              " 'sent': 47,\n",
              " 'nowinfam': 48,\n",
              " 'announc': 49,\n",
              " 'fbi': 50,\n",
              " 'email': 51,\n",
              " 'may': 52,\n",
              " 'relat': 53,\n",
              " 'hillari': 54,\n",
              " 'clinton': 55,\n",
              " 'server': 56,\n",
              " 'rank': 57,\n",
              " 'relev': 58,\n",
              " 'committe': 59,\n",
              " 'hear': 60,\n",
              " 'found': 61,\n",
              " 'via': 62,\n",
              " 'one': 63,\n",
              " 'republican': 64,\n",
              " 'chairmen': 65,\n",
              " 'notifi': 66,\n",
              " 'member': 67,\n",
              " 'intellig': 68,\n",
              " 'judiciari': 69,\n",
              " 'oversight': 70,\n",
              " 'agenc': 71,\n",
              " 'review': 72,\n",
              " 'recent': 73,\n",
              " 'discov': 74,\n",
              " 'order': 75,\n",
              " 'contain': 76,\n",
              " 'classifi': 77,\n",
              " 'inform': 78,\n",
              " 'long': 79,\n",
              " 'went': 80,\n",
              " 'chairman': 81,\n",
              " 'set': 82,\n",
              " 'polit': 83,\n",
              " 'ablaz': 84,\n",
              " 'dir': 85,\n",
              " 'learn': 86,\n",
              " 'exist': 87,\n",
              " 'appear': 88,\n",
              " 'pertin': 89,\n",
              " 'investig': 90,\n",
              " 'case': 91,\n",
              " 'reopen': 92,\n",
              " '—': 93,\n",
              " 'jasoninthehous': 94,\n",
              " '28': 95,\n",
              " 'cours': 96,\n",
              " 'actual': 97,\n",
              " 'say': 98,\n",
              " 'light': 99,\n",
              " 'unrel': 100,\n",
              " 'anthoni': 101,\n",
              " 'weiner': 102,\n",
              " 'sext': 103,\n",
              " 'teenag': 104,\n",
              " 'appar': 105,\n",
              " 'littl': 106,\n",
              " 'thing': 107,\n",
              " 'fact': 108,\n",
              " 'matter': 109,\n",
              " 'alreadi': 110,\n",
              " 'vow': 111,\n",
              " 'initi': 112,\n",
              " 'raft': 113,\n",
              " 'least': 114,\n",
              " 'two': 115,\n",
              " 'year': 116,\n",
              " 'worth': 117,\n",
              " 'possibl': 118,\n",
              " 'entir': 119,\n",
              " 'term': 120,\n",
              " 'thought': 121,\n",
              " 'work': 122,\n",
              " 'briefli': 123,\n",
              " 'roil': 124,\n",
              " 'nation': 125,\n",
              " 'cooler': 126,\n",
              " 'head': 127,\n",
              " 'realiz': 128,\n",
              " 'dud': 129,\n",
              " 'senior': 130,\n",
              " 'misread': 131,\n",
              " 'sin': 132,\n",
              " 'told': 133,\n",
              " 'shareblu': 134,\n",
              " 'boss': 135,\n",
              " 'check': 136,\n",
              " 'twitter': 137,\n",
              " 'receiv': 138,\n",
              " 'govern': 139,\n",
              " 'reform': 140,\n",
              " 'made': 141,\n",
              " 'public': 142,\n",
              " 'let': 143,\n",
              " 'weve': 144,\n",
              " 'got': 145,\n",
              " 'right': 146,\n",
              " 'tell': 147,\n",
              " 'gop': 148,\n",
              " 'major': 149,\n",
              " 'develop': 150,\n",
              " 'potenti': 151,\n",
              " 'explos': 152,\n",
              " 'neither': 153,\n",
              " 'colleagu': 154,\n",
              " 'counterpart': 155,\n",
              " 'instead': 156,\n",
              " 'find': 157,\n",
              " 'talk': 158,\n",
              " 'daili': 159,\n",
              " 'ko': 160,\n",
              " 'provid': 161,\n",
              " 'advanc': 162,\n",
              " 'notic': 163,\n",
              " 'give': 164,\n",
              " 'time': 165,\n",
              " 'spin': 166,\n",
              " 'machin': 167,\n",
              " 'make': 168,\n",
              " 'good': 169,\n",
              " 'theater': 170,\n",
              " 'noth': 171,\n",
              " 'far': 172,\n",
              " 'suggest': 173,\n",
              " 'anyth': 174,\n",
              " 'grossli': 175,\n",
              " 'incompet': 176,\n",
              " 'tonedeaf': 177,\n",
              " 'howev': 178,\n",
              " 'act': 179,\n",
              " 'way': 180,\n",
              " 'dan': 181,\n",
              " 'burton': 182,\n",
              " 'issa': 183,\n",
              " 'model': 184,\n",
              " 'respons': 185,\n",
              " 'bipartisanship': 186,\n",
              " 'decenc': 187,\n",
              " 'elijah': 188,\n",
              " 'cum': 189,\n",
              " 'someth': 190,\n",
              " 'doesnt': 191,\n",
              " 'trampl': 192,\n",
              " 'basic': 193,\n",
              " 'standard': 194,\n",
              " 'fair': 195,\n",
              " 'dont': 196,\n",
              " 'grant': 197,\n",
              " 'answer': 198,\n",
              " 'sit': 199,\n",
              " 'ridicul': 200,\n",
              " 'district': 201,\n",
              " 'anchor': 202,\n",
              " 'provo': 203,\n",
              " 'cook': 204,\n",
              " 'partisan': 205,\n",
              " 'vote': 206,\n",
              " 'index': 207,\n",
              " 'gave': 208,\n",
              " 'mitt': 209,\n",
              " 'romney': 210,\n",
              " 'punish': 211,\n",
              " '78': 212,\n",
              " 'percent': 213,\n",
              " '2012': 214,\n",
              " 'moreov': 215,\n",
              " 'leadership': 216,\n",
              " 'given': 217,\n",
              " 'full': 218,\n",
              " 'support': 219,\n",
              " 'plan': 220,\n",
              " 'fish': 221,\n",
              " 'expedit': 222,\n",
              " 'mean': 223,\n",
              " 'cant': 224,\n",
              " 'hot': 225,\n",
              " 'textbook': 226,\n",
              " 'exampl': 227,\n",
              " 'becom': 228,\n",
              " 'control': 229,\n",
              " 'second': 230,\n",
              " '30someth': 231,\n",
              " 'graduat': 232,\n",
              " 'univers': 233,\n",
              " 'north': 234,\n",
              " 'carolina': 235,\n",
              " 'consid': 236,\n",
              " 'journalist': 237,\n",
              " 'old': 238,\n",
              " 'school': 239,\n",
              " 'attempt': 240,\n",
              " 'religi': 241,\n",
              " 'colleg': 242,\n",
              " 'succeed': 243,\n",
              " 'nightmarea': 244,\n",
              " 'charismat': 245,\n",
              " 'christian': 246,\n",
              " 'unapologet': 247,\n",
              " 'liber': 248,\n",
              " 'desir': 249,\n",
              " 'stand': 250,\n",
              " 'scare': 251,\n",
              " 'silenc': 252,\n",
              " 'increas': 253,\n",
              " 'surviv': 254,\n",
              " 'abus': 255,\n",
              " 'threeyear': 256,\n",
              " 'marriag': 257,\n",
              " 'nc': 258,\n",
              " 'follow': 259,\n",
              " 'darrelllucu': 260,\n",
              " 'connect': 261,\n",
              " 'facebook': 262,\n",
              " 'click': 263,\n",
              " 'buy': 264,\n",
              " 'mello': 265,\n",
              " 'yello': 266,\n",
              " 'flynn': 267,\n",
              " 'big': 268,\n",
              " 'woman': 269,\n",
              " 'campu': 270,\n",
              " 'breitbart': 271,\n",
              " 'ever': 272,\n",
              " 'get': 273,\n",
              " 'feel': 274,\n",
              " 'life': 275,\n",
              " 'circl': 276,\n",
              " 'roundabout': 277,\n",
              " 'rather': 278,\n",
              " 'straight': 279,\n",
              " 'line': 280,\n",
              " 'toward': 281,\n",
              " 'intend': 282,\n",
              " 'destin': 283,\n",
              " 'remain': 284,\n",
              " 'leafi': 285,\n",
              " 'wellesley': 286,\n",
              " 'massachusett': 287,\n",
              " 'everywher': 288,\n",
              " 'els': 289,\n",
              " 'inaugur': 290,\n",
              " 'dress': 291,\n",
              " 'remaind': 292,\n",
              " 'day': 293,\n",
              " 'miss': 294,\n",
              " 'forev': 295,\n",
              " 'wore': 296,\n",
              " 'wed': 297,\n",
              " 'speak': 298,\n",
              " 'great': 299,\n",
              " 'expect': 300,\n",
              " 'rodham': 301,\n",
              " 'overflow': 302,\n",
              " '48': 303,\n",
              " 'ago': 304,\n",
              " 'first': 305,\n",
              " 'address': 306,\n",
              " 'class': 307,\n",
              " 'presid': 308,\n",
              " 'gather': 309,\n",
              " '1969': 310,\n",
              " 'student': 311,\n",
              " 'need': 312,\n",
              " 'debat': 313,\n",
              " 'could': 314,\n",
              " 'ascertain': 315,\n",
              " 'spokesman': 316,\n",
              " 'kind': 317,\n",
              " 'primari': 318,\n",
              " 'minu': 319,\n",
              " 'unknown': 320,\n",
              " 'seven': 321,\n",
              " 'sister': 322,\n",
              " 'glad': 323,\n",
              " 'adam': 324,\n",
              " 'clear': 325,\n",
              " 'today': 326,\n",
              " 'us': 327,\n",
              " '400': 328,\n",
              " 'classmat': 329,\n",
              " 'appoint': 330,\n",
              " 'bergen': 331,\n",
              " 'charli': 332,\n",
              " 'mccarthi': 333,\n",
              " 'attend': 334,\n",
              " 'bespectacl': 335,\n",
              " 'granni': 336,\n",
              " 'glass': 337,\n",
              " 'award': 338,\n",
              " 'wisdom': 339,\n",
              " 'john': 340,\n",
              " 'lennon': 341,\n",
              " 'took': 342,\n",
              " 'issu': 343,\n",
              " 'previou': 344,\n",
              " 'speaker': 345,\n",
              " 'despit': 346,\n",
              " 'win': 347,\n",
              " 'elect': 348,\n",
              " 'seat': 349,\n",
              " 'u': 350,\n",
              " 'senat': 351,\n",
              " 'sinc': 352,\n",
              " 'reconstruct': 353,\n",
              " 'edward': 354,\n",
              " 'brook': 355,\n",
              " 'came': 356,\n",
              " 'critic': 357,\n",
              " 'call': 358,\n",
              " 'empathi': 359,\n",
              " 'goal': 360,\n",
              " 'protestor': 361,\n",
              " 'tactic': 362,\n",
              " 'though': 363,\n",
              " 'thesi': 364,\n",
              " 'saul': 365,\n",
              " 'alinski': 366,\n",
              " 'lament': 367,\n",
              " 'black': 368,\n",
              " 'power': 369,\n",
              " 'demagogu': 370,\n",
              " 'elitist': 371,\n",
              " 'arrog': 372,\n",
              " 'repress': 373,\n",
              " 'intoler': 374,\n",
              " 'within': 375,\n",
              " 'new': 376,\n",
              " 'left': 377,\n",
              " 'similar': 378,\n",
              " 'word': 379,\n",
              " 'come': 380,\n",
              " 'necessit': 381,\n",
              " 'brief': 382,\n",
              " 'rebutt': 383,\n",
              " 'trust': 384,\n",
              " 'iron': 385,\n",
              " 'observ': 386,\n",
              " 'ask': 387,\n",
              " 'rehears': 388,\n",
              " 'want': 389,\n",
              " 'everyon': 390,\n",
              " 'said': 391,\n",
              " 'lack': 392,\n",
              " 'other': 393,\n",
              " 'bust': 394,\n",
              " 'permeat': 395,\n",
              " 'gener': 396,\n",
              " 'perhap': 397,\n",
              " 'understood': 398,\n",
              " 'distrust': 399,\n",
              " 'certainli': 400,\n",
              " 'understand': 401,\n",
              " 'peopl': 402,\n",
              " 'whitewat': 403,\n",
              " 'travelg': 404,\n",
              " 'vast': 405,\n",
              " 'conspiraci': 406,\n",
              " 'benghazi': 407,\n",
              " 'voic': 408,\n",
              " 'friday': 409,\n",
              " 'load': 410,\n",
              " 'compromis': 411,\n",
              " 'road': 412,\n",
              " 'broaden': 413,\n",
              " 'horizon': 414,\n",
              " 'trump': 415,\n",
              " 'edg': 416,\n",
              " '38': 417,\n",
              " 'question': 418,\n",
              " 'immedi': 419,\n",
              " 'prior': 420,\n",
              " 'novemb': 421,\n",
              " 'stood': 422,\n",
              " 'reason': 423,\n",
              " 'close': 424,\n",
              " 'describ': 425,\n",
              " 'vanquish': 426,\n",
              " 'embrac': 427,\n",
              " 'lie': 428,\n",
              " 'con': 429,\n",
              " 'altern': 430,\n",
              " 'assault': 431,\n",
              " 'truth': 432,\n",
              " 'fail': 433,\n",
              " 'explain': 434,\n",
              " 'chose': 435,\n",
              " 'histori': 436,\n",
              " 'among': 437,\n",
              " 'invent': 438,\n",
              " 'attack': 439,\n",
              " 'mark': 440,\n",
              " 'begin': 441,\n",
              " 'end': 442,\n",
              " 'free': 443,\n",
              " 'societi': 444,\n",
              " 'offer': 445,\n",
              " 'hyperbol': 446,\n",
              " 'mani': 447,\n",
              " 'emerg': 448,\n",
              " '1960': 449,\n",
              " 'embark': 450,\n",
              " 'upon': 451,\n",
              " 'strang': 452,\n",
              " 'trip': 453,\n",
              " 'high': 454,\n",
              " 'goldwat': 455,\n",
              " 'girl': 456,\n",
              " 'politician': 457,\n",
              " 'drank': 458,\n",
              " 'place': 459,\n",
              " 'degre': 460,\n",
              " 'significantli': 461,\n",
              " 'idealist': 462,\n",
              " 'cynic': 463,\n",
              " 'comparison': 464,\n",
              " 'commenc': 465,\n",
              " 'show': 466,\n",
              " 'back': 467,\n",
              " 'leader': 468,\n",
              " 'view': 469,\n",
              " 'art': 470,\n",
              " 'challeng': 471,\n",
              " 'practic': 472,\n",
              " 'imposs': 473,\n",
              " 'odd': 474,\n",
              " 'white': 475,\n",
              " 'wonder': 476,\n",
              " 'current': 477,\n",
              " 'station': 478,\n",
              " 'arent': 479,\n",
              " '50': 480,\n",
              " 'point': 481,\n",
              " 'ahead': 482,\n",
              " 'septemb': 483,\n",
              " 'isnt': 484,\n",
              " 'famous': 485,\n",
              " 'dub': 486,\n",
              " 'congenit': 487,\n",
              " 'liar': 488,\n",
              " 'bill': 489,\n",
              " 'safir': 490,\n",
              " 'conclud': 491,\n",
              " 'mind': 492,\n",
              " 'jilt': 493,\n",
              " 'bride': 494,\n",
              " 'inspir': 495,\n",
              " 'danger': 496,\n",
              " 'delus': 497,\n",
              " 'might': 498,\n",
              " 'fire': 499,\n",
              " '29': 500,\n",
              " 'tension': 501,\n",
              " 'analyst': 502,\n",
              " 'policymak': 503,\n",
              " 'alway': 504,\n",
              " 'honest': 505,\n",
              " 'assess': 506,\n",
              " 'result': 507,\n",
              " 'latter': 508,\n",
              " 'often': 509,\n",
              " 'overwhelm': 510,\n",
              " 'former': 511,\n",
              " 'iraq': 512,\n",
              " 'war': 513,\n",
              " 'write': 514,\n",
              " 'lawrenc': 515,\n",
              " 'davidson': 516,\n",
              " 'foreign': 517,\n",
              " 'polici': 518,\n",
              " 'maker': 519,\n",
              " 'repeatedli': 520,\n",
              " 'bad': 521,\n",
              " 'choic': 522,\n",
              " 'insight': 523,\n",
              " 'drawn': 524,\n",
              " 'analysi': 525,\n",
              " 'action': 526,\n",
              " 'play': 527,\n",
              " 'unit': 528,\n",
              " 'state': 529,\n",
              " 'lesson': 530,\n",
              " 'probabl': 531,\n",
              " 'earli': 532,\n",
              " 'spring': 533,\n",
              " '2003': 534,\n",
              " 'georg': 535,\n",
              " 'w': 536,\n",
              " 'bush': 537,\n",
              " 'invas': 538,\n",
              " 'key': 539,\n",
              " 'claim': 540,\n",
              " 'countri': 541,\n",
              " 'dictat': 542,\n",
              " 'saddam': 543,\n",
              " 'hussein': 544,\n",
              " 'verg': 545,\n",
              " 'nuclear': 546,\n",
              " 'weapon': 547,\n",
              " 'hide': 548,\n",
              " 'mass': 549,\n",
              " 'destruct': 550,\n",
              " 'real': 551,\n",
              " 'beyond': 552,\n",
              " 'charg': 553,\n",
              " 'includ': 554,\n",
              " 'longrang': 555,\n",
              " 'regim': 556,\n",
              " 'chang': 557,\n",
              " 'middl': 558,\n",
              " 'east': 559,\n",
              " 'vice': 560,\n",
              " 'dick': 561,\n",
              " 'cheney': 562,\n",
              " 'oval': 563,\n",
              " 'offic': 564,\n",
              " 'cia': 565,\n",
              " 'tenet': 566,\n",
              " 'present': 567,\n",
              " 'chief': 568,\n",
              " 'staff': 569,\n",
              " 'andi': 570,\n",
              " 'card': 571,\n",
              " 'photo': 572,\n",
              " 'purpos': 573,\n",
              " 'concentr': 574,\n",
              " 'belief': 575,\n",
              " 'hostil': 576,\n",
              " 'associ': 577,\n",
              " 'accept': 578,\n",
              " 'scenario': 579,\n",
              " 'readili': 580,\n",
              " 'short': 581,\n",
              " 'inde': 582,\n",
              " 'believ': 583,\n",
              " 'rational': 584,\n",
              " 'invad': 585,\n",
              " 'tri': 586,\n",
              " '911': 587,\n",
              " 'never': 588,\n",
              " 'stratagem': 589,\n",
              " 'evid': 590,\n",
              " 'difficult': 591,\n",
              " 'ralli': 592,\n",
              " 'fixat': 593,\n",
              " 'afghanistan': 594,\n",
              " 'baghdad': 595,\n",
              " 'gambit': 596,\n",
              " 'prove': 597,\n",
              " 'fruit': 598,\n",
              " 'hard': 599,\n",
              " 'supposedli': 600,\n",
              " 'reliabl': 601,\n",
              " 'wit': 602,\n",
              " 'exil': 603,\n",
              " 'iraqi': 604,\n",
              " 'payrol': 605,\n",
              " 'kept': 606,\n",
              " 'advis': 607,\n",
              " 'stori': 608,\n",
              " 'true': 609,\n",
              " 'cadr': 610,\n",
              " 'whose': 611,\n",
              " 'worldview': 612,\n",
              " 'liter': 613,\n",
              " 'demand': 614,\n",
              " 'mortal': 615,\n",
              " 'precipit': 616,\n",
              " 'overthrow': 617,\n",
              " 'will': 618,\n",
              " 'tale': 619,\n",
              " 'pend': 620,\n",
              " 'atom': 621,\n",
              " 'strong': 622,\n",
              " 'lower': 623,\n",
              " 'threshold': 624,\n",
              " 'proof': 625,\n",
              " 'likewis': 626,\n",
              " 'repeat': 627,\n",
              " 'assert': 628,\n",
              " 'assum': 629,\n",
              " 'depend': 630,\n",
              " 'sourc': 631,\n",
              " 'underpin': 632,\n",
              " 'nationwid': 633,\n",
              " 'campaign': 634,\n",
              " 'fear': 635,\n",
              " 'fever': 636,\n",
              " 'alli': 637,\n",
              " 'insist': 638,\n",
              " 'send': 639,\n",
              " 'inspector': 640,\n",
              " 'scour': 641,\n",
              " 'program': 642,\n",
              " 'chemic': 643,\n",
              " 'biolog': 644,\n",
              " 'convinc': 645,\n",
              " 'frustrat': 646,\n",
              " 'administr': 647,\n",
              " 'soon': 648,\n",
              " 'forc': 649,\n",
              " 'hand': 650,\n",
              " 'march': 651,\n",
              " '19': 652,\n",
              " 'launch': 653,\n",
              " 'occup': 654,\n",
              " 'would': 655,\n",
              " 'sure': 656,\n",
              " 'nuke': 657,\n",
              " 'stockpil': 658,\n",
              " 'systemat': 659,\n",
              " 'social': 660,\n",
              " 'behavior': 661,\n",
              " 'scienc': 662,\n",
              " 'rescu': 663,\n",
              " 'variou': 664,\n",
              " 'thoroughli': 665,\n",
              " 'shaken': 666,\n",
              " 'affair': 667,\n",
              " '13': 668,\n",
              " 'later': 669,\n",
              " 'manag': 670,\n",
              " 'still': 671,\n",
              " 'sort': 672,\n",
              " '–': 673,\n",
              " 'specif': 674,\n",
              " 'worker': 675,\n",
              " 'put': 676,\n",
              " 'help': 677,\n",
              " 'protect': 678,\n",
              " 'armi': 679,\n",
              " 'snake': 680,\n",
              " 'oil': 681,\n",
              " 'salesmen': 682,\n",
              " 'et': 683,\n",
              " 'al': 684,\n",
              " 'market': 685,\n",
              " 'academ': 686,\n",
              " 'assist': 687,\n",
              " 'ahm': 688,\n",
              " 'chalabi': 689,\n",
              " 'congress': 690,\n",
              " 'supplier': 691,\n",
              " 'defector': 692,\n",
              " 'bogu': 693,\n",
              " 'hidden': 694,\n",
              " 'wmd': 695,\n",
              " 'partnership': 696,\n",
              " 'forg': 697,\n",
              " 'odni': 698,\n",
              " 'serv': 699,\n",
              " 'coordin': 700,\n",
              " 'center': 701,\n",
              " 'sixteen': 702,\n",
              " 'independ': 703,\n",
              " 'academi': 704,\n",
              " 'engin': 705,\n",
              " 'medicin': 706,\n",
              " 'collabor': 707,\n",
              " 'perman': 708,\n",
              " 'commun': 709,\n",
              " 'studi': 710,\n",
              " 'board': 711,\n",
              " 'research': 712,\n",
              " 'strengthen': 713,\n",
              " 'secur': 714,\n",
              " 'effort': 715,\n",
              " 'almost': 716,\n",
              " 'certain': 717,\n",
              " 'cannot': 718,\n",
              " 'spi': 719,\n",
              " 'detect': 720,\n",
              " 'better': 721,\n",
              " 'procedur': 722,\n",
              " 'polygraph': 723,\n",
              " 'test': 724,\n",
              " 'interrog': 725,\n",
              " 'differ': 726,\n",
              " 'problem': 727,\n",
              " 'simpli': 728,\n",
              " 'seem': 729,\n",
              " 'personnel': 730,\n",
              " 'thousand': 731,\n",
              " 'desk': 732,\n",
              " 'specialist': 733,\n",
              " 'approach': 734,\n",
              " 'pretti': 735,\n",
              " 'go': 736,\n",
              " 'syria': 737,\n",
              " 'libya': 738,\n",
              " 'israel': 739,\n",
              " 'palestin': 740,\n",
              " 'elsewher': 741,\n",
              " 'clapper': 742,\n",
              " 'barack': 743,\n",
              " 'obama': 744,\n",
              " 'brennan': 745,\n",
              " 'credit': 746,\n",
              " 'therefor': 747,\n",
              " 'someon': 748,\n",
              " 'feed': 749,\n",
              " 'usual': 750,\n",
              " 'accur': 751,\n",
              " 'grasp': 752,\n",
              " 'superior': 753,\n",
              " 'criterion': 754,\n",
              " 'listen': 755,\n",
              " 'charl': 756,\n",
              " 'council': 757,\n",
              " 'yet': 758,\n",
              " 'anoth': 759,\n",
              " 'organ': 760,\n",
              " 'meet': 761,\n",
              " 'ground': 762,\n",
              " '16': 763,\n",
              " 'refer': 764,\n",
              " 'search': 765,\n",
              " 'avoid': 766,\n",
              " 'taken': 767,\n",
              " 'declar': 768,\n",
              " 'particularli': 769,\n",
              " 'histor': 770,\n",
              " 'broker': 771,\n",
              " 'must': 772,\n",
              " 'match': 773,\n",
              " 'fit': 774,\n",
              " 'ideolog': 775,\n",
              " 'precept': 776,\n",
              " 'hit': 777,\n",
              " 'roadblock': 778,\n",
              " 'caus': 779,\n",
              " 'group': 780,\n",
              " 'think': 781,\n",
              " 'blinker': 782,\n",
              " 'attitud': 783,\n",
              " 'your': 784,\n",
              " 'sell': 785,\n",
              " 'peddl': 786,\n",
              " 'imaginari': 787,\n",
              " 'westernstyl': 788,\n",
              " 'democraci': 789,\n",
              " 'saudi': 790,\n",
              " 'arabia': 791,\n",
              " 'indispens': 792,\n",
              " 'bashar': 793,\n",
              " 'alassad': 794,\n",
              " 'peac': 795,\n",
              " 'strateg': 796,\n",
              " 'defens': 797,\n",
              " 'sdi': 798,\n",
              " 'aka': 799,\n",
              " 'star': 800,\n",
              " 'colder': 801,\n",
              " 'warmer': 802,\n",
              " 'exception': 803,\n",
              " 'glori': 804,\n",
              " 'list': 805,\n",
              " 'endless': 806,\n",
              " 'sad': 807,\n",
              " 'spend': 808,\n",
              " 'million': 809,\n",
              " 'dollar': 810,\n",
              " 'improv': 811,\n",
              " 'use': 812,\n",
              " 'forget': 813,\n",
              " 'antidot': 814,\n",
              " 'abl': 815,\n",
              " 'rise': 816,\n",
              " 'presumpt': 817,\n",
              " 'selfconfid': 818,\n",
              " 'lead': 819,\n",
              " 'slipperi': 820,\n",
              " 'slope': 821,\n",
              " 'happen': 822,\n",
              " 'shakespear': 823,\n",
              " 'determin': 824,\n",
              " 'past': 825,\n",
              " 'prelud': 826,\n",
              " 'elit': 827,\n",
              " 'destini': 828,\n",
              " 'capac': 829,\n",
              " 'break': 830,\n",
              " 'structur': 831,\n",
              " 'keep': 832,\n",
              " 'rel': 833,\n",
              " 'ladder': 834,\n",
              " 'hope': 835,\n",
              " 'etern': 836,\n",
              " '15': 837,\n",
              " 'civilian': 838,\n",
              " 'kill': 839,\n",
              " 'singl': 840,\n",
              " 'airstrik': 841,\n",
              " 'identifi': 842,\n",
              " 'video': 843,\n",
              " 'rate': 844,\n",
              " 'higher': 845,\n",
              " '2014': 846,\n",
              " 'engag': 847,\n",
              " 'activ': 848,\n",
              " 'combat': 849,\n",
              " 'oper': 850,\n",
              " 'hellfir': 851,\n",
              " 'missil': 852,\n",
              " 'onto': 853,\n",
              " 'militari': 854,\n",
              " 'reaper': 855,\n",
              " 'drone': 856,\n",
              " 'sgt': 857,\n",
              " 'brian': 858,\n",
              " 'air': 859,\n",
              " 'bureau': 860,\n",
              " 'strike': 861,\n",
              " 'last': 862,\n",
              " 'month': 863,\n",
              " 'biggest': 864,\n",
              " 'loss': 865,\n",
              " 'san': 866,\n",
              " 'frontier': 867,\n",
              " 'hospit': 868,\n",
              " 'msf': 869,\n",
              " 'conduct': 870,\n",
              " 'counterterror': 871,\n",
              " 'islam': 872,\n",
              " 'fighter': 873,\n",
              " 'nangarhar': 874,\n",
              " 'provinc': 875,\n",
              " 'next': 876,\n",
              " 'unusu': 877,\n",
              " 'rapid': 878,\n",
              " 'statement': 879,\n",
              " 'injur': 880,\n",
              " 'celebr': 881,\n",
              " 'tribal': 882,\n",
              " 'elder': 883,\n",
              " 'return': 884,\n",
              " 'pilgrimag': 885,\n",
              " 'mecca': 886,\n",
              " 'spoke': 887,\n",
              " 'man': 888,\n",
              " 'name': 889,\n",
              " 'haji': 890,\n",
              " 'rai': 891,\n",
              " 'owner': 892,\n",
              " 'target': 893,\n",
              " 'verifi': 894,\n",
              " 'ident': 895,\n",
              " 'die': 896,\n",
              " 'son': 897,\n",
              " 'headmast': 898,\n",
              " 'local': 899,\n",
              " 'abdul': 900,\n",
              " 'hakim': 901,\n",
              " 'lost': 902,\n",
              " 'three': 903,\n",
              " 'involv': 904,\n",
              " 'deni': 905,\n",
              " 'visit': 906,\n",
              " 'phone': 907,\n",
              " 'alon': 908,\n",
              " 'death': 909,\n",
              " 'amount': 910,\n",
              " 'confirm': 911,\n",
              " 'kunduz': 912,\n",
              " '42': 913,\n",
              " 'data': 914,\n",
              " 'indic': 915,\n",
              " '45': 916,\n",
              " 'soldier': 917,\n",
              " 'four': 918,\n",
              " 'somalia': 919,\n",
              " '18': 920,\n",
              " 'pair': 921,\n",
              " 'eight': 922,\n",
              " 'afghan': 923,\n",
              " 'policemen': 924,\n",
              " 'capit': 925,\n",
              " 'jet': 926,\n",
              " 'reportedli': 927,\n",
              " 'polic': 928,\n",
              " 'checkpoint': 929,\n",
              " 'respond': 930,\n",
              " 'known': 931,\n",
              " 'controversi': 932,\n",
              " 'rescuer': 933,\n",
              " 'individu': 934,\n",
              " 'pose': 935,\n",
              " 'threat': 936,\n",
              " 'directli': 937,\n",
              " 'alleg': 938,\n",
              " 'citizen': 939,\n",
              " 'burnt': 940,\n",
              " 'flag': 941,\n",
              " 'street': 942,\n",
              " 'citi': 943,\n",
              " 'unintent': 944,\n",
              " '22': 945,\n",
              " 'somali': 946,\n",
              " 'occur': 947,\n",
              " 'incid': 948,\n",
              " 'noncombat': 949,\n",
              " 'iranian': 950,\n",
              " 'jail': 951,\n",
              " 'fiction': 952,\n",
              " 'unpublish': 953,\n",
              " 'stone': 954,\n",
              " 'adulteri': 955,\n",
              " 'print': 956,\n",
              " 'sentenc': 957,\n",
              " 'six': 958,\n",
              " 'prison': 959,\n",
              " 'iran': 960,\n",
              " 'revolutionari': 961,\n",
              " 'guard': 962,\n",
              " 'home': 963,\n",
              " 'notebook': 964,\n",
              " 'shed': 965,\n",
              " 'written': 966,\n",
              " 'eurasia': 967,\n",
              " '35': 968,\n",
              " 'wife': 969,\n",
              " 'sadeghi': 970,\n",
              " '36': 971,\n",
              " 'human': 972,\n",
              " 'activist': 973,\n",
              " 'report': 974,\n",
              " 'arrest': 975,\n",
              " 'husband': 976,\n",
              " 'raid': 977,\n",
              " 'apart': 978,\n",
              " 'without': 979,\n",
              " 'warrant': 980,\n",
              " 'draft': 981,\n",
              " 'articl': 982,\n",
              " 'confisc': 983,\n",
              " 'women': 984,\n",
              " 'publish': 985,\n",
              " 'anyon': 986,\n",
              " 'narr': 987,\n",
              " 'protagonist': 988,\n",
              " 'watch': 989,\n",
              " 'movi': 990,\n",
              " 'law': 991,\n",
              " 'jacki': 992,\n",
              " 'mason': 993,\n",
              " 'hollywood': 994,\n",
              " 'love': 995,\n",
              " 'bomb': 996,\n",
              " 'korea': 997,\n",
              " 'tran': 998,\n",
              " 'bathroom': 999,\n",
              " 'exclus': 1000,\n",
              " 'week': 1001,\n",
              " ...}"
            ]
          },
          "metadata": {},
          "execution_count": 26
        }
      ]
    },
    {
      "cell_type": "markdown",
      "source": [
        "So now we have words assiciated with numbers. This is important the neural network model can know which embedding index to use"
      ],
      "metadata": {
        "id": "gCw3kq7kJQs8"
      }
    },
    {
      "cell_type": "code",
      "source": [
        "(\n",
        "    training_data\n",
        "    .title_txt\n",
        "    .apply(lambda x: x.split(\" \"))\n",
        ")[0]"
      ],
      "metadata": {
        "id": "vKmx6REARBC0",
        "colab": {
          "base_uri": "https://localhost:8080/"
        },
        "outputId": "a6f8c3a1-941f-4108-a198-a6d8ddc18752"
      },
      "execution_count": null,
      "outputs": [
        {
          "output_type": "execute_result",
          "data": {
            "text/plain": [
              "['hous',\n",
              " 'dem',\n",
              " 'aid',\n",
              " 'didnt',\n",
              " 'even',\n",
              " 'see',\n",
              " 'comey',\n",
              " 'letter',\n",
              " 'jason',\n",
              " 'chaffetz',\n",
              " 'tweet',\n",
              " 'hous',\n",
              " 'dem',\n",
              " 'aid',\n",
              " 'didnt',\n",
              " 'even',\n",
              " 'see',\n",
              " 'comey',\n",
              " 'letter',\n",
              " 'jason',\n",
              " 'chaffetz',\n",
              " 'tweet',\n",
              " 'darrel',\n",
              " 'lucu',\n",
              " 'octob',\n",
              " '30',\n",
              " '2016',\n",
              " 'subscrib',\n",
              " 'jason',\n",
              " 'chaffetz',\n",
              " 'stump',\n",
              " 'american',\n",
              " 'fork',\n",
              " 'utah',\n",
              " '',\n",
              " 'imag',\n",
              " 'courtesi',\n",
              " 'michael',\n",
              " 'jolley',\n",
              " 'avail',\n",
              " 'creativ',\n",
              " 'commonsbi',\n",
              " 'licens',\n",
              " 'apolog',\n",
              " 'keith',\n",
              " 'olbermann',\n",
              " 'doubt',\n",
              " 'worst',\n",
              " 'person',\n",
              " 'world',\n",
              " 'week–fbi',\n",
              " 'director',\n",
              " 'jame',\n",
              " 'comey',\n",
              " 'accord',\n",
              " 'hous',\n",
              " 'democrat',\n",
              " 'aid',\n",
              " 'look',\n",
              " 'like',\n",
              " 'also',\n",
              " 'know',\n",
              " 'secondworst',\n",
              " 'person',\n",
              " 'well',\n",
              " 'turn',\n",
              " 'comey',\n",
              " 'sent',\n",
              " 'nowinfam',\n",
              " 'letter',\n",
              " 'announc',\n",
              " 'fbi',\n",
              " 'look',\n",
              " 'email',\n",
              " 'may',\n",
              " 'relat',\n",
              " 'hillari',\n",
              " 'clinton',\n",
              " 'email',\n",
              " 'server',\n",
              " 'rank',\n",
              " 'democrat',\n",
              " 'relev',\n",
              " 'committe',\n",
              " 'didnt',\n",
              " 'hear',\n",
              " 'comey',\n",
              " 'found',\n",
              " 'via',\n",
              " 'tweet',\n",
              " 'one',\n",
              " 'republican',\n",
              " 'committe',\n",
              " 'chairmen',\n",
              " 'know',\n",
              " 'comey',\n",
              " 'notifi',\n",
              " 'republican',\n",
              " 'chairmen',\n",
              " 'democrat',\n",
              " 'rank',\n",
              " 'member',\n",
              " 'hous',\n",
              " 'intellig',\n",
              " 'judiciari',\n",
              " 'oversight',\n",
              " 'committe',\n",
              " 'agenc',\n",
              " 'review',\n",
              " 'email',\n",
              " 'recent',\n",
              " 'discov',\n",
              " 'order',\n",
              " 'see',\n",
              " 'contain',\n",
              " 'classifi',\n",
              " 'inform',\n",
              " 'long',\n",
              " 'letter',\n",
              " 'went',\n",
              " 'oversight',\n",
              " 'committe',\n",
              " 'chairman',\n",
              " 'jason',\n",
              " 'chaffetz',\n",
              " 'set',\n",
              " 'polit',\n",
              " 'world',\n",
              " 'ablaz',\n",
              " 'tweet',\n",
              " 'fbi',\n",
              " 'dir',\n",
              " 'inform',\n",
              " 'fbi',\n",
              " 'learn',\n",
              " 'exist',\n",
              " 'email',\n",
              " 'appear',\n",
              " 'pertin',\n",
              " 'investig',\n",
              " 'case',\n",
              " 'reopen',\n",
              " '—',\n",
              " 'jason',\n",
              " 'chaffetz',\n",
              " 'jasoninthehous',\n",
              " 'octob',\n",
              " '28',\n",
              " '2016',\n",
              " 'cours',\n",
              " 'know',\n",
              " 'case',\n",
              " '',\n",
              " 'comey',\n",
              " 'actual',\n",
              " 'say',\n",
              " 'review',\n",
              " 'email',\n",
              " 'light',\n",
              " 'unrel',\n",
              " 'case–which',\n",
              " 'know',\n",
              " 'anthoni',\n",
              " 'weiner',\n",
              " 'sext',\n",
              " 'teenag',\n",
              " 'appar',\n",
              " 'littl',\n",
              " 'thing',\n",
              " 'fact',\n",
              " 'didnt',\n",
              " 'matter',\n",
              " 'chaffetz',\n",
              " 'utah',\n",
              " 'republican',\n",
              " 'alreadi',\n",
              " 'vow',\n",
              " 'initi',\n",
              " 'raft',\n",
              " 'investig',\n",
              " 'hillari',\n",
              " 'wins–at',\n",
              " 'least',\n",
              " 'two',\n",
              " 'year',\n",
              " 'worth',\n",
              " 'possibl',\n",
              " 'entir',\n",
              " 'term',\n",
              " 'worth',\n",
              " 'appar',\n",
              " 'chaffetz',\n",
              " 'thought',\n",
              " 'fbi',\n",
              " 'alreadi',\n",
              " 'work',\n",
              " 'him–result',\n",
              " 'tweet',\n",
              " 'briefli',\n",
              " 'roil',\n",
              " 'nation',\n",
              " 'cooler',\n",
              " 'head',\n",
              " 'realiz',\n",
              " 'dud',\n",
              " 'accord',\n",
              " 'senior',\n",
              " 'hous',\n",
              " 'democrat',\n",
              " 'aid',\n",
              " 'misread',\n",
              " 'letter',\n",
              " 'may',\n",
              " 'least',\n",
              " 'chaffetz',\n",
              " 'sin',\n",
              " 'aid',\n",
              " 'told',\n",
              " 'shareblu',\n",
              " 'boss',\n",
              " 'democrat',\n",
              " 'didnt',\n",
              " 'even',\n",
              " 'know',\n",
              " 'comey',\n",
              " 'letter',\n",
              " 'time–and',\n",
              " 'found',\n",
              " 'check',\n",
              " 'twitter',\n",
              " 'democrat',\n",
              " 'rank',\n",
              " 'member',\n",
              " 'relev',\n",
              " 'committe',\n",
              " 'didnt',\n",
              " 'receiv',\n",
              " 'comey',\n",
              " 'letter',\n",
              " 'republican',\n",
              " 'chairmen',\n",
              " 'fact',\n",
              " 'democrat',\n",
              " 'rank',\n",
              " 'member',\n",
              " 'receiv',\n",
              " 'chairman',\n",
              " 'oversight',\n",
              " 'govern',\n",
              " 'reform',\n",
              " 'committe',\n",
              " 'jason',\n",
              " 'chaffetz',\n",
              " 'tweet',\n",
              " 'made',\n",
              " 'public',\n",
              " 'let',\n",
              " 'see',\n",
              " 'weve',\n",
              " 'got',\n",
              " 'right',\n",
              " 'fbi',\n",
              " 'director',\n",
              " 'tell',\n",
              " 'chaffetz',\n",
              " 'gop',\n",
              " 'committe',\n",
              " 'chairmen',\n",
              " 'major',\n",
              " 'develop',\n",
              " 'potenti',\n",
              " 'polit',\n",
              " 'explos',\n",
              " 'investig',\n",
              " 'neither',\n",
              " 'chaffetz',\n",
              " 'colleagu',\n",
              " 'courtesi',\n",
              " 'let',\n",
              " 'democrat',\n",
              " 'counterpart',\n",
              " 'know',\n",
              " 'instead',\n",
              " 'accord',\n",
              " 'aid',\n",
              " 'made',\n",
              " 'find',\n",
              " 'twitter',\n",
              " 'alreadi',\n",
              " 'talk',\n",
              " 'daili',\n",
              " 'ko',\n",
              " 'comey',\n",
              " 'provid',\n",
              " 'advanc',\n",
              " 'notic',\n",
              " 'letter',\n",
              " 'chaffetz',\n",
              " 'republican',\n",
              " 'give',\n",
              " 'time',\n",
              " 'turn',\n",
              " 'spin',\n",
              " 'machin',\n",
              " 'may',\n",
              " 'make',\n",
              " 'good',\n",
              " 'theater',\n",
              " 'noth',\n",
              " 'far',\n",
              " 'even',\n",
              " 'suggest',\n",
              " 'case',\n",
              " 'noth',\n",
              " 'far',\n",
              " 'suggest',\n",
              " 'comey',\n",
              " 'anyth',\n",
              " 'grossli',\n",
              " 'incompet',\n",
              " 'tonedeaf',\n",
              " 'suggest',\n",
              " 'howev',\n",
              " 'chaffetz',\n",
              " 'act',\n",
              " 'way',\n",
              " 'make',\n",
              " 'dan',\n",
              " 'burton',\n",
              " 'darrel',\n",
              " 'issa',\n",
              " 'look',\n",
              " 'like',\n",
              " 'model',\n",
              " 'respons',\n",
              " 'bipartisanship',\n",
              " 'didnt',\n",
              " 'even',\n",
              " 'decenc',\n",
              " 'notifi',\n",
              " 'rank',\n",
              " 'member',\n",
              " 'elijah',\n",
              " 'cum',\n",
              " 'someth',\n",
              " 'explos',\n",
              " 'doesnt',\n",
              " 'trampl',\n",
              " 'basic',\n",
              " 'standard',\n",
              " 'fair',\n",
              " 'dont',\n",
              " 'know',\n",
              " 'grant',\n",
              " 'like',\n",
              " 'chaffetz',\n",
              " 'answer',\n",
              " 'sit',\n",
              " 'ridicul',\n",
              " 'republican',\n",
              " 'district',\n",
              " 'anchor',\n",
              " 'provo',\n",
              " 'orem',\n",
              " 'cook',\n",
              " 'partisan',\n",
              " 'vote',\n",
              " 'index',\n",
              " 'r25',\n",
              " 'gave',\n",
              " 'mitt',\n",
              " 'romney',\n",
              " 'punish',\n",
              " '78',\n",
              " 'percent',\n",
              " 'vote',\n",
              " '2012',\n",
              " 'moreov',\n",
              " 'republican',\n",
              " 'hous',\n",
              " 'leadership',\n",
              " 'given',\n",
              " 'full',\n",
              " 'support',\n",
              " 'chaffetz',\n",
              " 'plan',\n",
              " 'fish',\n",
              " 'expedit',\n",
              " 'doesnt',\n",
              " 'mean',\n",
              " 'cant',\n",
              " 'turn',\n",
              " 'hot',\n",
              " 'light',\n",
              " 'textbook',\n",
              " 'exampl',\n",
              " 'hous',\n",
              " 'becom',\n",
              " 'republican',\n",
              " 'control',\n",
              " 'also',\n",
              " 'second',\n",
              " 'worst',\n",
              " 'person',\n",
              " 'world',\n",
              " 'darrel',\n",
              " 'lucu',\n",
              " 'darrel',\n",
              " '30someth',\n",
              " 'graduat',\n",
              " 'univers',\n",
              " 'north',\n",
              " 'carolina',\n",
              " 'consid',\n",
              " 'journalist',\n",
              " 'old',\n",
              " 'school',\n",
              " 'attempt',\n",
              " 'turn',\n",
              " 'member',\n",
              " 'religi',\n",
              " 'right',\n",
              " 'colleg',\n",
              " 'succeed',\n",
              " 'turn',\n",
              " 'religi',\n",
              " 'right',\n",
              " 'worst',\n",
              " 'nightmarea',\n",
              " 'charismat',\n",
              " 'christian',\n",
              " 'unapologet',\n",
              " 'liber',\n",
              " 'desir',\n",
              " 'stand',\n",
              " 'scare',\n",
              " 'silenc',\n",
              " 'increas',\n",
              " 'surviv',\n",
              " 'abus',\n",
              " 'threeyear',\n",
              " 'marriag',\n",
              " 'may',\n",
              " 'know',\n",
              " 'daili',\n",
              " 'ko',\n",
              " 'christian',\n",
              " 'dem',\n",
              " 'nc',\n",
              " '',\n",
              " 'follow',\n",
              " 'twitter',\n",
              " 'darrelllucu',\n",
              " 'connect',\n",
              " 'facebook',\n",
              " '',\n",
              " 'click',\n",
              " 'buy',\n",
              " 'darrel',\n",
              " 'mello',\n",
              " 'yello',\n",
              " 'connect']"
            ]
          },
          "metadata": {},
          "execution_count": 27
        }
      ]
    },
    {
      "cell_type": "code",
      "source": [
        "training_sentence_data = (\n",
        "    training_data\n",
        "    .title_txt\n",
        "    .apply(lambda x: list(map(lambda word: word_map[word] if word in word_map else 1, x.split(\" \"))))\n",
        ")\n",
        "\n",
        "print(training_sentence_data[0])"
      ],
      "metadata": {
        "colab": {
          "base_uri": "https://localhost:8080/"
        },
        "id": "TtSqo7b0JyLc",
        "outputId": "5ef19261-3bb5-4022-bbe6-791f9cb208e9"
      },
      "execution_count": null,
      "outputs": [
        {
          "output_type": "stream",
          "name": "stdout",
          "text": [
            "[2, 3, 4, 5, 6, 7, 8, 9, 10, 11, 12, 2, 3, 4, 5, 6, 7, 8, 9, 10, 11, 12, 13, 14, 15, 16, 17, 18, 10, 11, 19, 20, 21, 22, 23, 24, 25, 26, 1, 27, 28, 1, 29, 30, 31, 32, 33, 34, 35, 36, 1, 37, 38, 8, 39, 2, 40, 4, 41, 42, 43, 44, 1, 35, 45, 46, 8, 47, 48, 9, 49, 50, 41, 51, 52, 53, 54, 55, 51, 56, 57, 40, 58, 59, 5, 60, 8, 61, 62, 12, 63, 64, 59, 65, 44, 8, 66, 64, 65, 40, 57, 67, 2, 68, 69, 70, 59, 71, 72, 51, 73, 74, 75, 7, 76, 77, 78, 79, 9, 80, 70, 59, 81, 10, 11, 82, 83, 36, 84, 12, 50, 85, 78, 50, 86, 87, 51, 88, 89, 90, 91, 92, 93, 10, 11, 94, 15, 95, 17, 96, 44, 91, 23, 8, 97, 98, 72, 51, 99, 100, 1, 44, 101, 102, 103, 104, 105, 106, 107, 108, 5, 109, 11, 22, 64, 110, 111, 112, 113, 90, 54, 1, 114, 115, 116, 117, 118, 119, 120, 117, 105, 11, 121, 50, 110, 122, 1, 12, 123, 124, 125, 126, 127, 128, 129, 39, 130, 2, 40, 4, 131, 9, 52, 114, 11, 132, 4, 133, 134, 135, 40, 5, 6, 44, 8, 9, 1, 61, 136, 137, 40, 57, 67, 58, 59, 5, 138, 8, 9, 64, 65, 108, 40, 57, 67, 138, 81, 70, 139, 140, 59, 10, 11, 12, 141, 142, 143, 7, 144, 145, 146, 50, 37, 147, 11, 148, 59, 65, 149, 150, 151, 83, 152, 90, 153, 11, 154, 25, 143, 40, 155, 44, 156, 39, 4, 141, 157, 137, 110, 158, 159, 160, 8, 161, 162, 163, 9, 11, 64, 164, 165, 46, 166, 167, 52, 168, 169, 170, 171, 172, 6, 173, 91, 171, 172, 173, 8, 174, 175, 176, 177, 173, 178, 11, 179, 180, 168, 181, 182, 13, 183, 41, 42, 184, 185, 186, 5, 6, 187, 66, 57, 67, 188, 189, 190, 152, 191, 192, 193, 194, 195, 196, 44, 197, 42, 11, 198, 199, 200, 64, 201, 202, 203, 1, 204, 205, 206, 207, 1, 208, 209, 210, 211, 212, 213, 206, 214, 215, 64, 2, 216, 217, 218, 219, 11, 220, 221, 222, 191, 223, 224, 46, 225, 99, 226, 227, 2, 228, 64, 229, 43, 230, 34, 35, 36, 13, 14, 13, 231, 232, 233, 234, 235, 236, 237, 238, 239, 240, 46, 67, 241, 146, 242, 243, 46, 241, 146, 34, 244, 245, 246, 247, 248, 249, 250, 251, 252, 253, 254, 255, 256, 257, 52, 44, 159, 160, 246, 3, 258, 23, 259, 137, 260, 261, 262, 23, 263, 264, 13, 265, 266, 261]\n"
          ]
        }
      ]
    },
    {
      "cell_type": "markdown",
      "source": [
        "0 pad each sentence so every sentence is the same length for the network to learn"
      ],
      "metadata": {
        "id": "C7X1BIhvK8IM"
      }
    },
    {
      "cell_type": "code",
      "source": [
        "training_sentence_data = (\n",
        "    list(\n",
        "        map(\n",
        "            lambda x: pd.np.pad(x, (0, sentence_length - len(x))),\n",
        "            training_sentence_data\n",
        "        )\n",
        "    )\n",
        ")\n",
        "\n",
        "training_sentence_data[0]"
      ],
      "metadata": {
        "colab": {
          "base_uri": "https://localhost:8080/"
        },
        "id": "44psLihfKiI1",
        "outputId": "449c7211-bb17-4a7c-e795-f09847efbafd"
      },
      "execution_count": null,
      "outputs": [
        {
          "output_type": "stream",
          "name": "stderr",
          "text": [
            "/usr/local/lib/python3.7/dist-packages/ipykernel_launcher.py:4: FutureWarning: The pandas.np module is deprecated and will be removed from pandas in a future version. Import numpy directly instead\n",
            "  after removing the cwd from sys.path.\n"
          ]
        },
        {
          "output_type": "execute_result",
          "data": {
            "text/plain": [
              "array([2, 3, 4, ..., 0, 0, 0])"
            ]
          },
          "metadata": {},
          "execution_count": 29
        }
      ]
    },
    {
      "cell_type": "markdown",
      "source": [
        "Convert these numbers to tensors"
      ],
      "metadata": {
        "id": "8q-jhSEyMB4r"
      }
    },
    {
      "cell_type": "code",
      "source": [
        "torch.LongTensor(training_sentence_data[0])"
      ],
      "metadata": {
        "colab": {
          "base_uri": "https://localhost:8080/"
        },
        "id": "MO3d0HJzMJ1B",
        "outputId": "add1da16-e908-420c-f690-fbc55aa1d6e5"
      },
      "execution_count": null,
      "outputs": [
        {
          "output_type": "execute_result",
          "data": {
            "text/plain": [
              "tensor([2, 3, 4,  ..., 0, 0, 0])"
            ]
          },
          "metadata": {},
          "execution_count": 30
        }
      ]
    },
    {
      "cell_type": "code",
      "source": [
        "training_sentence_data = (\n",
        "    list(\n",
        "        map(\n",
        "            lambda x: torch.LongTensor(x),\n",
        "            training_sentence_data\n",
        "        )\n",
        "    )\n",
        ")\n",
        "\n",
        "training_sentence_data[0]"
      ],
      "metadata": {
        "colab": {
          "base_uri": "https://localhost:8080/"
        },
        "id": "L7KfbvL7-73y",
        "outputId": "977da312-48bf-46a7-8e5b-55b03ddd11bf"
      },
      "execution_count": null,
      "outputs": [
        {
          "output_type": "execute_result",
          "data": {
            "text/plain": [
              "tensor([2, 3, 4,  ..., 0, 0, 0])"
            ]
          },
          "metadata": {},
          "execution_count": 31
        }
      ]
    },
    {
      "cell_type": "markdown",
      "source": [
        "Find vocabularly"
      ],
      "metadata": {
        "id": "9wayzEhbAW9T"
      }
    },
    {
      "cell_type": "code",
      "source": [
        "pd.np.random.seed(100)\n",
        "model.wv.vectors.shape"
      ],
      "metadata": {
        "colab": {
          "base_uri": "https://localhost:8080/"
        },
        "id": "VhWzRc7V-70T",
        "outputId": "5d2a9620-fdbd-412a-bc82-365bd1a7351e"
      },
      "execution_count": null,
      "outputs": [
        {
          "output_type": "stream",
          "name": "stderr",
          "text": [
            "/usr/local/lib/python3.7/dist-packages/ipykernel_launcher.py:1: FutureWarning: The pandas.np module is deprecated and will be removed from pandas in a future version. Import numpy directly instead\n",
            "  \"\"\"Entry point for launching an IPython kernel.\n"
          ]
        },
        {
          "output_type": "execute_result",
          "data": {
            "text/plain": [
              "(39950, 100)"
            ]
          },
          "metadata": {},
          "execution_count": 32
        }
      ]
    },
    {
      "cell_type": "code",
      "source": [
        "word_vectors_for_training = pd.np.insert(\n",
        "    model.wv.vectors,\n",
        "    0,\n",
        "    pd.np.random.uniform(model.wv.vectors.min(),model.wv.vectors.max(),100),\n",
        "    axis=0)\n",
        "\n",
        "word_vectors_for_training = pd.np.insert(\n",
        "    word_vectors_for_training,\n",
        "    0,\n",
        "    pd.np.zeros(100),\n",
        "    axis = 0\n",
        ")\n",
        "\n",
        "word_vectors_for_training = torch.FloatTensor(\n",
        "    word_vectors_for_training\n",
        ")\n",
        "word_vectors_for_training.shape"
      ],
      "metadata": {
        "colab": {
          "base_uri": "https://localhost:8080/"
        },
        "id": "jnFTgjlw-7xE",
        "outputId": "1b28fcf1-0baf-4ae0-97bb-1d1afc52a0b7"
      },
      "execution_count": null,
      "outputs": [
        {
          "output_type": "stream",
          "name": "stderr",
          "text": [
            "/usr/local/lib/python3.7/dist-packages/ipykernel_launcher.py:1: FutureWarning: The pandas.np module is deprecated and will be removed from pandas in a future version. Import numpy directly instead\n",
            "  \"\"\"Entry point for launching an IPython kernel.\n",
            "/usr/local/lib/python3.7/dist-packages/ipykernel_launcher.py:4: FutureWarning: The pandas.np module is deprecated and will be removed from pandas in a future version. Import numpy directly instead\n",
            "  after removing the cwd from sys.path.\n",
            "/usr/local/lib/python3.7/dist-packages/ipykernel_launcher.py:7: FutureWarning: The pandas.np module is deprecated and will be removed from pandas in a future version. Import numpy directly instead\n",
            "  import sys\n",
            "/usr/local/lib/python3.7/dist-packages/ipykernel_launcher.py:10: FutureWarning: The pandas.np module is deprecated and will be removed from pandas in a future version. Import numpy directly instead\n",
            "  # Remove the CWD from sys.path while we load stuff.\n"
          ]
        },
        {
          "output_type": "execute_result",
          "data": {
            "text/plain": [
              "torch.Size([39952, 100])"
            ]
          },
          "metadata": {},
          "execution_count": 33
        }
      ]
    },
    {
      "cell_type": "markdown",
      "source": [
        "Embedding layer and process the data"
      ],
      "metadata": {
        "id": "NuoeB50HEXF6"
      }
    },
    {
      "cell_type": "code",
      "source": [
        "class FirstNeuralNetwork(nn.Module):\n",
        "  def __init__(self, input_size, hidden_size, num_classes):\n",
        "    super().__init__()\n",
        "    self.embedding_layer = nn.EmbeddingBag.from_pretrained(word_vectors_for_training,\n",
        "                                                           mode = 'mean')\n",
        "    self.layer1 = nn.Linear(input_size, hidden_size)\n",
        "    self.relu = nn.ReLU()\n",
        "    self.layer2 = nn.Linear(hidden_size, num_classes)\n",
        "\n",
        "\n",
        "\n",
        "  def forward(self, data_input):\n",
        "    embedded_data_input = self.embedding_layer(data_input)\n",
        "    output_layer1 = self.layer1(embedded_data_input) \n",
        "    output_layer1 = self.relu(output_layer1)\n",
        "    output_layer2 = self.layer2(output_layer1)\n",
        "\n",
        "    return output_layer2.squeeze() "
      ],
      "metadata": {
        "id": "6DbcKvME-7tx"
      },
      "execution_count": null,
      "outputs": []
    },
    {
      "cell_type": "markdown",
      "source": [
        "finalize the training data"
      ],
      "metadata": {
        "id": "gn5R37uFKYpq"
      }
    },
    {
      "cell_type": "code",
      "source": [
        "training_sentence_data = torch.stack(training_sentence_data)"
      ],
      "metadata": {
        "id": "AX3Uwmpy-7qJ"
      },
      "execution_count": null,
      "outputs": []
    },
    {
      "cell_type": "markdown",
      "source": [
        "Define the network"
      ],
      "metadata": {
        "id": "esHUvc7PK5iK"
      }
    },
    {
      "cell_type": "code",
      "source": [
        "first_neural_network = FirstNeuralNetwork(100, 50, 1)"
      ],
      "metadata": {
        "id": "kOWwmWMg-7V7"
      },
      "execution_count": null,
      "outputs": []
    },
    {
      "cell_type": "markdown",
      "source": [
        "Import torch.utils.data"
      ],
      "metadata": {
        "id": "YDFWwNduLMcC"
      }
    },
    {
      "cell_type": "code",
      "source": [
        "import torch.utils.data as data"
      ],
      "metadata": {
        "id": "hAh0yCc1-7I9"
      },
      "execution_count": null,
      "outputs": []
    },
    {
      "cell_type": "markdown",
      "source": [
        "DataLoader and dataet"
      ],
      "metadata": {
        "id": "xY7_wLaXLb9e"
      }
    },
    {
      "cell_type": "code",
      "source": [
        "dataset = data.TensorDataset(training_sentence_data, torch.FloatTensor(training_data.label.values))\n",
        "dataloader = data.DataLoader(dataset, batch_size=256)"
      ],
      "metadata": {
        "id": "Og6208zrMtGK"
      },
      "execution_count": null,
      "outputs": []
    },
    {
      "cell_type": "markdown",
      "source": [
        "Use BinaryCrossEntropy loss function"
      ],
      "metadata": {
        "id": "dcWPnLsceZ3I"
      }
    },
    {
      "cell_type": "code",
      "source": [
        "import torch.optim as optim"
      ],
      "metadata": {
        "id": "niS7Q_s4eWqM"
      },
      "execution_count": null,
      "outputs": []
    },
    {
      "cell_type": "code",
      "source": [
        "optimizer = optim.Adam(first_neural_network.parameters(), lr = 0.001)\n",
        "loss_fn = nn.BCEWithLogitsLoss()\n"
      ],
      "metadata": {
        "id": "gc3Cl71EeWm3"
      },
      "execution_count": null,
      "outputs": []
    },
    {
      "cell_type": "code",
      "source": [
        "loss = nn.BCEWithLogitsLoss()\n",
        "in_mat = torch.randn(3, requires_grad=True)\n",
        "tar_mat = torch.empty(3).random_(2)\n",
        "output = loss(in_mat, tar_mat)"
      ],
      "metadata": {
        "id": "9rxf_AhFeWjI"
      },
      "execution_count": null,
      "outputs": []
    },
    {
      "cell_type": "code",
      "source": [
        "print(in_mat)\n",
        "print(tar_mat)\n",
        "print(output)"
      ],
      "metadata": {
        "colab": {
          "base_uri": "https://localhost:8080/"
        },
        "id": "BBjs6kgNfZCE",
        "outputId": "8f54ba69-cf16-4792-f9a3-a30491aa1e08"
      },
      "execution_count": null,
      "outputs": [
        {
          "output_type": "stream",
          "name": "stdout",
          "text": [
            "tensor([-1.1135, -1.2671,  0.6669], requires_grad=True)\n",
            "tensor([1., 1., 0.])\n",
            "tensor(1.3313, grad_fn=<BinaryCrossEntropyWithLogitsBackward0>)\n"
          ]
        }
      ]
    },
    {
      "cell_type": "code",
      "source": [
        "import tqdm\n",
        "\n",
        "for n in tqdm.tqdm(range(100)):\n",
        "  avg_loss = []\n",
        "  for batch in dataloader:\n",
        "    #batch[0] - the sentence data or X\n",
        "    #batch[1] - the label for each sentence or Y\n",
        "    optimizer.zero_grad()\n",
        "    #pass the model into the batch\n",
        "    output = first_neural_network(batch[0])\n",
        "    #output = first_neural_network(batch[0])\n",
        "    #calculate the loss function\n",
        "    loss = loss_fn(output, batch[1])\n",
        "    avg_loss.append(loss.item())\n",
        "    loss.backward()\n",
        "    optimizer.step()\n",
        "\n",
        "\n",
        "  print(pd.np.mean(avg_loss))  \n",
        "\n"
      ],
      "metadata": {
        "colab": {
          "base_uri": "https://localhost:8080/"
        },
        "id": "IogSdLsceWZg",
        "outputId": "75c3fd47-3118-4b64-e715-e39784b6a323"
      },
      "execution_count": null,
      "outputs": [
        {
          "output_type": "stream",
          "name": "stderr",
          "text": [
            "  0%|          | 0/100 [00:00<?, ?it/s]/usr/local/lib/python3.7/dist-packages/ipykernel_launcher.py:19: FutureWarning: The pandas.np module is deprecated and will be removed from pandas in a future version. Import numpy directly instead\n",
            "  1%|          | 1/100 [00:05<09:34,  5.81s/it]"
          ]
        },
        {
          "output_type": "stream",
          "name": "stdout",
          "text": [
            "0.6812112306555113\n"
          ]
        },
        {
          "output_type": "stream",
          "name": "stderr",
          "text": [
            "\r  2%|▏         | 2/100 [00:10<08:51,  5.42s/it]"
          ]
        },
        {
          "output_type": "stream",
          "name": "stdout",
          "text": [
            "0.6562748013271226\n"
          ]
        },
        {
          "output_type": "stream",
          "name": "stderr",
          "text": [
            "\r  3%|▎         | 3/100 [00:16<08:33,  5.29s/it]"
          ]
        },
        {
          "output_type": "stream",
          "name": "stdout",
          "text": [
            "0.6120421455966102\n"
          ]
        },
        {
          "output_type": "stream",
          "name": "stderr",
          "text": [
            "\r  4%|▍         | 4/100 [00:21<08:22,  5.23s/it]"
          ]
        },
        {
          "output_type": "stream",
          "name": "stdout",
          "text": [
            "0.5629869509074423\n"
          ]
        },
        {
          "output_type": "stream",
          "name": "stderr",
          "text": [
            "\r  5%|▌         | 5/100 [00:26<08:14,  5.20s/it]"
          ]
        },
        {
          "output_type": "stream",
          "name": "stdout",
          "text": [
            "0.5198361033366786\n"
          ]
        },
        {
          "output_type": "stream",
          "name": "stderr",
          "text": [
            "\r  6%|▌         | 6/100 [00:31<08:07,  5.18s/it]"
          ]
        },
        {
          "output_type": "stream",
          "name": "stdout",
          "text": [
            "0.4840787773331006\n"
          ]
        },
        {
          "output_type": "stream",
          "name": "stderr",
          "text": [
            "\r  7%|▋         | 7/100 [00:36<08:00,  5.16s/it]"
          ]
        },
        {
          "output_type": "stream",
          "name": "stdout",
          "text": [
            "0.4542248811986711\n"
          ]
        },
        {
          "output_type": "stream",
          "name": "stderr",
          "text": [
            "\r  8%|▊         | 8/100 [00:42<08:06,  5.29s/it]"
          ]
        },
        {
          "output_type": "stream",
          "name": "stdout",
          "text": [
            "0.42860319424006676\n"
          ]
        },
        {
          "output_type": "stream",
          "name": "stderr",
          "text": [
            "\r  9%|▉         | 9/100 [00:47<07:57,  5.24s/it]"
          ]
        },
        {
          "output_type": "stream",
          "name": "stdout",
          "text": [
            "0.4061233877307839\n"
          ]
        },
        {
          "output_type": "stream",
          "name": "stderr",
          "text": [
            "\r 10%|█         | 10/100 [00:52<07:49,  5.22s/it]"
          ]
        },
        {
          "output_type": "stream",
          "name": "stdout",
          "text": [
            "0.3864283830755287\n"
          ]
        },
        {
          "output_type": "stream",
          "name": "stderr",
          "text": [
            "\r 11%|█         | 11/100 [00:57<07:43,  5.21s/it]"
          ]
        },
        {
          "output_type": "stream",
          "name": "stdout",
          "text": [
            "0.3693230450153351\n"
          ]
        },
        {
          "output_type": "stream",
          "name": "stderr",
          "text": [
            "\r 12%|█▏        | 12/100 [01:02<07:37,  5.20s/it]"
          ]
        },
        {
          "output_type": "stream",
          "name": "stdout",
          "text": [
            "0.3545754539469878\n"
          ]
        },
        {
          "output_type": "stream",
          "name": "stderr",
          "text": [
            "\r 13%|█▎        | 13/100 [01:08<07:32,  5.20s/it]"
          ]
        },
        {
          "output_type": "stream",
          "name": "stdout",
          "text": [
            "0.34190579627950984\n"
          ]
        },
        {
          "output_type": "stream",
          "name": "stderr",
          "text": [
            "\r 14%|█▍        | 14/100 [01:13<07:26,  5.19s/it]"
          ]
        },
        {
          "output_type": "stream",
          "name": "stdout",
          "text": [
            "0.3309725167022811\n"
          ]
        },
        {
          "output_type": "stream",
          "name": "stderr",
          "text": [
            "\r 15%|█▌        | 15/100 [01:18<07:20,  5.18s/it]"
          ]
        },
        {
          "output_type": "stream",
          "name": "stdout",
          "text": [
            "0.321466123064359\n"
          ]
        },
        {
          "output_type": "stream",
          "name": "stderr",
          "text": [
            "\r 16%|█▌        | 16/100 [01:23<07:14,  5.17s/it]"
          ]
        },
        {
          "output_type": "stream",
          "name": "stdout",
          "text": [
            "0.3130939085450437\n"
          ]
        },
        {
          "output_type": "stream",
          "name": "stderr",
          "text": [
            "\r 17%|█▋        | 17/100 [01:28<07:09,  5.17s/it]"
          ]
        },
        {
          "output_type": "stream",
          "name": "stdout",
          "text": [
            "0.3056024012880193\n"
          ]
        },
        {
          "output_type": "stream",
          "name": "stderr",
          "text": [
            "\r 18%|█▊        | 18/100 [01:33<07:04,  5.17s/it]"
          ]
        },
        {
          "output_type": "stream",
          "name": "stdout",
          "text": [
            "0.2987906825211313\n"
          ]
        },
        {
          "output_type": "stream",
          "name": "stderr",
          "text": [
            "\r 19%|█▉        | 19/100 [01:39<06:59,  5.18s/it]"
          ]
        },
        {
          "output_type": "stream",
          "name": "stdout",
          "text": [
            "0.2925630617472861\n"
          ]
        },
        {
          "output_type": "stream",
          "name": "stderr",
          "text": [
            "\r 20%|██        | 20/100 [01:44<06:53,  5.16s/it]"
          ]
        },
        {
          "output_type": "stream",
          "name": "stdout",
          "text": [
            "0.28683930366403526\n"
          ]
        },
        {
          "output_type": "stream",
          "name": "stderr",
          "text": [
            "\r 21%|██        | 21/100 [01:49<06:47,  5.16s/it]"
          ]
        },
        {
          "output_type": "stream",
          "name": "stdout",
          "text": [
            "0.28155202894575065\n"
          ]
        },
        {
          "output_type": "stream",
          "name": "stderr",
          "text": [
            "\r 22%|██▏       | 22/100 [01:54<06:42,  5.16s/it]"
          ]
        },
        {
          "output_type": "stream",
          "name": "stdout",
          "text": [
            "0.27663592414723503\n"
          ]
        },
        {
          "output_type": "stream",
          "name": "stderr",
          "text": [
            "\r 23%|██▎       | 23/100 [01:59<06:37,  5.16s/it]"
          ]
        },
        {
          "output_type": "stream",
          "name": "stdout",
          "text": [
            "0.27204821983145344\n"
          ]
        },
        {
          "output_type": "stream",
          "name": "stderr",
          "text": [
            "\r 24%|██▍       | 24/100 [02:04<06:31,  5.16s/it]"
          ]
        },
        {
          "output_type": "stream",
          "name": "stdout",
          "text": [
            "0.26774071839948493\n"
          ]
        },
        {
          "output_type": "stream",
          "name": "stderr",
          "text": [
            "\r 25%|██▌       | 25/100 [02:10<06:35,  5.27s/it]"
          ]
        },
        {
          "output_type": "stream",
          "name": "stdout",
          "text": [
            "0.26369158840841717\n"
          ]
        },
        {
          "output_type": "stream",
          "name": "stderr",
          "text": [
            "\r 26%|██▌       | 26/100 [02:15<06:26,  5.22s/it]"
          ]
        },
        {
          "output_type": "stream",
          "name": "stdout",
          "text": [
            "0.2598768108420902\n"
          ]
        },
        {
          "output_type": "stream",
          "name": "stderr",
          "text": [
            "\r 27%|██▋       | 27/100 [02:20<06:19,  5.20s/it]"
          ]
        },
        {
          "output_type": "stream",
          "name": "stdout",
          "text": [
            "0.25626285353468525\n"
          ]
        },
        {
          "output_type": "stream",
          "name": "stderr",
          "text": [
            "\r 28%|██▊       | 28/100 [02:25<06:12,  5.18s/it]"
          ]
        },
        {
          "output_type": "stream",
          "name": "stdout",
          "text": [
            "0.25281768540541333\n"
          ]
        },
        {
          "output_type": "stream",
          "name": "stderr",
          "text": [
            "\r 29%|██▉       | 29/100 [02:30<06:07,  5.17s/it]"
          ]
        },
        {
          "output_type": "stream",
          "name": "stdout",
          "text": [
            "0.24952883190578884\n"
          ]
        },
        {
          "output_type": "stream",
          "name": "stderr",
          "text": [
            "\r 30%|███       | 30/100 [02:36<06:01,  5.16s/it]"
          ]
        },
        {
          "output_type": "stream",
          "name": "stdout",
          "text": [
            "0.246366866139902\n"
          ]
        },
        {
          "output_type": "stream",
          "name": "stderr",
          "text": [
            "\r 31%|███       | 31/100 [02:41<05:56,  5.16s/it]"
          ]
        },
        {
          "output_type": "stream",
          "name": "stdout",
          "text": [
            "0.24332109155754247\n"
          ]
        },
        {
          "output_type": "stream",
          "name": "stderr",
          "text": [
            "\r 32%|███▏      | 32/100 [02:46<05:50,  5.16s/it]"
          ]
        },
        {
          "output_type": "stream",
          "name": "stdout",
          "text": [
            "0.24037975528173977\n"
          ]
        },
        {
          "output_type": "stream",
          "name": "stderr",
          "text": [
            "\r 33%|███▎      | 33/100 [02:51<05:45,  5.16s/it]"
          ]
        },
        {
          "output_type": "stream",
          "name": "stdout",
          "text": [
            "0.23752834068404305\n"
          ]
        },
        {
          "output_type": "stream",
          "name": "stderr",
          "text": [
            "\r 34%|███▍      | 34/100 [02:56<05:41,  5.17s/it]"
          ]
        },
        {
          "output_type": "stream",
          "name": "stdout",
          "text": [
            "0.23475733978880775\n"
          ]
        },
        {
          "output_type": "stream",
          "name": "stderr",
          "text": [
            "\r 35%|███▌      | 35/100 [03:01<05:36,  5.17s/it]"
          ]
        },
        {
          "output_type": "stream",
          "name": "stdout",
          "text": [
            "0.23205807184179625\n"
          ]
        },
        {
          "output_type": "stream",
          "name": "stderr",
          "text": [
            "\r 36%|███▌      | 36/100 [03:07<05:30,  5.16s/it]"
          ]
        },
        {
          "output_type": "stream",
          "name": "stdout",
          "text": [
            "0.2294187754806545\n"
          ]
        },
        {
          "output_type": "stream",
          "name": "stderr",
          "text": [
            "\r 37%|███▋      | 37/100 [03:12<05:25,  5.16s/it]"
          ]
        },
        {
          "output_type": "stream",
          "name": "stdout",
          "text": [
            "0.22683074490891564\n"
          ]
        },
        {
          "output_type": "stream",
          "name": "stderr",
          "text": [
            "\r 38%|███▊      | 38/100 [03:17<05:19,  5.16s/it]"
          ]
        },
        {
          "output_type": "stream",
          "name": "stdout",
          "text": [
            "0.2243169473691119\n"
          ]
        },
        {
          "output_type": "stream",
          "name": "stderr",
          "text": [
            "\r 39%|███▉      | 39/100 [03:22<05:14,  5.16s/it]"
          ]
        },
        {
          "output_type": "stream",
          "name": "stdout",
          "text": [
            "0.22185429827206665\n"
          ]
        },
        {
          "output_type": "stream",
          "name": "stderr",
          "text": [
            "\r 40%|████      | 40/100 [03:27<05:09,  5.15s/it]"
          ]
        },
        {
          "output_type": "stream",
          "name": "stdout",
          "text": [
            "0.21945252207418284\n"
          ]
        },
        {
          "output_type": "stream",
          "name": "stderr",
          "text": [
            "\r 41%|████      | 41/100 [03:32<05:03,  5.15s/it]"
          ]
        },
        {
          "output_type": "stream",
          "name": "stdout",
          "text": [
            "0.21709321894579464\n"
          ]
        },
        {
          "output_type": "stream",
          "name": "stderr",
          "text": [
            "\r 42%|████▏     | 42/100 [03:37<04:57,  5.14s/it]"
          ]
        },
        {
          "output_type": "stream",
          "name": "stdout",
          "text": [
            "0.2147799370189508\n"
          ]
        },
        {
          "output_type": "stream",
          "name": "stderr",
          "text": [
            "\r 43%|████▎     | 43/100 [03:43<04:59,  5.25s/it]"
          ]
        },
        {
          "output_type": "stream",
          "name": "stdout",
          "text": [
            "0.21251033370693526\n"
          ]
        },
        {
          "output_type": "stream",
          "name": "stderr",
          "text": [
            "\r 44%|████▍     | 44/100 [03:48<04:51,  5.21s/it]"
          ]
        },
        {
          "output_type": "stream",
          "name": "stdout",
          "text": [
            "0.21027997467252943\n"
          ]
        },
        {
          "output_type": "stream",
          "name": "stderr",
          "text": [
            "\r 45%|████▌     | 45/100 [03:53<04:45,  5.19s/it]"
          ]
        },
        {
          "output_type": "stream",
          "name": "stdout",
          "text": [
            "0.20808753867944083\n"
          ]
        },
        {
          "output_type": "stream",
          "name": "stderr",
          "text": [
            "\r 46%|████▌     | 46/100 [03:58<04:38,  5.17s/it]"
          ]
        },
        {
          "output_type": "stream",
          "name": "stdout",
          "text": [
            "0.20592791525026163\n"
          ]
        },
        {
          "output_type": "stream",
          "name": "stderr",
          "text": [
            "\r 47%|████▋     | 47/100 [04:03<04:33,  5.16s/it]"
          ]
        },
        {
          "output_type": "stream",
          "name": "stdout",
          "text": [
            "0.20380019706984362\n"
          ]
        },
        {
          "output_type": "stream",
          "name": "stderr",
          "text": [
            "\r 48%|████▊     | 48/100 [04:09<04:27,  5.15s/it]"
          ]
        },
        {
          "output_type": "stream",
          "name": "stdout",
          "text": [
            "0.20170771537555587\n"
          ]
        },
        {
          "output_type": "stream",
          "name": "stderr",
          "text": [
            "\r 49%|████▉     | 49/100 [04:14<04:22,  5.15s/it]"
          ]
        },
        {
          "output_type": "stream",
          "name": "stdout",
          "text": [
            "0.1996526275244024\n"
          ]
        },
        {
          "output_type": "stream",
          "name": "stderr",
          "text": [
            "\r 50%|█████     | 50/100 [04:19<04:17,  5.15s/it]"
          ]
        },
        {
          "output_type": "stream",
          "name": "stdout",
          "text": [
            "0.19762363967796168\n"
          ]
        },
        {
          "output_type": "stream",
          "name": "stderr",
          "text": [
            "\r 51%|█████     | 51/100 [04:24<04:12,  5.15s/it]"
          ]
        },
        {
          "output_type": "stream",
          "name": "stdout",
          "text": [
            "0.1956257830477423\n"
          ]
        },
        {
          "output_type": "stream",
          "name": "stderr",
          "text": [
            "\r 52%|█████▏    | 52/100 [04:29<04:06,  5.14s/it]"
          ]
        },
        {
          "output_type": "stream",
          "name": "stdout",
          "text": [
            "0.19365077796909544\n"
          ]
        },
        {
          "output_type": "stream",
          "name": "stderr",
          "text": [
            "\r 53%|█████▎    | 53/100 [04:34<04:01,  5.13s/it]"
          ]
        },
        {
          "output_type": "stream",
          "name": "stdout",
          "text": [
            "0.19168982199496692\n"
          ]
        },
        {
          "output_type": "stream",
          "name": "stderr",
          "text": [
            "\r 54%|█████▍    | 54/100 [04:39<03:55,  5.13s/it]"
          ]
        },
        {
          "output_type": "stream",
          "name": "stdout",
          "text": [
            "0.18974641317294705\n"
          ]
        },
        {
          "output_type": "stream",
          "name": "stderr",
          "text": [
            "\r 55%|█████▌    | 55/100 [04:44<03:50,  5.13s/it]"
          ]
        },
        {
          "output_type": "stream",
          "name": "stdout",
          "text": [
            "0.18782229514585602\n"
          ]
        },
        {
          "output_type": "stream",
          "name": "stderr",
          "text": [
            "\r 56%|█████▌    | 56/100 [04:50<03:45,  5.13s/it]"
          ]
        },
        {
          "output_type": "stream",
          "name": "stdout",
          "text": [
            "0.18591422711809477\n"
          ]
        },
        {
          "output_type": "stream",
          "name": "stderr",
          "text": [
            "\r 57%|█████▋    | 57/100 [04:55<03:40,  5.12s/it]"
          ]
        },
        {
          "output_type": "stream",
          "name": "stdout",
          "text": [
            "0.18403166863653395\n"
          ]
        },
        {
          "output_type": "stream",
          "name": "stderr",
          "text": [
            "\r 58%|█████▊    | 58/100 [05:00<03:35,  5.13s/it]"
          ]
        },
        {
          "output_type": "stream",
          "name": "stdout",
          "text": [
            "0.18217190148101914\n"
          ]
        },
        {
          "output_type": "stream",
          "name": "stderr",
          "text": [
            "\r 59%|█████▉    | 59/100 [05:05<03:30,  5.14s/it]"
          ]
        },
        {
          "output_type": "stream",
          "name": "stdout",
          "text": [
            "0.18032910260889265\n"
          ]
        },
        {
          "output_type": "stream",
          "name": "stderr",
          "text": [
            "\r 60%|██████    | 60/100 [05:11<03:30,  5.25s/it]"
          ]
        },
        {
          "output_type": "stream",
          "name": "stdout",
          "text": [
            "0.17851069010794163\n"
          ]
        },
        {
          "output_type": "stream",
          "name": "stderr",
          "text": [
            "\r 61%|██████    | 61/100 [05:16<03:23,  5.21s/it]"
          ]
        },
        {
          "output_type": "stream",
          "name": "stdout",
          "text": [
            "0.17672781377202934\n"
          ]
        },
        {
          "output_type": "stream",
          "name": "stderr",
          "text": [
            "\r 62%|██████▏   | 62/100 [05:21<03:17,  5.19s/it]"
          ]
        },
        {
          "output_type": "stream",
          "name": "stdout",
          "text": [
            "0.17498295878370604\n"
          ]
        },
        {
          "output_type": "stream",
          "name": "stderr",
          "text": [
            "\r 63%|██████▎   | 63/100 [05:26<03:11,  5.18s/it]"
          ]
        },
        {
          "output_type": "stream",
          "name": "stdout",
          "text": [
            "0.1732665327274137\n"
          ]
        },
        {
          "output_type": "stream",
          "name": "stderr",
          "text": [
            "\r 64%|██████▍   | 64/100 [05:31<03:05,  5.16s/it]"
          ]
        },
        {
          "output_type": "stream",
          "name": "stdout",
          "text": [
            "0.1715916076468097\n"
          ]
        },
        {
          "output_type": "stream",
          "name": "stderr",
          "text": [
            "\r 65%|██████▌   | 65/100 [05:36<03:00,  5.15s/it]"
          ]
        },
        {
          "output_type": "stream",
          "name": "stdout",
          "text": [
            "0.16994795989659098\n"
          ]
        },
        {
          "output_type": "stream",
          "name": "stderr",
          "text": [
            "\r 66%|██████▌   | 66/100 [05:41<02:54,  5.14s/it]"
          ]
        },
        {
          "output_type": "stream",
          "name": "stdout",
          "text": [
            "0.16835146894057593\n"
          ]
        },
        {
          "output_type": "stream",
          "name": "stderr",
          "text": [
            "\r 67%|██████▋   | 67/100 [05:46<02:49,  5.13s/it]"
          ]
        },
        {
          "output_type": "stream",
          "name": "stdout",
          "text": [
            "0.16678838369747004\n"
          ]
        },
        {
          "output_type": "stream",
          "name": "stderr",
          "text": [
            "\r 68%|██████▊   | 68/100 [05:52<02:44,  5.14s/it]"
          ]
        },
        {
          "output_type": "stream",
          "name": "stdout",
          "text": [
            "0.16527746431529522\n"
          ]
        },
        {
          "output_type": "stream",
          "name": "stderr",
          "text": [
            "\r 69%|██████▉   | 69/100 [05:57<02:39,  5.14s/it]"
          ]
        },
        {
          "output_type": "stream",
          "name": "stdout",
          "text": [
            "0.1638195134906305\n"
          ]
        },
        {
          "output_type": "stream",
          "name": "stderr",
          "text": [
            "\r 70%|███████   | 70/100 [06:02<02:34,  5.14s/it]"
          ]
        },
        {
          "output_type": "stream",
          "name": "stdout",
          "text": [
            "0.16240477489514482\n"
          ]
        },
        {
          "output_type": "stream",
          "name": "stderr",
          "text": [
            "\r 71%|███████   | 71/100 [06:07<02:29,  5.15s/it]"
          ]
        },
        {
          "output_type": "stream",
          "name": "stdout",
          "text": [
            "0.16105526230401462\n"
          ]
        },
        {
          "output_type": "stream",
          "name": "stderr",
          "text": [
            "\r 72%|███████▏  | 72/100 [06:12<02:24,  5.14s/it]"
          ]
        },
        {
          "output_type": "stream",
          "name": "stdout",
          "text": [
            "0.1597620731012689\n"
          ]
        },
        {
          "output_type": "stream",
          "name": "stderr",
          "text": [
            "\r 73%|███████▎  | 73/100 [06:17<02:18,  5.14s/it]"
          ]
        },
        {
          "output_type": "stream",
          "name": "stdout",
          "text": [
            "0.1585113528288073\n"
          ]
        },
        {
          "output_type": "stream",
          "name": "stderr",
          "text": [
            "\r 74%|███████▍  | 74/100 [06:22<02:13,  5.14s/it]"
          ]
        },
        {
          "output_type": "stream",
          "name": "stdout",
          "text": [
            "0.15730764654775461\n"
          ]
        },
        {
          "output_type": "stream",
          "name": "stderr",
          "text": [
            "\r 75%|███████▌  | 75/100 [06:28<02:08,  5.14s/it]"
          ]
        },
        {
          "output_type": "stream",
          "name": "stdout",
          "text": [
            "0.15616082772612572\n"
          ]
        },
        {
          "output_type": "stream",
          "name": "stderr",
          "text": [
            "\r 76%|███████▌  | 76/100 [06:33<02:03,  5.14s/it]"
          ]
        },
        {
          "output_type": "stream",
          "name": "stdout",
          "text": [
            "0.1550616171831886\n"
          ]
        },
        {
          "output_type": "stream",
          "name": "stderr",
          "text": [
            "\r 77%|███████▋  | 77/100 [06:38<02:00,  5.26s/it]"
          ]
        },
        {
          "output_type": "stream",
          "name": "stdout",
          "text": [
            "0.15400424123638207\n"
          ]
        },
        {
          "output_type": "stream",
          "name": "stderr",
          "text": [
            "\r 78%|███████▊  | 78/100 [06:43<01:54,  5.23s/it]"
          ]
        },
        {
          "output_type": "stream",
          "name": "stdout",
          "text": [
            "0.15299078873876068\n"
          ]
        },
        {
          "output_type": "stream",
          "name": "stderr",
          "text": [
            "\r 79%|███████▉  | 79/100 [06:49<01:49,  5.20s/it]"
          ]
        },
        {
          "output_type": "stream",
          "name": "stdout",
          "text": [
            "0.15202482675926554\n"
          ]
        },
        {
          "output_type": "stream",
          "name": "stderr",
          "text": [
            "\r 80%|████████  | 80/100 [06:54<01:43,  5.18s/it]"
          ]
        },
        {
          "output_type": "stream",
          "name": "stdout",
          "text": [
            "0.15109423227194282\n"
          ]
        },
        {
          "output_type": "stream",
          "name": "stderr",
          "text": [
            "\r 81%|████████  | 81/100 [06:59<01:38,  5.17s/it]"
          ]
        },
        {
          "output_type": "stream",
          "name": "stdout",
          "text": [
            "0.15020243492391375\n"
          ]
        },
        {
          "output_type": "stream",
          "name": "stderr",
          "text": [
            "\r 82%|████████▏ | 82/100 [07:04<01:32,  5.16s/it]"
          ]
        },
        {
          "output_type": "stream",
          "name": "stdout",
          "text": [
            "0.14936067029419872\n"
          ]
        },
        {
          "output_type": "stream",
          "name": "stderr",
          "text": [
            "\r 83%|████████▎ | 83/100 [07:09<01:27,  5.16s/it]"
          ]
        },
        {
          "output_type": "stream",
          "name": "stdout",
          "text": [
            "0.14855289262615973\n"
          ]
        },
        {
          "output_type": "stream",
          "name": "stderr",
          "text": [
            "\r 84%|████████▍ | 84/100 [07:14<01:22,  5.15s/it]"
          ]
        },
        {
          "output_type": "stream",
          "name": "stdout",
          "text": [
            "0.1477728651629554\n"
          ]
        },
        {
          "output_type": "stream",
          "name": "stderr",
          "text": [
            "\r 85%|████████▌ | 85/100 [07:19<01:17,  5.15s/it]"
          ]
        },
        {
          "output_type": "stream",
          "name": "stdout",
          "text": [
            "0.147029560059309\n"
          ]
        },
        {
          "output_type": "stream",
          "name": "stderr",
          "text": [
            "\r 86%|████████▌ | 86/100 [07:25<01:12,  5.16s/it]"
          ]
        },
        {
          "output_type": "stream",
          "name": "stdout",
          "text": [
            "0.14632160226917929\n"
          ]
        },
        {
          "output_type": "stream",
          "name": "stderr",
          "text": [
            "\r 87%|████████▋ | 87/100 [07:30<01:07,  5.16s/it]"
          ]
        },
        {
          "output_type": "stream",
          "name": "stdout",
          "text": [
            "0.14565020820332897\n"
          ]
        },
        {
          "output_type": "stream",
          "name": "stderr",
          "text": [
            "\r 88%|████████▊ | 88/100 [07:35<01:01,  5.16s/it]"
          ]
        },
        {
          "output_type": "stream",
          "name": "stdout",
          "text": [
            "0.14502097935312325\n"
          ]
        },
        {
          "output_type": "stream",
          "name": "stderr",
          "text": [
            "\r 89%|████████▉ | 89/100 [07:40<00:56,  5.16s/it]"
          ]
        },
        {
          "output_type": "stream",
          "name": "stdout",
          "text": [
            "0.14442587861170372\n"
          ]
        },
        {
          "output_type": "stream",
          "name": "stderr",
          "text": [
            "\r 90%|█████████ | 90/100 [07:45<00:51,  5.15s/it]"
          ]
        },
        {
          "output_type": "stream",
          "name": "stdout",
          "text": [
            "0.14385709683928224\n"
          ]
        },
        {
          "output_type": "stream",
          "name": "stderr",
          "text": [
            "\r 91%|█████████ | 91/100 [07:50<00:46,  5.15s/it]"
          ]
        },
        {
          "output_type": "stream",
          "name": "stdout",
          "text": [
            "0.14331204899483257\n"
          ]
        },
        {
          "output_type": "stream",
          "name": "stderr",
          "text": [
            "\r 92%|█████████▏| 92/100 [07:55<00:41,  5.14s/it]"
          ]
        },
        {
          "output_type": "stream",
          "name": "stdout",
          "text": [
            "0.14278537542041805\n"
          ]
        },
        {
          "output_type": "stream",
          "name": "stderr",
          "text": [
            "\r 93%|█████████▎| 93/100 [08:01<00:35,  5.14s/it]"
          ]
        },
        {
          "output_type": "stream",
          "name": "stdout",
          "text": [
            "0.14227508381009102\n"
          ]
        },
        {
          "output_type": "stream",
          "name": "stderr",
          "text": [
            "\r 94%|█████████▍| 94/100 [08:06<00:30,  5.14s/it]"
          ]
        },
        {
          "output_type": "stream",
          "name": "stdout",
          "text": [
            "0.14177946011639303\n"
          ]
        },
        {
          "output_type": "stream",
          "name": "stderr",
          "text": [
            "\r 95%|█████████▌| 95/100 [08:11<00:26,  5.25s/it]"
          ]
        },
        {
          "output_type": "stream",
          "name": "stdout",
          "text": [
            "0.14130504719085163\n"
          ]
        },
        {
          "output_type": "stream",
          "name": "stderr",
          "text": [
            "\r 96%|█████████▌| 96/100 [08:16<00:20,  5.20s/it]"
          ]
        },
        {
          "output_type": "stream",
          "name": "stdout",
          "text": [
            "0.14084444536517063\n"
          ]
        },
        {
          "output_type": "stream",
          "name": "stderr",
          "text": [
            "\r 97%|█████████▋| 97/100 [08:21<00:15,  5.18s/it]"
          ]
        },
        {
          "output_type": "stream",
          "name": "stdout",
          "text": [
            "0.14039576891809702\n"
          ]
        },
        {
          "output_type": "stream",
          "name": "stderr",
          "text": [
            "\r 98%|█████████▊| 98/100 [08:27<00:10,  5.17s/it]"
          ]
        },
        {
          "output_type": "stream",
          "name": "stdout",
          "text": [
            "0.13996162079274654\n"
          ]
        },
        {
          "output_type": "stream",
          "name": "stderr",
          "text": [
            "\r 99%|█████████▉| 99/100 [08:32<00:05,  5.16s/it]"
          ]
        },
        {
          "output_type": "stream",
          "name": "stdout",
          "text": [
            "0.13953942050122553\n"
          ]
        },
        {
          "output_type": "stream",
          "name": "stderr",
          "text": [
            "100%|██████████| 100/100 [08:37<00:00,  5.17s/it]"
          ]
        },
        {
          "output_type": "stream",
          "name": "stdout",
          "text": [
            "0.13912438891000217\n"
          ]
        },
        {
          "output_type": "stream",
          "name": "stderr",
          "text": [
            "\n"
          ]
        }
      ]
    }
  ]
}