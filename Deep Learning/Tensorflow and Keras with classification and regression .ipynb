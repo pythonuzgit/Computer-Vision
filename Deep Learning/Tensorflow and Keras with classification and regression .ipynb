{
 "cells": [
  {
   "cell_type": "markdown",
   "metadata": {},
   "source": [
    "Importing Libraries"
   ]
  },
  {
   "cell_type": "code",
   "execution_count": 36,
   "metadata": {},
   "outputs": [],
   "source": [
    "import pandas as pd\n",
    "import numpy as np\n",
    "import tensorflow as tf\n",
    "\n",
    "import matplotlib.pyplot as plt\n",
    "%matplotlib inline\n",
    "\n",
    "import seaborn as sns\n",
    "sns.set(style=\"darkgrid\")"
   ]
  },
  {
   "cell_type": "markdown",
   "metadata": {},
   "source": [
    "Loading the Dataset"
   ]
  },
  {
   "cell_type": "code",
   "execution_count": 39,
   "metadata": {},
   "outputs": [],
   "source": [
    "hdsd = pd.read_csv('healthcare-dataset-stroke-data.csv')"
   ]
  },
  {
   "cell_type": "markdown",
   "metadata": {},
   "source": [
    "The first 5 rows"
   ]
  },
  {
   "cell_type": "code",
   "execution_count": 40,
   "metadata": {},
   "outputs": [
    {
     "data": {
      "text/html": [
       "<div>\n",
       "<style scoped>\n",
       "    .dataframe tbody tr th:only-of-type {\n",
       "        vertical-align: middle;\n",
       "    }\n",
       "\n",
       "    .dataframe tbody tr th {\n",
       "        vertical-align: top;\n",
       "    }\n",
       "\n",
       "    .dataframe thead th {\n",
       "        text-align: right;\n",
       "    }\n",
       "</style>\n",
       "<table border=\"1\" class=\"dataframe\">\n",
       "  <thead>\n",
       "    <tr style=\"text-align: right;\">\n",
       "      <th></th>\n",
       "      <th>id</th>\n",
       "      <th>gender</th>\n",
       "      <th>age</th>\n",
       "      <th>hypertension</th>\n",
       "      <th>heart_disease</th>\n",
       "      <th>ever_married</th>\n",
       "      <th>work_type</th>\n",
       "      <th>Residence_type</th>\n",
       "      <th>avg_glucose_level</th>\n",
       "      <th>bmi</th>\n",
       "      <th>smoking_status</th>\n",
       "      <th>stroke</th>\n",
       "    </tr>\n",
       "  </thead>\n",
       "  <tbody>\n",
       "    <tr>\n",
       "      <th>0</th>\n",
       "      <td>9046</td>\n",
       "      <td>Male</td>\n",
       "      <td>67.0</td>\n",
       "      <td>0</td>\n",
       "      <td>1</td>\n",
       "      <td>Yes</td>\n",
       "      <td>Private</td>\n",
       "      <td>Urban</td>\n",
       "      <td>228.69</td>\n",
       "      <td>36.6</td>\n",
       "      <td>formerly smoked</td>\n",
       "      <td>1</td>\n",
       "    </tr>\n",
       "    <tr>\n",
       "      <th>1</th>\n",
       "      <td>51676</td>\n",
       "      <td>Female</td>\n",
       "      <td>61.0</td>\n",
       "      <td>0</td>\n",
       "      <td>0</td>\n",
       "      <td>Yes</td>\n",
       "      <td>Self-employed</td>\n",
       "      <td>Rural</td>\n",
       "      <td>202.21</td>\n",
       "      <td>NaN</td>\n",
       "      <td>never smoked</td>\n",
       "      <td>1</td>\n",
       "    </tr>\n",
       "    <tr>\n",
       "      <th>2</th>\n",
       "      <td>31112</td>\n",
       "      <td>Male</td>\n",
       "      <td>80.0</td>\n",
       "      <td>0</td>\n",
       "      <td>1</td>\n",
       "      <td>Yes</td>\n",
       "      <td>Private</td>\n",
       "      <td>Rural</td>\n",
       "      <td>105.92</td>\n",
       "      <td>32.5</td>\n",
       "      <td>never smoked</td>\n",
       "      <td>1</td>\n",
       "    </tr>\n",
       "    <tr>\n",
       "      <th>3</th>\n",
       "      <td>60182</td>\n",
       "      <td>Female</td>\n",
       "      <td>49.0</td>\n",
       "      <td>0</td>\n",
       "      <td>0</td>\n",
       "      <td>Yes</td>\n",
       "      <td>Private</td>\n",
       "      <td>Urban</td>\n",
       "      <td>171.23</td>\n",
       "      <td>34.4</td>\n",
       "      <td>smokes</td>\n",
       "      <td>1</td>\n",
       "    </tr>\n",
       "    <tr>\n",
       "      <th>4</th>\n",
       "      <td>1665</td>\n",
       "      <td>Female</td>\n",
       "      <td>79.0</td>\n",
       "      <td>1</td>\n",
       "      <td>0</td>\n",
       "      <td>Yes</td>\n",
       "      <td>Self-employed</td>\n",
       "      <td>Rural</td>\n",
       "      <td>174.12</td>\n",
       "      <td>24.0</td>\n",
       "      <td>never smoked</td>\n",
       "      <td>1</td>\n",
       "    </tr>\n",
       "  </tbody>\n",
       "</table>\n",
       "</div>"
      ],
      "text/plain": [
       "      id  gender   age  hypertension  heart_disease ever_married  \\\n",
       "0   9046    Male  67.0             0              1          Yes   \n",
       "1  51676  Female  61.0             0              0          Yes   \n",
       "2  31112    Male  80.0             0              1          Yes   \n",
       "3  60182  Female  49.0             0              0          Yes   \n",
       "4   1665  Female  79.0             1              0          Yes   \n",
       "\n",
       "       work_type Residence_type  avg_glucose_level   bmi   smoking_status  \\\n",
       "0        Private          Urban             228.69  36.6  formerly smoked   \n",
       "1  Self-employed          Rural             202.21   NaN     never smoked   \n",
       "2        Private          Rural             105.92  32.5     never smoked   \n",
       "3        Private          Urban             171.23  34.4           smokes   \n",
       "4  Self-employed          Rural             174.12  24.0     never smoked   \n",
       "\n",
       "   stroke  \n",
       "0       1  \n",
       "1       1  \n",
       "2       1  \n",
       "3       1  \n",
       "4       1  "
      ]
     },
     "execution_count": 40,
     "metadata": {},
     "output_type": "execute_result"
    }
   ],
   "source": [
    "hdsd.head()"
   ]
  },
  {
   "cell_type": "markdown",
   "metadata": {},
   "source": [
    "Data Analysis and Preprocessing"
   ]
  },
  {
   "cell_type": "code",
   "execution_count": 41,
   "metadata": {},
   "outputs": [],
   "source": [
    "plot_size = plt.rcParams['figure.figsize']\n",
    "plot_size[0] = 8\n",
    "plot_size[1] = 6\n",
    "plt.rcParams['figure.figsize'] = plot_size"
   ]
  },
  {
   "cell_type": "markdown",
   "metadata": {},
   "source": [
    "The pie chart showing the smoking_status distribution"
   ]
  },
  {
   "cell_type": "code",
   "execution_count": 42,
   "metadata": {},
   "outputs": [
    {
     "data": {
      "text/plain": [
       "<matplotlib.axes._subplots.AxesSubplot at 0x7fcff09a9210>"
      ]
     },
     "execution_count": 42,
     "metadata": {},
     "output_type": "execute_result"
    },
    {
     "data": {
      "image/png": "[encoded data removed]",
      "text/plain": [
       "<Figure size 576x432 with 1 Axes>"
      ]
     },
     "metadata": {},
     "output_type": "display_data"
    }
   ],
   "source": [
    "hdsd.smoking_status.value_counts().plot(kind='pie', autopct='%0.05f%%', \n",
    "                                        colors = ['lightblue', 'lightgreen', 'orange', 'pink'], \n",
    "                                        explode = (0.05, 0.05, 0.05,0.05))"
   ]
  },
  {
   "cell_type": "markdown",
   "metadata": {},
   "source": [
    "Categorical columns into numeric columns"
   ]
  },
  {
   "cell_type": "code",
   "execution_count": 48,
   "metadata": {},
   "outputs": [],
   "source": [
    "id = pd.get_dummies(hdsd.id, prefix = 'id')\n",
    "gender = pd.get_dummies(hdsd.gender, prefix = 'gender')\n",
    "age = pd.get_dummies(hdsd.age, prefix = 'age')\n",
    "\n",
    "hypertension = pd.get_dummies(hdsd.hypertension, prefix = 'hypertension')\n",
    "heart_disease = pd.get_dummies(hdsd.heart_disease, prefix = 'heart_disease')\n",
    "ever_married = pd.get_dummies(hdsd.ever_married, prefix = 'ever_married')\n",
    "work_type = pd.get_dummies(hdsd.work_type, prefix = 'work_type')\n",
    "\n",
    "Residence_type = pd.get_dummies(hdsd.Residence_type, prefix = 'Residence_type')\n",
    "avg_glucose_level = pd.get_dummies(hdsd.avg_glucose_level, prefix = 'avg_glucose_level')\n",
    "bmi = pd.get_dummies(hdsd.bmi, prefix = 'bmi')\n",
    "labels = pd.get_dummies(hdsd.smoking_status, prefix = 'condition')\n",
    "stroke = pd.get_dummies(hdsd.stroke, prefix = 'stroke')"
   ]
  },
  {
   "cell_type": "markdown",
   "metadata": {},
   "source": [
    "To create feature set"
   ]
  },
  {
   "cell_type": "code",
   "execution_count": 49,
   "metadata": {},
   "outputs": [],
   "source": [
    "X = pd.concat([id, gender, age, hypertension, heart_disease, ever_married, work_type, Residence_type,\n",
    "               avg_glucose_level, bmi, stroke], axis = 1)"
   ]
  },
  {
   "cell_type": "markdown",
   "metadata": {},
   "source": [
    "Label columns"
   ]
  },
  {
   "cell_type": "code",
   "execution_count": 50,
   "metadata": {},
   "outputs": [
    {
     "data": {
      "text/html": [
       "<div>\n",
       "<style scoped>\n",
       "    .dataframe tbody tr th:only-of-type {\n",
       "        vertical-align: middle;\n",
       "    }\n",
       "\n",
       "    .dataframe tbody tr th {\n",
       "        vertical-align: top;\n",
       "    }\n",
       "\n",
       "    .dataframe thead th {\n",
       "        text-align: right;\n",
       "    }\n",
       "</style>\n",
       "<table border=\"1\" class=\"dataframe\">\n",
       "  <thead>\n",
       "    <tr style=\"text-align: right;\">\n",
       "      <th></th>\n",
       "      <th>condition_Unknown</th>\n",
       "      <th>condition_formerly smoked</th>\n",
       "      <th>condition_never smoked</th>\n",
       "      <th>condition_smokes</th>\n",
       "    </tr>\n",
       "  </thead>\n",
       "  <tbody>\n",
       "    <tr>\n",
       "      <th>0</th>\n",
       "      <td>0</td>\n",
       "      <td>1</td>\n",
       "      <td>0</td>\n",
       "      <td>0</td>\n",
       "    </tr>\n",
       "    <tr>\n",
       "      <th>1</th>\n",
       "      <td>0</td>\n",
       "      <td>0</td>\n",
       "      <td>1</td>\n",
       "      <td>0</td>\n",
       "    </tr>\n",
       "    <tr>\n",
       "      <th>2</th>\n",
       "      <td>0</td>\n",
       "      <td>0</td>\n",
       "      <td>1</td>\n",
       "      <td>0</td>\n",
       "    </tr>\n",
       "    <tr>\n",
       "      <th>3</th>\n",
       "      <td>0</td>\n",
       "      <td>0</td>\n",
       "      <td>0</td>\n",
       "      <td>1</td>\n",
       "    </tr>\n",
       "    <tr>\n",
       "      <th>4</th>\n",
       "      <td>0</td>\n",
       "      <td>0</td>\n",
       "      <td>1</td>\n",
       "      <td>0</td>\n",
       "    </tr>\n",
       "  </tbody>\n",
       "</table>\n",
       "</div>"
      ],
      "text/plain": [
       "   condition_Unknown  condition_formerly smoked  condition_never smoked  \\\n",
       "0                  0                          1                       0   \n",
       "1                  0                          0                       1   \n",
       "2                  0                          0                       1   \n",
       "3                  0                          0                       0   \n",
       "4                  0                          0                       1   \n",
       "\n",
       "   condition_smokes  \n",
       "0                 0  \n",
       "1                 0  \n",
       "2                 0  \n",
       "3                 1  \n",
       "4                 0  "
      ]
     },
     "execution_count": 50,
     "metadata": {},
     "output_type": "execute_result"
    }
   ],
   "source": [
    "labels.head()"
   ]
  },
  {
   "cell_type": "markdown",
   "metadata": {},
   "source": [
    "Convert labels into a numpy array "
   ]
  },
  {
   "cell_type": "code",
   "execution_count": 51,
   "metadata": {},
   "outputs": [],
   "source": [
    "y = labels.values"
   ]
  },
  {
   "cell_type": "markdown",
   "metadata": {},
   "source": [
    "Split the dataset into training and test sets"
   ]
  },
  {
   "cell_type": "code",
   "execution_count": 52,
   "metadata": {},
   "outputs": [],
   "source": [
    "from sklearn.model_selection import train_test_split\n",
    "\n",
    "X_train, X_test, y_train, y_test = train_test_split(X, y, test_size = 42)"
   ]
  },
  {
   "cell_type": "markdown",
   "metadata": {},
   "source": [
    "Model training"
   ]
  },
  {
   "cell_type": "markdown",
   "metadata": {},
   "source": [
    "Build the train"
   ]
  },
  {
   "cell_type": "code",
   "execution_count": 53,
   "metadata": {},
   "outputs": [],
   "source": [
    "from tensorflow.keras.layers import Input, Dense, Activation, Dropout\n",
    "from tensorflow.keras.models import Model"
   ]
  },
  {
   "cell_type": "markdown",
   "metadata": {},
   "source": [
    "The next step is to create our classification model"
   ]
  },
  {
   "cell_type": "code",
   "execution_count": 54,
   "metadata": {},
   "outputs": [],
   "source": [
    "input_layer = Input(shape = X.shape[1],)\n",
    "dense_layer_1 = Dense(15, activation = 'relu')(input_layer)\n",
    "dense_layer_2 = Dense(10, activation = 'relu')(dense_layer_1)\n",
    "output = Dense(y.shape[1], activation = 'softmax')(dense_layer_2)\n",
    "\n",
    "model = Model(inputs = input_layer, outputs = output)\n",
    "model.compile(loss = 'categorical_crossentropy', optimizer = 'adam', metrics = ['acc'])"
   ]
  },
  {
   "cell_type": "markdown",
   "metadata": {},
   "source": [
    "The model summary"
   ]
  },
  {
   "cell_type": "code",
   "execution_count": 55,
   "metadata": {},
   "outputs": [
    {
     "name": "stdout",
     "output_type": "stream",
     "text": [
      "Model: \"model\"\n",
      "_________________________________________________________________\n",
      "Layer (type)                 Output Shape              Param #   \n",
      "=================================================================\n",
      "input_1 (InputLayer)         [(None, 9629)]            0         \n",
      "_________________________________________________________________\n",
      "dense (Dense)                (None, 15)                144450    \n",
      "_________________________________________________________________\n",
      "dense_1 (Dense)              (None, 10)                160       \n",
      "_________________________________________________________________\n",
      "dense_2 (Dense)              (None, 4)                 44        \n",
      "=================================================================\n",
      "Total params: 144,654\n",
      "Trainable params: 144,654\n",
      "Non-trainable params: 0\n",
      "_________________________________________________________________\n",
      "None\n"
     ]
    }
   ],
   "source": [
    "print(model.summary())"
   ]
  },
  {
   "cell_type": "markdown",
   "metadata": {},
   "source": [
    "To train the model"
   ]
  },
  {
   "cell_type": "code",
   "execution_count": 57,
   "metadata": {},
   "outputs": [
    {
     "name": "stdout",
     "output_type": "stream",
     "text": [
      "Epoch 1/50\n",
      "507/507 [==============================] - 3s 6ms/step - loss: 1.2544 - acc: 0.4386 - val_loss: 1.1945 - val_acc: 0.4734\n",
      "Epoch 2/50\n",
      "507/507 [==============================] - 3s 6ms/step - loss: 1.1033 - acc: 0.5111 - val_loss: 1.1867 - val_acc: 0.4704\n",
      "Epoch 3/50\n",
      "507/507 [==============================] - 3s 5ms/step - loss: 0.8676 - acc: 0.6500 - val_loss: 1.2669 - val_acc: 0.4477\n",
      "Epoch 4/50\n",
      "507/507 [==============================] - 3s 5ms/step - loss: 0.4684 - acc: 0.8703 - val_loss: 1.4343 - val_acc: 0.4260\n",
      "Epoch 5/50\n",
      "507/507 [==============================] - 4s 7ms/step - loss: 0.1914 - acc: 0.9798 - val_loss: 1.6300 - val_acc: 0.3886\n",
      "Epoch 6/50\n",
      "507/507 [==============================] - 3s 5ms/step - loss: 0.0717 - acc: 0.9978 - val_loss: 1.7564 - val_acc: 0.3915\n",
      "Epoch 7/50\n",
      "507/507 [==============================] - 3s 5ms/step - loss: 0.0272 - acc: 0.9995 - val_loss: 1.8955 - val_acc: 0.3856\n",
      "Epoch 8/50\n",
      "507/507 [==============================] - 3s 6ms/step - loss: 0.0123 - acc: 1.0000 - val_loss: 1.9859 - val_acc: 0.3767\n",
      "Epoch 9/50\n",
      "507/507 [==============================] - 3s 5ms/step - loss: 0.0066 - acc: 1.0000 - val_loss: 2.0771 - val_acc: 0.3807\n",
      "Epoch 10/50\n",
      "507/507 [==============================] - 3s 5ms/step - loss: 0.0040 - acc: 1.0000 - val_loss: 2.1640 - val_acc: 0.3836\n",
      "Epoch 11/50\n",
      "507/507 [==============================] - 3s 5ms/step - loss: 0.0025 - acc: 1.0000 - val_loss: 2.2351 - val_acc: 0.3777\n",
      "Epoch 12/50\n",
      "507/507 [==============================] - 3s 5ms/step - loss: 0.0016 - acc: 1.0000 - val_loss: 2.2950 - val_acc: 0.3718\n",
      "Epoch 13/50\n",
      "507/507 [==============================] - 4s 8ms/step - loss: 0.0011 - acc: 1.0000 - val_loss: 2.3654 - val_acc: 0.3629\n",
      "Epoch 14/50\n",
      "507/507 [==============================] - 3s 6ms/step - loss: 7.5186e-04 - acc: 1.0000 - val_loss: 2.4295 - val_acc: 0.3659\n",
      "Epoch 15/50\n",
      "507/507 [==============================] - 4s 9ms/step - loss: 5.2350e-04 - acc: 1.0000 - val_loss: 2.4974 - val_acc: 0.3669\n",
      "Epoch 16/50\n",
      "507/507 [==============================] - 3s 7ms/step - loss: 3.6957e-04 - acc: 1.0000 - val_loss: 2.5611 - val_acc: 0.3708\n",
      "Epoch 17/50\n",
      "507/507 [==============================] - 4s 8ms/step - loss: 2.6337e-04 - acc: 1.0000 - val_loss: 2.6107 - val_acc: 0.3659\n",
      "Epoch 18/50\n",
      "507/507 [==============================] - 3s 6ms/step - loss: 1.8775e-04 - acc: 1.0000 - val_loss: 2.6754 - val_acc: 0.3659\n",
      "Epoch 19/50\n",
      "507/507 [==============================] - 2s 4ms/step - loss: 1.3578e-04 - acc: 1.0000 - val_loss: 2.7345 - val_acc: 0.3639\n",
      "Epoch 20/50\n",
      "507/507 [==============================] - 2s 4ms/step - loss: 9.8682e-05 - acc: 1.0000 - val_loss: 2.7889 - val_acc: 0.3718\n",
      "Epoch 21/50\n",
      "507/507 [==============================] - 2s 5ms/step - loss: 7.2272e-05 - acc: 1.0000 - val_loss: 2.8454 - val_acc: 0.3698\n",
      "Epoch 22/50\n",
      "507/507 [==============================] - 3s 7ms/step - loss: 5.3112e-05 - acc: 1.0000 - val_loss: 2.9123 - val_acc: 0.3688\n",
      "Epoch 23/50\n",
      "507/507 [==============================] - 3s 6ms/step - loss: 3.9343e-05 - acc: 1.0000 - val_loss: 2.9609 - val_acc: 0.3688\n",
      "Epoch 24/50\n",
      "507/507 [==============================] - 3s 5ms/step - loss: 2.9420e-05 - acc: 1.0000 - val_loss: 3.0231 - val_acc: 0.3659\n",
      "Epoch 25/50\n",
      "507/507 [==============================] - 2s 5ms/step - loss: 2.1756e-05 - acc: 1.0000 - val_loss: 3.0762 - val_acc: 0.3649\n",
      "Epoch 26/50\n",
      "507/507 [==============================] - 3s 6ms/step - loss: 1.6190e-05 - acc: 1.0000 - val_loss: 3.1350 - val_acc: 0.3669\n",
      "Epoch 27/50\n",
      "507/507 [==============================] - 3s 5ms/step - loss: 1.2105e-05 - acc: 1.0000 - val_loss: 3.1909 - val_acc: 0.3669\n",
      "Epoch 28/50\n",
      "507/507 [==============================] - 3s 5ms/step - loss: 9.0389e-06 - acc: 1.0000 - val_loss: 3.2606 - val_acc: 0.3688\n",
      "Epoch 29/50\n",
      "507/507 [==============================] - 2s 5ms/step - loss: 6.7706e-06 - acc: 1.0000 - val_loss: 3.3160 - val_acc: 0.3649\n",
      "Epoch 30/50\n",
      "507/507 [==============================] - 3s 5ms/step - loss: 5.0918e-06 - acc: 1.0000 - val_loss: 3.3710 - val_acc: 0.3659\n",
      "Epoch 31/50\n",
      "507/507 [==============================] - 3s 6ms/step - loss: 3.8140e-06 - acc: 1.0000 - val_loss: 3.4330 - val_acc: 0.3649\n",
      "Epoch 32/50\n",
      "507/507 [==============================] - 3s 5ms/step - loss: 2.9301e-06 - acc: 1.0000 - val_loss: 3.4883 - val_acc: 0.3679\n",
      "Epoch 33/50\n",
      "507/507 [==============================] - 5s 10ms/step - loss: 2.1863e-06 - acc: 1.0000 - val_loss: 3.5483 - val_acc: 0.3659\n",
      "Epoch 34/50\n",
      "507/507 [==============================] - 4s 7ms/step - loss: 1.6431e-06 - acc: 1.0000 - val_loss: 3.6004 - val_acc: 0.3669\n",
      "Epoch 35/50\n",
      "507/507 [==============================] - 3s 7ms/step - loss: 1.2352e-06 - acc: 1.0000 - val_loss: 3.6672 - val_acc: 0.3639\n",
      "Epoch 36/50\n",
      "507/507 [==============================] - 2s 4ms/step - loss: 9.3349e-07 - acc: 1.0000 - val_loss: 3.7296 - val_acc: 0.3679\n",
      "Epoch 37/50\n",
      "507/507 [==============================] - 2s 4ms/step - loss: 7.0731e-07 - acc: 1.0000 - val_loss: 3.7888 - val_acc: 0.3659\n",
      "Epoch 38/50\n",
      "507/507 [==============================] - 2s 4ms/step - loss: 5.3664e-07 - acc: 1.0000 - val_loss: 3.8383 - val_acc: 0.3639\n",
      "Epoch 39/50\n",
      "507/507 [==============================] - 2s 4ms/step - loss: 4.1508e-07 - acc: 1.0000 - val_loss: 3.8899 - val_acc: 0.3649\n",
      "Epoch 40/50\n",
      "507/507 [==============================] - 2s 4ms/step - loss: 3.2025e-07 - acc: 1.0000 - val_loss: 3.9520 - val_acc: 0.3649\n",
      "Epoch 41/50\n",
      "507/507 [==============================] - 2s 4ms/step - loss: 2.3398e-07 - acc: 1.0000 - val_loss: 3.9925 - val_acc: 0.3590\n",
      "Epoch 42/50\n",
      "507/507 [==============================] - 2s 4ms/step - loss: 1.7531e-07 - acc: 1.0000 - val_loss: 4.0492 - val_acc: 0.3580\n",
      "Epoch 43/50\n",
      "507/507 [==============================] - 2s 4ms/step - loss: 1.3085e-07 - acc: 1.0000 - val_loss: 4.0923 - val_acc: 0.3580\n",
      "Epoch 44/50\n",
      "507/507 [==============================] - 2s 4ms/step - loss: 9.5156e-08 - acc: 1.0000 - val_loss: 4.1293 - val_acc: 0.3619\n",
      "Epoch 45/50\n",
      "507/507 [==============================] - 4s 8ms/step - loss: 6.6456e-08 - acc: 1.0000 - val_loss: 4.1635 - val_acc: 0.3619\n",
      "Epoch 46/50\n",
      "507/507 [==============================] - 3s 6ms/step - loss: 4.6813e-08 - acc: 1.0000 - val_loss: 4.2020 - val_acc: 0.3639\n",
      "Epoch 47/50\n",
      "507/507 [==============================] - 2s 4ms/step - loss: 3.3787e-08 - acc: 1.0000 - val_loss: 4.2257 - val_acc: 0.3639\n",
      "Epoch 48/50\n",
      "507/507 [==============================] - 2s 4ms/step - loss: 2.4877e-08 - acc: 1.0000 - val_loss: 4.2491 - val_acc: 0.3619\n",
      "Epoch 49/50\n",
      "507/507 [==============================] - 2s 4ms/step - loss: 1.6438e-08 - acc: 1.0000 - val_loss: 4.2742 - val_acc: 0.3639\n",
      "Epoch 50/50\n",
      "507/507 [==============================] - 2s 4ms/step - loss: 1.4644e-08 - acc: 1.0000 - val_loss: 4.3113 - val_acc: 0.3619\n"
     ]
    }
   ],
   "source": [
    "history = model.fit(X_train, y_train, batch_size = 8, epochs = 50, verbose = 1, validation_split = 0.2)"
   ]
  },
  {
   "cell_type": "code",
   "execution_count": null,
   "metadata": {},
   "outputs": [],
   "source": []
  }
 ],
 "metadata": {
  "kernelspec": {
   "display_name": "Python 3",
   "language": "python",
   "name": "python3"
  },
  "language_info": {
   "codemirror_mode": {
    "name": "ipython",
    "version": 3
   },
   "file_extension": ".py",
   "mimetype": "text/x-python",
   "name": "python",
   "nbconvert_exporter": "python",
   "pygments_lexer": "ipython3",
   "version": "3.7.7"
  }
 },
 "nbformat": 4,
 "nbformat_minor": 4
}
