{
 "cells": [
  {
   "cell_type": "markdown",
   "metadata": {},
   "source": [
    "Importing Libraries"
   ]
  },
  {
   "cell_type": "code",
   "execution_count": 95,
   "metadata": {},
   "outputs": [],
   "source": [
    "import matplotlib.pyplot as plt\n",
    "import numpy as np\n",
    "import pandas as pd\n",
    "import seaborn as sns\n",
    "\n",
    "# Make numpy printouts easier to read.\n",
    "np.set_printoptions(precision=3, suppress=True)\n",
    "\n",
    "import tensorflow as tf\n",
    "from tensorflow import keras\n",
    "from tensorflow.keras import layers\n",
    "from tensorflow.keras.layers.experimental import preprocessing"
   ]
  },
  {
   "cell_type": "markdown",
   "metadata": {},
   "source": [
    "Loading the data"
   ]
  },
  {
   "cell_type": "code",
   "execution_count": 96,
   "metadata": {},
   "outputs": [],
   "source": [
    "res = pd.read_csv('data.csv')  "
   ]
  },
  {
   "cell_type": "markdown",
   "metadata": {},
   "source": [
    "The last the 5 rows"
   ]
  },
  {
   "cell_type": "code",
   "execution_count": 98,
   "metadata": {},
   "outputs": [
    {
     "data": {
      "text/html": [
       "<div>\n",
       "<style scoped>\n",
       "    .dataframe tbody tr th:only-of-type {\n",
       "        vertical-align: middle;\n",
       "    }\n",
       "\n",
       "    .dataframe tbody tr th {\n",
       "        vertical-align: top;\n",
       "    }\n",
       "\n",
       "    .dataframe thead th {\n",
       "        text-align: right;\n",
       "    }\n",
       "</style>\n",
       "<table border=\"1\" class=\"dataframe\">\n",
       "  <thead>\n",
       "    <tr style=\"text-align: right;\">\n",
       "      <th></th>\n",
       "      <th>CRIM</th>\n",
       "      <th>ZN</th>\n",
       "      <th>INDUS</th>\n",
       "      <th>CHAS</th>\n",
       "      <th>NOX</th>\n",
       "      <th>RM</th>\n",
       "      <th>AGE</th>\n",
       "      <th>DIS</th>\n",
       "      <th>RAD</th>\n",
       "      <th>TAX</th>\n",
       "      <th>PTRATIO</th>\n",
       "      <th>B</th>\n",
       "      <th>LSTAT</th>\n",
       "      <th>MEDV</th>\n",
       "    </tr>\n",
       "  </thead>\n",
       "  <tbody>\n",
       "    <tr>\n",
       "      <th>506</th>\n",
       "      <td>0.98765</td>\n",
       "      <td>0.0</td>\n",
       "      <td>12.5</td>\n",
       "      <td>0</td>\n",
       "      <td>0.561</td>\n",
       "      <td>6.980</td>\n",
       "      <td>89.0</td>\n",
       "      <td>2.098</td>\n",
       "      <td>3</td>\n",
       "      <td>320</td>\n",
       "      <td>23.0</td>\n",
       "      <td>396.0</td>\n",
       "      <td>12.0</td>\n",
       "      <td>12.0</td>\n",
       "    </tr>\n",
       "    <tr>\n",
       "      <th>507</th>\n",
       "      <td>0.23456</td>\n",
       "      <td>0.0</td>\n",
       "      <td>12.5</td>\n",
       "      <td>0</td>\n",
       "      <td>0.561</td>\n",
       "      <td>6.980</td>\n",
       "      <td>76.0</td>\n",
       "      <td>2.654</td>\n",
       "      <td>3</td>\n",
       "      <td>320</td>\n",
       "      <td>23.0</td>\n",
       "      <td>343.0</td>\n",
       "      <td>25.0</td>\n",
       "      <td>32.0</td>\n",
       "    </tr>\n",
       "    <tr>\n",
       "      <th>508</th>\n",
       "      <td>0.44433</td>\n",
       "      <td>0.0</td>\n",
       "      <td>12.5</td>\n",
       "      <td>0</td>\n",
       "      <td>0.561</td>\n",
       "      <td>6.123</td>\n",
       "      <td>98.0</td>\n",
       "      <td>2.987</td>\n",
       "      <td>3</td>\n",
       "      <td>320</td>\n",
       "      <td>23.0</td>\n",
       "      <td>343.0</td>\n",
       "      <td>21.0</td>\n",
       "      <td>54.0</td>\n",
       "    </tr>\n",
       "    <tr>\n",
       "      <th>509</th>\n",
       "      <td>0.77763</td>\n",
       "      <td>0.0</td>\n",
       "      <td>12.7</td>\n",
       "      <td>0</td>\n",
       "      <td>0.561</td>\n",
       "      <td>6.222</td>\n",
       "      <td>34.0</td>\n",
       "      <td>2.543</td>\n",
       "      <td>3</td>\n",
       "      <td>329</td>\n",
       "      <td>23.0</td>\n",
       "      <td>343.0</td>\n",
       "      <td>76.0</td>\n",
       "      <td>67.0</td>\n",
       "    </tr>\n",
       "    <tr>\n",
       "      <th>510</th>\n",
       "      <td>0.65432</td>\n",
       "      <td>0.0</td>\n",
       "      <td>12.8</td>\n",
       "      <td>0</td>\n",
       "      <td>0.561</td>\n",
       "      <td>6.760</td>\n",
       "      <td>67.0</td>\n",
       "      <td>2.987</td>\n",
       "      <td>3</td>\n",
       "      <td>345</td>\n",
       "      <td>23.0</td>\n",
       "      <td>321.0</td>\n",
       "      <td>45.0</td>\n",
       "      <td>24.0</td>\n",
       "    </tr>\n",
       "  </tbody>\n",
       "</table>\n",
       "</div>"
      ],
      "text/plain": [
       "        CRIM   ZN  INDUS  CHAS    NOX     RM   AGE    DIS  RAD  TAX  PTRATIO  \\\n",
       "506  0.98765  0.0   12.5     0  0.561  6.980  89.0  2.098    3  320     23.0   \n",
       "507  0.23456  0.0   12.5     0  0.561  6.980  76.0  2.654    3  320     23.0   \n",
       "508  0.44433  0.0   12.5     0  0.561  6.123  98.0  2.987    3  320     23.0   \n",
       "509  0.77763  0.0   12.7     0  0.561  6.222  34.0  2.543    3  329     23.0   \n",
       "510  0.65432  0.0   12.8     0  0.561  6.760  67.0  2.987    3  345     23.0   \n",
       "\n",
       "         B  LSTAT  MEDV  \n",
       "506  396.0   12.0  12.0  \n",
       "507  343.0   25.0  32.0  \n",
       "508  343.0   21.0  54.0  \n",
       "509  343.0   76.0  67.0  \n",
       "510  321.0   45.0  24.0  "
      ]
     },
     "execution_count": 98,
     "metadata": {},
     "output_type": "execute_result"
    }
   ],
   "source": [
    "res.tail()"
   ]
  },
  {
   "cell_type": "markdown",
   "metadata": {},
   "source": [
    "Clean the data"
   ]
  },
  {
   "cell_type": "code",
   "execution_count": 99,
   "metadata": {},
   "outputs": [
    {
     "data": {
      "text/plain": [
       "CRIM       0\n",
       "ZN         0\n",
       "INDUS      0\n",
       "CHAS       0\n",
       "NOX        0\n",
       "RM         5\n",
       "AGE        0\n",
       "DIS        0\n",
       "RAD        0\n",
       "TAX        0\n",
       "PTRATIO    0\n",
       "B          0\n",
       "LSTAT      0\n",
       "MEDV       0\n",
       "dtype: int64"
      ]
     },
     "execution_count": 99,
     "metadata": {},
     "output_type": "execute_result"
    }
   ],
   "source": [
    "res.isna().sum()"
   ]
  },
  {
   "cell_type": "code",
   "execution_count": 100,
   "metadata": {},
   "outputs": [],
   "source": [
    "res = res.dropna()"
   ]
  },
  {
   "cell_type": "code",
   "execution_count": 101,
   "metadata": {},
   "outputs": [],
   "source": [
    "plot_size = plt.rcParams[\"figure.figsize\"]\n",
    "plot_size [0] = 8\n",
    "plot_size [1] = 6\n",
    "plt.rcParams[\"figure.figsize\"] = plot_size"
   ]
  },
  {
   "cell_type": "code",
   "execution_count": 102,
   "metadata": {},
   "outputs": [
    {
     "data": {
      "text/plain": [
       "<matplotlib.axes._subplots.AxesSubplot at 0x7f02f06d6d10>"
      ]
     },
     "execution_count": 102,
     "metadata": {},
     "output_type": "execute_result"
    },
    {
     "data": {
      "image/png": "[encoded data removed]",
      "text/plain": [
       "<Figure size 576x432 with 1 Axes>"
      ]
     },
     "metadata": {},
     "output_type": "display_data"
    }
   ],
   "source": [
    "res.CHAS.value_counts().plot(kind='pie', autopct='%0.05f%%', \n",
    "                                colors=['orange', 'pink'], explode=(0.05,0.05))"
   ]
  },
  {
   "cell_type": "markdown",
   "metadata": {},
   "source": [
    "Split the data into train and test"
   ]
  },
  {
   "cell_type": "code",
   "execution_count": 103,
   "metadata": {},
   "outputs": [],
   "source": [
    "train_set = res.sample(frac=0.8, random_state=0)\n",
    "test_set = res.drop(train_set.index)"
   ]
  },
  {
   "cell_type": "markdown",
   "metadata": {},
   "source": [
    "Inspect the data"
   ]
  },
  {
   "cell_type": "code",
   "execution_count": 104,
   "metadata": {},
   "outputs": [
    {
     "data": {
      "text/plain": [
       "<seaborn.axisgrid.PairGrid at 0x7f02f0430410>"
      ]
     },
     "execution_count": 104,
     "metadata": {},
     "output_type": "execute_result"
    },
    {
     "data": {
      "image/png": "[encoded data removed]",
      "text/plain": [
       "<Figure size 720x720 with 20 Axes>"
      ]
     },
     "metadata": {
      "needs_background": "light"
     },
     "output_type": "display_data"
    }
   ],
   "source": [
    "sns.pairplot(train_set[['CRIM', 'AGE', 'TAX', 'LSTAT']], diag_kind='kde')"
   ]
  },
  {
   "cell_type": "markdown",
   "metadata": {},
   "source": [
    "Also look at the overall statistics"
   ]
  },
  {
   "cell_type": "code",
   "execution_count": 105,
   "metadata": {},
   "outputs": [
    {
     "data": {
      "text/html": [
       "<div>\n",
       "<style scoped>\n",
       "    .dataframe tbody tr th:only-of-type {\n",
       "        vertical-align: middle;\n",
       "    }\n",
       "\n",
       "    .dataframe tbody tr th {\n",
       "        vertical-align: top;\n",
       "    }\n",
       "\n",
       "    .dataframe thead th {\n",
       "        text-align: right;\n",
       "    }\n",
       "</style>\n",
       "<table border=\"1\" class=\"dataframe\">\n",
       "  <thead>\n",
       "    <tr style=\"text-align: right;\">\n",
       "      <th></th>\n",
       "      <th>count</th>\n",
       "      <th>mean</th>\n",
       "      <th>std</th>\n",
       "      <th>min</th>\n",
       "      <th>25%</th>\n",
       "      <th>50%</th>\n",
       "      <th>75%</th>\n",
       "      <th>max</th>\n",
       "    </tr>\n",
       "  </thead>\n",
       "  <tbody>\n",
       "    <tr>\n",
       "      <th>CRIM</th>\n",
       "      <td>405.0</td>\n",
       "      <td>3.758249</td>\n",
       "      <td>9.254940</td>\n",
       "      <td>0.00632</td>\n",
       "      <td>0.08308</td>\n",
       "      <td>0.28955</td>\n",
       "      <td>3.56868</td>\n",
       "      <td>88.9762</td>\n",
       "    </tr>\n",
       "    <tr>\n",
       "      <th>ZN</th>\n",
       "      <td>405.0</td>\n",
       "      <td>11.416049</td>\n",
       "      <td>23.118140</td>\n",
       "      <td>0.00000</td>\n",
       "      <td>0.00000</td>\n",
       "      <td>0.00000</td>\n",
       "      <td>12.50000</td>\n",
       "      <td>100.0000</td>\n",
       "    </tr>\n",
       "    <tr>\n",
       "      <th>INDUS</th>\n",
       "      <td>405.0</td>\n",
       "      <td>11.090889</td>\n",
       "      <td>6.813314</td>\n",
       "      <td>0.46000</td>\n",
       "      <td>5.19000</td>\n",
       "      <td>9.69000</td>\n",
       "      <td>18.10000</td>\n",
       "      <td>27.7400</td>\n",
       "    </tr>\n",
       "    <tr>\n",
       "      <th>CHAS</th>\n",
       "      <td>405.0</td>\n",
       "      <td>0.071605</td>\n",
       "      <td>0.258152</td>\n",
       "      <td>0.00000</td>\n",
       "      <td>0.00000</td>\n",
       "      <td>0.00000</td>\n",
       "      <td>0.00000</td>\n",
       "      <td>1.0000</td>\n",
       "    </tr>\n",
       "    <tr>\n",
       "      <th>NOX</th>\n",
       "      <td>405.0</td>\n",
       "      <td>0.555703</td>\n",
       "      <td>0.116478</td>\n",
       "      <td>0.38500</td>\n",
       "      <td>0.44900</td>\n",
       "      <td>0.53800</td>\n",
       "      <td>0.62400</td>\n",
       "      <td>0.8710</td>\n",
       "    </tr>\n",
       "    <tr>\n",
       "      <th>RM</th>\n",
       "      <td>405.0</td>\n",
       "      <td>6.272249</td>\n",
       "      <td>0.718231</td>\n",
       "      <td>3.56100</td>\n",
       "      <td>5.87800</td>\n",
       "      <td>6.19500</td>\n",
       "      <td>6.62900</td>\n",
       "      <td>8.7250</td>\n",
       "    </tr>\n",
       "    <tr>\n",
       "      <th>AGE</th>\n",
       "      <td>405.0</td>\n",
       "      <td>69.120247</td>\n",
       "      <td>28.236206</td>\n",
       "      <td>6.00000</td>\n",
       "      <td>45.10000</td>\n",
       "      <td>78.70000</td>\n",
       "      <td>94.40000</td>\n",
       "      <td>100.0000</td>\n",
       "    </tr>\n",
       "    <tr>\n",
       "      <th>DIS</th>\n",
       "      <td>405.0</td>\n",
       "      <td>3.776950</td>\n",
       "      <td>2.152323</td>\n",
       "      <td>1.12960</td>\n",
       "      <td>2.06510</td>\n",
       "      <td>3.18270</td>\n",
       "      <td>5.11670</td>\n",
       "      <td>12.1265</td>\n",
       "    </tr>\n",
       "    <tr>\n",
       "      <th>RAD</th>\n",
       "      <td>405.0</td>\n",
       "      <td>9.454321</td>\n",
       "      <td>8.626807</td>\n",
       "      <td>1.00000</td>\n",
       "      <td>4.00000</td>\n",
       "      <td>5.00000</td>\n",
       "      <td>24.00000</td>\n",
       "      <td>24.0000</td>\n",
       "    </tr>\n",
       "    <tr>\n",
       "      <th>TAX</th>\n",
       "      <td>405.0</td>\n",
       "      <td>407.493827</td>\n",
       "      <td>167.111788</td>\n",
       "      <td>187.00000</td>\n",
       "      <td>281.00000</td>\n",
       "      <td>330.00000</td>\n",
       "      <td>666.00000</td>\n",
       "      <td>711.0000</td>\n",
       "    </tr>\n",
       "    <tr>\n",
       "      <th>PTRATIO</th>\n",
       "      <td>405.0</td>\n",
       "      <td>18.491605</td>\n",
       "      <td>2.205266</td>\n",
       "      <td>12.60000</td>\n",
       "      <td>17.40000</td>\n",
       "      <td>19.00000</td>\n",
       "      <td>20.20000</td>\n",
       "      <td>23.0000</td>\n",
       "    </tr>\n",
       "    <tr>\n",
       "      <th>B</th>\n",
       "      <td>405.0</td>\n",
       "      <td>358.032123</td>\n",
       "      <td>88.582969</td>\n",
       "      <td>0.32000</td>\n",
       "      <td>374.68000</td>\n",
       "      <td>391.43000</td>\n",
       "      <td>396.06000</td>\n",
       "      <td>396.9000</td>\n",
       "    </tr>\n",
       "    <tr>\n",
       "      <th>LSTAT</th>\n",
       "      <td>405.0</td>\n",
       "      <td>12.817259</td>\n",
       "      <td>7.618387</td>\n",
       "      <td>1.73000</td>\n",
       "      <td>6.78000</td>\n",
       "      <td>11.25000</td>\n",
       "      <td>17.16000</td>\n",
       "      <td>45.0000</td>\n",
       "    </tr>\n",
       "    <tr>\n",
       "      <th>MEDV</th>\n",
       "      <td>405.0</td>\n",
       "      <td>22.751605</td>\n",
       "      <td>9.506560</td>\n",
       "      <td>5.00000</td>\n",
       "      <td>17.00000</td>\n",
       "      <td>21.50000</td>\n",
       "      <td>25.20000</td>\n",
       "      <td>54.0000</td>\n",
       "    </tr>\n",
       "  </tbody>\n",
       "</table>\n",
       "</div>"
      ],
      "text/plain": [
       "         count        mean         std        min        25%        50%  \\\n",
       "CRIM     405.0    3.758249    9.254940    0.00632    0.08308    0.28955   \n",
       "ZN       405.0   11.416049   23.118140    0.00000    0.00000    0.00000   \n",
       "INDUS    405.0   11.090889    6.813314    0.46000    5.19000    9.69000   \n",
       "CHAS     405.0    0.071605    0.258152    0.00000    0.00000    0.00000   \n",
       "NOX      405.0    0.555703    0.116478    0.38500    0.44900    0.53800   \n",
       "RM       405.0    6.272249    0.718231    3.56100    5.87800    6.19500   \n",
       "AGE      405.0   69.120247   28.236206    6.00000   45.10000   78.70000   \n",
       "DIS      405.0    3.776950    2.152323    1.12960    2.06510    3.18270   \n",
       "RAD      405.0    9.454321    8.626807    1.00000    4.00000    5.00000   \n",
       "TAX      405.0  407.493827  167.111788  187.00000  281.00000  330.00000   \n",
       "PTRATIO  405.0   18.491605    2.205266   12.60000   17.40000   19.00000   \n",
       "B        405.0  358.032123   88.582969    0.32000  374.68000  391.43000   \n",
       "LSTAT    405.0   12.817259    7.618387    1.73000    6.78000   11.25000   \n",
       "MEDV     405.0   22.751605    9.506560    5.00000   17.00000   21.50000   \n",
       "\n",
       "               75%       max  \n",
       "CRIM       3.56868   88.9762  \n",
       "ZN        12.50000  100.0000  \n",
       "INDUS     18.10000   27.7400  \n",
       "CHAS       0.00000    1.0000  \n",
       "NOX        0.62400    0.8710  \n",
       "RM         6.62900    8.7250  \n",
       "AGE       94.40000  100.0000  \n",
       "DIS        5.11670   12.1265  \n",
       "RAD       24.00000   24.0000  \n",
       "TAX      666.00000  711.0000  \n",
       "PTRATIO   20.20000   23.0000  \n",
       "B        396.06000  396.9000  \n",
       "LSTAT     17.16000   45.0000  \n",
       "MEDV      25.20000   54.0000  "
      ]
     },
     "execution_count": 105,
     "metadata": {},
     "output_type": "execute_result"
    }
   ],
   "source": [
    "train_set.describe().transpose()"
   ]
  },
  {
   "cell_type": "markdown",
   "metadata": {},
   "source": [
    "Separate the target value, the label from the features."
   ]
  },
  {
   "cell_type": "code",
   "execution_count": 106,
   "metadata": {},
   "outputs": [],
   "source": [
    "train_features = train_set.copy()\n",
    "test_features = test_set.copy()\n",
    "\n",
    "train_labels = train_features.pop('CHAS')\n",
    "test_labels = test_features.pop('CHAS')"
   ]
  },
  {
   "cell_type": "code",
   "execution_count": 107,
   "metadata": {},
   "outputs": [
    {
     "data": {
      "text/html": [
       "<div>\n",
       "<style scoped>\n",
       "    .dataframe tbody tr th:only-of-type {\n",
       "        vertical-align: middle;\n",
       "    }\n",
       "\n",
       "    .dataframe tbody tr th {\n",
       "        vertical-align: top;\n",
       "    }\n",
       "\n",
       "    .dataframe thead th {\n",
       "        text-align: right;\n",
       "    }\n",
       "</style>\n",
       "<table border=\"1\" class=\"dataframe\">\n",
       "  <thead>\n",
       "    <tr style=\"text-align: right;\">\n",
       "      <th></th>\n",
       "      <th>CRIM</th>\n",
       "      <th>ZN</th>\n",
       "      <th>INDUS</th>\n",
       "      <th>NOX</th>\n",
       "      <th>RM</th>\n",
       "      <th>AGE</th>\n",
       "      <th>DIS</th>\n",
       "      <th>RAD</th>\n",
       "      <th>TAX</th>\n",
       "      <th>PTRATIO</th>\n",
       "      <th>B</th>\n",
       "      <th>LSTAT</th>\n",
       "      <th>MEDV</th>\n",
       "    </tr>\n",
       "  </thead>\n",
       "  <tbody>\n",
       "    <tr>\n",
       "      <th>334</th>\n",
       "      <td>0.03738</td>\n",
       "      <td>0.0</td>\n",
       "      <td>5.19</td>\n",
       "      <td>0.515</td>\n",
       "      <td>6.310</td>\n",
       "      <td>38.5</td>\n",
       "      <td>6.4584</td>\n",
       "      <td>5</td>\n",
       "      <td>224</td>\n",
       "      <td>20.2</td>\n",
       "      <td>389.40</td>\n",
       "      <td>6.75</td>\n",
       "      <td>20.7</td>\n",
       "    </tr>\n",
       "    <tr>\n",
       "      <th>376</th>\n",
       "      <td>15.28800</td>\n",
       "      <td>0.0</td>\n",
       "      <td>18.10</td>\n",
       "      <td>0.671</td>\n",
       "      <td>6.649</td>\n",
       "      <td>93.3</td>\n",
       "      <td>1.3449</td>\n",
       "      <td>24</td>\n",
       "      <td>666</td>\n",
       "      <td>20.2</td>\n",
       "      <td>363.02</td>\n",
       "      <td>23.24</td>\n",
       "      <td>13.9</td>\n",
       "    </tr>\n",
       "    <tr>\n",
       "      <th>224</th>\n",
       "      <td>0.31533</td>\n",
       "      <td>0.0</td>\n",
       "      <td>6.20</td>\n",
       "      <td>0.504</td>\n",
       "      <td>8.266</td>\n",
       "      <td>78.3</td>\n",
       "      <td>2.8944</td>\n",
       "      <td>8</td>\n",
       "      <td>307</td>\n",
       "      <td>17.4</td>\n",
       "      <td>385.05</td>\n",
       "      <td>4.14</td>\n",
       "      <td>44.8</td>\n",
       "    </tr>\n",
       "    <tr>\n",
       "      <th>408</th>\n",
       "      <td>7.40389</td>\n",
       "      <td>0.0</td>\n",
       "      <td>18.10</td>\n",
       "      <td>0.597</td>\n",
       "      <td>5.617</td>\n",
       "      <td>97.9</td>\n",
       "      <td>1.4547</td>\n",
       "      <td>24</td>\n",
       "      <td>666</td>\n",
       "      <td>20.2</td>\n",
       "      <td>314.64</td>\n",
       "      <td>26.40</td>\n",
       "      <td>17.2</td>\n",
       "    </tr>\n",
       "    <tr>\n",
       "      <th>81</th>\n",
       "      <td>0.04462</td>\n",
       "      <td>25.0</td>\n",
       "      <td>4.86</td>\n",
       "      <td>0.426</td>\n",
       "      <td>6.619</td>\n",
       "      <td>70.4</td>\n",
       "      <td>5.4007</td>\n",
       "      <td>4</td>\n",
       "      <td>281</td>\n",
       "      <td>19.0</td>\n",
       "      <td>395.63</td>\n",
       "      <td>7.22</td>\n",
       "      <td>23.9</td>\n",
       "    </tr>\n",
       "  </tbody>\n",
       "</table>\n",
       "</div>"
      ],
      "text/plain": [
       "         CRIM    ZN  INDUS    NOX     RM   AGE     DIS  RAD  TAX  PTRATIO  \\\n",
       "334   0.03738   0.0   5.19  0.515  6.310  38.5  6.4584    5  224     20.2   \n",
       "376  15.28800   0.0  18.10  0.671  6.649  93.3  1.3449   24  666     20.2   \n",
       "224   0.31533   0.0   6.20  0.504  8.266  78.3  2.8944    8  307     17.4   \n",
       "408   7.40389   0.0  18.10  0.597  5.617  97.9  1.4547   24  666     20.2   \n",
       "81    0.04462  25.0   4.86  0.426  6.619  70.4  5.4007    4  281     19.0   \n",
       "\n",
       "          B  LSTAT  MEDV  \n",
       "334  389.40   6.75  20.7  \n",
       "376  363.02  23.24  13.9  \n",
       "224  385.05   4.14  44.8  \n",
       "408  314.64  26.40  17.2  \n",
       "81   395.63   7.22  23.9  "
      ]
     },
     "execution_count": 107,
     "metadata": {},
     "output_type": "execute_result"
    }
   ],
   "source": [
    "train_features[:5]"
   ]
  },
  {
   "cell_type": "markdown",
   "metadata": {},
   "source": [
    "Normalization"
   ]
  },
  {
   "cell_type": "code",
   "execution_count": 108,
   "metadata": {},
   "outputs": [
    {
     "data": {
      "text/html": [
       "<div>\n",
       "<style scoped>\n",
       "    .dataframe tbody tr th:only-of-type {\n",
       "        vertical-align: middle;\n",
       "    }\n",
       "\n",
       "    .dataframe tbody tr th {\n",
       "        vertical-align: top;\n",
       "    }\n",
       "\n",
       "    .dataframe thead th {\n",
       "        text-align: right;\n",
       "    }\n",
       "</style>\n",
       "<table border=\"1\" class=\"dataframe\">\n",
       "  <thead>\n",
       "    <tr style=\"text-align: right;\">\n",
       "      <th></th>\n",
       "      <th>mean</th>\n",
       "      <th>std</th>\n",
       "    </tr>\n",
       "  </thead>\n",
       "  <tbody>\n",
       "    <tr>\n",
       "      <th>CRIM</th>\n",
       "      <td>3.758249</td>\n",
       "      <td>9.254940</td>\n",
       "    </tr>\n",
       "    <tr>\n",
       "      <th>ZN</th>\n",
       "      <td>11.416049</td>\n",
       "      <td>23.118140</td>\n",
       "    </tr>\n",
       "    <tr>\n",
       "      <th>INDUS</th>\n",
       "      <td>11.090889</td>\n",
       "      <td>6.813314</td>\n",
       "    </tr>\n",
       "    <tr>\n",
       "      <th>CHAS</th>\n",
       "      <td>0.071605</td>\n",
       "      <td>0.258152</td>\n",
       "    </tr>\n",
       "    <tr>\n",
       "      <th>NOX</th>\n",
       "      <td>0.555703</td>\n",
       "      <td>0.116478</td>\n",
       "    </tr>\n",
       "    <tr>\n",
       "      <th>RM</th>\n",
       "      <td>6.272249</td>\n",
       "      <td>0.718231</td>\n",
       "    </tr>\n",
       "    <tr>\n",
       "      <th>AGE</th>\n",
       "      <td>69.120247</td>\n",
       "      <td>28.236206</td>\n",
       "    </tr>\n",
       "    <tr>\n",
       "      <th>DIS</th>\n",
       "      <td>3.776950</td>\n",
       "      <td>2.152323</td>\n",
       "    </tr>\n",
       "    <tr>\n",
       "      <th>RAD</th>\n",
       "      <td>9.454321</td>\n",
       "      <td>8.626807</td>\n",
       "    </tr>\n",
       "    <tr>\n",
       "      <th>TAX</th>\n",
       "      <td>407.493827</td>\n",
       "      <td>167.111788</td>\n",
       "    </tr>\n",
       "    <tr>\n",
       "      <th>PTRATIO</th>\n",
       "      <td>18.491605</td>\n",
       "      <td>2.205266</td>\n",
       "    </tr>\n",
       "    <tr>\n",
       "      <th>B</th>\n",
       "      <td>358.032123</td>\n",
       "      <td>88.582969</td>\n",
       "    </tr>\n",
       "    <tr>\n",
       "      <th>LSTAT</th>\n",
       "      <td>12.817259</td>\n",
       "      <td>7.618387</td>\n",
       "    </tr>\n",
       "    <tr>\n",
       "      <th>MEDV</th>\n",
       "      <td>22.751605</td>\n",
       "      <td>9.506560</td>\n",
       "    </tr>\n",
       "  </tbody>\n",
       "</table>\n",
       "</div>"
      ],
      "text/plain": [
       "               mean         std\n",
       "CRIM       3.758249    9.254940\n",
       "ZN        11.416049   23.118140\n",
       "INDUS     11.090889    6.813314\n",
       "CHAS       0.071605    0.258152\n",
       "NOX        0.555703    0.116478\n",
       "RM         6.272249    0.718231\n",
       "AGE       69.120247   28.236206\n",
       "DIS        3.776950    2.152323\n",
       "RAD        9.454321    8.626807\n",
       "TAX      407.493827  167.111788\n",
       "PTRATIO   18.491605    2.205266\n",
       "B        358.032123   88.582969\n",
       "LSTAT     12.817259    7.618387\n",
       "MEDV      22.751605    9.506560"
      ]
     },
     "execution_count": 108,
     "metadata": {},
     "output_type": "execute_result"
    }
   ],
   "source": [
    "train_set.describe().transpose()[['mean', 'std']]"
   ]
  },
  {
   "cell_type": "markdown",
   "metadata": {},
   "source": [
    "The normalization layer"
   ]
  },
  {
   "cell_type": "markdown",
   "metadata": {},
   "source": [
    "The first step is to create the layer"
   ]
  },
  {
   "cell_type": "code",
   "execution_count": 109,
   "metadata": {},
   "outputs": [],
   "source": [
    "normalizer = preprocessing.Normalization()"
   ]
  },
  {
   "cell_type": "markdown",
   "metadata": {},
   "source": [
    "Then .adapt it to the data"
   ]
  },
  {
   "cell_type": "code",
   "execution_count": 110,
   "metadata": {},
   "outputs": [],
   "source": [
    "normalizer.adapt(np.array(train_features))"
   ]
  },
  {
   "cell_type": "markdown",
   "metadata": {},
   "source": [
    "This calculates the mean and variance, and stores them in the layer"
   ]
  },
  {
   "cell_type": "code",
   "execution_count": 111,
   "metadata": {},
   "outputs": [
    {
     "name": "stdout",
     "output_type": "stream",
     "text": [
      "[  3.758  11.416  11.091   0.556   6.272  69.12    3.777   9.454 407.494\n",
      "  18.492 358.032  12.817  22.752]\n"
     ]
    }
   ],
   "source": [
    "print(normalizer.mean.numpy())"
   ]
  },
  {
   "cell_type": "markdown",
   "metadata": {},
   "source": [
    "With each feature independently normalized"
   ]
  },
  {
   "cell_type": "code",
   "execution_count": 112,
   "metadata": {},
   "outputs": [
    {
     "name": "stdout",
     "output_type": "stream",
     "text": [
      "First example: [[  0.04   0.     5.19   0.52   6.31  38.5    6.46   5.   224.    20.2\n",
      "  389.4    6.75  20.7 ]]\n",
      "\n",
      "Normalized: [[-0.4  -0.49 -0.87 -0.35  0.05 -1.09  1.25 -0.52 -1.1   0.78  0.35 -0.8\n",
      "  -0.22]]\n"
     ]
    }
   ],
   "source": [
    "first = np.array(train_features[: 1])\n",
    "\n",
    "with np.printoptions(precision = 2, suppress = True):\n",
    "    print('First example:', first)\n",
    "    print()\n",
    "    print('Normalized:', normalizer(first).numpy())"
   ]
  },
  {
   "cell_type": "markdown",
   "metadata": {},
   "source": [
    "Linear Regression"
   ]
  },
  {
   "cell_type": "markdown",
   "metadata": {},
   "source": [
    "Build the model"
   ]
  },
  {
   "cell_type": "code",
   "execution_count": 113,
   "metadata": {},
   "outputs": [],
   "source": [
    "linear_model = tf.keras.Sequential([normalizer, layers.Dense(units=1)])\n"
   ]
  },
  {
   "cell_type": "markdown",
   "metadata": {},
   "source": [
    "model on a batch of inputs"
   ]
  },
  {
   "cell_type": "code",
   "execution_count": 114,
   "metadata": {},
   "outputs": [
    {
     "data": {
      "text/plain": [
       "array([[ 1.   ],\n",
       "       [-0.233],\n",
       "       [-0.669],\n",
       "       [-0.554],\n",
       "       [ 0.241],\n",
       "       [ 1.035],\n",
       "       [-1.39 ],\n",
       "       [ 0.48 ],\n",
       "       [ 0.094],\n",
       "       [-0.437]], dtype=float32)"
      ]
     },
     "execution_count": 114,
     "metadata": {},
     "output_type": "execute_result"
    }
   ],
   "source": [
    "linear_model.predict(train_features[:10])\n"
   ]
  },
  {
   "cell_type": "markdown",
   "metadata": {},
   "source": [
    " weight matrices"
   ]
  },
  {
   "cell_type": "code",
   "execution_count": 116,
   "metadata": {},
   "outputs": [
    {
     "data": {
      "text/plain": [
       "<tf.Variable 'sequential_9/dense_17/kernel:0' shape=(13, 1) dtype=float32, numpy=\n",
       "array([[ 0.304],\n",
       "       [ 0.009],\n",
       "       [-0.278],\n",
       "       [-0.033],\n",
       "       [-0.172],\n",
       "       [-0.408],\n",
       "       [-0.078],\n",
       "       [ 0.364],\n",
       "       [-0.215],\n",
       "       [ 0.127],\n",
       "       [-0.03 ],\n",
       "       [-0.425],\n",
       "       [-0.287]], dtype=float32)>"
      ]
     },
     "execution_count": 116,
     "metadata": {},
     "output_type": "execute_result"
    }
   ],
   "source": [
    "linear_model.layers[1].kernel"
   ]
  },
  {
   "cell_type": "markdown",
   "metadata": {},
   "source": [
    "Use the same compile and fit calls"
   ]
  },
  {
   "cell_type": "code",
   "execution_count": 122,
   "metadata": {},
   "outputs": [],
   "source": [
    "linear_model.compile(optimizer=tf.optimizers.Adam(learning_rate=0.1), loss='mean_absolute_error')\n"
   ]
  },
  {
   "cell_type": "code",
   "execution_count": 123,
   "metadata": {},
   "outputs": [
    {
     "name": "stdout",
     "output_type": "stream",
     "text": [
      "CPU times: user 10.6 s, sys: 8 s, total: 18.6 s\n",
      "Wall time: 6.4 s\n"
     ]
    }
   ],
   "source": [
    "%%time\n",
    "history = linear_model.fit(\n",
    "    train_features, train_labels, \n",
    "    epochs=100,\n",
    "    # suppress logging\n",
    "    verbose=0,\n",
    "    # Calculate validation results on 20% of the training data\n",
    "    validation_split = 0.2)\n"
   ]
  },
  {
   "cell_type": "markdown",
   "metadata": {},
   "source": [
    "Visualize the model's training"
   ]
  },
  {
   "cell_type": "code",
   "execution_count": 124,
   "metadata": {},
   "outputs": [],
   "source": [
    "def plot_loss(history):\n",
    "    plt.plot(history.history['loss'], label='loss')\n",
    "    plt.plot(history.history['val_loss'], label='val_loss')\n",
    "    plt.ylim([0, 3])\n",
    "    plt.xlabel('Epoch')\n",
    "    plt.ylabel('Error [AGE]')\n",
    "    plt.legend()\n",
    "    plt.grid(True)\n"
   ]
  },
  {
   "cell_type": "code",
   "execution_count": 125,
   "metadata": {},
   "outputs": [
    {
     "data": {
      "image/png": "[encoded data removed]",
      "text/plain": [
       "<Figure size 576x432 with 1 Axes>"
      ]
     },
     "metadata": {
      "needs_background": "light"
     },
     "output_type": "display_data"
    }
   ],
   "source": [
    "plot_loss(history)\n"
   ]
  },
  {
   "cell_type": "markdown",
   "metadata": {},
   "source": [
    "Collect the results on the test set"
   ]
  },
  {
   "cell_type": "code",
   "execution_count": 127,
   "metadata": {},
   "outputs": [],
   "source": [
    "test_results = {}\n",
    "\n",
    "test_results['linear_model'] = linear_model.evaluate(test_features, test_labels, verbose=0)\n"
   ]
  },
  {
   "cell_type": "markdown",
   "metadata": {},
   "source": [
    "A DNN regression"
   ]
  },
  {
   "cell_type": "markdown",
   "metadata": {},
   "source": [
    "Build the model "
   ]
  },
  {
   "cell_type": "code",
   "execution_count": 128,
   "metadata": {},
   "outputs": [],
   "source": [
    "def build_and_compile_model(norm):\n",
    "    model = keras.Sequential([norm, layers.Dense(64, activation='relu'),\n",
    "                              layers.Dense(64, activation='relu'), layers.Dense(1)])\n",
    "    \n",
    "    model.compile(loss='mean_absolute_error',optimizer=tf.keras.optimizers.Adam(0.001))\n",
    "    return model"
   ]
  },
  {
   "cell_type": "code",
   "execution_count": 129,
   "metadata": {},
   "outputs": [],
   "source": [
    "dnn_model = build_and_compile_model(normalizer)\n"
   ]
  },
  {
   "cell_type": "code",
   "execution_count": 130,
   "metadata": {},
   "outputs": [
    {
     "name": "stdout",
     "output_type": "stream",
     "text": [
      "CPU times: user 13.8 s, sys: 10.6 s, total: 24.4 s\n",
      "Wall time: 8.28 s\n"
     ]
    }
   ],
   "source": [
    "%%time\n",
    "history = dnn_model.fit(train_features, train_labels, validation_split=0.2, verbose=0, epochs=100)\n"
   ]
  },
  {
   "cell_type": "code",
   "execution_count": 131,
   "metadata": {},
   "outputs": [
    {
     "data": {
      "image/png": "[encoded data removed]",
      "text/plain": [
       "<Figure size 576x432 with 1 Axes>"
      ]
     },
     "metadata": {
      "needs_background": "light"
     },
     "output_type": "display_data"
    }
   ],
   "source": [
    "plot_loss(history)\n"
   ]
  },
  {
   "cell_type": "code",
   "execution_count": null,
   "metadata": {},
   "outputs": [],
   "source": []
  }
 ],
 "metadata": {
  "kernelspec": {
   "display_name": "Python 3",
   "language": "python",
   "name": "python3"
  },
  "language_info": {
   "codemirror_mode": {
    "name": "ipython",
    "version": 3
   },
   "file_extension": ".py",
   "mimetype": "text/x-python",
   "name": "python",
   "nbconvert_exporter": "python",
   "pygments_lexer": "ipython3",
   "version": "3.7.7"
  }
 },
 "nbformat": 4,
 "nbformat_minor": 4
}
