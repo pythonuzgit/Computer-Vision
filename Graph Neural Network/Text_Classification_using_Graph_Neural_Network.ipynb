{
  "cells": [
    {
      "cell_type": "markdown",
      "metadata": {
        "id": "view-in-github",
        "colab_type": "text"
      },
      "source": [
        "<a href=\"https://colab.research.google.com/github/pythonuzgit/elmurodov/blob/master/Graph%20Neural%20Network/Text_Classification_using_Graph_Neural_Network.ipynb\" target=\"_parent\"><img src=\"https://colab.research.google.com/assets/colab-badge.svg\" alt=\"Open In Colab\"/></a>"
      ]
    },
    {
      "cell_type": "code",
      "execution_count": null,
      "metadata": {
        "id": "s6cBqD-7hIWA"
      },
      "outputs": [],
      "source": []
    },
    {
      "cell_type": "code",
      "execution_count": null,
      "metadata": {
        "colab": {
          "base_uri": "https://localhost:8080/"
        },
        "id": "7jAaVDBvnEpq",
        "outputId": "b2f84bd7-8227-46f5-b373-a2d8bafae261"
      },
      "outputs": [
        {
          "output_type": "stream",
          "name": "stdout",
          "text": [
            "Requirement already satisfied: openpyxl in /usr/local/lib/python3.10/dist-packages (3.1.2)\n",
            "Requirement already satisfied: et-xmlfile in /usr/local/lib/python3.10/dist-packages (from openpyxl) (1.1.0)\n"
          ]
        }
      ],
      "source": [
        "!pip install openpyxl\n",
        "#!pip install dgl==0.6a210210"
      ]
    },
    {
      "cell_type": "code",
      "execution_count": null,
      "metadata": {
        "colab": {
          "base_uri": "https://localhost:8080/"
        },
        "id": "nHGTlZVVnEgS",
        "outputId": "2c7538b9-2cdb-44fc-fc06-75665b291b4f"
      },
      "outputs": [
        {
          "output_type": "stream",
          "name": "stdout",
          "text": [
            "Collecting dgl\n",
            "  Downloading dgl-2.1.0-cp310-cp310-manylinux1_x86_64.whl (8.5 MB)\n",
            "\u001b[2K     \u001b[90m━━━━━━━━━━━━━━━━━━━━━━━━━━━━━━━━━━━━━━━━\u001b[0m \u001b[32m8.5/8.5 MB\u001b[0m \u001b[31m20.7 MB/s\u001b[0m eta \u001b[36m0:00:00\u001b[0m\n",
            "\u001b[?25hRequirement already satisfied: numpy>=1.14.0 in /usr/local/lib/python3.10/dist-packages (from dgl) (1.25.2)\n",
            "Requirement already satisfied: scipy>=1.1.0 in /usr/local/lib/python3.10/dist-packages (from dgl) (1.11.4)\n",
            "Requirement already satisfied: networkx>=2.1 in /usr/local/lib/python3.10/dist-packages (from dgl) (3.2.1)\n",
            "Requirement already satisfied: requests>=2.19.0 in /usr/local/lib/python3.10/dist-packages (from dgl) (2.31.0)\n",
            "Requirement already satisfied: tqdm in /usr/local/lib/python3.10/dist-packages (from dgl) (4.66.2)\n",
            "Requirement already satisfied: psutil>=5.8.0 in /usr/local/lib/python3.10/dist-packages (from dgl) (5.9.5)\n",
            "Requirement already satisfied: torchdata>=0.5.0 in /usr/local/lib/python3.10/dist-packages (from dgl) (0.7.1)\n",
            "Requirement already satisfied: charset-normalizer<4,>=2 in /usr/local/lib/python3.10/dist-packages (from requests>=2.19.0->dgl) (3.3.2)\n",
            "Requirement already satisfied: idna<4,>=2.5 in /usr/local/lib/python3.10/dist-packages (from requests>=2.19.0->dgl) (3.6)\n",
            "Requirement already satisfied: urllib3<3,>=1.21.1 in /usr/local/lib/python3.10/dist-packages (from requests>=2.19.0->dgl) (2.0.7)\n",
            "Requirement already satisfied: certifi>=2017.4.17 in /usr/local/lib/python3.10/dist-packages (from requests>=2.19.0->dgl) (2024.2.2)\n",
            "Requirement already satisfied: torch>=2 in /usr/local/lib/python3.10/dist-packages (from torchdata>=0.5.0->dgl) (2.2.1+cu121)\n",
            "Requirement already satisfied: filelock in /usr/local/lib/python3.10/dist-packages (from torch>=2->torchdata>=0.5.0->dgl) (3.13.1)\n",
            "Requirement already satisfied: typing-extensions>=4.8.0 in /usr/local/lib/python3.10/dist-packages (from torch>=2->torchdata>=0.5.0->dgl) (4.10.0)\n",
            "Requirement already satisfied: sympy in /usr/local/lib/python3.10/dist-packages (from torch>=2->torchdata>=0.5.0->dgl) (1.12)\n",
            "Requirement already satisfied: jinja2 in /usr/local/lib/python3.10/dist-packages (from torch>=2->torchdata>=0.5.0->dgl) (3.1.3)\n",
            "Requirement already satisfied: fsspec in /usr/local/lib/python3.10/dist-packages (from torch>=2->torchdata>=0.5.0->dgl) (2023.6.0)\n",
            "Collecting nvidia-cuda-nvrtc-cu12==12.1.105 (from torch>=2->torchdata>=0.5.0->dgl)\n",
            "  Downloading nvidia_cuda_nvrtc_cu12-12.1.105-py3-none-manylinux1_x86_64.whl (23.7 MB)\n",
            "\u001b[2K     \u001b[90m━━━━━━━━━━━━━━━━━━━━━━━━━━━━━━━━━━━━━━━━\u001b[0m \u001b[32m23.7/23.7 MB\u001b[0m \u001b[31m39.8 MB/s\u001b[0m eta \u001b[36m0:00:00\u001b[0m\n",
            "\u001b[?25hCollecting nvidia-cuda-runtime-cu12==12.1.105 (from torch>=2->torchdata>=0.5.0->dgl)\n",
            "  Downloading nvidia_cuda_runtime_cu12-12.1.105-py3-none-manylinux1_x86_64.whl (823 kB)\n",
            "\u001b[2K     \u001b[90m━━━━━━━━━━━━━━━━━━━━━━━━━━━━━━━━━━━━━━━━\u001b[0m \u001b[32m823.6/823.6 kB\u001b[0m \u001b[31m41.9 MB/s\u001b[0m eta \u001b[36m0:00:00\u001b[0m\n",
            "\u001b[?25hCollecting nvidia-cuda-cupti-cu12==12.1.105 (from torch>=2->torchdata>=0.5.0->dgl)\n",
            "  Downloading nvidia_cuda_cupti_cu12-12.1.105-py3-none-manylinux1_x86_64.whl (14.1 MB)\n",
            "\u001b[2K     \u001b[90m━━━━━━━━━━━━━━━━━━━━━━━━━━━━━━━━━━━━━━━━\u001b[0m \u001b[32m14.1/14.1 MB\u001b[0m \u001b[31m58.3 MB/s\u001b[0m eta \u001b[36m0:00:00\u001b[0m\n",
            "\u001b[?25hCollecting nvidia-cudnn-cu12==8.9.2.26 (from torch>=2->torchdata>=0.5.0->dgl)\n",
            "  Downloading nvidia_cudnn_cu12-8.9.2.26-py3-none-manylinux1_x86_64.whl (731.7 MB)\n",
            "\u001b[2K     \u001b[90m━━━━━━━━━━━━━━━━━━━━━━━━━━━━━━━━━━━━━━━━\u001b[0m \u001b[32m731.7/731.7 MB\u001b[0m \u001b[31m1.0 MB/s\u001b[0m eta \u001b[36m0:00:00\u001b[0m\n",
            "\u001b[?25hCollecting nvidia-cublas-cu12==12.1.3.1 (from torch>=2->torchdata>=0.5.0->dgl)\n",
            "  Downloading nvidia_cublas_cu12-12.1.3.1-py3-none-manylinux1_x86_64.whl (410.6 MB)\n",
            "\u001b[2K     \u001b[90m━━━━━━━━━━━━━━━━━━━━━━━━━━━━━━━━━━━━━━━━\u001b[0m \u001b[32m410.6/410.6 MB\u001b[0m \u001b[31m2.5 MB/s\u001b[0m eta \u001b[36m0:00:00\u001b[0m\n",
            "\u001b[?25hCollecting nvidia-cufft-cu12==11.0.2.54 (from torch>=2->torchdata>=0.5.0->dgl)\n",
            "  Downloading nvidia_cufft_cu12-11.0.2.54-py3-none-manylinux1_x86_64.whl (121.6 MB)\n",
            "\u001b[2K     \u001b[90m━━━━━━━━━━━━━━━━━━━━━━━━━━━━━━━━━━━━━━━━\u001b[0m \u001b[32m121.6/121.6 MB\u001b[0m \u001b[31m8.5 MB/s\u001b[0m eta \u001b[36m0:00:00\u001b[0m\n",
            "\u001b[?25hCollecting nvidia-curand-cu12==10.3.2.106 (from torch>=2->torchdata>=0.5.0->dgl)\n",
            "  Downloading nvidia_curand_cu12-10.3.2.106-py3-none-manylinux1_x86_64.whl (56.5 MB)\n",
            "\u001b[2K     \u001b[90m━━━━━━━━━━━━━━━━━━━━━━━━━━━━━━━━━━━━━━━━\u001b[0m \u001b[32m56.5/56.5 MB\u001b[0m \u001b[31m10.3 MB/s\u001b[0m eta \u001b[36m0:00:00\u001b[0m\n",
            "\u001b[?25hCollecting nvidia-cusolver-cu12==11.4.5.107 (from torch>=2->torchdata>=0.5.0->dgl)\n",
            "  Downloading nvidia_cusolver_cu12-11.4.5.107-py3-none-manylinux1_x86_64.whl (124.2 MB)\n",
            "\u001b[2K     \u001b[90m━━━━━━━━━━━━━━━━━━━━━━━━━━━━━━━━━━━━━━━━\u001b[0m \u001b[32m124.2/124.2 MB\u001b[0m \u001b[31m7.2 MB/s\u001b[0m eta \u001b[36m0:00:00\u001b[0m\n",
            "\u001b[?25hCollecting nvidia-cusparse-cu12==12.1.0.106 (from torch>=2->torchdata>=0.5.0->dgl)\n",
            "  Downloading nvidia_cusparse_cu12-12.1.0.106-py3-none-manylinux1_x86_64.whl (196.0 MB)\n",
            "\u001b[2K     \u001b[90m━━━━━━━━━━━━━━━━━━━━━━━━━━━━━━━━━━━━━━━━\u001b[0m \u001b[32m196.0/196.0 MB\u001b[0m \u001b[31m6.2 MB/s\u001b[0m eta \u001b[36m0:00:00\u001b[0m\n",
            "\u001b[?25hCollecting nvidia-nccl-cu12==2.19.3 (from torch>=2->torchdata>=0.5.0->dgl)\n",
            "  Downloading nvidia_nccl_cu12-2.19.3-py3-none-manylinux1_x86_64.whl (166.0 MB)\n",
            "\u001b[2K     \u001b[90m━━━━━━━━━━━━━━━━━━━━━━━━━━━━━━━━━━━━━━━━\u001b[0m \u001b[32m166.0/166.0 MB\u001b[0m \u001b[31m7.6 MB/s\u001b[0m eta \u001b[36m0:00:00\u001b[0m\n",
            "\u001b[?25hCollecting nvidia-nvtx-cu12==12.1.105 (from torch>=2->torchdata>=0.5.0->dgl)\n",
            "  Downloading nvidia_nvtx_cu12-12.1.105-py3-none-manylinux1_x86_64.whl (99 kB)\n",
            "\u001b[2K     \u001b[90m━━━━━━━━━━━━━━━━━━━━━━━━━━━━━━━━━━━━━━━━\u001b[0m \u001b[32m99.1/99.1 kB\u001b[0m \u001b[31m10.3 MB/s\u001b[0m eta \u001b[36m0:00:00\u001b[0m\n",
            "\u001b[?25hRequirement already satisfied: triton==2.2.0 in /usr/local/lib/python3.10/dist-packages (from torch>=2->torchdata>=0.5.0->dgl) (2.2.0)\n",
            "Collecting nvidia-nvjitlink-cu12 (from nvidia-cusolver-cu12==11.4.5.107->torch>=2->torchdata>=0.5.0->dgl)\n",
            "  Downloading nvidia_nvjitlink_cu12-12.4.99-py3-none-manylinux2014_x86_64.whl (21.1 MB)\n",
            "\u001b[2K     \u001b[90m━━━━━━━━━━━━━━━━━━━━━━━━━━━━━━━━━━━━━━━━\u001b[0m \u001b[32m21.1/21.1 MB\u001b[0m \u001b[31m42.9 MB/s\u001b[0m eta \u001b[36m0:00:00\u001b[0m\n",
            "\u001b[?25hRequirement already satisfied: MarkupSafe>=2.0 in /usr/local/lib/python3.10/dist-packages (from jinja2->torch>=2->torchdata>=0.5.0->dgl) (2.1.5)\n",
            "Requirement already satisfied: mpmath>=0.19 in /usr/local/lib/python3.10/dist-packages (from sympy->torch>=2->torchdata>=0.5.0->dgl) (1.3.0)\n",
            "Installing collected packages: nvidia-nvtx-cu12, nvidia-nvjitlink-cu12, nvidia-nccl-cu12, nvidia-curand-cu12, nvidia-cufft-cu12, nvidia-cuda-runtime-cu12, nvidia-cuda-nvrtc-cu12, nvidia-cuda-cupti-cu12, nvidia-cublas-cu12, nvidia-cusparse-cu12, nvidia-cudnn-cu12, nvidia-cusolver-cu12, dgl\n",
            "Successfully installed dgl-2.1.0 nvidia-cublas-cu12-12.1.3.1 nvidia-cuda-cupti-cu12-12.1.105 nvidia-cuda-nvrtc-cu12-12.1.105 nvidia-cuda-runtime-cu12-12.1.105 nvidia-cudnn-cu12-8.9.2.26 nvidia-cufft-cu12-11.0.2.54 nvidia-curand-cu12-10.3.2.106 nvidia-cusolver-cu12-11.4.5.107 nvidia-cusparse-cu12-12.1.0.106 nvidia-nccl-cu12-2.19.3 nvidia-nvjitlink-cu12-12.4.99 nvidia-nvtx-cu12-12.1.105\n"
          ]
        }
      ],
      "source": [
        "#!pip install openpyxl\n",
        "#!pip install dgl==0.6a210210\n",
        "!pip install dgl"
      ]
    },
    {
      "cell_type": "code",
      "execution_count": null,
      "metadata": {
        "id": "_d_nqZe9tn1c"
      },
      "outputs": [],
      "source": []
    },
    {
      "cell_type": "code",
      "execution_count": null,
      "metadata": {
        "colab": {
          "base_uri": "https://localhost:8080/"
        },
        "id": "4EePufQDtnsK",
        "outputId": "a0eaa8ba-abd5-41ec-ff09-86b6a7a07386"
      },
      "outputs": [
        {
          "output_type": "stream",
          "name": "stdout",
          "text": [
            "Collecting wandb\n",
            "  Downloading wandb-0.16.4-py3-none-any.whl (2.2 MB)\n",
            "\u001b[2K     \u001b[90m━━━━━━━━━━━━━━━━━━━━━━━━━━━━━━━━━━━━━━━━\u001b[0m \u001b[32m2.2/2.2 MB\u001b[0m \u001b[31m21.8 MB/s\u001b[0m eta \u001b[36m0:00:00\u001b[0m\n",
            "\u001b[?25hRequirement already satisfied: Click!=8.0.0,>=7.1 in /usr/local/lib/python3.10/dist-packages (from wandb) (8.1.7)\n",
            "Collecting GitPython!=3.1.29,>=1.0.0 (from wandb)\n",
            "  Downloading GitPython-3.1.42-py3-none-any.whl (195 kB)\n",
            "\u001b[2K     \u001b[90m━━━━━━━━━━━━━━━━━━━━━━━━━━━━━━━━━━━━━━━━\u001b[0m \u001b[32m195.4/195.4 kB\u001b[0m \u001b[31m23.9 MB/s\u001b[0m eta \u001b[36m0:00:00\u001b[0m\n",
            "\u001b[?25hRequirement already satisfied: requests<3,>=2.0.0 in /usr/local/lib/python3.10/dist-packages (from wandb) (2.31.0)\n",
            "Requirement already satisfied: psutil>=5.0.0 in /usr/local/lib/python3.10/dist-packages (from wandb) (5.9.5)\n",
            "Collecting sentry-sdk>=1.0.0 (from wandb)\n",
            "  Downloading sentry_sdk-1.42.0-py2.py3-none-any.whl (263 kB)\n",
            "\u001b[2K     \u001b[90m━━━━━━━━━━━━━━━━━━━━━━━━━━━━━━━━━━━━━━━━\u001b[0m \u001b[32m263.5/263.5 kB\u001b[0m \u001b[31m28.2 MB/s\u001b[0m eta \u001b[36m0:00:00\u001b[0m\n",
            "\u001b[?25hCollecting docker-pycreds>=0.4.0 (from wandb)\n",
            "  Downloading docker_pycreds-0.4.0-py2.py3-none-any.whl (9.0 kB)\n",
            "Requirement already satisfied: PyYAML in /usr/local/lib/python3.10/dist-packages (from wandb) (6.0.1)\n",
            "Collecting setproctitle (from wandb)\n",
            "  Downloading setproctitle-1.3.3-cp310-cp310-manylinux_2_5_x86_64.manylinux1_x86_64.manylinux_2_17_x86_64.manylinux2014_x86_64.whl (30 kB)\n",
            "Requirement already satisfied: setuptools in /usr/local/lib/python3.10/dist-packages (from wandb) (67.7.2)\n",
            "Requirement already satisfied: appdirs>=1.4.3 in /usr/local/lib/python3.10/dist-packages (from wandb) (1.4.4)\n",
            "Requirement already satisfied: protobuf!=4.21.0,<5,>=3.19.0 in /usr/local/lib/python3.10/dist-packages (from wandb) (3.20.3)\n",
            "Requirement already satisfied: six>=1.4.0 in /usr/local/lib/python3.10/dist-packages (from docker-pycreds>=0.4.0->wandb) (1.16.0)\n",
            "Collecting gitdb<5,>=4.0.1 (from GitPython!=3.1.29,>=1.0.0->wandb)\n",
            "  Downloading gitdb-4.0.11-py3-none-any.whl (62 kB)\n",
            "\u001b[2K     \u001b[90m━━━━━━━━━━━━━━━━━━━━━━━━━━━━━━━━━━━━━━━━\u001b[0m \u001b[32m62.7/62.7 kB\u001b[0m \u001b[31m7.5 MB/s\u001b[0m eta \u001b[36m0:00:00\u001b[0m\n",
            "\u001b[?25hRequirement already satisfied: charset-normalizer<4,>=2 in /usr/local/lib/python3.10/dist-packages (from requests<3,>=2.0.0->wandb) (3.3.2)\n",
            "Requirement already satisfied: idna<4,>=2.5 in /usr/local/lib/python3.10/dist-packages (from requests<3,>=2.0.0->wandb) (3.6)\n",
            "Requirement already satisfied: urllib3<3,>=1.21.1 in /usr/local/lib/python3.10/dist-packages (from requests<3,>=2.0.0->wandb) (2.0.7)\n",
            "Requirement already satisfied: certifi>=2017.4.17 in /usr/local/lib/python3.10/dist-packages (from requests<3,>=2.0.0->wandb) (2024.2.2)\n",
            "Collecting smmap<6,>=3.0.1 (from gitdb<5,>=4.0.1->GitPython!=3.1.29,>=1.0.0->wandb)\n",
            "  Downloading smmap-5.0.1-py3-none-any.whl (24 kB)\n",
            "Installing collected packages: smmap, setproctitle, sentry-sdk, docker-pycreds, gitdb, GitPython, wandb\n",
            "Successfully installed GitPython-3.1.42 docker-pycreds-0.4.0 gitdb-4.0.11 sentry-sdk-1.42.0 setproctitle-1.3.3 smmap-5.0.1 wandb-0.16.4\n"
          ]
        }
      ],
      "source": [
        "!pip install wandb"
      ]
    },
    {
      "cell_type": "code",
      "execution_count": null,
      "metadata": {
        "id": "TgUOm83EnEcS"
      },
      "outputs": [],
      "source": []
    },
    {
      "cell_type": "code",
      "execution_count": null,
      "metadata": {
        "colab": {
          "base_uri": "https://localhost:8080/"
        },
        "id": "23j8d2lChKbi",
        "outputId": "5ac1f66a-4b4f-47c2-b6ca-538e3c6506e2"
      },
      "outputs": [
        {
          "output_type": "stream",
          "name": "stdout",
          "text": [
            "Archive:  /content/ag-news-topic-classification.zip\n",
            "  inflating: test_data.csv           \n",
            "  inflating: training_data.csv       \n"
          ]
        }
      ],
      "source": [
        "!unzip '/content/ag-news-topic-classification.zip'"
      ]
    },
    {
      "cell_type": "code",
      "execution_count": null,
      "metadata": {
        "colab": {
          "base_uri": "https://localhost:8080/"
        },
        "id": "I_10uys-eJxC",
        "outputId": "72b269ce-00b7-4164-ac8c-2ce0b1213782"
      },
      "outputs": [
        {
          "output_type": "stream",
          "name": "stdout",
          "text": [
            "Archive:  /content/glove6b50dtxt.zip\n",
            "  inflating: glove.6B.50d.txt        \n"
          ]
        }
      ],
      "source": [
        "!unzip '/content/glove6b50dtxt.zip'"
      ]
    },
    {
      "cell_type": "markdown",
      "metadata": {
        "id": "pHpX3Q70XpYT"
      },
      "source": [
        "Import Libraries"
      ]
    },
    {
      "cell_type": "code",
      "execution_count": null,
      "metadata": {
        "colab": {
          "base_uri": "https://localhost:8080/"
        },
        "id": "mliPcNLOXpBW",
        "outputId": "d4352617-8365-4989-abba-7d31288fe735"
      },
      "outputs": [
        {
          "output_type": "stream",
          "name": "stdout",
          "text": [
            "Setting the default backend to \"pytorch\". You can change it in the ~/.dgl/config.json file or export the DGLBACKEND environment variable.  Valid options are: pytorch, mxnet, tensorflow (all lowercase)\n"
          ]
        },
        {
          "output_type": "stream",
          "name": "stderr",
          "text": [
            "DGL backend not selected or invalid.  Assuming PyTorch for now.\n",
            "[nltk_data] Downloading package punkt to /root/nltk_data...\n",
            "[nltk_data]   Unzipping tokenizers/punkt.zip.\n",
            "[nltk_data] Downloading package stopwords to /root/nltk_data...\n",
            "[nltk_data]   Unzipping corpora/stopwords.zip.\n"
          ]
        }
      ],
      "source": [
        "import dgl\n",
        "\n",
        "from dgl.dataloading import GraphDataLoader\n",
        "from dgl.data import DGLDataset\n",
        "from dgl.nn.pytorch import GraphConv, GATConv, GatedGraphConv, DotGatConv\n",
        "from dgl.nn import AvgPooling, MaxPooling\n",
        "\n",
        "import matplotlib.pyplot as plt\n",
        "%matplotlib inline\n",
        "\n",
        "import numpy as np\n",
        "from nltk.tokenize import word_tokenize\n",
        "from nltk.corpus import stopwords\n",
        "from nltk.stem import WordNetLemmatizer\n",
        "\n",
        "import operator\n",
        "\n",
        "import pandas as pd\n",
        "import pickle\n",
        "\n",
        "import string\n",
        "import sklearn\n",
        "from sklearn.feature_extraction.text import CountVectorizer,TfidfVectorizer\n",
        "from sklearn.model_selection import train_test_split\n",
        "from sklearn.decomposition import TruncatedSVD\n",
        "from sklearn.manifold import TSNE\n",
        "import seaborn as sns\n",
        "from sklearn.model_selection import StratifiedKFold\n",
        "\n",
        "import scipy.sparse as sp\n",
        "\n",
        "from tqdm import tqdm\n",
        "import torch\n",
        "from torch.utils.data import Dataset, DataLoader\n",
        "from torch.nn import CrossEntropyLoss\n",
        "import torch.nn as nn\n",
        "\n",
        "\n",
        "from wordcloud import WordCloud\n",
        "import warnings\n",
        "\n",
        "\n",
        "warnings.filterwarnings('ignore')\n",
        "\n",
        "sns.set_theme()\n",
        "sns.set_context(\"talk\")\n",
        "\n",
        "\n",
        "\n",
        "import nltk\n",
        "nltk.download('punkt')\n",
        "\n",
        "import nltk\n",
        "nltk.download('stopwords')\n",
        "\n",
        "stopwords=set(stopwords.words('english'))\n",
        "\n",
        "\n",
        "lemmatizer=WordNetLemmatizer()\n",
        "\n",
        "seed = 42"
      ]
    },
    {
      "cell_type": "markdown",
      "metadata": {
        "id": "_tiLCW4fcuY6"
      },
      "source": [
        "EDA Functions"
      ]
    },
    {
      "cell_type": "code",
      "execution_count": null,
      "metadata": {
        "id": "OjxW2pW6hKHe"
      },
      "outputs": [],
      "source": [
        "def get_label_dist(df, top_k = 4, reverse = False):\n",
        "    \"\"\"\n",
        "    Plots barplot of count of labels in the dataset\n",
        "    \"\"\"\n",
        "\n",
        "    val_count = df['label'].value_counts(normalize = True)\n",
        "\n",
        "    if not reverse:\n",
        "        for ind in val_count.index[:top_k]:\n",
        "            print(f'{ind} : {idx2label[ind]}')\n",
        "    else:\n",
        "        for ind in val_count.index[-top_k:]:\n",
        "            print(f'{ind} : {idx2label[ind]}')\n",
        "\n",
        "    plt.figure(figsize = (20,6))\n",
        "    if reverse:\n",
        "        sns.barplot(x = list(map(str, val_count.index[-top_k:])), y = val_count.values[-top_k:], palette = 'Blues_r')\n",
        "        plt.title(f'Distribution of normalized count of bottom {top_k} labels')\n",
        "    else:\n",
        "        sns.barplot(x = list(map(str, val_count.index[:top_k])), y = val_count.values[:top_k], palette = 'Blues_r')\n",
        "        plt.title(f'Distribution of normalized count of top {top_k} labels')\n",
        "    plt.xticks()\n",
        "\n",
        "\n",
        "\n",
        "def filter_text(text):\n",
        "\n",
        "    \"\"\"\n",
        "    Returns the lowercase of input text by removing punctuations, stopwords\n",
        "    \"\"\"\n",
        "\n",
        "    tokenized_words=word_tokenize(text)\n",
        "    filtered_words=[word.strip().strip('.').lower() for word in tokenized_words if ((word.lower() not in string.punctuation) &\n",
        "                                                                 (word.lower() not in stopwords))]\n",
        "\n",
        "\n",
        "    return ' '.join(filtered_words)\n"
      ]
    },
    {
      "cell_type": "code",
      "execution_count": null,
      "metadata": {
        "id": "vpfK_Q59hJ4B"
      },
      "outputs": [],
      "source": [
        "def plot_textlen_dist(df, label_list, unique = True):\n",
        "    \"\"\"\n",
        "    Plots histogram of number of words in each sample for given list of labels\n",
        "\n",
        "    \"\"\"\n",
        "\n",
        "    assert isinstance(label_list, list), 'label_list must be a list'\n",
        "    assert all(x in labels for x in label_list), f\"The industry must belong to one of {','.join(str(labels))}\"\n",
        "    #values = ','.join(map(str, value_list))\n",
        "\n",
        "    if unique:\n",
        "        col = 'unique_text_len'\n",
        "        title = 'Distribution of number of unique words in description'\n",
        "    else:\n",
        "        col = 'text_len'\n",
        "        title = 'Distribution of number of words in description'\n",
        "\n",
        "    plt.figure(figsize = (10,6))\n",
        "\n",
        "    for ind in label_list:\n",
        "        sns.distplot(df[df['label'] == label2idx[ind]][col], label = ind, kde = False, norm_hist = True)\n",
        "        plt.legend()\n",
        "\n",
        "    plt.title(title)\n",
        "    plt.xlabel('Text Length')\n",
        "\n"
      ]
    },
    {
      "cell_type": "code",
      "execution_count": null,
      "metadata": {
        "id": "MWG-QRTNhJ02"
      },
      "outputs": [],
      "source": [
        "def plot_wordcloud(text, label, max_font_size=40, max_words=50):\n",
        "\n",
        "    \"\"\"\n",
        "    Plots wordcloud of the input text\n",
        "\n",
        "    \"\"\"\n",
        "\n",
        "    plt.figure(figsize=(10,5))\n",
        "    wordcloud=WordCloud(max_font_size=max_font_size,max_words=max_words,random_state=seed)\n",
        "    plot=wordcloud.generate(text)\n",
        "    plt.title('Industry Tag: ' + label, fontsize = 25)\n",
        "    plt.imshow(plot)\n",
        "    plt.axis('off')\n",
        "    plt.show()\n",
        "\n"
      ]
    },
    {
      "cell_type": "code",
      "execution_count": null,
      "metadata": {
        "id": "MoE_b3h5hJPg"
      },
      "outputs": [],
      "source": [
        "def get_text(traindf, industry):\n",
        "\n",
        "    \"\"\"\n",
        "    Returns string containing all text from input industry tag\n",
        "\n",
        "    \"\"\"\n",
        "\n",
        "    assert industry in labels, f\"The industry must belong to one of {', '.join(labels)}\"\n",
        "\n",
        "    target=traindf[traindf['target']==label2idx[label]].reset_index(drop=True)\n",
        "\n",
        "    target_text=' '\n",
        "\n",
        "    for i in range(target.shape[0]):\n",
        "        target_text+=target.text[i]\n",
        "\n",
        "    return target_text\n"
      ]
    },
    {
      "cell_type": "code",
      "execution_count": null,
      "metadata": {
        "id": "9EtDKO8mhJL8"
      },
      "outputs": [],
      "source": [
        "def plot_top_ngrams(traindf, industry, vectorizer = 'count', ngrams=(1,1),top=10,max_features=10000):\n",
        "\n",
        "    \"\"\"\n",
        "    Plots barplot of count of top ngrams occurred in the description for given industry\n",
        "\n",
        "    \"\"\"\n",
        "\n",
        "    assert vectorizer in ['count', 'tfidf'], \"vectorizer must be one of 'count' and 'tfidf'\"\n",
        "    assert industry in labels, f\"The industry must belong to one of {', '.join(labels)}\"\n",
        "\n",
        "    text = traindf[traindf['label']==label2idx[industry]]['text']\n",
        "\n",
        "    vector_dict = {'count': CountVectorizer, 'tfidf': TfidfVectorizer}\n",
        "\n",
        "    cv=vector_dict[vectorizer](ngram_range=ngrams,max_features=max_features)\n",
        "    trans_text=cv.fit_transform(text)\n",
        "    col_sum=trans_text.sum(axis=0)\n",
        "    word_index=[(word,col_sum[0,idx]) for word,idx in cv.vocabulary_.items()]\n",
        "    sorted_word_index=sorted(word_index,key=lambda x:x[1],reverse=True)\n",
        "    top_words_index=sorted_word_index[:top]\n",
        "    top_words=[element[0] for element in top_words_index]\n",
        "    counts=[element[1] for element in top_words_index]\n",
        "\n",
        "    plt.figure(figsize=(20,6))\n",
        "    sns.barplot(x = top_words, y = counts, palette = 'Blues_r')\n",
        "    plt.title('Industry Tag: ' + industry)\n",
        "    plt.xticks(rotation = 45)\n",
        "\n"
      ]
    },
    {
      "cell_type": "code",
      "execution_count": null,
      "metadata": {
        "id": "eHtUuq31f7gU"
      },
      "outputs": [],
      "source": [
        "def move_legend(ax, idx2label):\n",
        "\n",
        "    \"\"\"\n",
        "    Adds legend to a plot\n",
        "\n",
        "        Parameters:\n",
        "            ax (Axes): Axes object\n",
        "            idx2label (dict): dictionary with ids as keys and labels as values\n",
        "\n",
        "        Returns:\n",
        "            Nothing\n",
        "    \"\"\"\n",
        "\n",
        "\n",
        "    old_legend = ax.legend_\n",
        "    handles = old_legend.legendHandles\n",
        "    labels = [idx2label[int(t.get_text())] for t in old_legend.get_texts()]\n",
        "\n",
        "    title = old_legend.get_title().get_text()\n",
        "    ax.legend(handles, labels, title=title)\n"
      ]
    },
    {
      "cell_type": "markdown",
      "metadata": {
        "id": "tnW5Sc4fqfFx"
      },
      "source": [
        "Explatory Data Analysis"
      ]
    },
    {
      "cell_type": "code",
      "execution_count": null,
      "metadata": {
        "colab": {
          "base_uri": "https://localhost:8080/"
        },
        "id": "Du7xHNA0f7cs",
        "outputId": "3ec194aa-02d0-4626-b043-f5a07c09e426"
      },
      "outputs": [
        {
          "output_type": "stream",
          "name": "stdout",
          "text": [
            "Checking and removing rows with na values in the dataset \n",
            "\n",
            "text     0\n",
            "label    0\n",
            "dtype: int64\n",
            "**************************************************\n",
            "After processing \n",
            "\n",
            "text     0\n",
            "label    0\n",
            "dtype: int64\n"
          ]
        }
      ],
      "source": [
        "traindf = pd.read_csv('/content/training_data.csv')\n",
        "#traindf.columns = ['company', 'text', 'target']\n",
        "\n",
        "\n",
        "print('Checking and removing rows with na values in the dataset \\n')\n",
        "print(traindf.isna().sum())\n",
        "traindf = traindf.dropna(axis = 0).reset_index(drop = True)\n",
        "print('*'*50)\n",
        "print('After processing \\n')\n",
        "print(traindf.isna().sum())"
      ]
    },
    {
      "cell_type": "code",
      "execution_count": null,
      "metadata": {
        "colab": {
          "base_uri": "https://localhost:8080/",
          "height": 363
        },
        "id": "fLKU5xwEf7ZZ",
        "outputId": "2d2a33c6-171b-4f4b-f4b2-7f498e16844e"
      },
      "outputs": [
        {
          "output_type": "execute_result",
          "data": {
            "text/plain": [
              "                                                text  label\n",
              "0  Wall St. Bears Claw Back Into the Black (Reute...      2\n",
              "1  Carlyle Looks Toward Commercial Aerospace (Reu...      2\n",
              "2  Oil and Economy Cloud Stocks' Outlook (Reuters...      2\n",
              "3  Iraq Halts Oil Exports from Main Southern Pipe...      2\n",
              "4  Oil prices soar to all-time record, posing new...      2\n",
              "5  Stocks End Up, But Near Year Lows (Reuters) Re...      2\n",
              "6  Money Funds Fell in Latest Week (AP) AP - Asse...      2\n",
              "7  Fed minutes show dissent over inflation (USATO...      2\n",
              "8  Safety Net (Forbes.com) Forbes.com - After ear...      2\n",
              "9  Wall St. Bears Claw Back Into the Black  NEW Y...      2"
            ],
            "text/html": [
              "\n",
              "  <div id=\"df-0e934f0c-1d7f-4b3e-83ea-0f519e5192fd\" class=\"colab-df-container\">\n",
              "    <div>\n",
              "<style scoped>\n",
              "    .dataframe tbody tr th:only-of-type {\n",
              "        vertical-align: middle;\n",
              "    }\n",
              "\n",
              "    .dataframe tbody tr th {\n",
              "        vertical-align: top;\n",
              "    }\n",
              "\n",
              "    .dataframe thead th {\n",
              "        text-align: right;\n",
              "    }\n",
              "</style>\n",
              "<table border=\"1\" class=\"dataframe\">\n",
              "  <thead>\n",
              "    <tr style=\"text-align: right;\">\n",
              "      <th></th>\n",
              "      <th>text</th>\n",
              "      <th>label</th>\n",
              "    </tr>\n",
              "  </thead>\n",
              "  <tbody>\n",
              "    <tr>\n",
              "      <th>0</th>\n",
              "      <td>Wall St. Bears Claw Back Into the Black (Reute...</td>\n",
              "      <td>2</td>\n",
              "    </tr>\n",
              "    <tr>\n",
              "      <th>1</th>\n",
              "      <td>Carlyle Looks Toward Commercial Aerospace (Reu...</td>\n",
              "      <td>2</td>\n",
              "    </tr>\n",
              "    <tr>\n",
              "      <th>2</th>\n",
              "      <td>Oil and Economy Cloud Stocks' Outlook (Reuters...</td>\n",
              "      <td>2</td>\n",
              "    </tr>\n",
              "    <tr>\n",
              "      <th>3</th>\n",
              "      <td>Iraq Halts Oil Exports from Main Southern Pipe...</td>\n",
              "      <td>2</td>\n",
              "    </tr>\n",
              "    <tr>\n",
              "      <th>4</th>\n",
              "      <td>Oil prices soar to all-time record, posing new...</td>\n",
              "      <td>2</td>\n",
              "    </tr>\n",
              "    <tr>\n",
              "      <th>5</th>\n",
              "      <td>Stocks End Up, But Near Year Lows (Reuters) Re...</td>\n",
              "      <td>2</td>\n",
              "    </tr>\n",
              "    <tr>\n",
              "      <th>6</th>\n",
              "      <td>Money Funds Fell in Latest Week (AP) AP - Asse...</td>\n",
              "      <td>2</td>\n",
              "    </tr>\n",
              "    <tr>\n",
              "      <th>7</th>\n",
              "      <td>Fed minutes show dissent over inflation (USATO...</td>\n",
              "      <td>2</td>\n",
              "    </tr>\n",
              "    <tr>\n",
              "      <th>8</th>\n",
              "      <td>Safety Net (Forbes.com) Forbes.com - After ear...</td>\n",
              "      <td>2</td>\n",
              "    </tr>\n",
              "    <tr>\n",
              "      <th>9</th>\n",
              "      <td>Wall St. Bears Claw Back Into the Black  NEW Y...</td>\n",
              "      <td>2</td>\n",
              "    </tr>\n",
              "  </tbody>\n",
              "</table>\n",
              "</div>\n",
              "    <div class=\"colab-df-buttons\">\n",
              "\n",
              "  <div class=\"colab-df-container\">\n",
              "    <button class=\"colab-df-convert\" onclick=\"convertToInteractive('df-0e934f0c-1d7f-4b3e-83ea-0f519e5192fd')\"\n",
              "            title=\"Convert this dataframe to an interactive table.\"\n",
              "            style=\"display:none;\">\n",
              "\n",
              "  <svg xmlns=\"http://www.w3.org/2000/svg\" height=\"24px\" viewBox=\"0 -960 960 960\">\n",
              "    <path d=\"M120-120v-720h720v720H120Zm60-500h600v-160H180v160Zm220 220h160v-160H400v160Zm0 220h160v-160H400v160ZM180-400h160v-160H180v160Zm440 0h160v-160H620v160ZM180-180h160v-160H180v160Zm440 0h160v-160H620v160Z\"/>\n",
              "  </svg>\n",
              "    </button>\n",
              "\n",
              "  <style>\n",
              "    .colab-df-container {\n",
              "      display:flex;\n",
              "      gap: 12px;\n",
              "    }\n",
              "\n",
              "    .colab-df-convert {\n",
              "      background-color: #E8F0FE;\n",
              "      border: none;\n",
              "      border-radius: 50%;\n",
              "      cursor: pointer;\n",
              "      display: none;\n",
              "      fill: #1967D2;\n",
              "      height: 32px;\n",
              "      padding: 0 0 0 0;\n",
              "      width: 32px;\n",
              "    }\n",
              "\n",
              "    .colab-df-convert:hover {\n",
              "      background-color: #E2EBFA;\n",
              "      box-shadow: 0px 1px 2px rgba(60, 64, 67, 0.3), 0px 1px 3px 1px rgba(60, 64, 67, 0.15);\n",
              "      fill: #174EA6;\n",
              "    }\n",
              "\n",
              "    .colab-df-buttons div {\n",
              "      margin-bottom: 4px;\n",
              "    }\n",
              "\n",
              "    [theme=dark] .colab-df-convert {\n",
              "      background-color: #3B4455;\n",
              "      fill: #D2E3FC;\n",
              "    }\n",
              "\n",
              "    [theme=dark] .colab-df-convert:hover {\n",
              "      background-color: #434B5C;\n",
              "      box-shadow: 0px 1px 3px 1px rgba(0, 0, 0, 0.15);\n",
              "      filter: drop-shadow(0px 1px 2px rgba(0, 0, 0, 0.3));\n",
              "      fill: #FFFFFF;\n",
              "    }\n",
              "  </style>\n",
              "\n",
              "    <script>\n",
              "      const buttonEl =\n",
              "        document.querySelector('#df-0e934f0c-1d7f-4b3e-83ea-0f519e5192fd button.colab-df-convert');\n",
              "      buttonEl.style.display =\n",
              "        google.colab.kernel.accessAllowed ? 'block' : 'none';\n",
              "\n",
              "      async function convertToInteractive(key) {\n",
              "        const element = document.querySelector('#df-0e934f0c-1d7f-4b3e-83ea-0f519e5192fd');\n",
              "        const dataTable =\n",
              "          await google.colab.kernel.invokeFunction('convertToInteractive',\n",
              "                                                    [key], {});\n",
              "        if (!dataTable) return;\n",
              "\n",
              "        const docLinkHtml = 'Like what you see? Visit the ' +\n",
              "          '<a target=\"_blank\" href=https://colab.research.google.com/notebooks/data_table.ipynb>data table notebook</a>'\n",
              "          + ' to learn more about interactive tables.';\n",
              "        element.innerHTML = '';\n",
              "        dataTable['output_type'] = 'display_data';\n",
              "        await google.colab.output.renderOutput(dataTable, element);\n",
              "        const docLink = document.createElement('div');\n",
              "        docLink.innerHTML = docLinkHtml;\n",
              "        element.appendChild(docLink);\n",
              "      }\n",
              "    </script>\n",
              "  </div>\n",
              "\n",
              "\n",
              "<div id=\"df-f304dfd7-01bc-4f14-aae6-4a41e62c38d4\">\n",
              "  <button class=\"colab-df-quickchart\" onclick=\"quickchart('df-f304dfd7-01bc-4f14-aae6-4a41e62c38d4')\"\n",
              "            title=\"Suggest charts\"\n",
              "            style=\"display:none;\">\n",
              "\n",
              "<svg xmlns=\"http://www.w3.org/2000/svg\" height=\"24px\"viewBox=\"0 0 24 24\"\n",
              "     width=\"24px\">\n",
              "    <g>\n",
              "        <path d=\"M19 3H5c-1.1 0-2 .9-2 2v14c0 1.1.9 2 2 2h14c1.1 0 2-.9 2-2V5c0-1.1-.9-2-2-2zM9 17H7v-7h2v7zm4 0h-2V7h2v10zm4 0h-2v-4h2v4z\"/>\n",
              "    </g>\n",
              "</svg>\n",
              "  </button>\n",
              "\n",
              "<style>\n",
              "  .colab-df-quickchart {\n",
              "      --bg-color: #E8F0FE;\n",
              "      --fill-color: #1967D2;\n",
              "      --hover-bg-color: #E2EBFA;\n",
              "      --hover-fill-color: #174EA6;\n",
              "      --disabled-fill-color: #AAA;\n",
              "      --disabled-bg-color: #DDD;\n",
              "  }\n",
              "\n",
              "  [theme=dark] .colab-df-quickchart {\n",
              "      --bg-color: #3B4455;\n",
              "      --fill-color: #D2E3FC;\n",
              "      --hover-bg-color: #434B5C;\n",
              "      --hover-fill-color: #FFFFFF;\n",
              "      --disabled-bg-color: #3B4455;\n",
              "      --disabled-fill-color: #666;\n",
              "  }\n",
              "\n",
              "  .colab-df-quickchart {\n",
              "    background-color: var(--bg-color);\n",
              "    border: none;\n",
              "    border-radius: 50%;\n",
              "    cursor: pointer;\n",
              "    display: none;\n",
              "    fill: var(--fill-color);\n",
              "    height: 32px;\n",
              "    padding: 0;\n",
              "    width: 32px;\n",
              "  }\n",
              "\n",
              "  .colab-df-quickchart:hover {\n",
              "    background-color: var(--hover-bg-color);\n",
              "    box-shadow: 0 1px 2px rgba(60, 64, 67, 0.3), 0 1px 3px 1px rgba(60, 64, 67, 0.15);\n",
              "    fill: var(--button-hover-fill-color);\n",
              "  }\n",
              "\n",
              "  .colab-df-quickchart-complete:disabled,\n",
              "  .colab-df-quickchart-complete:disabled:hover {\n",
              "    background-color: var(--disabled-bg-color);\n",
              "    fill: var(--disabled-fill-color);\n",
              "    box-shadow: none;\n",
              "  }\n",
              "\n",
              "  .colab-df-spinner {\n",
              "    border: 2px solid var(--fill-color);\n",
              "    border-color: transparent;\n",
              "    border-bottom-color: var(--fill-color);\n",
              "    animation:\n",
              "      spin 1s steps(1) infinite;\n",
              "  }\n",
              "\n",
              "  @keyframes spin {\n",
              "    0% {\n",
              "      border-color: transparent;\n",
              "      border-bottom-color: var(--fill-color);\n",
              "      border-left-color: var(--fill-color);\n",
              "    }\n",
              "    20% {\n",
              "      border-color: transparent;\n",
              "      border-left-color: var(--fill-color);\n",
              "      border-top-color: var(--fill-color);\n",
              "    }\n",
              "    30% {\n",
              "      border-color: transparent;\n",
              "      border-left-color: var(--fill-color);\n",
              "      border-top-color: var(--fill-color);\n",
              "      border-right-color: var(--fill-color);\n",
              "    }\n",
              "    40% {\n",
              "      border-color: transparent;\n",
              "      border-right-color: var(--fill-color);\n",
              "      border-top-color: var(--fill-color);\n",
              "    }\n",
              "    60% {\n",
              "      border-color: transparent;\n",
              "      border-right-color: var(--fill-color);\n",
              "    }\n",
              "    80% {\n",
              "      border-color: transparent;\n",
              "      border-right-color: var(--fill-color);\n",
              "      border-bottom-color: var(--fill-color);\n",
              "    }\n",
              "    90% {\n",
              "      border-color: transparent;\n",
              "      border-bottom-color: var(--fill-color);\n",
              "    }\n",
              "  }\n",
              "</style>\n",
              "\n",
              "  <script>\n",
              "    async function quickchart(key) {\n",
              "      const quickchartButtonEl =\n",
              "        document.querySelector('#' + key + ' button');\n",
              "      quickchartButtonEl.disabled = true;  // To prevent multiple clicks.\n",
              "      quickchartButtonEl.classList.add('colab-df-spinner');\n",
              "      try {\n",
              "        const charts = await google.colab.kernel.invokeFunction(\n",
              "            'suggestCharts', [key], {});\n",
              "      } catch (error) {\n",
              "        console.error('Error during call to suggestCharts:', error);\n",
              "      }\n",
              "      quickchartButtonEl.classList.remove('colab-df-spinner');\n",
              "      quickchartButtonEl.classList.add('colab-df-quickchart-complete');\n",
              "    }\n",
              "    (() => {\n",
              "      let quickchartButtonEl =\n",
              "        document.querySelector('#df-f304dfd7-01bc-4f14-aae6-4a41e62c38d4 button');\n",
              "      quickchartButtonEl.style.display =\n",
              "        google.colab.kernel.accessAllowed ? 'block' : 'none';\n",
              "    })();\n",
              "  </script>\n",
              "</div>\n",
              "    </div>\n",
              "  </div>\n"
            ],
            "application/vnd.google.colaboratory.intrinsic+json": {
              "type": "dataframe",
              "variable_name": "traindf"
            }
          },
          "metadata": {},
          "execution_count": 20
        }
      ],
      "source": [
        "traindf.head(10)"
      ]
    },
    {
      "cell_type": "markdown",
      "metadata": {
        "id": "qQSAlAUi9x7j"
      },
      "source": [
        "Now, I create mapping from labels to ids and ids to labels."
      ]
    },
    {
      "cell_type": "code",
      "execution_count": null,
      "metadata": {
        "colab": {
          "base_uri": "https://localhost:8080/"
        },
        "id": "qOTqwHHC_lFV",
        "outputId": "f30de2ba-d2ae-4cbc-f797-5350b6f353c0"
      },
      "outputs": [
        {
          "output_type": "stream",
          "name": "stdout",
          "text": [
            "Number of unique industry tags:  4\n"
          ]
        }
      ],
      "source": [
        "labels = traindf['label'].unique()\n",
        "print('Number of unique industry tags: ', len(labels))\n",
        "label2idx = {l:i for i,l in enumerate(sorted(labels))}\n",
        "idx2label = {v:k for k,v in label2idx.items()}\n",
        "\n",
        "traindf['label'] = traindf['label'].apply(lambda x: label2idx[x])"
      ]
    },
    {
      "cell_type": "code",
      "execution_count": null,
      "metadata": {
        "colab": {
          "base_uri": "https://localhost:8080/",
          "height": 431
        },
        "id": "bkvILmnff7WX",
        "outputId": "5c7216f0-f05d-4ce5-e458-2b3e67df553d"
      },
      "outputs": [
        {
          "output_type": "stream",
          "name": "stdout",
          "text": [
            "2 : 2\n",
            "3 : 3\n",
            "1 : 1\n",
            "0 : 0\n"
          ]
        },
        {
          "output_type": "display_data",
          "data": {
            "text/plain": [
              "<Figure size 2000x600 with 1 Axes>"
            ],
            "image/png": "[encoded data removed]"
          },
          "metadata": {}
        }
      ],
      "source": [
        "get_label_dist(traindf, top_k = 4, reverse = False)"
      ]
    },
    {
      "cell_type": "code",
      "execution_count": null,
      "metadata": {
        "colab": {
          "base_uri": "https://localhost:8080/",
          "height": 431
        },
        "id": "vB4TDs_3f7TM",
        "outputId": "b10e70ac-a95e-4008-e6c1-acf0acf04e2a"
      },
      "outputs": [
        {
          "output_type": "stream",
          "name": "stdout",
          "text": [
            "2 : 2\n",
            "3 : 3\n",
            "1 : 1\n",
            "0 : 0\n"
          ]
        },
        {
          "output_type": "display_data",
          "data": {
            "text/plain": [
              "<Figure size 2000x600 with 1 Axes>"
            ],
            "image/png": "[encoded data removed]"
          },
          "metadata": {}
        }
      ],
      "source": [
        "get_label_dist(traindf, top_k = 4, reverse = True)"
      ]
    },
    {
      "cell_type": "markdown",
      "metadata": {
        "id": "MxSFSiznATim"
      },
      "source": [
        "Remove stopwords and punctuations and also apply stemmer on the text."
      ]
    },
    {
      "cell_type": "code",
      "execution_count": null,
      "metadata": {
        "id": "ZxmFp8d4f7K3"
      },
      "outputs": [],
      "source": [
        "traindf['text'] = traindf['text'].apply(lambda x: filter_text(x))\n",
        "traindf['text_len'] = traindf['text'].apply(lambda x: len(x.split()))\n",
        "traindf['unique_text_len'] = traindf['text'].apply(lambda x: len(set(x.split())))"
      ]
    },
    {
      "cell_type": "markdown",
      "metadata": {
        "id": "1xHn1CU7MDEn"
      },
      "source": [
        "Check the maximum and minimum of the labelwise mean text length and their industry tags. Use these tags to plot their distributions just to check if there is large difference in them."
      ]
    },
    {
      "cell_type": "code",
      "execution_count": null,
      "metadata": {
        "colab": {
          "base_uri": "https://localhost:8080/"
        },
        "id": "TagwjlNKMD-4",
        "outputId": "b969e4f8-b0d5-4a0f-b866-3d731d7bf01d"
      },
      "outputs": [
        {
          "output_type": "stream",
          "name": "stdout",
          "text": [
            "Max of mean text length:  27.363333333333333\n",
            "Tag of max of mean text length:  2\n",
            "Min of mean text length:  25.5869\n",
            "Tag of min of mean text length:  1\n"
          ]
        }
      ],
      "source": [
        "print('Max of mean text length: ', traindf.groupby(by='label')['text_len'].mean().max())\n",
        "print('Tag of max of mean text length: ', idx2label[traindf.groupby(by='label')['text_len'].mean().argmax()])\n",
        "\n",
        "print('Min of mean text length: ', traindf.groupby(by='label')['text_len'].mean().min())\n",
        "print('Tag of min of mean text length: ', idx2label[traindf.groupby(by='label')['text_len'].mean().argmin()])"
      ]
    },
    {
      "cell_type": "code",
      "execution_count": null,
      "metadata": {
        "colab": {
          "base_uri": "https://localhost:8080/"
        },
        "id": "rShRMSkGMy7w",
        "outputId": "ef530597-61a5-49c9-b433-160a6fb6e4f8"
      },
      "outputs": [
        {
          "output_type": "stream",
          "name": "stdout",
          "text": [
            "count    120000.000000\n",
            "mean         26.625892\n",
            "std           7.692630\n",
            "min           7.000000\n",
            "25%          22.000000\n",
            "50%          26.000000\n",
            "75%          30.000000\n",
            "max         167.000000\n",
            "Name: text_len, dtype: float64\n"
          ]
        }
      ],
      "source": [
        "print(traindf['text_len'].describe())"
      ]
    },
    {
      "cell_type": "markdown",
      "metadata": {
        "id": "hTUrnookU3X4"
      },
      "source": [
        "Plot labelwise normalized distribution of number of words and number of unique words in the next two plots."
      ]
    },
    {
      "cell_type": "code",
      "execution_count": null,
      "metadata": {
        "colab": {
          "base_uri": "https://localhost:8080/",
          "height": 369
        },
        "id": "1VoYvZNLShPF",
        "outputId": "aa329151-e83a-43d7-cf02-86db86185045"
      },
      "outputs": [
        {
          "output_type": "display_data",
          "data": {
            "text/plain": [
              "<Figure size 2000x600 with 2 Axes>"
            ],
            "image/png": "[encoded data removed]"
          },
          "metadata": {}
        }
      ],
      "source": [
        "plt.figure(figsize = (20,6))\n",
        "\n",
        "plt.subplot(1,2,1)\n",
        "sns.kdeplot(traindf.groupby(by='label')['text_len'].mean())\n",
        "plt.xlabel('Text Length')\n",
        "plt.title('Distribution of labelwise mean of text length')\n",
        "\n",
        "plt.subplot(1,2,2)\n",
        "sns.kdeplot(traindf.groupby(by='label')['unique_text_len'].mean())\n",
        "plt.xlabel('Text Length')\n",
        "plt.title('Distribution of labelwise mean of unique text length')\n",
        "\n",
        "plt.show()"
      ]
    },
    {
      "cell_type": "markdown",
      "metadata": {
        "id": "sG-wWbzuSd6r"
      },
      "source": [
        "Preprocessing for Glove Embeddings"
      ]
    },
    {
      "cell_type": "code",
      "execution_count": null,
      "metadata": {
        "id": "sgNxFeupMy3-"
      },
      "outputs": [],
      "source": [
        "def load_embeddings(path):\n",
        "    with open(path,'rb') as f:\n",
        "        emb_arr = pickle.load(f)\n",
        "    return emb_arr\n",
        "\n",
        "def check_coverage(vocab,embeddings_index):\n",
        "    \"\"\"\n",
        "    Returns list of tuples.\n",
        "    \"\"\"\n",
        "    a = {}\n",
        "    oov = {}\n",
        "    k = 0\n",
        "    i = 0\n",
        "    for word in tqdm(vocab):\n",
        "        try:\n",
        "            a[word] = embeddings_index[word]\n",
        "            k += vocab[word]\n",
        "        except:\n",
        "\n",
        "            oov[word] = vocab[word]\n",
        "            i += vocab[word]\n",
        "            pass\n",
        "\n",
        "    print('Found embeddings for {:.2%} of vocab'.format(len(a) / len(vocab)))\n",
        "    print('Found embeddings for  {:.2%} of all text'.format(k / (k + i)))\n",
        "    sorted_x = sorted(oov.items(), key=operator.itemgetter(1))[::-1]\n",
        "\n",
        "    return sorted_x\n",
        "\n",
        "\n",
        "def build_vocab(sentences, verbose =  True):\n",
        "    \"\"\"\n",
        "    Returns dictionary with keys as words in the sentences and values as their count of occurence\n",
        "\n",
        "    \"\"\"\n",
        "    vocab = {}\n",
        "    for sentence in tqdm(sentences, disable = (not verbose)):\n",
        "        for word in sentence:\n",
        "            try:\n",
        "                vocab[word] += 1\n",
        "            except KeyError:\n",
        "                vocab[word] = 1\n",
        "    return vocab\n"
      ]
    },
    {
      "cell_type": "markdown",
      "metadata": {
        "id": "yMOlsEPAYLtR"
      },
      "source": [
        "Load glove embeddings of 50 dimnesions"
      ]
    },
    {
      "cell_type": "code",
      "execution_count": null,
      "metadata": {
        "id": "gjWqWmXjMy0o"
      },
      "outputs": [],
      "source": [
        "GLOVE_EMBEDDING_PATH = '/content/glove.6B.50d.txt'\n",
        "\n",
        "\n",
        "\n",
        "word_embeddings = {}\n",
        "\n",
        "with open(GLOVE_EMBEDDING_PATH, 'r') as f:\n",
        "    for line in f.readlines():\n",
        "        data = line.split()\n",
        "        word_embeddings[str(data[0])] = list(map(float,data[1:]))"
      ]
    },
    {
      "cell_type": "code",
      "execution_count": null,
      "metadata": {
        "colab": {
          "base_uri": "https://localhost:8080/"
        },
        "id": "WTmgJks4MyvJ",
        "outputId": "ec9777fa-b5b0-4d95-d3f4-ad04208a6462"
      },
      "outputs": [
        {
          "output_type": "stream",
          "name": "stderr",
          "text": [
            "100%|██████████| 120000/120000 [00:01<00:00, 84635.19it/s]\n",
            "100%|██████████| 99296/99296 [00:00<00:00, 393087.71it/s]\n"
          ]
        },
        {
          "output_type": "stream",
          "name": "stdout",
          "text": [
            "Found embeddings for 64.76% of vocab\n",
            "Found embeddings for  97.52% of all text\n"
          ]
        },
        {
          "output_type": "execute_result",
          "data": {
            "text/plain": [
              "[('/b', 2984),\n",
              " ('href=', 2119),\n",
              " ('/a', 2117),\n",
              " ('target=/stocks/quickinfo/fullquote', 1813),\n",
              " ('//www.investor.reuters.com/fullquote.aspx', 1813),\n",
              " ('/p', 537),\n",
              " ('newsfactor', 510),\n",
              " ('cbs.mw', 471),\n",
              " ('color=', 431),\n",
              " ('/font', 417)]"
            ]
          },
          "metadata": {},
          "execution_count": 31
        }
      ],
      "source": [
        "vocab = build_vocab(list(traindf['text'].apply(lambda x:x.split())))\n",
        "oov = check_coverage(vocab,word_embeddings)\n",
        "oov[:10]"
      ]
    },
    {
      "cell_type": "code",
      "execution_count": null,
      "metadata": {
        "id": "f1DQWNX6Mynx"
      },
      "outputs": [],
      "source": [
        "traindf['text'] = traindf['text'].apply(lambda x: ' '.join(x.split('-')))"
      ]
    },
    {
      "cell_type": "code",
      "execution_count": null,
      "metadata": {
        "colab": {
          "base_uri": "https://localhost:8080/"
        },
        "id": "BiUwzBOQMyji",
        "outputId": "7bf0fd1d-288a-4fde-8bda-f8c6615d98bb"
      },
      "outputs": [
        {
          "output_type": "stream",
          "name": "stderr",
          "text": [
            "100%|██████████| 120000/120000 [00:01<00:00, 81213.44it/s]\n",
            "100%|██████████| 82160/82160 [00:00<00:00, 520483.83it/s]"
          ]
        },
        {
          "output_type": "stream",
          "name": "stdout",
          "text": [
            "Found embeddings for 71.52% of vocab\n",
            "Found embeddings for  98.25% of all text\n"
          ]
        },
        {
          "output_type": "stream",
          "name": "stderr",
          "text": [
            "\n"
          ]
        },
        {
          "output_type": "execute_result",
          "data": {
            "text/plain": [
              "[('/b', 2985),\n",
              " ('href=', 2119),\n",
              " ('/a', 2117),\n",
              " ('target=/stocks/quickinfo/fullquote', 1813),\n",
              " ('//www.investor.reuters.com/fullquote.aspx', 1813),\n",
              " ('/p', 537),\n",
              " ('newsfactor', 510),\n",
              " ('cbs.mw', 471),\n",
              " ('color=', 431),\n",
              " ('size=', 431)]"
            ]
          },
          "metadata": {},
          "execution_count": 33
        }
      ],
      "source": [
        "vocab = build_vocab(list(traindf['text'].apply(lambda x:x.split())))\n",
        "oov = check_coverage(vocab,word_embeddings)\n",
        "oov[:10]"
      ]
    },
    {
      "cell_type": "markdown",
      "metadata": {
        "id": "FUTStqz3gUUz"
      },
      "source": [
        "Build graphs"
      ]
    },
    {
      "cell_type": "code",
      "execution_count": null,
      "metadata": {
        "id": "0CXA6llugLt2"
      },
      "outputs": [],
      "source": [
        "def build_graph(start, end, truncate = False, weighted_graph = True):\n",
        "    \"\"\"\n",
        "    Returns list of adjacency matrix and list of node matrix\n",
        "\n",
        "    \"\"\"\n",
        "    x_adj = []\n",
        "    x_feature = []\n",
        "    doc_len_list = []\n",
        "    vocab_set = set()\n",
        "\n",
        "    for i in tqdm(range(start, end)):\n",
        "\n",
        "        doc_words = shuffle_doc_words_list[i].split()\n",
        "        if truncate:\n",
        "            doc_words = doc_words[:MAX_TRUNC_LEN]\n",
        "        doc_len = len(doc_words)\n",
        "\n",
        "        doc_vocab = list(set(doc_words))\n",
        "        doc_nodes = len(doc_vocab)\n",
        "\n",
        "        doc_len_list.append(doc_nodes)\n",
        "        vocab_set.update(doc_vocab)\n",
        "\n",
        "        doc_word_id_map = {}\n",
        "        for j in range(doc_nodes):\n",
        "            doc_word_id_map[doc_vocab[j]] = j\n",
        "\n",
        "        # sliding windows\n",
        "        windows = []\n",
        "        if doc_len <= window_size:\n",
        "            windows.append(doc_words)\n",
        "        else:\n",
        "            for j in range(doc_len - window_size + 1):\n",
        "                window = doc_words[j: j + window_size]\n",
        "                windows.append(window)\n",
        "\n",
        "        word_pair_count = {}\n",
        "        for window in windows:\n",
        "            for p in range(1, len(window)):\n",
        "                for q in range(0, p):\n",
        "                    word_p = window[p]\n",
        "                    word_p_id = word_id_map[word_p]\n",
        "                    word_q = window[q]\n",
        "                    word_q_id = word_id_map[word_q]\n",
        "                    if word_p_id == word_q_id:\n",
        "                        continue\n",
        "                    word_pair_key = (word_p_id, word_q_id)\n",
        "                    # word co-occurrences as weights\n",
        "                    if word_pair_key in word_pair_count:\n",
        "                        word_pair_count[word_pair_key] += 1.\n",
        "                    else:\n",
        "                        word_pair_count[word_pair_key] = 1.\n",
        "                    # bi-direction\n",
        "                    word_pair_key = (word_q_id, word_p_id)\n",
        "                    if word_pair_key in word_pair_count:\n",
        "                        word_pair_count[word_pair_key] += 1.\n",
        "                    else:\n",
        "                        word_pair_count[word_pair_key] = 1.\n",
        "\n",
        "        row = []\n",
        "        col = []\n",
        "        weight = []\n",
        "        features = []\n",
        "\n",
        "        for key in word_pair_count:\n",
        "            p = key[0]\n",
        "            q = key[1]\n",
        "            row.append(doc_word_id_map[vocab[p]])\n",
        "            col.append(doc_word_id_map[vocab[q]])\n",
        "            weight.append(word_pair_count[key] if weighted_graph else 1.)\n",
        "        adj = sp.csr_matrix((weight, (row, col)), shape=(doc_nodes, doc_nodes))\n",
        "\n",
        "        for k, v in sorted(doc_word_id_map.items(), key=lambda x: x[1]):\n",
        "            features.append(word_embeddings[k] if k in word_embeddings else oov[k])\n",
        "\n",
        "        x_adj.append(adj)\n",
        "        x_feature.append(features)\n",
        "\n",
        "\n",
        "    return x_adj, x_feature"
      ]
    },
    {
      "cell_type": "markdown",
      "metadata": {
        "id": "3zXLW6cvgkeN"
      },
      "source": [
        "Args for building graphs and training model"
      ]
    },
    {
      "cell_type": "code",
      "execution_count": null,
      "metadata": {
        "id": "0usNZ3uLglE5"
      },
      "outputs": [],
      "source": [
        "class args:\n",
        "    max_epochs = 20\n",
        "    lr = 1e-3\n",
        "    batch_size = 64\n",
        "    embedding_dim = 50\n",
        "    hidden_dim = 50\n",
        "    num_heads = 8   # used for attention model\n",
        "    n_folds = 5\n",
        "    window_size = 3"
      ]
    },
    {
      "cell_type": "markdown",
      "metadata": {
        "id": "YExpfZhmgsKf"
      },
      "source": [
        "Create a list of unique words in the whole dataset"
      ]
    },
    {
      "cell_type": "code",
      "execution_count": null,
      "metadata": {
        "colab": {
          "base_uri": "https://localhost:8080/",
          "height": 206
        },
        "id": "uotFR1w0u0UR",
        "outputId": "a67b986a-f052-4285-bfb8-f1238e7af54b"
      },
      "outputs": [
        {
          "output_type": "execute_result",
          "data": {
            "text/plain": [
              "                                                text  label\n",
              "0  European stocks rally on hope ECB may be done ...      2\n",
              "1  Gold prices have hit a new high, while the val...      2\n",
              "2  Why food discount stickers may be a thing of t...      2\n",
              "3  German cabinet tries to solve ‘no-debt’ crisis...      2\n",
              "4        Indonesia's volcano eruption leaves 22 dead      0"
            ],
            "text/html": [
              "\n",
              "  <div id=\"df-59b4a70f-1a89-430f-9cb9-26e720b24d13\" class=\"colab-df-container\">\n",
              "    <div>\n",
              "<style scoped>\n",
              "    .dataframe tbody tr th:only-of-type {\n",
              "        vertical-align: middle;\n",
              "    }\n",
              "\n",
              "    .dataframe tbody tr th {\n",
              "        vertical-align: top;\n",
              "    }\n",
              "\n",
              "    .dataframe thead th {\n",
              "        text-align: right;\n",
              "    }\n",
              "</style>\n",
              "<table border=\"1\" class=\"dataframe\">\n",
              "  <thead>\n",
              "    <tr style=\"text-align: right;\">\n",
              "      <th></th>\n",
              "      <th>text</th>\n",
              "      <th>label</th>\n",
              "    </tr>\n",
              "  </thead>\n",
              "  <tbody>\n",
              "    <tr>\n",
              "      <th>0</th>\n",
              "      <td>European stocks rally on hope ECB may be done ...</td>\n",
              "      <td>2</td>\n",
              "    </tr>\n",
              "    <tr>\n",
              "      <th>1</th>\n",
              "      <td>Gold prices have hit a new high, while the val...</td>\n",
              "      <td>2</td>\n",
              "    </tr>\n",
              "    <tr>\n",
              "      <th>2</th>\n",
              "      <td>Why food discount stickers may be a thing of t...</td>\n",
              "      <td>2</td>\n",
              "    </tr>\n",
              "    <tr>\n",
              "      <th>3</th>\n",
              "      <td>German cabinet tries to solve ‘no-debt’ crisis...</td>\n",
              "      <td>2</td>\n",
              "    </tr>\n",
              "    <tr>\n",
              "      <th>4</th>\n",
              "      <td>Indonesia's volcano eruption leaves 22 dead</td>\n",
              "      <td>0</td>\n",
              "    </tr>\n",
              "  </tbody>\n",
              "</table>\n",
              "</div>\n",
              "    <div class=\"colab-df-buttons\">\n",
              "\n",
              "  <div class=\"colab-df-container\">\n",
              "    <button class=\"colab-df-convert\" onclick=\"convertToInteractive('df-59b4a70f-1a89-430f-9cb9-26e720b24d13')\"\n",
              "            title=\"Convert this dataframe to an interactive table.\"\n",
              "            style=\"display:none;\">\n",
              "\n",
              "  <svg xmlns=\"http://www.w3.org/2000/svg\" height=\"24px\" viewBox=\"0 -960 960 960\">\n",
              "    <path d=\"M120-120v-720h720v720H120Zm60-500h600v-160H180v160Zm220 220h160v-160H400v160Zm0 220h160v-160H400v160ZM180-400h160v-160H180v160Zm440 0h160v-160H620v160ZM180-180h160v-160H180v160Zm440 0h160v-160H620v160Z\"/>\n",
              "  </svg>\n",
              "    </button>\n",
              "\n",
              "  <style>\n",
              "    .colab-df-container {\n",
              "      display:flex;\n",
              "      gap: 12px;\n",
              "    }\n",
              "\n",
              "    .colab-df-convert {\n",
              "      background-color: #E8F0FE;\n",
              "      border: none;\n",
              "      border-radius: 50%;\n",
              "      cursor: pointer;\n",
              "      display: none;\n",
              "      fill: #1967D2;\n",
              "      height: 32px;\n",
              "      padding: 0 0 0 0;\n",
              "      width: 32px;\n",
              "    }\n",
              "\n",
              "    .colab-df-convert:hover {\n",
              "      background-color: #E2EBFA;\n",
              "      box-shadow: 0px 1px 2px rgba(60, 64, 67, 0.3), 0px 1px 3px 1px rgba(60, 64, 67, 0.15);\n",
              "      fill: #174EA6;\n",
              "    }\n",
              "\n",
              "    .colab-df-buttons div {\n",
              "      margin-bottom: 4px;\n",
              "    }\n",
              "\n",
              "    [theme=dark] .colab-df-convert {\n",
              "      background-color: #3B4455;\n",
              "      fill: #D2E3FC;\n",
              "    }\n",
              "\n",
              "    [theme=dark] .colab-df-convert:hover {\n",
              "      background-color: #434B5C;\n",
              "      box-shadow: 0px 1px 3px 1px rgba(0, 0, 0, 0.15);\n",
              "      filter: drop-shadow(0px 1px 2px rgba(0, 0, 0, 0.3));\n",
              "      fill: #FFFFFF;\n",
              "    }\n",
              "  </style>\n",
              "\n",
              "    <script>\n",
              "      const buttonEl =\n",
              "        document.querySelector('#df-59b4a70f-1a89-430f-9cb9-26e720b24d13 button.colab-df-convert');\n",
              "      buttonEl.style.display =\n",
              "        google.colab.kernel.accessAllowed ? 'block' : 'none';\n",
              "\n",
              "      async function convertToInteractive(key) {\n",
              "        const element = document.querySelector('#df-59b4a70f-1a89-430f-9cb9-26e720b24d13');\n",
              "        const dataTable =\n",
              "          await google.colab.kernel.invokeFunction('convertToInteractive',\n",
              "                                                    [key], {});\n",
              "        if (!dataTable) return;\n",
              "\n",
              "        const docLinkHtml = 'Like what you see? Visit the ' +\n",
              "          '<a target=\"_blank\" href=https://colab.research.google.com/notebooks/data_table.ipynb>data table notebook</a>'\n",
              "          + ' to learn more about interactive tables.';\n",
              "        element.innerHTML = '';\n",
              "        dataTable['output_type'] = 'display_data';\n",
              "        await google.colab.output.renderOutput(dataTable, element);\n",
              "        const docLink = document.createElement('div');\n",
              "        docLink.innerHTML = docLinkHtml;\n",
              "        element.appendChild(docLink);\n",
              "      }\n",
              "    </script>\n",
              "  </div>\n",
              "\n",
              "\n",
              "<div id=\"df-d09d8c01-3fa9-451f-8ad6-71f3f7ac4240\">\n",
              "  <button class=\"colab-df-quickchart\" onclick=\"quickchart('df-d09d8c01-3fa9-451f-8ad6-71f3f7ac4240')\"\n",
              "            title=\"Suggest charts\"\n",
              "            style=\"display:none;\">\n",
              "\n",
              "<svg xmlns=\"http://www.w3.org/2000/svg\" height=\"24px\"viewBox=\"0 0 24 24\"\n",
              "     width=\"24px\">\n",
              "    <g>\n",
              "        <path d=\"M19 3H5c-1.1 0-2 .9-2 2v14c0 1.1.9 2 2 2h14c1.1 0 2-.9 2-2V5c0-1.1-.9-2-2-2zM9 17H7v-7h2v7zm4 0h-2V7h2v10zm4 0h-2v-4h2v4z\"/>\n",
              "    </g>\n",
              "</svg>\n",
              "  </button>\n",
              "\n",
              "<style>\n",
              "  .colab-df-quickchart {\n",
              "      --bg-color: #E8F0FE;\n",
              "      --fill-color: #1967D2;\n",
              "      --hover-bg-color: #E2EBFA;\n",
              "      --hover-fill-color: #174EA6;\n",
              "      --disabled-fill-color: #AAA;\n",
              "      --disabled-bg-color: #DDD;\n",
              "  }\n",
              "\n",
              "  [theme=dark] .colab-df-quickchart {\n",
              "      --bg-color: #3B4455;\n",
              "      --fill-color: #D2E3FC;\n",
              "      --hover-bg-color: #434B5C;\n",
              "      --hover-fill-color: #FFFFFF;\n",
              "      --disabled-bg-color: #3B4455;\n",
              "      --disabled-fill-color: #666;\n",
              "  }\n",
              "\n",
              "  .colab-df-quickchart {\n",
              "    background-color: var(--bg-color);\n",
              "    border: none;\n",
              "    border-radius: 50%;\n",
              "    cursor: pointer;\n",
              "    display: none;\n",
              "    fill: var(--fill-color);\n",
              "    height: 32px;\n",
              "    padding: 0;\n",
              "    width: 32px;\n",
              "  }\n",
              "\n",
              "  .colab-df-quickchart:hover {\n",
              "    background-color: var(--hover-bg-color);\n",
              "    box-shadow: 0 1px 2px rgba(60, 64, 67, 0.3), 0 1px 3px 1px rgba(60, 64, 67, 0.15);\n",
              "    fill: var(--button-hover-fill-color);\n",
              "  }\n",
              "\n",
              "  .colab-df-quickchart-complete:disabled,\n",
              "  .colab-df-quickchart-complete:disabled:hover {\n",
              "    background-color: var(--disabled-bg-color);\n",
              "    fill: var(--disabled-fill-color);\n",
              "    box-shadow: none;\n",
              "  }\n",
              "\n",
              "  .colab-df-spinner {\n",
              "    border: 2px solid var(--fill-color);\n",
              "    border-color: transparent;\n",
              "    border-bottom-color: var(--fill-color);\n",
              "    animation:\n",
              "      spin 1s steps(1) infinite;\n",
              "  }\n",
              "\n",
              "  @keyframes spin {\n",
              "    0% {\n",
              "      border-color: transparent;\n",
              "      border-bottom-color: var(--fill-color);\n",
              "      border-left-color: var(--fill-color);\n",
              "    }\n",
              "    20% {\n",
              "      border-color: transparent;\n",
              "      border-left-color: var(--fill-color);\n",
              "      border-top-color: var(--fill-color);\n",
              "    }\n",
              "    30% {\n",
              "      border-color: transparent;\n",
              "      border-left-color: var(--fill-color);\n",
              "      border-top-color: var(--fill-color);\n",
              "      border-right-color: var(--fill-color);\n",
              "    }\n",
              "    40% {\n",
              "      border-color: transparent;\n",
              "      border-right-color: var(--fill-color);\n",
              "      border-top-color: var(--fill-color);\n",
              "    }\n",
              "    60% {\n",
              "      border-color: transparent;\n",
              "      border-right-color: var(--fill-color);\n",
              "    }\n",
              "    80% {\n",
              "      border-color: transparent;\n",
              "      border-right-color: var(--fill-color);\n",
              "      border-bottom-color: var(--fill-color);\n",
              "    }\n",
              "    90% {\n",
              "      border-color: transparent;\n",
              "      border-bottom-color: var(--fill-color);\n",
              "    }\n",
              "  }\n",
              "</style>\n",
              "\n",
              "  <script>\n",
              "    async function quickchart(key) {\n",
              "      const quickchartButtonEl =\n",
              "        document.querySelector('#' + key + ' button');\n",
              "      quickchartButtonEl.disabled = true;  // To prevent multiple clicks.\n",
              "      quickchartButtonEl.classList.add('colab-df-spinner');\n",
              "      try {\n",
              "        const charts = await google.colab.kernel.invokeFunction(\n",
              "            'suggestCharts', [key], {});\n",
              "      } catch (error) {\n",
              "        console.error('Error during call to suggestCharts:', error);\n",
              "      }\n",
              "      quickchartButtonEl.classList.remove('colab-df-spinner');\n",
              "      quickchartButtonEl.classList.add('colab-df-quickchart-complete');\n",
              "    }\n",
              "    (() => {\n",
              "      let quickchartButtonEl =\n",
              "        document.querySelector('#df-d09d8c01-3fa9-451f-8ad6-71f3f7ac4240 button');\n",
              "      quickchartButtonEl.style.display =\n",
              "        google.colab.kernel.accessAllowed ? 'block' : 'none';\n",
              "    })();\n",
              "  </script>\n",
              "</div>\n",
              "    </div>\n",
              "  </div>\n"
            ],
            "application/vnd.google.colaboratory.intrinsic+json": {
              "type": "dataframe",
              "variable_name": "testdf",
              "summary": "{\n  \"name\": \"testdf\",\n  \"rows\": 19,\n  \"fields\": [\n    {\n      \"column\": \"text\",\n      \"properties\": {\n        \"dtype\": \"string\",\n        \"num_unique_values\": 19,\n        \"samples\": [\n          \"European stocks rally on hope ECB may be done with interest rate hikes\",\n          \"Adverts for Air France, Lufthansa and Etihad have been banned for misleading consumers about the airlines' environmental impact.\",\n          \"Independent regulator for cricket introduced by ECB\"\n        ],\n        \"semantic_type\": \"\",\n        \"description\": \"\"\n      }\n    },\n    {\n      \"column\": \"label\",\n      \"properties\": {\n        \"dtype\": \"number\",\n        \"std\": 1,\n        \"min\": 0,\n        \"max\": 3,\n        \"num_unique_values\": 4,\n        \"samples\": [\n          0,\n          3,\n          2\n        ],\n        \"semantic_type\": \"\",\n        \"description\": \"\"\n      }\n    }\n  ]\n}"
            }
          },
          "metadata": {},
          "execution_count": 36
        }
      ],
      "source": [
        "testdf = pd.read_csv('/content/test_data.csv')\n",
        "testdf.columns = ['text', 'label']\n",
        "testdf.head()"
      ]
    },
    {
      "cell_type": "code",
      "execution_count": null,
      "metadata": {
        "id": "OKHFcjBognoj"
      },
      "outputs": [],
      "source": [
        "testdf = pd.read_csv('/content/test_data.csv')\n",
        "testdf.columns = ['text', 'label']\n",
        "\n",
        "testdf['text'] = testdf['text'].apply(lambda x: filter_text(x))\n",
        "testdf['text'] = testdf['text'].apply(lambda x: ' '.join(x.split('-')))\n",
        "#testdf['text'] = testdf['text'].apply(remove_words_nums)"
      ]
    },
    {
      "cell_type": "code",
      "execution_count": null,
      "metadata": {
        "colab": {
          "base_uri": "https://localhost:8080/"
        },
        "id": "WUaQ-F4036OH",
        "outputId": "84a9bc3a-0fe3-4cf0-dfa2-d5240122346f"
      },
      "outputs": [
        {
          "output_type": "stream",
          "name": "stdout",
          "text": [
            "building graphs for training\n"
          ]
        },
        {
          "output_type": "stream",
          "name": "stderr",
          "text": [
            "100%|██████████| 120000/120000 [01:14<00:00, 1601.62it/s]\n"
          ]
        }
      ],
      "source": [
        "word_embeddings_dim = args.embedding_dim\n",
        "\n",
        "shuffle_doc_words_list = list(traindf['text'].values) + list(testdf['text'].values)\n",
        "\n",
        "word_set = set()\n",
        "\n",
        "for doc_words in shuffle_doc_words_list:\n",
        "    words = doc_words.split()\n",
        "    word_set.update(words)\n",
        "\n",
        "vocab = list(word_set)\n",
        "vocab_size = len(vocab)\n",
        "\n",
        "word_id_map = {}\n",
        "for i in range(vocab_size):\n",
        "    word_id_map[vocab[i]] = i\n",
        "\n",
        "oov = {}\n",
        "for v in vocab:\n",
        "    oov[v] = np.random.uniform(-0.1, 0.1, word_embeddings_dim)\n",
        "\n",
        "\n",
        "window_size = args.window_size\n",
        "\n",
        "print('building graphs for training')\n",
        "x_adj, x_feature = build_graph(start=0, end=len(traindf), weighted_graph = True)"
      ]
    },
    {
      "cell_type": "markdown",
      "metadata": {
        "id": "A_VQg7xaHTeJ"
      },
      "source": [
        "Make Splits and Train"
      ]
    },
    {
      "cell_type": "code",
      "execution_count": null,
      "metadata": {
        "id": "JiZALmJp36Ll"
      },
      "outputs": [],
      "source": [
        "def check_train_test_word_overlap():\n",
        "\n",
        "    \"\"\"\n",
        "    This function prints the fraction of unique words in test set that also occur in train set.\n",
        "\n",
        "    \"\"\"\n",
        "    train_unique_words = []\n",
        "\n",
        "    for text in traindf['text']:\n",
        "        train_unique_words.extend(text.split())\n",
        "\n",
        "    train_unique_words = list(set(train_unique_words))\n",
        "\n",
        "    testdf = pd.read_csv('/content/test_data.csv')\n",
        "    testdf.columns = ['company', 'text']\n",
        "\n",
        "    test_unique_words = []\n",
        "\n",
        "    for text in testdf['text']:\n",
        "        test_unique_words.extend(text.split())\n",
        "\n",
        "    test_unique_words = list(set(test_unique_words))\n",
        "\n",
        "    overlap = [x for x in test_unique_words if x in train_unique_words]\n",
        "    print('Intersection of words: ', np.round(len(overlap)/len(test_unique_words), 3))\n",
        "\n",
        "def plot_results(hist_list):\n",
        "\n",
        "    \"\"\"\n",
        "    Plots evaluation curves\n",
        "\n",
        "\n",
        "    \"\"\"\n",
        "\n",
        "\n",
        "    plt.figure(figsize = (20, 12))\n",
        "\n",
        "    for i, (metric_name, metric) in enumerate(hist_list[0].items()):\n",
        "        plt.subplot(2,2,i+1)\n",
        "        train = [x[0] for hist in hist_list for x in hist[metric_name]]\n",
        "        sns.lineplot(x = np.arange(len(metric)*args.n_folds), y = train, label = 'train')\n",
        "        val = [x[1] for hist in hist_list for x in hist[metric_name]]\n",
        "        sns.lineplot(x = np.arange(len(metric)*args.n_folds), y = val, label = 'val')\n",
        "        sns.despine(right = True, top = True)\n",
        "        plt.title(metric_name)\n",
        "\n",
        "        if i > 1:\n",
        "            plt.xlabel('Epochs')\n"
      ]
    },
    {
      "cell_type": "markdown",
      "metadata": {
        "id": "BIm0g4mgIhjI"
      },
      "source": [
        "Create a stratified 5 fold split for similar quantity of samples of each labels in all the folds."
      ]
    },
    {
      "cell_type": "code",
      "execution_count": null,
      "metadata": {
        "id": "1McTEar136IL"
      },
      "outputs": [],
      "source": [
        "skf = StratifiedKFold(n_splits = args.n_folds, shuffle=True, random_state = 42)\n",
        "traindf['fold'] = -1\n",
        "\n",
        "for idx, (_, val_idx) in enumerate(skf.split(traindf, traindf['label'])):\n",
        "    traindf.loc[val_idx, 'fold'] = idx"
      ]
    },
    {
      "cell_type": "code",
      "execution_count": null,
      "metadata": {
        "colab": {
          "base_uri": "https://localhost:8080/"
        },
        "id": "NHaTHu2Z36Ej",
        "outputId": "88d0e339-f0da-4514-9011-be60367057d4"
      },
      "outputs": [
        {
          "output_type": "stream",
          "name": "stdout",
          "text": [
            "2    0.25\n",
            "3    0.25\n",
            "1    0.25\n",
            "0    0.25\n",
            "Name: label, dtype: float64\n",
            "2    0.25\n",
            "3    0.25\n",
            "1    0.25\n",
            "0    0.25\n",
            "Name: label, dtype: float64\n",
            "2    0.25\n",
            "3    0.25\n",
            "1    0.25\n",
            "0    0.25\n",
            "Name: label, dtype: float64\n",
            "2    0.25\n",
            "3    0.25\n",
            "1    0.25\n",
            "0    0.25\n",
            "Name: label, dtype: float64\n",
            "2    0.25\n",
            "3    0.25\n",
            "1    0.25\n",
            "0    0.25\n",
            "Name: label, dtype: float64\n"
          ]
        }
      ],
      "source": [
        "for fold in range(args.n_folds):\n",
        "    print(traindf[traindf['fold']==fold]['label'].value_counts(normalize = True))"
      ]
    },
    {
      "cell_type": "markdown",
      "metadata": {
        "id": "YCWZIPD2LDvd"
      },
      "source": [
        "Create the dataset and model classes"
      ]
    },
    {
      "cell_type": "code",
      "execution_count": null,
      "metadata": {
        "id": "GkoKByAi36BZ"
      },
      "outputs": [],
      "source": [
        "class GraphDataset(DGLDataset):\n",
        "    \"\"\"\n",
        "    A dataset class\n",
        "\n",
        "    \"\"\"\n",
        "    def __init__(self, x_adj, x_feature, targets = None):\n",
        "\n",
        "        self.adj_matrix = x_adj\n",
        "        self.node_matrix = x_feature\n",
        "        self.targets = targets\n",
        "\n",
        "\n",
        "    def __len__(self):\n",
        "        return len(self.adj_matrix)\n",
        "\n",
        "    def __getitem__(self, idx):\n",
        "\n",
        "        \"\"\"\n",
        "        Returns a Graph and tensor of label\n",
        "\n",
        "        \"\"\"\n",
        "\n",
        "        scipy_adj = self.adj_matrix[idx]\n",
        "        G = dgl.from_scipy(scipy_adj)\n",
        "\n",
        "        G.ndata['feat'] = torch.stack([torch.tensor(x, dtype = torch.float) for x in self.node_matrix[idx]])\n",
        "\n",
        "\n",
        "        if self.targets is not None:\n",
        "            label = self.targets[idx]\n",
        "\n",
        "            return G, torch.tensor(label, dtype = torch.long)\n",
        "\n",
        "        return G\n",
        "\n",
        "\n",
        "import torch.nn.functional as F\n",
        "\n",
        "\n",
        "# Graph Neural Network with normal Convolutional Layers\n",
        "class Classifier(nn.Module):\n",
        "    def __init__(self, in_dim, hidden_dim, n_classes):\n",
        "        super(Classifier, self).__init__()\n",
        "        self.conv1 = GraphConv(in_dim, hidden_dim)\n",
        "        self.conv2 = GraphConv(hidden_dim, hidden_dim)\n",
        "        self.avgpooling = AvgPooling()\n",
        "        self.classify = nn.Linear(hidden_dim, n_classes)\n",
        "\n",
        "    def forward(self, g, h):\n",
        "        # Apply graph convolution and activation.\n",
        "        h = F.relu(self.conv1(g, h))\n",
        "        h = F.relu(self.conv2(g, h))\n",
        "        h = self.avgpooling(g, h)\n",
        "\n",
        "        return self.classify(h)\n",
        "\n",
        "\n",
        "\n",
        "# Graph Neural Network with Attention Layers where the node features are concatenated for attention\n",
        "class GATClassifier(nn.Module):\n",
        "    def __init__(self, in_dim, hidden_dim, num_heads, n_classes):\n",
        "        super(GATClassifier, self).__init__()\n",
        "        self.hid_dim = hidden_dim\n",
        "        self.gat1 = GATConv(in_dim, hidden_dim, num_heads)\n",
        "        self.gat2 = GATConv(hidden_dim*num_heads, hidden_dim, 1)\n",
        "        self.avgpooling = AvgPooling()\n",
        "        self.drop = nn.Dropout(p = 0.3)\n",
        "#         self.maxpooling = MaxPooling()\n",
        "        self.classify = nn.Linear(hidden_dim, n_classes)\n",
        "\n",
        "    def forward(self, g, h):\n",
        "        # Apply graph convolution and activation.\n",
        "        bs = h.shape[0]\n",
        "        h = F.relu(self.gat1(g, h))\n",
        "        h = h.reshape(bs, -1)\n",
        "        h = F.relu(self.gat2(g, h))\n",
        "        h = h.reshape(bs, -1)\n",
        "        h = self.drop(h)\n",
        "        h = self.avgpooling(g, h)\n",
        "#         hmax = self.maxpooling(g, h)\n",
        "#         h = torch.cat([havg, hmax], 1)\n",
        "\n",
        "        return self.classify(h)\n",
        "\n",
        "\n",
        "# Graph Neural Network with Attention Layers where a dot product is performed between node features\n",
        "class GATDotClassifier(nn.Module):\n",
        "    def __init__(self, in_dim, hidden_dim, num_heads, n_classes):\n",
        "        super(GATDotClassifier, self).__init__()\n",
        "        self.hid_dim = hidden_dim\n",
        "        self.gat1 = DotGatConv(in_dim, hidden_dim, num_heads)\n",
        "        self.gat2 = DotGatConv(hidden_dim*num_heads, hidden_dim, 1)\n",
        "        self.avgpooling = AvgPooling()\n",
        "        self.classify = nn.Linear(hidden_dim, n_classes)\n",
        "\n",
        "    def forward(self, g, h):\n",
        "        # Apply graph convolution and activation.\n",
        "        bs = h.shape[0]\n",
        "        h = F.relu(self.gat1(g, h))\n",
        "        h = h.reshape(bs, -1)\n",
        "        h = F.relu(self.gat2(g, h))\n",
        "        h = h.reshape(bs, -1)\n",
        "        h = self.avgpooling(g, h)\n",
        "\n",
        "        return self.classify(h)\n"
      ]
    },
    {
      "cell_type": "markdown",
      "metadata": {
        "id": "rVanzd0FP7fD"
      },
      "source": [
        "Use wandb to track different metrics."
      ]
    },
    {
      "cell_type": "code",
      "execution_count": null,
      "metadata": {
        "id": "xjcvgH0xSlYa"
      },
      "outputs": [],
      "source": [
        "import wandb"
      ]
    },
    {
      "cell_type": "code",
      "execution_count": null,
      "metadata": {
        "colab": {
          "base_uri": "https://localhost:8080/",
          "height": 216
        },
        "id": "4rep8jJ335-f",
        "outputId": "4016f362-00e9-48bf-e08d-727bd2b01481"
      },
      "outputs": [
        {
          "output_type": "display_data",
          "data": {
            "text/plain": [
              "<IPython.core.display.Javascript object>"
            ],
            "application/javascript": [
              "\n",
              "        window._wandbApiKey = new Promise((resolve, reject) => {\n",
              "            function loadScript(url) {\n",
              "            return new Promise(function(resolve, reject) {\n",
              "                let newScript = document.createElement(\"script\");\n",
              "                newScript.onerror = reject;\n",
              "                newScript.onload = resolve;\n",
              "                document.body.appendChild(newScript);\n",
              "                newScript.src = url;\n",
              "            });\n",
              "            }\n",
              "            loadScript(\"https://cdn.jsdelivr.net/npm/postmate/build/postmate.min.js\").then(() => {\n",
              "            const iframe = document.createElement('iframe')\n",
              "            iframe.style.cssText = \"width:0;height:0;border:none\"\n",
              "            document.body.appendChild(iframe)\n",
              "            const handshake = new Postmate({\n",
              "                container: iframe,\n",
              "                url: 'https://wandb.ai/authorize'\n",
              "            });\n",
              "            const timeout = setTimeout(() => reject(\"Couldn't auto authenticate\"), 5000)\n",
              "            handshake.then(function(child) {\n",
              "                child.on('authorize', data => {\n",
              "                    clearTimeout(timeout)\n",
              "                    resolve(data)\n",
              "                });\n",
              "            });\n",
              "            })\n",
              "        });\n",
              "    "
            ]
          },
          "metadata": {}
        },
        {
          "output_type": "stream",
          "name": "stderr",
          "text": [
            "\u001b[34m\u001b[1mwandb\u001b[0m: Logging into wandb.ai. (Learn how to deploy a W&B server locally: https://wandb.me/wandb-server)\n",
            "\u001b[34m\u001b[1mwandb\u001b[0m: You can find your API key in your browser here: https://wandb.ai/authorize\n",
            "wandb: Paste an API key from your profile and hit enter, or press ctrl+c to quit:"
          ]
        },
        {
          "name": "stdout",
          "output_type": "stream",
          "text": [
            " ··········\n"
          ]
        },
        {
          "output_type": "stream",
          "name": "stderr",
          "text": [
            "\u001b[34m\u001b[1mwandb\u001b[0m: Appending key for api.wandb.ai to your netrc file: /root/.netrc\n"
          ]
        },
        {
          "output_type": "display_data",
          "data": {
            "text/plain": [
              "<IPython.core.display.HTML object>"
            ],
            "text/html": [
              "Tracking run with wandb version 0.16.4"
            ]
          },
          "metadata": {}
        },
        {
          "output_type": "display_data",
          "data": {
            "text/plain": [
              "<IPython.core.display.HTML object>"
            ],
            "text/html": [
              "Run data is saved locally in <code>/content/wandb/run-20240320_085657-3kxv2u56</code>"
            ]
          },
          "metadata": {}
        },
        {
          "output_type": "display_data",
          "data": {
            "text/plain": [
              "<IPython.core.display.HTML object>"
            ],
            "text/html": [
              "Syncing run <strong><a href='https://wandb.ai/azamat-elmurodov77/gnn/runs/3kxv2u56' target=\"_blank\">solar-vortex-3</a></strong> to <a href='https://wandb.ai/azamat-elmurodov77/gnn' target=\"_blank\">Weights & Biases</a> (<a href='https://wandb.me/run' target=\"_blank\">docs</a>)<br/>"
            ]
          },
          "metadata": {}
        },
        {
          "output_type": "display_data",
          "data": {
            "text/plain": [
              "<IPython.core.display.HTML object>"
            ],
            "text/html": [
              " View project at <a href='https://wandb.ai/azamat-elmurodov77/gnn' target=\"_blank\">https://wandb.ai/azamat-elmurodov77/gnn</a>"
            ]
          },
          "metadata": {}
        },
        {
          "output_type": "display_data",
          "data": {
            "text/plain": [
              "<IPython.core.display.HTML object>"
            ],
            "text/html": [
              " View run at <a href='https://wandb.ai/azamat-elmurodov77/gnn/runs/3kxv2u56' target=\"_blank\">https://wandb.ai/azamat-elmurodov77/gnn/runs/3kxv2u56</a>"
            ]
          },
          "metadata": {}
        },
        {
          "output_type": "execute_result",
          "data": {
            "text/html": [
              "<button onClick=\"this.nextSibling.style.display='block';this.style.display='none';\">Display W&B run</button><iframe src='https://wandb.ai/azamat-elmurodov77/gnn/runs/3kxv2u56?jupyter=true' style='border:none;width:100%;height:420px;display:none;'></iframe>"
            ],
            "text/plain": [
              "<wandb.sdk.wandb_run.Run at 0x79756c6da3b0>"
            ]
          },
          "metadata": {},
          "execution_count": 44
        }
      ],
      "source": [
        "wandb.init(project = 'gnn')"
      ]
    },
    {
      "cell_type": "markdown",
      "metadata": {
        "id": "-QvmODX6R4eS"
      },
      "source": [
        "Define functions for fold training, 1 epoch training and validation"
      ]
    },
    {
      "cell_type": "code",
      "execution_count": null,
      "metadata": {
        "id": "RX2QujTQ358G"
      },
      "outputs": [],
      "source": [
        "def train_fold(args, adj_list, node_list, fold = 0):\n",
        "\n",
        "    \"\"\"\n",
        "    Returns dictionary with loss, f1, auc and mrr as the keys and list containing their epochwise scores as values.\n",
        "    This function trains and validates a model over a fold of dataset\n",
        "\n",
        "    \"\"\"\n",
        "\n",
        "    train_idx = list(traindf[traindf['fold']!=fold].index)\n",
        "    val_idx = list(traindf[traindf['fold']==fold].index)\n",
        "\n",
        "    print('Num train samples ', len(train_idx))\n",
        "    print('Num val samples ', len(val_idx))\n",
        "\n",
        "    num_classes = traindf['label'].nunique()\n",
        "\n",
        "    train = traindf[traindf['fold']!=fold].reset_index(drop = True)\n",
        "    val = traindf[traindf['fold']==fold].reset_index(drop = True)\n",
        "\n",
        "    train_adj_list, val_adj_list = [adj_list[i] for i in train_idx], [adj_list[i] for i in val_idx]\n",
        "    train_node_list, val_node_list = [node_list[i] for i in train_idx], [node_list[i] for i in val_idx]\n",
        "    train_label_list, val_label_list = train['label'].values, val['label'].values\n",
        "\n",
        "\n",
        "    traindataset = GraphDataset(train_adj_list, train_node_list, train_label_list)\n",
        "    valdataset = GraphDataset(val_adj_list, val_node_list, val_label_list)\n",
        "\n",
        "    trainloader = GraphDataLoader(traindataset, batch_size = args.batch_size, shuffle = True)\n",
        "    valloader = GraphDataLoader(valdataset, batch_size = args.batch_size, shuffle = False)\n",
        "\n",
        "    model = GATClassifier(args.embedding_dim, args.hidden_dim, args.num_heads, num_classes)\n",
        "    criterion = CrossEntropyLoss()   # weight = weights\n",
        "    optimizer = torch.optim.Adam(model.parameters(), lr = args.lr)\n",
        "    scheduler = None\n",
        "\n",
        "    best_val_mrr = 0\n",
        "\n",
        "    loss = []\n",
        "    f1 = []\n",
        "    auc = []\n",
        "    mrr = []\n",
        "\n",
        "    for idx in range(args.max_epochs):\n",
        "        print(f'Epoch {idx + 1}/{args.max_epochs}')\n",
        "\n",
        "        train_loss, train_f1, train_auc, train_mrr = train_one_epoch(trainloader, model, criterion, optimizer, scheduler, num_classes)\n",
        "        val_loss, val_f1, val_auc, val_mrr = validate(valloader, model, criterion, num_classes)\n",
        "\n",
        "        log_results(train_loss, train_f1, train_auc, train_mrr, val_loss, val_f1, val_auc, val_mrr, idx)\n",
        "\n",
        "        loss.append((train_loss, val_loss))\n",
        "        f1.append((train_f1, val_f1))\n",
        "        auc.append((train_auc, val_auc))\n",
        "        mrr.append((train_mrr, val_mrr))\n",
        "\n",
        "        if val_mrr > best_val_mrr:\n",
        "            torch.save(model.state_dict(), f'fold-{fold}.pt')\n",
        "            best_val_mrr = val_mrr\n",
        "\n",
        "    return {'loss': loss, 'f1': f1, 'auc': auc, 'mrr': mrr}\n"
      ]
    },
    {
      "cell_type": "code",
      "execution_count": null,
      "metadata": {
        "id": "5qTu9lOc354M"
      },
      "outputs": [],
      "source": [
        "def train_one_epoch(trainloader, model, criterion, optimizer, scheduler, num_classes):\n",
        "\n",
        "    \"\"\"\n",
        "    Returns training loss, f1, roc_auc and mrr scores over 1 epoch\n",
        "    This function trains model for 1 epoch\n",
        "\n",
        "\n",
        "    \"\"\"\n",
        "    train_loss = 0\n",
        "    train_f1 = 0\n",
        "    train_auc = 0\n",
        "\n",
        "    all_labels = []\n",
        "    all_logits = []\n",
        "\n",
        "    total = len(trainloader)\n",
        "    model.train()\n",
        "    for idx, (G, label) in tqdm(enumerate(trainloader), total = total):\n",
        "\n",
        "        h = G.ndata['feat'].float()\n",
        "        logit = model(G, h)\n",
        "        loss = criterion(logit, label)\n",
        "\n",
        "        optimizer.zero_grad()\n",
        "        loss.backward()\n",
        "        optimizer.step()\n",
        "\n",
        "        if scheduler:\n",
        "            scheduler.step()\n",
        "\n",
        "        label_numpy = label.detach().cpu().numpy()\n",
        "        logit_numpy = logit.softmax(-1).detach().cpu().numpy()\n",
        "\n",
        "        train_loss += loss.item()/total\n",
        "        train_f1 += sklearn.metrics.f1_score(label_numpy, logit_numpy.argmax(-1), average = 'micro')/total\n",
        "\n",
        "        all_labels.append(label_numpy)\n",
        "        all_logits.append(logit_numpy)\n",
        "\n",
        "    all_labels = np.concatenate(all_labels)\n",
        "    all_logits = np.concatenate(all_logits)\n",
        "\n",
        "    one_hot_labels= np.zeros((len(all_labels), num_classes))\n",
        "    one_hot_labels[np.arange(len(all_labels)), all_labels] = 1.0\n",
        "\n",
        "    train_auc = sklearn.metrics.roc_auc_score(all_labels, all_logits, multi_class = 'ovo', labels = np.array([int(i) for i in range(num_classes)]))\n",
        "    train_mrr = sklearn.metrics.label_ranking_average_precision_score(one_hot_labels, all_logits)\n",
        "\n",
        "    return train_loss, train_f1, train_auc, train_mrr\n",
        "\n",
        "\n",
        "def validate(valloader, model, criterion, num_classes):\n",
        "\n",
        "    \"\"\"\n",
        "    Returns validation loss, f1, roc_auc and mrr scores over 1 epoch\n",
        "\n",
        "    \"\"\"\n",
        "\n",
        "    val_loss = 0\n",
        "    val_f1 = 0\n",
        "    val_auc = 0\n",
        "\n",
        "    all_labels = []\n",
        "    all_logits = []\n",
        "\n",
        "    total = len(valloader)\n",
        "    model.eval()\n",
        "\n",
        "    with torch.no_grad():\n",
        "        for idx, (G, label) in tqdm(enumerate(valloader), total = total):\n",
        "\n",
        "            h = G.ndata['feat'].float()\n",
        "            logit = model(G, h)\n",
        "            loss = criterion(logit, label)\n",
        "\n",
        "            label_numpy = label.detach().cpu().numpy()\n",
        "            logit_numpy = logit.softmax(-1).detach().cpu().numpy()\n",
        "\n",
        "            val_loss += loss.item()/total\n",
        "            val_f1 += sklearn.metrics.f1_score(label_numpy, logit_numpy.argmax(-1), average = 'micro')/total\n",
        "\n",
        "\n",
        "            all_labels.append(label_numpy)\n",
        "            all_logits.append(logit_numpy)\n",
        "\n",
        "        all_labels = np.concatenate(all_labels)\n",
        "        all_logits = np.concatenate(all_logits)\n",
        "\n",
        "        print((idx2label[lab], idx2label[log.argmax(-1)]) for (lab, log) in zip(all_labels, all_logits))\n",
        "\n",
        "        one_hot_labels= np.zeros((len(all_labels), num_classes))\n",
        "        one_hot_labels[np.arange(len(all_labels)), all_labels] = 1.0\n",
        "\n",
        "        val_auc = sklearn.metrics.roc_auc_score(all_labels, all_logits, multi_class = 'ovo', labels = np.array([int(i) for i in range(num_classes)]))\n",
        "        val_mrr = sklearn.metrics.label_ranking_average_precision_score(one_hot_labels, all_logits)\n",
        "\n",
        "\n",
        "    return val_loss, val_f1, val_auc, val_mrr\n",
        "\n",
        "\n",
        "def log_results(train_loss, train_f1, train_auc, train_mrr, val_loss, val_f1, val_auc, val_mrr, idx):\n",
        "\n",
        "    \"\"\"\n",
        "    This function logs all the metric values to wandb project\n",
        "\n",
        "    \"\"\"\n",
        "\n",
        "    metric_dict = {'train_loss': train_loss, 'train_f1': train_f1, 'train_auc': train_auc, 'train_mrr': train_mrr,\n",
        "                  'val_loss': val_loss, 'val_f1': val_f1, 'val_auc': val_auc, 'val_mrr': val_mrr, 'epoch': idx}\n",
        "\n",
        "    wandb.log(metric_dict)"
      ]
    },
    {
      "cell_type": "markdown",
      "metadata": {
        "id": "RpvpMwdCSvqg"
      },
      "source": [
        "Train the model on all 5 folds"
      ]
    },
    {
      "cell_type": "code",
      "execution_count": null,
      "metadata": {
        "colab": {
          "base_uri": "https://localhost:8080/"
        },
        "id": "Yuo9Ylpd351Q",
        "outputId": "98cf4f0e-0e4e-418f-9745-117382001788"
      },
      "outputs": [
        {
          "metadata": {
            "tags": null
          },
          "name": "stdout",
          "output_type": "stream",
          "text": [
            "Num train samples  96000\n",
            "Num val samples  24000\n",
            "Epoch 1/20\n"
          ]
        },
        {
          "metadata": {
            "tags": null
          },
          "name": "stderr",
          "output_type": "stream",
          "text": [
            "100%|██████████| 1500/1500 [02:09<00:00, 11.63it/s]\n",
            "100%|██████████| 375/375 [00:24<00:00, 15.46it/s]\n"
          ]
        },
        {
          "metadata": {
            "tags": null
          },
          "name": "stdout",
          "output_type": "stream",
          "text": [
            "<generator object validate.<locals>.<genexpr> at 0x79753007d5b0>\n",
            "Epoch 2/20\n"
          ]
        },
        {
          "metadata": {
            "tags": null
          },
          "name": "stderr",
          "output_type": "stream",
          "text": [
            "100%|██████████| 1500/1500 [02:15<00:00, 11.04it/s]\n",
            "100%|██████████| 375/375 [00:24<00:00, 15.42it/s]\n"
          ]
        },
        {
          "metadata": {
            "tags": null
          },
          "name": "stdout",
          "output_type": "stream",
          "text": [
            "<generator object validate.<locals>.<genexpr> at 0x79753007d5b0>\n",
            "Epoch 3/20\n"
          ]
        },
        {
          "metadata": {
            "tags": null
          },
          "name": "stderr",
          "output_type": "stream",
          "text": [
            "100%|██████████| 1500/1500 [02:19<00:00, 10.75it/s]\n",
            "100%|██████████| 375/375 [00:23<00:00, 16.15it/s]\n"
          ]
        },
        {
          "metadata": {
            "tags": null
          },
          "name": "stdout",
          "output_type": "stream",
          "text": [
            "<generator object validate.<locals>.<genexpr> at 0x7975304c06d0>\n",
            "Epoch 4/20\n"
          ]
        },
        {
          "metadata": {
            "tags": null
          },
          "name": "stderr",
          "output_type": "stream",
          "text": [
            "100%|██████████| 1500/1500 [02:12<00:00, 11.32it/s]\n",
            "100%|██████████| 375/375 [00:23<00:00, 16.00it/s]\n"
          ]
        },
        {
          "metadata": {
            "tags": null
          },
          "name": "stdout",
          "output_type": "stream",
          "text": [
            "<generator object validate.<locals>.<genexpr> at 0x7975304c06d0>\n",
            "Epoch 5/20\n"
          ]
        },
        {
          "metadata": {
            "tags": null
          },
          "name": "stderr",
          "output_type": "stream",
          "text": [
            "100%|██████████| 1500/1500 [02:14<00:00, 11.16it/s]\n",
            "100%|██████████| 375/375 [00:21<00:00, 17.33it/s]\n"
          ]
        },
        {
          "metadata": {
            "tags": null
          },
          "name": "stdout",
          "output_type": "stream",
          "text": [
            "<generator object validate.<locals>.<genexpr> at 0x79756d80c040>\n",
            "Epoch 6/20\n"
          ]
        },
        {
          "metadata": {
            "tags": null
          },
          "name": "stderr",
          "output_type": "stream",
          "text": [
            "100%|██████████| 1500/1500 [02:13<00:00, 11.21it/s]\n",
            "100%|██████████| 375/375 [00:22<00:00, 16.56it/s]\n"
          ]
        },
        {
          "metadata": {
            "tags": null
          },
          "name": "stdout",
          "output_type": "stream",
          "text": [
            "<generator object validate.<locals>.<genexpr> at 0x7975304c06d0>\n",
            "Epoch 7/20\n"
          ]
        },
        {
          "metadata": {
            "tags": null
          },
          "name": "stderr",
          "output_type": "stream",
          "text": [
            "100%|██████████| 1500/1500 [02:10<00:00, 11.47it/s]\n",
            "100%|██████████| 375/375 [00:23<00:00, 15.80it/s]\n"
          ]
        },
        {
          "metadata": {
            "tags": null
          },
          "name": "stdout",
          "output_type": "stream",
          "text": [
            "<generator object validate.<locals>.<genexpr> at 0x79753007d460>\n",
            "Epoch 8/20\n"
          ]
        },
        {
          "metadata": {
            "tags": null
          },
          "name": "stderr",
          "output_type": "stream",
          "text": [
            "100%|██████████| 1500/1500 [02:10<00:00, 11.48it/s]\n",
            "100%|██████████| 375/375 [00:22<00:00, 16.51it/s]\n"
          ]
        },
        {
          "metadata": {
            "tags": null
          },
          "name": "stdout",
          "output_type": "stream",
          "text": [
            "<generator object validate.<locals>.<genexpr> at 0x79753007d4d0>\n",
            "Epoch 9/20\n"
          ]
        },
        {
          "metadata": {
            "tags": null
          },
          "name": "stderr",
          "output_type": "stream",
          "text": [
            "100%|██████████| 1500/1500 [02:10<00:00, 11.52it/s]\n",
            "100%|██████████| 375/375 [00:24<00:00, 15.26it/s]\n"
          ]
        },
        {
          "metadata": {
            "tags": null
          },
          "name": "stdout",
          "output_type": "stream",
          "text": [
            "<generator object validate.<locals>.<genexpr> at 0x79753007e730>\n",
            "Epoch 10/20\n"
          ]
        },
        {
          "metadata": {
            "tags": null
          },
          "name": "stderr",
          "output_type": "stream",
          "text": [
            "100%|██████████| 1500/1500 [02:11<00:00, 11.45it/s]\n",
            "100%|██████████| 375/375 [00:24<00:00, 15.51it/s]\n"
          ]
        },
        {
          "metadata": {
            "tags": null
          },
          "name": "stdout",
          "output_type": "stream",
          "text": [
            "<generator object validate.<locals>.<genexpr> at 0x79756d80c040>\n",
            "Epoch 11/20\n"
          ]
        },
        {
          "metadata": {
            "tags": null
          },
          "name": "stderr",
          "output_type": "stream",
          "text": [
            "100%|██████████| 1500/1500 [02:09<00:00, 11.55it/s]\n",
            "100%|██████████| 375/375 [00:24<00:00, 15.48it/s]\n"
          ]
        },
        {
          "metadata": {
            "tags": null
          },
          "name": "stdout",
          "output_type": "stream",
          "text": [
            "<generator object validate.<locals>.<genexpr> at 0x79756d80c040>\n",
            "Epoch 12/20\n"
          ]
        },
        {
          "metadata": {
            "tags": null
          },
          "name": "stderr",
          "output_type": "stream",
          "text": [
            "100%|██████████| 1500/1500 [02:11<00:00, 11.45it/s]\n",
            "100%|██████████| 375/375 [00:23<00:00, 16.18it/s]\n"
          ]
        },
        {
          "metadata": {
            "tags": null
          },
          "name": "stdout",
          "output_type": "stream",
          "text": [
            "<generator object validate.<locals>.<genexpr> at 0x79756d80c040>\n",
            "Epoch 13/20\n"
          ]
        },
        {
          "metadata": {
            "tags": null
          },
          "name": "stderr",
          "output_type": "stream",
          "text": [
            "100%|██████████| 1500/1500 [02:14<00:00, 11.18it/s]\n",
            "100%|██████████| 375/375 [00:21<00:00, 17.06it/s]\n"
          ]
        },
        {
          "metadata": {
            "tags": null
          },
          "name": "stdout",
          "output_type": "stream",
          "text": [
            "<generator object validate.<locals>.<genexpr> at 0x79753007e730>\n",
            "Epoch 14/20\n"
          ]
        },
        {
          "metadata": {
            "tags": null
          },
          "name": "stderr",
          "output_type": "stream",
          "text": [
            "100%|██████████| 1500/1500 [02:11<00:00, 11.40it/s]\n",
            "100%|██████████| 375/375 [00:23<00:00, 15.64it/s]\n"
          ]
        },
        {
          "metadata": {
            "tags": null
          },
          "name": "stdout",
          "output_type": "stream",
          "text": [
            "<generator object validate.<locals>.<genexpr> at 0x79756d80c040>\n",
            "Epoch 15/20\n"
          ]
        },
        {
          "metadata": {
            "tags": null
          },
          "name": "stderr",
          "output_type": "stream",
          "text": [
            "100%|██████████| 1500/1500 [02:11<00:00, 11.37it/s]\n",
            "100%|██████████| 375/375 [00:23<00:00, 16.00it/s]\n"
          ]
        },
        {
          "metadata": {
            "tags": null
          },
          "name": "stdout",
          "output_type": "stream",
          "text": [
            "<generator object validate.<locals>.<genexpr> at 0x79753007d770>\n",
            "Epoch 16/20\n"
          ]
        },
        {
          "metadata": {
            "tags": null
          },
          "name": "stderr",
          "output_type": "stream",
          "text": [
            "100%|██████████| 1500/1500 [02:12<00:00, 11.34it/s]\n",
            "100%|██████████| 375/375 [00:22<00:00, 16.35it/s]\n"
          ]
        },
        {
          "metadata": {
            "tags": null
          },
          "name": "stdout",
          "output_type": "stream",
          "text": [
            "<generator object validate.<locals>.<genexpr> at 0x79753007e730>\n",
            "Epoch 17/20\n"
          ]
        },
        {
          "metadata": {
            "tags": null
          },
          "name": "stderr",
          "output_type": "stream",
          "text": [
            "100%|██████████| 1500/1500 [02:13<00:00, 11.22it/s]\n",
            "100%|██████████| 375/375 [00:23<00:00, 15.96it/s]\n"
          ]
        },
        {
          "metadata": {
            "tags": null
          },
          "name": "stdout",
          "output_type": "stream",
          "text": [
            "<generator object validate.<locals>.<genexpr> at 0x79753007e5e0>\n",
            "Epoch 18/20\n"
          ]
        },
        {
          "metadata": {
            "tags": null
          },
          "name": "stderr",
          "output_type": "stream",
          "text": [
            "100%|██████████| 1500/1500 [02:14<00:00, 11.18it/s]\n",
            "100%|██████████| 375/375 [00:23<00:00, 15.78it/s]\n"
          ]
        },
        {
          "metadata": {
            "tags": null
          },
          "name": "stdout",
          "output_type": "stream",
          "text": [
            "<generator object validate.<locals>.<genexpr> at 0x79756d80c040>\n",
            "Epoch 19/20\n"
          ]
        },
        {
          "metadata": {
            "tags": null
          },
          "name": "stderr",
          "output_type": "stream",
          "text": [
            "100%|██████████| 1500/1500 [02:15<00:00, 11.08it/s]\n",
            "100%|██████████| 375/375 [00:21<00:00, 17.06it/s]\n"
          ]
        },
        {
          "metadata": {
            "tags": null
          },
          "name": "stdout",
          "output_type": "stream",
          "text": [
            "<generator object validate.<locals>.<genexpr> at 0x79756d80c040>\n",
            "Epoch 20/20\n"
          ]
        },
        {
          "metadata": {
            "tags": null
          },
          "name": "stderr",
          "output_type": "stream",
          "text": [
            "100%|██████████| 1500/1500 [02:11<00:00, 11.40it/s]\n",
            "100%|██████████| 375/375 [00:25<00:00, 14.97it/s]\n"
          ]
        },
        {
          "metadata": {
            "tags": null
          },
          "name": "stdout",
          "output_type": "stream",
          "text": [
            "<generator object validate.<locals>.<genexpr> at 0x79756d80c040>\n",
            "Num train samples  96000\n",
            "Num val samples  24000\n",
            "Epoch 1/20\n"
          ]
        },
        {
          "metadata": {
            "tags": null
          },
          "name": "stderr",
          "output_type": "stream",
          "text": [
            "100%|██████████| 1500/1500 [02:10<00:00, 11.49it/s]\n",
            "100%|██████████| 375/375 [00:23<00:00, 15.64it/s]\n"
          ]
        },
        {
          "metadata": {
            "tags": null
          },
          "name": "stdout",
          "output_type": "stream",
          "text": [
            "<generator object validate.<locals>.<genexpr> at 0x79756d80c660>\n",
            "Epoch 2/20\n"
          ]
        },
        {
          "metadata": {
            "tags": null
          },
          "name": "stderr",
          "output_type": "stream",
          "text": [
            "100%|██████████| 1500/1500 [02:10<00:00, 11.51it/s]\n",
            "100%|██████████| 375/375 [00:21<00:00, 17.05it/s]\n"
          ]
        },
        {
          "metadata": {
            "tags": null
          },
          "name": "stdout",
          "output_type": "stream",
          "text": [
            "<generator object validate.<locals>.<genexpr> at 0x7975304c06d0>\n",
            "Epoch 3/20\n"
          ]
        },
        {
          "metadata": {
            "tags": null
          },
          "name": "stderr",
          "output_type": "stream",
          "text": [
            "100%|██████████| 1500/1500 [02:11<00:00, 11.38it/s]\n",
            "100%|██████████| 375/375 [00:24<00:00, 15.56it/s]\n"
          ]
        },
        {
          "metadata": {
            "tags": null
          },
          "name": "stdout",
          "output_type": "stream",
          "text": [
            "<generator object validate.<locals>.<genexpr> at 0x79756d80c660>\n",
            "Epoch 4/20\n"
          ]
        },
        {
          "metadata": {
            "tags": null
          },
          "name": "stderr",
          "output_type": "stream",
          "text": [
            "100%|██████████| 1500/1500 [02:10<00:00, 11.47it/s]\n",
            "100%|██████████| 375/375 [00:21<00:00, 17.19it/s]\n"
          ]
        },
        {
          "metadata": {
            "tags": null
          },
          "name": "stdout",
          "output_type": "stream",
          "text": [
            "<generator object validate.<locals>.<genexpr> at 0x79756d80c660>\n",
            "Epoch 5/20\n"
          ]
        },
        {
          "metadata": {
            "tags": null
          },
          "name": "stderr",
          "output_type": "stream",
          "text": [
            "100%|██████████| 1500/1500 [02:12<00:00, 11.35it/s]\n",
            "100%|██████████| 375/375 [00:23<00:00, 16.09it/s]\n"
          ]
        },
        {
          "metadata": {
            "tags": null
          },
          "name": "stdout",
          "output_type": "stream",
          "text": [
            "<generator object validate.<locals>.<genexpr> at 0x7975304c06d0>\n",
            "Epoch 6/20\n"
          ]
        },
        {
          "metadata": {
            "tags": null
          },
          "name": "stderr",
          "output_type": "stream",
          "text": [
            "100%|██████████| 1500/1500 [02:12<00:00, 11.29it/s]\n",
            "100%|██████████| 375/375 [00:22<00:00, 16.32it/s]\n"
          ]
        },
        {
          "metadata": {
            "tags": null
          },
          "name": "stdout",
          "output_type": "stream",
          "text": [
            "<generator object validate.<locals>.<genexpr> at 0x79756d80c660>\n",
            "Epoch 7/20\n"
          ]
        },
        {
          "metadata": {
            "tags": null
          },
          "name": "stderr",
          "output_type": "stream",
          "text": [
            "100%|██████████| 1500/1500 [02:10<00:00, 11.45it/s]\n",
            "100%|██████████| 375/375 [00:33<00:00, 11.35it/s]\n"
          ]
        },
        {
          "metadata": {
            "tags": null
          },
          "name": "stdout",
          "output_type": "stream",
          "text": [
            "<generator object validate.<locals>.<genexpr> at 0x7975304c06d0>\n",
            "Epoch 8/20\n"
          ]
        },
        {
          "metadata": {
            "tags": null
          },
          "name": "stderr",
          "output_type": "stream",
          "text": [
            "100%|██████████| 1500/1500 [02:13<00:00, 11.28it/s]\n",
            "100%|██████████| 375/375 [00:22<00:00, 16.45it/s]\n"
          ]
        },
        {
          "metadata": {
            "tags": null
          },
          "name": "stdout",
          "output_type": "stream",
          "text": [
            "<generator object validate.<locals>.<genexpr> at 0x7975304c06d0>\n",
            "Epoch 9/20\n"
          ]
        },
        {
          "metadata": {
            "tags": null
          },
          "name": "stderr",
          "output_type": "stream",
          "text": [
            "100%|██████████| 1500/1500 [02:10<00:00, 11.49it/s]\n",
            "100%|██████████| 375/375 [00:24<00:00, 15.61it/s]\n"
          ]
        },
        {
          "metadata": {
            "tags": null
          },
          "name": "stdout",
          "output_type": "stream",
          "text": [
            "<generator object validate.<locals>.<genexpr> at 0x79753007d5b0>\n",
            "Epoch 10/20\n"
          ]
        },
        {
          "metadata": {
            "tags": null
          },
          "name": "stderr",
          "output_type": "stream",
          "text": [
            "100%|██████████| 1500/1500 [02:12<00:00, 11.29it/s]\n",
            "100%|██████████| 375/375 [00:23<00:00, 16.28it/s]\n"
          ]
        },
        {
          "metadata": {
            "tags": null
          },
          "name": "stdout",
          "output_type": "stream",
          "text": [
            "<generator object validate.<locals>.<genexpr> at 0x79753007e500>\n",
            "Epoch 11/20\n"
          ]
        },
        {
          "metadata": {
            "tags": null
          },
          "name": "stderr",
          "output_type": "stream",
          "text": [
            "100%|██████████| 1500/1500 [02:09<00:00, 11.63it/s]\n",
            "100%|██████████| 375/375 [00:21<00:00, 17.57it/s]\n"
          ]
        },
        {
          "metadata": {
            "tags": null
          },
          "name": "stdout",
          "output_type": "stream",
          "text": [
            "<generator object validate.<locals>.<genexpr> at 0x79756d80c660>\n",
            "Epoch 12/20\n"
          ]
        },
        {
          "metadata": {
            "tags": null
          },
          "name": "stderr",
          "output_type": "stream",
          "text": [
            "100%|██████████| 1500/1500 [02:10<00:00, 11.48it/s]\n",
            "100%|██████████| 375/375 [00:22<00:00, 16.50it/s]\n"
          ]
        },
        {
          "metadata": {
            "tags": null
          },
          "name": "stdout",
          "output_type": "stream",
          "text": [
            "<generator object validate.<locals>.<genexpr> at 0x79753007eab0>\n",
            "Epoch 13/20\n"
          ]
        },
        {
          "metadata": {
            "tags": null
          },
          "name": "stderr",
          "output_type": "stream",
          "text": [
            "100%|██████████| 1500/1500 [02:09<00:00, 11.56it/s]\n",
            "100%|██████████| 375/375 [00:24<00:00, 15.43it/s]\n"
          ]
        },
        {
          "metadata": {
            "tags": null
          },
          "name": "stdout",
          "output_type": "stream",
          "text": [
            "<generator object validate.<locals>.<genexpr> at 0x79753007e730>\n",
            "Epoch 14/20\n"
          ]
        },
        {
          "metadata": {
            "tags": null
          },
          "name": "stderr",
          "output_type": "stream",
          "text": [
            "100%|██████████| 1500/1500 [02:11<00:00, 11.43it/s]\n",
            "100%|██████████| 375/375 [00:22<00:00, 16.31it/s]\n"
          ]
        },
        {
          "metadata": {
            "tags": null
          },
          "name": "stdout",
          "output_type": "stream",
          "text": [
            "<generator object validate.<locals>.<genexpr> at 0x79756d80c660>\n",
            "Epoch 15/20\n"
          ]
        },
        {
          "metadata": {
            "tags": null
          },
          "name": "stderr",
          "output_type": "stream",
          "text": [
            "100%|██████████| 1500/1500 [02:11<00:00, 11.38it/s]\n",
            "100%|██████████| 375/375 [00:21<00:00, 17.28it/s]\n"
          ]
        },
        {
          "metadata": {
            "tags": null
          },
          "name": "stdout",
          "output_type": "stream",
          "text": [
            "<generator object validate.<locals>.<genexpr> at 0x79756d80c660>\n",
            "Epoch 16/20\n"
          ]
        },
        {
          "metadata": {
            "tags": null
          },
          "name": "stderr",
          "output_type": "stream",
          "text": [
            "100%|██████████| 1500/1500 [02:10<00:00, 11.53it/s]\n",
            "100%|██████████| 375/375 [00:23<00:00, 16.13it/s]\n"
          ]
        },
        {
          "metadata": {
            "tags": null
          },
          "name": "stdout",
          "output_type": "stream",
          "text": [
            "<generator object validate.<locals>.<genexpr> at 0x7975304c06d0>\n",
            "Epoch 17/20\n"
          ]
        },
        {
          "metadata": {
            "tags": null
          },
          "name": "stderr",
          "output_type": "stream",
          "text": [
            "100%|██████████| 1500/1500 [02:10<00:00, 11.49it/s]\n",
            "100%|██████████| 375/375 [00:21<00:00, 17.33it/s]\n"
          ]
        },
        {
          "metadata": {
            "tags": null
          },
          "name": "stdout",
          "output_type": "stream",
          "text": [
            "<generator object validate.<locals>.<genexpr> at 0x79756d80c660>\n",
            "Epoch 18/20\n"
          ]
        },
        {
          "metadata": {
            "tags": null
          },
          "name": "stderr",
          "output_type": "stream",
          "text": [
            "100%|██████████| 1500/1500 [02:07<00:00, 11.75it/s]\n",
            "100%|██████████| 375/375 [00:23<00:00, 15.82it/s]\n"
          ]
        },
        {
          "metadata": {
            "tags": null
          },
          "name": "stdout",
          "output_type": "stream",
          "text": [
            "<generator object validate.<locals>.<genexpr> at 0x79756d80c660>\n",
            "Epoch 19/20\n"
          ]
        },
        {
          "metadata": {
            "tags": null
          },
          "name": "stderr",
          "output_type": "stream",
          "text": [
            "100%|██████████| 1500/1500 [02:07<00:00, 11.75it/s]\n",
            "100%|██████████| 375/375 [00:22<00:00, 16.85it/s]\n"
          ]
        },
        {
          "metadata": {
            "tags": null
          },
          "name": "stdout",
          "output_type": "stream",
          "text": [
            "<generator object validate.<locals>.<genexpr> at 0x7975304c06d0>\n",
            "Epoch 20/20\n"
          ]
        },
        {
          "metadata": {
            "tags": null
          },
          "name": "stderr",
          "output_type": "stream",
          "text": [
            "100%|██████████| 1500/1500 [02:09<00:00, 11.56it/s]\n",
            "100%|██████████| 375/375 [00:22<00:00, 16.43it/s]\n"
          ]
        },
        {
          "metadata": {
            "tags": null
          },
          "name": "stdout",
          "output_type": "stream",
          "text": [
            "<generator object validate.<locals>.<genexpr> at 0x7975304c06d0>\n",
            "Num train samples  96000\n",
            "Num val samples  24000\n",
            "Epoch 1/20\n"
          ]
        },
        {
          "metadata": {
            "tags": null
          },
          "name": "stderr",
          "output_type": "stream",
          "text": [
            "100%|██████████| 1500/1500 [02:07<00:00, 11.75it/s]\n",
            "100%|██████████| 375/375 [00:23<00:00, 16.01it/s]\n"
          ]
        },
        {
          "metadata": {
            "tags": null
          },
          "name": "stdout",
          "output_type": "stream",
          "text": [
            "<generator object validate.<locals>.<genexpr> at 0x79756d80c660>\n",
            "Epoch 2/20\n"
          ]
        },
        {
          "metadata": {
            "tags": null
          },
          "name": "stderr",
          "output_type": "stream",
          "text": [
            "100%|██████████| 1500/1500 [02:09<00:00, 11.57it/s]\n",
            "100%|██████████| 375/375 [00:22<00:00, 16.90it/s]\n"
          ]
        },
        {
          "metadata": {
            "tags": null
          },
          "name": "stdout",
          "output_type": "stream",
          "text": [
            "<generator object validate.<locals>.<genexpr> at 0x79756d80c660>\n",
            "Epoch 3/20\n"
          ]
        },
        {
          "metadata": {
            "tags": null
          },
          "name": "stderr",
          "output_type": "stream",
          "text": [
            "100%|██████████| 1500/1500 [02:09<00:00, 11.57it/s]\n",
            "100%|██████████| 375/375 [00:23<00:00, 15.68it/s]\n"
          ]
        },
        {
          "metadata": {
            "tags": null
          },
          "name": "stdout",
          "output_type": "stream",
          "text": [
            "<generator object validate.<locals>.<genexpr> at 0x79756d80c040>\n",
            "Epoch 4/20\n"
          ]
        },
        {
          "metadata": {
            "tags": null
          },
          "name": "stderr",
          "output_type": "stream",
          "text": [
            "100%|██████████| 1500/1500 [02:10<00:00, 11.47it/s]\n",
            "100%|██████████| 375/375 [00:22<00:00, 17.00it/s]\n"
          ]
        },
        {
          "metadata": {
            "tags": null
          },
          "name": "stdout",
          "output_type": "stream",
          "text": [
            "<generator object validate.<locals>.<genexpr> at 0x79756d80c040>\n",
            "Epoch 5/20\n"
          ]
        },
        {
          "metadata": {
            "tags": null
          },
          "name": "stderr",
          "output_type": "stream",
          "text": [
            "100%|██████████| 1500/1500 [02:07<00:00, 11.80it/s]\n",
            "100%|██████████| 375/375 [00:23<00:00, 15.76it/s]\n"
          ]
        },
        {
          "metadata": {
            "tags": null
          },
          "name": "stdout",
          "output_type": "stream",
          "text": [
            "<generator object validate.<locals>.<genexpr> at 0x79756d80c040>\n",
            "Epoch 6/20\n"
          ]
        },
        {
          "metadata": {
            "tags": null
          },
          "name": "stderr",
          "output_type": "stream",
          "text": [
            "100%|██████████| 1500/1500 [02:08<00:00, 11.72it/s]\n",
            "100%|██████████| 375/375 [00:22<00:00, 16.47it/s]\n"
          ]
        },
        {
          "metadata": {
            "tags": null
          },
          "name": "stdout",
          "output_type": "stream",
          "text": [
            "<generator object validate.<locals>.<genexpr> at 0x79756d80c040>\n",
            "Epoch 7/20\n"
          ]
        },
        {
          "metadata": {
            "tags": null
          },
          "name": "stderr",
          "output_type": "stream",
          "text": [
            "100%|██████████| 1500/1500 [02:08<00:00, 11.72it/s]\n",
            "100%|██████████| 375/375 [00:23<00:00, 16.07it/s]\n"
          ]
        },
        {
          "metadata": {
            "tags": null
          },
          "name": "stdout",
          "output_type": "stream",
          "text": [
            "<generator object validate.<locals>.<genexpr> at 0x79756d80c040>\n",
            "Epoch 8/20\n"
          ]
        },
        {
          "metadata": {
            "tags": null
          },
          "name": "stderr",
          "output_type": "stream",
          "text": [
            "100%|██████████| 1500/1500 [02:09<00:00, 11.60it/s]\n",
            "100%|██████████| 375/375 [00:22<00:00, 16.43it/s]\n"
          ]
        },
        {
          "metadata": {
            "tags": null
          },
          "name": "stdout",
          "output_type": "stream",
          "text": [
            "<generator object validate.<locals>.<genexpr> at 0x79756d80c660>\n",
            "Epoch 9/20\n"
          ]
        },
        {
          "metadata": {
            "tags": null
          },
          "name": "stderr",
          "output_type": "stream",
          "text": [
            "100%|██████████| 1500/1500 [02:10<00:00, 11.54it/s]\n",
            "100%|██████████| 375/375 [00:21<00:00, 17.31it/s]\n"
          ]
        },
        {
          "metadata": {
            "tags": null
          },
          "name": "stdout",
          "output_type": "stream",
          "text": [
            "<generator object validate.<locals>.<genexpr> at 0x79753007e730>\n",
            "Epoch 10/20\n"
          ]
        },
        {
          "metadata": {
            "tags": null
          },
          "name": "stderr",
          "output_type": "stream",
          "text": [
            "100%|██████████| 1500/1500 [02:09<00:00, 11.62it/s]\n",
            "100%|██████████| 375/375 [00:22<00:00, 16.43it/s]\n"
          ]
        },
        {
          "metadata": {
            "tags": null
          },
          "name": "stdout",
          "output_type": "stream",
          "text": [
            "<generator object validate.<locals>.<genexpr> at 0x79756d80c5f0>\n",
            "Epoch 11/20\n"
          ]
        },
        {
          "metadata": {
            "tags": null
          },
          "name": "stderr",
          "output_type": "stream",
          "text": [
            "100%|██████████| 1500/1500 [02:09<00:00, 11.57it/s]\n",
            "100%|██████████| 375/375 [00:23<00:00, 15.76it/s]\n"
          ]
        },
        {
          "metadata": {
            "tags": null
          },
          "name": "stdout",
          "output_type": "stream",
          "text": [
            "<generator object validate.<locals>.<genexpr> at 0x79756d80c5f0>\n",
            "Epoch 12/20\n"
          ]
        },
        {
          "metadata": {
            "tags": null
          },
          "name": "stderr",
          "output_type": "stream",
          "text": [
            "100%|██████████| 1500/1500 [02:08<00:00, 11.70it/s]\n",
            "100%|██████████| 375/375 [00:24<00:00, 15.58it/s]\n"
          ]
        },
        {
          "metadata": {
            "tags": null
          },
          "name": "stdout",
          "output_type": "stream",
          "text": [
            "<generator object validate.<locals>.<genexpr> at 0x79756d80c660>\n",
            "Epoch 13/20\n"
          ]
        },
        {
          "metadata": {
            "tags": null
          },
          "name": "stderr",
          "output_type": "stream",
          "text": [
            "100%|██████████| 1500/1500 [02:11<00:00, 11.45it/s]\n",
            "100%|██████████| 375/375 [00:21<00:00, 17.21it/s]\n"
          ]
        },
        {
          "metadata": {
            "tags": null
          },
          "name": "stdout",
          "output_type": "stream",
          "text": [
            "<generator object validate.<locals>.<genexpr> at 0x79756d80c5f0>\n",
            "Epoch 14/20\n"
          ]
        },
        {
          "metadata": {
            "tags": null
          },
          "name": "stderr",
          "output_type": "stream",
          "text": [
            "100%|██████████| 1500/1500 [02:08<00:00, 11.65it/s]\n",
            "100%|██████████| 375/375 [00:22<00:00, 16.32it/s]\n"
          ]
        },
        {
          "metadata": {
            "tags": null
          },
          "name": "stdout",
          "output_type": "stream",
          "text": [
            "<generator object validate.<locals>.<genexpr> at 0x79756d80c040>\n",
            "Epoch 15/20\n"
          ]
        },
        {
          "metadata": {
            "tags": null
          },
          "name": "stderr",
          "output_type": "stream",
          "text": [
            "100%|██████████| 1500/1500 [02:11<00:00, 11.45it/s]\n",
            "100%|██████████| 375/375 [00:21<00:00, 17.29it/s]\n"
          ]
        },
        {
          "metadata": {
            "tags": null
          },
          "name": "stdout",
          "output_type": "stream",
          "text": [
            "<generator object validate.<locals>.<genexpr> at 0x79756d80c5f0>\n",
            "Epoch 16/20\n"
          ]
        },
        {
          "metadata": {
            "tags": null
          },
          "name": "stderr",
          "output_type": "stream",
          "text": [
            "100%|██████████| 1500/1500 [02:08<00:00, 11.67it/s]\n",
            "100%|██████████| 375/375 [00:24<00:00, 15.54it/s]\n"
          ]
        },
        {
          "metadata": {
            "tags": null
          },
          "name": "stdout",
          "output_type": "stream",
          "text": [
            "<generator object validate.<locals>.<genexpr> at 0x79756d80c660>\n",
            "Epoch 17/20\n"
          ]
        },
        {
          "output_type": "stream",
          "name": "stderr",
          "text": [
            "100%|██████████| 1500/1500 [02:11<00:00, 11.38it/s]\n",
            "100%|██████████| 375/375 [00:22<00:00, 16.34it/s]\n"
          ]
        },
        {
          "output_type": "stream",
          "name": "stdout",
          "text": [
            "<generator object validate.<locals>.<genexpr> at 0x79756d80c5f0>\n",
            "Epoch 18/20\n"
          ]
        },
        {
          "output_type": "stream",
          "name": "stderr",
          "text": [
            "100%|██████████| 1500/1500 [02:07<00:00, 11.80it/s]\n",
            "100%|██████████| 375/375 [00:22<00:00, 16.61it/s]\n"
          ]
        },
        {
          "output_type": "stream",
          "name": "stdout",
          "text": [
            "<generator object validate.<locals>.<genexpr> at 0x79756d80c5f0>\n",
            "Epoch 19/20\n"
          ]
        },
        {
          "output_type": "stream",
          "name": "stderr",
          "text": [
            "100%|██████████| 1500/1500 [02:10<00:00, 11.52it/s]\n",
            "100%|██████████| 375/375 [00:22<00:00, 17.02it/s]\n"
          ]
        },
        {
          "output_type": "stream",
          "name": "stdout",
          "text": [
            "<generator object validate.<locals>.<genexpr> at 0x79756d80c660>\n",
            "Epoch 20/20\n"
          ]
        },
        {
          "output_type": "stream",
          "name": "stderr",
          "text": [
            "100%|██████████| 1500/1500 [02:06<00:00, 11.88it/s]\n",
            "100%|██████████| 375/375 [00:23<00:00, 15.77it/s]\n"
          ]
        },
        {
          "output_type": "stream",
          "name": "stdout",
          "text": [
            "<generator object validate.<locals>.<genexpr> at 0x79756d80c660>\n",
            "Num train samples  96000\n",
            "Num val samples  24000\n",
            "Epoch 1/20\n"
          ]
        },
        {
          "output_type": "stream",
          "name": "stderr",
          "text": [
            "100%|██████████| 1500/1500 [02:08<00:00, 11.63it/s]\n",
            "100%|██████████| 375/375 [00:21<00:00, 17.67it/s]\n"
          ]
        },
        {
          "output_type": "stream",
          "name": "stdout",
          "text": [
            "<generator object validate.<locals>.<genexpr> at 0x79756d80c660>\n",
            "Epoch 2/20\n"
          ]
        },
        {
          "output_type": "stream",
          "name": "stderr",
          "text": [
            "100%|██████████| 1500/1500 [02:07<00:00, 11.76it/s]\n",
            "100%|██████████| 375/375 [00:23<00:00, 16.15it/s]\n"
          ]
        },
        {
          "output_type": "stream",
          "name": "stdout",
          "text": [
            "<generator object validate.<locals>.<genexpr> at 0x79753007eab0>\n",
            "Epoch 3/20\n"
          ]
        },
        {
          "output_type": "stream",
          "name": "stderr",
          "text": [
            "100%|██████████| 1500/1500 [02:07<00:00, 11.76it/s]\n",
            "100%|██████████| 375/375 [00:22<00:00, 16.80it/s]\n"
          ]
        },
        {
          "output_type": "stream",
          "name": "stdout",
          "text": [
            "<generator object validate.<locals>.<genexpr> at 0x79756d80c660>\n",
            "Epoch 4/20\n"
          ]
        },
        {
          "output_type": "stream",
          "name": "stderr",
          "text": [
            "100%|██████████| 1500/1500 [02:08<00:00, 11.71it/s]\n",
            "100%|██████████| 375/375 [00:22<00:00, 16.31it/s]\n"
          ]
        },
        {
          "output_type": "stream",
          "name": "stdout",
          "text": [
            "<generator object validate.<locals>.<genexpr> at 0x79756d80c5f0>\n",
            "Epoch 5/20\n"
          ]
        },
        {
          "output_type": "stream",
          "name": "stderr",
          "text": [
            "100%|██████████| 1500/1500 [02:14<00:00, 11.16it/s]\n",
            "100%|██████████| 375/375 [00:24<00:00, 15.38it/s]\n"
          ]
        },
        {
          "output_type": "stream",
          "name": "stdout",
          "text": [
            "<generator object validate.<locals>.<genexpr> at 0x79756d80c660>\n",
            "Epoch 6/20\n"
          ]
        },
        {
          "output_type": "stream",
          "name": "stderr",
          "text": [
            "100%|██████████| 1500/1500 [02:12<00:00, 11.36it/s]\n",
            "100%|██████████| 375/375 [00:23<00:00, 15.86it/s]\n"
          ]
        },
        {
          "output_type": "stream",
          "name": "stdout",
          "text": [
            "<generator object validate.<locals>.<genexpr> at 0x79756d80c660>\n",
            "Epoch 7/20\n"
          ]
        },
        {
          "output_type": "stream",
          "name": "stderr",
          "text": [
            "100%|██████████| 1500/1500 [02:13<00:00, 11.20it/s]\n",
            "100%|██████████| 375/375 [00:23<00:00, 15.91it/s]\n"
          ]
        },
        {
          "output_type": "stream",
          "name": "stdout",
          "text": [
            "<generator object validate.<locals>.<genexpr> at 0x79756d80c660>\n",
            "Epoch 8/20\n"
          ]
        },
        {
          "output_type": "stream",
          "name": "stderr",
          "text": [
            "100%|██████████| 1500/1500 [02:13<00:00, 11.24it/s]\n",
            "100%|██████████| 375/375 [00:24<00:00, 15.49it/s]\n"
          ]
        },
        {
          "output_type": "stream",
          "name": "stdout",
          "text": [
            "<generator object validate.<locals>.<genexpr> at 0x7975304c06d0>\n",
            "Epoch 9/20\n"
          ]
        },
        {
          "output_type": "stream",
          "name": "stderr",
          "text": [
            "100%|██████████| 1500/1500 [02:13<00:00, 11.22it/s]\n",
            "100%|██████████| 375/375 [00:22<00:00, 16.41it/s]\n"
          ]
        },
        {
          "output_type": "stream",
          "name": "stdout",
          "text": [
            "<generator object validate.<locals>.<genexpr> at 0x7975304c06d0>\n",
            "Epoch 10/20\n"
          ]
        },
        {
          "output_type": "stream",
          "name": "stderr",
          "text": [
            "100%|██████████| 1500/1500 [02:15<00:00, 11.08it/s]\n",
            "100%|██████████| 375/375 [00:23<00:00, 16.29it/s]\n"
          ]
        },
        {
          "output_type": "stream",
          "name": "stdout",
          "text": [
            "<generator object validate.<locals>.<genexpr> at 0x79756d80c040>\n",
            "Epoch 11/20\n"
          ]
        },
        {
          "output_type": "stream",
          "name": "stderr",
          "text": [
            "100%|██████████| 1500/1500 [02:13<00:00, 11.20it/s]\n",
            "100%|██████████| 375/375 [00:23<00:00, 16.09it/s]\n"
          ]
        },
        {
          "output_type": "stream",
          "name": "stdout",
          "text": [
            "<generator object validate.<locals>.<genexpr> at 0x79756d80c040>\n",
            "Epoch 12/20\n"
          ]
        },
        {
          "output_type": "stream",
          "name": "stderr",
          "text": [
            "100%|██████████| 1500/1500 [02:12<00:00, 11.31it/s]\n",
            "100%|██████████| 375/375 [00:23<00:00, 15.96it/s]\n"
          ]
        },
        {
          "output_type": "stream",
          "name": "stdout",
          "text": [
            "<generator object validate.<locals>.<genexpr> at 0x79756d80c040>\n",
            "Epoch 13/20\n"
          ]
        },
        {
          "output_type": "stream",
          "name": "stderr",
          "text": [
            "100%|██████████| 1500/1500 [02:15<00:00, 11.04it/s]\n",
            "100%|██████████| 375/375 [00:22<00:00, 16.84it/s]\n"
          ]
        },
        {
          "output_type": "stream",
          "name": "stdout",
          "text": [
            "<generator object validate.<locals>.<genexpr> at 0x79756d80c040>\n",
            "Epoch 14/20\n"
          ]
        },
        {
          "output_type": "stream",
          "name": "stderr",
          "text": [
            "100%|██████████| 1500/1500 [02:15<00:00, 11.03it/s]\n",
            "100%|██████████| 375/375 [00:24<00:00, 15.30it/s]\n"
          ]
        },
        {
          "output_type": "stream",
          "name": "stdout",
          "text": [
            "<generator object validate.<locals>.<genexpr> at 0x79756d80c040>\n",
            "Epoch 15/20\n"
          ]
        },
        {
          "output_type": "stream",
          "name": "stderr",
          "text": [
            "100%|██████████| 1500/1500 [02:14<00:00, 11.18it/s]\n",
            "100%|██████████| 375/375 [00:23<00:00, 15.91it/s]\n"
          ]
        },
        {
          "output_type": "stream",
          "name": "stdout",
          "text": [
            "<generator object validate.<locals>.<genexpr> at 0x79756d80c040>\n",
            "Epoch 16/20\n"
          ]
        },
        {
          "output_type": "stream",
          "name": "stderr",
          "text": [
            "100%|██████████| 1500/1500 [02:14<00:00, 11.13it/s]\n",
            "100%|██████████| 375/375 [00:21<00:00, 17.08it/s]\n"
          ]
        },
        {
          "output_type": "stream",
          "name": "stdout",
          "text": [
            "<generator object validate.<locals>.<genexpr> at 0x79756d80c5f0>\n",
            "Epoch 17/20\n"
          ]
        },
        {
          "output_type": "stream",
          "name": "stderr",
          "text": [
            "100%|██████████| 1500/1500 [02:12<00:00, 11.30it/s]\n",
            "100%|██████████| 375/375 [00:23<00:00, 16.24it/s]\n"
          ]
        },
        {
          "output_type": "stream",
          "name": "stdout",
          "text": [
            "<generator object validate.<locals>.<genexpr> at 0x79756d80c5f0>\n",
            "Epoch 18/20\n"
          ]
        },
        {
          "output_type": "stream",
          "name": "stderr",
          "text": [
            "100%|██████████| 1500/1500 [02:12<00:00, 11.32it/s]\n",
            "100%|██████████| 375/375 [00:24<00:00, 15.53it/s]\n"
          ]
        },
        {
          "output_type": "stream",
          "name": "stdout",
          "text": [
            "<generator object validate.<locals>.<genexpr> at 0x79756d80c5f0>\n",
            "Epoch 19/20\n"
          ]
        },
        {
          "output_type": "stream",
          "name": "stderr",
          "text": [
            "100%|██████████| 1500/1500 [02:13<00:00, 11.27it/s]\n",
            "100%|██████████| 375/375 [00:22<00:00, 16.56it/s]\n"
          ]
        },
        {
          "output_type": "stream",
          "name": "stdout",
          "text": [
            "<generator object validate.<locals>.<genexpr> at 0x79753007d5b0>\n",
            "Epoch 20/20\n"
          ]
        },
        {
          "output_type": "stream",
          "name": "stderr",
          "text": [
            "100%|██████████| 1500/1500 [02:12<00:00, 11.32it/s]\n",
            "100%|██████████| 375/375 [00:24<00:00, 15.54it/s]\n"
          ]
        },
        {
          "output_type": "stream",
          "name": "stdout",
          "text": [
            "<generator object validate.<locals>.<genexpr> at 0x79756d80c5f0>\n",
            "Num train samples  96000\n",
            "Num val samples  24000\n",
            "Epoch 1/20\n"
          ]
        },
        {
          "output_type": "stream",
          "name": "stderr",
          "text": [
            "100%|██████████| 1500/1500 [02:12<00:00, 11.30it/s]\n",
            "100%|██████████| 375/375 [00:24<00:00, 15.14it/s]\n"
          ]
        },
        {
          "output_type": "stream",
          "name": "stdout",
          "text": [
            "<generator object validate.<locals>.<genexpr> at 0x79756d80c5f0>\n",
            "Epoch 2/20\n"
          ]
        },
        {
          "output_type": "stream",
          "name": "stderr",
          "text": [
            "100%|██████████| 1500/1500 [02:14<00:00, 11.16it/s]\n",
            "100%|██████████| 375/375 [00:23<00:00, 15.84it/s]\n"
          ]
        },
        {
          "output_type": "stream",
          "name": "stdout",
          "text": [
            "<generator object validate.<locals>.<genexpr> at 0x79756d80c5f0>\n",
            "Epoch 3/20\n"
          ]
        },
        {
          "output_type": "stream",
          "name": "stderr",
          "text": [
            "100%|██████████| 1500/1500 [02:13<00:00, 11.24it/s]\n",
            "100%|██████████| 375/375 [00:24<00:00, 15.11it/s]\n"
          ]
        },
        {
          "output_type": "stream",
          "name": "stdout",
          "text": [
            "<generator object validate.<locals>.<genexpr> at 0x79756d80c5f0>\n",
            "Epoch 4/20\n"
          ]
        },
        {
          "output_type": "stream",
          "name": "stderr",
          "text": [
            "100%|██████████| 1500/1500 [02:14<00:00, 11.18it/s]\n",
            "100%|██████████| 375/375 [00:24<00:00, 15.59it/s]\n"
          ]
        },
        {
          "output_type": "stream",
          "name": "stdout",
          "text": [
            "<generator object validate.<locals>.<genexpr> at 0x7975304c06d0>\n",
            "Epoch 5/20\n"
          ]
        },
        {
          "output_type": "stream",
          "name": "stderr",
          "text": [
            "100%|██████████| 1500/1500 [02:17<00:00, 10.90it/s]\n",
            "100%|██████████| 375/375 [00:24<00:00, 15.38it/s]\n"
          ]
        },
        {
          "output_type": "stream",
          "name": "stdout",
          "text": [
            "<generator object validate.<locals>.<genexpr> at 0x7975304c06d0>\n",
            "Epoch 6/20\n"
          ]
        },
        {
          "output_type": "stream",
          "name": "stderr",
          "text": [
            "100%|██████████| 1500/1500 [02:15<00:00, 11.04it/s]\n",
            "100%|██████████| 375/375 [00:24<00:00, 15.00it/s]\n"
          ]
        },
        {
          "output_type": "stream",
          "name": "stdout",
          "text": [
            "<generator object validate.<locals>.<genexpr> at 0x79753007e500>\n",
            "Epoch 7/20\n"
          ]
        },
        {
          "output_type": "stream",
          "name": "stderr",
          "text": [
            "100%|██████████| 1500/1500 [02:15<00:00, 11.06it/s]\n",
            "100%|██████████| 375/375 [00:24<00:00, 15.32it/s]\n"
          ]
        },
        {
          "output_type": "stream",
          "name": "stdout",
          "text": [
            "<generator object validate.<locals>.<genexpr> at 0x7975304c06d0>\n",
            "Epoch 8/20\n"
          ]
        },
        {
          "output_type": "stream",
          "name": "stderr",
          "text": [
            "100%|██████████| 1500/1500 [02:14<00:00, 11.14it/s]\n",
            "100%|██████████| 375/375 [00:23<00:00, 15.68it/s]\n"
          ]
        },
        {
          "output_type": "stream",
          "name": "stdout",
          "text": [
            "<generator object validate.<locals>.<genexpr> at 0x79756d80c040>\n",
            "Epoch 9/20\n"
          ]
        },
        {
          "output_type": "stream",
          "name": "stderr",
          "text": [
            "100%|██████████| 1500/1500 [02:14<00:00, 11.18it/s]\n",
            "100%|██████████| 375/375 [00:24<00:00, 15.56it/s]\n"
          ]
        },
        {
          "output_type": "stream",
          "name": "stdout",
          "text": [
            "<generator object validate.<locals>.<genexpr> at 0x79756d80c040>\n",
            "Epoch 10/20\n"
          ]
        },
        {
          "output_type": "stream",
          "name": "stderr",
          "text": [
            "100%|██████████| 1500/1500 [02:15<00:00, 11.03it/s]\n",
            "100%|██████████| 375/375 [00:24<00:00, 15.08it/s]\n"
          ]
        },
        {
          "output_type": "stream",
          "name": "stdout",
          "text": [
            "<generator object validate.<locals>.<genexpr> at 0x7975304c06d0>\n",
            "Epoch 11/20\n"
          ]
        },
        {
          "output_type": "stream",
          "name": "stderr",
          "text": [
            "100%|██████████| 1500/1500 [02:16<00:00, 11.01it/s]\n",
            "100%|██████████| 375/375 [00:23<00:00, 15.74it/s]\n"
          ]
        },
        {
          "output_type": "stream",
          "name": "stdout",
          "text": [
            "<generator object validate.<locals>.<genexpr> at 0x79756d80c660>\n",
            "Epoch 12/20\n"
          ]
        },
        {
          "output_type": "stream",
          "name": "stderr",
          "text": [
            "100%|██████████| 1500/1500 [02:13<00:00, 11.22it/s]\n",
            "100%|██████████| 375/375 [00:24<00:00, 15.04it/s]\n"
          ]
        },
        {
          "output_type": "stream",
          "name": "stdout",
          "text": [
            "<generator object validate.<locals>.<genexpr> at 0x79756d80c040>\n",
            "Epoch 13/20\n"
          ]
        },
        {
          "output_type": "stream",
          "name": "stderr",
          "text": [
            "100%|██████████| 1500/1500 [02:14<00:00, 11.13it/s]\n",
            "100%|██████████| 375/375 [00:24<00:00, 15.21it/s]\n"
          ]
        },
        {
          "output_type": "stream",
          "name": "stdout",
          "text": [
            "<generator object validate.<locals>.<genexpr> at 0x79756d80c040>\n",
            "Epoch 14/20\n"
          ]
        },
        {
          "output_type": "stream",
          "name": "stderr",
          "text": [
            "100%|██████████| 1500/1500 [02:15<00:00, 11.06it/s]\n",
            "100%|██████████| 375/375 [00:24<00:00, 15.58it/s]\n"
          ]
        },
        {
          "output_type": "stream",
          "name": "stdout",
          "text": [
            "<generator object validate.<locals>.<genexpr> at 0x79756d80c660>\n",
            "Epoch 15/20\n"
          ]
        },
        {
          "output_type": "stream",
          "name": "stderr",
          "text": [
            "100%|██████████| 1500/1500 [02:17<00:00, 10.95it/s]\n",
            "100%|██████████| 375/375 [00:24<00:00, 15.10it/s]\n"
          ]
        },
        {
          "output_type": "stream",
          "name": "stdout",
          "text": [
            "<generator object validate.<locals>.<genexpr> at 0x79756d80c660>\n",
            "Epoch 16/20\n"
          ]
        },
        {
          "output_type": "stream",
          "name": "stderr",
          "text": [
            "100%|██████████| 1500/1500 [02:14<00:00, 11.15it/s]\n",
            "100%|██████████| 375/375 [00:24<00:00, 15.23it/s]\n"
          ]
        },
        {
          "output_type": "stream",
          "name": "stdout",
          "text": [
            "<generator object validate.<locals>.<genexpr> at 0x79756d80c660>\n",
            "Epoch 17/20\n"
          ]
        },
        {
          "output_type": "stream",
          "name": "stderr",
          "text": [
            "100%|██████████| 1500/1500 [02:18<00:00, 10.81it/s]\n",
            "100%|██████████| 375/375 [00:22<00:00, 16.56it/s]\n"
          ]
        },
        {
          "output_type": "stream",
          "name": "stdout",
          "text": [
            "<generator object validate.<locals>.<genexpr> at 0x79756d80c660>\n",
            "Epoch 18/20\n"
          ]
        },
        {
          "output_type": "stream",
          "name": "stderr",
          "text": [
            "100%|██████████| 1500/1500 [02:13<00:00, 11.26it/s]\n",
            "100%|██████████| 375/375 [00:25<00:00, 14.91it/s]\n"
          ]
        },
        {
          "output_type": "stream",
          "name": "stdout",
          "text": [
            "<generator object validate.<locals>.<genexpr> at 0x79756d80c660>\n",
            "Epoch 19/20\n"
          ]
        },
        {
          "output_type": "stream",
          "name": "stderr",
          "text": [
            "100%|██████████| 1500/1500 [02:14<00:00, 11.13it/s]\n",
            "100%|██████████| 375/375 [00:24<00:00, 15.17it/s]\n"
          ]
        },
        {
          "output_type": "stream",
          "name": "stdout",
          "text": [
            "<generator object validate.<locals>.<genexpr> at 0x7975304c06d0>\n",
            "Epoch 20/20\n"
          ]
        },
        {
          "output_type": "stream",
          "name": "stderr",
          "text": [
            "100%|██████████| 1500/1500 [02:13<00:00, 11.24it/s]\n",
            "100%|██████████| 375/375 [00:23<00:00, 15.81it/s]\n"
          ]
        },
        {
          "output_type": "stream",
          "name": "stdout",
          "text": [
            "<generator object validate.<locals>.<genexpr> at 0x79756d80c040>\n"
          ]
        }
      ],
      "source": [
        "result_list = []\n",
        "for i in range(args.n_folds):\n",
        "    result = train_fold(args, x_adj, x_feature, fold = i)\n",
        "    result_list.append(result)"
      ]
    },
    {
      "cell_type": "code",
      "execution_count": null,
      "metadata": {
        "id": "wFwVO-KYSr_j",
        "colab": {
          "base_uri": "https://localhost:8080/"
        },
        "outputId": "0b482e91-9ecf-455a-895f-81c76e5cc8b6"
      },
      "outputs": [
        {
          "output_type": "stream",
          "name": "stdout",
          "text": [
            "Average of max validation f1 over all folds:  0.917\n",
            "Average of max validation auc over all folds:  0.987\n",
            "Average of max validation mrr over all folds:  0.956\n"
          ]
        }
      ],
      "source": [
        "metrics = ['f1', 'auc', 'mrr']\n",
        "\n",
        "for m in metrics:\n",
        "    maxi = 0\n",
        "    for idx, l in enumerate(result_list):\n",
        "        maxi += max(l[m], key = lambda x: x[1])[1] / args.n_folds\n",
        "\n",
        "    print(f'Average of max validation {m} over all folds: ', np.round(maxi, 3))"
      ]
    },
    {
      "cell_type": "code",
      "execution_count": null,
      "metadata": {
        "id": "XzQpKjobSr7S",
        "colab": {
          "base_uri": "https://localhost:8080/",
          "height": 651
        },
        "outputId": "0285d4ee-a1d9-48b7-f96a-94efb71ea0e9"
      },
      "outputs": [
        {
          "output_type": "display_data",
          "data": {
            "text/plain": [
              "<Figure size 2000x1200 with 4 Axes>"
            ],
            "image/png": "[encoded data removed]"
          },
          "metadata": {}
        }
      ],
      "source": [
        "plot_results(result_list)"
      ]
    }
  ],
  "metadata": {
    "colab": {
      "provenance": [],
      "authorship_tag": "ABX9TyN39ADJds9EwXWQROsREjO3",
      "include_colab_link": true
    },
    "kernelspec": {
      "display_name": "Python 3",
      "name": "python3"
    },
    "language_info": {
      "name": "python"
    }
  },
  "nbformat": 4,
  "nbformat_minor": 0
}