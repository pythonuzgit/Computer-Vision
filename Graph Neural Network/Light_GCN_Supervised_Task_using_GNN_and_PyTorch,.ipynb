{
  "nbformat": 4,
  "nbformat_minor": 0,
  "metadata": {
    "colab": {
      "provenance": [],
      "authorship_tag": "ABX9TyMychNQU/su0C5VlzUfhwJj",
      "include_colab_link": true
    },
    "kernelspec": {
      "name": "python3",
      "display_name": "Python 3"
    },
    "language_info": {
      "name": "python"
    },
    "accelerator": "TPU",
    "widgets": {
      "application/vnd.jupyter.widget-state+json": {
        "fe4e821a0cde43d49da08d5b0d7024e1": {
          "model_module": "@jupyter-widgets/controls",
          "model_name": "HBoxModel",
          "model_module_version": "1.5.0",
          "state": {
            "_dom_classes": [],
            "_model_module": "@jupyter-widgets/controls",
            "_model_module_version": "1.5.0",
            "_model_name": "HBoxModel",
            "_view_count": null,
            "_view_module": "@jupyter-widgets/controls",
            "_view_module_version": "1.5.0",
            "_view_name": "HBoxView",
            "box_style": "",
            "children": [
              "IPY_MODEL_f5a6086f5f654986adec0a66debca6ee",
              "IPY_MODEL_c0d1259bf3494c5089f6ef4b6a543da9",
              "IPY_MODEL_aa2a9545cb42472b9470fee7afb41a8f"
            ],
            "layout": "IPY_MODEL_e7bf8b2da65d4a7dae2380b15b0a0ba1"
          }
        },
        "f5a6086f5f654986adec0a66debca6ee": {
          "model_module": "@jupyter-widgets/controls",
          "model_name": "HTMLModel",
          "model_module_version": "1.5.0",
          "state": {
            "_dom_classes": [],
            "_model_module": "@jupyter-widgets/controls",
            "_model_module_version": "1.5.0",
            "_model_name": "HTMLModel",
            "_view_count": null,
            "_view_module": "@jupyter-widgets/controls",
            "_view_module_version": "1.5.0",
            "_view_name": "HTMLView",
            "description": "",
            "description_tooltip": null,
            "layout": "IPY_MODEL_62043b99a61a4cae998e90369a184ed6",
            "placeholder": "​",
            "style": "IPY_MODEL_2a345ae019884d5b96b83fefae140c1f",
            "value": "100%"
          }
        },
        "c0d1259bf3494c5089f6ef4b6a543da9": {
          "model_module": "@jupyter-widgets/controls",
          "model_name": "FloatProgressModel",
          "model_module_version": "1.5.0",
          "state": {
            "_dom_classes": [],
            "_model_module": "@jupyter-widgets/controls",
            "_model_module_version": "1.5.0",
            "_model_name": "FloatProgressModel",
            "_view_count": null,
            "_view_module": "@jupyter-widgets/controls",
            "_view_module_version": "1.5.0",
            "_view_name": "ProgressView",
            "bar_style": "success",
            "description": "",
            "description_tooltip": null,
            "layout": "IPY_MODEL_2ba0e12a65f54a3a833b5af57e761ea3",
            "max": 10000,
            "min": 0,
            "orientation": "horizontal",
            "style": "IPY_MODEL_71b3220424034691a2522364821ec21c",
            "value": 10000
          }
        },
        "aa2a9545cb42472b9470fee7afb41a8f": {
          "model_module": "@jupyter-widgets/controls",
          "model_name": "HTMLModel",
          "model_module_version": "1.5.0",
          "state": {
            "_dom_classes": [],
            "_model_module": "@jupyter-widgets/controls",
            "_model_module_version": "1.5.0",
            "_model_name": "HTMLModel",
            "_view_count": null,
            "_view_module": "@jupyter-widgets/controls",
            "_view_module_version": "1.5.0",
            "_view_name": "HTMLView",
            "description": "",
            "description_tooltip": null,
            "layout": "IPY_MODEL_dcccc9a0aa5142cba49c3158bb883019",
            "placeholder": "​",
            "style": "IPY_MODEL_2e6e39f273ee46be96642b1be975bfd2",
            "value": " 10000/10000 [2:20:52&lt;00:00,  1.43it/s]"
          }
        },
        "e7bf8b2da65d4a7dae2380b15b0a0ba1": {
          "model_module": "@jupyter-widgets/base",
          "model_name": "LayoutModel",
          "model_module_version": "1.2.0",
          "state": {
            "_model_module": "@jupyter-widgets/base",
            "_model_module_version": "1.2.0",
            "_model_name": "LayoutModel",
            "_view_count": null,
            "_view_module": "@jupyter-widgets/base",
            "_view_module_version": "1.2.0",
            "_view_name": "LayoutView",
            "align_content": null,
            "align_items": null,
            "align_self": null,
            "border": null,
            "bottom": null,
            "display": null,
            "flex": null,
            "flex_flow": null,
            "grid_area": null,
            "grid_auto_columns": null,
            "grid_auto_flow": null,
            "grid_auto_rows": null,
            "grid_column": null,
            "grid_gap": null,
            "grid_row": null,
            "grid_template_areas": null,
            "grid_template_columns": null,
            "grid_template_rows": null,
            "height": null,
            "justify_content": null,
            "justify_items": null,
            "left": null,
            "margin": null,
            "max_height": null,
            "max_width": null,
            "min_height": null,
            "min_width": null,
            "object_fit": null,
            "object_position": null,
            "order": null,
            "overflow": null,
            "overflow_x": null,
            "overflow_y": null,
            "padding": null,
            "right": null,
            "top": null,
            "visibility": null,
            "width": null
          }
        },
        "62043b99a61a4cae998e90369a184ed6": {
          "model_module": "@jupyter-widgets/base",
          "model_name": "LayoutModel",
          "model_module_version": "1.2.0",
          "state": {
            "_model_module": "@jupyter-widgets/base",
            "_model_module_version": "1.2.0",
            "_model_name": "LayoutModel",
            "_view_count": null,
            "_view_module": "@jupyter-widgets/base",
            "_view_module_version": "1.2.0",
            "_view_name": "LayoutView",
            "align_content": null,
            "align_items": null,
            "align_self": null,
            "border": null,
            "bottom": null,
            "display": null,
            "flex": null,
            "flex_flow": null,
            "grid_area": null,
            "grid_auto_columns": null,
            "grid_auto_flow": null,
            "grid_auto_rows": null,
            "grid_column": null,
            "grid_gap": null,
            "grid_row": null,
            "grid_template_areas": null,
            "grid_template_columns": null,
            "grid_template_rows": null,
            "height": null,
            "justify_content": null,
            "justify_items": null,
            "left": null,
            "margin": null,
            "max_height": null,
            "max_width": null,
            "min_height": null,
            "min_width": null,
            "object_fit": null,
            "object_position": null,
            "order": null,
            "overflow": null,
            "overflow_x": null,
            "overflow_y": null,
            "padding": null,
            "right": null,
            "top": null,
            "visibility": null,
            "width": null
          }
        },
        "2a345ae019884d5b96b83fefae140c1f": {
          "model_module": "@jupyter-widgets/controls",
          "model_name": "DescriptionStyleModel",
          "model_module_version": "1.5.0",
          "state": {
            "_model_module": "@jupyter-widgets/controls",
            "_model_module_version": "1.5.0",
            "_model_name": "DescriptionStyleModel",
            "_view_count": null,
            "_view_module": "@jupyter-widgets/base",
            "_view_module_version": "1.2.0",
            "_view_name": "StyleView",
            "description_width": ""
          }
        },
        "2ba0e12a65f54a3a833b5af57e761ea3": {
          "model_module": "@jupyter-widgets/base",
          "model_name": "LayoutModel",
          "model_module_version": "1.2.0",
          "state": {
            "_model_module": "@jupyter-widgets/base",
            "_model_module_version": "1.2.0",
            "_model_name": "LayoutModel",
            "_view_count": null,
            "_view_module": "@jupyter-widgets/base",
            "_view_module_version": "1.2.0",
            "_view_name": "LayoutView",
            "align_content": null,
            "align_items": null,
            "align_self": null,
            "border": null,
            "bottom": null,
            "display": null,
            "flex": null,
            "flex_flow": null,
            "grid_area": null,
            "grid_auto_columns": null,
            "grid_auto_flow": null,
            "grid_auto_rows": null,
            "grid_column": null,
            "grid_gap": null,
            "grid_row": null,
            "grid_template_areas": null,
            "grid_template_columns": null,
            "grid_template_rows": null,
            "height": null,
            "justify_content": null,
            "justify_items": null,
            "left": null,
            "margin": null,
            "max_height": null,
            "max_width": null,
            "min_height": null,
            "min_width": null,
            "object_fit": null,
            "object_position": null,
            "order": null,
            "overflow": null,
            "overflow_x": null,
            "overflow_y": null,
            "padding": null,
            "right": null,
            "top": null,
            "visibility": null,
            "width": null
          }
        },
        "71b3220424034691a2522364821ec21c": {
          "model_module": "@jupyter-widgets/controls",
          "model_name": "ProgressStyleModel",
          "model_module_version": "1.5.0",
          "state": {
            "_model_module": "@jupyter-widgets/controls",
            "_model_module_version": "1.5.0",
            "_model_name": "ProgressStyleModel",
            "_view_count": null,
            "_view_module": "@jupyter-widgets/base",
            "_view_module_version": "1.2.0",
            "_view_name": "StyleView",
            "bar_color": null,
            "description_width": ""
          }
        },
        "dcccc9a0aa5142cba49c3158bb883019": {
          "model_module": "@jupyter-widgets/base",
          "model_name": "LayoutModel",
          "model_module_version": "1.2.0",
          "state": {
            "_model_module": "@jupyter-widgets/base",
            "_model_module_version": "1.2.0",
            "_model_name": "LayoutModel",
            "_view_count": null,
            "_view_module": "@jupyter-widgets/base",
            "_view_module_version": "1.2.0",
            "_view_name": "LayoutView",
            "align_content": null,
            "align_items": null,
            "align_self": null,
            "border": null,
            "bottom": null,
            "display": null,
            "flex": null,
            "flex_flow": null,
            "grid_area": null,
            "grid_auto_columns": null,
            "grid_auto_flow": null,
            "grid_auto_rows": null,
            "grid_column": null,
            "grid_gap": null,
            "grid_row": null,
            "grid_template_areas": null,
            "grid_template_columns": null,
            "grid_template_rows": null,
            "height": null,
            "justify_content": null,
            "justify_items": null,
            "left": null,
            "margin": null,
            "max_height": null,
            "max_width": null,
            "min_height": null,
            "min_width": null,
            "object_fit": null,
            "object_position": null,
            "order": null,
            "overflow": null,
            "overflow_x": null,
            "overflow_y": null,
            "padding": null,
            "right": null,
            "top": null,
            "visibility": null,
            "width": null
          }
        },
        "2e6e39f273ee46be96642b1be975bfd2": {
          "model_module": "@jupyter-widgets/controls",
          "model_name": "DescriptionStyleModel",
          "model_module_version": "1.5.0",
          "state": {
            "_model_module": "@jupyter-widgets/controls",
            "_model_module_version": "1.5.0",
            "_model_name": "DescriptionStyleModel",
            "_view_count": null,
            "_view_module": "@jupyter-widgets/base",
            "_view_module_version": "1.2.0",
            "_view_name": "StyleView",
            "description_width": ""
          }
        }
      }
    }
  },
  "cells": [
    {
      "cell_type": "markdown",
      "metadata": {
        "id": "view-in-github",
        "colab_type": "text"
      },
      "source": [
        "<a href=\"https://colab.research.google.com/github/pythonuzgit/elmurodov/blob/master/Graph%20Neural%20Network/Light_GCN_Supervised_Task_using_GNN_and_PyTorch%2C.ipynb\" target=\"_parent\"><img src=\"https://colab.research.google.com/assets/colab-badge.svg\" alt=\"Open In Colab\"/></a>"
      ]
    },
    {
      "cell_type": "code",
      "execution_count": null,
      "metadata": {
        "id": "NRUeed5WNCpQ"
      },
      "outputs": [],
      "source": []
    },
    {
      "cell_type": "markdown",
      "source": [
        "Import required modules"
      ],
      "metadata": {
        "id": "aA0G8Zy6o3uX"
      }
    },
    {
      "cell_type": "code",
      "source": [
        "\n",
        "import random\n",
        "from tqdm.notebook import tqdm\n",
        "import pandas as pd\n",
        "import numpy as np\n",
        "import matplotlib.pyplot as plt\n",
        "from sklearn.model_selection import train_test_split\n",
        "from sklearn import model_selection, metrics, preprocessing\n",
        "import copy\n",
        "\n",
        "import torch\n",
        "from torch import nn, optim, Tensor\n",
        "\n",
        "from torch_sparse import SparseTensor, matmul\n",
        "\n",
        "from collections import defaultdict\n",
        "\n",
        "from torch_geometric.data import download_url, extract_zip\n",
        "from torch_geometric.nn.conv.gcn_conv import gcn_norm\n",
        "from torch_geometric.nn.conv import MessagePassing\n",
        "from torch_geometric.typing import Adj\n",
        "import torch.nn.functional as F"
      ],
      "metadata": {
        "id": "mTYCiR3xUbtq"
      },
      "execution_count": 26,
      "outputs": []
    },
    {
      "cell_type": "code",
      "source": [
        "movie_path = '/content/movies.csv'\n",
        "rating_path = '/content/ratings.csv'"
      ],
      "metadata": {
        "id": "Nh6hUxSjNEp7"
      },
      "execution_count": 9,
      "outputs": []
    },
    {
      "cell_type": "code",
      "source": [
        "rating_df = pd.read_csv(rating_path)\n",
        "\n",
        "lbl_user = preprocessing.LabelEncoder()\n",
        "lbl_movie = preprocessing.LabelEncoder()\n",
        "\n",
        "rating_df.userId = lbl_user.fit_transform(rating_df.userId.values)\n",
        "rating_df.movieId = lbl_movie.fit_transform(rating_df.movieId.values)"
      ],
      "metadata": {
        "id": "G1wqsIHQNEl1"
      },
      "execution_count": 10,
      "outputs": []
    },
    {
      "cell_type": "code",
      "source": [
        "print(rating_df.userId.max())\n",
        "print(rating_df.movieId.max())"
      ],
      "metadata": {
        "colab": {
          "base_uri": "https://localhost:8080/"
        },
        "id": "ReLp-IulNEhk",
        "outputId": "82b0dc1b-0776-4f91-b890-7ee40330fcb4"
      },
      "execution_count": 11,
      "outputs": [
        {
          "output_type": "stream",
          "name": "stdout",
          "text": [
            "667\n",
            "10324\n"
          ]
        }
      ]
    },
    {
      "cell_type": "code",
      "source": [
        "# load edges between users and movies\n",
        "def load_edge_csv(df,\n",
        "                  src_index_col,\n",
        "                  dst_index_col,\n",
        "                  link_index_col,\n",
        "                  rating_threshold=3.5):\n",
        "    \"\"\"Loads csv containing edges between users and items\n",
        "\n",
        "    Args:\n",
        "        path (str): path to csv file\n",
        "        src_index_col (str): column name of users\n",
        "        src_mapping (dict): mapping between row number and user id\n",
        "        dst_index_col (str): column name of items\n",
        "        dst_mapping (dict): mapping between row number and item id\n",
        "        link_index_col (str): column name of user item interaction\n",
        "        rating_threshold (int, optional): Threshold to determine positivity of edge. Defaults to 4.\n",
        "\n",
        "    Returns:\n",
        "        torch.Tensor: 2 by N matrix containing the node ids of N user-item edges\n",
        "    \"\"\"\n",
        "\n",
        "    edge_index = None\n",
        "    src = [user_id for user_id in  df['userId']]\n",
        "\n",
        "    num_users = len(df['userId'].unique())\n",
        "\n",
        "    dst = [(movie_id) for movie_id in df['movieId']]\n",
        "\n",
        "    link_vals = df[link_index_col].values\n",
        "\n",
        "    edge_attr = torch.from_numpy(df[link_index_col].values).view(-1, 1).to(torch.long) >= rating_threshold\n",
        "\n",
        "    edge_values = []\n",
        "\n",
        "    edge_index = [[], []]\n",
        "    for i in range(edge_attr.shape[0]):\n",
        "        if edge_attr[i]:\n",
        "            edge_index[0].append(src[i])\n",
        "            edge_index[1].append(dst[i])\n",
        "            edge_values.append(link_vals[i])\n",
        "\n",
        "    # edge_values is the label we will use for compute training loss\n",
        "    return edge_index, edge_values"
      ],
      "metadata": {
        "id": "kzzak9vBUzKC"
      },
      "execution_count": 12,
      "outputs": []
    },
    {
      "cell_type": "code",
      "source": [
        "edge_index, edge_values = load_edge_csv(\n",
        "    rating_df,\n",
        "    src_index_col='userId',\n",
        "    dst_index_col='movieId',\n",
        "    link_index_col='rating',\n",
        "    rating_threshold=1 # need to use threshold=1 so the model can learn based on RMSE\n",
        ")"
      ],
      "metadata": {
        "id": "EkxSKB5yUyvN"
      },
      "execution_count": 13,
      "outputs": []
    },
    {
      "cell_type": "code",
      "source": [
        "# Convert to tensor\n",
        "edge_index = torch.LongTensor(edge_index)\n",
        "edge_values = torch.tensor(edge_values)\n",
        "\n",
        "print(edge_index)\n",
        "print(edge_index.size())\n",
        "\n",
        "print(edge_values)\n",
        "print(edge_values.size())"
      ],
      "metadata": {
        "colab": {
          "base_uri": "https://localhost:8080/"
        },
        "id": "Dq8zvSW3UyQ2",
        "outputId": "4cc1b2bb-e791-4c30-bc49-4907e71c09e5"
      },
      "execution_count": 14,
      "outputs": [
        {
          "output_type": "stream",
          "name": "stdout",
          "text": [
            "tensor([[    0,     0,     0,  ...,   667,   667,   667],\n",
            "        [   15,    23,    31,  ..., 10312, 10317, 10323]])\n",
            "torch.Size([2, 104141])\n",
            "tensor([4.0000, 1.5000, 4.0000,  ..., 4.0000, 2.5000, 4.5000],\n",
            "       dtype=torch.float64)\n",
            "torch.Size([104141])\n"
          ]
        }
      ]
    },
    {
      "cell_type": "code",
      "source": [
        "# split the edges of the graph using a 80/10/10 train/validation/test split\n",
        "# num_users, num_movies = len(user_mapping), len(movie_mapping)\n",
        "\n",
        "num_users = len(rating_df['userId'].unique())\n",
        "num_movies = len(rating_df['movieId'].unique())\n",
        "\n",
        "print(f\"num_users {num_users}, num_movies {num_movies}\")"
      ],
      "metadata": {
        "colab": {
          "base_uri": "https://localhost:8080/"
        },
        "id": "xT71GFgvVmJk",
        "outputId": "c1fdf4e0-0d97-42aa-b0ca-b1f30bcccb50"
      },
      "execution_count": 15,
      "outputs": [
        {
          "output_type": "stream",
          "name": "stdout",
          "text": [
            "num_users 668, num_movies 10325\n"
          ]
        }
      ]
    },
    {
      "cell_type": "code",
      "source": [
        "def convert_r_mat_edge_index_to_adj_mat_edge_index(input_edge_index, input_edge_values):\n",
        "    R = torch.zeros((num_users, num_movies))\n",
        "    for i in range(len(input_edge_index[0])):\n",
        "        row_idx = input_edge_index[0][i]\n",
        "        col_idx = input_edge_index[1][i]\n",
        "        R[row_idx][col_idx] = input_edge_values[i] # assign actual edge value to Interaction Matrix\n",
        "\n",
        "    R_transpose = torch.transpose(R, 0, 1)\n",
        "\n",
        "    # create adj_matrix\n",
        "    adj_mat = torch.zeros((num_users + num_movies , num_users + num_movies))\n",
        "    adj_mat[: num_users, num_users :] = R.clone()\n",
        "    adj_mat[num_users :, : num_users] = R_transpose.clone()\n",
        "\n",
        "    adj_mat_coo = adj_mat.to_sparse_coo()\n",
        "    adj_mat_coo_indices = adj_mat_coo.indices()\n",
        "    adj_mat_coo_values = adj_mat_coo.values()\n",
        "    return adj_mat_coo_indices, adj_mat_coo_values"
      ],
      "metadata": {
        "id": "QaU15b0MVmHS"
      },
      "execution_count": 16,
      "outputs": []
    },
    {
      "cell_type": "code",
      "source": [
        "def convert_adj_mat_edge_index_to_r_mat_edge_index(input_edge_index, input_edge_values):\n",
        "\n",
        "    sparse_input_edge_index = SparseTensor(row=input_edge_index[0],\n",
        "                                           col=input_edge_index[1],\n",
        "                                           value = input_edge_values,\n",
        "                                           sparse_sizes=((num_users + num_movies), num_users + num_movies))\n",
        "\n",
        "    adj_mat = sparse_input_edge_index.to_dense()\n",
        "    interact_mat = adj_mat[: num_users, num_users :]\n",
        "\n",
        "    r_mat_edge_index = interact_mat.to_sparse_coo().indices()\n",
        "    r_mat_edge_values = interact_mat.to_sparse_coo().values()\n",
        "\n",
        "    return r_mat_edge_index, r_mat_edge_values"
      ],
      "metadata": {
        "id": "nuiCQInwVmFY"
      },
      "execution_count": 17,
      "outputs": []
    },
    {
      "cell_type": "code",
      "source": [
        "num_interactions = edge_index.shape[1]\n",
        "all_indices = [i for i in range(num_interactions)]\n",
        "\n",
        "train_indices, test_indices = train_test_split(all_indices,\n",
        "                                               test_size=0.2,\n",
        "                                               random_state=1)\n",
        "\n",
        "val_indices, test_indices = train_test_split(test_indices,\n",
        "                                             test_size=0.5,\n",
        "                                             random_state=1)"
      ],
      "metadata": {
        "id": "yxlZ8inzVmC8"
      },
      "execution_count": 18,
      "outputs": []
    },
    {
      "cell_type": "code",
      "source": [
        "train_edge_index = edge_index[:, train_indices]\n",
        "train_edge_value = edge_values[train_indices]\n",
        "\n",
        "val_edge_index = edge_index[:, val_indices]\n",
        "val_edge_value = edge_values[val_indices]\n",
        "\n",
        "test_edge_index = edge_index[:, test_indices]\n",
        "test_edge_value = edge_values[test_indices]"
      ],
      "metadata": {
        "id": "zBLAAIF1btw6"
      },
      "execution_count": 19,
      "outputs": []
    },
    {
      "cell_type": "code",
      "source": [
        "print(f\"num_users {num_users}, num_movies {num_movies}, num_interactions {num_interactions}\")\n",
        "print(f\"train_edge_index {train_edge_index}\")\n",
        "print((num_users + num_movies))\n",
        "print(torch.unique(train_edge_index[0]).size())\n",
        "print(torch.unique(train_edge_index[1]).size())\n",
        "\n",
        "print(test_edge_value)\n",
        "print(test_edge_value.size())"
      ],
      "metadata": {
        "colab": {
          "base_uri": "https://localhost:8080/"
        },
        "id": "6o4_XiFdbtjg",
        "outputId": "74a5b4f0-cfa6-4224-e914-03ce0d699bd9"
      },
      "execution_count": 20,
      "outputs": [
        {
          "output_type": "stream",
          "name": "stdout",
          "text": [
            "num_users 668, num_movies 10325, num_interactions 104141\n",
            "train_edge_index tensor([[ 330,  606,  562,  ...,   59,  554,  666],\n",
            "        [5437, 2457,  725,  ..., 2487,  129, 3988]])\n",
            "10993\n",
            "torch.Size([668])\n",
            "torch.Size([9473])\n",
            "tensor([4.5000, 3.0000, 5.0000,  ..., 2.5000, 3.0000, 3.5000],\n",
            "       dtype=torch.float64)\n",
            "torch.Size([10415])\n"
          ]
        }
      ]
    },
    {
      "cell_type": "code",
      "source": [
        "train_edge_index, train_edge_values  = convert_r_mat_edge_index_to_adj_mat_edge_index(train_edge_index, train_edge_value)\n",
        "val_edge_index, val_edge_values = convert_r_mat_edge_index_to_adj_mat_edge_index(val_edge_index, val_edge_value)\n",
        "test_edge_index, test_edge_values = convert_r_mat_edge_index_to_adj_mat_edge_index(test_edge_index, test_edge_value)"
      ],
      "metadata": {
        "id": "WYtvhhh4b7zN"
      },
      "execution_count": 21,
      "outputs": []
    },
    {
      "cell_type": "code",
      "source": [
        "print(train_edge_index)\n",
        "print(train_edge_index.size())\n",
        "print(val_edge_index)\n",
        "print(val_edge_index.size())\n",
        "print(test_edge_index)\n",
        "print(test_edge_index.size())\n",
        "\n",
        "print(f\"\\n train_edge_values: \\n {train_edge_values} \\n {train_edge_values.size()}\")\n",
        "print(f\"\\n val_edge_values: \\n {val_edge_values} \\n {val_edge_values.size()}\")\n",
        "print(f\"\\n test_edge_values: \\n {test_edge_values} \\n {test_edge_values.size()}\")"
      ],
      "metadata": {
        "colab": {
          "base_uri": "https://localhost:8080/"
        },
        "id": "i4A_dU3rb7wY",
        "outputId": "2cbc09e8-d9ca-4f38-f888-a8175f414b43"
      },
      "execution_count": 22,
      "outputs": [
        {
          "output_type": "stream",
          "name": "stdout",
          "text": [
            "tensor([[    0,     0,     0,  ..., 10991, 10991, 10992],\n",
            "        [  683,   699,   712,  ...,   575,   667,   474]])\n",
            "torch.Size([2, 166624])\n",
            "tensor([[    0,     0,     0,  ..., 10949, 10951, 10961],\n",
            "        [  691,   794,   809,  ...,   605,   457,   160]])\n",
            "torch.Size([2, 20828])\n",
            "tensor([[    0,     0,     0,  ..., 10978, 10979, 10990],\n",
            "        [  715,   898,   928,  ...,   588,   166,   474]])\n",
            "torch.Size([2, 20830])\n",
            "\n",
            " train_edge_values: \n",
            " tensor([4.0000, 4.0000, 4.0000,  ..., 4.5000, 4.5000, 4.0000]) \n",
            " torch.Size([166624])\n",
            "\n",
            " val_edge_values: \n",
            " tensor([1.5000, 3.0000, 3.0000,  ..., 5.0000, 4.0000, 3.0000]) \n",
            " torch.Size([20828])\n",
            "\n",
            " test_edge_values: \n",
            " tensor([4.0000, 4.5000, 4.0000,  ..., 3.0000, 4.0000, 3.0000]) \n",
            " torch.Size([20830])\n"
          ]
        }
      ]
    },
    {
      "cell_type": "markdown",
      "source": [
        "Implementing LightGCN"
      ],
      "metadata": {
        "id": "ysuO3Od3cO5c"
      }
    },
    {
      "cell_type": "code",
      "source": [
        "# defines LightGCN model\n",
        "class LightGCN(MessagePassing):\n",
        "\n",
        "\n",
        "\n",
        "    def __init__(self, num_users, num_items, embedding_dim=64, K=3, add_self_loops=False, dropout_rate=0.1):\n",
        "        \"\"\"Initializes LightGCN Model\n",
        "\n",
        "        Args:\n",
        "            num_users (int): Number of users\n",
        "            num_items (int): Number of items\n",
        "            embedding_dim (int, optional): Dimensionality of embeddings. Defaults to 8.\n",
        "            K (int, optional): Number of message passing layers. Defaults to 3.\n",
        "            add_self_loops (bool, optional): Whether to add self loops for message passing. Defaults to False.\n",
        "        \"\"\"\n",
        "        super().__init__()\n",
        "        self.dropout_rate = dropout_rate\n",
        "        self.num_users = num_users\n",
        "        self.num_items = num_items\n",
        "        self.embedding_dim = embedding_dim\n",
        "        self.K = K\n",
        "        self.add_self_loops = add_self_loops\n",
        "\n",
        "\n",
        "\n",
        "        # embedding dimension: num_user/num_item x embedding_dim\n",
        "        self.users_emb = nn.Embedding(num_embeddings=self.num_users, embedding_dim=self.embedding_dim) # e_u^0\n",
        "\n",
        "        self.items_emb = nn.Embedding(num_embeddings=self.num_items, embedding_dim=self.embedding_dim) # e_i^0\n",
        "\n",
        "\n",
        "        # \"Fills the input Tensor with values drawn from the normal distribution\"\n",
        "\n",
        "        nn.init.normal_(self.users_emb.weight, std=0.1)\n",
        "        nn.init.normal_(self.items_emb.weight, std=0.1)\n",
        "\n",
        "        # create a linear layer (fully connected layer) so we can output a single value (predicted_rating)\n",
        "        self.out = nn.Linear(embedding_dim + embedding_dim, 1)\n",
        "\n",
        "    def forward(self, edge_index: Tensor, edge_values: Tensor):\n",
        "        \"\"\"Forward propagation of LightGCN Model.\n",
        "\n",
        "        Args:\n",
        "            edge_index (SparseTensor): adjacency matrix\n",
        "\n",
        "        Returns:\n",
        "            tuple (Tensor): e_u_k, e_u_0, e_i_k, e_i_0\n",
        "        \"\"\"\n",
        "\n",
        "\n",
        "        edge_index_norm = gcn_norm(edge_index=edge_index,\n",
        "                                   add_self_loops=self.add_self_loops)\n",
        "\n",
        "        # concat the user_emb and item_emb as the layer0 embing matrix\n",
        "        # size will be (n_users + n_items) x emb_vector_len.   e.g: 10334 x 64\n",
        "        emb_0 = torch.cat([self.users_emb.weight, self.items_emb.weight]) # E^0\n",
        "\n",
        "        embs = [emb_0] # save the layer0 emb to the embs list\n",
        "\n",
        "        # emb_k is the emb that we are actually going to push it through the graph layers\n",
        "        # as described in lightGCN paper formula 7\n",
        "        emb_k = emb_0\n",
        "\n",
        "        # push the embedding of all users and items through the Graph Model K times.\n",
        "        # K here is the number of layers\n",
        "        for i in range(self.K):\n",
        "            emb_k = self.propagate(edge_index=edge_index_norm[0], x=emb_k, norm=edge_index_norm[1])\n",
        "            embs.append(emb_k)\n",
        "\n",
        "\n",
        "\n",
        "\n",
        "        # the stacked embs is a list of embedding matrix at each layer\n",
        "        #    it's of shape n_nodes x (n_layers + 1) x emb_vector_len.\n",
        "        #        e.g: torch.Size([10334, 4, 64])\n",
        "        embs = torch.stack(embs, dim=1)\n",
        "\n",
        "\n",
        "        #    leads to good performance in general.\"\n",
        "        emb_final = torch.mean(embs, dim=1) # E^K\n",
        "\n",
        "        users_emb_final, items_emb_final = torch.split(emb_final,\n",
        "                                                       [self.num_users, self.num_items]) # splits into e_u^K and e_i^K\n",
        "\n",
        "\n",
        "        r_mat_edge_index, _ = convert_adj_mat_edge_index_to_r_mat_edge_index(edge_index, edge_values)\n",
        "\n",
        "        src, dest =  r_mat_edge_index[0], r_mat_edge_index[1]\n",
        "\n",
        "        # applying embedding lookup to get embeddings for src nodes and dest nodes in the edge list\n",
        "        user_embeds = users_emb_final[src]\n",
        "        item_embeds = items_emb_final[dest]\n",
        "\n",
        "        # output dim: edge_index_len x 128 (given 64 is the original emb_vector_len)\n",
        "        output = torch.cat([user_embeds, item_embeds], dim=1)\n",
        "\n",
        "        # push it through the linear layer\n",
        "        output = self.out(output)\n",
        "\n",
        "        return output\n",
        "\n",
        "    def message(self, x_j, norm):\n",
        "        return norm.view(-1, 1) * x_j\n",
        "\n",
        "layers = 1\n",
        "model = LightGCN(num_users=num_users,\n",
        "                 num_items=num_movies,\n",
        "                 K=layers)"
      ],
      "metadata": {
        "id": "MII1RkSMb7r3"
      },
      "execution_count": 27,
      "outputs": []
    },
    {
      "cell_type": "markdown",
      "source": [
        "Training\n",
        "\n",
        "Your test set performance should be in line with the following (K=20):"
      ],
      "metadata": {
        "id": "sQUDvmDOjr0e"
      }
    },
    {
      "cell_type": "code",
      "source": [
        "# define constants\n",
        "ITERATIONS = 10000\n",
        "EPOCHS = 10\n",
        "\n",
        "BATCH_SIZE = 1024\n",
        "\n",
        "LR = 1e-3\n",
        "ITERS_PER_EVAL = 200\n",
        "ITERS_PER_LR_DECAY = 200\n",
        "K = 10\n",
        "LAMBDA = 1e-6"
      ],
      "metadata": {
        "id": "4AOrzkseb7nK"
      },
      "execution_count": 28,
      "outputs": []
    },
    {
      "cell_type": "code",
      "source": [
        "print(f\"BATCH_SIZE {BATCH_SIZE}\")"
      ],
      "metadata": {
        "colab": {
          "base_uri": "https://localhost:8080/"
        },
        "id": "7SaKCjADb7fM",
        "outputId": "8b2647fc-d2cc-4f0b-e0da-6c7e44d181a4"
      },
      "execution_count": 29,
      "outputs": [
        {
          "output_type": "stream",
          "name": "stdout",
          "text": [
            "BATCH_SIZE 1024\n"
          ]
        }
      ]
    },
    {
      "cell_type": "code",
      "source": [
        "# setup\n",
        "device = torch.device('cuda' if torch.cuda.is_available() else 'cpu')\n",
        "print(f\"Using device {device}.\")\n",
        "\n",
        "\n",
        "model = model.to(device)\n",
        "model.train()\n",
        "\n",
        "# add decay to avoid overfit\n",
        "optimizer = optim.Adam(model.parameters(), lr=LR, weight_decay=0.01)\n",
        "\n",
        "scheduler = optim.lr_scheduler.ExponentialLR(optimizer, gamma=0.95)\n",
        "\n",
        "edge_index = edge_index.to(device)\n",
        "train_edge_index = train_edge_index.to(device)\n",
        "val_edge_index = val_edge_index.to(device)\n",
        "\n",
        "\n",
        "loss_func = nn.MSELoss()"
      ],
      "metadata": {
        "colab": {
          "base_uri": "https://localhost:8080/"
        },
        "id": "r1sWuujqVl_d",
        "outputId": "8f0f9bba-9970-4517-dbf2-4fdcda12abd5"
      },
      "execution_count": 30,
      "outputs": [
        {
          "output_type": "stream",
          "name": "stdout",
          "text": [
            "Using device cpu.\n"
          ]
        }
      ]
    },
    {
      "cell_type": "code",
      "source": [
        "def get_recall_at_k(input_edge_index,\n",
        "                     input_edge_values, # the true label of actual ratings for each user/item interaction\n",
        "                     pred_ratings, # the list of predicted ratings\n",
        "                     k=10,\n",
        "                     threshold=3.5):\n",
        "    with torch.no_grad():\n",
        "        user_item_rating_list = defaultdict(list)\n",
        "\n",
        "        for i in range(len(input_edge_index[0])):\n",
        "            src = input_edge_index[0][i].item()\n",
        "            dest = input_edge_index[1][i].item()\n",
        "            true_rating = input_edge_values[i].item()\n",
        "            pred_rating = pred_ratings[i].item()\n",
        "\n",
        "            user_item_rating_list[src].append((pred_rating, true_rating))\n",
        "\n",
        "        recalls = dict()\n",
        "        precisions = dict()\n",
        "\n",
        "        for user_id, user_ratings in user_item_rating_list.items():\n",
        "            user_ratings.sort(key=lambda x: x[0], reverse=True)\n",
        "\n",
        "            n_rel = sum((true_r >= threshold) for (_, true_r) in user_ratings)\n",
        "\n",
        "            n_rec_k = sum((est >= threshold) for (est, _) in user_ratings[:k])\n",
        "\n",
        "            n_rel_and_rec_k = sum(\n",
        "                ((true_r >= threshold) and (est >= threshold))\n",
        "                for (est, true_r) in user_ratings[:k]\n",
        "            )\n",
        "\n",
        "            precisions[user_id] = n_rel_and_rec_k / n_rec_k if n_rec_k != 0 else 0\n",
        "            recalls[user_id] = n_rel_and_rec_k / n_rel if n_rel != 0 else 0\n",
        "\n",
        "        overall_recall = sum(rec for rec in recalls.values()) / len(recalls)\n",
        "        overall_precision = sum(prec for prec in precisions.values()) / len(precisions)\n",
        "\n",
        "        return overall_recall, overall_precision\n"
      ],
      "metadata": {
        "id": "oyJqd0P7Vl6G"
      },
      "execution_count": 31,
      "outputs": []
    },
    {
      "cell_type": "code",
      "source": [
        "r_mat_train_edge_index, r_mat_train_edge_values = convert_adj_mat_edge_index_to_r_mat_edge_index(train_edge_index, train_edge_values)\n",
        "r_mat_val_edge_index, r_mat_val_edge_values = convert_adj_mat_edge_index_to_r_mat_edge_index(val_edge_index, val_edge_values)\n",
        "r_mat_test_edge_index, r_mat_test_edge_values = convert_adj_mat_edge_index_to_r_mat_edge_index(test_edge_index, test_edge_values)\n"
      ],
      "metadata": {
        "id": "_CkLOxyjkPfn"
      },
      "execution_count": 32,
      "outputs": []
    },
    {
      "cell_type": "code",
      "source": [
        "# training loop\n",
        "train_losses = []\n",
        "val_losses = []\n",
        "val_recall_at_ks = []\n",
        "\n",
        "for iter in tqdm(range(ITERATIONS)):\n",
        "    # forward propagation\n",
        "\n",
        "    # the rating here is based on r_mat\n",
        "    pred_ratings = model.forward(train_edge_index, train_edge_values)\n",
        "\n",
        "\n",
        "    train_loss = loss_func(pred_ratings, r_mat_train_edge_values.view(-1,1))\n",
        "\n",
        "\n",
        "    optimizer.zero_grad()\n",
        "    train_loss.backward()\n",
        "    optimizer.step()\n",
        "\n",
        "    # going over validation set\n",
        "    if iter % ITERS_PER_EVAL == 0:\n",
        "        model.eval()\n",
        "\n",
        "        with torch.no_grad():\n",
        "            val_pred_ratings = model.forward(val_edge_index, val_edge_values)\n",
        "\n",
        "            val_loss = loss_func(val_pred_ratings, r_mat_val_edge_values.view(-1,1)).sum()\n",
        "\n",
        "            recall_at_k, precision_at_k = get_recall_at_k(r_mat_val_edge_index,\n",
        "                                                          r_mat_val_edge_values,\n",
        "                                                          val_pred_ratings,\n",
        "                                                          k = 20\n",
        "                                                         )\n",
        "\n",
        "\n",
        "            val_recall_at_ks.append(round(recall_at_k, 5))\n",
        "            train_losses.append(train_loss.item())\n",
        "            val_losses.append(val_loss.item())\n",
        "\n",
        "            print(f\"[Iteration {iter}/{ITERATIONS}], train_loss: {round(train_loss.item(), 5)}, val_loss: {round(val_loss.item(), 5)},  recall_at_k {round(recall_at_k, 5)}, precision_at_k {round(precision_at_k, 5)}\")\n",
        "\n",
        "        model.train()\n",
        "\n",
        "    if iter % ITERS_PER_LR_DECAY == 0 and iter != 0:\n",
        "        scheduler.step()"
      ],
      "metadata": {
        "colab": {
          "base_uri": "https://localhost:8080/",
          "height": 934,
          "referenced_widgets": [
            "fe4e821a0cde43d49da08d5b0d7024e1",
            "f5a6086f5f654986adec0a66debca6ee",
            "c0d1259bf3494c5089f6ef4b6a543da9",
            "aa2a9545cb42472b9470fee7afb41a8f",
            "e7bf8b2da65d4a7dae2380b15b0a0ba1",
            "62043b99a61a4cae998e90369a184ed6",
            "2a345ae019884d5b96b83fefae140c1f",
            "2ba0e12a65f54a3a833b5af57e761ea3",
            "71b3220424034691a2522364821ec21c",
            "dcccc9a0aa5142cba49c3158bb883019",
            "2e6e39f273ee46be96642b1be975bfd2"
          ]
        },
        "id": "_BoLUOM7kPRL",
        "outputId": "d2cccf49-3c20-4d3f-dbac-c4a87c691296"
      },
      "execution_count": 33,
      "outputs": [
        {
          "output_type": "display_data",
          "data": {
            "text/plain": [
              "  0%|          | 0/10000 [00:00<?, ?it/s]"
            ],
            "application/vnd.jupyter.widget-view+json": {
              "version_major": 2,
              "version_minor": 0,
              "model_id": "fe4e821a0cde43d49da08d5b0d7024e1"
            }
          },
          "metadata": {}
        },
        {
          "output_type": "stream",
          "name": "stdout",
          "text": [
            "[Iteration 0/10000], train_loss: 13.99255, val_loss: 13.95941,  recall_at_k 0.0, precision_at_k 0.0\n",
            "[Iteration 200/10000], train_loss: 2.61201, val_loss: 2.6778,  recall_at_k 0.00941, precision_at_k 0.08188\n",
            "[Iteration 400/10000], train_loss: 1.64229, val_loss: 1.68982,  recall_at_k 0.06244, precision_at_k 0.25535\n",
            "[Iteration 600/10000], train_loss: 1.37101, val_loss: 1.41843,  recall_at_k 0.11129, precision_at_k 0.35762\n",
            "[Iteration 800/10000], train_loss: 1.23284, val_loss: 1.28126,  recall_at_k 0.14269, precision_at_k 0.40309\n",
            "[Iteration 1000/10000], train_loss: 1.1457, val_loss: 1.19531,  recall_at_k 0.16594, precision_at_k 0.42498\n",
            "[Iteration 1200/10000], train_loss: 1.08445, val_loss: 1.13514,  recall_at_k 0.18331, precision_at_k 0.4366\n",
            "[Iteration 1400/10000], train_loss: 1.03848, val_loss: 1.09006,  recall_at_k 0.20047, precision_at_k 0.45154\n",
            "[Iteration 1600/10000], train_loss: 1.00245, val_loss: 1.0547,  recall_at_k 0.21024, precision_at_k 0.45598\n",
            "[Iteration 1800/10000], train_loss: 0.9733, val_loss: 1.02601,  recall_at_k 0.22336, precision_at_k 0.47424\n",
            "[Iteration 2000/10000], train_loss: 0.94918, val_loss: 1.00216,  recall_at_k 0.23597, precision_at_k 0.48555\n",
            "[Iteration 2200/10000], train_loss: 0.92887, val_loss: 0.98193,  recall_at_k 0.24304, precision_at_k 0.48932\n",
            "[Iteration 2400/10000], train_loss: 0.91154, val_loss: 0.96453,  recall_at_k 0.25026, precision_at_k 0.497\n",
            "[Iteration 2600/10000], train_loss: 0.89662, val_loss: 0.94938,  recall_at_k 0.25774, precision_at_k 0.50388\n",
            "[Iteration 2800/10000], train_loss: 0.88367, val_loss: 0.93594,  recall_at_k 0.26315, precision_at_k 0.50741\n",
            "[Iteration 3000/10000], train_loss: 0.87227, val_loss: 0.9242,  recall_at_k 0.2697, precision_at_k 0.5129\n",
            "[Iteration 3200/10000], train_loss: 0.86233, val_loss: 0.91367,  recall_at_k 0.27386, precision_at_k 0.51582\n",
            "[Iteration 3400/10000], train_loss: 0.85356, val_loss: 0.90427,  recall_at_k 0.27723, precision_at_k 0.5175\n",
            "[Iteration 3600/10000], train_loss: 0.84585, val_loss: 0.8958,  recall_at_k 0.28125, precision_at_k 0.51914\n",
            "[Iteration 3800/10000], train_loss: 0.83904, val_loss: 0.88819,  recall_at_k 0.28371, precision_at_k 0.51953\n",
            "[Iteration 4000/10000], train_loss: 0.83303, val_loss: 0.88133,  recall_at_k 0.28707, precision_at_k 0.51971\n",
            "[Iteration 4200/10000], train_loss: 0.82772, val_loss: 0.87514,  recall_at_k 0.29093, precision_at_k 0.52279\n",
            "[Iteration 4400/10000], train_loss: 0.82317, val_loss: 0.86945,  recall_at_k 0.29451, precision_at_k 0.52528\n",
            "[Iteration 4600/10000], train_loss: 0.81895, val_loss: 0.86451,  recall_at_k 0.29825, precision_at_k 0.52487\n",
            "[Iteration 4800/10000], train_loss: 0.81528, val_loss: 0.85999,  recall_at_k 0.2997, precision_at_k 0.52591\n",
            "[Iteration 5000/10000], train_loss: 0.81218, val_loss: 0.85585,  recall_at_k 0.30239, precision_at_k 0.5292\n",
            "[Iteration 5200/10000], train_loss: 0.80943, val_loss: 0.85213,  recall_at_k 0.30505, precision_at_k 0.52846\n",
            "[Iteration 5400/10000], train_loss: 0.80701, val_loss: 0.84879,  recall_at_k 0.30586, precision_at_k 0.52877\n",
            "[Iteration 5600/10000], train_loss: 0.80491, val_loss: 0.84577,  recall_at_k 0.30606, precision_at_k 0.52897\n",
            "[Iteration 5800/10000], train_loss: 0.80309, val_loss: 0.84305,  recall_at_k 0.30683, precision_at_k 0.52862\n",
            "[Iteration 6000/10000], train_loss: 0.80151, val_loss: 0.84061,  recall_at_k 0.31057, precision_at_k 0.53158\n",
            "[Iteration 6200/10000], train_loss: 0.80013, val_loss: 0.83836,  recall_at_k 0.31236, precision_at_k 0.53356\n",
            "[Iteration 6400/10000], train_loss: 0.79902, val_loss: 0.83627,  recall_at_k 0.31339, precision_at_k 0.53372\n",
            "[Iteration 6600/10000], train_loss: 0.79791, val_loss: 0.83451,  recall_at_k 0.31451, precision_at_k 0.534\n",
            "[Iteration 6800/10000], train_loss: 0.79701, val_loss: 0.83284,  recall_at_k 0.31559, precision_at_k 0.53425\n",
            "[Iteration 7000/10000], train_loss: 0.79623, val_loss: 0.83133,  recall_at_k 0.31674, precision_at_k 0.53693\n",
            "[Iteration 7200/10000], train_loss: 0.79553, val_loss: 0.82995,  recall_at_k 0.31679, precision_at_k 0.53704\n",
            "[Iteration 7400/10000], train_loss: 0.79493, val_loss: 0.82866,  recall_at_k 0.31663, precision_at_k 0.53701\n",
            "[Iteration 7600/10000], train_loss: 0.7944, val_loss: 0.82749,  recall_at_k 0.31735, precision_at_k 0.53709\n",
            "[Iteration 7800/10000], train_loss: 0.79392, val_loss: 0.8264,  recall_at_k 0.31843, precision_at_k 0.53788\n",
            "[Iteration 8000/10000], train_loss: 0.79347, val_loss: 0.82542,  recall_at_k 0.32065, precision_at_k 0.54143\n",
            "[Iteration 8200/10000], train_loss: 0.7931, val_loss: 0.82446,  recall_at_k 0.32255, precision_at_k 0.543\n",
            "[Iteration 8400/10000], train_loss: 0.79275, val_loss: 0.82359,  recall_at_k 0.32316, precision_at_k 0.5431\n",
            "[Iteration 8600/10000], train_loss: 0.79243, val_loss: 0.82278,  recall_at_k 0.32326, precision_at_k 0.54343\n",
            "[Iteration 8800/10000], train_loss: 0.79218, val_loss: 0.82197,  recall_at_k 0.32352, precision_at_k 0.54195\n",
            "[Iteration 9000/10000], train_loss: 0.79185, val_loss: 0.8213,  recall_at_k 0.3242, precision_at_k 0.54373\n",
            "[Iteration 9200/10000], train_loss: 0.7916, val_loss: 0.82063,  recall_at_k 0.32508, precision_at_k 0.54474\n",
            "[Iteration 9400/10000], train_loss: 0.79135, val_loss: 0.82001,  recall_at_k 0.32511, precision_at_k 0.54455\n",
            "[Iteration 9600/10000], train_loss: 0.79112, val_loss: 0.81941,  recall_at_k 0.32551, precision_at_k 0.5446\n",
            "[Iteration 9800/10000], train_loss: 0.79091, val_loss: 0.81885,  recall_at_k 0.32602, precision_at_k 0.5464\n"
          ]
        }
      ]
    },
    {
      "cell_type": "markdown",
      "source": [
        "Plot (RMSE)"
      ],
      "metadata": {
        "id": "XFt8XF3ULW-P"
      }
    },
    {
      "cell_type": "code",
      "source": [
        "iters = [iter * ITERS_PER_EVAL for iter in range(len(train_losses))]\n",
        "plt.plot(iters, train_losses, label='train')\n",
        "plt.plot(iters, val_losses, label='validation')\n",
        "plt.xlabel('iteration')\n",
        "plt.ylabel('loss')\n",
        "plt.title('training and validation loss curves')\n",
        "plt.legend()\n",
        "plt.show()"
      ],
      "metadata": {
        "colab": {
          "base_uri": "https://localhost:8080/",
          "height": 472
        },
        "id": "DLYsiqPjkhGj",
        "outputId": "1377c6eb-bbf0-447e-d42c-f65582b205c1"
      },
      "execution_count": 34,
      "outputs": [
        {
          "output_type": "display_data",
          "data": {
            "text/plain": [
              "<Figure size 640x480 with 1 Axes>"
            ],
            "image/png": "[encoded data removed]"
          },
          "metadata": {}
        }
      ]
    },
    {
      "cell_type": "code",
      "source": [
        "f2 = plt.figure()\n",
        "plt.plot(iters, val_recall_at_ks, label='recall_at_k')\n",
        "plt.xlabel('iteration')\n",
        "plt.ylabel('recall_at_k')\n",
        "plt.title('recall_at_k curves')\n",
        "plt.show()"
      ],
      "metadata": {
        "colab": {
          "base_uri": "https://localhost:8080/",
          "height": 472
        },
        "id": "bqSrRoFAqzzA",
        "outputId": "b139e420-6faa-4fb9-9efb-4e2ff5898e7d"
      },
      "execution_count": 36,
      "outputs": [
        {
          "output_type": "display_data",
          "data": {
            "text/plain": [
              "<Figure size 640x480 with 1 Axes>"
            ],
            "image/png": "[encoded data removed]"
          },
          "metadata": {}
        }
      ]
    },
    {
      "cell_type": "markdown",
      "source": [
        "Evaluation (RMSE)"
      ],
      "metadata": {
        "id": "WBanW0yzL3sb"
      }
    },
    {
      "cell_type": "code",
      "source": [
        "model.eval()\n",
        "with torch.no_grad():\n",
        "    pred_ratings = model.forward(test_edge_index, test_edge_values)\n",
        "    recall_at_k, precision_at_k = get_recall_at_k(r_mat_test_edge_index,\n",
        "                                                  r_mat_test_edge_values,\n",
        "                                                  pred_ratings, 20)\n",
        "    print(f\"recall_at_k {round(recall_at_k, 5)}, precision_at_k {round(precision_at_k, 5)}\")"
      ],
      "metadata": {
        "colab": {
          "base_uri": "https://localhost:8080/"
        },
        "id": "ocGnEzsCL4SO",
        "outputId": "e0e3540e-5304-42fe-d93d-b321ed07171b"
      },
      "execution_count": 37,
      "outputs": [
        {
          "output_type": "stream",
          "name": "stdout",
          "text": [
            "recall_at_k 0.32359, precision_at_k 0.54308\n"
          ]
        }
      ]
    }
  ]
}