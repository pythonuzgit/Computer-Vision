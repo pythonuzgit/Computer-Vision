{
  "nbformat": 4,
  "nbformat_minor": 0,
  "metadata": {
    "colab": {
      "name": "Untitled3.ipynb",
      "provenance": [],
      "authorship_tag": "ABX9TyMWAUM8mgmcKj9rLnf1ph2s",
      "include_colab_link": true
    },
    "kernelspec": {
      "name": "python3",
      "display_name": "Python 3"
    },
    "language_info": {
      "name": "python"
    }
  },
  "cells": [
    {
      "cell_type": "markdown",
      "metadata": {
        "id": "view-in-github",
        "colab_type": "text"
      },
      "source": [
        "<a href=\"https://colab.research.google.com/github/pythonuzgit/elmurodov/blob/master/Image%20Classification%20with%20Deep%20Learning.ipynb\" target=\"_parent\"><img src=\"https://colab.research.google.com/assets/colab-badge.svg\" alt=\"Open In Colab\"/></a>"
      ]
    },
    {
      "cell_type": "code",
      "metadata": {
        "id": "eBx49UfMQZwt"
      },
      "source": [
        ""
      ],
      "execution_count": null,
      "outputs": []
    },
    {
      "cell_type": "code",
      "metadata": {
        "colab": {
          "base_uri": "https://localhost:8080/"
        },
        "id": "wFjb7bu7Uxhi",
        "outputId": "d1e5558f-bfad-4c63-fb7e-d291160fe5ac"
      },
      "source": [
        "from zipfile import ZipFile\n",
        "file_name = \"archive(5).zip\"\n",
        "with ZipFile(file_name, 'r') as zip:\n",
        "  zip.extractall()\n",
        "  print('Done')"
      ],
      "execution_count": 31,
      "outputs": [
        {
          "output_type": "stream",
          "text": [
            "Done\n"
          ],
          "name": "stdout"
        }
      ]
    },
    {
      "cell_type": "markdown",
      "metadata": {
        "id": "cOfbk8QP5nXF"
      },
      "source": [
        "Import Libraries"
      ]
    },
    {
      "cell_type": "code",
      "metadata": {
        "id": "OsbuQvqU7BaH"
      },
      "source": [
        "import pandas as pd\n",
        "import numpy as np\n",
        "import matplotlib.pyplot as plt\n",
        "import os\n",
        "import matplotlib.image as mplimg\n",
        "from matplotlib.pyplot import imshow\n",
        "\n",
        "from sklearn.preprocessing import LabelEncoder\n",
        "from sklearn.preprocessing import OneHotEncoder\n",
        "\n",
        "from keras import layers\n",
        "from keras.preprocessing import image\n",
        "from keras.applications.imagenet_utils import preprocess_input\n",
        "from keras.layers import Input, Dense, Activation, BatchNormalization, Flatten, Conv2D\n",
        "from keras.layers import AveragePooling2D, MaxPooling2D, Dropout\n",
        "\n",
        "from keras.models import Sequential\n"
      ],
      "execution_count": 7,
      "outputs": []
    },
    {
      "cell_type": "markdown",
      "metadata": {
        "id": "rGIyDYqo50sA"
      },
      "source": [
        "Import Dataset"
      ]
    },
    {
      "cell_type": "code",
      "metadata": {
        "colab": {
          "base_uri": "https://localhost:8080/",
          "height": 206
        },
        "id": "cE1x8M58VRub",
        "outputId": "01554b03-5bf2-4add-ede3-a5d1be61f21d"
      },
      "source": [
        "import pandas as pd\n",
        "df_train = pd.read_csv('/content/Fast_Furious_Insured/train.csv')\n",
        "df_train.head()"
      ],
      "execution_count": 8,
      "outputs": [
        {
          "output_type": "execute_result",
          "data": {
            "text/html": [
              "<div>\n",
              "<style scoped>\n",
              "    .dataframe tbody tr th:only-of-type {\n",
              "        vertical-align: middle;\n",
              "    }\n",
              "\n",
              "    .dataframe tbody tr th {\n",
              "        vertical-align: top;\n",
              "    }\n",
              "\n",
              "    .dataframe thead th {\n",
              "        text-align: right;\n",
              "    }\n",
              "</style>\n",
              "<table border=\"1\" class=\"dataframe\">\n",
              "  <thead>\n",
              "    <tr style=\"text-align: right;\">\n",
              "      <th></th>\n",
              "      <th>Image_path</th>\n",
              "      <th>Insurance_company</th>\n",
              "      <th>Cost_of_vehicle</th>\n",
              "      <th>Min_coverage</th>\n",
              "      <th>Expiry_date</th>\n",
              "      <th>Max_coverage</th>\n",
              "      <th>Condition</th>\n",
              "      <th>Amount</th>\n",
              "    </tr>\n",
              "  </thead>\n",
              "  <tbody>\n",
              "    <tr>\n",
              "      <th>0</th>\n",
              "      <td>img_4513976.jpg</td>\n",
              "      <td>BQ</td>\n",
              "      <td>41500.0</td>\n",
              "      <td>1037.5</td>\n",
              "      <td>2026-12-03</td>\n",
              "      <td>36142.68</td>\n",
              "      <td>0</td>\n",
              "      <td>0.0</td>\n",
              "    </tr>\n",
              "    <tr>\n",
              "      <th>1</th>\n",
              "      <td>img_7764995.jpg</td>\n",
              "      <td>BQ</td>\n",
              "      <td>50700.0</td>\n",
              "      <td>1267.5</td>\n",
              "      <td>2025-07-10</td>\n",
              "      <td>12753.00</td>\n",
              "      <td>1</td>\n",
              "      <td>6194.0</td>\n",
              "    </tr>\n",
              "    <tr>\n",
              "      <th>2</th>\n",
              "      <td>img_451308.jpg</td>\n",
              "      <td>A</td>\n",
              "      <td>49500.0</td>\n",
              "      <td>1237.5</td>\n",
              "      <td>2022-08-11</td>\n",
              "      <td>43102.68</td>\n",
              "      <td>0</td>\n",
              "      <td>0.0</td>\n",
              "    </tr>\n",
              "    <tr>\n",
              "      <th>3</th>\n",
              "      <td>img_7768372.jpg</td>\n",
              "      <td>A</td>\n",
              "      <td>33500.0</td>\n",
              "      <td>837.5</td>\n",
              "      <td>2022-08-02</td>\n",
              "      <td>8453.00</td>\n",
              "      <td>1</td>\n",
              "      <td>7699.0</td>\n",
              "    </tr>\n",
              "    <tr>\n",
              "      <th>4</th>\n",
              "      <td>img_7765274.jpg</td>\n",
              "      <td>AC</td>\n",
              "      <td>27600.0</td>\n",
              "      <td>690.0</td>\n",
              "      <td>2026-05-01</td>\n",
              "      <td>6978.00</td>\n",
              "      <td>1</td>\n",
              "      <td>8849.0</td>\n",
              "    </tr>\n",
              "  </tbody>\n",
              "</table>\n",
              "</div>"
            ],
            "text/plain": [
              "        Image_path Insurance_company  ...  Condition  Amount\n",
              "0  img_4513976.jpg                BQ  ...          0     0.0\n",
              "1  img_7764995.jpg                BQ  ...          1  6194.0\n",
              "2   img_451308.jpg                 A  ...          0     0.0\n",
              "3  img_7768372.jpg                 A  ...          1  7699.0\n",
              "4  img_7765274.jpg                AC  ...          1  8849.0\n",
              "\n",
              "[5 rows x 8 columns]"
            ]
          },
          "metadata": {
            "tags": []
          },
          "execution_count": 8
        }
      ]
    },
    {
      "cell_type": "code",
      "metadata": {
        "id": "Ewyd_QhWWLV4"
      },
      "source": [
        "df_test = pd.read_csv('/content/Fast_Furious_Insured/test.csv')"
      ],
      "execution_count": 9,
      "outputs": []
    },
    {
      "cell_type": "markdown",
      "metadata": {
        "id": "wn3Jupu2rutN"
      },
      "source": [
        "Preparing images"
      ]
    },
    {
      "cell_type": "code",
      "metadata": {
        "id": "lbJ0mEp-kAXJ"
      },
      "source": [
        "def prepareImages(data, m, dataset):\n",
        "  print('Preparing images')\n",
        "  X_train = np.zeros((m, 100, 100, 3))\n",
        "  count = 0\n",
        "  for fig in data['Image_path']:\n",
        "    #load images into Images of the size 100x100x3\n",
        "    img = image.load_img('/content/Fast_Furious_Insured/' + dataset + '/' + fig, \n",
        "                         target_size = (100, 100, 3))\n",
        "    \n",
        "    x = image.img_to_array(img)\n",
        "    x = preprocess_input(x)\n",
        "\n",
        "    X_train[count] = x\n",
        "    if (count%500==0):\n",
        "      print('Preprocessing image:', count + 1, \",\", fig)\n",
        "\n",
        "    count +=1\n",
        "\n",
        "  return X_train     \n"
      ],
      "execution_count": 10,
      "outputs": []
    },
    {
      "cell_type": "markdown",
      "metadata": {
        "id": "JOzMgmqymkim"
      },
      "source": [
        "Preparation of Labels"
      ]
    },
    {
      "cell_type": "code",
      "metadata": {
        "id": "0NTIuQQ-miRY"
      },
      "source": [
        "def prepare_labels(y):\n",
        "  values = np.array(y)\n",
        "  label_encoder = LabelEncoder()\n",
        "  integer_encoded = label_encoder.fit_transform(values)\n",
        "\n",
        "  onehot_encoder = OneHotEncoder(sparse = False)\n",
        "  integer_encoded = integer_encoded.reshape(len(integer_encoded), 1)\n",
        "\n",
        "  onehot_encoded = onehot_encoder.fit_transform(integer_encoded)\n",
        "\n",
        "\n",
        "  y = onehot_encoded\n",
        "  return y, label_encoder"
      ],
      "execution_count": 11,
      "outputs": []
    },
    {
      "cell_type": "markdown",
      "metadata": {
        "id": "rr2a4pj_6H73"
      },
      "source": [
        "Normalize the data"
      ]
    },
    {
      "cell_type": "code",
      "metadata": {
        "colab": {
          "base_uri": "https://localhost:8080/"
        },
        "id": "R1Hvxs8jonS3",
        "outputId": "07360899-3cae-406a-a1cc-87f4441e8628"
      },
      "source": [
        "X = prepareImages(df_train, df_train.shape[0], \"trainImages\")\n",
        "\n",
        "X/=255"
      ],
      "execution_count": 12,
      "outputs": [
        {
          "output_type": "stream",
          "text": [
            "Preparing images\n",
            "Preprocessing image: 1 , img_4513976.jpg\n",
            "Preprocessing image: 501 , img_4637617.jpg\n",
            "Preprocessing image: 1001 , img_4515853.jpg\n"
          ],
          "name": "stdout"
        }
      ]
    },
    {
      "cell_type": "markdown",
      "metadata": {
        "id": "T6kRdiUV6RV6"
      },
      "source": [
        "Let's look at some samples"
      ]
    },
    {
      "cell_type": "code",
      "metadata": {
        "colab": {
          "base_uri": "https://localhost:8080/",
          "height": 248
        },
        "id": "ZgC9ugnI6Szn",
        "outputId": "f61309dc-2c00-4efe-8b52-497040a1e24e"
      },
      "source": [
        "plt.imshow(X[0][:,:,0], cmap=\"gray\")\n",
        "plt.axis(\"off\")\n",
        "plt.show()"
      ],
      "execution_count": 33,
      "outputs": [
        {
          "output_type": "display_data",
          "data": {
            "image/png": "[encoded data removed]",
            "text/plain": [
              "<Figure size 432x288 with 1 Axes>"
            ]
          },
          "metadata": {
            "tags": [],
            "needs_background": "light"
          }
        }
      ]
    },
    {
      "cell_type": "markdown",
      "metadata": {
        "id": "m6Ja2wJt7kCT"
      },
      "source": [
        "Label Encoding"
      ]
    },
    {
      "cell_type": "code",
      "metadata": {
        "colab": {
          "base_uri": "https://localhost:8080/"
        },
        "id": "dKtp5SU99DZE",
        "outputId": "ba6dc15f-6c9f-4956-b4cf-b882f1de8ed6"
      },
      "source": [
        "y, label_encoder = prepare_labels(df_train['Condition'])\n",
        "\n",
        "y.shape"
      ],
      "execution_count": 13,
      "outputs": [
        {
          "output_type": "execute_result",
          "data": {
            "text/plain": [
              "(1399, 2)"
            ]
          },
          "metadata": {
            "tags": []
          },
          "execution_count": 13
        }
      ]
    },
    {
      "cell_type": "markdown",
      "metadata": {
        "id": "_QZ5L9W97y8U"
      },
      "source": [
        "Implementing "
      ]
    },
    {
      "cell_type": "code",
      "metadata": {
        "colab": {
          "base_uri": "https://localhost:8080/"
        },
        "id": "tNRwYCO_VEYy",
        "outputId": "bf761ca8-c0fd-425d-9fcd-4aede1958a2d"
      },
      "source": [
        "model = Sequential()\n",
        "\n",
        "model.add(Conv2D(32, (7, 7), strides = (1, 1), name = 'conv0', input_shape = (100, 100, 3)))\n",
        "\n",
        "model.add(BatchNormalization(axis = 3, name = 'bn0'))\n",
        "model.add(Activation('relu'))\n",
        "\n",
        "model.add(MaxPooling2D((2, 2), name='max_pool'))\n",
        "model.add(Conv2D(64, (3, 3), strides = (1,1), name=\"conv1\"))\n",
        "model.add(Activation('relu'))\n",
        "model.add(AveragePooling2D((3, 3), name='avg_pool'))\n",
        "\n",
        "model.add(Flatten())\n",
        "model.add(Dense(500, activation=\"relu\", name='rl'))\n",
        "model.add(Dropout(0.8))\n",
        "model.add(Dense(y.shape[1], activation='softmax', name='sm'))\n",
        "\n",
        "model.compile(loss='categorical_crossentropy', optimizer=\"adam\", metrics=['accuracy'])\n",
        "model.summary()"
      ],
      "execution_count": 14,
      "outputs": [
        {
          "output_type": "stream",
          "text": [
            "Model: \"sequential\"\n",
            "_________________________________________________________________\n",
            "Layer (type)                 Output Shape              Param #   \n",
            "=================================================================\n",
            "conv0 (Conv2D)               (None, 94, 94, 32)        4736      \n",
            "_________________________________________________________________\n",
            "bn0 (BatchNormalization)     (None, 94, 94, 32)        128       \n",
            "_________________________________________________________________\n",
            "activation (Activation)      (None, 94, 94, 32)        0         \n",
            "_________________________________________________________________\n",
            "max_pool (MaxPooling2D)      (None, 47, 47, 32)        0         \n",
            "_________________________________________________________________\n",
            "conv1 (Conv2D)               (None, 45, 45, 64)        18496     \n",
            "_________________________________________________________________\n",
            "activation_1 (Activation)    (None, 45, 45, 64)        0         \n",
            "_________________________________________________________________\n",
            "avg_pool (AveragePooling2D)  (None, 15, 15, 64)        0         \n",
            "_________________________________________________________________\n",
            "flatten (Flatten)            (None, 14400)             0         \n",
            "_________________________________________________________________\n",
            "rl (Dense)                   (None, 500)               7200500   \n",
            "_________________________________________________________________\n",
            "dropout (Dropout)            (None, 500)               0         \n",
            "_________________________________________________________________\n",
            "sm (Dense)                   (None, 2)                 1002      \n",
            "=================================================================\n",
            "Total params: 7,224,862\n",
            "Trainable params: 7,224,798\n",
            "Non-trainable params: 64\n",
            "_________________________________________________________________\n"
          ],
          "name": "stdout"
        }
      ]
    },
    {
      "cell_type": "code",
      "metadata": {
        "colab": {
          "base_uri": "https://localhost:8080/"
        },
        "id": "4N5AE2diVXAv",
        "outputId": "dae6ceaa-0fb2-46ea-fcb4-4e8962cf6fc5"
      },
      "source": [
        "history = model.fit(X, y, epochs = 25, batch_size = 100, verbose = 1) \n",
        "\n"
      ],
      "execution_count": 15,
      "outputs": [
        {
          "output_type": "stream",
          "text": [
            "Epoch 1/25\n",
            "14/14 [==============================] - 45s 2s/step - loss: 2.1111 - accuracy: 0.8320\n",
            "Epoch 2/25\n",
            "14/14 [==============================] - 26s 2s/step - loss: 0.4452 - accuracy: 0.9200\n",
            "Epoch 3/25\n",
            "14/14 [==============================] - 25s 2s/step - loss: 0.3065 - accuracy: 0.9325\n",
            "Epoch 4/25\n",
            "14/14 [==============================] - 25s 2s/step - loss: 0.2640 - accuracy: 0.9317\n",
            "Epoch 5/25\n",
            "14/14 [==============================] - 25s 2s/step - loss: 0.2579 - accuracy: 0.9316\n",
            "Epoch 6/25\n",
            "14/14 [==============================] - 26s 2s/step - loss: 0.2447 - accuracy: 0.9272\n",
            "Epoch 7/25\n",
            "14/14 [==============================] - 26s 2s/step - loss: 0.2288 - accuracy: 0.9293\n",
            "Epoch 8/25\n",
            "14/14 [==============================] - 26s 2s/step - loss: 0.2093 - accuracy: 0.9303\n",
            "Epoch 9/25\n",
            "14/14 [==============================] - 26s 2s/step - loss: 0.2029 - accuracy: 0.9270\n",
            "Epoch 10/25\n",
            "14/14 [==============================] - 26s 2s/step - loss: 0.1733 - accuracy: 0.9369\n",
            "Epoch 11/25\n",
            "14/14 [==============================] - 26s 2s/step - loss: 0.1882 - accuracy: 0.9274\n",
            "Epoch 12/25\n",
            "14/14 [==============================] - 26s 2s/step - loss: 0.1737 - accuracy: 0.9319\n",
            "Epoch 13/25\n",
            "14/14 [==============================] - 26s 2s/step - loss: 0.1719 - accuracy: 0.9349\n",
            "Epoch 14/25\n",
            "14/14 [==============================] - 26s 2s/step - loss: 0.1455 - accuracy: 0.9417\n",
            "Epoch 15/25\n",
            "14/14 [==============================] - 26s 2s/step - loss: 0.1510 - accuracy: 0.9396\n",
            "Epoch 16/25\n",
            "14/14 [==============================] - 26s 2s/step - loss: 0.1524 - accuracy: 0.9369\n",
            "Epoch 17/25\n",
            "14/14 [==============================] - 26s 2s/step - loss: 0.1154 - accuracy: 0.9481\n",
            "Epoch 18/25\n",
            "14/14 [==============================] - 26s 2s/step - loss: 0.1182 - accuracy: 0.9487\n",
            "Epoch 19/25\n",
            "14/14 [==============================] - 26s 2s/step - loss: 0.1068 - accuracy: 0.9520\n",
            "Epoch 20/25\n",
            "14/14 [==============================] - 26s 2s/step - loss: 0.1012 - accuracy: 0.9600\n",
            "Epoch 21/25\n",
            "14/14 [==============================] - 26s 2s/step - loss: 0.0914 - accuracy: 0.9655\n",
            "Epoch 22/25\n",
            "14/14 [==============================] - 26s 2s/step - loss: 0.0919 - accuracy: 0.9690\n",
            "Epoch 23/25\n",
            "14/14 [==============================] - 26s 2s/step - loss: 0.1025 - accuracy: 0.9664\n",
            "Epoch 24/25\n",
            "14/14 [==============================] - 28s 2s/step - loss: 0.0875 - accuracy: 0.9621\n",
            "Epoch 25/25\n",
            "14/14 [==============================] - 26s 2s/step - loss: 0.0702 - accuracy: 0.9676\n"
          ],
          "name": "stdout"
        }
      ]
    },
    {
      "cell_type": "markdown",
      "metadata": {
        "id": "5G9iC2Ba22HG"
      },
      "source": [
        "Evaluate the model"
      ]
    },
    {
      "cell_type": "markdown",
      "metadata": {
        "id": "EN70_28B3JJA"
      },
      "source": [
        "Plot the accuracy curve for training"
      ]
    },
    {
      "cell_type": "code",
      "metadata": {
        "colab": {
          "base_uri": "https://localhost:8080/",
          "height": 295
        },
        "id": "4xpgI4FgfgkI",
        "outputId": "f27971d7-87ce-4f3b-b140-7507c2f879e8"
      },
      "source": [
        "plt.plot(history.history['accuracy'])\n",
        "plt.title('Model accuracy')\n",
        "plt.ylabel('Accuracy')\n",
        "plt.xlabel('Epoch')\n",
        "plt.show()"
      ],
      "execution_count": 17,
      "outputs": [
        {
          "output_type": "display_data",
          "data": {
            "image/png": "[encoded data removed]",
            "text/plain": [
              "<Figure size 432x288 with 1 Axes>"
            ]
          },
          "metadata": {
            "tags": [],
            "needs_background": "light"
          }
        }
      ]
    },
    {
      "cell_type": "markdown",
      "metadata": {
        "id": "n9ROK5qa3CCT"
      },
      "source": [
        "Plot the loss curve for training"
      ]
    },
    {
      "cell_type": "code",
      "metadata": {
        "colab": {
          "base_uri": "https://localhost:8080/",
          "height": 295
        },
        "id": "aN-6LlK1V2ga",
        "outputId": "3f96ca4f-8756-4e33-e8f8-6ecd3cb95271"
      },
      "source": [
        "plt.plot(history.history['loss'], color='r', label=\"Train Loss\")\n",
        "plt.title(\"Train Loss\")\n",
        "plt.xlabel(\"Number of Epochs\")\n",
        "plt.ylabel(\"Loss\")\n",
        "plt.legend()\n",
        "plt.show()\n"
      ],
      "execution_count": 18,
      "outputs": [
        {
          "output_type": "display_data",
          "data": {
            "image/png": "[encoded data removed]",
            "text/plain": [
              "<Figure size 432x288 with 1 Axes>"
            ]
          },
          "metadata": {
            "tags": [],
            "needs_background": "light"
          }
        }
      ]
    },
    {
      "cell_type": "code",
      "metadata": {
        "colab": {
          "base_uri": "https://localhost:8080/"
        },
        "id": "zFVs1-pI2ZLk",
        "outputId": "8f22a227-11bd-4e1a-aee4-175ba3fc9975"
      },
      "source": [
        "print('Train accuracy of the model: ',history.history['accuracy'][-1])"
      ],
      "execution_count": 19,
      "outputs": [
        {
          "output_type": "stream",
          "text": [
            "Train accuracy of the model:  0.9656897783279419\n"
          ],
          "name": "stdout"
        }
      ]
    },
    {
      "cell_type": "code",
      "metadata": {
        "colab": {
          "base_uri": "https://localhost:8080/"
        },
        "id": "griRLTuK2hSH",
        "outputId": "2ebad426-50e8-4f9b-c142-b6b68d5673e6"
      },
      "source": [
        "print('Train loss of the model: ',history.history['loss'][-1])\n"
      ],
      "execution_count": 20,
      "outputs": [
        {
          "output_type": "stream",
          "text": [
            "Train loss of the model:  0.07189340144395828\n"
          ],
          "name": "stdout"
        }
      ]
    },
    {
      "cell_type": "markdown",
      "metadata": {
        "id": "ODwCJx3b3kwg"
      },
      "source": [
        "Predict Test Data"
      ]
    },
    {
      "cell_type": "code",
      "metadata": {
        "colab": {
          "base_uri": "https://localhost:8080/"
        },
        "id": "Wdj6gkp93nIu",
        "outputId": "a7b67619-a689-468a-8e77-736c69822c6b"
      },
      "source": [
        "test = os.listdir(\"/content/Fast_Furious_Insured/testImages\")\n",
        "print(len(test))"
      ],
      "execution_count": 22,
      "outputs": [
        {
          "output_type": "stream",
          "text": [
            "600\n"
          ],
          "name": "stdout"
        }
      ]
    },
    {
      "cell_type": "code",
      "metadata": {
        "id": "074VJ4eg4NtW"
      },
      "source": [
        "col = ['Image_path']\n",
        "test_data = pd.DataFrame(test, columns=col)\n",
        "test_data['Condition'] = ''"
      ],
      "execution_count": 24,
      "outputs": []
    },
    {
      "cell_type": "code",
      "metadata": {
        "colab": {
          "base_uri": "https://localhost:8080/"
        },
        "id": "oY_c9eQb4-L1",
        "outputId": "ceaf7608-47f6-4d4a-8371-d5b180387a16"
      },
      "source": [
        "x_test = prepareImages(df_test, df_test.shape[0], \"testImages\")\n",
        "x_test /= 255"
      ],
      "execution_count": 26,
      "outputs": [
        {
          "output_type": "stream",
          "text": [
            "Preparing images\n",
            "Preprocessing image: 1 , img_4538519.jpg\n",
            "Preprocessing image: 501 , img_4634976.jpg\n"
          ],
          "name": "stdout"
        }
      ]
    },
    {
      "cell_type": "code",
      "metadata": {
        "colab": {
          "base_uri": "https://localhost:8080/"
        },
        "id": "KmnY2mmk5WMM",
        "outputId": "5a9b49bf-f28d-4f7b-9fe3-96f1eae8cf1d"
      },
      "source": [
        "predictions = model.predict(np.array(x_test), verbose=1)"
      ],
      "execution_count": 27,
      "outputs": [
        {
          "output_type": "stream",
          "text": [
            "19/19 [==============================] - 4s 161ms/step\n"
          ],
          "name": "stdout"
        }
      ]
    }
  ]
}